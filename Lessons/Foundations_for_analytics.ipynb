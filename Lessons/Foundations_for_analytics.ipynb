{
 "cells": [
  {
   "cell_type": "code",
   "execution_count": 1,
   "metadata": {},
   "outputs": [],
   "source": [
    "def text_from_book(text):\n",
    "    import re\n",
    "    arr = [i.replace('\\\\', '') for i in text.split('\\n')]\n",
    "    pattern = r'^\\d{1,3} '\n",
    "    for i, j in enumerate(arr):\n",
    "        arr[i] = re.sub(pattern, '', j)\n",
    "    return '\\n'.join(arr)\n",
    "    "
   ]
  },
  {
   "cell_type": "code",
   "execution_count": 1,
   "metadata": {},
   "outputs": [
    {
     "name": "stdout",
     "output_type": "stream",
     "text": [
      "Hi, 'Ruslan'\n"
     ]
    }
   ],
   "source": [
    "print('Hi, \\'Ruslan\\'')"
   ]
  },
  {
   "cell_type": "code",
   "execution_count": 2,
   "metadata": {},
   "outputs": [
    {
     "name": "stdout",
     "output_type": "stream",
     "text": [
      "Output #7: 3.074\n"
     ]
    }
   ],
   "source": [
    "print(\"Output #7: {0:.3f}\".format(8.3/2.7))"
   ]
  },
  {
   "cell_type": "code",
   "execution_count": 3,
   "metadata": {},
   "outputs": [
    {
     "name": "stdout",
     "output_type": "stream",
     "text": [
      "Output #14: I'm enjoying learning Python.\n"
     ]
    }
   ],
   "source": [
    "print(\"Output #14: {0:s}\".format('I\\'m enjoying learning Python.'))"
   ]
  },
  {
   "cell_type": "code",
   "execution_count": 4,
   "metadata": {},
   "outputs": [
    {
     "name": "stdout",
     "output_type": "stream",
     "text": [
      "Output #19: She is very very very very beautiful.\n"
     ]
    }
   ],
   "source": [
    "print(\"Output #19: {0:s} {1:s}{2:s}\".format(\"She is\", \"very \"*4, \"beautiful.\"))"
   ]
  },
  {
   "cell_type": "code",
   "execution_count": 5,
   "metadata": {},
   "outputs": [
    {
     "data": {
      "text/plain": [
       "['My', 'deliverable', 'is due in May']"
      ]
     },
     "execution_count": 5,
     "metadata": {},
     "output_type": "execute_result"
    }
   ],
   "source": [
    "string1 = \"My deliverable is due in May\"\n",
    "string1_list2 = string1.split(\" \",2)\n",
    "string1_list2"
   ]
  },
  {
   "cell_type": "code",
   "execution_count": 6,
   "metadata": {},
   "outputs": [
    {
     "name": "stdout",
     "output_type": "stream",
     "text": [
      "Output #30: $$Here's another string that has unwanted characters.__---++\n"
     ]
    }
   ],
   "source": [
    "string4 = \"$$Here's another string that has unwanted characters.__---++\"\n",
    "print(\"Output #30: {0:s}\".format(string4))"
   ]
  },
  {
   "cell_type": "code",
   "execution_count": 7,
   "metadata": {},
   "outputs": [
    {
     "name": "stdout",
     "output_type": "stream",
     "text": [
      "Output #38: 2\n"
     ]
    }
   ],
   "source": [
    "import re\n",
    "string = \"The quick brown fox jumps over the lazy dog.\"\n",
    "string_list = string.split()\n",
    "pattern = re.compile(r\"The\", re.I)\n",
    "count = 0\n",
    "for word in string_list:\n",
    "    if pattern.search(word):\n",
    "        count += 1\n",
    "print(\"Output #38: {0:d}\".format(count))"
   ]
  },
  {
   "cell_type": "code",
   "execution_count": 8,
   "metadata": {},
   "outputs": [
    {
     "name": "stdout",
     "output_type": "stream",
     "text": [
      "['AV', 'AV']\n"
     ]
    }
   ],
   "source": [
    "pattern = re.compile(r'AV')\n",
    "result = pattern.findall('AV Analytics Vidhya AVa')\n",
    "print(result)"
   ]
  },
  {
   "cell_type": "code",
   "execution_count": 9,
   "metadata": {},
   "outputs": [
    {
     "name": "stdout",
     "output_type": "stream",
     "text": [
      "Output #41: today: 051520\n"
     ]
    }
   ],
   "source": [
    "today = __import__('datetime').date.today()\n",
    "print(\"Output #41: today: {0:%m%d%y}\".format(today))\n"
   ]
  },
  {
   "cell_type": "code",
   "execution_count": 10,
   "metadata": {},
   "outputs": [
    {
     "name": "stdout",
     "output_type": "stream",
     "text": [
      "2020-05-15\n"
     ]
    }
   ],
   "source": [
    "print(today)"
   ]
  },
  {
   "cell_type": "code",
   "execution_count": 1,
   "metadata": {},
   "outputs": [],
   "source": [
    "import datetime\n",
    "import time"
   ]
  },
  {
   "cell_type": "code",
   "execution_count": 2,
   "metadata": {},
   "outputs": [
    {
     "name": "stdout",
     "output_type": "stream",
     "text": [
      "До нового года: 197 дней 6 часа 56 мин 11 сек.\n"
     ]
    }
   ],
   "source": [
    "# while now < NY:\n",
    "time.sleep(1)\n",
    "now = datetime.datetime.today()\n",
    "NY = datetime.datetime(2021,1,1)\n",
    "d = NY-now\n",
    "mm, ss = divmod(d.seconds, 60)\n",
    "hh, mm = divmod(mm, 60)\n",
    "print('До нового года: {} дней {} часа {} мин {} сек.'.format(d.days, hh, mm, ss))"
   ]
  },
  {
   "cell_type": "code",
   "execution_count": 41,
   "metadata": {},
   "outputs": [
    {
     "data": {
      "text/plain": [
       "True"
      ]
     },
     "execution_count": 41,
     "metadata": {},
     "output_type": "execute_result"
    }
   ],
   "source": [
    "def is_prime(num):\n",
    "    return len([i for i in range(1, num + 1) if num % i == 0]) in (1, 2)\n",
    "\n",
    "is_prime(1)"
   ]
  },
  {
   "cell_type": "code",
   "execution_count": 48,
   "metadata": {},
   "outputs": [
    {
     "name": "stdout",
     "output_type": "stream",
     "text": [
      ".{8,}\n"
     ]
    }
   ],
   "source": [
    "flag = True\n",
    "patterns = [r'.{8,}', r'\\d{1,}', r'[A-Z]{1,}', r'[a-z]{1,}']\n",
    "for i in patterns:\n",
    "    if re.search(i, 'abC1pu') is None:\n",
    "        print(i)\n",
    " "
   ]
  },
  {
   "cell_type": "code",
   "execution_count": 58,
   "metadata": {},
   "outputs": [
    {
     "data": {
      "text/plain": [
       "3"
      ]
     },
     "execution_count": 58,
     "metadata": {},
     "output_type": "execute_result"
    }
   ],
   "source": [
    "import numpy as np\n",
    "\n",
    "sum(np.array(list('bike')) == np.array(list('hike')))"
   ]
  },
  {
   "cell_type": "code",
   "execution_count": 65,
   "metadata": {},
   "outputs": [],
   "source": [
    "text = re.sub(r' \\,\\.!\\?\\-', '', 'А роза упала на лапу Азора.').lower()"
   ]
  },
  {
   "cell_type": "code",
   "execution_count": 66,
   "metadata": {},
   "outputs": [],
   "source": [
    "text = text.replace('.', '').replace(' ', '')"
   ]
  },
  {
   "cell_type": "code",
   "execution_count": 68,
   "metadata": {},
   "outputs": [
    {
     "data": {
      "text/plain": [
       "True"
      ]
     },
     "execution_count": 68,
     "metadata": {},
     "output_type": "execute_result"
    }
   ],
   "source": [
    "text == text[::-1]"
   ]
  },
  {
   "cell_type": "code",
   "execution_count": 72,
   "metadata": {},
   "outputs": [
    {
     "name": "stdout",
     "output_type": "stream",
     "text": [
      "89\n"
     ]
    }
   ],
   "source": [
    "import math\n",
    "def solve(a, b, c):\n",
    "    discr = (b ** 2) - 4 * a * c\n",
    "\n",
    "    if discr > 0:\n",
    "        x1 = (-b + math.sqrt(discr)) / (2 * a)\n",
    "        x2 = (-b - math.sqrt(discr)) / (2 * a)\n",
    "        return discr\n",
    "        return x1, x2\n",
    "    elif discr == 0:\n",
    "        x = -b / (2 * a)\n",
    "    else:\n",
    "        print(\"Нет корней\")\n",
    "\n",
    "print(solve(-2, 7, 5))\n",
    "\n"
   ]
  },
  {
   "cell_type": "code",
   "execution_count": 73,
   "metadata": {},
   "outputs": [
    {
     "data": {
      "text/plain": [
       "89"
      ]
     },
     "execution_count": 73,
     "metadata": {},
     "output_type": "execute_result"
    }
   ],
   "source": [
    "49- 4 * -2 * 5"
   ]
  },
  {
   "cell_type": "code",
   "execution_count": 1,
   "metadata": {},
   "outputs": [],
   "source": [
    "from fake_headers import Headers"
   ]
  },
  {
   "cell_type": "code",
   "execution_count": 79,
   "metadata": {},
   "outputs": [
    {
     "name": "stdout",
     "output_type": "stream",
     "text": [
      "{'Accept': '*/*', 'Connection': 'keep-alive', 'User-Agent': 'Mozilla/5.0 (Macintosh; Intel Mac OS X 10_10_6) AppleWebKit/537.36 (KHTML, like Gecko) Chrome/66.0.3359.117 Safari/537.36 OPR/53.0.2907.99', 'Cache-Control': 'max-age=0', 'Referer': 'https://google.com'}\n",
      "\n",
      "\n",
      "\n",
      "{'Accept': '*/*', 'Connection': 'keep-alive', 'User-Agent': 'Mozilla/5.0 (Windows NT 10.0; WOW64) AppleWebKit/537.36 (KHTML, like Gecko) Chrome/68.0.3440.1805 Safari/537.36', 'Accept-Encoding': 'gzip, deflate, br', 'Accept-Language': 'en-US;q=0.5,en;q=0.3', 'Referer': 'https://google.com', 'Pragma': 'no-cache'}\n",
      "\n",
      "\n",
      "\n",
      "{'Accept': '*/*', 'Connection': 'keep-alive', 'User-Agent': 'Mozilla/5.0 (Windows NT 6.3; Win64; x64; rv:53.0) Gecko/20100101 Firefox/53.0', 'Accept-Encoding': 'gzip, deflate, br', 'Accept-Language': 'en-US;q=0.5,en;q=0.3', 'Cache-Control': 'max-age=0', 'Pragma': 'no-cache'}\n",
      "\n",
      "\n",
      "\n",
      "{'Accept': '*/*', 'Connection': 'keep-alive', 'User-Agent': 'Mozilla/5.0 (X11; Linux x86_64) AppleWebKit/537.36 (KHTML, like Gecko) Chrome/64.0.3282.186 Safari/537.36 OPR/51.0.2830.40', 'Accept-Encoding': 'gzip, deflate, br', 'Accept-Language': 'en-US;q=0.5,en;q=0.3', 'Cache-Control': 'max-age=0', 'DNT': '1', 'Upgrade-Insecure-Requests': '1', 'Referer': 'https://google.com', 'Pragma': 'no-cache'}\n",
      "\n",
      "\n",
      "\n",
      "{'Accept': '*/*', 'Connection': 'keep-alive', 'User-Agent': 'Mozilla/5.0 (Macintosh; Intel Mac OS X 10_14_1) AppleWebKit/537.36 (KHTML, like Gecko) Chrome/66.0.3359.181 Safari/537.36', 'Accept-Encoding': 'gzip, deflate, br', 'Upgrade-Insecure-Requests': '1', 'Pragma': 'no-cache'}\n",
      "\n",
      "\n",
      "\n",
      "{'Accept': '*/*', 'Connection': 'keep-alive', 'User-Agent': 'Mozilla/5.0 (Windows NT 10.0; WOW64; rv:52.5.2) Gecko/20100101 Firefox/52.5.2', 'Accept-Language': 'en-US;q=0.5,en;q=0.3', 'Cache-Control': 'max-age=0', 'Upgrade-Insecure-Requests': '1', 'Referer': 'https://google.com', 'Pragma': 'no-cache'}\n",
      "\n",
      "\n",
      "\n",
      "{'Accept': '*/*', 'Connection': 'keep-alive', 'User-Agent': 'Mozilla/5.0 (Macintosh; Intel Mac OS X 10_14_1) AppleWebKit/537.36 (KHTML, like Gecko) Chrome/70.0.3538.102 Safari/537.36 OPR/56.0.3051.116', 'Accept-Language': 'en-US;q=0.5,en;q=0.3', 'Cache-Control': 'max-age=0', 'Referer': 'https://google.com'}\n",
      "\n",
      "\n",
      "\n",
      "{'Accept': '*/*', 'Connection': 'keep-alive', 'User-Agent': 'Mozilla/5.0 (Macintosh; Intel Mac OS X 10_13_3; rv:53.0) Gecko/20100101 Firefox/53.0', 'Accept-Encoding': 'gzip, deflate, br', 'Cache-Control': 'max-age=0'}\n",
      "\n",
      "\n",
      "\n",
      "{'Accept': '*/*', 'Connection': 'keep-alive', 'User-Agent': 'Mozilla/5.0 (Macintosh; Intel Mac OS X 10_10_6; rv:52.6.0) Gecko/20100101 Firefox/52.6.0', 'Accept-Encoding': 'gzip, deflate, br', 'Accept-Language': 'en-US;q=0.5,en;q=0.3', 'Cache-Control': 'max-age=0', 'Upgrade-Insecure-Requests': '1', 'Pragma': 'no-cache'}\n",
      "\n",
      "\n",
      "\n",
      "{'Accept': '*/*', 'Connection': 'keep-alive', 'User-Agent': 'Mozilla/5.0 (X11; Linux i686) AppleWebKit/537.36 (KHTML, like Gecko) Chrome/70.0.3538.77 Safari/537.36', 'Accept-Encoding': 'gzip, deflate, br', 'Pragma': 'no-cache'}\n",
      "\n",
      "\n",
      "\n"
     ]
    }
   ],
   "source": [
    "header = Headers(headers=True)\n",
    "for i in range(10):\n",
    "    print(header.generate())\n",
    "    print('\\n\\n')"
   ]
  },
  {
   "cell_type": "code",
   "execution_count": 80,
   "metadata": {},
   "outputs": [
    {
     "data": {
      "text/plain": [
       "5"
      ]
     },
     "execution_count": 80,
     "metadata": {},
     "output_type": "execute_result"
    }
   ],
   "source": [
    "import random\n",
    "random.randint(0, 10)"
   ]
  },
  {
   "cell_type": "code",
   "execution_count": 83,
   "metadata": {},
   "outputs": [
    {
     "name": "stdout",
     "output_type": "stream",
     "text": [
      "Output #92: [[461, 1, 1, 290], [578, 1, 1, 290], [22, 6, 6, 444], [123, 2, 2, 444], [236, 5, 5, 678], [354, 4, 4, 678]]\n"
     ]
    }
   ],
   "source": [
    "from operator import itemgetter\n",
    "\n",
    "my_lists = [[123,2,2,444], [22,6,6,444], [354,4,4,678], [236,5,5,678], \\\n",
    "[578,1,1,290], [461,1,1,290]]\n",
    "my_lists_sorted_by_index_3_and_0 = sorted(my_lists, key=itemgetter(3,0))\n",
    "print(\"Output #92: {}\".format(my_lists_sorted_by_index_3_and_0))\n"
   ]
  },
  {
   "cell_type": "code",
   "execution_count": 86,
   "metadata": {},
   "outputs": [],
   "source": [
    "itemgetter?"
   ]
  },
  {
   "cell_type": "code",
   "execution_count": 88,
   "metadata": {},
   "outputs": [
    {
     "name": "stdout",
     "output_type": "stream",
     "text": [
      "operator.itemgetter([123, 2, 2, 444], 0)\n"
     ]
    }
   ],
   "source": [
    "itemgetter([123,2,2,444],0)"
   ]
  },
  {
   "cell_type": "code",
   "execution_count": 4,
   "metadata": {},
   "outputs": [
    {
     "name": "stdout",
     "output_type": "stream",
     "text": [
      "C:\\Users\\AmanovRA\\Anaconda3\\Work-work ['.ipynb_checkpoints', 'Bloggers_analysis', 'Lessons', 'Parsings', 'Place_Engelsa_analysus', 'Re_telefon', 'Statistics', 'Temp'] []\n",
      "C:\\Users\\AmanovRA\\Anaconda3\\Work-work\\.ipynb_checkpoints [] ['first-checkpoint.ipynb']\n",
      "C:\\Users\\AmanovRA\\Anaconda3\\Work-work\\Bloggers_analysis ['.ipynb_checkpoints', 'Bloggers30042020', 'новые'] ['bloggers_30042020.ipynb', 'milana_1.xlsx', 'milana_2.xlsx', 'новые.7z']\n",
      "C:\\Users\\AmanovRA\\Anaconda3\\Work-work\\Bloggers_analysis\\.ipynb_checkpoints [] ['bloggers_30042020-checkpoint.ipynb']\n",
      "C:\\Users\\AmanovRA\\Anaconda3\\Work-work\\Bloggers_analysis\\Bloggers30042020 [] ['alimshikinst_1.xlsx', 'alimshikinst_2.xlsx', 'Anastasha_1.xlsx', 'Anastasha_2.xlsx', 'bukinayana_1.xlsx', 'bukinayana_2.xlsx', 'irapozdeeva_1.xlsx', 'irapozdeeva_2.xlsx', 'k_nadezhdam_1.xlsx', 'k_nadezhdam_2.xlsx', 'levchuk.mila_1.xlsx', 'levchuk.mila_2.xlsx', 'mamadoma_story_1.xlsx', 'mamadoma_story_2.xlsx', 'marta_che_1.xlsx', 'marta_che_2.xlsx', 'Mat.ehidna_1.xlsx', 'Mat.ehidna_2.xlsx', 'milana_lala.xlsx', 'milana_lala_1.xlsx', 'milana_lala_2.xlsx', 'nastik.kozlova_1.xlsx', 'nastik.kozlova_2.xlsx', 'vikavosk_1.xlsx', 'vikavosk_2.xlsx', '_lettasdiary_1.xlsx', '_lettasdiary_2.xlsx', 'блогеры_средние_показатели.xlsx']\n",
      "C:\\Users\\AmanovRA\\Anaconda3\\Work-work\\Bloggers_analysis\\новые [] ['irapozdeeva_1.xlsx', 'irapozdeeva_2.xlsx', 'mamadoma_story_1.xlsx', 'mamadoma_story_2.xlsx', 'marta_che_1.xlsx', 'marta_che_2.xlsx', 'vikavosk_1.xlsx', 'vikavosk_2.xlsx']\n",
      "C:\\Users\\AmanovRA\\Anaconda3\\Work-work\\Lessons ['.ipynb_checkpoints'] ['Foundations_for_analytics.ipynb', 'ML_step_by_step_lessons.ipynb', 'Numpy_lessons.ipynb', 'Pandas_lessons.ipynb', 'pandas_tutorial_read.csv', 'zoo_eats.csv']\n",
      "C:\\Users\\AmanovRA\\Anaconda3\\Work-work\\Lessons\\.ipynb_checkpoints [] ['Foundations_for_analytics-checkpoint.ipynb', 'ML_step_by_step_lessons-checkpoint.ipynb', 'Numpy_lessons-checkpoint.ipynb', 'Pandas_lessons-checkpoint.ipynb']\n",
      "C:\\Users\\AmanovRA\\Anaconda3\\Work-work\\Parsings ['.ipynb_checkpoints', 'Балтздрав', 'Немецкая_семейная', 'Скандинавия', 'СМ_Клиник', 'СМТ_клиника'] ['German_clinic.ipynb', 'Parsings.ipynb', 'SMT_clinik_just_separately.ipynb']\n",
      "C:\\Users\\AmanovRA\\Anaconda3\\Work-work\\Parsings\\.ipynb_checkpoints [] ['German_clinic-checkpoint.ipynb', 'Pandas_lessons-checkpoint.ipynb', 'Parsings-checkpoint.ipynb', 'SMT_clinik_just_separately-checkpoint.ipynb']\n",
      "C:\\Users\\AmanovRA\\Anaconda3\\Work-work\\Parsings\\Балтздрав [] ['Baltzdrav_2020-04-23.xlsx', 'Baltzdrav_2020-04-24.xlsx', 'Baltzdrav_2020-04-27.xlsx', 'Baltzdrav_2020-04-28.xlsx', 'Baltzdrav_2020-04-29.xlsx', 'Baltzdrav_2020-04-30.xlsx', 'Baltzdrav_2020-05-06.xlsx', 'Baltzdrav_2020-05-07.xlsx', 'Baltzdrav_2020-05-08.xlsx', 'Baltzdrav_2020-05-12.xlsx', 'Baltzdrav_2020-05-13.xlsx', 'Baltzdrav_2020-05-14.xlsx', 'Baltzdrav_2020-05-15.xlsx', 'Baltzdrav_2020-05-18.xlsx', 'Baltzdrav_2020-05-19.xlsx', 'Baltzdrav_2020-05-20.xlsx', 'Baltzdrav_2020-05-21.xlsx', 'Baltzdrav_2020-05-22.xlsx', 'Baltzdrav_2020-05-25.xlsx', 'Baltzdrav_2020-05-26.xlsx']\n",
      "C:\\Users\\AmanovRA\\Anaconda3\\Work-work\\Parsings\\Немецкая_семейная [] []\n",
      "C:\\Users\\AmanovRA\\Anaconda3\\Work-work\\Parsings\\Скандинавия [] ['Scandinav_2020-04-24.xlsx', 'Scandinav_2020-04-27.xlsx', 'Scandinav_2020-04-28.xlsx', 'Scandinav_2020-04-29.xlsx', 'Scandinav_2020-04-30.xlsx', 'Scandinav_2020-05-06.xlsx', 'Scandinav_2020-05-07.xlsx', 'Scandinav_2020-05-08.xlsx', 'Scandinav_2020-05-12.xlsx', 'Scandinav_2020-05-13.xlsx', 'Scandinav_2020-05-14.xlsx', 'Scandinav_2020-05-15.xlsx', 'Scandinav_2020-05-18.xlsx', 'Scandinav_2020-05-19.xlsx', 'Scandinav_2020-05-20.xlsx', 'Scandinav_2020-05-21.xlsx', 'Scandinav_2020-05-22.xlsx', 'Scandinav_2020-05-25.xlsx', 'Scandinav_2020-05-26.xlsx']\n",
      "C:\\Users\\AmanovRA\\Anaconda3\\Work-work\\Parsings\\СМ_Клиник [] ['SM_clinic_2020-05-06.xlsx', 'SM_clinic_2020-05-07.xlsx', 'SM_clinic_2020-05-08.xlsx', 'SM_clinic_2020-05-12.xlsx', 'SM_clinic_2020-05-13.xlsx', 'SM_clinic_2020-05-14.xlsx', 'SM_clinic_2020-05-15.xlsx', 'SM_clinic_2020-05-18.xlsx', 'SM_clinic_2020-05-19.xlsx', 'SM_clinic_2020-05-20.xlsx', 'SM_clinic_2020-05-21.xlsx', 'SM_clinic_2020-05-22.xlsx', 'SM_clinic_2020-05-25.xlsx', 'SM_clinic_2020-05-26.xlsx']\n",
      "C:\\Users\\AmanovRA\\Anaconda3\\Work-work\\Parsings\\СМТ_клиника [] ['SMT_clinic_2020-05-13.xlsx', 'SMT_clinic_2020-05-14.xlsx', 'SMT_clinic_2020-05-15.xlsx', 'SMT_clinic_2020-05-18.xlsx', 'SMT_clinic_2020-05-19.xlsx']\n",
      "C:\\Users\\AmanovRA\\Anaconda3\\Work-work\\Place_Engelsa_analysus ['.ipynb_checkpoints'] ['adress-coords.ipynb', 'Citizens.ipynb', 'coords_dostoprim.xlsx', 'data_dostavka_vyborgsk.xlsx', 'JSONLesson.ipynb', 'map.osm', 'mc_vozr_per_petrostat.xlsx', 'our_places.ipynb', 'pdfminer3k.ipynb', 'population.xlsx', 'population1.xlsx', 'schools.xlsx', 'temp.txt', 'vozrast_pol.txt', 'vozrs_district.xlsx', 'vzor_petr.xlsx', 'XML.ipynb', '~$ализ_площадей_Энгельса.docx', '~WRL0005.tmp', 'Анализ_площадей_Энгельса — копия.xlsx', 'Анализ_площадей_Энгельса.docx', 'Анализ_площадей_Энгельса.xlsx', 'Возраст-пол нас СПб 2018.pdf', 'Клиники.xlsx', 'Копия Анализ конкурентов онлайн (002).xlsx', 'Объекты_район.xlsx', 'Расстояние_до_клиник.xlsx', 'Расстояние_до_наших_МЦ.xlsx', 'Числ.СПб на 01.01.2020.pdf', 'Численность_жителей.xlsx']\n",
      "C:\\Users\\AmanovRA\\Anaconda3\\Work-work\\Place_Engelsa_analysus\\.ipynb_checkpoints [] ['adress-coords-checkpoint.ipynb', 'Citizens-checkpoint.ipynb', 'our_places-checkpoint.ipynb', 'pdfminer3k-checkpoint.ipynb', 'XML-checkpoint.ipynb']\n",
      "C:\\Users\\AmanovRA\\Anaconda3\\Work-work\\Re_telefon ['.ipynb_checkpoints'] ['111.xlsx', '17 неделя (20-26) Email.xlsx', '17 неделя (20-26) Контекст.xlsx', '17 неделя (20-26) обратный звонок.xlsx', 'output.xlsx', 're_telefon.ipynb', 're_telefon_v_2.ipynb', 'VU_2.xlsx', 'ву.xlsx']\n",
      "C:\\Users\\AmanovRA\\Anaconda3\\Work-work\\Re_telefon\\.ipynb_checkpoints [] ['re_telefon-checkpoint.ipynb', 're_telefon2-checkpoint.ipynb', 're_telefon_v_2-checkpoint.ipynb']\n",
      "C:\\Users\\AmanovRA\\Anaconda3\\Work-work\\Statistics ['.ipynb_checkpoints'] ['Prognoz.xlsx', 'Statistic.ipynb', 'Week_to_week.ipynb']\n",
      "C:\\Users\\AmanovRA\\Anaconda3\\Work-work\\Statistics\\.ipynb_checkpoints [] ['Statistic-checkpoint.ipynb', 'Week_to_week-checkpoint.ipynb']\n",
      "C:\\Users\\AmanovRA\\Anaconda3\\Work-work\\Temp ['.ipynb_checkpoints', 'Makarov', 'Новая папка'] ['1b317590-95a4-4975-a9df-71574e4380ab.xlsx', '2019.xlsx', '2020.xlsx', 'all_years.xlsx', 'all_years2.xlsx', 'fac2f7d9-e57e-4b99-bd54-a4b9a3586329.xlsx', 'mobile_operators.ipynb', 'monile_operators.xlsx', 'oper.xlsx', 'oper2.xlsx', 'Ostatok.xlsx', 'output — rez.xlsx', 'output — копия.xlsx', 'output.xlsx', 'Temp.ipynb', 'temp_out.xlsx', 'ПППК на 06.05.2020.xlsx']\n",
      "C:\\Users\\AmanovRA\\Anaconda3\\Work-work\\Temp\\.ipynb_checkpoints [] ['mobile_operators-checkpoint.ipynb', 'Temp-checkpoint.ipynb']\n",
      "C:\\Users\\AmanovRA\\Anaconda3\\Work-work\\Temp\\Makarov ['.ipynb_checkpoints'] ['makarov.ipynb', 'out1.xlsx', 'out2.xlsx', 'Макаров ВГ для КЦ и обзвонов — копия.xlsx', 'Макаров ВГ для КЦ и обзвонов.xlsx', 'Макаров ВГ для КЦ и обзвонов_без_дублей.xlsx']\n",
      "C:\\Users\\AmanovRA\\Anaconda3\\Work-work\\Temp\\Makarov\\.ipynb_checkpoints [] ['makarov-checkpoint.ipynb']\n",
      "C:\\Users\\AmanovRA\\Anaconda3\\Work-work\\Temp\\Новая папка [] []\n"
     ]
    }
   ],
   "source": [
    "import os\n",
    "\n",
    "for way, folders, files in os.walk(r'C:\\Users\\AmanovRA\\Anaconda3\\Work-work'):\n",
    "    print(way, folders, files)"
   ]
  },
  {
   "cell_type": "code",
   "execution_count": 6,
   "metadata": {},
   "outputs": [
    {
     "data": {
      "text/plain": [
       "'A'"
      ]
     },
     "execution_count": 6,
     "metadata": {},
     "output_type": "execute_result"
    }
   ],
   "source": []
  },
  {
   "cell_type": "code",
   "execution_count": 5,
   "metadata": {},
   "outputs": [
    {
     "data": {
      "text/plain": [
       "{'Accept': '*/*',\n",
       " 'Connection': 'keep-alive',\n",
       " 'User-Agent': 'Mozilla/5.0 (Windows NT 10.0; Win64; x64; rv:52.4.1) Gecko/20100101 Firefox/52.4.1',\n",
       " 'Accept-Language': 'en-US;q=0.5,en;q=0.3',\n",
       " 'Cache-Control': 'max-age=0',\n",
       " 'DNT': '1',\n",
       " 'Upgrade-Insecure-Requests': '1'}"
      ]
     },
     "execution_count": 5,
     "metadata": {},
     "output_type": "execute_result"
    }
   ],
   "source": [
    "header = Headers(headers=True)\n",
    "header.generate()            "
   ]
  },
  {
   "cell_type": "code",
   "execution_count": 7,
   "metadata": {},
   "outputs": [],
   "source": [
    "dct = dict(zip(__import__('string').ascii_lowercase, range(len(__import__('string').ascii_lowercase))))"
   ]
  },
  {
   "cell_type": "code",
   "execution_count": 16,
   "metadata": {},
   "outputs": [],
   "source": [
    "with open('test.csv', 'a', encoding='utf-8') as f:\n",
    "    for i, j in enumerate(dct.keys()):\n",
    "        if i != len(dct.keys()) -1:\n",
    "            f.write(j + ',')\n",
    "        else:\n",
    "            f.write(j)\n",
    "    f.write('\\n')\n",
    "    for val in dct.values():\n",
    "        f.write(str(val) + ',')\n",
    "    f.write('\\n')    "
   ]
  },
  {
   "cell_type": "code",
   "execution_count": 1,
   "metadata": {},
   "outputs": [],
   "source": [
    "with open('supplier_data.csv', 'w', encoding='utf8') as f:\n",
    "    f.write('''Item Number,Description,Supplier,Cost,Date\n",
    "1234,Widget 1,Supplier A,\"$1,100.00\",6/2/2012\n",
    ",Widget 1 Service,Supplier A,$600.00,6/3/2012\n",
    "2345,Widget 2,Supplier A,\"$2,300.00\",6/17/2012\n",
    ",Widget 2 Maintenance,Supplier A,\"$1,000.00\",6/30/2012\n",
    "3456,Widget 3,Supplier B,$950.00,7/3/2012\n",
    "4567,Widget 4,Supplier B,\"$1,300.00\",7/4/2012\n",
    "5678,Widget 5,Supplier B,\"$1,050.00\",7/11/2012\n",
    ",Widget 5 Service,Supplier B,$550.00,7/15/2012\n",
    "6789,Widget 6,Supplier C,\"$1,175.00\",7/23/2012\n",
    "7890,Widget 7,Supplier C,\"$1,200.00\",7/27/2012''')"
   ]
  },
  {
   "cell_type": "code",
   "execution_count": 2,
   "metadata": {},
   "outputs": [],
   "source": [
    "data = __import__('pandas').read_csv('supplier_data.csv')"
   ]
  },
  {
   "cell_type": "code",
   "execution_count": 4,
   "metadata": {},
   "outputs": [
    {
     "data": {
      "text/plain": [
       "Item Number    float64\n",
       "Description     object\n",
       "Supplier        object\n",
       "Cost            object\n",
       "Date            object\n",
       "dtype: object"
      ]
     },
     "execution_count": 4,
     "metadata": {},
     "output_type": "execute_result"
    }
   ],
   "source": [
    "data.dtypes"
   ]
  },
  {
   "cell_type": "code",
   "execution_count": 7,
   "metadata": {},
   "outputs": [],
   "source": [
    "with open('supplier_data.csv', 'r', encoding='utf8') as f:\n",
    "    with open('supplier_data_2.csv', 'a', encoding='utf8') as f__write:\n",
    "        for row in f.readlines():\n",
    "            f__write.write(row)\n",
    "            \n",
    "            "
   ]
  },
  {
   "cell_type": "code",
   "execution_count": 10,
   "metadata": {},
   "outputs": [
    {
     "name": "stdout",
     "output_type": "stream",
     "text": [
      "['Item Number', 'Description', 'Supplier', 'Cost', 'Date']\n",
      "['1234', 'Widget 1', 'Supplier A', '$1,100.00', '6/2/2012']\n",
      "['', 'Widget 1 Service', 'Supplier A', '$600.00', '6/3/2012']\n",
      "['2345', 'Widget 2', 'Supplier A', '$2,300.00', '6/17/2012']\n",
      "['', 'Widget 2 Maintenance', 'Supplier A', '$1,000.00', '6/30/2012']\n",
      "['3456', 'Widget 3', 'Supplier B', '$950.00', '7/3/2012']\n",
      "['4567', 'Widget 4', 'Supplier B', '$1,300.00', '7/4/2012']\n",
      "['5678', 'Widget 5', 'Supplier B', '$1,050.00', '7/11/2012']\n",
      "['', 'Widget 5 Service', 'Supplier B', '$550.00', '7/15/2012']\n",
      "['6789', 'Widget 6', 'Supplier C', '$1,175.00', '7/23/2012']\n",
      "['7890', 'Widget 7', 'Supplier C', '$1,200.00', '7/27/2012']\n"
     ]
    }
   ],
   "source": [
    "import csv\n",
    "with open('supplier_data.csv', 'r', encoding='utf8') as f:\n",
    "    csv_read = csv.reader(f, delimiter=',')\n",
    "    for row in csv_read:\n",
    "        print(row)\n"
   ]
  },
  {
   "cell_type": "code",
   "execution_count": 18,
   "metadata": {},
   "outputs": [
    {
     "data": {
      "text/plain": [
       "['hi ,people', 'hello, man']"
      ]
     },
     "execution_count": 18,
     "metadata": {},
     "output_type": "execute_result"
    }
   ],
   "source": [
    "s = '''hi ,people\n",
    "hello, man'''\n",
    "\n",
    "f =  open('supplier_data-3.csv', 'w', encoding='utf8')\n",
    "csv_w = csv.writer(f, delimiter=',')\n",
    "for i in s.splitlines():\n",
    "    csv_w.writerow(i)\n",
    "f.close()    \n",
    "\n",
    "\n",
    "s.splitlines()"
   ]
  },
  {
   "cell_type": "code",
   "execution_count": 10,
   "metadata": {},
   "outputs": [],
   "source": [
    "import os, glob, csv"
   ]
  },
  {
   "cell_type": "code",
   "execution_count": 18,
   "metadata": {},
   "outputs": [],
   "source": [
    "suppliers = [i for i in os.listdir(r'C:\\Users\\AmanovRA\\Anaconda3\\Work-work\\Lessons') if i.startswith('supplier')]\n",
    "cnt = 0\n",
    "for file in suppliers:\n",
    "    cnt += 1\n",
    "    read = csv.reader(open(file, 'r'))\n",
    "    w_csv = csv.writer(open('out_full.csv', 'a', encoding='utf8'))\n",
    "    if cnt == 1:\n",
    "        for row in read:\n",
    "            w_csv.writerow(row)\n",
    "    else:\n",
    "        next(read, None)\n",
    "        for row in read:\n",
    "            w_csv.writerow(row)        \n",
    "\n",
    "    "
   ]
  },
  {
   "cell_type": "code",
   "execution_count": 19,
   "metadata": {},
   "outputs": [
    {
     "data": {
      "text/plain": [
       "['supplier_data — копия (2).csv',\n",
       " 'supplier_data — копия (3).csv',\n",
       " 'supplier_data — копия.csv',\n",
       " 'supplier_data.csv',\n",
       " 'supplier_data_2.csv']"
      ]
     },
     "execution_count": 19,
     "metadata": {},
     "output_type": "execute_result"
    }
   ],
   "source": [
    "suppliers"
   ]
  },
  {
   "cell_type": "code",
   "execution_count": 19,
   "metadata": {},
   "outputs": [],
   "source": [
    "import xlrd, xlwt"
   ]
  },
  {
   "cell_type": "code",
   "execution_count": 32,
   "metadata": {},
   "outputs": [],
   "source": [
    "book = xlrd.open_workbook(r'C:\\Users\\AmanovRA\\Anaconda3\\Work-work\\Parsings\\СМТ_клиника\\SMT_clinic_2020-06-08.xlsx')"
   ]
  },
  {
   "cell_type": "code",
   "execution_count": 9,
   "metadata": {},
   "outputs": [
    {
     "name": "stdout",
     "output_type": "stream",
     "text": [
      "[number:2.0, text:'Консультация врача пластического хирурга с применением телемедицинских технологий', number:1500.0, text:'Телемедицина']\n"
     ]
    }
   ],
   "source": [
    "for sheet in book.sheets():\n",
    "    print(sheet.ro"
   ]
  },
  {
   "cell_type": "code",
   "execution_count": 6,
   "metadata": {},
   "outputs": [
    {
     "data": {
      "text/html": [
       "        <script type=\"text/javascript\">\n",
       "        window.PlotlyConfig = {MathJaxConfig: 'local'};\n",
       "        if (window.MathJax) {MathJax.Hub.Config({SVG: {font: \"STIX-Web\"}});}\n",
       "        if (typeof require !== 'undefined') {\n",
       "        require.undef(\"plotly\");\n",
       "        requirejs.config({\n",
       "            paths: {\n",
       "                'plotly': ['https://cdn.plot.ly/plotly-latest.min']\n",
       "            }\n",
       "        });\n",
       "        require(['plotly'], function(Plotly) {\n",
       "            window._Plotly = Plotly;\n",
       "        });\n",
       "        }\n",
       "        </script>\n",
       "        "
      ]
     },
     "metadata": {},
     "output_type": "display_data"
    },
    {
     "data": {
      "text/html": [
       "        <script type=\"text/javascript\">\n",
       "        window.PlotlyConfig = {MathJaxConfig: 'local'};\n",
       "        if (window.MathJax) {MathJax.Hub.Config({SVG: {font: \"STIX-Web\"}});}\n",
       "        if (typeof require !== 'undefined') {\n",
       "        require.undef(\"plotly\");\n",
       "        requirejs.config({\n",
       "            paths: {\n",
       "                'plotly': ['https://cdn.plot.ly/plotly-latest.min']\n",
       "            }\n",
       "        });\n",
       "        require(['plotly'], function(Plotly) {\n",
       "            window._Plotly = Plotly;\n",
       "        });\n",
       "        }\n",
       "        </script>\n",
       "        "
      ]
     },
     "metadata": {},
     "output_type": "display_data"
    }
   ],
   "source": [
    "import chart_studio.plotly as py\n",
    "#import py.graph_obs as go\n",
    "from plotly.offline import iplot\n",
    "import cufflinks as cf\n",
    "cufflinks.go_offline()\n",
    "# Устанавливаем глобальную тему \n",
    "cf.set_config_file(world_readable=True, theme='pearl', offline=True)"
   ]
  },
  {
   "cell_type": "code",
   "execution_count": 40,
   "metadata": {},
   "outputs": [],
   "source": [
    "input_file = xlrd.open_workbook(r'C:\\Users\\AmanovRA\\Anaconda3\\Work-work\\Parsings\\СМТ_клиника\\SMT_clinic_2020-06-08.xlsx')\n",
    "output_workbook = xlwt.Workbook()\n",
    "output_worksheet = output_workbook.add_sheet('jan_2013_output')\n",
    "with input_file as workbook:\n",
    "    worksheet = workbook.sheet_by_name('Sheet1')\n",
    "    for row_index in range(worksheet.nrows):\n",
    "        for column_index in range(worksheet.ncols):\n",
    "            output_worksheet.write(row_index, column_index, \\\n",
    "            worksheet.cell_value(row_index, column_index))\n",
    "output_workbook.save('Out-2.xls')"
   ]
  },
  {
   "cell_type": "markdown",
   "metadata": {},
   "source": [
    "## Немного полезного про path\n",
    "\n"
   ]
  },
  {
   "cell_type": "code",
   "execution_count": 1,
   "metadata": {},
   "outputs": [
    {
     "name": "stdout",
     "output_type": "stream",
     "text": [
      "Данные для отчета 1 кв ['Нск', 'Спб'] ['Payed_channels_nvs.xlsx', 'Payed_channels_spb.xlsx', 'АУ_по_июнь.xlsx', 'НСК_по_июнь.xlsx']\n",
      "Нск ['2гис', 'Яндекс РК'] []\n",
      "2гис [] ['Звонки 2гис 01.01-31.03.xlsx']\n",
      "Яндекс РК [] ['Звонки РК 1.xlsx', 'Звонки РК 2.xlsx', 'Звонки РК 3.xlsx']\n",
      "Спб ['email рассылки', 'Insta', 'VK', 'Артроскопия', 'Варикоцеле', 'РК mc21.ru (пикоимпульс)', 'Флебология'] []\n",
      "email рассылки [] ['Заявки 01.01 - 31.03.xlsx', 'Звонки 01.01 - 31.03.xlsx']\n",
      "Insta [] ['Звонки 01.01-31.03.xlsx']\n",
      "VK [] ['Звонки 01.01 - 31.03.xlsx', 'Звявки 01.01-31.03.xlsx']\n",
      "Артроскопия [] ['Звонки Янд 01.01-31.03.xlsx']\n",
      "Варикоцеле [] ['Заявки 01.01-31.03.xlsx', 'Звонки Янд 01.01-31.03.xlsx']\n",
      "РК mc21.ru (пикоимпульс) [] ['Заявки 01.01-31.03.xlsx', 'Звонки Янд + Гугл 01.01-31.03.xlsx']\n",
      "Флебология [] ['Заявки 01.01-31.03.xlsx', 'Звонки Янд + Гугл 01.01-31.03.xlsx']\n",
      ".\\Данные для отчета 1 кв\n",
      "C:\\Users\\AmanovRA\\Текущее\\Платные каналы\\Данные для отчета 1 кв\\Payed_channels_nvs.xlsx\n",
      ".\\Данные для отчета 1 кв\n",
      "C:\\Users\\AmanovRA\\Текущее\\Платные каналы\\Данные для отчета 1 кв\\Payed_channels_spb.xlsx\n",
      ".\\Данные для отчета 1 кв\n",
      "C:\\Users\\AmanovRA\\Текущее\\Платные каналы\\Данные для отчета 1 кв\\АУ_по_июнь.xlsx\n",
      ".\\Данные для отчета 1 кв\n",
      "C:\\Users\\AmanovRA\\Текущее\\Платные каналы\\Данные для отчета 1 кв\\НСК_по_июнь.xlsx\n",
      ".\\Данные для отчета 1 кв\\Нск\\2гис\n",
      "C:\\Users\\AmanovRA\\Текущее\\Платные каналы\\Данные для отчета 1 кв\\Нск\\2гис\\Звонки 2гис 01.01-31.03.xlsx\n",
      ".\\Данные для отчета 1 кв\\Нск\\Яндекс РК\n",
      "C:\\Users\\AmanovRA\\Текущее\\Платные каналы\\Данные для отчета 1 кв\\Нск\\Яндекс РК\\Звонки РК 1.xlsx\n",
      ".\\Данные для отчета 1 кв\\Нск\\Яндекс РК\n",
      "C:\\Users\\AmanovRA\\Текущее\\Платные каналы\\Данные для отчета 1 кв\\Нск\\Яндекс РК\\Звонки РК 2.xlsx\n",
      ".\\Данные для отчета 1 кв\\Нск\\Яндекс РК\n",
      "C:\\Users\\AmanovRA\\Текущее\\Платные каналы\\Данные для отчета 1 кв\\Нск\\Яндекс РК\\Звонки РК 3.xlsx\n",
      ".\\Данные для отчета 1 кв\\Спб\\email рассылки\n",
      "C:\\Users\\AmanovRA\\Текущее\\Платные каналы\\Данные для отчета 1 кв\\Спб\\email рассылки\\Заявки 01.01 - 31.03.xlsx\n",
      ".\\Данные для отчета 1 кв\\Спб\\email рассылки\n",
      "C:\\Users\\AmanovRA\\Текущее\\Платные каналы\\Данные для отчета 1 кв\\Спб\\email рассылки\\Звонки 01.01 - 31.03.xlsx\n",
      ".\\Данные для отчета 1 кв\\Спб\\Insta\n",
      "C:\\Users\\AmanovRA\\Текущее\\Платные каналы\\Данные для отчета 1 кв\\Спб\\Insta\\Звонки 01.01-31.03.xlsx\n",
      ".\\Данные для отчета 1 кв\\Спб\\VK\n",
      "C:\\Users\\AmanovRA\\Текущее\\Платные каналы\\Данные для отчета 1 кв\\Спб\\VK\\Звонки 01.01 - 31.03.xlsx\n",
      ".\\Данные для отчета 1 кв\\Спб\\VK\n",
      "C:\\Users\\AmanovRA\\Текущее\\Платные каналы\\Данные для отчета 1 кв\\Спб\\VK\\Звявки 01.01-31.03.xlsx\n",
      ".\\Данные для отчета 1 кв\\Спб\\Артроскопия\n",
      "C:\\Users\\AmanovRA\\Текущее\\Платные каналы\\Данные для отчета 1 кв\\Спб\\Артроскопия\\Звонки Янд 01.01-31.03.xlsx\n",
      ".\\Данные для отчета 1 кв\\Спб\\Варикоцеле\n",
      "C:\\Users\\AmanovRA\\Текущее\\Платные каналы\\Данные для отчета 1 кв\\Спб\\Варикоцеле\\Заявки 01.01-31.03.xlsx\n",
      ".\\Данные для отчета 1 кв\\Спб\\Варикоцеле\n",
      "C:\\Users\\AmanovRA\\Текущее\\Платные каналы\\Данные для отчета 1 кв\\Спб\\Варикоцеле\\Звонки Янд 01.01-31.03.xlsx\n",
      ".\\Данные для отчета 1 кв\\Спб\\РК mc21.ru (пикоимпульс)\n",
      "C:\\Users\\AmanovRA\\Текущее\\Платные каналы\\Данные для отчета 1 кв\\Спб\\РК mc21.ru (пикоимпульс)\\Заявки 01.01-31.03.xlsx\n",
      ".\\Данные для отчета 1 кв\\Спб\\РК mc21.ru (пикоимпульс)\n",
      "C:\\Users\\AmanovRA\\Текущее\\Платные каналы\\Данные для отчета 1 кв\\Спб\\РК mc21.ru (пикоимпульс)\\Звонки Янд + Гугл 01.01-31.03.xlsx\n",
      ".\\Данные для отчета 1 кв\\Спб\\Флебология\n",
      "C:\\Users\\AmanovRA\\Текущее\\Платные каналы\\Данные для отчета 1 кв\\Спб\\Флебология\\Заявки 01.01-31.03.xlsx\n",
      ".\\Данные для отчета 1 кв\\Спб\\Флебология\n",
      "C:\\Users\\AmanovRA\\Текущее\\Платные каналы\\Данные для отчета 1 кв\\Спб\\Флебология\\Звонки Янд + Гугл 01.01-31.03.xlsx\n"
     ]
    }
   ],
   "source": [
    "import os\n",
    "\n",
    "for i, k, j in os.walk(r'C:\\Users\\AmanovRA\\Текущее\\Платные каналы\\Данные для отчета 1 кв'):\n",
    "    print(os.path.basename(i), k, j)\n",
    "    \n",
    "import os\n",
    "import pathlib\n",
    "from pprint import pprint\n",
    "os.chdir(r'C:\\Users\\AmanovRA\\Текущее\\Платные каналы')\n",
    "import pandas as pd\n",
    "\n",
    "\n",
    "for i, j, k in os.walk('.'):\n",
    "    for x in k:\n",
    "        print(i)\n",
    "        print(os.path.join(pathlib.Path(i).parent.absolute(), os.path.basename(i) ,x))\n",
    "    "
   ]
  },
  {
   "cell_type": "markdown",
   "metadata": {},
   "source": [
    "# SQL"
   ]
  },
  {
   "cell_type": "code",
   "execution_count": 7,
   "metadata": {},
   "outputs": [
    {
     "name": "stdout",
     "output_type": "stream",
     "text": [
      "[('Richard Lucas', 'Notepad', 2.5, '2014-01-02'), ('Jenny Kim', 'Binder', 4.15, '2014-01-15'), ('Svetlana Crow', 'Printer', 155.75, '2014-02-03'), ('Stephen Randolph', 'Computer', 679.4, '2014-02-20')]\n",
      "('Richard Lucas', 'Notepad', 2.5, '2014-01-02')\n",
      "('Jenny Kim', 'Binder', 4.15, '2014-01-15')\n",
      "('Svetlana Crow', 'Printer', 155.75, '2014-02-03')\n",
      "('Stephen Randolph', 'Computer', 679.4, '2014-02-20')\n",
      "Number of rows: 4\n"
     ]
    }
   ],
   "source": [
    "import sqlite3\n",
    "\n",
    "# Create an in-memory SQLite3 database\n",
    "# Create a table called sales with four attributes\n",
    "con = sqlite3.connect(':memory:')\n",
    "query = \"\"\"CREATE TABLE sales\n",
    "(customer VARCHAR(20),\n",
    "product VARCHAR(40),\n",
    "amount FLOAT,\n",
    "date DATE);\"\"\"\n",
    "con.execute(query)\n",
    "con.commit()\n",
    "\n",
    "# Insert a few rows of data into the table\n",
    "data = [('Richard Lucas', 'Notepad', 2.50, '2014-01-02'),\n",
    "('Jenny Kim', 'Binder', 4.15, '2014-01-15'),\n",
    "('Svetlana Crow', 'Printer', 155.75, '2014-02-03'),\n",
    "('Stephen Randolph', 'Computer', 679.40, '2014-02-20')]\n",
    "statement = \"INSERT INTO sales VALUES(?, ?, ?, ?)\"\n",
    "con.executemany(statement, data)\n",
    "con.commit()\n",
    "\n",
    "# Query the sales table\n",
    "cursor = con.execute(\"SELECT * FROM sales\")\n",
    "rows = cursor.fetchall()\n",
    "# Count the number of rows in the output\n",
    "row_counter = 0\n",
    "for row in rows:\n",
    "    print(row)\n",
    "    row_counter += 1\n",
    "print('Number of rows: %d' % (row_counter))"
   ]
  },
  {
   "cell_type": "code",
   "execution_count": 3,
   "metadata": {},
   "outputs": [
    {
     "name": "stdout",
     "output_type": "stream",
     "text": [
      "#!/usr/bin/env python3\n",
      "import csv\n",
      "import sqlite3\n",
      "import sys\n",
      "# Path to and name of a CSV input file\n",
      "input_file = sys.argv[1]\n",
      "# Create an in-memory SQLite3 database\n",
      "# Create a table called Suppliers with five attributes\n",
      "con = sqlite3.connect('Suppliers.db')\n",
      "c = con.cursor()\n",
      "create_table = \"\"\"CREATE TABLE IF NOT EXISTS Suppliers\n",
      "(Supplier_Name VARCHAR(20),\n",
      "Invoice_Number VARCHAR(20),\n",
      "Part_Number VARCHAR(20),\n",
      "Cost FLOAT,\n",
      "Purchase_Date DATE);\"\"\"\n",
      "c.execute(create_table)\n",
      "con.commit()\n",
      "# Read the CSV file\n",
      "# Insert the data into the Suppliers table\n",
      "file_reader = csv.reader(open(input_file, 'r'), delimiter=',')\n",
      "header = next(file_reader, None)\n",
      "for row in file_reader:\n",
      "data = []\n",
      "for column_index in range(len(header)):\n",
      "data.append(row[column_index])\n",
      "print(data)\n",
      "c.execute(\"INSERT INTO Suppliers VALUES (?, ?, ?, ?, ?);\", data)\n",
      "con.commit()\n",
      "print('')\n",
      "# Query the Suppliers table\n",
      "output = c.execute(\"SELECT * FROM Suppliers\")\n",
      "rows = output.fetchall()\n",
      "for row in rows:\n",
      "output = []\n",
      "for column_index in range(len(row)):\n",
      "output.append(str(row[column_index]))\n",
      "print(output)\n",
      "\n"
     ]
    }
   ],
   "source": [
    "x = '''1 #!/usr/bin/env python3\n",
    "2 import csv\n",
    "3 import sqlite3\n",
    "4 import sys\n",
    "5 # Path to and name of a CSV input file\n",
    "6 input_file = sys.argv[1]\n",
    "7 # Create an in-memory SQLite3 database\n",
    "8 # Create a table called Suppliers with five attributes\n",
    "9 con = sqlite3.connect('Suppliers.db')\n",
    "10 c = con.cursor()\n",
    "11 create_table = \"\"\"CREATE TABLE IF NOT EXISTS Suppliers\n",
    "12 (Supplier_Name VARCHAR(20),\n",
    "13 Invoice_Number VARCHAR(20),\n",
    "14 Part_Number VARCHAR(20),\n",
    "15 Cost FLOAT,\n",
    "16 Purchase_Date DATE);\"\"\"\n",
    "17 c.execute(create_table)\n",
    "18 con.commit()\n",
    "19 # Read the CSV file\n",
    "20 # Insert the data into the Suppliers table\n",
    "21 file_reader = csv.reader(open(input_file, 'r'), delimiter=',')\n",
    "22 header = next(file_reader, None)\n",
    "23 for row in file_reader:\n",
    "24 data = []\n",
    "25 for column_index in range(len(header)):\n",
    "26 data.append(row[column_index])\n",
    "27 print(data)\n",
    "28 c.execute(\"INSERT INTO Suppliers VALUES (?, ?, ?, ?, ?);\", data)\n",
    "29 con.commit()\n",
    "30 print('')\n",
    "31 # Query the Suppliers table\n",
    "32 output = c.execute(\"SELECT * FROM Suppliers\")\n",
    "33 rows = output.fetchall()\n",
    "34 for row in rows:\n",
    "35 output = []\n",
    "36 for column_index in range(len(row)):\n",
    "37 output.append(str(row[column_index]))\n",
    "38 print(output)\n",
    "'''.split('\\n')\n",
    "\n",
    "import re\n",
    "pattern = r'^\\d{1,2} '\n",
    "for i in x:\n",
    "    print(re.sub(pattern, '', i))"
   ]
  },
  {
   "cell_type": "code",
   "execution_count": 1,
   "metadata": {},
   "outputs": [
    {
     "name": "stdout",
     "output_type": "stream",
     "text": [
      "[('1234',), ('',), ('2345',), ('',), ('3456',), ('4567',), ('5678',), ('',), ('6789',), ('7890',)]\n"
     ]
    }
   ],
   "source": [
    "\n",
    "#!/usr/bin/env python3\n",
    "import csv\n",
    "import sqlite3\n",
    "import sys\n",
    "# Path to and name of a CSV input file\n",
    "input_file = 'supplier_data.csv'\n",
    "# Create an in-memory SQLite3 database\n",
    "# Create a table called Suppliers with five attributes\n",
    "con = sqlite3.connect('Suppliers.db')\n",
    "c = con.cursor()\n",
    "create_table = \"\"\"CREATE TABLE IF NOT EXISTS Suppliers\n",
    "(Item VARCHAR(20),\n",
    "Number VARCHAR(20),\n",
    "Description VARCHAR(20),\n",
    "Cost FLOAT,\n",
    "Purchase_Date DATE);\"\"\"\n",
    "c.execute(create_table)\n",
    "con.commit()\n",
    "# Read the CSV file\n",
    "# Insert the data into the Suppliers table\n",
    "file_reader = csv.reader(open(input_file, 'r'), delimiter=',')\n",
    "header = next(file_reader, None)\n",
    "for row in file_reader:\n",
    "    data = []\n",
    "    for column_index in range(len(header)):\n",
    "        data.append(row[column_index])\n",
    "    c.execute(\"INSERT INTO Suppliers VALUES (?, ?, ?, ?, ?);\", data)\n",
    "con.commit()\n",
    " \n",
    "# Query the Suppliers table\n",
    "output = c.execute(\"SELECT * FROM Suppliers\")\n",
    "rows = output.fetchall()\n",
    "print(c.execute(\"SELECT Item FROM Suppliers\").fetchall())"
   ]
  },
  {
   "cell_type": "markdown",
   "metadata": {},
   "source": [
    "## For mysql db\n",
    "\n",
    "1 #!/usr/bin/env python3\n",
    "2 import csv\n",
    "3 import MySQLdb\n",
    "4 import sys\n",
    "5 from datetime import datetime, date\n",
    "6\n",
    "7 # Path to and name of a CSV input file\n",
    "8 input_file = sys.argv[1]\n",
    "9 # Connect to a MySQL database\n",
    "10 con = MySQLdb.connect(host='localhost', port=3306, db='my_suppliers', \\\n",
    "11 user='root', passwd='my_password')\n",
    "12 c = con.cursor()\n",
    "13 # Insert the data into the Suppliers table\n",
    "14 file_reader = csv.reader(open(input_file, 'r', newline=''))\n",
    "15 header = next(file_reader)\n",
    "16 for row in file_reader:\n",
    "17 data = []\n",
    "18 for column_index in range(len(header)):\n",
    "19 if column_index < 4:\n",
    "20 data.append(str(row[column_index]).lstrip('$')\\\n",
    "21 .replace(',', '').strip())\n",
    "22 else:\n",
    "23 a_date = datetime.date(datetime.strptime(\\\n",
    "24 str(row[column_index]), '%m/%d/%Y'))\n",
    "25 # %Y: year is 2015; %y: year is 15\n",
    "26 a_date = a_date.strftime('%Y-%m-%d')\n",
    "27 data.append(a_date)\n",
    "28 print data\n",
    "29 c.execute(\"\"\"INSERT INTO Suppliers VALUES (%s, %s, %s, %s, %s);\"\"\", data)\n",
    "30 con.commit()\n",
    "MySQL Database | 165\n",
    "31 print(\"\")\n",
    "32 # Query the Suppliers table\n",
    "33 c.execute(\"SELECT * FROM Suppliers\")\n",
    "34 rows = c.fetchall()\n",
    "35 for row in rows:\n",
    "36 row_list_output =[]\n",
    "37 for column_index in range(len(row)):\n",
    "38 row_list_output.append(str(row[column_index]))\n",
    "39 print(row_list_output)\n"
   ]
  },
  {
   "cell_type": "markdown",
   "metadata": {},
   "source": [
    "## difflib для редакционного расстояния"
   ]
  },
  {
   "cell_type": "code",
   "execution_count": 2,
   "metadata": {},
   "outputs": [
    {
     "data": {
      "text/plain": [
       "['apple', 'ape']"
      ]
     },
     "execution_count": 2,
     "metadata": {},
     "output_type": "execute_result"
    }
   ],
   "source": [
    "from difflib import get_close_matches\n",
    "import pandas as pd\n",
    "\n",
    "get_close_matches('appel', ['ape', 'apple', 'peach', 'puppy'])"
   ]
  },
  {
   "cell_type": "code",
   "execution_count": 3,
   "metadata": {},
   "outputs": [],
   "source": [
    "get_close_matches?"
   ]
  },
  {
   "cell_type": "markdown",
   "metadata": {},
   "source": [
    "# matplotlib"
   ]
  },
  {
   "cell_type": "code",
   "execution_count": 3,
   "metadata": {},
   "outputs": [
    {
     "name": "stdout",
     "output_type": "stream",
     "text": [
      "#!/usr/bin/env python3\n",
      "import matplotlib.pyplot as plt\n",
      "plt.style.use('ggplot')\n",
      "customers = ['ABC', 'DEF', 'GHI', 'JKL', 'MNO']\n",
      "customers_index = range(len(customers))\n",
      "sale_amounts = [127, 90, 201, 111, 232]\n",
      "fig = plt.figure()\n",
      "ax1 = fig.add_subplot(1,1,1)\n",
      "ax1.bar(customers_index, sale_amounts, align='center', color='darkblue')\n",
      "ax1.xaxis.set_ticks_position('bottom')\n",
      "ax1.yaxis.set_ticks_position('left')\n",
      "plt.xticks(customers_index, customers, rotation=0, fontsize='small')\n",
      "plt.xlabel('Customer Name')\n",
      "plt.ylabel('Sale Amount')\n",
      "plt.title('Sale Amount per Customer')\n",
      "plt.savefig('bar_plot.png', dpi=400, bbox_inches='tight')\n",
      "plt.show()\n",
      "\n"
     ]
    }
   ],
   "source": [
    "arr = '''1 #!/usr/bin/env python3\n",
    "2 import matplotlib.pyplot as plt\n",
    "3 plt.style.use('ggplot')\n",
    "4 customers = ['ABC', 'DEF', 'GHI', 'JKL', 'MNO']\n",
    "5 customers_index = range(len(customers))\n",
    "6 sale_amounts = [127, 90, 201, 111, 232]\n",
    "7 fig = plt.figure()\n",
    "8 ax1 = fig.add_subplot(1,1,1)\n",
    "9 ax1.bar(customers_index, sale_amounts, align='center', color='darkblue')\n",
    "10 ax1.xaxis.set_ticks_position('bottom')\n",
    "11 ax1.yaxis.set_ticks_position('left')\n",
    "12 plt.xticks(customers_index, customers, rotation=0, fontsize='small')\n",
    "13 plt.xlabel('Customer Name')\n",
    "14 plt.ylabel('Sale Amount')\n",
    "15 plt.title('Sale Amount per Customer')\n",
    "16 plt.savefig('bar_plot.png', dpi=400, bbox_inches='tight')\n",
    "17 plt.show()\n",
    "'''.split('\\n')\n",
    "\n",
    "import re\n",
    "pattern = r'^\\d{1,2} '\n",
    "for i, j in enumerate(arr):\n",
    "    arr[i] = re.sub(pattern, '', j)\n",
    "    \n",
    "print('\\n'.join(arr))"
   ]
  },
  {
   "cell_type": "code",
   "execution_count": 4,
   "metadata": {},
   "outputs": [
    {
     "data": {
      "image/png": "[encoded data removed]",
      "text/plain": [
       "<Figure size 432x288 with 1 Axes>"
      ]
     },
     "metadata": {},
     "output_type": "display_data"
    }
   ],
   "source": [
    "#!/usr/bin/env python3\n",
    "import matplotlib.pyplot as plt\n",
    "plt.style.use('ggplot')\n",
    "customers = ['ABC', 'DEF', 'GHI', 'JKL', 'MNO']\n",
    "customers_index = range(len(customers))\n",
    "sale_amounts = [127, 90, 201, 111, 232]\n",
    "fig = plt.figure()\n",
    "ax1 = fig.add_subplot(1,1,1)\n",
    "ax1.bar(customers_index, sale_amounts, align='center', color='darkblue')\n",
    "ax1.xaxis.set_ticks_position('bottom')\n",
    "ax1.yaxis.set_ticks_position('left')\n",
    "plt.xticks(customers_index, customers, rotation=0, fontsize='small')\n",
    "plt.xlabel('Customer Name')\n",
    "plt.ylabel('Sale Amount')\n",
    "plt.title('Sale Amount per Customer')\n",
    "plt.savefig('bar_plot.png', dpi=400, bbox_inches='tight')\n",
    "plt.show()"
   ]
  },
  {
   "cell_type": "markdown",
   "metadata": {},
   "source": [
    "## Histogram"
   ]
  },
  {
   "cell_type": "code",
   "execution_count": 6,
   "metadata": {},
   "outputs": [
    {
     "name": "stdout",
     "output_type": "stream",
     "text": [
      "#!/usr/bin/env python3\n",
      "import numpy as np\n",
      "import matplotlib.pyplot as plt\n",
      "plt.style.use('ggplot')\n",
      "mu1, mu2, sigma = 100, 130, 15\n",
      "x1 = mu1 + sigma*np.random.randn(10000)\n",
      "x2 = mu2 + sigma*np.random.randn(10000)\n",
      "fig = plt.figure()\n",
      "ax1 = fig.add_subplot(1,1,1)\n",
      "n, bins, patches = ax1.hist(x1, bins=50, normed=False, color='darkgreen')\n",
      "n, bins, patches = ax1.hist(x2, bins=50, normed=False, color='orange', alpha=0.5)\n",
      "ax1.xaxis.set_ticks_position('bottom')\n",
      "ax1.yaxis.set_ticks_position('left')\n",
      "plt.xlabel('Bins')\n",
      "plt.ylabel('Number of Values in Bin')\n",
      "fig.suptitle('Histograms', fontsize=14, fontweight='bold')\n",
      "ax1.set_title('Two Frequency Distributions')\n",
      "plt.savefig('histogram.png', dpi=400, bbox_inches='tight')\n",
      "plt.show()\n",
      "\n"
     ]
    }
   ],
   "source": [
    "arr = '''1 #!/usr/bin/env python3\n",
    "2 import numpy as np\n",
    "3 import matplotlib.pyplot as plt\n",
    "4 plt.style.use('ggplot')\n",
    "5 mu1, mu2, sigma = 100, 130, 15\n",
    "6 x1 = mu1 + sigma*np.random.randn(10000)\n",
    "7 x2 = mu2 + sigma*np.random.randn(10000)\n",
    "8 fig = plt.figure()\n",
    "9 ax1 = fig.add_subplot(1,1,1)\n",
    "10 n, bins, patches = ax1.hist(x1, bins=50, normed=False, color='darkgreen')\n",
    "11 n, bins, patches = ax1.hist(x2, bins=50, normed=False, color='orange', alpha=0.5)\n",
    "12 ax1.xaxis.set_ticks_position('bottom')\n",
    "13 ax1.yaxis.set_ticks_position('left')\n",
    "14 plt.xlabel('Bins')\n",
    "15 plt.ylabel('Number of Values in Bin')\n",
    "16 fig.suptitle('Histograms', fontsize=14, fontweight='bold')\n",
    "17 ax1.set_title('Two Frequency Distributions')\n",
    "18 plt.savefig('histogram.png', dpi=400, bbox_inches='tight')\n",
    "19 plt.show()\n",
    "'''.split('\\n')\n",
    "\n",
    "import re\n",
    "pattern = r'^\\d{1,2} '\n",
    "for i, j in enumerate(arr):\n",
    "    arr[i] = re.sub(pattern, '', j)\n",
    "    \n",
    "print('\\n'.join(arr))"
   ]
  },
  {
   "cell_type": "code",
   "execution_count": 7,
   "metadata": {},
   "outputs": [
    {
     "name": "stderr",
     "output_type": "stream",
     "text": [
      "C:\\Users\\AmanovRA\\Anaconda3\\lib\\site-packages\\ipykernel_launcher.py:10: MatplotlibDeprecationWarning: \n",
      "The 'normed' kwarg was deprecated in Matplotlib 2.1 and will be removed in 3.1. Use 'density' instead.\n",
      "  # Remove the CWD from sys.path while we load stuff.\n",
      "C:\\Users\\AmanovRA\\Anaconda3\\lib\\site-packages\\ipykernel_launcher.py:11: MatplotlibDeprecationWarning: \n",
      "The 'normed' kwarg was deprecated in Matplotlib 2.1 and will be removed in 3.1. Use 'density' instead.\n",
      "  # This is added back by InteractiveShellApp.init_path()\n"
     ]
    },
    {
     "data": {
      "image/png": "[encoded data removed]",
      "text/plain": [
       "<Figure size 432x288 with 1 Axes>"
      ]
     },
     "metadata": {},
     "output_type": "display_data"
    }
   ],
   "source": [
    "#!/usr/bin/env python3\n",
    "import numpy as np\n",
    "import matplotlib.pyplot as plt\n",
    "plt.style.use('ggplot')\n",
    "mu1, mu2, sigma = 100, 130, 15\n",
    "x1 = mu1 + sigma*np.random.randn(10000)\n",
    "x2 = mu2 + sigma*np.random.randn(10000)\n",
    "fig = plt.figure()\n",
    "ax1 = fig.add_subplot(1,1,1)\n",
    "n, bins, patches = ax1.hist(x1, bins=50, normed=False, color='darkgreen')\n",
    "n, bins, patches = ax1.hist(x2, bins=50, normed=False, color='orange', alpha=0.5)\n",
    "ax1.xaxis.set_ticks_position('bottom')\n",
    "ax1.yaxis.set_ticks_position('left')\n",
    "plt.xlabel('Bins')\n",
    "plt.ylabel('Number of Values in Bin')\n",
    "fig.suptitle('Histograms', fontsize=14, fontweight='bold')\n",
    "ax1.set_title('Two Frequency Distributions')\n",
    "plt.savefig('histogram.png', dpi=400, bbox_inches='tight')\n",
    "plt.show()"
   ]
  },
  {
   "cell_type": "markdown",
   "metadata": {},
   "source": [
    "## Line Plot"
   ]
  },
  {
   "cell_type": "code",
   "execution_count": 11,
   "metadata": {},
   "outputs": [
    {
     "name": "stdout",
     "output_type": "stream",
     "text": [
      "#!/usr/bin/env python3\n",
      "from numpy.random import randn\n",
      "import matplotlib.pyplot as plt\n",
      "plt.style.use('ggplot')\n",
      "plot_data1 = randn(50).cumsum()\n",
      "plot_data2 = randn(50).cumsum()\n",
      "plot_data3 = randn(50).cumsum()\n",
      "plot_data4 = randn(50).cumsum()\n",
      "fig = plt.figure()\n",
      "ax1 = fig.add_subplot(1,1,1)\n",
      "ax1.plot(plot_data1, marker=r'o', color=u'blue', linestyle='-',12 label='Blue Solid')\n",
      "ax1.plot(plot_data2, marker=r'+', color=u'red', linestyle='--',14 label='Red Dashed')\n",
      "ax1.plot(plot_data3, marker=r'*', color=u'green', linestyle='-.',16 label='Green Dash Dot')\n",
      "ax1.plot(plot_data4, marker=r's', color=u'orange', linestyle=':',18 label='Orange Dotted')\n",
      "ax1.xaxis.set_ticks_position('bottom')\n",
      "ax1.yaxis.set_ticks_position('left')\n",
      "ax1.set_title('Line Plots: Markers, Colors, and Linestyles')\n",
      "plt.xlabel('Draw')\n",
      "plt.ylabel('Random Number')\n",
      "plt.legend(loc='best')\n",
      "plt.savefig('line_plot.png', dpi=400, bbox_inches='tight')\n",
      "plt.show()\n",
      "\n"
     ]
    }
   ],
   "source": [
    "print(text_from_book('''1 #!/usr/bin/env python3\n",
    "2 from numpy.random import randn\n",
    "3 import matplotlib.pyplot as plt\n",
    "4 plt.style.use('ggplot')\n",
    "5 plot_data1 = randn(50).cumsum()\n",
    "6 plot_data2 = randn(50).cumsum()\n",
    "7 plot_data3 = randn(50).cumsum()\n",
    "8 plot_data4 = randn(50).cumsum()\n",
    "9 fig = plt.figure()\n",
    "10 ax1 = fig.add_subplot(1,1,1)\n",
    "11 ax1.plot(plot_data1, marker=r'o', color=u'blue', linestyle='-',\\\n",
    "12 label='Blue Solid')\n",
    "13 ax1.plot(plot_data2, marker=r'+', color=u'red', linestyle='--',\\\n",
    "14 label='Red Dashed')\n",
    "15 ax1.plot(plot_data3, marker=r'*', color=u'green', linestyle='-.',\\\n",
    "16 label='Green Dash Dot')\n",
    "17 ax1.plot(plot_data4, marker=r's', color=u'orange', linestyle=':',\\\n",
    "18 label='Orange Dotted')\n",
    "19 ax1.xaxis.set_ticks_position('bottom')\n",
    "20 ax1.yaxis.set_ticks_position('left')\n",
    "21 ax1.set_title('Line Plots: Markers, Colors, and Linestyles')\n",
    "22 plt.xlabel('Draw')\n",
    "23 plt.ylabel('Random Number')\n",
    "24 plt.legend(loc='best')\n",
    "25 plt.savefig('line_plot.png', dpi=400, bbox_inches='tight')\n",
    "26 plt.show()\n",
    "'''))"
   ]
  },
  {
   "cell_type": "code",
   "execution_count": 13,
   "metadata": {},
   "outputs": [
    {
     "data": {
      "image/png": "[encoded data removed]",
      "text/plain": [
       "<Figure size 432x288 with 1 Axes>"
      ]
     },
     "metadata": {},
     "output_type": "display_data"
    }
   ],
   "source": [
    "#!/usr/bin/env python3\n",
    "from numpy.random import randn\n",
    "import matplotlib.pyplot as plt\n",
    "plt.style.use('ggplot')\n",
    "plot_data1 = randn(50).cumsum()\n",
    "plot_data2 = randn(50).cumsum()\n",
    "plot_data3 = randn(50).cumsum()\n",
    "plot_data4 = randn(50).cumsum()\n",
    "fig = plt.figure()\n",
    "ax1 = fig.add_subplot(1,1,1)\n",
    "ax1.plot(plot_data1, marker=r'o', color=u'blue', linestyle='-', label='Blue Solid')\n",
    "ax1.plot(plot_data2, marker=r'+', color=u'red', linestyle='--',label='Red Dashed')\n",
    "ax1.plot(plot_data3, marker=r'*', color=u'green', linestyle='-.', label='Green Dash Dot')\n",
    "ax1.plot(plot_data4, marker=r's', color=u'orange', linestyle=':', label='Orange Dotted')\n",
    "ax1.xaxis.set_ticks_position('bottom')\n",
    "ax1.yaxis.set_ticks_position('left')\n",
    "ax1.set_title('Line Plots: Markers, Colors, and Linestyles')\n",
    "plt.xlabel('Draw')\n",
    "plt.ylabel('Random Number')\n",
    "plt.legend(loc='best')\n",
    "plt.savefig('line_plot.png', dpi=400, bbox_inches='tight')\n",
    "plt.show()"
   ]
  },
  {
   "cell_type": "markdown",
   "metadata": {},
   "source": [
    "## Scatter Plot"
   ]
  },
  {
   "cell_type": "code",
   "execution_count": 14,
   "metadata": {},
   "outputs": [
    {
     "name": "stdout",
     "output_type": "stream",
     "text": [
      "#!/usr/bin/env python3\n",
      "import numpy as np\n",
      "import matplotlib.pyplot as plt\n",
      "plt.style.use('ggplot')\n",
      "x = np.arange(start=1., stop=15., step=1.)\n",
      "y_linear = x + 5. * np.random.randn(14.)\n",
      "y_quadratic = x**2 + 10. * np.random.randn(14.)\n",
      "fn_linear = np.poly1d(np.polyfit(x, y_linear, deg=1))\n",
      "fn_quadratic = np.poly1d(np.polyfit(x, y_quadratic, deg=2))\n",
      "fig = plt.figure()\n",
      "ax1 = fig.add_subplot(1,1,1)\n",
      "ax1.plot(x, y_linear, 'bo', x, y_quadratic, 'go', 13 x, fn_linear(x), 'b-', x, fn_quadratic(x), 'g-', linewidth=2.)\n",
      "ax1.xaxis.set_ticks_position('bottom')\n",
      "ax1.yaxis.set_ticks_position('left')\n",
      "ax1.set_title('Scatter Plots Regression Lines')\n",
      "plt.xlabel('x')\n",
      "plt.ylabel('f(x)')\n",
      "plt.xlim((min(x)-1., max(x)+1.))\n",
      "plt.ylim((min(y_quadratic)-10., max(y_quadratic)+10.))\n",
      "plt.savefig('scatter_plot.png', dpi=400, bbox_inches='tight')\n",
      "plt.show()\n",
      "\n"
     ]
    }
   ],
   "source": [
    "print(text_from_book('''1 #!/usr/bin/env python3\n",
    "2 import numpy as np\n",
    "3 import matplotlib.pyplot as plt\n",
    "4 plt.style.use('ggplot')\n",
    "5 x = np.arange(start=1., stop=15., step=1.)\n",
    "6 y_linear = x + 5. * np.random.randn(14.)\n",
    "7 y_quadratic = x**2 + 10. * np.random.randn(14.)\n",
    "8 fn_linear = np.poly1d(np.polyfit(x, y_linear, deg=1))\n",
    "9 fn_quadratic = np.poly1d(np.polyfit(x, y_quadratic, deg=2))\n",
    "10 fig = plt.figure()\n",
    "11 ax1 = fig.add_subplot(1,1,1)\n",
    "12 ax1.plot(x, y_linear, 'bo', x, y_quadratic, 'go', \\\n",
    "13 x, fn_linear(x), 'b-', x, fn_quadratic(x), 'g-', linewidth=2.)\n",
    "14 ax1.xaxis.set_ticks_position('bottom')\n",
    "15 ax1.yaxis.set_ticks_position('left')\n",
    "16 ax1.set_title('Scatter Plots Regression Lines')\n",
    "17 plt.xlabel('x')\n",
    "18 plt.ylabel('f(x)')\n",
    "19 plt.xlim((min(x)-1., max(x)+1.))\n",
    "20 plt.ylim((min(y_quadratic)-10., max(y_quadratic)+10.))\n",
    "21 plt.savefig('scatter_plot.png', dpi=400, bbox_inches='tight')\n",
    "22 plt.show()\n",
    "'''))"
   ]
  },
  {
   "cell_type": "code",
   "execution_count": 17,
   "metadata": {},
   "outputs": [
    {
     "data": {
      "image/png": "[encoded data removed]",
      "text/plain": [
       "<Figure size 432x288 with 1 Axes>"
      ]
     },
     "metadata": {},
     "output_type": "display_data"
    }
   ],
   "source": [
    "#!/usr/bin/env python3\n",
    "import numpy as np\n",
    "import matplotlib.pyplot as plt\n",
    "plt.style.use('ggplot')\n",
    "x = np.arange(start=1., stop=15., step=1.)\n",
    "y_linear = x + 5. * np.random.randn(14)\n",
    "y_quadratic = x**2 + 10. * np.random.randn(14)\n",
    "fn_linear = np.poly1d(np.polyfit(x, y_linear, deg=1))\n",
    "fn_quadratic = np.poly1d(np.polyfit(x, y_quadratic, deg=2))\n",
    "fig = plt.figure()\n",
    "ax1 = fig.add_subplot(1,1,1)\n",
    "ax1.plot(x, y_linear, 'bo', x, y_quadratic, 'go',x, fn_linear(x), 'b-', x, fn_quadratic(x), 'g-', linewidth=2.)\n",
    "ax1.xaxis.set_ticks_position('bottom')\n",
    "ax1.yaxis.set_ticks_position('left')\n",
    "ax1.set_title('Scatter Plots Regression Lines')\n",
    "plt.xlabel('x')\n",
    "plt.ylabel('f(x)')\n",
    "plt.xlim((min(x)-1., max(x)+1.))\n",
    "plt.ylim((min(y_quadratic)-10., max(y_quadratic)+10.))\n",
    "plt.savefig('scatter_plot.png', dpi=400, bbox_inches='tight')\n",
    "plt.show()"
   ]
  },
  {
   "cell_type": "markdown",
   "metadata": {},
   "source": [
    "## Box Plot"
   ]
  },
  {
   "cell_type": "code",
   "execution_count": 18,
   "metadata": {},
   "outputs": [
    {
     "name": "stdout",
     "output_type": "stream",
     "text": [
      "#!/usr/bin/env python3\n",
      "import numpy as np\n",
      "import matplotlib.pyplot as plt\n",
      "plt.style.use('ggplot')\n",
      "N = 500\n",
      "normal = np.random.normal(loc=0.0, scale=1.0, size=N)\n",
      "lognormal = np.random.lognormal(mean=0.0, sigma=1.0, size=N)\n",
      "index_value = np.random.random_integers(low=0, high=N-1, size=N)\n",
      "normal_sample = normal[index_value]\n",
      "lognormal_sample = lognormal[index_value]\n",
      "box_plot_data = [normal,normal_sample,lognormal,lognormal_sample]\n",
      "fig = plt.figure()\n",
      "ax1 = fig.add_subplot(1,1,1)\n",
      "box_labels = ['normal','normal_sample','lognormal','lognormal_sample']\n",
      "ax1.boxplot(box_plot_data, notch=False, sym='.', vert=True, whis=1.5, 16 showmeans=True, labels=box_labels)\n",
      "ax1.xaxis.set_ticks_position('bottom')\n",
      "ax1.yaxis.set_ticks_position('left')\n",
      "ax1.set_title('Box Plots: Resampling of Two Distributions')\n",
      "ax1.set_xlabel('Distribution')\n",
      "ax1.set_ylabel('Value')\n",
      "plt.savefig('box_plot.png', dpi=400, bbox_inches='tight')\n",
      "plt.show()\n",
      "\n"
     ]
    }
   ],
   "source": [
    "print(text_from_book('''1 #!/usr/bin/env python3\n",
    "2 import numpy as np\n",
    "3 import matplotlib.pyplot as plt\n",
    "4 plt.style.use('ggplot')\n",
    "5 N = 500\n",
    "6 normal = np.random.normal(loc=0.0, scale=1.0, size=N)\n",
    "7 lognormal = np.random.lognormal(mean=0.0, sigma=1.0, size=N)\n",
    "8 index_value = np.random.random_integers(low=0, high=N-1, size=N)\n",
    "9 normal_sample = normal[index_value]\n",
    "10 lognormal_sample = lognormal[index_value]\n",
    "11 box_plot_data = [normal,normal_sample,lognormal,lognormal_sample]\n",
    "12 fig = plt.figure()\n",
    "13 ax1 = fig.add_subplot(1,1,1)\n",
    "14 box_labels = ['normal','normal_sample','lognormal','lognormal_sample']\n",
    "15 ax1.boxplot(box_plot_data, notch=False, sym='.', vert=True, whis=1.5, \\\n",
    "16 showmeans=True, labels=box_labels)\n",
    "17 ax1.xaxis.set_ticks_position('bottom')\n",
    "18 ax1.yaxis.set_ticks_position('left')\n",
    "19 ax1.set_title('Box Plots: Resampling of Two Distributions')\n",
    "20 ax1.set_xlabel('Distribution')\n",
    "21 ax1.set_ylabel('Value')\n",
    "22 plt.savefig('box_plot.png', dpi=400, bbox_inches='tight')\n",
    "23 plt.show()\n",
    "'''))"
   ]
  },
  {
   "cell_type": "code",
   "execution_count": 19,
   "metadata": {},
   "outputs": [
    {
     "name": "stderr",
     "output_type": "stream",
     "text": [
      "C:\\Users\\AmanovRA\\Anaconda3\\lib\\site-packages\\ipykernel_launcher.py:8: DeprecationWarning: This function is deprecated. Please call randint(0, 499 + 1) instead\n",
      "  \n"
     ]
    },
    {
     "data": {
      "image/png": "[encoded data removed]",
      "text/plain": [
       "<Figure size 432x288 with 1 Axes>"
      ]
     },
     "metadata": {},
     "output_type": "display_data"
    }
   ],
   "source": [
    "#!/usr/bin/env python3\n",
    "import numpy as np\n",
    "import matplotlib.pyplot as plt\n",
    "plt.style.use('ggplot')\n",
    "N = 500\n",
    "normal = np.random.normal(loc=0.0, scale=1.0, size=N)\n",
    "lognormal = np.random.lognormal(mean=0.0, sigma=1.0, size=N)\n",
    "index_value = np.random.random_integers(low=0, high=N-1, size=N)\n",
    "normal_sample = normal[index_value]\n",
    "lognormal_sample = lognormal[index_value]\n",
    "box_plot_data = [normal,normal_sample,lognormal,lognormal_sample]\n",
    "fig = plt.figure()\n",
    "ax1 = fig.add_subplot(1,1,1)\n",
    "box_labels = ['normal','normal_sample','lognormal','lognormal_sample']\n",
    "ax1.boxplot(box_plot_data, notch=False, sym='.', vert=True, whis=1.5,showmeans=True, labels=box_labels)\n",
    "ax1.xaxis.set_ticks_position('bottom')\n",
    "ax1.yaxis.set_ticks_position('left')\n",
    "ax1.set_title('Box Plots: Resampling of Two Distributions')\n",
    "ax1.set_xlabel('Distribution')\n",
    "ax1.set_ylabel('Value')\n",
    "plt.savefig('box_plot.png', dpi=400, bbox_inches='tight')\n",
    "plt.show()"
   ]
  },
  {
   "cell_type": "markdown",
   "metadata": {},
   "source": [
    "## on pandas vizualization"
   ]
  },
  {
   "cell_type": "code",
   "execution_count": 25,
   "metadata": {},
   "outputs": [
    {
     "name": "stdout",
     "output_type": "stream",
     "text": [
      "#!/usr/bin/env python3\n",
      "import pandas as pd\n",
      "import numpy as np\n",
      "import matplotlib.pyplot as plt\n",
      "plt.style.use('ggplot')\n",
      "fig, axes = plt.subplots(nrows=1, ncols=2)\n",
      "ax1, ax2 = axes.ravel()\n",
      "data_frame = pd.DataFrame(np.random.rand(5, 3),\n",
      "index=['Customer 1', 'Customer 2', 'Customer 3', 'Customer 4', 'Customer 5'],\n",
      "columns=pd.Index(['Metric 1', 'Metric 2', 'Metric 3'], name='Metrics'))\n",
      "data_frame.plot(kind='bar', ax=ax1, alpha=0.75, title='Bar Plot')\n",
      "plt.setp(ax1.get_xticklabels(), rotation=45, fontsize=10)\n",
      "plt.setp(ax1.get_yticklabels(), rotation=0, fontsize=10)\n",
      "ax1.set_xlabel('Customer')\n",
      "ax1.set_ylabel('Value')\n",
      "ax1.xaxis.set_ticks_position('bottom')\n",
      "ax1.yaxis.set_ticks_position('left')\n",
      "colors = dict(boxes='DarkBlue', whiskers='Gray', medians='Red', caps='Black')\n",
      "data_frame.plot(kind='box', color=colors, sym='r.', ax=ax2, title='Box Plot')\n",
      "plt.setp(ax2.get_xticklabels(), rotation=45, fontsize=10)\n",
      "plt.setp(ax2.get_yticklabels(), rotation=0, fontsize=10)\n",
      "ax2.set_xlabel('Metric')\n",
      "ax2.set_ylabel('Value')\n",
      "ax2.xaxis.set_ticks_position('bottom')\n",
      "ax2.yaxis.set_ticks_position('left')\n",
      "plt.savefig('pandas_plots.png', dpi=400, bbox_inches='tight')\n",
      "plt.show()\n",
      "\n"
     ]
    }
   ],
   "source": [
    "print(text_from_book('''1 #!/usr/bin/env python3\n",
    "2 import pandas as pd\n",
    "3 import numpy as np\n",
    "4 import matplotlib.pyplot as plt\n",
    "5 plt.style.use('ggplot')\n",
    "6 fig, axes = plt.subplots(nrows=1, ncols=2)\n",
    "7 ax1, ax2 = axes.ravel()\n",
    "8 data_frame = pd.DataFrame(np.random.rand(5, 3),\n",
    "9 index=['Customer 1', 'Customer 2', 'Customer 3', 'Customer 4', 'Customer 5'],\n",
    "10 columns=pd.Index(['Metric 1', 'Metric 2', 'Metric 3'], name='Metrics'))\n",
    "11 data_frame.plot(kind='bar', ax=ax1, alpha=0.75, title='Bar Plot')\n",
    "12 plt.setp(ax1.get_xticklabels(), rotation=45, fontsize=10)\n",
    "13 plt.setp(ax1.get_yticklabels(), rotation=0, fontsize=10)\n",
    "14 ax1.set_xlabel('Customer')\n",
    "15 ax1.set_ylabel('Value')\n",
    "16 ax1.xaxis.set_ticks_position('bottom')\n",
    "17 ax1.yaxis.set_ticks_position('left')\n",
    "18 colors = dict(boxes='DarkBlue', whiskers='Gray', medians='Red', caps='Black')\n",
    "19 data_frame.plot(kind='box', color=colors, sym='r.', ax=ax2, title='Box Plot')\n",
    "20 plt.setp(ax2.get_xticklabels(), rotation=45, fontsize=10)\n",
    "21 plt.setp(ax2.get_yticklabels(), rotation=0, fontsize=10)\n",
    "22 ax2.set_xlabel('Metric')\n",
    "23 ax2.set_ylabel('Value')\n",
    "24 ax2.xaxis.set_ticks_position('bottom')\n",
    "25 ax2.yaxis.set_ticks_position('left')\n",
    "26 plt.savefig('pandas_plots.png', dpi=400, bbox_inches='tight')\n",
    "27 plt.show()\n",
    "'''))"
   ]
  },
  {
   "cell_type": "code",
   "execution_count": 26,
   "metadata": {},
   "outputs": [
    {
     "data": {
      "image/png": "[encoded data removed]",
      "text/plain": [
       "<Figure size 432x288 with 2 Axes>"
      ]
     },
     "metadata": {},
     "output_type": "display_data"
    }
   ],
   "source": [
    "#!/usr/bin/env python3\n",
    "import pandas as pd\n",
    "import numpy as np\n",
    "import matplotlib.pyplot as plt\n",
    "plt.style.use('ggplot')\n",
    "fig, axes = plt.subplots(nrows=1, ncols=2)\n",
    "ax1, ax2 = axes.ravel()\n",
    "data_frame = pd.DataFrame(np.random.rand(5, 3),\n",
    "index=['Customer 1', 'Customer 2', 'Customer 3', 'Customer 4', 'Customer 5'],\n",
    "columns=pd.Index(['Metric 1', 'Metric 2', 'Metric 3'], name='Metrics'))\n",
    "data_frame.plot(kind='bar', ax=ax1, alpha=0.75, title='Bar Plot')\n",
    "plt.setp(ax1.get_xticklabels(), rotation=45, fontsize=10)\n",
    "plt.setp(ax1.get_yticklabels(), rotation=0, fontsize=10)\n",
    "ax1.set_xlabel('Customer')\n",
    "ax1.set_ylabel('Value')\n",
    "ax1.xaxis.set_ticks_position('bottom')\n",
    "ax1.yaxis.set_ticks_position('left')\n",
    "colors = dict(boxes='DarkBlue', whiskers='Gray', medians='Red', caps='Black')\n",
    "data_frame.plot(kind='box', color=colors, sym='r.', ax=ax2, title='Box Plot')\n",
    "plt.setp(ax2.get_xticklabels(), rotation=45, fontsize=10)\n",
    "plt.setp(ax2.get_yticklabels(), rotation=0, fontsize=10)\n",
    "ax2.set_xlabel('Metric')\n",
    "ax2.set_ylabel('Value')\n",
    "ax2.xaxis.set_ticks_position('bottom')\n",
    "ax2.yaxis.set_ticks_position('left')\n",
    "plt.savefig('pandas_plots.png', dpi=400, bbox_inches='tight')\n",
    "plt.show()"
   ]
  },
  {
   "cell_type": "markdown",
   "metadata": {},
   "source": [
    "## ggplot"
   ]
  },
  {
   "cell_type": "code",
   "execution_count": 27,
   "metadata": {},
   "outputs": [
    {
     "name": "stdout",
     "output_type": "stream",
     "text": [
      "#!/usr/bin/env python3\n",
      "from ggplot import *\n",
      "print(mtcars.head())\n",
      "plt1 = ggplot(aes(x='mpg'), data=mtcars) + geom_histogram(fill='darkblue', binwidth=2) + xlim(10, 35) + ylim(0, 10) + xlab(\"MPG\") + ylab(\"Frequency\") + ggtitle(\"Histogram of MPG\") + theme_matplotlib()\n",
      "print(plt1)\n",
      "print(meat.head())\n",
      "plt2 = ggplot(aes(x='date', y='beef'), data=meat) + geom_line(color='purple', size=1.5, alpha=0.75) + stat_smooth(colour='blue', size=2.0, span=0.15) + xlab(\"Year\") + ylab(\"Head of Cattle Slaughtered\") + ggtitle(\"Beef Consumption Over Time\") + theme_seaborn()\n",
      "print(plt2)\n",
      "| Chapter 6: Figures and Plots\n",
      "print(diamonds.head())\n",
      "plt3 = ggplot(diamonds, aes(x='carat', y='price', colour='cut')) + geom_point(alpha=0.5) + scale_color_gradient(low='#05D9F6', high='#5011D1') + xlim(0, 6) + ylim(0, 20000) + xlab(\"Carat\") + ylab(\"Price\") + ggtitle(\"Diamond Price by Carat and Cut\") + theme_gray()\n",
      "print(plt3)\n",
      "ggsave(plt3, \"ggplot_plots.png\")\n"
     ]
    }
   ],
   "source": [
    "print(text_from_book('''#!/usr/bin/env python3\n",
    "from ggplot import *\n",
    "print(mtcars.head())\n",
    "plt1 = ggplot(aes(x='mpg'), data=mtcars) +\\\n",
    " geom_histogram(fill='darkblue', binwidth=2) +\\\n",
    " xlim(10, 35) + ylim(0, 10) +\\\n",
    " xlab(\"MPG\") + ylab(\"Frequency\") +\\\n",
    " ggtitle(\"Histogram of MPG\") +\\\n",
    " theme_matplotlib()\n",
    "print(plt1)\n",
    "print(meat.head())\n",
    "plt2 = ggplot(aes(x='date', y='beef'), data=meat) +\\\n",
    " geom_line(color='purple', size=1.5, alpha=0.75) +\\\n",
    " stat_smooth(colour='blue', size=2.0, span=0.15) +\\\n",
    " xlab(\"Year\") + ylab(\"Head of Cattle Slaughtered\") +\\\n",
    " ggtitle(\"Beef Consumption Over Time\") +\\\n",
    " theme_seaborn()\n",
    "print(plt2)\n",
    "228 | Chapter 6: Figures and Plots\n",
    "print(diamonds.head())\n",
    "plt3 = ggplot(diamonds, aes(x='carat', y='price', colour='cut')) +\\\n",
    " geom_point(alpha=0.5) +\\\n",
    " scale_color_gradient(low='#05D9F6', high='#5011D1') +\\\n",
    " xlim(0, 6) + ylim(0, 20000) +\\\n",
    " xlab(\"Carat\") + ylab(\"Price\") +\\\n",
    " ggtitle(\"Diamond Price by Carat and Cut\") +\\\n",
    " theme_gray()\n",
    "print(plt3)\n",
    "ggsave(plt3, \"ggplot_plots.png\")'''))"
   ]
  },
  {
   "cell_type": "code",
   "execution_count": 6,
   "metadata": {},
   "outputs": [
    {
     "ename": "ModuleNotFoundError",
     "evalue": "No module named 'ggplot'",
     "output_type": "error",
     "traceback": [
      "\u001b[1;31m---------------------------------------------------------------------------\u001b[0m",
      "\u001b[1;31mModuleNotFoundError\u001b[0m                       Traceback (most recent call last)",
      "\u001b[1;32m<ipython-input-6-e47597cd4783>\u001b[0m in \u001b[0;36m<module>\u001b[1;34m\u001b[0m\n\u001b[0;32m      1\u001b[0m \u001b[1;31m#!/usr/bin/env python3\u001b[0m\u001b[1;33m\u001b[0m\u001b[1;33m\u001b[0m\u001b[1;33m\u001b[0m\u001b[0m\n\u001b[1;32m----> 2\u001b[1;33m \u001b[1;32mfrom\u001b[0m \u001b[0mggplot\u001b[0m \u001b[1;32mimport\u001b[0m \u001b[1;33m*\u001b[0m\u001b[1;33m\u001b[0m\u001b[1;33m\u001b[0m\u001b[0m\n\u001b[0m\u001b[0;32m      3\u001b[0m \u001b[0mprint\u001b[0m\u001b[1;33m(\u001b[0m\u001b[0mmtcars\u001b[0m\u001b[1;33m.\u001b[0m\u001b[0mhead\u001b[0m\u001b[1;33m(\u001b[0m\u001b[1;33m)\u001b[0m\u001b[1;33m)\u001b[0m\u001b[1;33m\u001b[0m\u001b[1;33m\u001b[0m\u001b[0m\n\u001b[0;32m      4\u001b[0m \u001b[0mplt1\u001b[0m \u001b[1;33m=\u001b[0m \u001b[0mggplot\u001b[0m\u001b[1;33m(\u001b[0m\u001b[0maes\u001b[0m\u001b[1;33m(\u001b[0m\u001b[0mx\u001b[0m\u001b[1;33m=\u001b[0m\u001b[1;34m'mpg'\u001b[0m\u001b[1;33m)\u001b[0m\u001b[1;33m,\u001b[0m \u001b[0mdata\u001b[0m\u001b[1;33m=\u001b[0m\u001b[0mmtcars\u001b[0m\u001b[1;33m)\u001b[0m \u001b[1;33m+\u001b[0m \u001b[0mgeom_histogram\u001b[0m\u001b[1;33m(\u001b[0m\u001b[0mfill\u001b[0m\u001b[1;33m=\u001b[0m\u001b[1;34m'darkblue'\u001b[0m\u001b[1;33m,\u001b[0m \u001b[0mbinwidth\u001b[0m\u001b[1;33m=\u001b[0m\u001b[1;36m2\u001b[0m\u001b[1;33m)\u001b[0m \u001b[1;33m+\u001b[0m \u001b[0mxlim\u001b[0m\u001b[1;33m(\u001b[0m\u001b[1;36m10\u001b[0m\u001b[1;33m,\u001b[0m \u001b[1;36m35\u001b[0m\u001b[1;33m)\u001b[0m \u001b[1;33m+\u001b[0m \u001b[0mylim\u001b[0m\u001b[1;33m(\u001b[0m\u001b[1;36m0\u001b[0m\u001b[1;33m,\u001b[0m \u001b[1;36m10\u001b[0m\u001b[1;33m)\u001b[0m \u001b[1;33m+\u001b[0m \u001b[0mxlab\u001b[0m\u001b[1;33m(\u001b[0m\u001b[1;34m\"MPG\"\u001b[0m\u001b[1;33m)\u001b[0m \u001b[1;33m+\u001b[0m \u001b[0mylab\u001b[0m\u001b[1;33m(\u001b[0m\u001b[1;34m\"Frequency\"\u001b[0m\u001b[1;33m)\u001b[0m \u001b[1;33m+\u001b[0m \u001b[0mggtitle\u001b[0m\u001b[1;33m(\u001b[0m\u001b[1;34m\"Histogram of MPG\"\u001b[0m\u001b[1;33m)\u001b[0m \u001b[1;33m+\u001b[0m \u001b[0mtheme_matplotlib\u001b[0m\u001b[1;33m(\u001b[0m\u001b[1;33m)\u001b[0m\u001b[1;33m\u001b[0m\u001b[1;33m\u001b[0m\u001b[0m\n\u001b[0;32m      5\u001b[0m \u001b[0mprint\u001b[0m\u001b[1;33m(\u001b[0m\u001b[0mplt1\u001b[0m\u001b[1;33m)\u001b[0m\u001b[1;33m\u001b[0m\u001b[1;33m\u001b[0m\u001b[0m\n",
      "\u001b[1;31mModuleNotFoundError\u001b[0m: No module named 'ggplot'"
     ]
    }
   ],
   "source": [
    "#!/usr/bin/env python3\n",
    "from ggplot import *\n",
    "print(mtcars.head())\n",
    "plt1 = ggplot(aes(x='mpg'), data=mtcars) + geom_histogram(fill='darkblue', binwidth=2) + xlim(10, 35) + ylim(0, 10) + xlab(\"MPG\") + ylab(\"Frequency\") + ggtitle(\"Histogram of MPG\") + theme_matplotlib()\n",
    "print(plt1)\n",
    "print(meat.head())\n",
    "plt2 = ggplot(aes(x='date', y='beef'), data=meat) + geom_line(color='purple', size=1.5, alpha=0.75) + stat_smooth(colour='blue', size=2.0, span=0.15) + xlab(\"Year\") + ylab(\"Head of Cattle Slaughtered\") + ggtitle(\"Beef Consumption Over Time\") + theme_seaborn()\n",
    "print(plt2)\n",
    "print(diamonds.head())\n",
    "plt3 = ggplot(diamonds, aes(x='carat', y='price', colour='cut')) + geom_point(alpha=0.5) + scale_color_gradient(low='#05D9F6', high='#5011D1') + xlim(0, 6) + ylim(0, 20000) + xlab(\"Carat\") + ylab(\"Price\") + ggtitle(\"Diamond Price by Carat and Cut\") + theme_gray()\n",
    "print(plt3)\n",
    "ggsave(plt3, \"ggplot_plots.png\")"
   ]
  },
  {
   "cell_type": "markdown",
   "metadata": {},
   "source": [
    "## seaborn"
   ]
  },
  {
   "cell_type": "code",
   "execution_count": 9,
   "metadata": {},
   "outputs": [
    {
     "ename": "AttributeError",
     "evalue": "module 'seaborn' has no attribute 'axlabel'",
     "output_type": "error",
     "traceback": [
      "\u001b[1;31m---------------------------------------------------------------------------\u001b[0m",
      "\u001b[1;31mAttributeError\u001b[0m                            Traceback (most recent call last)",
      "\u001b[1;32m<ipython-input-9-0f4b9192b893>\u001b[0m in \u001b[0;36m<module>\u001b[1;34m\u001b[0m\n\u001b[0;32m      9\u001b[0m \u001b[0mx\u001b[0m \u001b[1;33m=\u001b[0m \u001b[0mnp\u001b[0m\u001b[1;33m.\u001b[0m\u001b[0mrandom\u001b[0m\u001b[1;33m.\u001b[0m\u001b[0mnormal\u001b[0m\u001b[1;33m(\u001b[0m\u001b[0msize\u001b[0m\u001b[1;33m=\u001b[0m\u001b[1;36m100\u001b[0m\u001b[1;33m)\u001b[0m\u001b[1;33m\u001b[0m\u001b[1;33m\u001b[0m\u001b[0m\n\u001b[0;32m     10\u001b[0m \u001b[0msns\u001b[0m\u001b[1;33m.\u001b[0m\u001b[0mdistplot\u001b[0m\u001b[1;33m(\u001b[0m\u001b[0mx\u001b[0m\u001b[1;33m,\u001b[0m \u001b[0mbins\u001b[0m\u001b[1;33m=\u001b[0m\u001b[1;36m20\u001b[0m\u001b[1;33m,\u001b[0m \u001b[0mkde\u001b[0m\u001b[1;33m=\u001b[0m\u001b[1;32mFalse\u001b[0m\u001b[1;33m,\u001b[0m \u001b[0mrug\u001b[0m\u001b[1;33m=\u001b[0m\u001b[1;32mTrue\u001b[0m\u001b[1;33m,\u001b[0m \u001b[0mlabel\u001b[0m\u001b[1;33m=\u001b[0m\u001b[1;34m\"Histogram w/o Density\"\u001b[0m\u001b[1;33m)\u001b[0m\u001b[1;33m\u001b[0m\u001b[1;33m\u001b[0m\u001b[0m\n\u001b[1;32m---> 11\u001b[1;33m \u001b[0msns\u001b[0m\u001b[1;33m.\u001b[0m\u001b[0maxlabel\u001b[0m\u001b[1;33m(\u001b[0m\u001b[1;34m\"Value\"\u001b[0m\u001b[1;33m,\u001b[0m \u001b[1;34m\"Frequency\"\u001b[0m\u001b[1;33m)\u001b[0m\u001b[1;33m\u001b[0m\u001b[1;33m\u001b[0m\u001b[0m\n\u001b[0m\u001b[0;32m     12\u001b[0m \u001b[0mplt\u001b[0m\u001b[1;33m.\u001b[0m\u001b[0mtitle\u001b[0m\u001b[1;33m(\u001b[0m\u001b[1;34m\"Histogram of a Random Sample from a Normal Distribution\"\u001b[0m\u001b[1;33m)\u001b[0m\u001b[1;33m\u001b[0m\u001b[1;33m\u001b[0m\u001b[0m\n\u001b[0;32m     13\u001b[0m \u001b[0mplt\u001b[0m\u001b[1;33m.\u001b[0m\u001b[0mlegend\u001b[0m\u001b[1;33m(\u001b[0m\u001b[1;33m)\u001b[0m\u001b[1;33m\u001b[0m\u001b[1;33m\u001b[0m\u001b[0m\n",
      "\u001b[1;31mAttributeError\u001b[0m: module 'seaborn' has no attribute 'axlabel'"
     ]
    },
    {
     "data": {
      "image/png": "[encoded data removed]",
      "text/plain": [
       "<Figure size 432x288 with 1 Axes>"
      ]
     },
     "metadata": {},
     "output_type": "display_data"
    }
   ],
   "source": [
    "#!/usr/bin/env python3\n",
    "import seaborn as sns\n",
    "import numpy as np\n",
    "import pandas as pd\n",
    "import matplotlib.pyplot as plt\n",
    "from pylab import savefig\n",
    "sns.set(color_codes=True)\n",
    "# Histogram\n",
    "x = np.random.normal(size=100)\n",
    "sns.distplot(x, bins=20, kde=False, rug=True, label=\"Histogram w/o Density\")\n",
    "sns.axlabel(\"Value\", \"Frequency\")\n",
    "plt.title(\"Histogram of a Random Sample from a Normal Distribution\")\n",
    "plt.legend()\n",
    "# Scatter plot with regression line and univariate graphs\n",
    "mean, cov = [5, 10], [(1, .5), (.5, 1)]\n",
    "data = np.random.multivariate_normal(mean, cov, 200)\n",
    "data_frame = pd.DataFrame(data, columns=[\"x\", \"y\"])\n",
    "sns.jointplot(x=\"x\", y=\"y\", data=data_frame, kind=\"reg\")\\\n",
    ".set_axis_labels(\"x\", \"y\")\n",
    "plt.suptitle(\"Joint Plot of Two Variables with Bivariate and Univariate Graphs\")\n",
    "# Pairwise bivariate scatter plots with univariate histograms\n",
    "iris = sns.load_dataset(\"iris\")\n",
    "sns.pairplot(iris)\n",
    "# Box plots conditioning on several variables\n",
    "tips = sns.load_dataset(\"tips\")\n",
    "sns.factorplot(x=\"time\", y=\"total_bill\", hue=\"smoker\",\\\n",
    " col=\"day\", data=tips, kind=\"box\", size=4, aspect=.5)\n",
    "# Linear regression model with bootstrap confidence interval\n",
    "sns.lmplot(x=\"total_bill\", y=\"tip\", data=tips)\n",
    "# Logistic regression model with bootstrap confidence interval\n",
    "tips[\"big_tip\"] = (tips.tip / tips.total_bill) > .15\n",
    "sns.lmplot(x=\"total_bill\", y=\"big_tip\", data=tips, logistic=True, y_jitter=.03)\\\n",
    ".set_axis_labels(\"Total Bill\", \"Big Tip\")\n",
    "plt.title(\"Logistic Regression of Big Tip vs. Total Bill\")\n",
    "plt.show()\n",
    "savefig(\"seaborn_plots.png\")"
   ]
  },
  {
   "cell_type": "markdown",
   "metadata": {},
   "source": [
    "## Wine dataset"
   ]
  },
  {
   "cell_type": "code",
   "execution_count": 41,
   "metadata": {},
   "outputs": [],
   "source": [
    "import pandas as pd"
   ]
  },
  {
   "cell_type": "code",
   "execution_count": 42,
   "metadata": {},
   "outputs": [],
   "source": [
    "red = pd.read_csv('http://archive.ics.uci.edu/ml/machine-learning-databases/wine-quality/winequality-red.csv', sep=';')\n",
    "red['wine_color'] = [0 for i in red.index]\n",
    "white = pd.read_csv('http://archive.ics.uci.edu/ml/machine-learning-databases/wine-quality/winequality-white.csv', sep=';')\n",
    "white['wine_color'] = [1 for i in white.index]\n",
    "\n",
    "\n",
    "\n",
    "# 0 - red, 1- white\n"
   ]
  },
  {
   "cell_type": "code",
   "execution_count": 43,
   "metadata": {},
   "outputs": [
    {
     "data": {
      "text/html": [
       "<div>\n",
       "<style scoped>\n",
       "    .dataframe tbody tr th:only-of-type {\n",
       "        vertical-align: middle;\n",
       "    }\n",
       "\n",
       "    .dataframe tbody tr th {\n",
       "        vertical-align: top;\n",
       "    }\n",
       "\n",
       "    .dataframe thead th {\n",
       "        text-align: right;\n",
       "    }\n",
       "</style>\n",
       "<table border=\"1\" class=\"dataframe\">\n",
       "  <thead>\n",
       "    <tr style=\"text-align: right;\">\n",
       "      <th></th>\n",
       "      <th>fixed acidity</th>\n",
       "      <th>volatile acidity</th>\n",
       "      <th>citric acid</th>\n",
       "      <th>residual sugar</th>\n",
       "      <th>chlorides</th>\n",
       "      <th>free sulfur dioxide</th>\n",
       "      <th>total sulfur dioxide</th>\n",
       "      <th>density</th>\n",
       "      <th>pH</th>\n",
       "      <th>sulphates</th>\n",
       "      <th>alcohol</th>\n",
       "      <th>quality</th>\n",
       "      <th>wine_color</th>\n",
       "    </tr>\n",
       "  </thead>\n",
       "  <tbody>\n",
       "    <tr>\n",
       "      <th>0</th>\n",
       "      <td>7.4</td>\n",
       "      <td>0.70</td>\n",
       "      <td>0.00</td>\n",
       "      <td>1.9</td>\n",
       "      <td>0.076</td>\n",
       "      <td>11.0</td>\n",
       "      <td>34.0</td>\n",
       "      <td>0.99780</td>\n",
       "      <td>3.51</td>\n",
       "      <td>0.56</td>\n",
       "      <td>9.4</td>\n",
       "      <td>5</td>\n",
       "      <td>0</td>\n",
       "    </tr>\n",
       "    <tr>\n",
       "      <th>1</th>\n",
       "      <td>7.8</td>\n",
       "      <td>0.88</td>\n",
       "      <td>0.00</td>\n",
       "      <td>2.6</td>\n",
       "      <td>0.098</td>\n",
       "      <td>25.0</td>\n",
       "      <td>67.0</td>\n",
       "      <td>0.99680</td>\n",
       "      <td>3.20</td>\n",
       "      <td>0.68</td>\n",
       "      <td>9.8</td>\n",
       "      <td>5</td>\n",
       "      <td>0</td>\n",
       "    </tr>\n",
       "    <tr>\n",
       "      <th>2</th>\n",
       "      <td>7.8</td>\n",
       "      <td>0.76</td>\n",
       "      <td>0.04</td>\n",
       "      <td>2.3</td>\n",
       "      <td>0.092</td>\n",
       "      <td>15.0</td>\n",
       "      <td>54.0</td>\n",
       "      <td>0.99700</td>\n",
       "      <td>3.26</td>\n",
       "      <td>0.65</td>\n",
       "      <td>9.8</td>\n",
       "      <td>5</td>\n",
       "      <td>0</td>\n",
       "    </tr>\n",
       "    <tr>\n",
       "      <th>3</th>\n",
       "      <td>11.2</td>\n",
       "      <td>0.28</td>\n",
       "      <td>0.56</td>\n",
       "      <td>1.9</td>\n",
       "      <td>0.075</td>\n",
       "      <td>17.0</td>\n",
       "      <td>60.0</td>\n",
       "      <td>0.99800</td>\n",
       "      <td>3.16</td>\n",
       "      <td>0.58</td>\n",
       "      <td>9.8</td>\n",
       "      <td>6</td>\n",
       "      <td>0</td>\n",
       "    </tr>\n",
       "    <tr>\n",
       "      <th>4</th>\n",
       "      <td>7.4</td>\n",
       "      <td>0.70</td>\n",
       "      <td>0.00</td>\n",
       "      <td>1.9</td>\n",
       "      <td>0.076</td>\n",
       "      <td>11.0</td>\n",
       "      <td>34.0</td>\n",
       "      <td>0.99780</td>\n",
       "      <td>3.51</td>\n",
       "      <td>0.56</td>\n",
       "      <td>9.4</td>\n",
       "      <td>5</td>\n",
       "      <td>0</td>\n",
       "    </tr>\n",
       "    <tr>\n",
       "      <th>...</th>\n",
       "      <td>...</td>\n",
       "      <td>...</td>\n",
       "      <td>...</td>\n",
       "      <td>...</td>\n",
       "      <td>...</td>\n",
       "      <td>...</td>\n",
       "      <td>...</td>\n",
       "      <td>...</td>\n",
       "      <td>...</td>\n",
       "      <td>...</td>\n",
       "      <td>...</td>\n",
       "      <td>...</td>\n",
       "      <td>...</td>\n",
       "    </tr>\n",
       "    <tr>\n",
       "      <th>6492</th>\n",
       "      <td>6.2</td>\n",
       "      <td>0.21</td>\n",
       "      <td>0.29</td>\n",
       "      <td>1.6</td>\n",
       "      <td>0.039</td>\n",
       "      <td>24.0</td>\n",
       "      <td>92.0</td>\n",
       "      <td>0.99114</td>\n",
       "      <td>3.27</td>\n",
       "      <td>0.50</td>\n",
       "      <td>11.2</td>\n",
       "      <td>6</td>\n",
       "      <td>1</td>\n",
       "    </tr>\n",
       "    <tr>\n",
       "      <th>6493</th>\n",
       "      <td>6.6</td>\n",
       "      <td>0.32</td>\n",
       "      <td>0.36</td>\n",
       "      <td>8.0</td>\n",
       "      <td>0.047</td>\n",
       "      <td>57.0</td>\n",
       "      <td>168.0</td>\n",
       "      <td>0.99490</td>\n",
       "      <td>3.15</td>\n",
       "      <td>0.46</td>\n",
       "      <td>9.6</td>\n",
       "      <td>5</td>\n",
       "      <td>1</td>\n",
       "    </tr>\n",
       "    <tr>\n",
       "      <th>6494</th>\n",
       "      <td>6.5</td>\n",
       "      <td>0.24</td>\n",
       "      <td>0.19</td>\n",
       "      <td>1.2</td>\n",
       "      <td>0.041</td>\n",
       "      <td>30.0</td>\n",
       "      <td>111.0</td>\n",
       "      <td>0.99254</td>\n",
       "      <td>2.99</td>\n",
       "      <td>0.46</td>\n",
       "      <td>9.4</td>\n",
       "      <td>6</td>\n",
       "      <td>1</td>\n",
       "    </tr>\n",
       "    <tr>\n",
       "      <th>6495</th>\n",
       "      <td>5.5</td>\n",
       "      <td>0.29</td>\n",
       "      <td>0.30</td>\n",
       "      <td>1.1</td>\n",
       "      <td>0.022</td>\n",
       "      <td>20.0</td>\n",
       "      <td>110.0</td>\n",
       "      <td>0.98869</td>\n",
       "      <td>3.34</td>\n",
       "      <td>0.38</td>\n",
       "      <td>12.8</td>\n",
       "      <td>7</td>\n",
       "      <td>1</td>\n",
       "    </tr>\n",
       "    <tr>\n",
       "      <th>6496</th>\n",
       "      <td>6.0</td>\n",
       "      <td>0.21</td>\n",
       "      <td>0.38</td>\n",
       "      <td>0.8</td>\n",
       "      <td>0.020</td>\n",
       "      <td>22.0</td>\n",
       "      <td>98.0</td>\n",
       "      <td>0.98941</td>\n",
       "      <td>3.26</td>\n",
       "      <td>0.32</td>\n",
       "      <td>11.8</td>\n",
       "      <td>6</td>\n",
       "      <td>1</td>\n",
       "    </tr>\n",
       "  </tbody>\n",
       "</table>\n",
       "<p>6497 rows × 13 columns</p>\n",
       "</div>"
      ],
      "text/plain": [
       "      fixed acidity  volatile acidity  citric acid  residual sugar  chlorides  \\\n",
       "0               7.4              0.70         0.00             1.9      0.076   \n",
       "1               7.8              0.88         0.00             2.6      0.098   \n",
       "2               7.8              0.76         0.04             2.3      0.092   \n",
       "3              11.2              0.28         0.56             1.9      0.075   \n",
       "4               7.4              0.70         0.00             1.9      0.076   \n",
       "...             ...               ...          ...             ...        ...   \n",
       "6492            6.2              0.21         0.29             1.6      0.039   \n",
       "6493            6.6              0.32         0.36             8.0      0.047   \n",
       "6494            6.5              0.24         0.19             1.2      0.041   \n",
       "6495            5.5              0.29         0.30             1.1      0.022   \n",
       "6496            6.0              0.21         0.38             0.8      0.020   \n",
       "\n",
       "      free sulfur dioxide  total sulfur dioxide  density    pH  sulphates  \\\n",
       "0                    11.0                  34.0  0.99780  3.51       0.56   \n",
       "1                    25.0                  67.0  0.99680  3.20       0.68   \n",
       "2                    15.0                  54.0  0.99700  3.26       0.65   \n",
       "3                    17.0                  60.0  0.99800  3.16       0.58   \n",
       "4                    11.0                  34.0  0.99780  3.51       0.56   \n",
       "...                   ...                   ...      ...   ...        ...   \n",
       "6492                 24.0                  92.0  0.99114  3.27       0.50   \n",
       "6493                 57.0                 168.0  0.99490  3.15       0.46   \n",
       "6494                 30.0                 111.0  0.99254  2.99       0.46   \n",
       "6495                 20.0                 110.0  0.98869  3.34       0.38   \n",
       "6496                 22.0                  98.0  0.98941  3.26       0.32   \n",
       "\n",
       "      alcohol  quality  wine_color  \n",
       "0         9.4        5           0  \n",
       "1         9.8        5           0  \n",
       "2         9.8        5           0  \n",
       "3         9.8        6           0  \n",
       "4         9.4        5           0  \n",
       "...       ...      ...         ...  \n",
       "6492     11.2        6           1  \n",
       "6493      9.6        5           1  \n",
       "6494      9.4        6           1  \n",
       "6495     12.8        7           1  \n",
       "6496     11.8        6           1  \n",
       "\n",
       "[6497 rows x 13 columns]"
      ]
     },
     "execution_count": 43,
     "metadata": {},
     "output_type": "execute_result"
    }
   ],
   "source": [
    "wines = red.append(white, ignore_index=True)\n",
    "wines"
   ]
  },
  {
   "cell_type": "code",
   "execution_count": 56,
   "metadata": {},
   "outputs": [],
   "source": [
    "from sklearn.model_selection import train_test_split, GridSearchCV\n",
    "from sklearn.tree import DecisionTreeClassifier\n",
    "from sklearn.linear_model import LogisticRegression\n",
    "from sklearn.metrics import accuracy_score\n",
    "from sklearn.tree import plot_tree\n",
    "\n",
    "X, y = wines.loc[:, [i for i in wines if i != 'wine_color']], wines.loc[:, ['wine_color']]"
   ]
  },
  {
   "cell_type": "code",
   "execution_count": 57,
   "metadata": {},
   "outputs": [],
   "source": [
    "X_train, X_test, y_train, y_test = train_test_split(X, y, test_size=0.2)"
   ]
  },
  {
   "cell_type": "code",
   "execution_count": 58,
   "metadata": {},
   "outputs": [],
   "source": [
    "params = {'criterion' : [\"gini\", \"entropy\"],\n",
    "         'max_depth' : range(2, 100),\n",
    "         'min_samples_split' : range(2, 6)}\n",
    "\n",
    "params_linear = {'fit_intercept' : [True, False]}\n",
    "\n",
    "clf = GridSearchCV(DecisionTreeClassifier(), param_grid=params, cv=5)\n",
    "\n",
    "linear_clf = GridSearchCV(LogisticRegression(), param_grid=params_linear, cv=5)"
   ]
  },
  {
   "cell_type": "code",
   "execution_count": 59,
   "metadata": {},
   "outputs": [
    {
     "name": "stderr",
     "output_type": "stream",
     "text": [
      "C:\\Users\\AmanovRA\\Anaconda3\\lib\\site-packages\\sklearn\\utils\\validation.py:760: DataConversionWarning: A column-vector y was passed when a 1d array was expected. Please change the shape of y to (n_samples, ), for example using ravel().\n",
      "  y = column_or_1d(y, warn=True)\n",
      "C:\\Users\\AmanovRA\\Anaconda3\\lib\\site-packages\\sklearn\\linear_model\\_logistic.py:940: ConvergenceWarning: lbfgs failed to converge (status=1):\n",
      "STOP: TOTAL NO. of ITERATIONS REACHED LIMIT.\n",
      "\n",
      "Increase the number of iterations (max_iter) or scale the data as shown in:\n",
      "    https://scikit-learn.org/stable/modules/preprocessing.html\n",
      "Please also refer to the documentation for alternative solver options:\n",
      "    https://scikit-learn.org/stable/modules/linear_model.html#logistic-regression\n",
      "  extra_warning_msg=_LOGISTIC_SOLVER_CONVERGENCE_MSG)\n",
      "C:\\Users\\AmanovRA\\Anaconda3\\lib\\site-packages\\sklearn\\utils\\validation.py:760: DataConversionWarning: A column-vector y was passed when a 1d array was expected. Please change the shape of y to (n_samples, ), for example using ravel().\n",
      "  y = column_or_1d(y, warn=True)\n",
      "C:\\Users\\AmanovRA\\Anaconda3\\lib\\site-packages\\sklearn\\linear_model\\_logistic.py:940: ConvergenceWarning: lbfgs failed to converge (status=1):\n",
      "STOP: TOTAL NO. of ITERATIONS REACHED LIMIT.\n",
      "\n",
      "Increase the number of iterations (max_iter) or scale the data as shown in:\n",
      "    https://scikit-learn.org/stable/modules/preprocessing.html\n",
      "Please also refer to the documentation for alternative solver options:\n",
      "    https://scikit-learn.org/stable/modules/linear_model.html#logistic-regression\n",
      "  extra_warning_msg=_LOGISTIC_SOLVER_CONVERGENCE_MSG)\n",
      "C:\\Users\\AmanovRA\\Anaconda3\\lib\\site-packages\\sklearn\\utils\\validation.py:760: DataConversionWarning: A column-vector y was passed when a 1d array was expected. Please change the shape of y to (n_samples, ), for example using ravel().\n",
      "  y = column_or_1d(y, warn=True)\n",
      "C:\\Users\\AmanovRA\\Anaconda3\\lib\\site-packages\\sklearn\\linear_model\\_logistic.py:940: ConvergenceWarning: lbfgs failed to converge (status=1):\n",
      "STOP: TOTAL NO. of ITERATIONS REACHED LIMIT.\n",
      "\n",
      "Increase the number of iterations (max_iter) or scale the data as shown in:\n",
      "    https://scikit-learn.org/stable/modules/preprocessing.html\n",
      "Please also refer to the documentation for alternative solver options:\n",
      "    https://scikit-learn.org/stable/modules/linear_model.html#logistic-regression\n",
      "  extra_warning_msg=_LOGISTIC_SOLVER_CONVERGENCE_MSG)\n",
      "C:\\Users\\AmanovRA\\Anaconda3\\lib\\site-packages\\sklearn\\utils\\validation.py:760: DataConversionWarning: A column-vector y was passed when a 1d array was expected. Please change the shape of y to (n_samples, ), for example using ravel().\n",
      "  y = column_or_1d(y, warn=True)\n",
      "C:\\Users\\AmanovRA\\Anaconda3\\lib\\site-packages\\sklearn\\linear_model\\_logistic.py:940: ConvergenceWarning: lbfgs failed to converge (status=1):\n",
      "STOP: TOTAL NO. of ITERATIONS REACHED LIMIT.\n",
      "\n",
      "Increase the number of iterations (max_iter) or scale the data as shown in:\n",
      "    https://scikit-learn.org/stable/modules/preprocessing.html\n",
      "Please also refer to the documentation for alternative solver options:\n",
      "    https://scikit-learn.org/stable/modules/linear_model.html#logistic-regression\n",
      "  extra_warning_msg=_LOGISTIC_SOLVER_CONVERGENCE_MSG)\n",
      "C:\\Users\\AmanovRA\\Anaconda3\\lib\\site-packages\\sklearn\\utils\\validation.py:760: DataConversionWarning: A column-vector y was passed when a 1d array was expected. Please change the shape of y to (n_samples, ), for example using ravel().\n",
      "  y = column_or_1d(y, warn=True)\n",
      "C:\\Users\\AmanovRA\\Anaconda3\\lib\\site-packages\\sklearn\\linear_model\\_logistic.py:940: ConvergenceWarning: lbfgs failed to converge (status=1):\n",
      "STOP: TOTAL NO. of ITERATIONS REACHED LIMIT.\n",
      "\n",
      "Increase the number of iterations (max_iter) or scale the data as shown in:\n",
      "    https://scikit-learn.org/stable/modules/preprocessing.html\n",
      "Please also refer to the documentation for alternative solver options:\n",
      "    https://scikit-learn.org/stable/modules/linear_model.html#logistic-regression\n",
      "  extra_warning_msg=_LOGISTIC_SOLVER_CONVERGENCE_MSG)\n",
      "C:\\Users\\AmanovRA\\Anaconda3\\lib\\site-packages\\sklearn\\utils\\validation.py:760: DataConversionWarning: A column-vector y was passed when a 1d array was expected. Please change the shape of y to (n_samples, ), for example using ravel().\n",
      "  y = column_or_1d(y, warn=True)\n",
      "C:\\Users\\AmanovRA\\Anaconda3\\lib\\site-packages\\sklearn\\linear_model\\_logistic.py:940: ConvergenceWarning: lbfgs failed to converge (status=1):\n",
      "STOP: TOTAL NO. of ITERATIONS REACHED LIMIT.\n",
      "\n",
      "Increase the number of iterations (max_iter) or scale the data as shown in:\n",
      "    https://scikit-learn.org/stable/modules/preprocessing.html\n",
      "Please also refer to the documentation for alternative solver options:\n",
      "    https://scikit-learn.org/stable/modules/linear_model.html#logistic-regression\n",
      "  extra_warning_msg=_LOGISTIC_SOLVER_CONVERGENCE_MSG)\n"
     ]
    },
    {
     "name": "stdout",
     "output_type": "stream",
     "text": [
      "0.98037329228401\n",
      "0.9784615384615385\n"
     ]
    },
    {
     "name": "stderr",
     "output_type": "stream",
     "text": [
      "C:\\Users\\AmanovRA\\Anaconda3\\lib\\site-packages\\sklearn\\utils\\validation.py:760: DataConversionWarning: A column-vector y was passed when a 1d array was expected. Please change the shape of y to (n_samples, ), for example using ravel().\n",
      "  y = column_or_1d(y, warn=True)\n",
      "C:\\Users\\AmanovRA\\Anaconda3\\lib\\site-packages\\sklearn\\linear_model\\_logistic.py:940: ConvergenceWarning: lbfgs failed to converge (status=1):\n",
      "STOP: TOTAL NO. of ITERATIONS REACHED LIMIT.\n",
      "\n",
      "Increase the number of iterations (max_iter) or scale the data as shown in:\n",
      "    https://scikit-learn.org/stable/modules/preprocessing.html\n",
      "Please also refer to the documentation for alternative solver options:\n",
      "    https://scikit-learn.org/stable/modules/linear_model.html#logistic-regression\n",
      "  extra_warning_msg=_LOGISTIC_SOLVER_CONVERGENCE_MSG)\n",
      "C:\\Users\\AmanovRA\\Anaconda3\\lib\\site-packages\\sklearn\\utils\\validation.py:760: DataConversionWarning: A column-vector y was passed when a 1d array was expected. Please change the shape of y to (n_samples, ), for example using ravel().\n",
      "  y = column_or_1d(y, warn=True)\n",
      "C:\\Users\\AmanovRA\\Anaconda3\\lib\\site-packages\\sklearn\\linear_model\\_logistic.py:940: ConvergenceWarning: lbfgs failed to converge (status=1):\n",
      "STOP: TOTAL NO. of ITERATIONS REACHED LIMIT.\n",
      "\n",
      "Increase the number of iterations (max_iter) or scale the data as shown in:\n",
      "    https://scikit-learn.org/stable/modules/preprocessing.html\n",
      "Please also refer to the documentation for alternative solver options:\n",
      "    https://scikit-learn.org/stable/modules/linear_model.html#logistic-regression\n",
      "  extra_warning_msg=_LOGISTIC_SOLVER_CONVERGENCE_MSG)\n",
      "C:\\Users\\AmanovRA\\Anaconda3\\lib\\site-packages\\sklearn\\utils\\validation.py:760: DataConversionWarning: A column-vector y was passed when a 1d array was expected. Please change the shape of y to (n_samples, ), for example using ravel().\n",
      "  y = column_or_1d(y, warn=True)\n",
      "C:\\Users\\AmanovRA\\Anaconda3\\lib\\site-packages\\sklearn\\linear_model\\_logistic.py:940: ConvergenceWarning: lbfgs failed to converge (status=1):\n",
      "STOP: TOTAL NO. of ITERATIONS REACHED LIMIT.\n",
      "\n",
      "Increase the number of iterations (max_iter) or scale the data as shown in:\n",
      "    https://scikit-learn.org/stable/modules/preprocessing.html\n",
      "Please also refer to the documentation for alternative solver options:\n",
      "    https://scikit-learn.org/stable/modules/linear_model.html#logistic-regression\n",
      "  extra_warning_msg=_LOGISTIC_SOLVER_CONVERGENCE_MSG)\n",
      "C:\\Users\\AmanovRA\\Anaconda3\\lib\\site-packages\\sklearn\\utils\\validation.py:760: DataConversionWarning: A column-vector y was passed when a 1d array was expected. Please change the shape of y to (n_samples, ), for example using ravel().\n",
      "  y = column_or_1d(y, warn=True)\n",
      "C:\\Users\\AmanovRA\\Anaconda3\\lib\\site-packages\\sklearn\\linear_model\\_logistic.py:940: ConvergenceWarning: lbfgs failed to converge (status=1):\n",
      "STOP: TOTAL NO. of ITERATIONS REACHED LIMIT.\n",
      "\n",
      "Increase the number of iterations (max_iter) or scale the data as shown in:\n",
      "    https://scikit-learn.org/stable/modules/preprocessing.html\n",
      "Please also refer to the documentation for alternative solver options:\n",
      "    https://scikit-learn.org/stable/modules/linear_model.html#logistic-regression\n",
      "  extra_warning_msg=_LOGISTIC_SOLVER_CONVERGENCE_MSG)\n",
      "C:\\Users\\AmanovRA\\Anaconda3\\lib\\site-packages\\sklearn\\utils\\validation.py:760: DataConversionWarning: A column-vector y was passed when a 1d array was expected. Please change the shape of y to (n_samples, ), for example using ravel().\n",
      "  y = column_or_1d(y, warn=True)\n",
      "C:\\Users\\AmanovRA\\Anaconda3\\lib\\site-packages\\sklearn\\linear_model\\_logistic.py:940: ConvergenceWarning: lbfgs failed to converge (status=1):\n",
      "STOP: TOTAL NO. of ITERATIONS REACHED LIMIT.\n",
      "\n",
      "Increase the number of iterations (max_iter) or scale the data as shown in:\n",
      "    https://scikit-learn.org/stable/modules/preprocessing.html\n",
      "Please also refer to the documentation for alternative solver options:\n",
      "    https://scikit-learn.org/stable/modules/linear_model.html#logistic-regression\n",
      "  extra_warning_msg=_LOGISTIC_SOLVER_CONVERGENCE_MSG)\n"
     ]
    }
   ],
   "source": [
    "linear_clf.fit(X_train, y_train)\n",
    "\n",
    "best_linear_clf = linear_clf.best_estimator_\n",
    "\n",
    "print(best_linear_clf.score(X_train, y_train))\n",
    "\n",
    "print(accuracy_score(y_test, best_linear_clf.predict(X_test)))"
   ]
  },
  {
   "cell_type": "code",
   "execution_count": 8,
   "metadata": {},
   "outputs": [
    {
     "data": {
      "text/plain": [
       "GridSearchCV(cv=5, error_score=nan,\n",
       "             estimator=DecisionTreeClassifier(ccp_alpha=0.0, class_weight=None,\n",
       "                                              criterion='gini', max_depth=None,\n",
       "                                              max_features=None,\n",
       "                                              max_leaf_nodes=None,\n",
       "                                              min_impurity_decrease=0.0,\n",
       "                                              min_impurity_split=None,\n",
       "                                              min_samples_leaf=1,\n",
       "                                              min_samples_split=2,\n",
       "                                              min_weight_fraction_leaf=0.0,\n",
       "                                              presort='deprecated',\n",
       "                                              random_state=None,\n",
       "                                              splitter='best'),\n",
       "             iid='deprecated', n_jobs=None,\n",
       "             param_grid={'criterion': ['gini', 'entropy'],\n",
       "                         'max_depth': range(2, 100),\n",
       "                         'min_samples_split': range(2, 6)},\n",
       "             pre_dispatch='2*n_jobs', refit=True, return_train_score=False,\n",
       "             scoring=None, verbose=0)"
      ]
     },
     "execution_count": 8,
     "metadata": {},
     "output_type": "execute_result"
    }
   ],
   "source": [
    "clf.fit(X_train, y_train)"
   ]
  },
  {
   "cell_type": "code",
   "execution_count": null,
   "metadata": {},
   "outputs": [],
   "source": []
  },
  {
   "cell_type": "code",
   "execution_count": 9,
   "metadata": {},
   "outputs": [],
   "source": [
    "best_clf = clf.best_estimator_"
   ]
  },
  {
   "cell_type": "code",
   "execution_count": 10,
   "metadata": {},
   "outputs": [
    {
     "data": {
      "text/plain": [
       "0.9990379064845103"
      ]
     },
     "execution_count": 10,
     "metadata": {},
     "output_type": "execute_result"
    }
   ],
   "source": [
    "best_clf.score(X_train, y_train)"
   ]
  },
  {
   "cell_type": "code",
   "execution_count": 11,
   "metadata": {},
   "outputs": [],
   "source": []
  },
  {
   "cell_type": "code",
   "execution_count": 12,
   "metadata": {},
   "outputs": [
    {
     "data": {
      "text/plain": [
       "0.9846153846153847"
      ]
     },
     "execution_count": 12,
     "metadata": {},
     "output_type": "execute_result"
    }
   ],
   "source": [
    "accuracy_score(y_test, best_clf.predict(X_test))"
   ]
  },
  {
   "cell_type": "code",
   "execution_count": 13,
   "metadata": {},
   "outputs": [],
   "source": []
  },
  {
   "cell_type": "code",
   "execution_count": 14,
   "metadata": {},
   "outputs": [
    {
     "data": {
      "text/plain": [
       "[Text(135.06136363636364, 209.07692307692307, 'X[6] <= 66.5\\nentropy = 0.803\\nsamples = 5197\\nvalue = [1273, 3924]'),\n",
       " Text(48.69818181818182, 192.35076923076923, 'X[4] <= 0.048\\nentropy = 0.422\\nsamples = 1108\\nvalue = [1013, 95]'),\n",
       " Text(24.34909090909091, 175.62461538461537, 'X[9] <= 0.555\\nentropy = 0.718\\nsamples = 106\\nvalue = [21, 85]'),\n",
       " Text(12.174545454545456, 158.89846153846153, 'X[1] <= 0.655\\nentropy = 0.245\\nsamples = 74\\nvalue = [3, 71]'),\n",
       " Text(6.087272727272728, 142.1723076923077, 'entropy = 0.0\\nsamples = 68\\nvalue = [0, 68]'),\n",
       " Text(18.261818181818185, 142.1723076923077, 'X[4] <= 0.037\\nentropy = 1.0\\nsamples = 6\\nvalue = [3, 3]'),\n",
       " Text(12.174545454545456, 125.44615384615385, 'entropy = 0.0\\nsamples = 2\\nvalue = [0, 2]'),\n",
       " Text(24.34909090909091, 125.44615384615385, 'X[2] <= 0.225\\nentropy = 0.811\\nsamples = 4\\nvalue = [3, 1]'),\n",
       " Text(18.261818181818185, 108.72, 'entropy = 0.0\\nsamples = 3\\nvalue = [3, 0]'),\n",
       " Text(30.436363636363637, 108.72, 'entropy = 0.0\\nsamples = 1\\nvalue = [0, 1]'),\n",
       " Text(36.52363636363637, 158.89846153846153, 'X[1] <= 0.21\\nentropy = 0.989\\nsamples = 32\\nvalue = [18, 14]'),\n",
       " Text(30.436363636363637, 142.1723076923077, 'entropy = 0.0\\nsamples = 10\\nvalue = [0, 10]'),\n",
       " Text(42.6109090909091, 142.1723076923077, 'X[4] <= 0.032\\nentropy = 0.684\\nsamples = 22\\nvalue = [18, 4]'),\n",
       " Text(36.52363636363637, 125.44615384615385, 'entropy = 0.0\\nsamples = 3\\nvalue = [0, 3]'),\n",
       " Text(48.69818181818182, 125.44615384615385, 'X[10] <= 10.55\\nentropy = 0.297\\nsamples = 19\\nvalue = [18, 1]'),\n",
       " Text(42.6109090909091, 108.72, 'entropy = 1.0\\nsamples = 2\\nvalue = [1, 1]'),\n",
       " Text(54.78545454545455, 108.72, 'entropy = 0.0\\nsamples = 17\\nvalue = [17, 0]'),\n",
       " Text(73.04727272727274, 175.62461538461537, 'X[7] <= 0.993\\nentropy = 0.081\\nsamples = 1002\\nvalue = [992, 10]'),\n",
       " Text(60.872727272727275, 158.89846153846153, 'X[8] <= 3.195\\nentropy = 0.779\\nsamples = 39\\nvalue = [30, 9]'),\n",
       " Text(54.78545454545455, 142.1723076923077, 'entropy = 0.0\\nsamples = 8\\nvalue = [0, 8]'),\n",
       " Text(66.96000000000001, 142.1723076923077, 'X[7] <= 0.993\\nentropy = 0.206\\nsamples = 31\\nvalue = [30, 1]'),\n",
       " Text(60.872727272727275, 125.44615384615385, 'entropy = 0.0\\nsamples = 29\\nvalue = [29, 0]'),\n",
       " Text(73.04727272727274, 125.44615384615385, 'entropy = 1.0\\nsamples = 2\\nvalue = [1, 1]'),\n",
       " Text(85.2218181818182, 158.89846153846153, 'X[9] <= 0.365\\nentropy = 0.012\\nsamples = 963\\nvalue = [962, 1]'),\n",
       " Text(79.13454545454546, 142.1723076923077, 'entropy = 0.0\\nsamples = 1\\nvalue = [0, 1]'),\n",
       " Text(91.30909090909091, 142.1723076923077, 'entropy = 0.0\\nsamples = 962\\nvalue = [962, 0]'),\n",
       " Text(221.42454545454547, 192.35076923076923, 'X[4] <= 0.068\\nentropy = 0.342\\nsamples = 4089\\nvalue = [260, 3829]'),\n",
       " Text(167.4, 175.62461538461537, 'X[8] <= 3.425\\nentropy = 0.065\\nsamples = 3667\\nvalue = [28, 3639]'),\n",
       " Text(133.92000000000002, 158.89846153846153, 'X[9] <= 0.715\\nentropy = 0.036\\nsamples = 3421\\nvalue = [13, 3408]'),\n",
       " Text(103.48363636363638, 142.1723076923077, 'X[4] <= 0.013\\nentropy = 0.022\\nsamples = 3259\\nvalue = [7, 3252]'),\n",
       " Text(97.39636363636365, 125.44615384615385, 'entropy = 0.918\\nsamples = 3\\nvalue = [2, 1]'),\n",
       " Text(109.5709090909091, 125.44615384615385, 'X[6] <= 275.0\\nentropy = 0.017\\nsamples = 3256\\nvalue = [5, 3251]'),\n",
       " Text(97.39636363636365, 108.72, 'X[0] <= 6.05\\nentropy = 0.011\\nsamples = 3249\\nvalue = [3, 3246]'),\n",
       " Text(91.30909090909091, 91.99384615384615, 'X[5] <= 6.5\\nentropy = 0.061\\nsamples = 425\\nvalue = [3, 422]'),\n",
       " Text(85.2218181818182, 75.2676923076923, 'entropy = 1.0\\nsamples = 2\\nvalue = [1, 1]'),\n",
       " Text(97.39636363636365, 75.2676923076923, 'X[2] <= 0.215\\nentropy = 0.043\\nsamples = 423\\nvalue = [2, 421]'),\n",
       " Text(91.30909090909091, 58.541538461538465, 'X[4] <= 0.045\\nentropy = 0.155\\nsamples = 89\\nvalue = [2, 87]'),\n",
       " Text(85.2218181818182, 41.81538461538463, 'entropy = 0.0\\nsamples = 58\\nvalue = [0, 58]'),\n",
       " Text(97.39636363636365, 41.81538461538463, 'X[3] <= 1.85\\nentropy = 0.345\\nsamples = 31\\nvalue = [2, 29]'),\n",
       " Text(91.30909090909091, 25.089230769230767, 'X[3] <= 1.65\\nentropy = 0.65\\nsamples = 12\\nvalue = [2, 10]'),\n",
       " Text(85.2218181818182, 8.363076923076932, 'entropy = 0.0\\nsamples = 9\\nvalue = [0, 9]'),\n",
       " Text(97.39636363636365, 8.363076923076932, 'entropy = 0.918\\nsamples = 3\\nvalue = [2, 1]'),\n",
       " Text(103.48363636363638, 25.089230769230767, 'entropy = 0.0\\nsamples = 19\\nvalue = [0, 19]'),\n",
       " Text(103.48363636363638, 58.541538461538465, 'entropy = 0.0\\nsamples = 334\\nvalue = [0, 334]'),\n",
       " Text(103.48363636363638, 91.99384615384615, 'entropy = 0.0\\nsamples = 2824\\nvalue = [0, 2824]'),\n",
       " Text(121.74545454545455, 108.72, 'X[8] <= 3.02\\nentropy = 0.863\\nsamples = 7\\nvalue = [2, 5]'),\n",
       " Text(115.65818181818183, 91.99384615384615, 'entropy = 0.0\\nsamples = 2\\nvalue = [2, 0]'),\n",
       " Text(127.83272727272728, 91.99384615384615, 'entropy = 0.0\\nsamples = 5\\nvalue = [0, 5]'),\n",
       " Text(164.35636363636365, 142.1723076923077, 'X[4] <= 0.056\\nentropy = 0.229\\nsamples = 162\\nvalue = [6, 156]'),\n",
       " Text(152.1818181818182, 125.44615384615385, 'X[9] <= 1.35\\nentropy = 0.099\\nsamples = 156\\nvalue = [2, 154]'),\n",
       " Text(146.09454545454548, 108.72, 'X[6] <= 69.0\\nentropy = 0.056\\nsamples = 155\\nvalue = [1, 154]'),\n",
       " Text(140.00727272727275, 91.99384615384615, 'entropy = 0.0\\nsamples = 1\\nvalue = [1, 0]'),\n",
       " Text(152.1818181818182, 91.99384615384615, 'entropy = 0.0\\nsamples = 154\\nvalue = [0, 154]'),\n",
       " Text(158.26909090909092, 108.72, 'entropy = 0.0\\nsamples = 1\\nvalue = [1, 0]'),\n",
       " Text(176.53090909090912, 125.44615384615385, 'X[8] <= 3.2\\nentropy = 0.918\\nsamples = 6\\nvalue = [4, 2]'),\n",
       " Text(170.4436363636364, 108.72, 'entropy = 0.0\\nsamples = 2\\nvalue = [0, 2]'),\n",
       " Text(182.61818181818182, 108.72, 'entropy = 0.0\\nsamples = 4\\nvalue = [4, 0]'),\n",
       " Text(200.88000000000002, 158.89846153846153, 'X[6] <= 106.5\\nentropy = 0.331\\nsamples = 246\\nvalue = [15, 231]'),\n",
       " Text(194.7927272727273, 142.1723076923077, 'X[9] <= 0.545\\nentropy = 0.779\\nsamples = 65\\nvalue = [15, 50]'),\n",
       " Text(188.70545454545456, 125.44615384615385, 'entropy = 0.0\\nsamples = 34\\nvalue = [0, 34]'),\n",
       " Text(200.88000000000002, 125.44615384615385, 'X[1] <= 0.205\\nentropy = 0.999\\nsamples = 31\\nvalue = [15, 16]'),\n",
       " Text(194.7927272727273, 108.72, 'entropy = 0.0\\nsamples = 10\\nvalue = [0, 10]'),\n",
       " Text(206.96727272727276, 108.72, 'X[4] <= 0.044\\nentropy = 0.863\\nsamples = 21\\nvalue = [15, 6]'),\n",
       " Text(200.88000000000002, 91.99384615384615, 'X[1] <= 0.495\\nentropy = 0.918\\nsamples = 9\\nvalue = [3, 6]'),\n",
       " Text(194.7927272727273, 75.2676923076923, 'entropy = 0.0\\nsamples = 6\\nvalue = [0, 6]'),\n",
       " Text(206.96727272727276, 75.2676923076923, 'entropy = 0.0\\nsamples = 3\\nvalue = [3, 0]'),\n",
       " Text(213.05454545454546, 91.99384615384615, 'entropy = 0.0\\nsamples = 12\\nvalue = [12, 0]'),\n",
       " Text(206.96727272727276, 142.1723076923077, 'entropy = 0.0\\nsamples = 181\\nvalue = [0, 181]'),\n",
       " Text(275.44909090909096, 175.62461538461537, 'X[1] <= 0.405\\nentropy = 0.993\\nsamples = 422\\nvalue = [232, 190]'),\n",
       " Text(240.44727272727275, 158.89846153846153, 'X[6] <= 89.0\\nentropy = 0.711\\nsamples = 190\\nvalue = [37, 153]'),\n",
       " Text(225.22909090909093, 142.1723076923077, 'X[7] <= 0.994\\nentropy = 0.758\\nsamples = 32\\nvalue = [25, 7]'),\n",
       " Text(219.1418181818182, 125.44615384615385, 'entropy = 0.0\\nsamples = 7\\nvalue = [0, 7]'),\n",
       " Text(231.31636363636366, 125.44615384615385, 'entropy = 0.0\\nsamples = 25\\nvalue = [25, 0]'),\n",
       " Text(255.66545454545457, 142.1723076923077, 'X[9] <= 0.745\\nentropy = 0.388\\nsamples = 158\\nvalue = [12, 146]'),\n",
       " Text(243.4909090909091, 125.44615384615385, 'X[0] <= 8.55\\nentropy = 0.241\\nsamples = 151\\nvalue = [6, 145]'),\n",
       " Text(237.4036363636364, 108.72, 'X[4] <= 0.075\\nentropy = 0.178\\nsamples = 149\\nvalue = [4, 145]'),\n",
       " Text(231.31636363636366, 91.99384615384615, 'X[6] <= 104.5\\nentropy = 0.513\\nsamples = 35\\nvalue = [4, 31]'),\n",
       " Text(219.1418181818182, 75.2676923076923, 'X[1] <= 0.36\\nentropy = 0.811\\nsamples = 4\\nvalue = [3, 1]'),\n",
       " Text(213.05454545454546, 58.541538461538465, 'entropy = 0.0\\nsamples = 3\\nvalue = [3, 0]'),\n",
       " Text(225.22909090909093, 58.541538461538465, 'entropy = 0.0\\nsamples = 1\\nvalue = [0, 1]'),\n",
       " Text(243.4909090909091, 75.2676923076923, 'X[10] <= 11.25\\nentropy = 0.206\\nsamples = 31\\nvalue = [1, 30]'),\n",
       " Text(237.4036363636364, 58.541538461538465, 'entropy = 0.0\\nsamples = 30\\nvalue = [0, 30]'),\n",
       " Text(249.57818181818183, 58.541538461538465, 'entropy = 0.0\\nsamples = 1\\nvalue = [1, 0]'),\n",
       " Text(243.4909090909091, 91.99384615384615, 'entropy = 0.0\\nsamples = 114\\nvalue = [0, 114]'),\n",
       " Text(249.57818181818183, 108.72, 'entropy = 0.0\\nsamples = 2\\nvalue = [2, 0]'),\n",
       " Text(267.84000000000003, 125.44615384615385, 'X[10] <= 9.25\\nentropy = 0.592\\nsamples = 7\\nvalue = [6, 1]'),\n",
       " Text(261.75272727272727, 108.72, 'entropy = 0.0\\nsamples = 1\\nvalue = [0, 1]'),\n",
       " Text(273.92727272727274, 108.72, 'entropy = 0.0\\nsamples = 6\\nvalue = [6, 0]'),\n",
       " Text(310.45090909090914, 158.89846153846153, 'X[6] <= 157.0\\nentropy = 0.633\\nsamples = 232\\nvalue = [195, 37]'),\n",
       " Text(304.3636363636364, 142.1723076923077, 'X[7] <= 0.995\\nentropy = 0.355\\nsamples = 209\\nvalue = [195, 14]'),\n",
       " Text(292.18909090909096, 125.44615384615385, 'X[10] <= 9.9\\nentropy = 0.779\\nsamples = 13\\nvalue = [3, 10]'),\n",
       " Text(286.1018181818182, 108.72, 'entropy = 0.0\\nsamples = 9\\nvalue = [0, 9]'),\n",
       " Text(298.27636363636367, 108.72, 'X[5] <= 17.0\\nentropy = 0.811\\nsamples = 4\\nvalue = [3, 1]'),\n",
       " Text(292.18909090909096, 91.99384615384615, 'entropy = 0.0\\nsamples = 1\\nvalue = [0, 1]'),\n",
       " Text(304.3636363636364, 91.99384615384615, 'entropy = 0.0\\nsamples = 3\\nvalue = [3, 0]'),\n",
       " Text(316.53818181818184, 125.44615384615385, 'X[3] <= 9.25\\nentropy = 0.144\\nsamples = 196\\nvalue = [192, 4]'),\n",
       " Text(310.45090909090914, 108.72, 'entropy = 0.0\\nsamples = 188\\nvalue = [188, 0]'),\n",
       " Text(322.6254545454546, 108.72, 'X[9] <= 0.505\\nentropy = 1.0\\nsamples = 8\\nvalue = [4, 4]'),\n",
       " Text(316.53818181818184, 91.99384615384615, 'entropy = 0.0\\nsamples = 4\\nvalue = [0, 4]'),\n",
       " Text(328.7127272727273, 91.99384615384615, 'entropy = 0.0\\nsamples = 4\\nvalue = [4, 0]'),\n",
       " Text(316.53818181818184, 142.1723076923077, 'entropy = 0.0\\nsamples = 23\\nvalue = [0, 23]')]"
      ]
     },
     "execution_count": 14,
     "metadata": {},
     "output_type": "execute_result"
    },
    {
     "data": {
      "image/png": "[encoded data removed]",
      "text/plain": [
       "<Figure size 432x288 with 1 Axes>"
      ]
     },
     "metadata": {
      "needs_background": "light"
     },
     "output_type": "display_data"
    }
   ],
   "source": [
    "plot_tree(best_clf)"
   ]
  },
  {
   "cell_type": "markdown",
   "metadata": {},
   "source": [
    "## Wine Quality\n",
    "### Descriptive Statistics"
   ]
  },
  {
   "cell_type": "code",
   "execution_count": 15,
   "metadata": {},
   "outputs": [
    {
     "name": "stdout",
     "output_type": "stream",
     "text": [
      "   fixed_acidity  volatile_acidity  citric_acid  residual_sugar  chlorides  \\\n",
      "0            7.4              0.70         0.00             1.9      0.076   \n",
      "1            7.8              0.88         0.00             2.6      0.098   \n",
      "2            7.8              0.76         0.04             2.3      0.092   \n",
      "3           11.2              0.28         0.56             1.9      0.075   \n",
      "4            7.4              0.70         0.00             1.9      0.076   \n",
      "\n",
      "   free_sulfur_dioxide  total_sulfur_dioxide  density    pH  sulphates  \\\n",
      "0                 11.0                  34.0   0.9978  3.51       0.56   \n",
      "1                 25.0                  67.0   0.9968  3.20       0.68   \n",
      "2                 15.0                  54.0   0.9970  3.26       0.65   \n",
      "3                 17.0                  60.0   0.9980  3.16       0.58   \n",
      "4                 11.0                  34.0   0.9978  3.51       0.56   \n",
      "\n",
      "   alcohol  quality  wine_color  \n",
      "0      9.4        5           0  \n",
      "1      9.8        5           0  \n",
      "2      9.8        5           0  \n",
      "3      9.8        6           0  \n",
      "4      9.4        5           0  \n",
      "       fixed_acidity  volatile_acidity  citric_acid  residual_sugar  \\\n",
      "count    6497.000000       6497.000000  6497.000000     6497.000000   \n",
      "mean        7.215307          0.339666     0.318633        5.443235   \n",
      "std         1.296434          0.164636     0.145318        4.757804   \n",
      "min         3.800000          0.080000     0.000000        0.600000   \n",
      "25%         6.400000          0.230000     0.250000        1.800000   \n",
      "50%         7.000000          0.290000     0.310000        3.000000   \n",
      "75%         7.700000          0.400000     0.390000        8.100000   \n",
      "max        15.900000          1.580000     1.660000       65.800000   \n",
      "\n",
      "         chlorides  free_sulfur_dioxide  total_sulfur_dioxide      density  \\\n",
      "count  6497.000000          6497.000000           6497.000000  6497.000000   \n",
      "mean      0.056034            30.525319            115.744574     0.994697   \n",
      "std       0.035034            17.749400             56.521855     0.002999   \n",
      "min       0.009000             1.000000              6.000000     0.987110   \n",
      "25%       0.038000            17.000000             77.000000     0.992340   \n",
      "50%       0.047000            29.000000            118.000000     0.994890   \n",
      "75%       0.065000            41.000000            156.000000     0.996990   \n",
      "max       0.611000           289.000000            440.000000     1.038980   \n",
      "\n",
      "                pH    sulphates      alcohol      quality   wine_color  \n",
      "count  6497.000000  6497.000000  6497.000000  6497.000000  6497.000000  \n",
      "mean      3.218501     0.531268    10.491801     5.818378     0.753886  \n",
      "std       0.160787     0.148806     1.192712     0.873255     0.430779  \n",
      "min       2.720000     0.220000     8.000000     3.000000     0.000000  \n",
      "25%       3.110000     0.430000     9.500000     5.000000     1.000000  \n",
      "50%       3.210000     0.510000    10.300000     6.000000     1.000000  \n",
      "75%       3.320000     0.600000    11.300000     6.000000     1.000000  \n",
      "max       4.010000     2.000000    14.900000     9.000000     1.000000  \n",
      "[3, 4, 5, 6, 7, 8, 9]\n",
      "6    2836\n",
      "5    2138\n",
      "7    1079\n",
      "4     216\n",
      "8     193\n",
      "3      30\n",
      "9       5\n",
      "Name: quality, dtype: int64\n"
     ]
    }
   ],
   "source": [
    "#!/usr/bin/env python3\n",
    "import numpy as np\n",
    "import pandas as pd\n",
    "import seaborn as sns\n",
    "import matplotlib.pyplot as plt\n",
    "import statsmodels.api as sm\n",
    "import statsmodels.formula.api as smf\n",
    "from statsmodels.formula.api import ols, glm\n",
    "# Read the dataset into a pandas DataFrame\n",
    "wine = wines\n",
    "wine.columns = wine.columns.str.replace(' ', '_')\n",
    "print(wine.head())\n",
    "# Display descriptive statistics for all variables\n",
    "print(wine.describe())\n",
    "# Identify unique values\n",
    "print(sorted(wine.quality.unique()))\n",
    "# Calculate value frequencies\n",
    "print(wine.quality.value_counts())\n"
   ]
  },
  {
   "cell_type": "markdown",
   "metadata": {},
   "source": [
    "### Grouping, Histograms, and t-tests"
   ]
  },
  {
   "cell_type": "code",
   "execution_count": 16,
   "metadata": {},
   "outputs": [
    {
     "name": "stdout",
     "output_type": "stream",
     "text": [
      "                type \n",
      "quality  count  red      1599.000000\n",
      "                white    4898.000000\n",
      "         mean   red         5.636023\n",
      "                white       5.877909\n",
      "         std    red         0.807569\n",
      "                white       0.885639\n",
      "         min    red         3.000000\n",
      "                white       3.000000\n",
      "         25%    red         5.000000\n",
      "                white       5.000000\n",
      "         50%    red         6.000000\n",
      "                white       6.000000\n",
      "         75%    red         6.000000\n",
      "                white       6.000000\n",
      "         max    red         8.000000\n",
      "                white       9.000000\n",
      "dtype: float64\n",
      "     quality      \n",
      "type     red white\n",
      "0.25     5.0   5.0\n",
      "0.75     6.0   6.0\n",
      "AxesSubplot(0.125,0.125;0.775x0.755)\n",
      "AxesSubplot(0.125,0.125;0.775x0.755)\n"
     ]
    },
    {
     "data": {
      "image/png": "[encoded data removed]",
      "text/plain": [
       "<Figure size 432x288 with 1 Axes>"
      ]
     },
     "metadata": {},
     "output_type": "display_data"
    },
    {
     "name": "stdout",
     "output_type": "stream",
     "text": [
      "        quality\n",
      "            std\n",
      "type           \n",
      "red    0.807569\n",
      "white  0.885639\n",
      "tstat: -9.686 pvalue: 0.0000\n"
     ]
    }
   ],
   "source": [
    "# Надо цвет задать в типе чтобы дальше по учебнику идти\n",
    "\n",
    "wine['type'] = ['red' for i in red.index] + ['white' for i in white.index]\n",
    "\n",
    "\n",
    "# Display descriptive statistics for quality by wine type\n",
    "print(wine.groupby('type')[['quality']].describe().unstack('type'))\n",
    "# Display specific quantile values for quality by wine type\n",
    "print(wine.groupby('type')[['quality']].quantile([0.25, 0.75]).unstack('type'))\n",
    "# Look at the distribution of quality by wine type\n",
    "red_wine = wine.loc[wine['type']=='red', 'quality']\n",
    "white_wine = wine.loc[wine['type']=='white', 'quality']\n",
    "sns.set_style(\"dark\")\n",
    "print(sns.distplot(red_wine, \\\n",
    " norm_hist=True, kde=False, color=\"red\", label=\"Red wine\"))\n",
    "print(sns.distplot(white_wine, \\\n",
    " norm_hist=True, kde=False, color=\"white\", label=\"White wine\"))\n",
    "#sns.axlabel(\"Quality Score\", \"Density\")\n",
    "plt.title(\"Distribution of Quality by Wine Type\")\n",
    "plt.legend()\n",
    "plt.show()\n",
    "# Test whether mean quality is different between red and white wines\n",
    "print(wine.groupby(['type'])[['quality']].agg(['std']))\n",
    "tstat, pvalue, df = sm.stats.ttest_ind(red_wine, white_wine)\n",
    "print('tstat: %.3f pvalue: %.4f' % (tstat, pvalue))\n"
   ]
  },
  {
   "cell_type": "markdown",
   "metadata": {},
   "source": [
    "## Pairwise Relationships and Correlation"
   ]
  },
  {
   "cell_type": "code",
   "execution_count": 17,
   "metadata": {},
   "outputs": [
    {
     "name": "stdout",
     "output_type": "stream",
     "text": [
      "                      fixed_acidity  volatile_acidity  citric_acid  \\\n",
      "fixed_acidity              1.000000          0.219008     0.324436   \n",
      "volatile_acidity           0.219008          1.000000    -0.377981   \n",
      "citric_acid                0.324436         -0.377981     1.000000   \n",
      "residual_sugar            -0.111981         -0.196011     0.142451   \n",
      "chlorides                  0.298195          0.377124     0.038998   \n",
      "free_sulfur_dioxide       -0.282735         -0.352557     0.133126   \n",
      "total_sulfur_dioxide      -0.329054         -0.414476     0.195242   \n",
      "density                    0.458910          0.271296     0.096154   \n",
      "pH                        -0.252700          0.261454    -0.329808   \n",
      "sulphates                  0.299568          0.225984     0.056197   \n",
      "alcohol                   -0.095452         -0.037640    -0.010493   \n",
      "quality                   -0.076743         -0.265699     0.085532   \n",
      "wine_color                -0.486740         -0.653036     0.187397   \n",
      "\n",
      "                      residual_sugar  chlorides  free_sulfur_dioxide  \\\n",
      "fixed_acidity              -0.111981   0.298195            -0.282735   \n",
      "volatile_acidity           -0.196011   0.377124            -0.352557   \n",
      "citric_acid                 0.142451   0.038998             0.133126   \n",
      "residual_sugar              1.000000  -0.128940             0.402871   \n",
      "chlorides                  -0.128940   1.000000            -0.195045   \n",
      "free_sulfur_dioxide         0.402871  -0.195045             1.000000   \n",
      "total_sulfur_dioxide        0.495482  -0.279630             0.720934   \n",
      "density                     0.552517   0.362615             0.025717   \n",
      "pH                         -0.267320   0.044708            -0.145854   \n",
      "sulphates                  -0.185927   0.395593            -0.188457   \n",
      "alcohol                    -0.359415  -0.256916            -0.179838   \n",
      "quality                    -0.036980  -0.200666             0.055463   \n",
      "wine_color                  0.348821  -0.512678             0.471644   \n",
      "\n",
      "                      total_sulfur_dioxide   density        pH  sulphates  \\\n",
      "fixed_acidity                    -0.329054  0.458910 -0.252700   0.299568   \n",
      "volatile_acidity                 -0.414476  0.271296  0.261454   0.225984   \n",
      "citric_acid                       0.195242  0.096154 -0.329808   0.056197   \n",
      "residual_sugar                    0.495482  0.552517 -0.267320  -0.185927   \n",
      "chlorides                        -0.279630  0.362615  0.044708   0.395593   \n",
      "free_sulfur_dioxide               0.720934  0.025717 -0.145854  -0.188457   \n",
      "total_sulfur_dioxide              1.000000  0.032395 -0.238413  -0.275727   \n",
      "density                           0.032395  1.000000  0.011686   0.259478   \n",
      "pH                               -0.238413  0.011686  1.000000   0.192123   \n",
      "sulphates                        -0.275727  0.259478  0.192123   1.000000   \n",
      "alcohol                          -0.265740 -0.686745  0.121248  -0.003029   \n",
      "quality                          -0.041385 -0.305858  0.019506   0.038485   \n",
      "wine_color                        0.700357 -0.390645 -0.329129  -0.487218   \n",
      "\n",
      "                       alcohol   quality  wine_color  \n",
      "fixed_acidity        -0.095452 -0.076743   -0.486740  \n",
      "volatile_acidity     -0.037640 -0.265699   -0.653036  \n",
      "citric_acid          -0.010493  0.085532    0.187397  \n",
      "residual_sugar       -0.359415 -0.036980    0.348821  \n",
      "chlorides            -0.256916 -0.200666   -0.512678  \n",
      "free_sulfur_dioxide  -0.179838  0.055463    0.471644  \n",
      "total_sulfur_dioxide -0.265740 -0.041385    0.700357  \n",
      "density              -0.686745 -0.305858   -0.390645  \n",
      "pH                    0.121248  0.019506   -0.329129  \n",
      "sulphates            -0.003029  0.038485   -0.487218  \n",
      "alcohol               1.000000  0.444319    0.032970  \n",
      "quality               0.444319  1.000000    0.119323  \n",
      "wine_color            0.032970  0.119323    1.000000  \n",
      "type        red  white   All\n",
      "in_sample                   \n",
      "0.0        1399   4698  6097\n",
      "1.0         200    200   400\n",
      "All        1599   4898  6497\n",
      "<seaborn.axisgrid.PairGrid object at 0x0000024D08BC0CC8>\n"
     ]
    },
    {
     "data": {
      "image/png": "[encoded data removed]",
      "text/plain": [
       "<Figure size 599.375x540 with 12 Axes>"
      ]
     },
     "metadata": {},
     "output_type": "display_data"
    }
   ],
   "source": [
    "print(wine.corr())\n",
    "# Take a \"small\" sample of red and white wines for plotting\n",
    "def take_sample(data_frame, replace=False, n=200):\n",
    "    return data_frame.loc[np.random.choice(data_frame.index, \\\n",
    "    replace=replace, size=n)]\n",
    "reds_sample = take_sample(wine.loc[wine['type']=='red', :])\n",
    "whites_sample = take_sample(wine.loc[wine['type']=='white', :])\n",
    "wine_sample = pd.concat([reds_sample, whites_sample])\n",
    "wine['in_sample'] = np.where(wine.index.isin(wine_sample.index), 1.,0.)\n",
    "print(pd.crosstab(wine.in_sample, wine.type, margins=True))\n",
    "# Look at relationship between pairs of variables\n",
    "sns.set_style(\"dark\")\n",
    "g = sns.pairplot(wine_sample, kind='reg', plot_kws={\"ci\": False,\\\n",
    "\"x_jitter\": 0.25, \"y_jitter\": 0.25}, hue='type', diag_kind='hist',\\\n",
    "diag_kws={\"bins\": 10, \"alpha\": 1.0}, palette=dict(red=\"red\", white=\"white\"),\\\n",
    "markers=[\"o\", \"s\"], vars=['quality', 'alcohol', 'residual_sugar'])\n",
    "print(g)\n",
    "plt.suptitle('Histograms and Scatter Plots of Quality, Alcohol, and Residual\\\n",
    "Sugar', fontsize=14, horizontalalignment='center', verticalalignment='top',\\\n",
    "x=0.5, y=0.999)\n",
    "plt.show()"
   ]
  },
  {
   "cell_type": "markdown",
   "metadata": {},
   "source": [
    "## Linear Regression with Least-Squares Estimation\n"
   ]
  },
  {
   "cell_type": "code",
   "execution_count": 18,
   "metadata": {},
   "outputs": [
    {
     "name": "stdout",
     "output_type": "stream",
     "text": [
      "                            OLS Regression Results                            \n",
      "==============================================================================\n",
      "Dep. Variable:                quality   R-squared:                       0.292\n",
      "Model:                            OLS   Adj. R-squared:                  0.291\n",
      "Method:                 Least Squares   F-statistic:                     243.3\n",
      "Date:                Fri, 03 Jul 2020   Prob (F-statistic):               0.00\n",
      "Time:                        17:54:32   Log-Likelihood:                -7215.5\n",
      "No. Observations:                6497   AIC:                         1.445e+04\n",
      "Df Residuals:                    6485   BIC:                         1.454e+04\n",
      "Df Model:                          11                                         \n",
      "Covariance Type:            nonrobust                                         \n",
      "========================================================================================\n",
      "                           coef    std err          t      P>|t|      [0.025      0.975]\n",
      "----------------------------------------------------------------------------------------\n",
      "Intercept               55.7627     11.894      4.688      0.000      32.447      79.079\n",
      "alcohol                  0.2670      0.017     15.963      0.000       0.234       0.300\n",
      "chlorides               -0.4837      0.333     -1.454      0.146      -1.136       0.168\n",
      "citric_acid             -0.1097      0.080     -1.377      0.168      -0.266       0.046\n",
      "density                -54.9669     12.137     -4.529      0.000     -78.760     -31.173\n",
      "fixed_acidity            0.0677      0.016      4.346      0.000       0.037       0.098\n",
      "free_sulfur_dioxide      0.0060      0.001      7.948      0.000       0.004       0.007\n",
      "pH                       0.4393      0.090      4.861      0.000       0.262       0.616\n",
      "residual_sugar           0.0436      0.005      8.449      0.000       0.033       0.054\n",
      "sulphates                0.7683      0.076     10.092      0.000       0.619       0.917\n",
      "total_sulfur_dioxide    -0.0025      0.000     -8.969      0.000      -0.003      -0.002\n",
      "volatile_acidity        -1.3279      0.077    -17.162      0.000      -1.480      -1.176\n",
      "==============================================================================\n",
      "Omnibus:                      144.075   Durbin-Watson:                   1.646\n",
      "Prob(Omnibus):                  0.000   Jarque-Bera (JB):              324.712\n",
      "Skew:                          -0.006   Prob(JB):                     3.09e-71\n",
      "Kurtosis:                       4.095   Cond. No.                     2.49e+05\n",
      "==============================================================================\n",
      "\n",
      "Warnings:\n",
      "[1] Standard Errors assume that the covariance matrix of the errors is correctly specified.\n",
      "[2] The condition number is large, 2.49e+05. This might indicate that there are\n",
      "strong multicollinearity or other numerical problems.\n",
      "\n",
      "Quantities you can extract from the result:\n",
      "['HC0_se', 'HC1_se', 'HC2_se', 'HC3_se', '_HCCM', '__class__', '__delattr__', '__dict__', '__dir__', '__doc__', '__eq__', '__format__', '__ge__', '__getattribute__', '__gt__', '__hash__', '__init__', '__init_subclass__', '__le__', '__lt__', '__module__', '__ne__', '__new__', '__reduce__', '__reduce_ex__', '__repr__', '__setattr__', '__sizeof__', '__str__', '__subclasshook__', '__weakref__', '_cache', '_data_attr', '_get_robustcov_results', '_is_nested', '_use_t', '_wexog_singular_values', 'aic', 'bic', 'bse', 'centered_tss', 'compare_f_test', 'compare_lm_test', 'compare_lr_test', 'condition_number', 'conf_int', 'conf_int_el', 'cov_HC0', 'cov_HC1', 'cov_HC2', 'cov_HC3', 'cov_kwds', 'cov_params', 'cov_type', 'df_model', 'df_resid', 'diagn', 'eigenvals', 'el_test', 'ess', 'f_pvalue', 'f_test', 'fittedvalues', 'fvalue', 'get_influence', 'get_prediction', 'get_robustcov_results', 'initialize', 'k_constant', 'llf', 'load', 'model', 'mse_model', 'mse_resid', 'mse_total', 'nobs', 'normalized_cov_params', 'outlier_test', 'params', 'predict', 'pvalues', 'remove_data', 'resid', 'resid_pearson', 'rsquared', 'rsquared_adj', 'save', 'scale', 'ssr', 'summary', 'summary2', 't_test', 't_test_pairwise', 'tvalues', 'uncentered_tss', 'use_t', 'wald_test', 'wald_test_terms', 'wresid']\n",
      "\n",
      "Coefficients:\n",
      "Intercept               55.762750\n",
      "alcohol                  0.267030\n",
      "chlorides               -0.483714\n",
      "citric_acid             -0.109657\n",
      "density                -54.966942\n",
      "fixed_acidity            0.067684\n",
      "free_sulfur_dioxide      0.005970\n",
      "pH                       0.439296\n",
      "residual_sugar           0.043559\n",
      "sulphates                0.768252\n",
      "total_sulfur_dioxide    -0.002481\n",
      "volatile_acidity        -1.327892\n",
      "dtype: float64\n",
      "\n",
      "Coefficient Std Errors:\n",
      "Intercept               11.893899\n",
      "alcohol                  0.016728\n",
      "chlorides                0.332683\n",
      "citric_acid              0.079619\n",
      "density                 12.137473\n",
      "fixed_acidity            0.015573\n",
      "free_sulfur_dioxide      0.000751\n",
      "pH                       0.090371\n",
      "residual_sugar           0.005156\n",
      "sulphates                0.076123\n",
      "total_sulfur_dioxide     0.000277\n",
      "volatile_acidity         0.077373\n",
      "dtype: float64\n",
      "\n",
      "Adj. R-squared:\n",
      "0.29\n",
      "\n",
      "F-statistic: 243.3 P-value: 0.00\n",
      "\n",
      "Number of obs: 6497 Number of fitted values: 6497\n"
     ]
    }
   ],
   "source": [
    "my_formula = 'quality ~ alcohol + chlorides + citric_acid + density\\\n",
    "+ fixed_acidity + free_sulfur_dioxide + pH + residual_sugar + sulphates\\\n",
    "+ total_sulfur_dioxide + volatile_acidity'\n",
    "lm = ols(my_formula, data=wine).fit()\n",
    "## Alternatively, a linear regression using generalized linear model (glm) syntax\n",
    "## lm = glm(my_formula, data=wine, family=sm.families.Gaussian()).fit()\n",
    "print(lm.summary())\n",
    "print(\"\\nQuantities you can extract from the result:\\n%s\" % dir(lm))\n",
    "print(\"\\nCoefficients:\\n%s\" % lm.params)\n",
    "print(\"\\nCoefficient Std Errors:\\n%s\" % lm.bse)\n",
    "print(\"\\nAdj. R-squared:\\n%.2f\" % lm.rsquared_adj)\n",
    "print(\"\\nF-statistic: %.1f P-value: %.2f\" % (lm.fvalue, lm.f_pvalue))\n",
    "print(\"\\nNumber of obs: %d Number of fitted values: %d\" % (lm.nobs,\\\n",
    "len(lm.fittedvalues)))\n"
   ]
  },
  {
   "cell_type": "markdown",
   "metadata": {},
   "source": [
    "## Standardizing Independent Variables"
   ]
  },
  {
   "cell_type": "code",
   "execution_count": 62,
   "metadata": {},
   "outputs": [
    {
     "name": "stdout",
     "output_type": "stream",
     "text": [
      "                            OLS Regression Results                            \n",
      "==============================================================================\n",
      "Dep. Variable:                quality   R-squared:                       0.292\n",
      "Model:                            OLS   Adj. R-squared:                  0.291\n",
      "Method:                 Least Squares   F-statistic:                     243.3\n",
      "Date:                Fri, 03 Jul 2020   Prob (F-statistic):               0.00\n",
      "Time:                        18:24:52   Log-Likelihood:                -7215.5\n",
      "No. Observations:                6497   AIC:                         1.445e+04\n",
      "Df Residuals:                    6485   BIC:                         1.454e+04\n",
      "Df Model:                          11                                         \n",
      "Covariance Type:            nonrobust                                         \n",
      "========================================================================================\n",
      "                           coef    std err          t      P>|t|      [0.025      0.975]\n",
      "----------------------------------------------------------------------------------------\n",
      "Intercept                5.8184      0.009    637.785      0.000       5.800       5.836\n",
      "alcohol                  0.3185      0.020     15.963      0.000       0.279       0.358\n",
      "chlorides               -0.0169      0.012     -1.454      0.146      -0.040       0.006\n",
      "citric_acid             -0.0159      0.012     -1.377      0.168      -0.039       0.007\n",
      "density                 -0.1648      0.036     -4.529      0.000      -0.236      -0.093\n",
      "fixed_acidity            0.0877      0.020      4.346      0.000       0.048       0.127\n",
      "free_sulfur_dioxide      0.1060      0.013      7.948      0.000       0.080       0.132\n",
      "pH                       0.0706      0.015      4.861      0.000       0.042       0.099\n",
      "residual_sugar           0.2072      0.025      8.449      0.000       0.159       0.255\n",
      "sulphates                0.1143      0.011     10.092      0.000       0.092       0.137\n",
      "total_sulfur_dioxide    -0.1402      0.016     -8.969      0.000      -0.171      -0.110\n",
      "volatile_acidity        -0.2186      0.013    -17.162      0.000      -0.244      -0.194\n",
      "==============================================================================\n",
      "Omnibus:                      144.075   Durbin-Watson:                   1.646\n",
      "Prob(Omnibus):                  0.000   Jarque-Bera (JB):              324.712\n",
      "Skew:                          -0.006   Prob(JB):                     3.09e-71\n",
      "Kurtosis:                       4.095   Cond. No.                         9.61\n",
      "==============================================================================\n",
      "\n",
      "Warnings:\n",
      "[1] Standard Errors assume that the covariance matrix of the errors is correctly specified.\n"
     ]
    }
   ],
   "source": [
    "# Create a Series named dependent_variable to hold the quality data\n",
    "dependent_variable = wine['quality']\n",
    "# Create a DataFrame named independent variables to hold all of the variables\n",
    "# from the original wine dataset except quality, type, and in_sample\n",
    "independent_variables = wine[wine.columns.difference(['quality', 'type',\\\n",
    "'in_sample'])]\n",
    "# Standardize the independent variables. For each variable,\n",
    "# subtract the variable's mean from each observation and\n",
    "# divide each result by the variable's standard deviation\n",
    "independent_variables_standardized = (independent_variables -\\\n",
    "independent_variables.mean()) / independent_variables.std()\n",
    "# Add the dependent variable, quality, as a column in the DataFrame of\n",
    "# independent variables to create a new dataset with\n",
    "# standardized independent variables\n",
    "wine_standardized = pd.concat([dependent_variable, independent_variables_standardized], axis=1)\n",
    "\n",
    "\n",
    "lm_standardized = ols(my_formula, data=wine_standardized).fit()\n",
    "print(lm_standardized.summary())"
   ]
  },
  {
   "cell_type": "markdown",
   "metadata": {},
   "source": [
    "## Making Predictions\n"
   ]
  },
  {
   "cell_type": "code",
   "execution_count": 63,
   "metadata": {},
   "outputs": [
    {
     "ename": "AttributeError",
     "evalue": "'DataFrame' object has no attribute 'ix'",
     "output_type": "error",
     "traceback": [
      "\u001b[1;31m---------------------------------------------------------------------------\u001b[0m",
      "\u001b[1;31mAttributeError\u001b[0m                            Traceback (most recent call last)",
      "\u001b[1;32m<ipython-input-63-61b233ca8c7b>\u001b[0m in \u001b[0;36m<module>\u001b[1;34m\u001b[0m\n\u001b[0;32m      2\u001b[0m \u001b[1;31m# The new observations should only contain the independent variables used in the\u001b[0m\u001b[1;33m\u001b[0m\u001b[1;33m\u001b[0m\u001b[1;33m\u001b[0m\u001b[0m\n\u001b[0;32m      3\u001b[0m \u001b[1;31m# model\u001b[0m\u001b[1;33m\u001b[0m\u001b[1;33m\u001b[0m\u001b[1;33m\u001b[0m\u001b[0m\n\u001b[1;32m----> 4\u001b[1;33m new_observations = wine.ix[wine.index.isin(range(10)), \\\n\u001b[0m\u001b[0;32m      5\u001b[0m independent_variables.columns]\n\u001b[0;32m      6\u001b[0m \u001b[1;31m# Predict quality scores based on the new observations' wine characteristics\u001b[0m\u001b[1;33m\u001b[0m\u001b[1;33m\u001b[0m\u001b[1;33m\u001b[0m\u001b[0m\n",
      "\u001b[1;32m~\\Anaconda3\\lib\\site-packages\\pandas\\core\\generic.py\u001b[0m in \u001b[0;36m__getattr__\u001b[1;34m(self, name)\u001b[0m\n\u001b[0;32m   5272\u001b[0m             \u001b[1;32mif\u001b[0m \u001b[0mself\u001b[0m\u001b[1;33m.\u001b[0m\u001b[0m_info_axis\u001b[0m\u001b[1;33m.\u001b[0m\u001b[0m_can_hold_identifiers_and_holds_name\u001b[0m\u001b[1;33m(\u001b[0m\u001b[0mname\u001b[0m\u001b[1;33m)\u001b[0m\u001b[1;33m:\u001b[0m\u001b[1;33m\u001b[0m\u001b[1;33m\u001b[0m\u001b[0m\n\u001b[0;32m   5273\u001b[0m                 \u001b[1;32mreturn\u001b[0m \u001b[0mself\u001b[0m\u001b[1;33m[\u001b[0m\u001b[0mname\u001b[0m\u001b[1;33m]\u001b[0m\u001b[1;33m\u001b[0m\u001b[1;33m\u001b[0m\u001b[0m\n\u001b[1;32m-> 5274\u001b[1;33m             \u001b[1;32mreturn\u001b[0m \u001b[0mobject\u001b[0m\u001b[1;33m.\u001b[0m\u001b[0m__getattribute__\u001b[0m\u001b[1;33m(\u001b[0m\u001b[0mself\u001b[0m\u001b[1;33m,\u001b[0m \u001b[0mname\u001b[0m\u001b[1;33m)\u001b[0m\u001b[1;33m\u001b[0m\u001b[1;33m\u001b[0m\u001b[0m\n\u001b[0m\u001b[0;32m   5275\u001b[0m \u001b[1;33m\u001b[0m\u001b[0m\n\u001b[0;32m   5276\u001b[0m     \u001b[1;32mdef\u001b[0m \u001b[0m__setattr__\u001b[0m\u001b[1;33m(\u001b[0m\u001b[0mself\u001b[0m\u001b[1;33m,\u001b[0m \u001b[0mname\u001b[0m\u001b[1;33m:\u001b[0m \u001b[0mstr\u001b[0m\u001b[1;33m,\u001b[0m \u001b[0mvalue\u001b[0m\u001b[1;33m)\u001b[0m \u001b[1;33m->\u001b[0m \u001b[1;32mNone\u001b[0m\u001b[1;33m:\u001b[0m\u001b[1;33m\u001b[0m\u001b[1;33m\u001b[0m\u001b[0m\n",
      "\u001b[1;31mAttributeError\u001b[0m: 'DataFrame' object has no attribute 'ix'"
     ]
    }
   ],
   "source": [
    "# Create 10 \"new\" observations from the first 10 observations in the wine dataset\n",
    "# The new observations should only contain the independent variables used in the\n",
    "# model\n",
    "new_observations = wine.ix[wine.index.isin(range(10)), \\\n",
    "independent_variables.columns]\n",
    "# Predict quality scores based on the new observations' wine characteristics\n",
    "y_predicted = lm.predict(new_observations)\n",
    "# Round the predicted values to two decimal placess and print them to the screen\n",
    "y_predicted_rounded = [round(score, 2) for score in y_predicted]\n",
    "print(y_predicted_rounded)\n"
   ]
  },
  {
   "cell_type": "markdown",
   "metadata": {},
   "source": [
    "# Customer Churn"
   ]
  },
  {
   "cell_type": "code",
   "execution_count": 79,
   "metadata": {},
   "outputs": [
    {
     "name": "stdout",
     "output_type": "stream",
     "text": [
      "   state  account_length  area_code  phone_number  international_plan  \\\n",
      "0     16             128        415          2845                   0   \n",
      "1     35             107        415          2301                   0   \n",
      "2     31             137        415          1616                   0   \n",
      "3     35              84        408          2510                   1   \n",
      "4     36              75        415           155                   1   \n",
      "\n",
      "   voice_mail_plan  number_vmail_messages  total_day_minutes  total_day_calls  \\\n",
      "0                1                     25              265.1              110   \n",
      "1                1                     26              161.6              123   \n",
      "2                0                      0              243.4              114   \n",
      "3                0                      0              299.4               71   \n",
      "4                0                      0              166.7              113   \n",
      "\n",
      "   total_day_charge  ...  total_eve_calls  total_eve_charge  \\\n",
      "0             45.07  ...               99             16.78   \n",
      "1             27.47  ...              103             16.62   \n",
      "2             41.38  ...              110             10.30   \n",
      "3             50.90  ...               88              5.26   \n",
      "4             28.34  ...              122             12.61   \n",
      "\n",
      "   total_night_minutes  total_night_calls  total_night_charge  \\\n",
      "0                244.7                 91               11.01   \n",
      "1                254.4                103               11.45   \n",
      "2                162.6                104                7.32   \n",
      "3                196.9                 89                8.86   \n",
      "4                186.9                121                8.41   \n",
      "\n",
      "   total_intl_minutes  total_intl_calls  total_intl_charge  \\\n",
      "0                10.0                 3               2.70   \n",
      "1                13.7                 3               3.70   \n",
      "2                12.2                 5               3.29   \n",
      "3                 6.6                 7               1.78   \n",
      "4                10.1                 3               2.73   \n",
      "\n",
      "   number_customer_service_calls  class  \n",
      "0                              1      0  \n",
      "1                              1      0  \n",
      "2                              0      0  \n",
      "3                              2      0  \n",
      "4                              3      0  \n",
      "\n",
      "[5 rows x 21 columns]\n"
     ]
    }
   ],
   "source": [
    "import numpy as np\n",
    "import pandas as pd\n",
    "import seaborn as sns\n",
    "import matplotlib.pyplot as plt\n",
    "import statsmodels.api as sm\n",
    "import statsmodels.formula.api as smf\n",
    "from urllib.request import urlretrieve\n",
    "churn = pd.read_csv('https://raw.githubusercontent.com/thaiseq/ChurnAnalysis/master/churn.csv', sep=',', header=0)\n",
    "churn.columns = [heading.lower() for heading in \\\n",
    "churn.columns.str.replace(' ', '_').str.replace(\"\\'\", \"\").str.strip('?')]\n",
    "#churn['churn01'] = np.where(churn['churn'] == 'True.', 1., 0.)\n",
    "print(churn.head())"
   ]
  },
  {
   "cell_type": "code",
   "execution_count": 86,
   "metadata": {},
   "outputs": [],
   "source": [
    "churn = churn.rename(columns = {'class' : 'churn'}) # чтобы как в книге сделать"
   ]
  },
  {
   "cell_type": "code",
   "execution_count": 95,
   "metadata": {},
   "outputs": [
    {
     "name": "stdout",
     "output_type": "stream",
     "text": [
      "      day_charge                       eve_charge                       \\\n",
      "           count       mean        std      count       mean       std   \n",
      "churn                                                                    \n",
      "0           4293  29.877494   8.437810       4293  16.898654  4.262900   \n",
      "1            707  35.338416  11.658195        707  17.999562  4.383293   \n",
      "\n",
      "      night_charge                     intl_charge                      \\\n",
      "             count      mean       std       count      mean       std   \n",
      "churn                                                                    \n",
      "0             4293  8.975593  2.277438        4293  2.752055  0.742443   \n",
      "1              707  9.273607  2.235902         707  2.887426  0.754057   \n",
      "\n",
      "      account_length                        intl_calls                      \n",
      "               count        mean        std      count      mean       std  \n",
      "churn                                                                       \n",
      "0               4293   99.917074  39.737531       4293  4.481947  2.438233  \n",
      "1                707  102.332390  39.396993        707  4.151344  2.550011  \n"
     ]
    }
   ],
   "source": [
    "churn.columns = churn.columns.str.replace('total_', '')\n",
    "\n",
    "\n",
    "# Calculate descriptive statistics for grouped data\n",
    "print(churn.groupby(['churn'])[['day_charge', 'eve_charge', 'night_charge',\\\n",
    "'intl_charge', 'account_length', 'intl_calls']].agg(['count', 'mean',\\\n",
    "'std']))"
   ]
  },
  {
   "cell_type": "code",
   "execution_count": 94,
   "metadata": {},
   "outputs": [
    {
     "data": {
      "text/plain": [
       "Index(['state', 'account_length', 'area_code', 'phone_number',\n",
       "       'international_plan', 'voice_mail_plan', 'number_vmail_messages',\n",
       "       'day_minutes', 'day_calls', 'day_charge', 'eve_minutes', 'eve_calls',\n",
       "       'eve_charge', 'night_minutes', 'night_calls', 'night_charge',\n",
       "       'intl_minutes', 'intl_calls', 'intl_charge',\n",
       "       'number_customer_service_calls', 'churn'],\n",
       "      dtype='object')"
      ]
     },
     "execution_count": 94,
     "metadata": {},
     "output_type": "execute_result"
    }
   ],
   "source": [
    "churn.columns"
   ]
  },
  {
   "cell_type": "code",
   "execution_count": 96,
   "metadata": {},
   "outputs": [
    {
     "name": "stdout",
     "output_type": "stream",
     "text": [
      "      day_charge            eve_charge           night_charge            \\\n",
      "            mean        std       mean       std         mean       std   \n",
      "churn                                                                     \n",
      "0      29.877494   8.437810  16.898654  4.262900     8.975593  2.277438   \n",
      "1      35.338416  11.658195  17.999562  4.383293     9.273607  2.235902   \n",
      "\n",
      "      intl_charge           account_length          intl_calls          \n",
      "             mean       std          count min  max      count min max  \n",
      "churn                                                                   \n",
      "0        2.752055  0.742443           4293   1  243       4293   0  19  \n",
      "1        2.887426  0.754057            707   1  225        707   0  20  \n"
     ]
    }
   ],
   "source": [
    "print(churn.groupby(['churn']).agg({'day_charge' : ['mean', 'std'],\n",
    " 'eve_charge' : ['mean', 'std'],\n",
    " 'night_charge' : ['mean', 'std'],\n",
    " 'intl_charge' : ['mean', 'std'],\n",
    " 'account_length' : ['count', 'min', 'max'],\n",
    " 'intl_calls' : ['count', 'min', 'max']}))\n"
   ]
  },
  {
   "cell_type": "code",
   "execution_count": null,
   "metadata": {},
   "outputs": [],
   "source": []
  }
 ],
 "metadata": {
  "kernelspec": {
   "display_name": "Python 3",
   "language": "python",
   "name": "python3"
  },
  "language_info": {
   "codemirror_mode": {
    "name": "ipython",
    "version": 3
   },
   "file_extension": ".py",
   "mimetype": "text/x-python",
   "name": "python",
   "nbconvert_exporter": "python",
   "pygments_lexer": "ipython3",
   "version": "3.7.6"
  }
 },
 "nbformat": 4,
 "nbformat_minor": 4
}
