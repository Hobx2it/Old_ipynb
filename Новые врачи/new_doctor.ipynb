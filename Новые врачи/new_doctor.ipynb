{
 "cells": [
  {
   "cell_type": "code",
   "execution_count": 434,
   "metadata": {},
   "outputs": [],
   "source": [
    "import os\n",
    "import re\n",
    "import pandas as pd\n",
    "import datetime\n",
    "import numpy as np\n",
    "import math\n",
    "import time\n"
   ]
  },
  {
   "cell_type": "code",
   "execution_count": 435,
   "metadata": {},
   "outputs": [],
   "source": [
    "#делаем выгрузки для 4х баз ниже стандартно, удаляем анализы и вакцины\n",
    "\n",
    "au = pd.read_excel('Выгрузки/АУ.xlsx', dtype={'Дата приема': str, 'UF_USER' : str})\n",
    "\n",
    "bdvu = pd.read_excel('Выгрузки/БДВУ.xlsx', dtype={'UF_USER' : str, 'Номер карты' : str, 'Дата приема': str})\n",
    "\n",
    "vu = pd.read_excel('Выгрузки/ВУ.xlsx', dtype={'UF_CRM_1571145004' : str, 'Номер карты' : str, 'Дата выезда': str})\n",
    "\n",
    "timetable = pd.read_excel('Выгрузки/Расписание.xlsx', dtype={'UF_USER' : str})\n",
    "\n"
   ]
  },
  {
   "cell_type": "code",
   "execution_count": 436,
   "metadata": {},
   "outputs": [],
   "source": [
    "au['Дата приема'], bdvu['Дата приема'], vu['Дата выезда'] = pd.to_datetime(au['Дата приема']).dt.date, pd.to_datetime(bdvu['Дата приема']).dt.date, pd.to_datetime(vu['Дата выезда'], format='%d.%m.%Y').dt.date\n",
    "\n",
    "au['АУ/ВУ'] ='АУ'\n",
    "bdvu['АУ/ВУ'] ='ВУ'\n",
    "vu['АУ/ВУ'] ='ВУ'"
   ]
  },
  {
   "cell_type": "code",
   "execution_count": 437,
   "metadata": {},
   "outputs": [],
   "source": [
    "col_names = [i for i in au.columns if i != 'Дата первого приема Исполнителя']\n",
    "\n",
    "dct_bdvu, dct_vu = dict(zip(bdvu.columns, col_names)), dict(zip(vu.columns, col_names))\n",
    "\n",
    "bdvu.rename(columns=dct_bdvu, inplace=True)\n",
    "vu.rename(columns=dct_vu, inplace=True)\n",
    "\n",
    "\n"
   ]
  },
  {
   "cell_type": "code",
   "execution_count": 438,
   "metadata": {},
   "outputs": [],
   "source": [
    "au_vu = pd.concat([au, bdvu, vu]).reset_index(drop=True)"
   ]
  },
  {
   "cell_type": "code",
   "execution_count": 439,
   "metadata": {},
   "outputs": [
    {
     "name": "stderr",
     "output_type": "stream",
     "text": [
      "C:\\Users\\AmanovRA\\Anaconda3\\lib\\site-packages\\ipykernel_launcher.py:6: SettingWithCopyWarning: \n",
      "A value is trying to be set on a copy of a slice from a DataFrame\n",
      "\n",
      "See the caveats in the documentation: https://pandas.pydata.org/pandas-docs/stable/user_guide/indexing.html#returning-a-view-versus-a-copy\n",
      "  \n"
     ]
    }
   ],
   "source": [
    "#забираем новых врачей из файла от отдела персонала\n",
    "\n",
    "personal = pd.read_excel(r'C:\\Users\\AmanovRA\\Текущее2\\Новые врачи\\новые врачи с 01 03 2020.xls', skiprows=1, dtype={'Дата приема' : str})\n",
    "\n",
    "personal['Сотрудник'][np.where(personal['Сотрудник'] == 'Краснощёкова Елена Васильевна')[0][0]] = \\\n",
    "'Краснощекова Е.В.' # поменял ё на е чтобы в базах совпало\n"
   ]
  },
  {
   "cell_type": "code",
   "execution_count": 440,
   "metadata": {},
   "outputs": [],
   "source": [
    "number_doctors = au_vu.drop_duplicates(subset=['UF_USER'], ignore_index=True)\n",
    "\n",
    "personal = personal.merge(number_doctors[['Доктор', 'UF_USER']], left_on='Сотрудник', right_on='Доктор', how='left')\n",
    "\n",
    "personal.rename(columns={'Дата приема' : 'Дата приема на работу'}, inplace=True)\n",
    "\n",
    "personal['Дата приема на работу'] = pd.to_datetime(personal['Дата приема на работу']).dt.date"
   ]
  },
  {
   "cell_type": "code",
   "execution_count": 441,
   "metadata": {},
   "outputs": [],
   "source": [
    "personal['Отработано полных месяцев'] = ((datetime.datetime.now().date() - personal['Дата приема на работу']) / np.timedelta64(1, 'M')).astype(int)"
   ]
  },
  {
   "cell_type": "code",
   "execution_count": 442,
   "metadata": {},
   "outputs": [],
   "source": [
    "personal.index = personal['UF_USER']"
   ]
  },
  {
   "cell_type": "code",
   "execution_count": 443,
   "metadata": {},
   "outputs": [],
   "source": [
    "au_vu = au_vu[au_vu['UF_USER'].isin(personal['UF_USER'])].reset_index(drop=True)"
   ]
  },
  {
   "cell_type": "code",
   "execution_count": 444,
   "metadata": {},
   "outputs": [],
   "source": [
    "au_vu_indicators = au_vu.groupby('UF_USER').agg({'Дата приема' : 'nunique', 'Sum([Количество])' : sum, 'Номер карты' : 'nunique'}).rename(columns = {'Дата приема' : 'Кол-во смен', 'Sum([Количество])' : 'Общее кол-во оказанных услуг', 'Номер карты' : 'Кол-во пациентов'})"
   ]
  },
  {
   "cell_type": "code",
   "execution_count": 445,
   "metadata": {},
   "outputs": [],
   "source": [
    "category = pd.pivot_table(au_vu, index=['UF_USER'], values='Sum([Количество])', columns='Категория крупно', aggfunc=sum, fill_value=0)\n"
   ]
  },
  {
   "cell_type": "code",
   "execution_count": 446,
   "metadata": {},
   "outputs": [],
   "source": [
    "category['Все услуги'] = sum([category[i] for i in category.columns])\n",
    "category['Первичные консультации'] = sum([category[i] for i in category.columns if 'консуль' in i.lower() and 'повтор' not in i.lower()])\n",
    "category['Повторные консультации'] = sum([category[i] for i in category.columns if 'консуль' in i.lower() and 'повтор' in i.lower()])\n",
    "category['Консультации'] = category['Первичные консультации'] + category['Повторные консультации']\n",
    "category['% первичных консультаций'] = (category['Первичные консультации'] / category['Консультации'])\n",
    "category['% повторных консультаций'] = (category['Повторные консультации'] / category['Консультации'])\n",
    "category['% манипуляций ко всего услуг'] = (category['врачебные манипуляции'] / category['Все услуги'])\n",
    "category = category.rename(columns = {'вакцинация' : 'Кол-во вакцинаций (для педиатров)'})\n",
    "category = category[['Кол-во вакцинаций (для педиатров)', 'врачебные манипуляции', 'Первичные консультации', 'Повторные консультации', 'Консультации', '% первичных консультаций', '% повторных консультаций','% манипуляций ко всего услуг']]\n"
   ]
  },
  {
   "cell_type": "code",
   "execution_count": 447,
   "metadata": {},
   "outputs": [],
   "source": [
    "visits = au_vu.groupby(['UF_USER', 'Номер карты'], as_index=False).agg({'Дата приема' : 'nunique'}).rename(columns={'Дата приема' : 'Кол-во визитов'})"
   ]
  },
  {
   "cell_type": "code",
   "execution_count": 448,
   "metadata": {},
   "outputs": [],
   "source": [
    "visits['Категория визита'] = pd.cut(visits['Кол-во визитов'], [0, 1, 2, 3, np.inf], labels=['1 посещение', '2 посещения', '3 посещения', '4 и более посещений'])"
   ]
  },
  {
   "cell_type": "code",
   "execution_count": 449,
   "metadata": {},
   "outputs": [],
   "source": [
    "visits_count = pd.pivot_table(visits, index=['UF_USER'], values='Номер карты', columns='Категория визита', aggfunc='count', fill_value=0)"
   ]
  },
  {
   "cell_type": "code",
   "execution_count": 450,
   "metadata": {},
   "outputs": [],
   "source": [
    "visits_count.columns = visits_count.columns.add_categories('Все посещения')\n",
    "visits_count['Все посещения'] = visits_count.sum(axis=1)\n"
   ]
  },
  {
   "cell_type": "code",
   "execution_count": 451,
   "metadata": {},
   "outputs": [],
   "source": [
    "for column in [i for i in visits_count.columns if i != 'Все посещения']:\n",
    "    visits_count[column] = visits_count[column] / visits_count['Все посещения']\n"
   ]
  },
  {
   "cell_type": "code",
   "execution_count": 452,
   "metadata": {},
   "outputs": [],
   "source": [
    "visits_count = visits_count.rename(columns = {'1 посещение' : '% пациентов с 1 посещением', '2 посещения' : '% пациентов с 2 посещениями', '3 посещения' : '% пациентов с 3 посещениями', '4 и более посещений' : '% пациентов с 4 и более посещениями'})"
   ]
  },
  {
   "cell_type": "code",
   "execution_count": 453,
   "metadata": {},
   "outputs": [],
   "source": [
    "visits_count = visits_count[[i for i in visits_count.columns if i != 'Все посещения']]\n"
   ]
  },
  {
   "cell_type": "code",
   "execution_count": 454,
   "metadata": {},
   "outputs": [],
   "source": [
    "personal = personal.join([au_vu_indicators, category, visits_count])"
   ]
  },
  {
   "cell_type": "code",
   "execution_count": 455,
   "metadata": {},
   "outputs": [],
   "source": [
    "personal['Услуг за смену'] = personal['Общее кол-во оказанных услуг'] / personal['Кол-во смен']"
   ]
  },
  {
   "cell_type": "code",
   "execution_count": 456,
   "metadata": {},
   "outputs": [],
   "source": [
    "timetable = timetable.drop_duplicates(subset=['UF_USER'], ignore_index=True)\n",
    "\n",
    "timetable = timetable[timetable['UF_USER'].isin(personal.index)].reset_index(drop=True)"
   ]
  },
  {
   "cell_type": "code",
   "execution_count": 457,
   "metadata": {},
   "outputs": [],
   "source": [
    "timetable['Загрузка'] = timetable['Записи с лечением + доп талоны'] / timetable['Доступно для записи Пациентов']\n",
    "timetable.index = timetable['UF_USER']\n",
    "timetable.drop('UF_USER', axis=1, inplace=True)"
   ]
  },
  {
   "cell_type": "code",
   "execution_count": 458,
   "metadata": {},
   "outputs": [],
   "source": [
    "personal = personal.merge(timetable[['Доступно для записи Пациентов', 'Записи с лечением + доп талоны', 'Загрузка']], left_index=True, right_index=True, how='left')\n",
    "\n",
    "personal = personal.fillna(0)"
   ]
  },
  {
   "cell_type": "markdown",
   "metadata": {},
   "source": [
    "# Результаты обзвона"
   ]
  },
  {
   "cell_type": "code",
   "execution_count": 459,
   "metadata": {},
   "outputs": [
    {
     "name": "stderr",
     "output_type": "stream",
     "text": [
      "C:\\Users\\AmanovRA\\Anaconda3\\lib\\site-packages\\ipykernel_launcher.py:2: SettingWithCopyWarning: \n",
      "A value is trying to be set on a copy of a slice from a DataFrame.\n",
      "Try using .loc[row_indexer,col_indexer] = value instead\n",
      "\n",
      "See the caveats in the documentation: https://pandas.pydata.org/pandas-docs/stable/user_guide/indexing.html#returning-a-view-versus-a-copy\n",
      "  \n"
     ]
    }
   ],
   "source": [
    "temp_names = personal[['Сотрудник']]\n",
    "temp_names['Фамилия'] = personal['Сотрудник'].str.split().str.get(0)\n"
   ]
  },
  {
   "cell_type": "code",
   "execution_count": 460,
   "metadata": {},
   "outputs": [],
   "source": [
    "temp_dct = {}\n",
    "for file in os.listdir('./Обзвоны'):\n",
    "    if '$' not in file:\n",
    "        name = file.split()[1].strip()\n",
    "        temp_dct.setdefault(name, {})\n",
    "        temp_df = pd.read_excel('./Обзвоны/' + file, header=0)\n",
    "        temp_df = temp_df[[col for col in temp_df.columns if any(['бал' in str(col).lower(), 'ценк' in str(col).lower()])]]\n",
    "        temp_df = temp_df.dropna()\n",
    "        col_name = temp_df.columns[0]\n",
    "        arr = np.array([i for i in temp_df[col_name].values if isinstance(i, (int, float, np.int64))])\n",
    "        temp_dct[name]['Больше или равно 7 баллов'] = arr[arr >= 7].shape[0]\n",
    "        temp_dct[name]['Меньше 7 баллов'] = arr[arr < 7].shape[0]\n",
    "        temp_dct[name]['Обзвонено клиентов'] = arr.shape[0]\n",
    "        \n",
    "temp_df = pd.DataFrame(temp_dct)\n",
    "temp_df = temp_df.T\n"
   ]
  },
  {
   "cell_type": "code",
   "execution_count": 461,
   "metadata": {},
   "outputs": [],
   "source": [
    "temp_names = temp_names.merge(temp_df, left_on='Фамилия', right_index=True, how='left').fillna('Нет данных')"
   ]
  },
  {
   "cell_type": "code",
   "execution_count": 462,
   "metadata": {},
   "outputs": [],
   "source": [
    "personal = personal.merge(temp_names[['Больше или равно 7 баллов', 'Меньше 7 баллов', 'Обзвонено клиентов']], left_index=True, right_index=True)"
   ]
  },
  {
   "cell_type": "code",
   "execution_count": 466,
   "metadata": {},
   "outputs": [],
   "source": [
    "personal = personal[['Подразделение 2-го уровня', 'Подразделение 3-го уровня', 'Подразделение 4-го уровня', 'Должность УУ', 'Сотрудник', 'Вид занятости', 'Дата приема на работу', 'Отработано полных месяцев',  'Кол-во смен', 'Услуг за смену', 'Общее кол-во оказанных услуг',  'врачебные манипуляции', 'Первичные консультации', 'Повторные консультации', '% манипуляций ко всего услуг', '% первичных консультаций', '% повторных консультаций', 'Кол-во пациентов',  '% пациентов с 1 посещением', '% пациентов с 2 посещениями', '% пациентов с 3 посещениями', '% пациентов с 4 и более посещениями', 'Доступно для записи Пациентов', 'Записи с лечением + доп талоны', 'Загрузка', 'Обзвонено клиентов', 'Больше или равно 7 баллов', 'Меньше 7 баллов']]"
   ]
  },
  {
   "cell_type": "code",
   "execution_count": 468,
   "metadata": {},
   "outputs": [],
   "source": [
    "personal.to_excel('Отчет_новые_врачи_октябрь.xlsx', index=False)"
   ]
  },
  {
   "cell_type": "code",
   "execution_count": null,
   "metadata": {},
   "outputs": [],
   "source": []
  }
 ],
 "metadata": {
  "kernelspec": {
   "display_name": "Python 3",
   "language": "python",
   "name": "python3"
  },
  "language_info": {
   "codemirror_mode": {
    "name": "ipython",
    "version": 3
   },
   "file_extension": ".py",
   "mimetype": "text/x-python",
   "name": "python",
   "nbconvert_exporter": "python",
   "pygments_lexer": "ipython3",
   "version": "3.7.6"
  }
 },
 "nbformat": 4,
 "nbformat_minor": 4
}
