{
 "cells": [
  {
   "cell_type": "markdown",
   "metadata": {},
   "source": [
    "## Клиника СМТ"
   ]
  },
  {
   "cell_type": "code",
   "execution_count": 1,
   "metadata": {},
   "outputs": [],
   "source": [
    "from urllib.request import urlopen, urlretrieve\n",
    "from urllib.error import HTTPError\n",
    "from bs4 import BeautifulSoup\n",
    "import re\n",
    "import pandas as pd\n",
    "from datetime import datetime\n",
    "import time\n",
    "import requests \n",
    "from fake_headers import Headers\n",
    "\n",
    "\n"
   ]
  },
  {
   "cell_type": "code",
   "execution_count": 2,
   "metadata": {},
   "outputs": [],
   "source": [
    "directions = {} # возьмем все ссылки для медицинский направлений\n",
    "#headers = {'User-Agent': 'Mozilla/5.0 (Windows NT 10.0; Win64; x64) AppleWebKit/537.36 (KHTML, like Gecko) Chrome/73.0.3683.86 Safari/537.36'} # для запроса через requests\n",
    "\n",
    "resp = urlopen('https://clinic-complex.ru/price/')\n",
    "html = resp.read().decode('utf8') \n",
    "soup = BeautifulSoup(html, 'html.parser')\n",
    "\n",
    "for li in soup.find_all('li'):\n",
    "    if li.has_attr('class') and ''.join(li.get('class')) == 'itemchild':\n",
    "        directions.setdefault(li.find_next('a').text, ['https://clinic-complex.ru' + li.find_next('a').get('href'), {}])\n",
    "\n",
    "for key, val in directions.items():\n",
    "    pattern = r'{}'.format(re.escape(val[0])) + r'.+/'\n",
    "    pattern_price = r'\\d{1+}'\n",
    "    resp = urlopen(val[0])\n",
    "    html = resp.read().decode('utf8') \n",
    "    soup = BeautifulSoup(html, 'html.parser')\n",
    "    for link in soup.find_all('a'):\n",
    "        if re.search(pattern, 'https://clinic-complex.ru' + link.get('href')) and 'apply' not in link.get('href'):\n",
    "            time.sleep(1)\n",
    "            try: # если не получится через urloprn пробуем requests\n",
    "                resp = urlopen('https://clinic-complex.ru' + link.get('href'))\n",
    "                html = resp.read().decode('utf8')\n",
    "                soup = BeautifulSoup(html, 'html.parser')\n",
    "            except HTTPError as err:\n",
    "                header = Headers(headers=True)\n",
    "                headers = header.generate()  \n",
    "                print('https://clinic-complex.ru' + link.get('href'), err.code)\n",
    "                html = requests.get('https://clinic-complex.ru' + link.get('href'), headers=headers)\n",
    "                soup = BeautifulSoup(html, 'html.parser')\n",
    "                \n",
    "            if soup.find(\"div\", class_=\"detail_wrap\"):\n",
    "                b_div = soup.find(\"div\", class_=\"detail_wrap\").find('b').text\n",
    "                val[1].setdefault(link.text, ''.join([i for i in b_div if i.isdigit()]))\n",
    "\n",
    "smt_data  = {\n",
    "            'description' : [],\n",
    "            'price' : [],\n",
    "            'department' : []}\n",
    "\n",
    "for key, val in directions.items():\n",
    "    for key1, val1 in val[1].items():\n",
    "        smt_data['description'].append(key1)\n",
    "        smt_data['price'].append(val1)\n",
    "        smt_data['department'].append(key)\n",
    "        \n",
    "     \n",
    "data_smt = pd.DataFrame.from_dict(smt_data)\n",
    "data_smt.columns = ['Описание услуги', 'Цена в рублях', 'Направление']\n",
    "data_smt['Цена в рублях'] = data_smt['Цена в рублях'].apply(lambda x: float(x.replace(' ', '')))\n",
    "data_smt.to_excel(r'C:\\Users\\AmanovRA\\Anaconda3\\Work-work\\Parsings\\СМТ_клиника\\SMT_clinic_' + str(datetime.date(datetime.today())) + '.xlsx')        \n",
    "                    \n",
    "\n"
   ]
  },
  {
   "cell_type": "code",
   "execution_count": null,
   "metadata": {},
   "outputs": [],
   "source": []
  }
 ],
 "metadata": {
  "kernelspec": {
   "display_name": "Python 3",
   "language": "python",
   "name": "python3"
  },
  "language_info": {
   "codemirror_mode": {
    "name": "ipython",
    "version": 3
   },
   "file_extension": ".py",
   "mimetype": "text/x-python",
   "name": "python",
   "nbconvert_exporter": "python",
   "pygments_lexer": "ipython3",
   "version": "3.7.6"
  }
 },
 "nbformat": 4,
 "nbformat_minor": 4
}
