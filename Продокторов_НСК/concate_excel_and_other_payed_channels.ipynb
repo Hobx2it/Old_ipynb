{
 "cells": [
  {
   "cell_type": "markdown",
   "metadata": {},
   "source": [
    "# Новосибирск"
   ]
  },
  {
   "cell_type": "code",
   "execution_count": 1,
   "metadata": {},
   "outputs": [],
   "source": [
    "import pandas as pd\n",
    "import numpy as np\n",
    "import matplotlib.pyplot as plt\n",
    "import re\n",
    "import os\n",
    "%matplotlib inline"
   ]
  },
  {
   "cell_type": "code",
   "execution_count": 2,
   "metadata": {},
   "outputs": [],
   "source": [
    "DF = pd.read_excel('prodoctor3quart.xlsx', dtype={'Номера':str})\n"
   ]
  },
  {
   "cell_type": "code",
   "execution_count": null,
   "metadata": {},
   "outputs": [],
   "source": []
  },
  {
   "cell_type": "code",
   "execution_count": null,
   "metadata": {},
   "outputs": [],
   "source": []
  },
  {
   "cell_type": "code",
   "execution_count": 6,
   "metadata": {},
   "outputs": [],
   "source": [
    "def join_list(lst):\n",
    "    return ', '.join([str(i) for i in lst])\n",
    "\n",
    "\n",
    "\n",
    "au_telefons = pd.read_excel(r'C:\\Users\\AmanovRA\\Текущее2\\РК_3_квартал\\НСК\\НСК_оборот\\НСК_оборот.xlsx')\n",
    "\n",
    "dom, mobil, work = au_telefons['Телефон домашний'].tolist(), au_telefons['Телефон мобильный'].tolist(), au_telefons['Телефон рабочий'].tolist()\n",
    "\n",
    "pattern = r'\\(\\d{2}\\)'\n",
    "pattern2 = r'[а-яА-Яa-zA-Z]{1}'\n",
    "\n",
    "for key in (dom, mobil, work):\n",
    "    for i, j in enumerate(key):\n",
    "        if type(j) == str:\n",
    "            key[i] = ''.join([x if x not in ',;!:.\\\\/+' else ' ' for x in j])        \n",
    "            key[i] = key[i].lstrip(' ')\n",
    "            key[i] = key[i].rstrip(' ')\n",
    "            if re.search(pattern2, key[i]):\n",
    "                key[i] = re.sub(pattern2, '', key[i])\n",
    "            key[i] = ''.join([x for x in key[i] if x not in '()-'])  \n",
    "            \n",
    "for key in (dom, mobil, work):\n",
    "    for i, j in enumerate(key):\n",
    "        if type(j) == str:\n",
    "            if len(j) == 7:\n",
    "                key[i] = '7812' + key[i]\n",
    "            elif len(j) == 11 and j[0] == '8':\n",
    "                key[i] = '7' + j[1:]\n",
    "            elif len(j) == 10:\n",
    "                key[i] = '7' + j\n",
    "                \n",
    "def concate_lists(*args) -> list:   # соединим все номера в одну строку чтобы проще было искать\n",
    "    temp_lst = []\n",
    "    for i in range(len(args[0])):\n",
    "        temp_lst.append(' '.join([str(x[i]) for x in args]))\n",
    "    return temp_lst\n",
    "            \n",
    "lst_search = concate_lists(dom, mobil, work)                 \n",
    "\n",
    "lst_with_coincidenc_telefon  = []\n",
    "for index, row in enumerate(lst_search):\n",
    "    lst_with_coincidenc_telefon.append('')\n",
    "    for i in DF['Номера']:\n",
    "        if str(i) in row:\n",
    "            lst_with_coincidenc_telefon[index] = str(i)\n",
    "            break\n",
    "            \n",
    "au_telefons['Совпадение'] = lst_with_coincidenc_telefon            \n",
    "            \n",
    "au_telefons_final = au_telefons[au_telefons['Совпадение'] != '']\n",
    "au_telefons_final = au_telefons_final.merge(DF, left_on='Совпадение', right_on='Номера', how='left')\n",
    "au_telefons_final = au_telefons_final.fillna('')\n",
    "\n",
    "\n",
    "# не забыть проверить чтобы даты приемов были больше или равны дате звонка          \n",
    "\n"
   ]
  },
  {
   "cell_type": "code",
   "execution_count": null,
   "metadata": {},
   "outputs": [],
   "source": []
  },
  {
   "cell_type": "code",
   "execution_count": 7,
   "metadata": {},
   "outputs": [],
   "source": [
    "au_telefons_final['Совпадение дат'] = au_telefons_final['Дата приема'] >= au_telefons_final['Дата']\n",
    "\n",
    "au_telefons_final = au_telefons_final[au_telefons_final['Совпадение дат'] == True]\n",
    "\n",
    "au_telefons_final.to_excel('НСК_обработано.xlsx')"
   ]
  },
  {
   "cell_type": "code",
   "execution_count": null,
   "metadata": {},
   "outputs": [],
   "source": []
  }
 ],
 "metadata": {
  "kernelspec": {
   "display_name": "Python 3",
   "language": "python",
   "name": "python3"
  },
  "language_info": {
   "codemirror_mode": {
    "name": "ipython",
    "version": 3
   },
   "file_extension": ".py",
   "mimetype": "text/x-python",
   "name": "python",
   "nbconvert_exporter": "python",
   "pygments_lexer": "ipython3",
   "version": "3.7.6"
  }
 },
 "nbformat": 4,
 "nbformat_minor": 4
}
