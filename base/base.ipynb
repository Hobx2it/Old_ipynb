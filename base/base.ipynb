{
 "cells": [
  {
   "cell_type": "code",
   "execution_count": 35,
   "metadata": {},
   "outputs": [],
   "source": [
    "import pandas as pd\n",
    "import re\n",
    "import numpy as np\n",
    "import datetime"
   ]
  },
  {
   "cell_type": "code",
   "execution_count": 36,
   "metadata": {},
   "outputs": [],
   "source": [
    "base = pd.read_excel('base.xlsx')\n",
    "base = base[base['Дата рождения'] != '-']"
   ]
  },
  {
   "cell_type": "code",
   "execution_count": 37,
   "metadata": {},
   "outputs": [],
   "source": [
    "def to_date(x):\n",
    "    try:\n",
    "        return x.dt.date\n",
    "    except:\n",
    "        return x\n",
    "    \n",
    "base['Дата рождения'] = base['Дата рождения'].dt.date"
   ]
  },
  {
   "cell_type": "code",
   "execution_count": 38,
   "metadata": {},
   "outputs": [],
   "source": [
    "cur_date = datetime.datetime.today()"
   ]
  },
  {
   "cell_type": "code",
   "execution_count": 39,
   "metadata": {},
   "outputs": [
    {
     "data": {
      "text/plain": [
       "datetime.datetime(1970, 12, 15, 18, 5, 59, 693464)"
      ]
     },
     "execution_count": 39,
     "metadata": {},
     "output_type": "execute_result"
    }
   ],
   "source": [
    "cur_date - datetime.timedelta(days=18263)"
   ]
  },
  {
   "cell_type": "code",
   "execution_count": 42,
   "metadata": {},
   "outputs": [],
   "source": [
    "fifty = base[base['Дата рождения'] <= datetime.date(1970, 12, 25)]"
   ]
  },
  {
   "cell_type": "code",
   "execution_count": 49,
   "metadata": {},
   "outputs": [],
   "source": [
    "fifty = fifty.dropna(subset=['Электронный адрес Пациента'])\n",
    "fifty = fifty[fifty['Электронный адрес Пациента'].str.contains('@')]"
   ]
  },
  {
   "cell_type": "code",
   "execution_count": 57,
   "metadata": {},
   "outputs": [],
   "source": [
    "fifty['Год'] = fifty['Дата рождения'].apply(lambda x: x.year)"
   ]
  },
  {
   "cell_type": "code",
   "execution_count": 60,
   "metadata": {},
   "outputs": [],
   "source": [
    "fifty.to_excel('50лет_и_старше.xlsx', index=False)"
   ]
  },
  {
   "cell_type": "code",
   "execution_count": 61,
   "metadata": {},
   "outputs": [
    {
     "data": {
      "text/html": [
       "<div>\n",
       "<style scoped>\n",
       "    .dataframe tbody tr th:only-of-type {\n",
       "        vertical-align: middle;\n",
       "    }\n",
       "\n",
       "    .dataframe tbody tr th {\n",
       "        vertical-align: top;\n",
       "    }\n",
       "\n",
       "    .dataframe thead th {\n",
       "        text-align: right;\n",
       "    }\n",
       "</style>\n",
       "<table border=\"1\" class=\"dataframe\">\n",
       "  <thead>\n",
       "    <tr style=\"text-align: right;\">\n",
       "      <th></th>\n",
       "      <th>Номер карты</th>\n",
       "      <th>Пациент</th>\n",
       "      <th>Дата рождения</th>\n",
       "      <th>Телефон мобильный</th>\n",
       "      <th>Электронный адрес Пациента</th>\n",
       "      <th>Пол</th>\n",
       "    </tr>\n",
       "  </thead>\n",
       "  <tbody>\n",
       "    <tr>\n",
       "      <th>0</th>\n",
       "      <td>120010433{дублирование карт}</td>\n",
       "      <td>Котова Полина Николаевна</td>\n",
       "      <td>1996-06-14</td>\n",
       "      <td>+7(911)764-04-88</td>\n",
       "      <td>NaN</td>\n",
       "      <td>Женский</td>\n",
       "    </tr>\n",
       "    <tr>\n",
       "      <th>1</th>\n",
       "      <td>36</td>\n",
       "      <td>Самарин Иван Юрьевич</td>\n",
       "      <td>2001-05-28</td>\n",
       "      <td>+7(921)947-35-10</td>\n",
       "      <td>samarina.an@gmail.com</td>\n",
       "      <td>Мужской</td>\n",
       "    </tr>\n",
       "    <tr>\n",
       "      <th>2</th>\n",
       "      <td>55</td>\n",
       "      <td>Пальшина Александра Евгеньевна</td>\n",
       "      <td>1971-06-06</td>\n",
       "      <td>+7(921)934-09-17</td>\n",
       "      <td>alexandra7108@mail.ru</td>\n",
       "      <td>Женский</td>\n",
       "    </tr>\n",
       "    <tr>\n",
       "      <th>3</th>\n",
       "      <td>59</td>\n",
       "      <td>Афанасьев Игорь Маркович</td>\n",
       "      <td>1955-05-03</td>\n",
       "      <td>+7(921)939-43-89</td>\n",
       "      <td>afanasyeva.Elena@bk.ru</td>\n",
       "      <td>Мужской</td>\n",
       "    </tr>\n",
       "    <tr>\n",
       "      <th>4</th>\n",
       "      <td>61</td>\n",
       "      <td>Кольцова Любовь Владимировна</td>\n",
       "      <td>1962-09-24</td>\n",
       "      <td>+7(921)900-15-37</td>\n",
       "      <td>240962LV@gmail.com</td>\n",
       "      <td>Женский</td>\n",
       "    </tr>\n",
       "    <tr>\n",
       "      <th>...</th>\n",
       "      <td>...</td>\n",
       "      <td>...</td>\n",
       "      <td>...</td>\n",
       "      <td>...</td>\n",
       "      <td>...</td>\n",
       "      <td>...</td>\n",
       "    </tr>\n",
       "    <tr>\n",
       "      <th>300387</th>\n",
       "      <td>990540555</td>\n",
       "      <td>Сибиляйнен Марк Никитич</td>\n",
       "      <td>2020-02-01</td>\n",
       "      <td>NaN</td>\n",
       "      <td>ekaterina.sibil@gmail.com</td>\n",
       "      <td>Мужской</td>\n",
       "    </tr>\n",
       "    <tr>\n",
       "      <th>300388</th>\n",
       "      <td>990540575</td>\n",
       "      <td>Пеньковская Екатерина Евгеньевна</td>\n",
       "      <td>1991-05-01</td>\n",
       "      <td>+7(921)745-34-45</td>\n",
       "      <td>penkovskaya.ekaterina@gmail.com</td>\n",
       "      <td>Женский</td>\n",
       "    </tr>\n",
       "    <tr>\n",
       "      <th>300389</th>\n",
       "      <td>990540579</td>\n",
       "      <td>Мосихин Николай Валерьевич</td>\n",
       "      <td>1972-02-09</td>\n",
       "      <td>NaN</td>\n",
       "      <td>mosihin.nikolai@yandex.ru</td>\n",
       "      <td>Мужской</td>\n",
       "    </tr>\n",
       "    <tr>\n",
       "      <th>300390</th>\n",
       "      <td>990540581</td>\n",
       "      <td>Соловьев Николай Сергеевич</td>\n",
       "      <td>1972-03-22</td>\n",
       "      <td>NaN</td>\n",
       "      <td>solovevNS@GSPROM.RU</td>\n",
       "      <td>Мужской</td>\n",
       "    </tr>\n",
       "    <tr>\n",
       "      <th>300391</th>\n",
       "      <td>990540583</td>\n",
       "      <td>Чижевский Петр Александрович</td>\n",
       "      <td>1947-01-30</td>\n",
       "      <td>+7(911)709-00-90</td>\n",
       "      <td>grb.anna@gmail.com</td>\n",
       "      <td>Мужской</td>\n",
       "    </tr>\n",
       "  </tbody>\n",
       "</table>\n",
       "<p>300390 rows × 6 columns</p>\n",
       "</div>"
      ],
      "text/plain": [
       "                         Номер карты                           Пациент  \\\n",
       "0       120010433{дублирование карт}          Котова Полина Николаевна   \n",
       "1                                 36              Самарин Иван Юрьевич   \n",
       "2                                 55    Пальшина Александра Евгеньевна   \n",
       "3                                 59          Афанасьев Игорь Маркович   \n",
       "4                                 61      Кольцова Любовь Владимировна   \n",
       "...                              ...                               ...   \n",
       "300387                     990540555           Сибиляйнен Марк Никитич   \n",
       "300388                     990540575  Пеньковская Екатерина Евгеньевна   \n",
       "300389                     990540579        Мосихин Николай Валерьевич   \n",
       "300390                     990540581        Соловьев Николай Сергеевич   \n",
       "300391                     990540583      Чижевский Петр Александрович   \n",
       "\n",
       "       Дата рождения Телефон мобильный       Электронный адрес Пациента  \\\n",
       "0         1996-06-14  +7(911)764-04-88                              NaN   \n",
       "1         2001-05-28  +7(921)947-35-10            samarina.an@gmail.com   \n",
       "2         1971-06-06  +7(921)934-09-17            alexandra7108@mail.ru   \n",
       "3         1955-05-03  +7(921)939-43-89           afanasyeva.Elena@bk.ru   \n",
       "4         1962-09-24  +7(921)900-15-37               240962LV@gmail.com   \n",
       "...              ...               ...                              ...   \n",
       "300387    2020-02-01               NaN        ekaterina.sibil@gmail.com   \n",
       "300388    1991-05-01  +7(921)745-34-45  penkovskaya.ekaterina@gmail.com   \n",
       "300389    1972-02-09               NaN        mosihin.nikolai@yandex.ru   \n",
       "300390    1972-03-22               NaN              solovevNS@GSPROM.RU   \n",
       "300391    1947-01-30  +7(911)709-00-90               grb.anna@gmail.com   \n",
       "\n",
       "            Пол  \n",
       "0       Женский  \n",
       "1       Мужской  \n",
       "2       Женский  \n",
       "3       Мужской  \n",
       "4       Женский  \n",
       "...         ...  \n",
       "300387  Мужской  \n",
       "300388  Женский  \n",
       "300389  Мужской  \n",
       "300390  Мужской  \n",
       "300391  Мужской  \n",
       "\n",
       "[300390 rows x 6 columns]"
      ]
     },
     "execution_count": 61,
     "metadata": {},
     "output_type": "execute_result"
    }
   ],
   "source": []
  },
  {
   "cell_type": "markdown",
   "metadata": {},
   "source": [
    "# Теперь по детям"
   ]
  },
  {
   "cell_type": "code",
   "execution_count": 62,
   "metadata": {},
   "outputs": [],
   "source": [
    "base = base.dropna(subset=['Телефон мобильный', 'Электронный адрес Пациента'], how='any')"
   ]
  },
  {
   "cell_type": "code",
   "execution_count": 64,
   "metadata": {},
   "outputs": [
    {
     "data": {
      "text/plain": [
       "False    294786\n",
       "Name: Электронный адрес Пациента, dtype: int64"
      ]
     },
     "execution_count": 64,
     "metadata": {},
     "output_type": "execute_result"
    }
   ],
   "source": [
    "base['Электронный адрес Пациента'].isna().value_counts()"
   ]
  },
  {
   "cell_type": "code",
   "execution_count": 65,
   "metadata": {},
   "outputs": [],
   "source": [
    "childs = base[base['Дата рождения'] >= datetime.date(2017, 1, 1)]"
   ]
  },
  {
   "cell_type": "code",
   "execution_count": 71,
   "metadata": {},
   "outputs": [],
   "source": [
    "base = base[~base['Номер карты'].isin(childs['Номер карты'])]"
   ]
  },
  {
   "cell_type": "code",
   "execution_count": 73,
   "metadata": {},
   "outputs": [],
   "source": [
    "base = base.reset_index(drop=True)"
   ]
  },
  {
   "cell_type": "code",
   "execution_count": 75,
   "metadata": {},
   "outputs": [],
   "source": [
    "childs = childs.merge(base, on='Телефон мобильный')"
   ]
  },
  {
   "cell_type": "code",
   "execution_count": 77,
   "metadata": {},
   "outputs": [],
   "source": [
    "childs = childs.sort_values(by='Дата рождения_y', ascending=False)"
   ]
  },
  {
   "cell_type": "code",
   "execution_count": 79,
   "metadata": {},
   "outputs": [],
   "source": [
    "childs = childs.drop_duplicates(subset='Электронный адрес Пациента_y')"
   ]
  },
  {
   "cell_type": "code",
   "execution_count": 80,
   "metadata": {},
   "outputs": [],
   "source": [
    "childs.to_excel('Пациенты_с_детьми_2017_2020.xlsx')"
   ]
  },
  {
   "cell_type": "code",
   "execution_count": null,
   "metadata": {},
   "outputs": [],
   "source": []
  }
 ],
 "metadata": {
  "kernelspec": {
   "display_name": "Python 3",
   "language": "python",
   "name": "python3"
  },
  "language_info": {
   "codemirror_mode": {
    "name": "ipython",
    "version": 3
   },
   "file_extension": ".py",
   "mimetype": "text/x-python",
   "name": "python",
   "nbconvert_exporter": "python",
   "pygments_lexer": "ipython3",
   "version": "3.7.6"
  }
 },
 "nbformat": 4,
 "nbformat_minor": 4
}
