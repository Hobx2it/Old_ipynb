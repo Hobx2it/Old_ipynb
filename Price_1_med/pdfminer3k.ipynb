{
 "cells": [
  {
   "cell_type": "code",
   "execution_count": 23,
   "metadata": {},
   "outputs": [],
   "source": [
    "from pdfminer.pdfparser import PDFParser\n",
    "from pdfminer.pdfdocument import PDFDocument\n",
    "from pdfminer.pdfpage import PDFPage\n",
    "from pdfminer.pdfinterp import PDFResourceManager, PDFPageInterpreter\n",
    "from pdfminer.converter import PDFPageAggregator\n",
    "from pdfminer.layout import LAParams, LTTextBox, LTTextLine\n",
    "import re, os, shutil\n",
    "from pprint import pprint\n",
    "import pandas as pd\n"
   ]
  },
  {
   "cell_type": "code",
   "execution_count": 24,
   "metadata": {},
   "outputs": [],
   "source": [
    "def pdf_to_text(file : 'pdf') -> 'temp.txt':\n",
    "    '''Считает из pdf текст и сохранит в temp.txt'''\n",
    "    fp = open(file, 'rb')\n",
    "    parser = PDFParser(fp)\n",
    "    doc = PDFDocument(parser)\n",
    "    #parser.set_document(doc)\n",
    "    #doc.set_parser(parser)\n",
    "    #doc.initialize('')\n",
    "    rsrcmgr = PDFResourceManager()\n",
    "    laparams = LAParams()\n",
    "    device = PDFPageAggregator(rsrcmgr, laparams=laparams)\n",
    "    interpreter = PDFPageInterpreter(rsrcmgr, device)\n",
    "    # Process each page contained in the document.\n",
    "    fin = open('temp.txt', 'w') # очистка temp.txt\n",
    "    fin.close()\n",
    "    fin = open('temp.txt', 'a', encoding = 'utf8')\n",
    "    temp_text = ''\n",
    "    cnt = 0\n",
    "    for page in PDFPage.create_pages(doc):\n",
    "        cnt += 1  # этот cnt чисто для проверки работы функции\n",
    "        if cnt > 10:\n",
    "            break\n",
    "        interpreter.process_page(page)\n",
    "        layout = device.get_result()\n",
    "        for lt_obj in layout:\n",
    "            if isinstance(lt_obj, LTTextBox) or isinstance(lt_obj, LTTextLine):\n",
    "                fin.write(lt_obj.get_text())\n",
    "\n",
    "    fp.close()\n",
    "    fin.close()\n",
    "     "
   ]
  },
  {
   "cell_type": "code",
   "execution_count": 25,
   "metadata": {},
   "outputs": [],
   "source": [
    "pdf_to_text(r'C:\\Users\\AmanovRA\\Anaconda3\\Work-work\\Choice_place\\Place_Engelsa_analysus\\Числ.СПб на 01.01.2020.pdf')\n"
   ]
  }
 ],
 "metadata": {
  "kernelspec": {
   "display_name": "Python 3",
   "language": "python",
   "name": "python3"
  },
  "language_info": {
   "codemirror_mode": {
    "name": "ipython",
    "version": 3
   },
   "file_extension": ".py",
   "mimetype": "text/x-python",
   "name": "python",
   "nbconvert_exporter": "python",
   "pygments_lexer": "ipython3",
   "version": "3.7.6"
  }
 },
 "nbformat": 4,
 "nbformat_minor": 2
}
