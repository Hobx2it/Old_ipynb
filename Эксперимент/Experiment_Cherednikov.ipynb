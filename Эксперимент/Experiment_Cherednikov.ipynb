{
 "cells": [
  {
   "cell_type": "code",
   "execution_count": 5,
   "metadata": {},
   "outputs": [],
   "source": [
    "import pandas as pd\n",
    "import numpy as np\n",
    "import datetime"
   ]
  },
  {
   "cell_type": "markdown",
   "metadata": {},
   "source": [
    "код услуги 0522.006220"
   ]
  },
  {
   "cell_type": "code",
   "execution_count": 6,
   "metadata": {},
   "outputs": [],
   "source": [
    "doctor = pd.read_excel('Акименко.xlsx', dtype={'Номер карты' : str})\n",
    "pacients = pd.read_excel('ПЦР.xlsx', dtype={'Номер карты' : str})"
   ]
  },
  {
   "cell_type": "code",
   "execution_count": 7,
   "metadata": {},
   "outputs": [],
   "source": [
    "pacients['Период_действия'] = pacients['Дата приема'].apply(lambda x: pd.date_range(start=x.date() - pd.Timedelta(days=14), end=x.date() + pd.Timedelta(days=14))).apply(lambda x: x.to_list()).apply(lambda x: [i.date() for i in x])"
   ]
  },
  {
   "cell_type": "code",
   "execution_count": 8,
   "metadata": {},
   "outputs": [],
   "source": [
    "group_pacients = pacients.groupby('Номер карты', as_index=False).agg({'Период_действия' : sum})"
   ]
  },
  {
   "cell_type": "code",
   "execution_count": 9,
   "metadata": {},
   "outputs": [],
   "source": [
    "doctor = doctor.merge(group_pacients, left_on='Номер карты', right_on='Номер карты', how='left')"
   ]
  },
  {
   "cell_type": "code",
   "execution_count": 10,
   "metadata": {},
   "outputs": [],
   "source": [
    "def check_dates(row):\n",
    "    \n",
    "    if isinstance(row['Период_действия'], (float)):\n",
    "        return None\n",
    "    else:\n",
    "        return row['Дата приема'].date() in row['Период_действия']\n",
    "\n",
    "doctor['ПЦР_в_период'] = doctor.apply(check_dates, axis=1)"
   ]
  },
  {
   "cell_type": "code",
   "execution_count": 11,
   "metadata": {},
   "outputs": [],
   "source": [
    "def to_strf(x):\n",
    "    if isinstance(x, list):\n",
    "        return ', '.join([i.strftime('%d.%m.%Y') for i in x])\n",
    "    \n",
    "doctor['Период_действия'] = doctor['Период_действия'].apply(to_strf)"
   ]
  },
  {
   "cell_type": "code",
   "execution_count": 12,
   "metadata": {},
   "outputs": [],
   "source": [
    "doctor.to_excel('Акименко_проверка.xlsx', index=False)"
   ]
  },
  {
   "cell_type": "code",
   "execution_count": null,
   "metadata": {},
   "outputs": [],
   "source": []
  },
  {
   "cell_type": "code",
   "execution_count": null,
   "metadata": {},
   "outputs": [],
   "source": []
  }
 ],
 "metadata": {
  "kernelspec": {
   "display_name": "Python 3",
   "language": "python",
   "name": "python3"
  },
  "language_info": {
   "codemirror_mode": {
    "name": "ipython",
    "version": 3
   },
   "file_extension": ".py",
   "mimetype": "text/x-python",
   "name": "python",
   "nbconvert_exporter": "python",
   "pygments_lexer": "ipython3",
   "version": "3.7.6"
  }
 },
 "nbformat": 4,
 "nbformat_minor": 4
}
