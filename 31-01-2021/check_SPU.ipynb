{
 "cells": [
  {
   "cell_type": "code",
   "execution_count": 1,
   "metadata": {},
   "outputs": [],
   "source": [
    "import pandas as pd\n",
    "import datetime\n",
    "import re\n",
    "import numpy as np\n",
    "\n",
    "\n",
    "data = pd.read_excel('Ошибки ПППК на 31.01.2021.xlsx', dtype={'№ а/к':str})\n",
    "spu = pd.read_excel('SPU.xlsx', dtype={'Номер карты':str})  #В Клик ставим фильтр выбрать всех клиентов с СПУ в карточке"
   ]
  },
  {
   "cell_type": "code",
   "execution_count": 2,
   "metadata": {},
   "outputs": [
    {
     "name": "stderr",
     "output_type": "stream",
     "text": [
      "C:\\Users\\AmanovRA\\Anaconda3\\lib\\site-packages\\ipykernel_launcher.py:2: SettingWithCopyWarning: \n",
      "A value is trying to be set on a copy of a slice from a DataFrame\n",
      "\n",
      "See the caveats in the documentation: https://pandas.pydata.org/pandas-docs/stable/user_guide/indexing.html#returning-a-view-versus-a-copy\n",
      "  \n"
     ]
    }
   ],
   "source": [
    "data['Нет СПУ в базе'] = 'Есть'\n",
    "data['Нет СПУ в базе'][data[~data['№ а/к'].isin(spu['Номер карты'])].index] = 'Нет'  # поставим всем клиентам без СПУ в базе НЕТ "
   ]
  },
  {
   "cell_type": "code",
   "execution_count": 3,
   "metadata": {},
   "outputs": [],
   "source": [
    "spu = spu[spu['Номер карты'].isin(data['№ а/к'])]"
   ]
  },
  {
   "cell_type": "code",
   "execution_count": 4,
   "metadata": {},
   "outputs": [],
   "source": [
    "spu = spu.sort_values(by='Номер карты').reset_index(drop=True)"
   ]
  },
  {
   "cell_type": "code",
   "execution_count": 5,
   "metadata": {},
   "outputs": [],
   "source": [
    "cur = datetime.datetime.now().date()\n",
    "\n",
    "def check_dates(x):\n",
    "    if isinstance(x, str):\n",
    "        return True\n",
    "    if x.date() >= cur:\n",
    "        return True\n",
    "    return False\n",
    "\n",
    "spu['Дата оконч проверить'] = spu['Дата окончания СПУ из карточки Пациента'].apply(check_dates)"
   ]
  },
  {
   "cell_type": "code",
   "execution_count": 6,
   "metadata": {},
   "outputs": [],
   "source": [
    "spu = spu[spu['Дата оконч проверить'] == True].reset_index(drop=True)"
   ]
  },
  {
   "cell_type": "code",
   "execution_count": 7,
   "metadata": {},
   "outputs": [],
   "source": [
    "spu = spu.drop_duplicates(subset=['Номер карты', 'СПУ из карточки Пациента'], ignore_index=True)"
   ]
  },
  {
   "cell_type": "code",
   "execution_count": 8,
   "metadata": {},
   "outputs": [],
   "source": [
    "group_spu = spu.groupby('Номер карты', as_index=False).agg(list)[['Номер карты', 'СПУ из карточки Пациента', 'Дата оконч проверить']]"
   ]
  },
  {
   "cell_type": "code",
   "execution_count": 9,
   "metadata": {},
   "outputs": [],
   "source": [
    "data = data.merge(group_spu, left_on='№ а/к', right_on='Номер карты', how='left')"
   ]
  },
  {
   "cell_type": "code",
   "execution_count": 10,
   "metadata": {},
   "outputs": [],
   "source": [
    "def get_percent(x):\n",
    "    if x is np.NaN:\n",
    "        return 'Нет действующей СПУ в базе'\n",
    "    pattern = r'(\\d{1,2}) ?%'\n",
    "    arr = []\n",
    "    for element in x:\n",
    "        if re.search(pattern, element):\n",
    "            arr.append(re.search(pattern, element).group(1))\n",
    "        else:\n",
    "            arr.append(element)\n",
    "    if len(arr) == 1:\n",
    "        if arr[0].isdigit():\n",
    "            return int(arr[0])\n",
    "        else:\n",
    "            return 'Ручная проверка'\n",
    "    else:\n",
    "        return 'Несколько СПУ'\n",
    "    "
   ]
  },
  {
   "cell_type": "code",
   "execution_count": 11,
   "metadata": {},
   "outputs": [],
   "source": [
    "data['СПУ в процентах'] = data['СПУ из карточки Пациента'].apply(get_percent)"
   ]
  },
  {
   "cell_type": "code",
   "execution_count": 12,
   "metadata": {},
   "outputs": [],
   "source": [
    "def chech_spu(row):\n",
    "    if row['скидка'] == row['СПУ в процентах']:   # скдика как число в файле от Табенской Ксении\n",
    "        return 'Верно'\n",
    "    elif isinstance(row['СПУ в процентах'], int):\n",
    "        return 'Неверный процент'\n",
    "    else:\n",
    "        return row['СПУ в процентах']"
   ]
  },
  {
   "cell_type": "code",
   "execution_count": 13,
   "metadata": {},
   "outputs": [],
   "source": [
    "data['Результат проверки'] = data.apply(chech_spu, axis=1)"
   ]
  },
  {
   "cell_type": "code",
   "execution_count": 14,
   "metadata": {},
   "outputs": [],
   "source": [
    "data.drop(['Дата оконч проверить', 'СПУ в процентах', 'Нет СПУ в базе', 'Номер карты'], axis=1, inplace=True)"
   ]
  },
  {
   "cell_type": "code",
   "execution_count": 15,
   "metadata": {},
   "outputs": [],
   "source": [
    "data.to_excel('Проверка СПУ.xlsx', index=False)"
   ]
  },
  {
   "cell_type": "code",
   "execution_count": null,
   "metadata": {},
   "outputs": [],
   "source": []
  },
  {
   "cell_type": "code",
   "execution_count": null,
   "metadata": {},
   "outputs": [],
   "source": []
  }
 ],
 "metadata": {
  "kernelspec": {
   "display_name": "Python 3",
   "language": "python",
   "name": "python3"
  },
  "language_info": {
   "codemirror_mode": {
    "name": "ipython",
    "version": 3
   },
   "file_extension": ".py",
   "mimetype": "text/x-python",
   "name": "python",
   "nbconvert_exporter": "python",
   "pygments_lexer": "ipython3",
   "version": "3.7.6"
  }
 },
 "nbformat": 4,
 "nbformat_minor": 4
}
