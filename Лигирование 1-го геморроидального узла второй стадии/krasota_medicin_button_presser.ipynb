{
 "cells": [
  {
   "cell_type": "code",
   "execution_count": 1,
   "metadata": {},
   "outputs": [],
   "source": [
    "from selenium import webdriver\n",
    "from selenium.webdriver.common.by import By\n",
    "from selenium.webdriver.support.ui import WebDriverWait\n",
    "from selenium.webdriver.support import expected_conditions as EC\n",
    "import math\n",
    "import time"
   ]
  },
  {
   "cell_type": "code",
   "execution_count": 2,
   "metadata": {},
   "outputs": [
    {
     "ename": "SyntaxError",
     "evalue": "EOL while scanning string literal (<ipython-input-2-5cbdfd8986ff>, line 6)",
     "output_type": "error",
     "traceback": [
      "\u001b[1;36m  File \u001b[1;32m\"<ipython-input-2-5cbdfd8986ff>\"\u001b[1;36m, line \u001b[1;32m6\u001b[0m\n\u001b[1;33m    selector = '//*[contains(text(), \"Показать ещё\")]\u001b[0m\n\u001b[1;37m                                                     ^\u001b[0m\n\u001b[1;31mSyntaxError\u001b[0m\u001b[1;31m:\u001b[0m EOL while scanning string literal\n"
     ]
    }
   ],
   "source": [
    "link = 'https://spb.krasotaimedicina.ru/treatment/hemorrhoids/latex-ligation?filter=Y&free_param=136078082'\n",
    "\n",
    "with webdriver.Chrome(executable_path=r'C:\\Users\\AmanovRA\\Anaconda3\\Work-work\\Lessons\\Selenium\\chromedriver.exe') as browser:\n",
    "    browser.implicitly_wait(5)\n",
    "    browser.get(link)\n",
    "    selector = '//*[contains(text(), \"Показать ещё\")]'\n",
    "    arr = browser.find_elements_by_xpath(selector)\n",
    "    while arr:\n",
    "        for element in arr:\n",
    "            element.click()\n",
    "        arr = browser.find_elements_by_xpath(selector)\n",
    "    time.sleep(200)    "
   ]
  },
  {
   "cell_type": "code",
   "execution_count": null,
   "metadata": {},
   "outputs": [],
   "source": []
  }
 ],
 "metadata": {
  "kernelspec": {
   "display_name": "Python 3",
   "language": "python",
   "name": "python3"
  },
  "language_info": {
   "codemirror_mode": {
    "name": "ipython",
    "version": 3
   },
   "file_extension": ".py",
   "mimetype": "text/x-python",
   "name": "python",
   "nbconvert_exporter": "python",
   "pygments_lexer": "ipython3",
   "version": "3.7.6"
  }
 },
 "nbformat": 4,
 "nbformat_minor": 4
}
