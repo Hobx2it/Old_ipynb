{
 "cells": [
  {
   "cell_type": "code",
   "execution_count": 1,
   "metadata": {},
   "outputs": [],
   "source": [
    "import pandas as pd\n",
    "import requests\n",
    "from urllib.request import urlopen, urlretrieve\n",
    "from bs4 import BeautifulSoup\n",
    "import json\n",
    "import openpyxl\n",
    "import datetime\n",
    "import time\n",
    "import numpy as np\n",
    "import matplotlib.pyplot as plt\n",
    "import seaborn as sns\n",
    "\n",
    "\n",
    "%matplotlib inline"
   ]
  },
  {
   "cell_type": "code",
   "execution_count": 2,
   "metadata": {},
   "outputs": [],
   "source": [
    "plt.style.use('ggplot')  # Красивые графики\n",
    "plt.rcParams['figure.figsize'] = (15, 5)  # Размер картинок"
   ]
  },
  {
   "cell_type": "code",
   "execution_count": 3,
   "metadata": {},
   "outputs": [],
   "source": [
    "data = pd.read_excel('Выгрузка.xlsx')"
   ]
  },
  {
   "cell_type": "code",
   "execution_count": 4,
   "metadata": {},
   "outputs": [],
   "source": [
    "def del_defis(x):\n",
    "    if x == '-':\n",
    "        return ''\n",
    "    else:\n",
    "        return x\n",
    "    \n",
    "for column in data.columns:\n",
    "    if column.startswith('Ф_') or column.startswith('Р_'):\n",
    "        data[column] = data[column].apply(del_defis)"
   ]
  },
  {
   "cell_type": "code",
   "execution_count": 5,
   "metadata": {},
   "outputs": [],
   "source": [
    "def non_empty(lst, row):\n",
    "    arr = []\n",
    "    for key in lst:\n",
    "        if any([i.isalnum() for i in str(row[key])]):\n",
    "            temp_name = key[2:]\n",
    "            if temp_name not in ('Город', 'Нас.пункт', 'Улица'):\n",
    "                arr.append(temp_name + ' ' + str(row[key]))\n",
    "            else:\n",
    "                arr.append(str(row[key]))\n",
    "    return ' '.join(arr)        \n",
    "\n",
    "\n",
    "\n",
    "def get_adress(row):\n",
    "    if row['Ф_Полный адрес'] == '' and row['Р_Город'] == '' and row['Р_Нас.пункт'] == '' and row['Р_Улица'] == '':\n",
    "        return ''\n",
    "    elif row['Р_Город'] == '' and row['Р_Нас.пункт'] == '' and row['Р_Улица'] == '':\n",
    "        if 'новосибирск' in str(row['Ф_Полный адрес']).lower():\n",
    "            return row['Ф_Полный адрес']\n",
    "        else:\n",
    "            return 'г.Новосибириск ' + str(row['Ф_Полный адрес'])\n",
    "    else:\n",
    "        return non_empty(['Р_Город', 'Р_Нас.пункт', 'Р_Улица', 'Р_Дом', 'Р_Корпус'], row)\n",
    "    \n",
    "    \n",
    "data['Adress'] = data.apply(get_adress, axis=1)    \n",
    "    "
   ]
  },
  {
   "cell_type": "code",
   "execution_count": 6,
   "metadata": {},
   "outputs": [],
   "source": [
    "api_key = 'b996ed8b-dc1b-4dee-8687-bbb4b26dd313'\n",
    "\n",
    "url = 'https://geocode-maps.yandex.ru/1.x?geocode='\n",
    "\n",
    "\n",
    "def addr(b):\n",
    "    a = b.replace(' ', '')\n",
    "    a = str(a.encode('utf8'))\n",
    "    i = a[2]\n",
    "    a2 = ''.join(a.split(i))\n",
    "    a3 = a2.replace('x', '%')\n",
    "    resp = urlopen(url + a3.upper() + '&apikey=' + api_key + '&format=json')\n",
    "    rows = resp.read().decode('utf8') # считываем содержимое\n",
    "    lst = json.loads(rows)\n",
    "    coords = lst['response']['GeoObjectCollection']['featureMember'][0]['GeoObject']['Point']['pos'].split()\n",
    "    return [coords[1], coords[0]]\n",
    "\n",
    "\n",
    "\n",
    "\n",
    "from decimal import Decimal\n",
    "\n",
    "from yandex_geocoder import Client\n",
    "\n",
    "\n",
    "client = Client(api_key)\n",
    "\n",
    "\n"
   ]
  },
  {
   "cell_type": "code",
   "execution_count": 7,
   "metadata": {},
   "outputs": [],
   "source": [
    "def to_date(s):\n",
    "    try:\n",
    "        return pd.to_datetime(s, format='%Y-%m-%d %H:%M:%S').time()\n",
    "    except:\n",
    "        return datetime.time(0)\n",
    "\n",
    "\n",
    "\n",
    "data['Время посещения'] = data['Дата и время посещения'].apply(to_date)"
   ]
  },
  {
   "cell_type": "code",
   "execution_count": 8,
   "metadata": {},
   "outputs": [],
   "source": [
    "data = data.sort_values(by=['Номер карты', 'Дата приема', 'Время посещения']).reset_index(drop=True)"
   ]
  },
  {
   "cell_type": "code",
   "execution_count": 9,
   "metadata": {},
   "outputs": [],
   "source": [
    "def first_visit(row):\n",
    "    if row['Дата приема'] == row['Дата первого посещения']:\n",
    "        min_time = data[(data['Номер карты'] == row['Номер карты']) & (data['Дата приема'] == row['Дата приема'])]['Время посещения'].min()\n",
    "        if row['Время посещения'] == min_time:\n",
    "            return True\n",
    "    return False    \n",
    "\n",
    "data['Первое обращение'] = data.apply(first_visit, axis=1)"
   ]
  },
  {
   "cell_type": "code",
   "execution_count": 10,
   "metadata": {},
   "outputs": [],
   "source": [
    "data['Возраст'] = (data['Дата приема'] - data['Дата рождения']).apply(lambda x: int(x.days // 365.25))\n",
    "\n",
    "#.apply(lambda x: int((datetime.datetime.today().date() - x.date()).days // 365.25))\n"
   ]
  },
  {
   "cell_type": "code",
   "execution_count": 11,
   "metadata": {},
   "outputs": [],
   "source": [
    "def age_group(age):\n",
    "    arr = [\n",
    "        range(0, 1),\n",
    "        range(1, 3),\n",
    "        range(3, 7),\n",
    "        range(7, 15),\n",
    "        range(15, 18),\n",
    "        range(18, 25),\n",
    "        range(25, 35),\n",
    "        range(35, 45),\n",
    "        range(45, 55),\n",
    "        range(55, 65),\n",
    "        range(65, 75),\n",
    "        range(75, 85),\n",
    "        range(85, 95),\n",
    "        range(95, 105),\n",
    "        range(105, 115),\n",
    "        range(115, 125),\n",
    "        range(125, 135),\n",
    "        range(135, 145),\n",
    "        range(145, 1000)\n",
    "        \n",
    "    ]\n",
    "    \n",
    "    for i in arr:\n",
    "        if age in i:\n",
    "            temp_s = str(i).replace('range', '').replace('(', '').replace(')', '').split(', ')\n",
    "            if temp_s[1] == '1000':\n",
    "                return '145 лет и более'\n",
    "            elif temp_s[1] == '1':\n",
    "                return 'До 1 года'\n",
    "            else:\n",
    "                return f'{int(temp_s[0])}-{int(temp_s[1])-1} года'\n",
    "    "
   ]
  },
  {
   "cell_type": "code",
   "execution_count": 12,
   "metadata": {},
   "outputs": [],
   "source": [
    "data['Возрастная группа'] = data['Возраст'].apply(age_group)"
   ]
  },
  {
   "cell_type": "code",
   "execution_count": 13,
   "metadata": {},
   "outputs": [],
   "source": [
    "data['МДВ'] = data['Возраст'].apply(lambda x: 'Ребенок' if x < 18 else 'Взрослый')"
   ]
  },
  {
   "cell_type": "code",
   "execution_count": 14,
   "metadata": {},
   "outputs": [],
   "source": [
    "adresses = data[data['Adress'] != ''].drop_duplicates(subset=['Adress'])['Adress']"
   ]
  },
  {
   "cell_type": "code",
   "execution_count": 185,
   "metadata": {},
   "outputs": [],
   "source": [
    "def coord_yandex(s):\n",
    "    try:\n",
    "        return list(map(float, client.coordinates(s)))[::-1]\n",
    "    except:\n",
    "        return '' "
   ]
  },
  {
   "cell_type": "code",
   "execution_count": 186,
   "metadata": {},
   "outputs": [],
   "source": [
    "dct = {}\n",
    "\n",
    "for i in adresses:\n",
    "    dct.setdefault(i, coord_yandex(i))\n",
    "    time.sleep(0.1)"
   ]
  },
  {
   "cell_type": "code",
   "execution_count": 190,
   "metadata": {},
   "outputs": [],
   "source": [
    "for i in [key for key,value in dct.items() if value=='']:\n",
    "    dct[i] = coord_yandex(i)\n",
    "    time.sleep(0.1)"
   ]
  },
  {
   "cell_type": "code",
   "execution_count": 191,
   "metadata": {},
   "outputs": [
    {
     "data": {
      "text/plain": [
       "['г.Новосибириск В/г 17, общ.1066/1 комн.15',\n",
       " 'г.Новосибириск тст Золотая Горка, Аллея Ж дом 1',\n",
       " 'г.Новосибириск НСО Северная, ул. Гагарина 2а - 4',\n",
       " 'г.Новосибириск коттеджн.пос. березки ул 4-я восточная - 4',\n",
       " 'г.Новосибириск nan',\n",
       " 'г.Новосибириск Озерный ТСЖ Солнечный ул. Тихая гавань 173Б',\n",
       " 'г.Новосибириск Краснообск ул. Гефест 1 дом 75',\n",
       " 'г Бердск ул Микрорайон Дом 6',\n",
       " 'г.Новосибириск п Мичуринский ДНП \"Планета\" ул. Утреняя 8',\n",
       " 'г.Новосибириск снт Славянка, пер. 19-ый Генералиссимуса Сталина И.В., д5/1',\n",
       " 'с Новокаменка тер Удачный ДНТ Дом 33',\n",
       " 'рп Коченево ул Полевой ж/м Линия 3-я Дом 19',\n",
       " 'г.Новосибириск п. Озерный мкр Солнечный ул.Римская 245']"
      ]
     },
     "execution_count": 191,
     "metadata": {},
     "output_type": "execute_result"
    }
   ],
   "source": [
    "[key for key,value in dct.items() if value=='']"
   ]
  },
  {
   "cell_type": "code",
   "execution_count": 194,
   "metadata": {},
   "outputs": [],
   "source": [
    "coords_adresses = pd.DataFrame({'Адрес' : [i for i in dct.keys()], 'Координаты' : [i for i in dct.values()]})\n"
   ]
  },
  {
   "cell_type": "code",
   "execution_count": 196,
   "metadata": {},
   "outputs": [],
   "source": [
    "coords_adresses = coords_adresses[coords_adresses['Координаты'] != '']"
   ]
  },
  {
   "cell_type": "code",
   "execution_count": 199,
   "metadata": {},
   "outputs": [],
   "source": [
    "coords_adresses.to_excel('coords_adresses.xlsx', index=False)"
   ]
  },
  {
   "cell_type": "code",
   "execution_count": 201,
   "metadata": {},
   "outputs": [
    {
     "data": {
      "text/plain": [
       "Index(['Номер карты', 'Пациент', 'Пол', 'Дата рождения', 'Категория клиента',\n",
       "       'Год', 'Месяц', 'Дата приема', 'Дата и время посещения',\n",
       "       'Дата первого посещения', 'Наименование услуги', 'Sum([Количество])',\n",
       "       'Sum([Всего начислено])', 'Ф_Полный адрес', 'Р_Город', 'Р_Нас.пункт',\n",
       "       'Р_Улица', 'Р_Дом', 'Р_Корпус', 'Adress', 'Время посещения',\n",
       "       'Первое обращение', 'Возраст', 'Возрастная группа', 'МДВ'],\n",
       "      dtype='object')"
      ]
     },
     "execution_count": 201,
     "metadata": {},
     "output_type": "execute_result"
    }
   ],
   "source": [
    "data.columns"
   ]
  },
  {
   "cell_type": "code",
   "execution_count": 26,
   "metadata": {},
   "outputs": [],
   "source": [
    "data_first = data.groupby(by=['Возрастная группа', 'Пол'], as_index=False).agg({'Номер карты': 'nunique',\n",
    "                                             'Sum([Количество])' : 'sum',\n",
    "                                             'Sum([Всего начислено])' : 'sum'})"
   ]
  },
  {
   "cell_type": "code",
   "execution_count": 27,
   "metadata": {},
   "outputs": [],
   "source": [
    "data_first['sort'] = data_first['Возрастная группа'].apply(lambda x: int(''.join([i for i in x if i.isdigit()])))"
   ]
  },
  {
   "cell_type": "code",
   "execution_count": 28,
   "metadata": {},
   "outputs": [
    {
     "data": {
      "text/html": [
       "<div>\n",
       "<style scoped>\n",
       "    .dataframe tbody tr th:only-of-type {\n",
       "        vertical-align: middle;\n",
       "    }\n",
       "\n",
       "    .dataframe tbody tr th {\n",
       "        vertical-align: top;\n",
       "    }\n",
       "\n",
       "    .dataframe thead th {\n",
       "        text-align: right;\n",
       "    }\n",
       "</style>\n",
       "<table border=\"1\" class=\"dataframe\">\n",
       "  <thead>\n",
       "    <tr style=\"text-align: right;\">\n",
       "      <th></th>\n",
       "      <th>Возрастная группа</th>\n",
       "      <th>Пол</th>\n",
       "      <th>Номер карты</th>\n",
       "      <th>Sum([Количество])</th>\n",
       "      <th>Sum([Всего начислено])</th>\n",
       "      <th>sort</th>\n",
       "    </tr>\n",
       "  </thead>\n",
       "  <tbody>\n",
       "    <tr>\n",
       "      <th>0</th>\n",
       "      <td>1-2 года</td>\n",
       "      <td>Женский</td>\n",
       "      <td>635</td>\n",
       "      <td>2923</td>\n",
       "      <td>2286555.88</td>\n",
       "      <td>12</td>\n",
       "    </tr>\n",
       "    <tr>\n",
       "      <th>1</th>\n",
       "      <td>1-2 года</td>\n",
       "      <td>Мужской</td>\n",
       "      <td>770</td>\n",
       "      <td>3829</td>\n",
       "      <td>2416113.03</td>\n",
       "      <td>12</td>\n",
       "    </tr>\n",
       "    <tr>\n",
       "      <th>2</th>\n",
       "      <td>15-17 года</td>\n",
       "      <td>Женский</td>\n",
       "      <td>190</td>\n",
       "      <td>942</td>\n",
       "      <td>643458.00</td>\n",
       "      <td>1517</td>\n",
       "    </tr>\n",
       "    <tr>\n",
       "      <th>3</th>\n",
       "      <td>15-17 года</td>\n",
       "      <td>Мужской</td>\n",
       "      <td>154</td>\n",
       "      <td>502</td>\n",
       "      <td>380702.92</td>\n",
       "      <td>1517</td>\n",
       "    </tr>\n",
       "    <tr>\n",
       "      <th>4</th>\n",
       "      <td>18-24 года</td>\n",
       "      <td>Женский</td>\n",
       "      <td>1023</td>\n",
       "      <td>6712</td>\n",
       "      <td>4359704.96</td>\n",
       "      <td>1824</td>\n",
       "    </tr>\n",
       "    <tr>\n",
       "      <th>5</th>\n",
       "      <td>18-24 года</td>\n",
       "      <td>Мужской</td>\n",
       "      <td>441</td>\n",
       "      <td>1995</td>\n",
       "      <td>1189254.00</td>\n",
       "      <td>1824</td>\n",
       "    </tr>\n",
       "    <tr>\n",
       "      <th>6</th>\n",
       "      <td>25-34 года</td>\n",
       "      <td>Женский</td>\n",
       "      <td>2164</td>\n",
       "      <td>17665</td>\n",
       "      <td>11931968.17</td>\n",
       "      <td>2534</td>\n",
       "    </tr>\n",
       "    <tr>\n",
       "      <th>7</th>\n",
       "      <td>25-34 года</td>\n",
       "      <td>Мужской</td>\n",
       "      <td>970</td>\n",
       "      <td>4696</td>\n",
       "      <td>3041038.63</td>\n",
       "      <td>2534</td>\n",
       "    </tr>\n",
       "    <tr>\n",
       "      <th>8</th>\n",
       "      <td>3-6 года</td>\n",
       "      <td>Женский</td>\n",
       "      <td>891</td>\n",
       "      <td>4509</td>\n",
       "      <td>3439627.61</td>\n",
       "      <td>36</td>\n",
       "    </tr>\n",
       "    <tr>\n",
       "      <th>9</th>\n",
       "      <td>3-6 года</td>\n",
       "      <td>Мужской</td>\n",
       "      <td>996</td>\n",
       "      <td>4583</td>\n",
       "      <td>3254310.17</td>\n",
       "      <td>36</td>\n",
       "    </tr>\n",
       "    <tr>\n",
       "      <th>10</th>\n",
       "      <td>35-44 года</td>\n",
       "      <td>Женский</td>\n",
       "      <td>1355</td>\n",
       "      <td>9548</td>\n",
       "      <td>6188679.85</td>\n",
       "      <td>3544</td>\n",
       "    </tr>\n",
       "    <tr>\n",
       "      <th>11</th>\n",
       "      <td>35-44 года</td>\n",
       "      <td>Мужской</td>\n",
       "      <td>708</td>\n",
       "      <td>3544</td>\n",
       "      <td>2236943.33</td>\n",
       "      <td>3544</td>\n",
       "    </tr>\n",
       "    <tr>\n",
       "      <th>12</th>\n",
       "      <td>45-54 года</td>\n",
       "      <td>Женский</td>\n",
       "      <td>702</td>\n",
       "      <td>5662</td>\n",
       "      <td>2331639.20</td>\n",
       "      <td>4554</td>\n",
       "    </tr>\n",
       "    <tr>\n",
       "      <th>13</th>\n",
       "      <td>45-54 года</td>\n",
       "      <td>Мужской</td>\n",
       "      <td>387</td>\n",
       "      <td>1666</td>\n",
       "      <td>1205844.61</td>\n",
       "      <td>4554</td>\n",
       "    </tr>\n",
       "    <tr>\n",
       "      <th>14</th>\n",
       "      <td>55-64 года</td>\n",
       "      <td>Женский</td>\n",
       "      <td>730</td>\n",
       "      <td>3657</td>\n",
       "      <td>2278774.21</td>\n",
       "      <td>5564</td>\n",
       "    </tr>\n",
       "    <tr>\n",
       "      <th>15</th>\n",
       "      <td>55-64 года</td>\n",
       "      <td>Мужской</td>\n",
       "      <td>389</td>\n",
       "      <td>2343</td>\n",
       "      <td>1433709.49</td>\n",
       "      <td>5564</td>\n",
       "    </tr>\n",
       "    <tr>\n",
       "      <th>16</th>\n",
       "      <td>65-74 года</td>\n",
       "      <td>Женский</td>\n",
       "      <td>439</td>\n",
       "      <td>1732</td>\n",
       "      <td>1385308.88</td>\n",
       "      <td>6574</td>\n",
       "    </tr>\n",
       "    <tr>\n",
       "      <th>17</th>\n",
       "      <td>65-74 года</td>\n",
       "      <td>Мужской</td>\n",
       "      <td>234</td>\n",
       "      <td>1093</td>\n",
       "      <td>766683.00</td>\n",
       "      <td>6574</td>\n",
       "    </tr>\n",
       "    <tr>\n",
       "      <th>18</th>\n",
       "      <td>7-14 года</td>\n",
       "      <td>Женский</td>\n",
       "      <td>675</td>\n",
       "      <td>2577</td>\n",
       "      <td>1869287.84</td>\n",
       "      <td>714</td>\n",
       "    </tr>\n",
       "    <tr>\n",
       "      <th>19</th>\n",
       "      <td>7-14 года</td>\n",
       "      <td>Мужской</td>\n",
       "      <td>683</td>\n",
       "      <td>2551</td>\n",
       "      <td>1804179.10</td>\n",
       "      <td>714</td>\n",
       "    </tr>\n",
       "    <tr>\n",
       "      <th>20</th>\n",
       "      <td>75-84 года</td>\n",
       "      <td>Женский</td>\n",
       "      <td>273</td>\n",
       "      <td>911</td>\n",
       "      <td>845153.00</td>\n",
       "      <td>7584</td>\n",
       "    </tr>\n",
       "    <tr>\n",
       "      <th>21</th>\n",
       "      <td>75-84 года</td>\n",
       "      <td>Мужской</td>\n",
       "      <td>88</td>\n",
       "      <td>341</td>\n",
       "      <td>312372.56</td>\n",
       "      <td>7584</td>\n",
       "    </tr>\n",
       "    <tr>\n",
       "      <th>22</th>\n",
       "      <td>85-94 года</td>\n",
       "      <td>Женский</td>\n",
       "      <td>127</td>\n",
       "      <td>450</td>\n",
       "      <td>494962.24</td>\n",
       "      <td>8594</td>\n",
       "    </tr>\n",
       "    <tr>\n",
       "      <th>23</th>\n",
       "      <td>85-94 года</td>\n",
       "      <td>Мужской</td>\n",
       "      <td>26</td>\n",
       "      <td>85</td>\n",
       "      <td>107997.50</td>\n",
       "      <td>8594</td>\n",
       "    </tr>\n",
       "    <tr>\n",
       "      <th>24</th>\n",
       "      <td>95-104 года</td>\n",
       "      <td>Женский</td>\n",
       "      <td>10</td>\n",
       "      <td>18</td>\n",
       "      <td>49000.00</td>\n",
       "      <td>95104</td>\n",
       "    </tr>\n",
       "    <tr>\n",
       "      <th>25</th>\n",
       "      <td>95-104 года</td>\n",
       "      <td>Мужской</td>\n",
       "      <td>2</td>\n",
       "      <td>3</td>\n",
       "      <td>8700.00</td>\n",
       "      <td>95104</td>\n",
       "    </tr>\n",
       "    <tr>\n",
       "      <th>26</th>\n",
       "      <td>До 1 года</td>\n",
       "      <td>Женский</td>\n",
       "      <td>713</td>\n",
       "      <td>2614</td>\n",
       "      <td>2072721.40</td>\n",
       "      <td>1</td>\n",
       "    </tr>\n",
       "    <tr>\n",
       "      <th>27</th>\n",
       "      <td>До 1 года</td>\n",
       "      <td>Мужской</td>\n",
       "      <td>870</td>\n",
       "      <td>3112</td>\n",
       "      <td>2319756.32</td>\n",
       "      <td>1</td>\n",
       "    </tr>\n",
       "  </tbody>\n",
       "</table>\n",
       "</div>"
      ],
      "text/plain": [
       "   Возрастная группа      Пол  Номер карты  Sum([Количество])  \\\n",
       "0           1-2 года  Женский          635               2923   \n",
       "1           1-2 года  Мужской          770               3829   \n",
       "2         15-17 года  Женский          190                942   \n",
       "3         15-17 года  Мужской          154                502   \n",
       "4         18-24 года  Женский         1023               6712   \n",
       "5         18-24 года  Мужской          441               1995   \n",
       "6         25-34 года  Женский         2164              17665   \n",
       "7         25-34 года  Мужской          970               4696   \n",
       "8           3-6 года  Женский          891               4509   \n",
       "9           3-6 года  Мужской          996               4583   \n",
       "10        35-44 года  Женский         1355               9548   \n",
       "11        35-44 года  Мужской          708               3544   \n",
       "12        45-54 года  Женский          702               5662   \n",
       "13        45-54 года  Мужской          387               1666   \n",
       "14        55-64 года  Женский          730               3657   \n",
       "15        55-64 года  Мужской          389               2343   \n",
       "16        65-74 года  Женский          439               1732   \n",
       "17        65-74 года  Мужской          234               1093   \n",
       "18         7-14 года  Женский          675               2577   \n",
       "19         7-14 года  Мужской          683               2551   \n",
       "20        75-84 года  Женский          273                911   \n",
       "21        75-84 года  Мужской           88                341   \n",
       "22        85-94 года  Женский          127                450   \n",
       "23        85-94 года  Мужской           26                 85   \n",
       "24       95-104 года  Женский           10                 18   \n",
       "25       95-104 года  Мужской            2                  3   \n",
       "26         До 1 года  Женский          713               2614   \n",
       "27         До 1 года  Мужской          870               3112   \n",
       "\n",
       "    Sum([Всего начислено])   sort  \n",
       "0               2286555.88     12  \n",
       "1               2416113.03     12  \n",
       "2                643458.00   1517  \n",
       "3                380702.92   1517  \n",
       "4               4359704.96   1824  \n",
       "5               1189254.00   1824  \n",
       "6              11931968.17   2534  \n",
       "7               3041038.63   2534  \n",
       "8               3439627.61     36  \n",
       "9               3254310.17     36  \n",
       "10              6188679.85   3544  \n",
       "11              2236943.33   3544  \n",
       "12              2331639.20   4554  \n",
       "13              1205844.61   4554  \n",
       "14              2278774.21   5564  \n",
       "15              1433709.49   5564  \n",
       "16              1385308.88   6574  \n",
       "17               766683.00   6574  \n",
       "18              1869287.84    714  \n",
       "19              1804179.10    714  \n",
       "20               845153.00   7584  \n",
       "21               312372.56   7584  \n",
       "22               494962.24   8594  \n",
       "23               107997.50   8594  \n",
       "24                49000.00  95104  \n",
       "25                 8700.00  95104  \n",
       "26              2072721.40      1  \n",
       "27              2319756.32      1  "
      ]
     },
     "execution_count": 28,
     "metadata": {},
     "output_type": "execute_result"
    }
   ],
   "source": [
    "data_first"
   ]
  },
  {
   "cell_type": "code",
   "execution_count": 29,
   "metadata": {},
   "outputs": [],
   "source": [
    "data_first = data_first.sort_values('sort').drop('sort', axis=1).reset_index(drop=True).rename(columns={'Номер карты' : 'Кол-во клиентов',\n",
    "                                                                                                       'Sum([Количество])' : 'Кол-во услуг',\n",
    "                                                                                                       'Sum([Всего начислено])' : 'Выработка'})"
   ]
  },
  {
   "cell_type": "code",
   "execution_count": 30,
   "metadata": {},
   "outputs": [],
   "source": [
    "data_first.to_excel('data_first.xlsx', index=False)"
   ]
  },
  {
   "cell_type": "code",
   "execution_count": 31,
   "metadata": {},
   "outputs": [
    {
     "data": {
      "text/html": [
       "<div>\n",
       "<style scoped>\n",
       "    .dataframe tbody tr th:only-of-type {\n",
       "        vertical-align: middle;\n",
       "    }\n",
       "\n",
       "    .dataframe tbody tr th {\n",
       "        vertical-align: top;\n",
       "    }\n",
       "\n",
       "    .dataframe thead th {\n",
       "        text-align: right;\n",
       "    }\n",
       "</style>\n",
       "<table border=\"1\" class=\"dataframe\">\n",
       "  <thead>\n",
       "    <tr style=\"text-align: right;\">\n",
       "      <th></th>\n",
       "      <th>Возрастная группа</th>\n",
       "      <th>Пол</th>\n",
       "      <th>Кол-во клиентов</th>\n",
       "      <th>Кол-во услуг</th>\n",
       "      <th>Выработка</th>\n",
       "      <th>Возр. гр.</th>\n",
       "    </tr>\n",
       "  </thead>\n",
       "  <tbody>\n",
       "    <tr>\n",
       "      <th>0</th>\n",
       "      <td>До 1 года</td>\n",
       "      <td>Мужской</td>\n",
       "      <td>870</td>\n",
       "      <td>3112</td>\n",
       "      <td>2319756.32</td>\n",
       "      <td>1</td>\n",
       "    </tr>\n",
       "    <tr>\n",
       "      <th>1</th>\n",
       "      <td>До 1 года</td>\n",
       "      <td>Женский</td>\n",
       "      <td>713</td>\n",
       "      <td>2614</td>\n",
       "      <td>2072721.40</td>\n",
       "      <td>1</td>\n",
       "    </tr>\n",
       "    <tr>\n",
       "      <th>2</th>\n",
       "      <td>1-2 года</td>\n",
       "      <td>Женский</td>\n",
       "      <td>635</td>\n",
       "      <td>2923</td>\n",
       "      <td>2286555.88</td>\n",
       "      <td>12</td>\n",
       "    </tr>\n",
       "    <tr>\n",
       "      <th>3</th>\n",
       "      <td>1-2 года</td>\n",
       "      <td>Мужской</td>\n",
       "      <td>770</td>\n",
       "      <td>3829</td>\n",
       "      <td>2416113.03</td>\n",
       "      <td>12</td>\n",
       "    </tr>\n",
       "    <tr>\n",
       "      <th>4</th>\n",
       "      <td>3-6 года</td>\n",
       "      <td>Женский</td>\n",
       "      <td>891</td>\n",
       "      <td>4509</td>\n",
       "      <td>3439627.61</td>\n",
       "      <td>36</td>\n",
       "    </tr>\n",
       "    <tr>\n",
       "      <th>5</th>\n",
       "      <td>3-6 года</td>\n",
       "      <td>Мужской</td>\n",
       "      <td>996</td>\n",
       "      <td>4583</td>\n",
       "      <td>3254310.17</td>\n",
       "      <td>36</td>\n",
       "    </tr>\n",
       "    <tr>\n",
       "      <th>6</th>\n",
       "      <td>7-14 года</td>\n",
       "      <td>Мужской</td>\n",
       "      <td>683</td>\n",
       "      <td>2551</td>\n",
       "      <td>1804179.10</td>\n",
       "      <td>714</td>\n",
       "    </tr>\n",
       "    <tr>\n",
       "      <th>7</th>\n",
       "      <td>7-14 года</td>\n",
       "      <td>Женский</td>\n",
       "      <td>675</td>\n",
       "      <td>2577</td>\n",
       "      <td>1869287.84</td>\n",
       "      <td>714</td>\n",
       "    </tr>\n",
       "    <tr>\n",
       "      <th>8</th>\n",
       "      <td>15-17 года</td>\n",
       "      <td>Мужской</td>\n",
       "      <td>154</td>\n",
       "      <td>502</td>\n",
       "      <td>380702.92</td>\n",
       "      <td>1517</td>\n",
       "    </tr>\n",
       "    <tr>\n",
       "      <th>9</th>\n",
       "      <td>15-17 года</td>\n",
       "      <td>Женский</td>\n",
       "      <td>190</td>\n",
       "      <td>942</td>\n",
       "      <td>643458.00</td>\n",
       "      <td>1517</td>\n",
       "    </tr>\n",
       "    <tr>\n",
       "      <th>10</th>\n",
       "      <td>18-24 года</td>\n",
       "      <td>Женский</td>\n",
       "      <td>1023</td>\n",
       "      <td>6712</td>\n",
       "      <td>4359704.96</td>\n",
       "      <td>1824</td>\n",
       "    </tr>\n",
       "    <tr>\n",
       "      <th>11</th>\n",
       "      <td>18-24 года</td>\n",
       "      <td>Мужской</td>\n",
       "      <td>441</td>\n",
       "      <td>1995</td>\n",
       "      <td>1189254.00</td>\n",
       "      <td>1824</td>\n",
       "    </tr>\n",
       "    <tr>\n",
       "      <th>12</th>\n",
       "      <td>25-34 года</td>\n",
       "      <td>Женский</td>\n",
       "      <td>2164</td>\n",
       "      <td>17665</td>\n",
       "      <td>11931968.17</td>\n",
       "      <td>2534</td>\n",
       "    </tr>\n",
       "    <tr>\n",
       "      <th>13</th>\n",
       "      <td>25-34 года</td>\n",
       "      <td>Мужской</td>\n",
       "      <td>970</td>\n",
       "      <td>4696</td>\n",
       "      <td>3041038.63</td>\n",
       "      <td>2534</td>\n",
       "    </tr>\n",
       "    <tr>\n",
       "      <th>14</th>\n",
       "      <td>35-44 года</td>\n",
       "      <td>Женский</td>\n",
       "      <td>1355</td>\n",
       "      <td>9548</td>\n",
       "      <td>6188679.85</td>\n",
       "      <td>3544</td>\n",
       "    </tr>\n",
       "    <tr>\n",
       "      <th>15</th>\n",
       "      <td>35-44 года</td>\n",
       "      <td>Мужской</td>\n",
       "      <td>708</td>\n",
       "      <td>3544</td>\n",
       "      <td>2236943.33</td>\n",
       "      <td>3544</td>\n",
       "    </tr>\n",
       "    <tr>\n",
       "      <th>16</th>\n",
       "      <td>45-54 года</td>\n",
       "      <td>Мужской</td>\n",
       "      <td>387</td>\n",
       "      <td>1666</td>\n",
       "      <td>1205844.61</td>\n",
       "      <td>4554</td>\n",
       "    </tr>\n",
       "    <tr>\n",
       "      <th>17</th>\n",
       "      <td>45-54 года</td>\n",
       "      <td>Женский</td>\n",
       "      <td>702</td>\n",
       "      <td>5662</td>\n",
       "      <td>2331639.20</td>\n",
       "      <td>4554</td>\n",
       "    </tr>\n",
       "    <tr>\n",
       "      <th>18</th>\n",
       "      <td>55-64 года</td>\n",
       "      <td>Женский</td>\n",
       "      <td>730</td>\n",
       "      <td>3657</td>\n",
       "      <td>2278774.21</td>\n",
       "      <td>5564</td>\n",
       "    </tr>\n",
       "    <tr>\n",
       "      <th>19</th>\n",
       "      <td>55-64 года</td>\n",
       "      <td>Мужской</td>\n",
       "      <td>389</td>\n",
       "      <td>2343</td>\n",
       "      <td>1433709.49</td>\n",
       "      <td>5564</td>\n",
       "    </tr>\n",
       "    <tr>\n",
       "      <th>20</th>\n",
       "      <td>65-74 года</td>\n",
       "      <td>Мужской</td>\n",
       "      <td>234</td>\n",
       "      <td>1093</td>\n",
       "      <td>766683.00</td>\n",
       "      <td>6574</td>\n",
       "    </tr>\n",
       "    <tr>\n",
       "      <th>21</th>\n",
       "      <td>65-74 года</td>\n",
       "      <td>Женский</td>\n",
       "      <td>439</td>\n",
       "      <td>1732</td>\n",
       "      <td>1385308.88</td>\n",
       "      <td>6574</td>\n",
       "    </tr>\n",
       "    <tr>\n",
       "      <th>22</th>\n",
       "      <td>75-84 года</td>\n",
       "      <td>Женский</td>\n",
       "      <td>273</td>\n",
       "      <td>911</td>\n",
       "      <td>845153.00</td>\n",
       "      <td>7584</td>\n",
       "    </tr>\n",
       "    <tr>\n",
       "      <th>23</th>\n",
       "      <td>75-84 года</td>\n",
       "      <td>Мужской</td>\n",
       "      <td>88</td>\n",
       "      <td>341</td>\n",
       "      <td>312372.56</td>\n",
       "      <td>7584</td>\n",
       "    </tr>\n",
       "    <tr>\n",
       "      <th>24</th>\n",
       "      <td>85-94 года</td>\n",
       "      <td>Женский</td>\n",
       "      <td>127</td>\n",
       "      <td>450</td>\n",
       "      <td>494962.24</td>\n",
       "      <td>8594</td>\n",
       "    </tr>\n",
       "    <tr>\n",
       "      <th>25</th>\n",
       "      <td>85-94 года</td>\n",
       "      <td>Мужской</td>\n",
       "      <td>26</td>\n",
       "      <td>85</td>\n",
       "      <td>107997.50</td>\n",
       "      <td>8594</td>\n",
       "    </tr>\n",
       "    <tr>\n",
       "      <th>26</th>\n",
       "      <td>95-104 года</td>\n",
       "      <td>Женский</td>\n",
       "      <td>10</td>\n",
       "      <td>18</td>\n",
       "      <td>49000.00</td>\n",
       "      <td>95104</td>\n",
       "    </tr>\n",
       "    <tr>\n",
       "      <th>27</th>\n",
       "      <td>95-104 года</td>\n",
       "      <td>Мужской</td>\n",
       "      <td>2</td>\n",
       "      <td>3</td>\n",
       "      <td>8700.00</td>\n",
       "      <td>95104</td>\n",
       "    </tr>\n",
       "  </tbody>\n",
       "</table>\n",
       "</div>"
      ],
      "text/plain": [
       "   Возрастная группа      Пол  Кол-во клиентов  Кол-во услуг    Выработка  \\\n",
       "0          До 1 года  Мужской              870          3112   2319756.32   \n",
       "1          До 1 года  Женский              713          2614   2072721.40   \n",
       "2           1-2 года  Женский              635          2923   2286555.88   \n",
       "3           1-2 года  Мужской              770          3829   2416113.03   \n",
       "4           3-6 года  Женский              891          4509   3439627.61   \n",
       "5           3-6 года  Мужской              996          4583   3254310.17   \n",
       "6          7-14 года  Мужской              683          2551   1804179.10   \n",
       "7          7-14 года  Женский              675          2577   1869287.84   \n",
       "8         15-17 года  Мужской              154           502    380702.92   \n",
       "9         15-17 года  Женский              190           942    643458.00   \n",
       "10        18-24 года  Женский             1023          6712   4359704.96   \n",
       "11        18-24 года  Мужской              441          1995   1189254.00   \n",
       "12        25-34 года  Женский             2164         17665  11931968.17   \n",
       "13        25-34 года  Мужской              970          4696   3041038.63   \n",
       "14        35-44 года  Женский             1355          9548   6188679.85   \n",
       "15        35-44 года  Мужской              708          3544   2236943.33   \n",
       "16        45-54 года  Мужской              387          1666   1205844.61   \n",
       "17        45-54 года  Женский              702          5662   2331639.20   \n",
       "18        55-64 года  Женский              730          3657   2278774.21   \n",
       "19        55-64 года  Мужской              389          2343   1433709.49   \n",
       "20        65-74 года  Мужской              234          1093    766683.00   \n",
       "21        65-74 года  Женский              439          1732   1385308.88   \n",
       "22        75-84 года  Женский              273           911    845153.00   \n",
       "23        75-84 года  Мужской               88           341    312372.56   \n",
       "24        85-94 года  Женский              127           450    494962.24   \n",
       "25        85-94 года  Мужской               26            85    107997.50   \n",
       "26       95-104 года  Женский               10            18     49000.00   \n",
       "27       95-104 года  Мужской                2             3      8700.00   \n",
       "\n",
       "    Возр. гр.  \n",
       "0           1  \n",
       "1           1  \n",
       "2          12  \n",
       "3          12  \n",
       "4          36  \n",
       "5          36  \n",
       "6         714  \n",
       "7         714  \n",
       "8        1517  \n",
       "9        1517  \n",
       "10       1824  \n",
       "11       1824  \n",
       "12       2534  \n",
       "13       2534  \n",
       "14       3544  \n",
       "15       3544  \n",
       "16       4554  \n",
       "17       4554  \n",
       "18       5564  \n",
       "19       5564  \n",
       "20       6574  \n",
       "21       6574  \n",
       "22       7584  \n",
       "23       7584  \n",
       "24       8594  \n",
       "25       8594  \n",
       "26      95104  \n",
       "27      95104  "
      ]
     },
     "execution_count": 31,
     "metadata": {},
     "output_type": "execute_result"
    }
   ],
   "source": [
    "data_first['Возр. гр.'] = data_first['Возрастная группа'].apply(lambda x: int(''.join([i for i in x if i.isdigit()])))\n",
    "data_first"
   ]
  },
  {
   "cell_type": "code",
   "execution_count": 294,
   "metadata": {},
   "outputs": [],
   "source": [
    "sex = data_first.pivot_table('Кол-во клиентов', index='Пол', columns='Возр. гр.').T"
   ]
  },
  {
   "cell_type": "code",
   "execution_count": 295,
   "metadata": {},
   "outputs": [
    {
     "data": {
      "text/plain": [
       "0       До 1 года\n",
       "2        1-2 года\n",
       "4        3-6 года\n",
       "6       7-14 года\n",
       "8      15-17 года\n",
       "10     18-24 года\n",
       "12     25-34 года\n",
       "14     35-44 года\n",
       "16     45-54 года\n",
       "18     55-64 года\n",
       "20     65-74 года\n",
       "22     75-84 года\n",
       "24     85-94 года\n",
       "26    95-104 года\n",
       "Name: Возрастная группа, dtype: object"
      ]
     },
     "execution_count": 295,
     "metadata": {},
     "output_type": "execute_result"
    }
   ],
   "source": [
    "order = data_first['Возрастная группа'].drop_duplicates()\n",
    "order"
   ]
  },
  {
   "cell_type": "code",
   "execution_count": 296,
   "metadata": {},
   "outputs": [
    {
     "data": {
      "text/plain": [
       "[Text(0, 0, 'До 1 года'),\n",
       " Text(0, 0, '1-2 года'),\n",
       " Text(0, 0, '3-6 года'),\n",
       " Text(0, 0, '7-14 года'),\n",
       " Text(0, 0, '15-17 года'),\n",
       " Text(0, 0, '18-24 года'),\n",
       " Text(0, 0, '25-34 года'),\n",
       " Text(0, 0, '35-44 года'),\n",
       " Text(0, 0, '45-54 года'),\n",
       " Text(0, 0, '55-64 года'),\n",
       " Text(0, 0, '65-74 года'),\n",
       " Text(0, 0, '75-84 года'),\n",
       " Text(0, 0, '85-94 года'),\n",
       " Text(0, 0, '95-104 года')]"
      ]
     },
     "execution_count": 296,
     "metadata": {},
     "output_type": "execute_result"
    },
    {
     "data": {
      "image/png": "[encoded data removed]",
      "text/plain": [
       "<Figure size 1080x360 with 1 Axes>"
      ]
     },
     "metadata": {},
     "output_type": "display_data"
    }
   ],
   "source": [
    "sex.plot(kind='bar', title = 'Кол-во уникальных клиентов по возрастным группам и полу 2018-2019гг')\n",
    "ax = plt.gca()\n",
    "# ax.set_xticks(range(14))\n",
    "ax.set_xticklabels(order)"
   ]
  },
  {
   "cell_type": "code",
   "execution_count": 297,
   "metadata": {},
   "outputs": [
    {
     "data": {
      "text/plain": [
       "[Text(0, 0, 'До 1 года'),\n",
       " Text(0, 0, '1-2 года'),\n",
       " Text(0, 0, '3-6 года'),\n",
       " Text(0, 0, '7-14 года'),\n",
       " Text(0, 0, '15-17 года'),\n",
       " Text(0, 0, '18-24 года'),\n",
       " Text(0, 0, '25-34 года'),\n",
       " Text(0, 0, '35-44 года'),\n",
       " Text(0, 0, '45-54 года'),\n",
       " Text(0, 0, '55-64 года'),\n",
       " Text(0, 0, '65-74 года'),\n",
       " Text(0, 0, '75-84 года'),\n",
       " Text(0, 0, '85-94 года'),\n",
       " Text(0, 0, '95-104 года')]"
      ]
     },
     "execution_count": 297,
     "metadata": {},
     "output_type": "execute_result"
    },
    {
     "data": {
      "image/png": "[encoded data removed]",
      "text/plain": [
       "<Figure size 1080x360 with 1 Axes>"
      ]
     },
     "metadata": {},
     "output_type": "display_data"
    }
   ],
   "source": [
    "services = data_first.pivot_table('Кол-во услуг', index='Пол', columns='Возр. гр.').T\n",
    "services.plot(kind='bar', title = 'Кол-во оказанных услуг клиентам по возрастным группам и полу 2018-2019гг')\n",
    "ax = plt.gca()\n",
    "\n",
    "ax.set_xticklabels(order)"
   ]
  },
  {
   "cell_type": "code",
   "execution_count": 298,
   "metadata": {},
   "outputs": [
    {
     "data": {
      "text/plain": [
       "[Text(0, 0, 'До 1 года'),\n",
       " Text(0, 0, '1-2 года'),\n",
       " Text(0, 0, '3-6 года'),\n",
       " Text(0, 0, '7-14 года'),\n",
       " Text(0, 0, '15-17 года'),\n",
       " Text(0, 0, '18-24 года'),\n",
       " Text(0, 0, '25-34 года'),\n",
       " Text(0, 0, '35-44 года'),\n",
       " Text(0, 0, '45-54 года'),\n",
       " Text(0, 0, '55-64 года'),\n",
       " Text(0, 0, '65-74 года'),\n",
       " Text(0, 0, '75-84 года'),\n",
       " Text(0, 0, '85-94 года'),\n",
       " Text(0, 0, '95-104 года')]"
      ]
     },
     "execution_count": 298,
     "metadata": {},
     "output_type": "execute_result"
    },
    {
     "data": {
      "image/png": "[encoded data removed]",
      "text/plain": [
       "<Figure size 1080x360 with 1 Axes>"
      ]
     },
     "metadata": {},
     "output_type": "display_data"
    }
   ],
   "source": [
    "production = data_first.pivot_table('Выработка', index='Пол', columns='Возр. гр.').T\n",
    "production.plot(kind='bar', title = 'Выработка по возрастным группам и полу 2018-2019гг', )\n",
    "custom_ticks = range(200000, 12000000, 500000)\n",
    "ax = plt.gca()\n",
    "ax.set_yticks(custom_ticks)\n",
    "ax.set_yticklabels(custom_ticks)\n",
    "ax.set_xticklabels(order)\n"
   ]
  },
  {
   "cell_type": "code",
   "execution_count": 257,
   "metadata": {},
   "outputs": [
    {
     "data": {
      "text/html": [
       "<div>\n",
       "<style scoped>\n",
       "    .dataframe tbody tr th:only-of-type {\n",
       "        vertical-align: middle;\n",
       "    }\n",
       "\n",
       "    .dataframe tbody tr th {\n",
       "        vertical-align: top;\n",
       "    }\n",
       "\n",
       "    .dataframe thead th {\n",
       "        text-align: right;\n",
       "    }\n",
       "</style>\n",
       "<table border=\"1\" class=\"dataframe\">\n",
       "  <thead>\n",
       "    <tr style=\"text-align: right;\">\n",
       "      <th></th>\n",
       "      <th>Кол-во клиентов</th>\n",
       "      <th>Кол-во услуг</th>\n",
       "      <th>Выработка</th>\n",
       "    </tr>\n",
       "  </thead>\n",
       "  <tbody>\n",
       "    <tr>\n",
       "      <th>Кол-во клиентов</th>\n",
       "      <td>1.000000</td>\n",
       "      <td>0.949569</td>\n",
       "      <td>0.955520</td>\n",
       "    </tr>\n",
       "    <tr>\n",
       "      <th>Кол-во услуг</th>\n",
       "      <td>0.949569</td>\n",
       "      <td>1.000000</td>\n",
       "      <td>0.990439</td>\n",
       "    </tr>\n",
       "    <tr>\n",
       "      <th>Выработка</th>\n",
       "      <td>0.955520</td>\n",
       "      <td>0.990439</td>\n",
       "      <td>1.000000</td>\n",
       "    </tr>\n",
       "  </tbody>\n",
       "</table>\n",
       "</div>"
      ],
      "text/plain": [
       "                 Кол-во клиентов  Кол-во услуг  Выработка\n",
       "Кол-во клиентов         1.000000      0.949569   0.955520\n",
       "Кол-во услуг            0.949569      1.000000   0.990439\n",
       "Выработка               0.955520      0.990439   1.000000"
      ]
     },
     "execution_count": 257,
     "metadata": {},
     "output_type": "execute_result"
    }
   ],
   "source": [
    "data_first[['Кол-во клиентов', 'Кол-во услуг', 'Выработка']].corr()"
   ]
  },
  {
   "cell_type": "code",
   "execution_count": 263,
   "metadata": {},
   "outputs": [
    {
     "data": {
      "text/plain": [
       "<matplotlib.axes._subplots.AxesSubplot at 0x26ea8dfad88>"
      ]
     },
     "execution_count": 263,
     "metadata": {},
     "output_type": "execute_result"
    },
    {
     "data": {
      "image/png": "[encoded data removed]",
      "text/plain": [
       "<Figure size 1080x360 with 2 Axes>"
      ]
     },
     "metadata": {},
     "output_type": "display_data"
    }
   ],
   "source": [
    "sns.heatmap(data_first.corr())"
   ]
  },
  {
   "cell_type": "code",
   "execution_count": 15,
   "metadata": {},
   "outputs": [
    {
     "ename": "NameError",
     "evalue": "name 'data_first' is not defined",
     "output_type": "error",
     "traceback": [
      "\u001b[1;31m---------------------------------------------------------------------------\u001b[0m",
      "\u001b[1;31mNameError\u001b[0m                                 Traceback (most recent call last)",
      "\u001b[1;32m<ipython-input-15-55f80bd58a93>\u001b[0m in \u001b[0;36m<module>\u001b[1;34m\u001b[0m\n\u001b[0;32m      1\u001b[0m \u001b[1;32mimport\u001b[0m \u001b[0mstatsmodels\u001b[0m\u001b[1;33m.\u001b[0m\u001b[0mstats\u001b[0m\u001b[1;33m.\u001b[0m\u001b[0mapi\u001b[0m \u001b[1;32mas\u001b[0m \u001b[0msms\u001b[0m\u001b[1;33m\u001b[0m\u001b[1;33m\u001b[0m\u001b[0m\n\u001b[0;32m      2\u001b[0m \u001b[1;33m\u001b[0m\u001b[0m\n\u001b[1;32m----> 3\u001b[1;33m \u001b[0msms\u001b[0m\u001b[1;33m.\u001b[0m\u001b[0mDescrStatsW\u001b[0m\u001b[1;33m(\u001b[0m\u001b[0mdata_first\u001b[0m\u001b[1;33m[\u001b[0m\u001b[1;34m'Выработка'\u001b[0m\u001b[1;33m]\u001b[0m\u001b[1;33m)\u001b[0m\u001b[1;33m.\u001b[0m\u001b[0mtconfint_mean\u001b[0m\u001b[1;33m(\u001b[0m\u001b[1;33m)\u001b[0m\u001b[1;33m\u001b[0m\u001b[1;33m\u001b[0m\u001b[0m\n\u001b[0m",
      "\u001b[1;31mNameError\u001b[0m: name 'data_first' is not defined"
     ]
    }
   ],
   "source": [
    "import statsmodels.stats.api as sms\n",
    "\n",
    "sms.DescrStatsW(data_first['Выработка']).tconfint_mean()"
   ]
  },
  {
   "cell_type": "code",
   "execution_count": 16,
   "metadata": {},
   "outputs": [],
   "source": [
    "data_second_first_visit = data[data['Первое обращение'] == True]"
   ]
  },
  {
   "cell_type": "code",
   "execution_count": 17,
   "metadata": {},
   "outputs": [],
   "source": [
    "data_second_first_visit = data_second_first_visit.drop_duplicates(subset=['Номер карты']).reset_index(drop=True)"
   ]
  },
  {
   "cell_type": "code",
   "execution_count": 18,
   "metadata": {},
   "outputs": [
    {
     "data": {
      "text/plain": [
       "Index(['Номер карты', 'Пациент', 'Пол', 'Дата рождения', 'Категория клиента',\n",
       "       'Год', 'Месяц', 'Дата приема', 'Дата и время посещения',\n",
       "       'Дата первого посещения', 'Наименование услуги', 'Sum([Количество])',\n",
       "       'Sum([Всего начислено])', 'Ф_Полный адрес', 'Р_Город', 'Р_Нас.пункт',\n",
       "       'Р_Улица', 'Р_Дом', 'Р_Корпус', 'Adress', 'Время посещения',\n",
       "       'Первое обращение', 'Возраст', 'Возрастная группа', 'МДВ'],\n",
       "      dtype='object')"
      ]
     },
     "execution_count": 18,
     "metadata": {},
     "output_type": "execute_result"
    }
   ],
   "source": [
    "data_second_first_visit.columns"
   ]
  },
  {
   "cell_type": "code",
   "execution_count": 19,
   "metadata": {},
   "outputs": [],
   "source": [
    "\n",
    "group_first_vizit = data_second_first_visit.groupby(['Наименование услуги'], as_index=False).agg({'Sum([Количество])': 'sum', 'Sum([Всего начислено])' : 'sum' })\n",
    "\n"
   ]
  },
  {
   "cell_type": "code",
   "execution_count": 20,
   "metadata": {},
   "outputs": [],
   "source": [
    "group_first_vizit['% от суммы по кол-ву услуг'] = group_first_vizit['Sum([Количество])'].apply(lambda x: x / group_first_vizit['Sum([Количество])'].sum())\n",
    "\n",
    "group_first_vizit['% от суммы по выработке'] = group_first_vizit['Sum([Всего начислено])'].apply(lambda x: x / group_first_vizit['Sum([Всего начислено])'].sum())"
   ]
  },
  {
   "cell_type": "code",
   "execution_count": 21,
   "metadata": {},
   "outputs": [],
   "source": [
    "group_first_vizit = group_first_vizit.sort_values(by='Sum([Всего начислено])', ascending=False).reset_index(drop=True)"
   ]
  },
  {
   "cell_type": "code",
   "execution_count": 22,
   "metadata": {},
   "outputs": [
    {
     "data": {
      "text/html": [
       "<div>\n",
       "<style scoped>\n",
       "    .dataframe tbody tr th:only-of-type {\n",
       "        vertical-align: middle;\n",
       "    }\n",
       "\n",
       "    .dataframe tbody tr th {\n",
       "        vertical-align: top;\n",
       "    }\n",
       "\n",
       "    .dataframe thead th {\n",
       "        text-align: right;\n",
       "    }\n",
       "</style>\n",
       "<table border=\"1\" class=\"dataframe\">\n",
       "  <thead>\n",
       "    <tr style=\"text-align: right;\">\n",
       "      <th></th>\n",
       "      <th>Sum([Количество])</th>\n",
       "      <th>Sum([Всего начислено])</th>\n",
       "      <th>% от суммы по кол-ву услуг</th>\n",
       "      <th>% от суммы по выработке</th>\n",
       "    </tr>\n",
       "  </thead>\n",
       "  <tbody>\n",
       "    <tr>\n",
       "      <th>Sum([Количество])</th>\n",
       "      <td>1.00000</td>\n",
       "      <td>0.92632</td>\n",
       "      <td>1.00000</td>\n",
       "      <td>0.92632</td>\n",
       "    </tr>\n",
       "    <tr>\n",
       "      <th>Sum([Всего начислено])</th>\n",
       "      <td>0.92632</td>\n",
       "      <td>1.00000</td>\n",
       "      <td>0.92632</td>\n",
       "      <td>1.00000</td>\n",
       "    </tr>\n",
       "    <tr>\n",
       "      <th>% от суммы по кол-ву услуг</th>\n",
       "      <td>1.00000</td>\n",
       "      <td>0.92632</td>\n",
       "      <td>1.00000</td>\n",
       "      <td>0.92632</td>\n",
       "    </tr>\n",
       "    <tr>\n",
       "      <th>% от суммы по выработке</th>\n",
       "      <td>0.92632</td>\n",
       "      <td>1.00000</td>\n",
       "      <td>0.92632</td>\n",
       "      <td>1.00000</td>\n",
       "    </tr>\n",
       "  </tbody>\n",
       "</table>\n",
       "</div>"
      ],
      "text/plain": [
       "                            Sum([Количество])  Sum([Всего начислено])  \\\n",
       "Sum([Количество])                     1.00000                 0.92632   \n",
       "Sum([Всего начислено])                0.92632                 1.00000   \n",
       "% от суммы по кол-ву услуг            1.00000                 0.92632   \n",
       "% от суммы по выработке               0.92632                 1.00000   \n",
       "\n",
       "                            % от суммы по кол-ву услуг  \\\n",
       "Sum([Количество])                              1.00000   \n",
       "Sum([Всего начислено])                         0.92632   \n",
       "% от суммы по кол-ву услуг                     1.00000   \n",
       "% от суммы по выработке                        0.92632   \n",
       "\n",
       "                            % от суммы по выработке  \n",
       "Sum([Количество])                           0.92632  \n",
       "Sum([Всего начислено])                      1.00000  \n",
       "% от суммы по кол-ву услуг                  0.92632  \n",
       "% от суммы по выработке                     1.00000  "
      ]
     },
     "execution_count": 22,
     "metadata": {},
     "output_type": "execute_result"
    }
   ],
   "source": [
    "group_first_vizit.corr()"
   ]
  },
  {
   "cell_type": "code",
   "execution_count": 23,
   "metadata": {},
   "outputs": [],
   "source": [
    "group_first_vizit.iloc[21:, :].to_excel('Первые услугиаываываыва.xlsx')"
   ]
  },
  {
   "cell_type": "code",
   "execution_count": 24,
   "metadata": {},
   "outputs": [
    {
     "data": {
      "text/html": [
       "<div>\n",
       "<style scoped>\n",
       "    .dataframe tbody tr th:only-of-type {\n",
       "        vertical-align: middle;\n",
       "    }\n",
       "\n",
       "    .dataframe tbody tr th {\n",
       "        vertical-align: top;\n",
       "    }\n",
       "\n",
       "    .dataframe thead th {\n",
       "        text-align: right;\n",
       "    }\n",
       "</style>\n",
       "<table border=\"1\" class=\"dataframe\">\n",
       "  <thead>\n",
       "    <tr style=\"text-align: right;\">\n",
       "      <th></th>\n",
       "      <th>Наименование услуги</th>\n",
       "      <th>Sum([Количество])</th>\n",
       "      <th>Sum([Всего начислено])</th>\n",
       "      <th>% от суммы по кол-ву услуг</th>\n",
       "      <th>% от суммы по выработке</th>\n",
       "    </tr>\n",
       "  </thead>\n",
       "  <tbody>\n",
       "    <tr>\n",
       "      <th>0</th>\n",
       "      <td>Консультация врача - дерматолога  первичная в ...</td>\n",
       "      <td>1198</td>\n",
       "      <td>1497566.0</td>\n",
       "      <td>0.091681</td>\n",
       "      <td>0.104245</td>\n",
       "    </tr>\n",
       "    <tr>\n",
       "      <th>1</th>\n",
       "      <td>Консультация врача - отоларинголога первичная ...</td>\n",
       "      <td>1007</td>\n",
       "      <td>1295186.0</td>\n",
       "      <td>0.077064</td>\n",
       "      <td>0.090157</td>\n",
       "    </tr>\n",
       "    <tr>\n",
       "      <th>2</th>\n",
       "      <td>Консультация врача - педиатра первичная в амбу...</td>\n",
       "      <td>575</td>\n",
       "      <td>646752.0</td>\n",
       "      <td>0.044004</td>\n",
       "      <td>0.045020</td>\n",
       "    </tr>\n",
       "    <tr>\n",
       "      <th>3</th>\n",
       "      <td>Консультация врача - терапевта первичная в амб...</td>\n",
       "      <td>446</td>\n",
       "      <td>566254.0</td>\n",
       "      <td>0.034132</td>\n",
       "      <td>0.039417</td>\n",
       "    </tr>\n",
       "    <tr>\n",
       "      <th>4</th>\n",
       "      <td>Консультация врача - кардиолога, зав.отд., вед...</td>\n",
       "      <td>272</td>\n",
       "      <td>485928.0</td>\n",
       "      <td>0.020816</td>\n",
       "      <td>0.033825</td>\n",
       "    </tr>\n",
       "    <tr>\n",
       "      <th>...</th>\n",
       "      <td>...</td>\n",
       "      <td>...</td>\n",
       "      <td>...</td>\n",
       "      <td>...</td>\n",
       "      <td>...</td>\n",
       "    </tr>\n",
       "    <tr>\n",
       "      <th>379</th>\n",
       "      <td>-   Билирубин непрямой</td>\n",
       "      <td>1</td>\n",
       "      <td>90.0</td>\n",
       "      <td>0.000077</td>\n",
       "      <td>0.000006</td>\n",
       "    </tr>\n",
       "    <tr>\n",
       "      <th>380</th>\n",
       "      <td>-   Железо</td>\n",
       "      <td>1</td>\n",
       "      <td>90.0</td>\n",
       "      <td>0.000077</td>\n",
       "      <td>0.000006</td>\n",
       "    </tr>\n",
       "    <tr>\n",
       "      <th>381</th>\n",
       "      <td>-   Индекс атерогенности (при назначении холес...</td>\n",
       "      <td>1</td>\n",
       "      <td>90.0</td>\n",
       "      <td>0.000077</td>\n",
       "      <td>0.000006</td>\n",
       "    </tr>\n",
       "    <tr>\n",
       "      <th>382</th>\n",
       "      <td>-   Протромбиновый индекс</td>\n",
       "      <td>1</td>\n",
       "      <td>70.0</td>\n",
       "      <td>0.000077</td>\n",
       "      <td>0.000005</td>\n",
       "    </tr>\n",
       "    <tr>\n",
       "      <th>383</th>\n",
       "      <td>-</td>\n",
       "      <td>0</td>\n",
       "      <td>0.0</td>\n",
       "      <td>0.000000</td>\n",
       "      <td>0.000000</td>\n",
       "    </tr>\n",
       "  </tbody>\n",
       "</table>\n",
       "<p>384 rows × 5 columns</p>\n",
       "</div>"
      ],
      "text/plain": [
       "                                   Наименование услуги  Sum([Количество])  \\\n",
       "0    Консультация врача - дерматолога  первичная в ...               1198   \n",
       "1    Консультация врача - отоларинголога первичная ...               1007   \n",
       "2    Консультация врача - педиатра первичная в амбу...                575   \n",
       "3    Консультация врача - терапевта первичная в амб...                446   \n",
       "4    Консультация врача - кардиолога, зав.отд., вед...                272   \n",
       "..                                                 ...                ...   \n",
       "379                             -   Билирубин непрямой                  1   \n",
       "380                                         -   Железо                  1   \n",
       "381  -   Индекс атерогенности (при назначении холес...                  1   \n",
       "382                          -   Протромбиновый индекс                  1   \n",
       "383                                                  -                  0   \n",
       "\n",
       "     Sum([Всего начислено])  % от суммы по кол-ву услуг  \\\n",
       "0                 1497566.0                    0.091681   \n",
       "1                 1295186.0                    0.077064   \n",
       "2                  646752.0                    0.044004   \n",
       "3                  566254.0                    0.034132   \n",
       "4                  485928.0                    0.020816   \n",
       "..                      ...                         ...   \n",
       "379                    90.0                    0.000077   \n",
       "380                    90.0                    0.000077   \n",
       "381                    90.0                    0.000077   \n",
       "382                    70.0                    0.000077   \n",
       "383                     0.0                    0.000000   \n",
       "\n",
       "     % от суммы по выработке  \n",
       "0                   0.104245  \n",
       "1                   0.090157  \n",
       "2                   0.045020  \n",
       "3                   0.039417  \n",
       "4                   0.033825  \n",
       "..                       ...  \n",
       "379                 0.000006  \n",
       "380                 0.000006  \n",
       "381                 0.000006  \n",
       "382                 0.000005  \n",
       "383                 0.000000  \n",
       "\n",
       "[384 rows x 5 columns]"
      ]
     },
     "execution_count": 24,
     "metadata": {},
     "output_type": "execute_result"
    }
   ],
   "source": [
    "group_first_vizit"
   ]
  },
  {
   "cell_type": "code",
   "execution_count": 25,
   "metadata": {},
   "outputs": [
    {
     "data": {
      "text/plain": [
       "Sum([Количество])                3.000000\n",
       "Sum([Всего начислено])        2400.000000\n",
       "% от суммы по кол-ву услуг       0.000230\n",
       "% от суммы по выработке          0.000167\n",
       "Name: 0.5, dtype: float64"
      ]
     },
     "execution_count": 25,
     "metadata": {},
     "output_type": "execute_result"
    }
   ],
   "source": [
    "group_first_vizit.quantile(0.5)"
   ]
  },
  {
   "cell_type": "code",
   "execution_count": null,
   "metadata": {},
   "outputs": [],
   "source": [
    "#data.to_excel('temp.xlsx', index=False)"
   ]
  },
  {
   "cell_type": "code",
   "execution_count": 33,
   "metadata": {},
   "outputs": [],
   "source": [
    "data_first['Средняя цена услуги'] = data_first['Выработка'] / data_first['Кол-во услуг']"
   ]
  },
  {
   "cell_type": "code",
   "execution_count": 35,
   "metadata": {},
   "outputs": [
    {
     "data": {
      "text/plain": [
       "<matplotlib.axes._subplots.AxesSubplot at 0x15505f9fcc8>"
      ]
     },
     "execution_count": 35,
     "metadata": {},
     "output_type": "execute_result"
    },
    {
     "data": {
      "image/png": "[encoded data removed]",
      "text/plain": [
       "<Figure size 1080x360 with 1 Axes>"
      ]
     },
     "metadata": {},
     "output_type": "display_data"
    }
   ],
   "source": [
    "data_first['Средняя цена услуги'].plot(kind='box')"
   ]
  },
  {
   "cell_type": "code",
   "execution_count": 36,
   "metadata": {},
   "outputs": [
    {
     "data": {
      "text/plain": [
       "(667.7071230382057, 1107.653131494413)"
      ]
     },
     "execution_count": 36,
     "metadata": {},
     "output_type": "execute_result"
    }
   ],
   "source": [
    "sms.DescrStatsW(data_first['Средняя цена услуги']).tconfint_mean()"
   ]
  },
  {
   "cell_type": "code",
   "execution_count": 40,
   "metadata": {},
   "outputs": [
    {
     "data": {
      "text/html": [
       "<div>\n",
       "<style scoped>\n",
       "    .dataframe tbody tr th:only-of-type {\n",
       "        vertical-align: middle;\n",
       "    }\n",
       "\n",
       "    .dataframe tbody tr th {\n",
       "        vertical-align: top;\n",
       "    }\n",
       "\n",
       "    .dataframe thead th {\n",
       "        text-align: right;\n",
       "    }\n",
       "</style>\n",
       "<table border=\"1\" class=\"dataframe\">\n",
       "  <thead>\n",
       "    <tr style=\"text-align: right;\">\n",
       "      <th></th>\n",
       "      <th>Номер карты</th>\n",
       "      <th>Пациент</th>\n",
       "      <th>Пол</th>\n",
       "      <th>Дата рождения</th>\n",
       "      <th>Категория клиента</th>\n",
       "      <th>Год</th>\n",
       "      <th>Месяц</th>\n",
       "      <th>Дата приема</th>\n",
       "      <th>Дата и время посещения</th>\n",
       "      <th>Дата первого посещения</th>\n",
       "      <th>...</th>\n",
       "      <th>Р_Нас.пункт</th>\n",
       "      <th>Р_Улица</th>\n",
       "      <th>Р_Дом</th>\n",
       "      <th>Р_Корпус</th>\n",
       "      <th>Adress</th>\n",
       "      <th>Время посещения</th>\n",
       "      <th>Первое обращение</th>\n",
       "      <th>Возраст</th>\n",
       "      <th>Возрастная группа</th>\n",
       "      <th>МДВ</th>\n",
       "    </tr>\n",
       "  </thead>\n",
       "  <tbody>\n",
       "    <tr>\n",
       "      <th>0</th>\n",
       "      <td>540000696</td>\n",
       "      <td>Белозер Ирина Владимировна</td>\n",
       "      <td>Женский</td>\n",
       "      <td>1968-10-08</td>\n",
       "      <td>НАЛ</td>\n",
       "      <td>2018</td>\n",
       "      <td>авг.</td>\n",
       "      <td>2018-08-15</td>\n",
       "      <td>2018-08-15 16:57:32</td>\n",
       "      <td>2018-08-15</td>\n",
       "      <td>...</td>\n",
       "      <td></td>\n",
       "      <td>ул Адриена Лежена</td>\n",
       "      <td></td>\n",
       "      <td></td>\n",
       "      <td>г Новосибирск ул Адриена Лежена</td>\n",
       "      <td>16:57:32</td>\n",
       "      <td>True</td>\n",
       "      <td>49</td>\n",
       "      <td>45-54 года</td>\n",
       "      <td>Взрослый</td>\n",
       "    </tr>\n",
       "    <tr>\n",
       "      <th>1</th>\n",
       "      <td>540000832</td>\n",
       "      <td>Бородавкин Алексей Федорович</td>\n",
       "      <td>Мужской</td>\n",
       "      <td>1980-03-29</td>\n",
       "      <td>НАЛ</td>\n",
       "      <td>2018</td>\n",
       "      <td>сент.</td>\n",
       "      <td>2018-09-27</td>\n",
       "      <td>2018-09-27 18:00:07</td>\n",
       "      <td>2018-09-27</td>\n",
       "      <td>...</td>\n",
       "      <td></td>\n",
       "      <td></td>\n",
       "      <td></td>\n",
       "      <td></td>\n",
       "      <td></td>\n",
       "      <td>18:00:07</td>\n",
       "      <td>True</td>\n",
       "      <td>38</td>\n",
       "      <td>35-44 года</td>\n",
       "      <td>Взрослый</td>\n",
       "    </tr>\n",
       "    <tr>\n",
       "      <th>2</th>\n",
       "      <td>540001483</td>\n",
       "      <td>Горбулина Валентина Васильевна</td>\n",
       "      <td>Женский</td>\n",
       "      <td>1954-07-01</td>\n",
       "      <td>НАЛ</td>\n",
       "      <td>2018</td>\n",
       "      <td>мар.</td>\n",
       "      <td>2018-03-01</td>\n",
       "      <td>-</td>\n",
       "      <td>2018-03-01</td>\n",
       "      <td>...</td>\n",
       "      <td></td>\n",
       "      <td>ул Выборная</td>\n",
       "      <td>129</td>\n",
       "      <td></td>\n",
       "      <td>г Новосибирск ул Выборная Дом 129</td>\n",
       "      <td>00:00:00</td>\n",
       "      <td>True</td>\n",
       "      <td>63</td>\n",
       "      <td>55-64 года</td>\n",
       "      <td>Взрослый</td>\n",
       "    </tr>\n",
       "    <tr>\n",
       "      <th>3</th>\n",
       "      <td>540001714</td>\n",
       "      <td>Довженко Валентина Николаевна</td>\n",
       "      <td>Женский</td>\n",
       "      <td>1955-09-03</td>\n",
       "      <td>НАЛ</td>\n",
       "      <td>2018</td>\n",
       "      <td>окт.</td>\n",
       "      <td>2018-10-30</td>\n",
       "      <td>2018-10-30 11:20:25</td>\n",
       "      <td>2018-10-30</td>\n",
       "      <td>...</td>\n",
       "      <td></td>\n",
       "      <td></td>\n",
       "      <td></td>\n",
       "      <td></td>\n",
       "      <td></td>\n",
       "      <td>11:20:25</td>\n",
       "      <td>True</td>\n",
       "      <td>63</td>\n",
       "      <td>55-64 года</td>\n",
       "      <td>Взрослый</td>\n",
       "    </tr>\n",
       "    <tr>\n",
       "      <th>4</th>\n",
       "      <td>540002093</td>\n",
       "      <td>Иванова Екатерина Андреевна</td>\n",
       "      <td>Женский</td>\n",
       "      <td>1987-02-24</td>\n",
       "      <td>НАЛ</td>\n",
       "      <td>2018</td>\n",
       "      <td>мая</td>\n",
       "      <td>2018-05-10</td>\n",
       "      <td>2018-05-10 09:25:05</td>\n",
       "      <td>2018-05-10</td>\n",
       "      <td>...</td>\n",
       "      <td></td>\n",
       "      <td></td>\n",
       "      <td></td>\n",
       "      <td></td>\n",
       "      <td></td>\n",
       "      <td>09:25:05</td>\n",
       "      <td>True</td>\n",
       "      <td>31</td>\n",
       "      <td>25-34 года</td>\n",
       "      <td>Взрослый</td>\n",
       "    </tr>\n",
       "  </tbody>\n",
       "</table>\n",
       "<p>5 rows × 25 columns</p>\n",
       "</div>"
      ],
      "text/plain": [
       "  Номер карты                         Пациент      Пол Дата рождения  \\\n",
       "0   540000696      Белозер Ирина Владимировна  Женский    1968-10-08   \n",
       "1   540000832    Бородавкин Алексей Федорович  Мужской    1980-03-29   \n",
       "2   540001483  Горбулина Валентина Васильевна  Женский    1954-07-01   \n",
       "3   540001714   Довженко Валентина Николаевна  Женский    1955-09-03   \n",
       "4   540002093     Иванова Екатерина Андреевна  Женский    1987-02-24   \n",
       "\n",
       "  Категория клиента   Год  Месяц Дата приема Дата и время посещения  \\\n",
       "0               НАЛ  2018   авг.  2018-08-15    2018-08-15 16:57:32   \n",
       "1               НАЛ  2018  сент.  2018-09-27    2018-09-27 18:00:07   \n",
       "2               НАЛ  2018   мар.  2018-03-01                      -   \n",
       "3               НАЛ  2018   окт.  2018-10-30    2018-10-30 11:20:25   \n",
       "4               НАЛ  2018    мая  2018-05-10    2018-05-10 09:25:05   \n",
       "\n",
       "  Дата первого посещения  ... Р_Нас.пункт            Р_Улица  Р_Дом Р_Корпус  \\\n",
       "0             2018-08-15  ...              ул Адриена Лежена                   \n",
       "1             2018-09-27  ...                                                  \n",
       "2             2018-03-01  ...                    ул Выборная    129            \n",
       "3             2018-10-30  ...                                                  \n",
       "4             2018-05-10  ...                                                  \n",
       "\n",
       "                              Adress Время посещения Первое обращение Возраст  \\\n",
       "0    г Новосибирск ул Адриена Лежена        16:57:32             True      49   \n",
       "1                                           18:00:07             True      38   \n",
       "2  г Новосибирск ул Выборная Дом 129        00:00:00             True      63   \n",
       "3                                           11:20:25             True      63   \n",
       "4                                           09:25:05             True      31   \n",
       "\n",
       "  Возрастная группа       МДВ  \n",
       "0        45-54 года  Взрослый  \n",
       "1        35-44 года  Взрослый  \n",
       "2        55-64 года  Взрослый  \n",
       "3        55-64 года  Взрослый  \n",
       "4        25-34 года  Взрослый  \n",
       "\n",
       "[5 rows x 25 columns]"
      ]
     },
     "execution_count": 40,
     "metadata": {},
     "output_type": "execute_result"
    }
   ],
   "source": [
    "data_second_first_visit.head()"
   ]
  },
  {
   "cell_type": "code",
   "execution_count": 39,
   "metadata": {},
   "outputs": [
    {
     "data": {
      "text/plain": [
       "Index(['Номер карты', 'Пациент', 'Пол', 'Дата рождения', 'Категория клиента',\n",
       "       'Год', 'Месяц', 'Дата приема', 'Дата и время посещения',\n",
       "       'Дата первого посещения', 'Наименование услуги', 'Sum([Количество])',\n",
       "       'Sum([Всего начислено])', 'Ф_Полный адрес', 'Р_Город', 'Р_Нас.пункт',\n",
       "       'Р_Улица', 'Р_Дом', 'Р_Корпус', 'Adress', 'Время посещения',\n",
       "       'Первое обращение', 'Возраст', 'Возрастная группа', 'МДВ'],\n",
       "      dtype='object')"
      ]
     },
     "execution_count": 39,
     "metadata": {},
     "output_type": "execute_result"
    }
   ],
   "source": [
    "data_second_first_visit.columns"
   ]
  },
  {
   "cell_type": "code",
   "execution_count": 82,
   "metadata": {},
   "outputs": [],
   "source": [
    "group_service_data_second_first_visit = data_second_first_visit.groupby(by=['Возрастная группа', 'Пол', 'Наименование услуги'], as_index=False).agg({\n",
    "    'Номер карты' : 'nunique',\n",
    "    'Sum([Количество])' : 'sum',\n",
    "    'Sum([Всего начислено])' : 'sum'\n",
    "})"
   ]
  },
  {
   "cell_type": "code",
   "execution_count": 83,
   "metadata": {},
   "outputs": [],
   "source": [
    "group_service_data_second_first_visit['Возр. гр.'] = group_service_data_second_first_visit['Возрастная группа'].apply(lambda x: int(''.join([i for i in x if i.isdigit()])))"
   ]
  },
  {
   "cell_type": "code",
   "execution_count": 84,
   "metadata": {},
   "outputs": [],
   "source": [
    "group_service_data_second_first_visit = group_service_data_second_first_visit.sort_values(['Возр. гр.', 'Пол', 'Sum([Всего начислено])'], ascending=[True, True, False])"
   ]
  },
  {
   "cell_type": "code",
   "execution_count": 85,
   "metadata": {},
   "outputs": [],
   "source": [
    "group_service_data_second_first_visit = group_service_data_second_first_visit.reset_index(drop=True)"
   ]
  },
  {
   "cell_type": "code",
   "execution_count": 86,
   "metadata": {},
   "outputs": [],
   "source": [
    "group_service_data_second_first_visit.groupby(by=['Возрастная группа', 'Пол']).head(5).to_excel('Первые 5 услуг в группах.xlsx')"
   ]
  },
  {
   "cell_type": "code",
   "execution_count": 101,
   "metadata": {},
   "outputs": [],
   "source": [
    "category = data.groupby(by=['Категория клиента'], as_index=False).agg({'Номер карты': 'nunique',\n",
    "                                             'Sum([Количество])' : 'sum',\n",
    "                                             'Sum([Всего начислено])' : 'sum'})"
   ]
  },
  {
   "cell_type": "code",
   "execution_count": 102,
   "metadata": {},
   "outputs": [],
   "source": [
    "category.to_excel('category.xlsx', index=False)"
   ]
  },
  {
   "cell_type": "code",
   "execution_count": 103,
   "metadata": {},
   "outputs": [],
   "source": [
    "category = category.rename(columns={'Номер карты' : 'Кол-во клиентов',\n",
    "                                   'Sum([Количество])' : 'Кол-во услуг',\n",
    "                                   'Sum([Всего начислено])' : 'Выработка'})"
   ]
  },
  {
   "cell_type": "code",
   "execution_count": 107,
   "metadata": {},
   "outputs": [
    {
     "data": {
      "text/plain": [
       "[Text(0, 0, 'АБ МЦ'),\n",
       " Text(0, 0, 'КК'),\n",
       " Text(0, 0, 'НАЛ'),\n",
       " Text(0, 0, 'Нет в справочнике'),\n",
       " Text(0, 0, 'СК')]"
      ]
     },
     "execution_count": 107,
     "metadata": {},
     "output_type": "execute_result"
    },
    {
     "data": {
      "image/png": "[encoded data removed]",
      "text/plain": [
       "<Figure size 1080x360 with 1 Axes>"
      ]
     },
     "metadata": {},
     "output_type": "display_data"
    }
   ],
   "source": [
    "category[['Категория клиента', 'Кол-во клиентов']].plot(kind='bar', title='Кол-во клиентов по категориям')\n",
    "\n",
    "ax = plt.gca()\n",
    "ax.set_xticklabels(category['Категория клиента'])\n"
   ]
  },
  {
   "cell_type": "code",
   "execution_count": 108,
   "metadata": {},
   "outputs": [
    {
     "data": {
      "text/plain": [
       "[Text(0, 0, 'АБ МЦ'),\n",
       " Text(0, 0, 'КК'),\n",
       " Text(0, 0, 'НАЛ'),\n",
       " Text(0, 0, 'Нет в справочнике'),\n",
       " Text(0, 0, 'СК')]"
      ]
     },
     "execution_count": 108,
     "metadata": {},
     "output_type": "execute_result"
    },
    {
     "data": {
      "image/png": "[encoded data removed]",
      "text/plain": [
       "<Figure size 1080x360 with 1 Axes>"
      ]
     },
     "metadata": {},
     "output_type": "display_data"
    }
   ],
   "source": [
    "category[['Категория клиента', 'Кол-во услуг']].plot(kind='bar', title='Кол-во услуг по категориям')\n",
    "\n",
    "ax = plt.gca()\n",
    "ax.set_xticklabels(category['Категория клиента'])"
   ]
  },
  {
   "cell_type": "code",
   "execution_count": 111,
   "metadata": {},
   "outputs": [
    {
     "data": {
      "text/plain": [
       "[Text(0, 0, 'АБ МЦ'),\n",
       " Text(0, 0, 'КК'),\n",
       " Text(0, 0, 'НАЛ'),\n",
       " Text(0, 0, 'Нет в справочнике'),\n",
       " Text(0, 0, 'СК')]"
      ]
     },
     "execution_count": 111,
     "metadata": {},
     "output_type": "execute_result"
    },
    {
     "data": {
      "image/png": "[encoded data removed]",
      "text/plain": [
       "<Figure size 1080x360 with 1 Axes>"
      ]
     },
     "metadata": {},
     "output_type": "display_data"
    }
   ],
   "source": [
    "category[['Категория клиента', 'Выработка']].plot(kind='bar', title='Выработка по категориям')\n",
    "\n",
    "ax = plt.gca()\n",
    "ax.set_xticklabels(category['Категория клиента'])\n",
    "\n"
   ]
  },
  {
   "cell_type": "code",
   "execution_count": 112,
   "metadata": {},
   "outputs": [
    {
     "data": {
      "text/html": [
       "<div>\n",
       "<style scoped>\n",
       "    .dataframe tbody tr th:only-of-type {\n",
       "        vertical-align: middle;\n",
       "    }\n",
       "\n",
       "    .dataframe tbody tr th {\n",
       "        vertical-align: top;\n",
       "    }\n",
       "\n",
       "    .dataframe thead th {\n",
       "        text-align: right;\n",
       "    }\n",
       "</style>\n",
       "<table border=\"1\" class=\"dataframe\">\n",
       "  <thead>\n",
       "    <tr style=\"text-align: right;\">\n",
       "      <th></th>\n",
       "      <th>Кол-во клиентов</th>\n",
       "      <th>Кол-во услуг</th>\n",
       "      <th>Выработка</th>\n",
       "    </tr>\n",
       "  </thead>\n",
       "  <tbody>\n",
       "    <tr>\n",
       "      <th>Кол-во клиентов</th>\n",
       "      <td>1.000000</td>\n",
       "      <td>0.998697</td>\n",
       "      <td>0.997693</td>\n",
       "    </tr>\n",
       "    <tr>\n",
       "      <th>Кол-во услуг</th>\n",
       "      <td>0.998697</td>\n",
       "      <td>1.000000</td>\n",
       "      <td>0.999857</td>\n",
       "    </tr>\n",
       "    <tr>\n",
       "      <th>Выработка</th>\n",
       "      <td>0.997693</td>\n",
       "      <td>0.999857</td>\n",
       "      <td>1.000000</td>\n",
       "    </tr>\n",
       "  </tbody>\n",
       "</table>\n",
       "</div>"
      ],
      "text/plain": [
       "                 Кол-во клиентов  Кол-во услуг  Выработка\n",
       "Кол-во клиентов         1.000000      0.998697   0.997693\n",
       "Кол-во услуг            0.998697      1.000000   0.999857\n",
       "Выработка               0.997693      0.999857   1.000000"
      ]
     },
     "execution_count": 112,
     "metadata": {},
     "output_type": "execute_result"
    }
   ],
   "source": [
    "category.corr()"
   ]
  },
  {
   "cell_type": "code",
   "execution_count": null,
   "metadata": {},
   "outputs": [],
   "source": [
    "data"
   ]
  }
 ],
 "metadata": {
  "kernelspec": {
   "display_name": "Python 3",
   "language": "python",
   "name": "python3"
  },
  "language_info": {
   "codemirror_mode": {
    "name": "ipython",
    "version": 3
   },
   "file_extension": ".py",
   "mimetype": "text/x-python",
   "name": "python",
   "nbconvert_exporter": "python",
   "pygments_lexer": "ipython3",
   "version": "3.7.6"
  }
 },
 "nbformat": 4,
 "nbformat_minor": 4
}
