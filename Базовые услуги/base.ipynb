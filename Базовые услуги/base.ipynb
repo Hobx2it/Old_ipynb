{
 "cells": [
  {
   "cell_type": "code",
   "execution_count": 91,
   "metadata": {},
   "outputs": [],
   "source": [
    "import pandas as pd\n",
    "import numpy as np\n",
    "import datetime\n",
    "import os\n",
    "import re\n",
    "import abc_analysis"
   ]
  },
  {
   "cell_type": "code",
   "execution_count": 92,
   "metadata": {},
   "outputs": [],
   "source": [
    "services = pd.read_excel('services.xlsx', dtype={'Код услуги': str})"
   ]
  },
  {
   "cell_type": "code",
   "execution_count": 93,
   "metadata": {},
   "outputs": [
    {
     "data": {
      "text/html": [
       "<div>\n",
       "<style scoped>\n",
       "    .dataframe tbody tr th:only-of-type {\n",
       "        vertical-align: middle;\n",
       "    }\n",
       "\n",
       "    .dataframe tbody tr th {\n",
       "        vertical-align: top;\n",
       "    }\n",
       "\n",
       "    .dataframe thead th {\n",
       "        text-align: right;\n",
       "    }\n",
       "</style>\n",
       "<table border=\"1\" class=\"dataframe\">\n",
       "  <thead>\n",
       "    <tr style=\"text-align: right;\">\n",
       "      <th></th>\n",
       "      <th>Код услуги</th>\n",
       "      <th>Наименование услуги</th>\n",
       "      <th>Категория крупно</th>\n",
       "      <th>Год</th>\n",
       "      <th>Месяц</th>\n",
       "      <th>Выработка</th>\n",
       "      <th>Кол-во услуг</th>\n",
       "    </tr>\n",
       "  </thead>\n",
       "  <tbody>\n",
       "    <tr>\n",
       "      <th>0</th>\n",
       "      <td>0009.000100</td>\n",
       "      <td>Подбор компрессионного трикотажа ДУОМЕД 2 клас...</td>\n",
       "      <td>расходник</td>\n",
       "      <td>2020</td>\n",
       "      <td>июн.</td>\n",
       "      <td>4100.0</td>\n",
       "      <td>1</td>\n",
       "    </tr>\n",
       "    <tr>\n",
       "      <th>1</th>\n",
       "      <td>0009.000100</td>\n",
       "      <td>Подбор компрессионного трикотажа ДУОМЕД 2 клас...</td>\n",
       "      <td>расходник</td>\n",
       "      <td>2020</td>\n",
       "      <td>окт.</td>\n",
       "      <td>8200.0</td>\n",
       "      <td>2</td>\n",
       "    </tr>\n",
       "    <tr>\n",
       "      <th>2</th>\n",
       "      <td>0009.000100</td>\n",
       "      <td>Подбор компрессионного трикотажа ДУОМЕД 2 клас...</td>\n",
       "      <td>расходник</td>\n",
       "      <td>2020</td>\n",
       "      <td>нояб.</td>\n",
       "      <td>4100.0</td>\n",
       "      <td>1</td>\n",
       "    </tr>\n",
       "    <tr>\n",
       "      <th>3</th>\n",
       "      <td>0010.000010</td>\n",
       "      <td>Консультация врача - терапевта первичная в амб...</td>\n",
       "      <td>консультации первичные</td>\n",
       "      <td>2020</td>\n",
       "      <td>янв.</td>\n",
       "      <td>3242010.0</td>\n",
       "      <td>2204</td>\n",
       "    </tr>\n",
       "    <tr>\n",
       "      <th>4</th>\n",
       "      <td>0010.000010</td>\n",
       "      <td>Консультация врача - терапевта первичная в амб...</td>\n",
       "      <td>консультации первичные</td>\n",
       "      <td>2020</td>\n",
       "      <td>февр.</td>\n",
       "      <td>3404471.0</td>\n",
       "      <td>2323</td>\n",
       "    </tr>\n",
       "    <tr>\n",
       "      <th>...</th>\n",
       "      <td>...</td>\n",
       "      <td>...</td>\n",
       "      <td>...</td>\n",
       "      <td>...</td>\n",
       "      <td>...</td>\n",
       "      <td>...</td>\n",
       "      <td>...</td>\n",
       "    </tr>\n",
       "    <tr>\n",
       "      <th>21966</th>\n",
       "      <td>100193.000150</td>\n",
       "      <td>УЗИ предстательной железы (ректальным датчиком...</td>\n",
       "      <td>УЗИ</td>\n",
       "      <td>2021</td>\n",
       "      <td>янв.</td>\n",
       "      <td>7687.5</td>\n",
       "      <td>1</td>\n",
       "    </tr>\n",
       "    <tr>\n",
       "      <th>21967</th>\n",
       "      <td>100193.000160</td>\n",
       "      <td>УЗИ предстательной железы и мочевого пузыря с ...</td>\n",
       "      <td>УЗИ</td>\n",
       "      <td>2020</td>\n",
       "      <td>авг.</td>\n",
       "      <td>4545.0</td>\n",
       "      <td>1</td>\n",
       "    </tr>\n",
       "    <tr>\n",
       "      <th>21968</th>\n",
       "      <td>100193.000160</td>\n",
       "      <td>УЗИ предстательной железы и мочевого пузыря с ...</td>\n",
       "      <td>УЗИ</td>\n",
       "      <td>2020</td>\n",
       "      <td>окт.</td>\n",
       "      <td>5050.0</td>\n",
       "      <td>1</td>\n",
       "    </tr>\n",
       "    <tr>\n",
       "      <th>21969</th>\n",
       "      <td>100193.000160</td>\n",
       "      <td>УЗИ предстательной железы и мочевого пузыря с ...</td>\n",
       "      <td>УЗИ</td>\n",
       "      <td>2020</td>\n",
       "      <td>дек.</td>\n",
       "      <td>9595.0</td>\n",
       "      <td>2</td>\n",
       "    </tr>\n",
       "    <tr>\n",
       "      <th>21970</th>\n",
       "      <td>100193.000160</td>\n",
       "      <td>УЗИ предстательной железы и мочевого пузыря с ...</td>\n",
       "      <td>УЗИ</td>\n",
       "      <td>2021</td>\n",
       "      <td>февр.</td>\n",
       "      <td>3787.5</td>\n",
       "      <td>1</td>\n",
       "    </tr>\n",
       "  </tbody>\n",
       "</table>\n",
       "<p>21971 rows × 7 columns</p>\n",
       "</div>"
      ],
      "text/plain": [
       "          Код услуги                                Наименование услуги  \\\n",
       "0        0009.000100  Подбор компрессионного трикотажа ДУОМЕД 2 клас...   \n",
       "1        0009.000100  Подбор компрессионного трикотажа ДУОМЕД 2 клас...   \n",
       "2        0009.000100  Подбор компрессионного трикотажа ДУОМЕД 2 клас...   \n",
       "3        0010.000010  Консультация врача - терапевта первичная в амб...   \n",
       "4        0010.000010  Консультация врача - терапевта первичная в амб...   \n",
       "...              ...                                                ...   \n",
       "21966  100193.000150  УЗИ предстательной железы (ректальным датчиком...   \n",
       "21967  100193.000160  УЗИ предстательной железы и мочевого пузыря с ...   \n",
       "21968  100193.000160  УЗИ предстательной железы и мочевого пузыря с ...   \n",
       "21969  100193.000160  УЗИ предстательной железы и мочевого пузыря с ...   \n",
       "21970  100193.000160  УЗИ предстательной железы и мочевого пузыря с ...   \n",
       "\n",
       "             Категория крупно   Год  Месяц  Выработка  Кол-во услуг  \n",
       "0                   расходник  2020   июн.     4100.0             1  \n",
       "1                   расходник  2020   окт.     8200.0             2  \n",
       "2                   расходник  2020  нояб.     4100.0             1  \n",
       "3      консультации первичные  2020   янв.  3242010.0          2204  \n",
       "4      консультации первичные  2020  февр.  3404471.0          2323  \n",
       "...                       ...   ...    ...        ...           ...  \n",
       "21966                     УЗИ  2021   янв.     7687.5             1  \n",
       "21967                     УЗИ  2020   авг.     4545.0             1  \n",
       "21968                     УЗИ  2020   окт.     5050.0             1  \n",
       "21969                     УЗИ  2020   дек.     9595.0             2  \n",
       "21970                     УЗИ  2021  февр.     3787.5             1  \n",
       "\n",
       "[21971 rows x 7 columns]"
      ]
     },
     "execution_count": 93,
     "metadata": {},
     "output_type": "execute_result"
    }
   ],
   "source": [
    "services"
   ]
  },
  {
   "cell_type": "code",
   "execution_count": 94,
   "metadata": {},
   "outputs": [],
   "source": [
    "services_new = services.pivot_table(index='Код услуги', columns=['Год', 'Месяц'], values='Выработка', aggfunc=sum)"
   ]
  },
  {
   "cell_type": "code",
   "execution_count": 95,
   "metadata": {},
   "outputs": [],
   "source": [
    "services_new.columns = list(map(lambda x: ' '.join([str(i) for i in x]), services_new.columns))"
   ]
  },
  {
   "cell_type": "code",
   "execution_count": 96,
   "metadata": {},
   "outputs": [],
   "source": [
    "services_new.dropna(inplace=True)"
   ]
  },
  {
   "cell_type": "code",
   "execution_count": 97,
   "metadata": {},
   "outputs": [],
   "source": [
    "services_new.drop('2021 февр.', axis=1, inplace=True)"
   ]
  },
  {
   "cell_type": "code",
   "execution_count": 98,
   "metadata": {},
   "outputs": [],
   "source": [
    "services_new['Код'] = services_new.index"
   ]
  },
  {
   "cell_type": "code",
   "execution_count": 99,
   "metadata": {},
   "outputs": [],
   "source": [
    "services_new.index = range(services_new.shape[0])"
   ]
  },
  {
   "cell_type": "code",
   "execution_count": 100,
   "metadata": {},
   "outputs": [],
   "source": [
    "for column in services_new.columns:\n",
    "    if column != 'Код':\n",
    "        temp_abc_list = services_new[column][abc_analysis.abc_analysis(services_new[column])['Aind']].to_list()\n",
    "        services_new[column + 'ABC'] = services_new[column].isin(temp_abc_list)\n",
    "        "
   ]
  },
  {
   "cell_type": "code",
   "execution_count": 101,
   "metadata": {},
   "outputs": [],
   "source": [
    "services_new_final = services_new[[column for column in services_new.columns if any(['ABC' in column, 'Код' in column])]]"
   ]
  },
  {
   "cell_type": "code",
   "execution_count": 102,
   "metadata": {},
   "outputs": [
    {
     "name": "stderr",
     "output_type": "stream",
     "text": [
      "C:\\Users\\AmanovRA\\Anaconda3\\lib\\site-packages\\pandas\\core\\frame.py:4174: SettingWithCopyWarning: \n",
      "A value is trying to be set on a copy of a slice from a DataFrame\n",
      "\n",
      "See the caveats in the documentation: https://pandas.pydata.org/pandas-docs/stable/user_guide/indexing.html#returning-a-view-versus-a-copy\n",
      "  errors=errors,\n"
     ]
    }
   ],
   "source": [
    "services_new_final.index = services_new_final['Код']\n",
    "services_new_final.drop('Код', axis=1, inplace=True)"
   ]
  },
  {
   "cell_type": "code",
   "execution_count": 103,
   "metadata": {},
   "outputs": [],
   "source": [
    "lst = (services_new_final == True).all(axis=1)[(services_new_final == True).all(axis=1)==True].index.to_list()"
   ]
  },
  {
   "cell_type": "code",
   "execution_count": 104,
   "metadata": {},
   "outputs": [],
   "source": [
    "services_new['ABC_all'] = services_new['Код'].isin(lst)"
   ]
  },
  {
   "cell_type": "code",
   "execution_count": 105,
   "metadata": {},
   "outputs": [
    {
     "data": {
      "text/plain": [
       "Index(['2020 авг.', '2020 апр.', '2020 дек.', '2020 июл.', '2020 июн.',\n",
       "       '2020 мар.', '2020 мая', '2020 нояб.', '2020 окт.', '2020 сент.',\n",
       "       '2020 февр.', '2020 янв.', '2021 янв.', 'Код', '2020 авг.ABC',\n",
       "       '2020 апр.ABC', '2020 дек.ABC', '2020 июл.ABC', '2020 июн.ABC',\n",
       "       '2020 мар.ABC', '2020 маяABC', '2020 нояб.ABC', '2020 окт.ABC',\n",
       "       '2020 сент.ABC', '2020 февр.ABC', '2020 янв.ABC', '2021 янв.ABC',\n",
       "       'ABC_all'],\n",
       "      dtype='object')"
      ]
     },
     "execution_count": 105,
     "metadata": {},
     "output_type": "execute_result"
    }
   ],
   "source": [
    "services_new.columns"
   ]
  },
  {
   "cell_type": "code",
   "execution_count": 106,
   "metadata": {},
   "outputs": [],
   "source": [
    "services_new = services_new[['2020 авг.', '2020 апр.', '2020 дек.', '2020 июл.', '2020 июн.',\n",
    "       '2020 мар.', '2020 мая', '2020 нояб.', '2020 окт.', '2020 сент.',\n",
    "       '2020 февр.', '2020 янв.', '2021 янв.', 'Код', 'ABC_all']]"
   ]
  },
  {
   "cell_type": "code",
   "execution_count": 111,
   "metadata": {},
   "outputs": [],
   "source": [
    "j = services_new[services_new['ABC_all']].sum()"
   ]
  },
  {
   "cell_type": "code",
   "execution_count": 112,
   "metadata": {},
   "outputs": [],
   "source": [
    "k = services_new.sum()"
   ]
  },
  {
   "cell_type": "code",
   "execution_count": 114,
   "metadata": {},
   "outputs": [],
   "source": [
    "j.drop(['Код', 'ABC_all'], inplace=True)\n",
    "k.drop(['Код', 'ABC_all'], inplace=True)"
   ]
  },
  {
   "cell_type": "code",
   "execution_count": 117,
   "metadata": {},
   "outputs": [
    {
     "data": {
      "text/plain": [
       "2020 авг.     66.1981\n",
       "2020 апр.     70.7347\n",
       "2020 дек.     68.1622\n",
       "2020 июл.     66.7609\n",
       "2020 июн.     66.1891\n",
       "2020 мар.     71.3214\n",
       "2020 мая      68.5014\n",
       "2020 нояб.    68.0093\n",
       "2020 окт.     68.4798\n",
       "2020 сент.    68.6968\n",
       "2020 февр.     71.023\n",
       "2020 янв.     70.3694\n",
       "2021 янв.     68.0625\n",
       "dtype: object"
      ]
     },
     "execution_count": 117,
     "metadata": {},
     "output_type": "execute_result"
    }
   ],
   "source": [
    "(j / k) * 100"
   ]
  },
  {
   "cell_type": "code",
   "execution_count": 116,
   "metadata": {},
   "outputs": [
    {
     "data": {
      "text/plain": [
       "2020 авг.     1.14271e+08\n",
       "2020 апр.     6.96937e+07\n",
       "2020 дек.     1.47418e+08\n",
       "2020 июл.     1.03815e+08\n",
       "2020 июн.     9.09219e+07\n",
       "2020 мар.     1.58242e+08\n",
       "2020 мая      7.81249e+07\n",
       "2020 нояб.    1.34132e+08\n",
       "2020 окт.     1.43292e+08\n",
       "2020 сент.    1.33956e+08\n",
       "2020 февр.    1.61331e+08\n",
       "2020 янв.     1.42371e+08\n",
       "2021 янв.     1.34693e+08\n",
       "dtype: object"
      ]
     },
     "execution_count": 116,
     "metadata": {},
     "output_type": "execute_result"
    }
   ],
   "source": [
    "k"
   ]
  },
  {
   "cell_type": "code",
   "execution_count": 118,
   "metadata": {},
   "outputs": [
    {
     "ename": "ValueError",
     "evalue": "Length mismatch: Expected axis has 14 elements, new values have 15 elements",
     "output_type": "error",
     "traceback": [
      "\u001b[1;31m---------------------------------------------------------------------------\u001b[0m",
      "\u001b[1;31mValueError\u001b[0m                                Traceback (most recent call last)",
      "\u001b[1;32m<ipython-input-118-62adb674ce11>\u001b[0m in \u001b[0;36m<module>\u001b[1;34m\u001b[0m\n\u001b[0;32m      1\u001b[0m \u001b[0mservices_new_super\u001b[0m \u001b[1;33m=\u001b[0m \u001b[0mservices\u001b[0m\u001b[1;33m.\u001b[0m\u001b[0mpivot_table\u001b[0m\u001b[1;33m(\u001b[0m\u001b[0mindex\u001b[0m\u001b[1;33m=\u001b[0m\u001b[1;34m'Код услуги'\u001b[0m\u001b[1;33m,\u001b[0m \u001b[0mcolumns\u001b[0m\u001b[1;33m=\u001b[0m\u001b[1;33m[\u001b[0m\u001b[1;34m'Год'\u001b[0m\u001b[1;33m,\u001b[0m \u001b[1;34m'Месяц'\u001b[0m\u001b[1;33m]\u001b[0m\u001b[1;33m,\u001b[0m \u001b[0mvalues\u001b[0m\u001b[1;33m=\u001b[0m\u001b[1;34m'Выработка'\u001b[0m\u001b[1;33m,\u001b[0m \u001b[0maggfunc\u001b[0m\u001b[1;33m=\u001b[0m\u001b[0msum\u001b[0m\u001b[1;33m)\u001b[0m\u001b[1;33m\u001b[0m\u001b[1;33m\u001b[0m\u001b[0m\n\u001b[1;32m----> 2\u001b[1;33m \u001b[0mservices_new_super\u001b[0m\u001b[1;33m.\u001b[0m\u001b[0mcolumns\u001b[0m \u001b[1;33m=\u001b[0m \u001b[0mlist\u001b[0m\u001b[1;33m(\u001b[0m\u001b[0mmap\u001b[0m\u001b[1;33m(\u001b[0m\u001b[1;32mlambda\u001b[0m \u001b[0mx\u001b[0m\u001b[1;33m:\u001b[0m \u001b[1;34m' '\u001b[0m\u001b[1;33m.\u001b[0m\u001b[0mjoin\u001b[0m\u001b[1;33m(\u001b[0m\u001b[1;33m[\u001b[0m\u001b[0mstr\u001b[0m\u001b[1;33m(\u001b[0m\u001b[0mi\u001b[0m\u001b[1;33m)\u001b[0m \u001b[1;32mfor\u001b[0m \u001b[0mi\u001b[0m \u001b[1;32min\u001b[0m \u001b[0mx\u001b[0m\u001b[1;33m]\u001b[0m\u001b[1;33m)\u001b[0m\u001b[1;33m,\u001b[0m \u001b[0mservices_new\u001b[0m\u001b[1;33m.\u001b[0m\u001b[0mcolumns\u001b[0m\u001b[1;33m)\u001b[0m\u001b[1;33m)\u001b[0m\u001b[1;33m\u001b[0m\u001b[1;33m\u001b[0m\u001b[0m\n\u001b[0m",
      "\u001b[1;32m~\\Anaconda3\\lib\\site-packages\\pandas\\core\\generic.py\u001b[0m in \u001b[0;36m__setattr__\u001b[1;34m(self, name, value)\u001b[0m\n\u001b[0;32m   5152\u001b[0m         \u001b[1;32mtry\u001b[0m\u001b[1;33m:\u001b[0m\u001b[1;33m\u001b[0m\u001b[1;33m\u001b[0m\u001b[0m\n\u001b[0;32m   5153\u001b[0m             \u001b[0mobject\u001b[0m\u001b[1;33m.\u001b[0m\u001b[0m__getattribute__\u001b[0m\u001b[1;33m(\u001b[0m\u001b[0mself\u001b[0m\u001b[1;33m,\u001b[0m \u001b[0mname\u001b[0m\u001b[1;33m)\u001b[0m\u001b[1;33m\u001b[0m\u001b[1;33m\u001b[0m\u001b[0m\n\u001b[1;32m-> 5154\u001b[1;33m             \u001b[1;32mreturn\u001b[0m \u001b[0mobject\u001b[0m\u001b[1;33m.\u001b[0m\u001b[0m__setattr__\u001b[0m\u001b[1;33m(\u001b[0m\u001b[0mself\u001b[0m\u001b[1;33m,\u001b[0m \u001b[0mname\u001b[0m\u001b[1;33m,\u001b[0m \u001b[0mvalue\u001b[0m\u001b[1;33m)\u001b[0m\u001b[1;33m\u001b[0m\u001b[1;33m\u001b[0m\u001b[0m\n\u001b[0m\u001b[0;32m   5155\u001b[0m         \u001b[1;32mexcept\u001b[0m \u001b[0mAttributeError\u001b[0m\u001b[1;33m:\u001b[0m\u001b[1;33m\u001b[0m\u001b[1;33m\u001b[0m\u001b[0m\n\u001b[0;32m   5156\u001b[0m             \u001b[1;32mpass\u001b[0m\u001b[1;33m\u001b[0m\u001b[1;33m\u001b[0m\u001b[0m\n",
      "\u001b[1;32mpandas\\_libs\\properties.pyx\u001b[0m in \u001b[0;36mpandas._libs.properties.AxisProperty.__set__\u001b[1;34m()\u001b[0m\n",
      "\u001b[1;32m~\\Anaconda3\\lib\\site-packages\\pandas\\core\\generic.py\u001b[0m in \u001b[0;36m_set_axis\u001b[1;34m(self, axis, labels)\u001b[0m\n\u001b[0;32m    562\u001b[0m     \u001b[1;32mdef\u001b[0m \u001b[0m_set_axis\u001b[0m\u001b[1;33m(\u001b[0m\u001b[0mself\u001b[0m\u001b[1;33m,\u001b[0m \u001b[0maxis\u001b[0m\u001b[1;33m:\u001b[0m \u001b[0mint\u001b[0m\u001b[1;33m,\u001b[0m \u001b[0mlabels\u001b[0m\u001b[1;33m:\u001b[0m \u001b[0mIndex\u001b[0m\u001b[1;33m)\u001b[0m \u001b[1;33m->\u001b[0m \u001b[1;32mNone\u001b[0m\u001b[1;33m:\u001b[0m\u001b[1;33m\u001b[0m\u001b[1;33m\u001b[0m\u001b[0m\n\u001b[0;32m    563\u001b[0m         \u001b[0mlabels\u001b[0m \u001b[1;33m=\u001b[0m \u001b[0mensure_index\u001b[0m\u001b[1;33m(\u001b[0m\u001b[0mlabels\u001b[0m\u001b[1;33m)\u001b[0m\u001b[1;33m\u001b[0m\u001b[1;33m\u001b[0m\u001b[0m\n\u001b[1;32m--> 564\u001b[1;33m         \u001b[0mself\u001b[0m\u001b[1;33m.\u001b[0m\u001b[0m_mgr\u001b[0m\u001b[1;33m.\u001b[0m\u001b[0mset_axis\u001b[0m\u001b[1;33m(\u001b[0m\u001b[0maxis\u001b[0m\u001b[1;33m,\u001b[0m \u001b[0mlabels\u001b[0m\u001b[1;33m)\u001b[0m\u001b[1;33m\u001b[0m\u001b[1;33m\u001b[0m\u001b[0m\n\u001b[0m\u001b[0;32m    565\u001b[0m         \u001b[0mself\u001b[0m\u001b[1;33m.\u001b[0m\u001b[0m_clear_item_cache\u001b[0m\u001b[1;33m(\u001b[0m\u001b[1;33m)\u001b[0m\u001b[1;33m\u001b[0m\u001b[1;33m\u001b[0m\u001b[0m\n\u001b[0;32m    566\u001b[0m \u001b[1;33m\u001b[0m\u001b[0m\n",
      "\u001b[1;32m~\\Anaconda3\\lib\\site-packages\\pandas\\core\\internals\\managers.py\u001b[0m in \u001b[0;36mset_axis\u001b[1;34m(self, axis, new_labels)\u001b[0m\n\u001b[0;32m    225\u001b[0m         \u001b[1;32mif\u001b[0m \u001b[0mnew_len\u001b[0m \u001b[1;33m!=\u001b[0m \u001b[0mold_len\u001b[0m\u001b[1;33m:\u001b[0m\u001b[1;33m\u001b[0m\u001b[1;33m\u001b[0m\u001b[0m\n\u001b[0;32m    226\u001b[0m             raise ValueError(\n\u001b[1;32m--> 227\u001b[1;33m                 \u001b[1;34mf\"Length mismatch: Expected axis has {old_len} elements, new \"\u001b[0m\u001b[1;33m\u001b[0m\u001b[1;33m\u001b[0m\u001b[0m\n\u001b[0m\u001b[0;32m    228\u001b[0m                 \u001b[1;34mf\"values have {new_len} elements\"\u001b[0m\u001b[1;33m\u001b[0m\u001b[1;33m\u001b[0m\u001b[0m\n\u001b[0;32m    229\u001b[0m             )\n",
      "\u001b[1;31mValueError\u001b[0m: Length mismatch: Expected axis has 14 elements, new values have 15 elements"
     ]
    }
   ],
   "source": [
    "services_new_super = services.pivot_table(index='Код услуги', columns=['Год', 'Месяц'], values='Выработка', aggfunc=sum)\n",
    "services_new_super.columns = list(map(lambda x: ' '.join([str(i) for i in x]), services_new.columns))"
   ]
  },
  {
   "cell_type": "code",
   "execution_count": 121,
   "metadata": {},
   "outputs": [],
   "source": [
    "services_new_super.columns = list(map(lambda x: ' '.join([str(i) for i in x]), services_new_super.columns))"
   ]
  },
  {
   "cell_type": "code",
   "execution_count": 123,
   "metadata": {},
   "outputs": [],
   "source": [
    "services_new_super.fillna(0, inplace=True)"
   ]
  },
  {
   "cell_type": "code",
   "execution_count": 126,
   "metadata": {},
   "outputs": [],
   "source": [
    "services_new_super['Код'] = services_new_super.index.isin(lst)"
   ]
  },
  {
   "cell_type": "code",
   "execution_count": 127,
   "metadata": {},
   "outputs": [
    {
     "data": {
      "text/html": [
       "<div>\n",
       "<style scoped>\n",
       "    .dataframe tbody tr th:only-of-type {\n",
       "        vertical-align: middle;\n",
       "    }\n",
       "\n",
       "    .dataframe tbody tr th {\n",
       "        vertical-align: top;\n",
       "    }\n",
       "\n",
       "    .dataframe thead th {\n",
       "        text-align: right;\n",
       "    }\n",
       "</style>\n",
       "<table border=\"1\" class=\"dataframe\">\n",
       "  <thead>\n",
       "    <tr style=\"text-align: right;\">\n",
       "      <th></th>\n",
       "      <th>2020 авг.</th>\n",
       "      <th>2020 апр.</th>\n",
       "      <th>2020 дек.</th>\n",
       "      <th>2020 июл.</th>\n",
       "      <th>2020 июн.</th>\n",
       "      <th>2020 мар.</th>\n",
       "      <th>2020 мая</th>\n",
       "      <th>2020 нояб.</th>\n",
       "      <th>2020 окт.</th>\n",
       "      <th>2020 сент.</th>\n",
       "      <th>2020 февр.</th>\n",
       "      <th>2020 янв.</th>\n",
       "      <th>2021 февр.</th>\n",
       "      <th>2021 янв.</th>\n",
       "      <th>Код</th>\n",
       "    </tr>\n",
       "    <tr>\n",
       "      <th>Код услуги</th>\n",
       "      <th></th>\n",
       "      <th></th>\n",
       "      <th></th>\n",
       "      <th></th>\n",
       "      <th></th>\n",
       "      <th></th>\n",
       "      <th></th>\n",
       "      <th></th>\n",
       "      <th></th>\n",
       "      <th></th>\n",
       "      <th></th>\n",
       "      <th></th>\n",
       "      <th></th>\n",
       "      <th></th>\n",
       "      <th></th>\n",
       "    </tr>\n",
       "  </thead>\n",
       "  <tbody>\n",
       "    <tr>\n",
       "      <th>0009.000100</th>\n",
       "      <td>0.0</td>\n",
       "      <td>0.0</td>\n",
       "      <td>0.0</td>\n",
       "      <td>0.0</td>\n",
       "      <td>4100.0</td>\n",
       "      <td>0.0</td>\n",
       "      <td>0.0</td>\n",
       "      <td>4100.0</td>\n",
       "      <td>8200.0</td>\n",
       "      <td>0.0</td>\n",
       "      <td>0.0</td>\n",
       "      <td>0.0</td>\n",
       "      <td>0.0</td>\n",
       "      <td>0.0</td>\n",
       "      <td>False</td>\n",
       "    </tr>\n",
       "    <tr>\n",
       "      <th>0010.000010</th>\n",
       "      <td>1760542.0</td>\n",
       "      <td>1949115.0</td>\n",
       "      <td>3196068.0</td>\n",
       "      <td>1271526.0</td>\n",
       "      <td>1079349.0</td>\n",
       "      <td>3821418.0</td>\n",
       "      <td>1199255.0</td>\n",
       "      <td>3275711.0</td>\n",
       "      <td>2674832.0</td>\n",
       "      <td>2337085.0</td>\n",
       "      <td>3404471.0</td>\n",
       "      <td>3242010.0</td>\n",
       "      <td>211956.0</td>\n",
       "      <td>2616504.0</td>\n",
       "      <td>True</td>\n",
       "    </tr>\n",
       "    <tr>\n",
       "      <th>0010.000050</th>\n",
       "      <td>478841.0</td>\n",
       "      <td>332090.0</td>\n",
       "      <td>541013.0</td>\n",
       "      <td>449482.0</td>\n",
       "      <td>333096.5</td>\n",
       "      <td>464178.0</td>\n",
       "      <td>358765.0</td>\n",
       "      <td>601760.5</td>\n",
       "      <td>537933.0</td>\n",
       "      <td>533137.0</td>\n",
       "      <td>539726.0</td>\n",
       "      <td>518672.0</td>\n",
       "      <td>51040.0</td>\n",
       "      <td>627462.0</td>\n",
       "      <td>True</td>\n",
       "    </tr>\n",
       "    <tr>\n",
       "      <th>0010.000070</th>\n",
       "      <td>1012458.0</td>\n",
       "      <td>1445816.0</td>\n",
       "      <td>1539720.0</td>\n",
       "      <td>532685.0</td>\n",
       "      <td>627927.0</td>\n",
       "      <td>2886162.0</td>\n",
       "      <td>709277.0</td>\n",
       "      <td>1702362.0</td>\n",
       "      <td>1618585.0</td>\n",
       "      <td>1644431.0</td>\n",
       "      <td>2233478.0</td>\n",
       "      <td>1721499.0</td>\n",
       "      <td>89895.0</td>\n",
       "      <td>1218841.0</td>\n",
       "      <td>True</td>\n",
       "    </tr>\n",
       "    <tr>\n",
       "      <th>0010.000110</th>\n",
       "      <td>63650.0</td>\n",
       "      <td>60705.0</td>\n",
       "      <td>114532.0</td>\n",
       "      <td>42465.0</td>\n",
       "      <td>35392.0</td>\n",
       "      <td>97945.0</td>\n",
       "      <td>30115.0</td>\n",
       "      <td>78850.0</td>\n",
       "      <td>79800.0</td>\n",
       "      <td>53081.0</td>\n",
       "      <td>84417.0</td>\n",
       "      <td>43415.0</td>\n",
       "      <td>6460.0</td>\n",
       "      <td>60800.0</td>\n",
       "      <td>False</td>\n",
       "    </tr>\n",
       "    <tr>\n",
       "      <th>...</th>\n",
       "      <td>...</td>\n",
       "      <td>...</td>\n",
       "      <td>...</td>\n",
       "      <td>...</td>\n",
       "      <td>...</td>\n",
       "      <td>...</td>\n",
       "      <td>...</td>\n",
       "      <td>...</td>\n",
       "      <td>...</td>\n",
       "      <td>...</td>\n",
       "      <td>...</td>\n",
       "      <td>...</td>\n",
       "      <td>...</td>\n",
       "      <td>...</td>\n",
       "      <td>...</td>\n",
       "    </tr>\n",
       "    <tr>\n",
       "      <th>100193.000110</th>\n",
       "      <td>0.0</td>\n",
       "      <td>0.0</td>\n",
       "      <td>7005.0</td>\n",
       "      <td>0.0</td>\n",
       "      <td>0.0</td>\n",
       "      <td>0.0</td>\n",
       "      <td>0.0</td>\n",
       "      <td>0.0</td>\n",
       "      <td>0.0</td>\n",
       "      <td>0.0</td>\n",
       "      <td>0.0</td>\n",
       "      <td>0.0</td>\n",
       "      <td>0.0</td>\n",
       "      <td>3510.0</td>\n",
       "      <td>False</td>\n",
       "    </tr>\n",
       "    <tr>\n",
       "      <th>100193.000120</th>\n",
       "      <td>0.0</td>\n",
       "      <td>0.0</td>\n",
       "      <td>10065.0</td>\n",
       "      <td>0.0</td>\n",
       "      <td>0.0</td>\n",
       "      <td>0.0</td>\n",
       "      <td>0.0</td>\n",
       "      <td>8625.0</td>\n",
       "      <td>24667.5</td>\n",
       "      <td>4312.0</td>\n",
       "      <td>0.0</td>\n",
       "      <td>0.0</td>\n",
       "      <td>2925.0</td>\n",
       "      <td>0.0</td>\n",
       "      <td>False</td>\n",
       "    </tr>\n",
       "    <tr>\n",
       "      <th>100193.000130</th>\n",
       "      <td>0.0</td>\n",
       "      <td>0.0</td>\n",
       "      <td>12187.5</td>\n",
       "      <td>0.0</td>\n",
       "      <td>0.0</td>\n",
       "      <td>0.0</td>\n",
       "      <td>0.0</td>\n",
       "      <td>23595.0</td>\n",
       "      <td>16087.5</td>\n",
       "      <td>12675.0</td>\n",
       "      <td>0.0</td>\n",
       "      <td>0.0</td>\n",
       "      <td>4100.0</td>\n",
       "      <td>21525.0</td>\n",
       "      <td>False</td>\n",
       "    </tr>\n",
       "    <tr>\n",
       "      <th>100193.000150</th>\n",
       "      <td>0.0</td>\n",
       "      <td>0.0</td>\n",
       "      <td>13455.0</td>\n",
       "      <td>0.0</td>\n",
       "      <td>0.0</td>\n",
       "      <td>0.0</td>\n",
       "      <td>0.0</td>\n",
       "      <td>6900.0</td>\n",
       "      <td>6037.5</td>\n",
       "      <td>0.0</td>\n",
       "      <td>0.0</td>\n",
       "      <td>0.0</td>\n",
       "      <td>0.0</td>\n",
       "      <td>7687.5</td>\n",
       "      <td>False</td>\n",
       "    </tr>\n",
       "    <tr>\n",
       "      <th>100193.000160</th>\n",
       "      <td>4545.0</td>\n",
       "      <td>0.0</td>\n",
       "      <td>9595.0</td>\n",
       "      <td>0.0</td>\n",
       "      <td>0.0</td>\n",
       "      <td>0.0</td>\n",
       "      <td>0.0</td>\n",
       "      <td>0.0</td>\n",
       "      <td>5050.0</td>\n",
       "      <td>0.0</td>\n",
       "      <td>0.0</td>\n",
       "      <td>0.0</td>\n",
       "      <td>3787.5</td>\n",
       "      <td>0.0</td>\n",
       "      <td>False</td>\n",
       "    </tr>\n",
       "  </tbody>\n",
       "</table>\n",
       "<p>2769 rows × 15 columns</p>\n",
       "</div>"
      ],
      "text/plain": [
       "               2020 авг.  2020 апр.  2020 дек.  2020 июл.  2020 июн.  \\\n",
       "Код услуги                                                             \n",
       "0009.000100          0.0        0.0        0.0        0.0     4100.0   \n",
       "0010.000010    1760542.0  1949115.0  3196068.0  1271526.0  1079349.0   \n",
       "0010.000050     478841.0   332090.0   541013.0   449482.0   333096.5   \n",
       "0010.000070    1012458.0  1445816.0  1539720.0   532685.0   627927.0   \n",
       "0010.000110      63650.0    60705.0   114532.0    42465.0    35392.0   \n",
       "...                  ...        ...        ...        ...        ...   \n",
       "100193.000110        0.0        0.0     7005.0        0.0        0.0   \n",
       "100193.000120        0.0        0.0    10065.0        0.0        0.0   \n",
       "100193.000130        0.0        0.0    12187.5        0.0        0.0   \n",
       "100193.000150        0.0        0.0    13455.0        0.0        0.0   \n",
       "100193.000160     4545.0        0.0     9595.0        0.0        0.0   \n",
       "\n",
       "               2020 мар.   2020 мая  2020 нояб.  2020 окт.  2020 сент.  \\\n",
       "Код услуги                                                               \n",
       "0009.000100          0.0        0.0      4100.0     8200.0         0.0   \n",
       "0010.000010    3821418.0  1199255.0   3275711.0  2674832.0   2337085.0   \n",
       "0010.000050     464178.0   358765.0    601760.5   537933.0    533137.0   \n",
       "0010.000070    2886162.0   709277.0   1702362.0  1618585.0   1644431.0   \n",
       "0010.000110      97945.0    30115.0     78850.0    79800.0     53081.0   \n",
       "...                  ...        ...         ...        ...         ...   \n",
       "100193.000110        0.0        0.0         0.0        0.0         0.0   \n",
       "100193.000120        0.0        0.0      8625.0    24667.5      4312.0   \n",
       "100193.000130        0.0        0.0     23595.0    16087.5     12675.0   \n",
       "100193.000150        0.0        0.0      6900.0     6037.5         0.0   \n",
       "100193.000160        0.0        0.0         0.0     5050.0         0.0   \n",
       "\n",
       "               2020 февр.  2020 янв.  2021 февр.  2021 янв.    Код  \n",
       "Код услуги                                                          \n",
       "0009.000100           0.0        0.0         0.0        0.0  False  \n",
       "0010.000010     3404471.0  3242010.0    211956.0  2616504.0   True  \n",
       "0010.000050      539726.0   518672.0     51040.0   627462.0   True  \n",
       "0010.000070     2233478.0  1721499.0     89895.0  1218841.0   True  \n",
       "0010.000110       84417.0    43415.0      6460.0    60800.0  False  \n",
       "...                   ...        ...         ...        ...    ...  \n",
       "100193.000110         0.0        0.0         0.0     3510.0  False  \n",
       "100193.000120         0.0        0.0      2925.0        0.0  False  \n",
       "100193.000130         0.0        0.0      4100.0    21525.0  False  \n",
       "100193.000150         0.0        0.0         0.0     7687.5  False  \n",
       "100193.000160         0.0        0.0      3787.5        0.0  False  \n",
       "\n",
       "[2769 rows x 15 columns]"
      ]
     },
     "execution_count": 127,
     "metadata": {},
     "output_type": "execute_result"
    }
   ],
   "source": [
    "services_new_super"
   ]
  },
  {
   "cell_type": "code",
   "execution_count": 128,
   "metadata": {},
   "outputs": [
    {
     "data": {
      "text/plain": [
       "2020 авг.     66.1981\n",
       "2020 апр.     70.7347\n",
       "2020 дек.     68.1622\n",
       "2020 июл.     66.7609\n",
       "2020 июн.     66.1891\n",
       "2020 мар.     71.3214\n",
       "2020 мая      68.5014\n",
       "2020 нояб.    68.0093\n",
       "2020 окт.     68.4798\n",
       "2020 сент.    68.6968\n",
       "2020 февр.     71.023\n",
       "2020 янв.     70.3694\n",
       "2021 февр.        NaN\n",
       "2021 янв.     68.0625\n",
       "ABC_all           NaN\n",
       "dtype: object"
      ]
     },
     "execution_count": 128,
     "metadata": {},
     "output_type": "execute_result"
    }
   ],
   "source": [
    "j = services_new_super[services_new_super['Код']].sum()\n",
    "k = services_new.sum()\n",
    "j.drop(['Код'], inplace=True)\n",
    "k.drop(['Код'], inplace=True)\n",
    "(j / k) * 100"
   ]
  },
  {
   "cell_type": "code",
   "execution_count": 131,
   "metadata": {},
   "outputs": [
    {
     "data": {
      "text/plain": [
       "68.65451136194451"
      ]
     },
     "execution_count": 131,
     "metadata": {},
     "output_type": "execute_result"
    }
   ],
   "source": [
    "((j / k) * 100).dropna().mean()"
   ]
  },
  {
   "cell_type": "code",
   "execution_count": 133,
   "metadata": {},
   "outputs": [],
   "source": [
    "pd.Series(lst, name='Коды').to_excel('Коды.xlsx')"
   ]
  },
  {
   "cell_type": "code",
   "execution_count": null,
   "metadata": {},
   "outputs": [],
   "source": []
  },
  {
   "cell_type": "code",
   "execution_count": null,
   "metadata": {},
   "outputs": [],
   "source": []
  },
  {
   "cell_type": "code",
   "execution_count": 138,
   "metadata": {},
   "outputs": [
    {
     "data": {
      "text/plain": [
       "[34, 59, 93, 80, 10, 86, 26, 39, 23, 74]"
      ]
     },
     "execution_count": 138,
     "metadata": {},
     "output_type": "execute_result"
    }
   ],
   "source": [
    "import random\n",
    "\n",
    "lst = list(range(1, 101))\n",
    "\n",
    "random.choices(lst, k=10)"
   ]
  },
  {
   "cell_type": "code",
   "execution_count": 141,
   "metadata": {},
   "outputs": [
    {
     "data": {
      "text/plain": [
       "{'ABLimit': 71,\n",
       " 'BCLimit': 42,\n",
       " 'ABexchanged': False,\n",
       " 'Aind': [2, 4, 6],\n",
       " 'Bind': [0, 1, 3],\n",
       " 'Cind': [5, 7, 8, 9],\n",
       " 'smallestAData': 0.6971394004308717,\n",
       " 'smallestBData': 0.8636363636363639,\n",
       " 'AlimitIndInInterpolation': 44,\n",
       " 'BlimitIndInInterpolation': 60,\n",
       " 'p': 0      0.00\n",
       " 1      0.01\n",
       " 2      0.02\n",
       " 3      0.03\n",
       " 4      0.04\n",
       "        ... \n",
       " 96     0.96\n",
       " 97     0.97\n",
       " 98     0.98\n",
       " 99     0.99\n",
       " 100    1.00\n",
       " Name: Effort, Length: 101, dtype: float64,\n",
       " 'ABC': 0      2.151660e-18\n",
       " 1      2.161641e-02\n",
       " 2      4.249183e-02\n",
       " 3      6.266959e-02\n",
       " 4      8.219297e-02\n",
       "            ...     \n",
       " 96     9.896782e-01\n",
       " 97     9.918754e-01\n",
       " 98     9.943041e-01\n",
       " 99     9.970003e-01\n",
       " 100    1.000000e+00\n",
       " Name: Yield, Length: 101, dtype: float64,\n",
       " 'A': {'Effort': 0.44, 'Yield': 0.6971394004308717},\n",
       " 'B': {'Effort': 0.52, 'Yield': 0.7989478085176304},\n",
       " 'C': {'Effort': 0.6, 'Yield': 0.8636363636363639},\n",
       " 'CleanedData': 0    42\n",
       " 1    71\n",
       " 2    74\n",
       " 3    67\n",
       " 4    91\n",
       " 5    23\n",
       " 6    73\n",
       " 7    11\n",
       " 8    22\n",
       " 9    10\n",
       " dtype: int64}"
      ]
     },
     "execution_count": 141,
     "metadata": {},
     "output_type": "execute_result"
    }
   ],
   "source": [
    "import numpy as np\n",
    "import abc_analysis\n",
    "arr = np.random.randint(1, 100, size=10)\n",
    "\n",
    "abc_analysis.abc_analysis(arr)"
   ]
  },
  {
   "cell_type": "code",
   "execution_count": null,
   "metadata": {},
   "outputs": [],
   "source": []
  }
 ],
 "metadata": {
  "kernelspec": {
   "display_name": "Python 3",
   "language": "python",
   "name": "python3"
  },
  "language_info": {
   "codemirror_mode": {
    "name": "ipython",
    "version": 3
   },
   "file_extension": ".py",
   "mimetype": "text/x-python",
   "name": "python",
   "nbconvert_exporter": "python",
   "pygments_lexer": "ipython3",
   "version": "3.7.6"
  }
 },
 "nbformat": 4,
 "nbformat_minor": 4
}
