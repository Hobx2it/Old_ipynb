{
 "cells": [
  {
   "cell_type": "code",
   "execution_count": 17,
   "metadata": {},
   "outputs": [],
   "source": [
    "import os\n",
    "import shutil"
   ]
  },
  {
   "cell_type": "code",
   "execution_count": 22,
   "metadata": {},
   "outputs": [],
   "source": [
    "cur_dir = os.getcwd()\n",
    "\n",
    "\n",
    "for dirpath, dirnames, filenames in os.walk(r'C:\\Users\\AmanovRA'):\n",
    "    x = os.path.basename(dirpath)\n",
    "    if os.path.exists(x) and 'checkpoints' not in x:\n",
    "        for file in filenames:\n",
    "            if 'ipynb' in file and 'checkpoints' not in str(file):\n",
    "                shutil.copy(dirpath + '\\\\' + file, cur_dir + '\\\\' + x)\n",
    "    else:\n",
    "        if 'checkpoints' not in x:\n",
    "            if filenames and any(['ipynb' in i for i in filenames]):\n",
    "                os.mkdir(x)\n",
    "                with open('путь.txt', 'w') as fin:\n",
    "                    fin.write(str(dirpath))\n",
    "                for file in filenames:\n",
    "                    if 'ipynb' in file and 'checkpoints' not in str(file):\n",
    "                        shutil.copy(dirpath + '\\\\' + file, cur_dir + '\\\\' + x)\n",
    "        "
   ]
  },
  {
   "cell_type": "code",
   "execution_count": null,
   "metadata": {},
   "outputs": [],
   "source": []
  }
 ],
 "metadata": {
  "kernelspec": {
   "display_name": "Python 3",
   "language": "python",
   "name": "python3"
  },
  "language_info": {
   "codemirror_mode": {
    "name": "ipython",
    "version": 3
   },
   "file_extension": ".py",
   "mimetype": "text/x-python",
   "name": "python",
   "nbconvert_exporter": "python",
   "pygments_lexer": "ipython3",
   "version": "3.7.6"
  }
 },
 "nbformat": 4,
 "nbformat_minor": 4
}
