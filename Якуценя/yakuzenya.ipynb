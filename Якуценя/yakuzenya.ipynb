{
 "cells": [
  {
   "cell_type": "code",
   "execution_count": 164,
   "metadata": {},
   "outputs": [],
   "source": [
    "import pandas as pd\n",
    "import datetime"
   ]
  },
  {
   "cell_type": "code",
   "execution_count": 165,
   "metadata": {},
   "outputs": [],
   "source": [
    "data = pd.read_excel('Якуценя_анализ.xlsx', sheet_name='АУ_Выгрузка')"
   ]
  },
  {
   "cell_type": "code",
   "execution_count": 170,
   "metadata": {},
   "outputs": [],
   "source": [
    "year_group = data.groupby(['Год', 'Номер карты'], as_index=False).agg({'Новое посещение' : 'sum'}).rename(columns={'Новое посещение' : 'Кол-во посещений'})\n",
    "year_group['Кол-во посещений'] = year_group['Кол-во посещений'].apply(lambda x: '4 и более' if x >= 4 else x)\n",
    "year_group.groupby(['Год', 'Кол-во посещений'], as_index=False).agg({'Номер карты' : 'count'}).rename(columns={'Номер карты' : 'Кол-во клиентов'}).to_excel('Посещения_по_годам.xlsx')"
   ]
  },
  {
   "cell_type": "code",
   "execution_count": 168,
   "metadata": {},
   "outputs": [],
   "source": [
    "year_group1 = data.groupby(['Год', 'Категория клиента', 'Номер карты'], as_index=False).agg({'Новое посещение' : 'sum'}).rename(columns={'Новое посещение' : 'Кол-во посещений'})\n",
    "year_group1['Кол-во посещений'] = year_group1['Кол-во посещений'].apply(lambda x: '4 и более' if x >= 4 else x)\n",
    "year_group1.groupby(['Год', 'Кол-во посещений', 'Категория клиента'], as_index=False).agg({'Номер карты' : 'count'}).rename(columns={'Номер карты' : 'Кол-во клиентов'}).to_excel('Посещения_по_годам_категориям.xlsx')"
   ]
  },
  {
   "cell_type": "code",
   "execution_count": 28,
   "metadata": {},
   "outputs": [],
   "source": [
    "clients = data[data['Первое посещение'] == True] \n",
    "clients = clients.drop_duplicates(subset=['Номер карты']).reset_index(drop=True)"
   ]
  },
  {
   "cell_type": "code",
   "execution_count": 29,
   "metadata": {},
   "outputs": [
    {
     "data": {
      "text/html": [
       "<div>\n",
       "<style scoped>\n",
       "    .dataframe tbody tr th:only-of-type {\n",
       "        vertical-align: middle;\n",
       "    }\n",
       "\n",
       "    .dataframe tbody tr th {\n",
       "        vertical-align: top;\n",
       "    }\n",
       "\n",
       "    .dataframe thead th {\n",
       "        text-align: right;\n",
       "    }\n",
       "</style>\n",
       "<table border=\"1\" class=\"dataframe\">\n",
       "  <thead>\n",
       "    <tr style=\"text-align: right;\">\n",
       "      <th></th>\n",
       "      <th>Доктор</th>\n",
       "      <th>Номер карты</th>\n",
       "      <th>Пациент</th>\n",
       "      <th>Категория клиента</th>\n",
       "      <th>Год</th>\n",
       "      <th>Дата приема</th>\n",
       "      <th>Дата первого посещения Пациента</th>\n",
       "      <th>Дата последнего посещения Пациента</th>\n",
       "      <th>Категория крупно</th>\n",
       "      <th>Наименование услуги</th>\n",
       "      <th>Sum([Всего начислено])</th>\n",
       "      <th>Новое посещение</th>\n",
       "      <th>Первое посещение</th>\n",
       "    </tr>\n",
       "  </thead>\n",
       "  <tbody>\n",
       "    <tr>\n",
       "      <th>0</th>\n",
       "      <td>Якуценя Елена Николаевна</td>\n",
       "      <td>100045929</td>\n",
       "      <td>Егоров Максим Алексеевич</td>\n",
       "      <td>НАЛ</td>\n",
       "      <td>2019</td>\n",
       "      <td>2019-03-07</td>\n",
       "      <td>2019-03-07</td>\n",
       "      <td>2019-03-07</td>\n",
       "      <td>остеопатия</td>\n",
       "      <td>Остеопатия детям в амбулатории (1 сеанс)</td>\n",
       "      <td>2400.0</td>\n",
       "      <td>1</td>\n",
       "      <td>True</td>\n",
       "    </tr>\n",
       "    <tr>\n",
       "      <th>1</th>\n",
       "      <td>Якуценя Елена Николаевна</td>\n",
       "      <td>100051544</td>\n",
       "      <td>Ремизова Екатерина Витальевна</td>\n",
       "      <td>НАЛ</td>\n",
       "      <td>2019</td>\n",
       "      <td>2019-08-15</td>\n",
       "      <td>2019-08-15</td>\n",
       "      <td>2019-08-15</td>\n",
       "      <td>остеопатия</td>\n",
       "      <td>Остеопатия взрослым в амбулатории (1 сеанс)</td>\n",
       "      <td>3200.0</td>\n",
       "      <td>1</td>\n",
       "      <td>True</td>\n",
       "    </tr>\n",
       "    <tr>\n",
       "      <th>2</th>\n",
       "      <td>Якуценя Елена Николаевна</td>\n",
       "      <td>100073260</td>\n",
       "      <td>Раев Денис Алексеевич</td>\n",
       "      <td>НАЛ</td>\n",
       "      <td>2019</td>\n",
       "      <td>2019-06-19</td>\n",
       "      <td>2019-06-19</td>\n",
       "      <td>2019-07-31</td>\n",
       "      <td>остеопатия</td>\n",
       "      <td>Остеопатия детям в амбулатории (1 сеанс)</td>\n",
       "      <td>2400.0</td>\n",
       "      <td>1</td>\n",
       "      <td>True</td>\n",
       "    </tr>\n",
       "    <tr>\n",
       "      <th>3</th>\n",
       "      <td>Якуценя Елена Николаевна</td>\n",
       "      <td>100074071</td>\n",
       "      <td>Чесноков Артем Феликсович</td>\n",
       "      <td>НАЛ</td>\n",
       "      <td>2019</td>\n",
       "      <td>2019-04-22</td>\n",
       "      <td>2019-04-22</td>\n",
       "      <td>2019-09-24</td>\n",
       "      <td>остеопатия</td>\n",
       "      <td>Остеопатия взрослым в амбулатории (1 сеанс)</td>\n",
       "      <td>3200.0</td>\n",
       "      <td>1</td>\n",
       "      <td>True</td>\n",
       "    </tr>\n",
       "    <tr>\n",
       "      <th>4</th>\n",
       "      <td>Якуценя Елена Николаевна</td>\n",
       "      <td>100074274</td>\n",
       "      <td>Ратанова Виктория Сергеевна</td>\n",
       "      <td>НАЛ</td>\n",
       "      <td>2020</td>\n",
       "      <td>2020-01-30</td>\n",
       "      <td>2020-01-30</td>\n",
       "      <td>2020-03-05</td>\n",
       "      <td>остеопатия</td>\n",
       "      <td>Остеопатия детям в амбулатории (1 сеанс)</td>\n",
       "      <td>2400.0</td>\n",
       "      <td>1</td>\n",
       "      <td>True</td>\n",
       "    </tr>\n",
       "    <tr>\n",
       "      <th>...</th>\n",
       "      <td>...</td>\n",
       "      <td>...</td>\n",
       "      <td>...</td>\n",
       "      <td>...</td>\n",
       "      <td>...</td>\n",
       "      <td>...</td>\n",
       "      <td>...</td>\n",
       "      <td>...</td>\n",
       "      <td>...</td>\n",
       "      <td>...</td>\n",
       "      <td>...</td>\n",
       "      <td>...</td>\n",
       "      <td>...</td>\n",
       "    </tr>\n",
       "    <tr>\n",
       "      <th>149</th>\n",
       "      <td>Якуценя Елена Николаевна</td>\n",
       "      <td>990381633</td>\n",
       "      <td>Москаленко Юрий Владимирович</td>\n",
       "      <td>НАЛ</td>\n",
       "      <td>2019</td>\n",
       "      <td>2019-07-18</td>\n",
       "      <td>2019-07-18</td>\n",
       "      <td>2019-08-17</td>\n",
       "      <td>остеопатия</td>\n",
       "      <td>Остеопатия взрослым в амбулатории (1 сеанс)</td>\n",
       "      <td>3200.0</td>\n",
       "      <td>1</td>\n",
       "      <td>True</td>\n",
       "    </tr>\n",
       "    <tr>\n",
       "      <th>150</th>\n",
       "      <td>Якуценя Елена Николаевна</td>\n",
       "      <td>990417001</td>\n",
       "      <td>Лаптева Кристина Сергеевна</td>\n",
       "      <td>НАЛ</td>\n",
       "      <td>2019</td>\n",
       "      <td>2019-09-07</td>\n",
       "      <td>2019-09-07</td>\n",
       "      <td>2020-07-17</td>\n",
       "      <td>остеопатия</td>\n",
       "      <td>Остеопатия взрослым в амбулатории (1 сеанс)</td>\n",
       "      <td>3200.0</td>\n",
       "      <td>1</td>\n",
       "      <td>True</td>\n",
       "    </tr>\n",
       "    <tr>\n",
       "      <th>151</th>\n",
       "      <td>Якуценя Елена Николаевна</td>\n",
       "      <td>990420696</td>\n",
       "      <td>Иванова Милана Данииловна</td>\n",
       "      <td>НАЛ</td>\n",
       "      <td>2019</td>\n",
       "      <td>2019-06-22</td>\n",
       "      <td>2019-06-22</td>\n",
       "      <td>2019-06-22</td>\n",
       "      <td>остеопатия</td>\n",
       "      <td>Остеопатия детям в амбулатории (1 сеанс)</td>\n",
       "      <td>2400.0</td>\n",
       "      <td>1</td>\n",
       "      <td>True</td>\n",
       "    </tr>\n",
       "    <tr>\n",
       "      <th>152</th>\n",
       "      <td>Якуценя Елена Николаевна</td>\n",
       "      <td>990465815</td>\n",
       "      <td>Рустамова Фатма Аваз Кызы</td>\n",
       "      <td>НАЛ</td>\n",
       "      <td>2019</td>\n",
       "      <td>2019-12-11</td>\n",
       "      <td>2019-12-11</td>\n",
       "      <td>2020-01-22</td>\n",
       "      <td>остеопатия</td>\n",
       "      <td>Остеопатия взрослым в амбулатории (1 сеанс)</td>\n",
       "      <td>2400.0</td>\n",
       "      <td>1</td>\n",
       "      <td>True</td>\n",
       "    </tr>\n",
       "    <tr>\n",
       "      <th>153</th>\n",
       "      <td>Якуценя Елена Николаевна</td>\n",
       "      <td>990503229</td>\n",
       "      <td>Чернышева Татьяна Петровна</td>\n",
       "      <td>СК факт</td>\n",
       "      <td>2020</td>\n",
       "      <td>2020-06-15</td>\n",
       "      <td>2020-06-15</td>\n",
       "      <td>2020-06-15</td>\n",
       "      <td>остеопатия</td>\n",
       "      <td>Остеопатия взрослым в амбулатории (1 сеанс)</td>\n",
       "      <td>3200.0</td>\n",
       "      <td>1</td>\n",
       "      <td>True</td>\n",
       "    </tr>\n",
       "  </tbody>\n",
       "</table>\n",
       "<p>154 rows × 13 columns</p>\n",
       "</div>"
      ],
      "text/plain": [
       "                       Доктор  Номер карты                        Пациент  \\\n",
       "0    Якуценя Елена Николаевна    100045929       Егоров Максим Алексеевич   \n",
       "1    Якуценя Елена Николаевна    100051544  Ремизова Екатерина Витальевна   \n",
       "2    Якуценя Елена Николаевна    100073260          Раев Денис Алексеевич   \n",
       "3    Якуценя Елена Николаевна    100074071      Чесноков Артем Феликсович   \n",
       "4    Якуценя Елена Николаевна    100074274    Ратанова Виктория Сергеевна   \n",
       "..                        ...          ...                            ...   \n",
       "149  Якуценя Елена Николаевна    990381633   Москаленко Юрий Владимирович   \n",
       "150  Якуценя Елена Николаевна    990417001     Лаптева Кристина Сергеевна   \n",
       "151  Якуценя Елена Николаевна    990420696      Иванова Милана Данииловна   \n",
       "152  Якуценя Елена Николаевна    990465815      Рустамова Фатма Аваз Кызы   \n",
       "153  Якуценя Елена Николаевна    990503229     Чернышева Татьяна Петровна   \n",
       "\n",
       "    Категория клиента   Год Дата приема Дата первого посещения Пациента  \\\n",
       "0                 НАЛ  2019  2019-03-07                      2019-03-07   \n",
       "1                 НАЛ  2019  2019-08-15                      2019-08-15   \n",
       "2                 НАЛ  2019  2019-06-19                      2019-06-19   \n",
       "3                 НАЛ  2019  2019-04-22                      2019-04-22   \n",
       "4                 НАЛ  2020  2020-01-30                      2020-01-30   \n",
       "..                ...   ...         ...                             ...   \n",
       "149               НАЛ  2019  2019-07-18                      2019-07-18   \n",
       "150               НАЛ  2019  2019-09-07                      2019-09-07   \n",
       "151               НАЛ  2019  2019-06-22                      2019-06-22   \n",
       "152               НАЛ  2019  2019-12-11                      2019-12-11   \n",
       "153           СК факт  2020  2020-06-15                      2020-06-15   \n",
       "\n",
       "    Дата последнего посещения Пациента Категория крупно  \\\n",
       "0                           2019-03-07       остеопатия   \n",
       "1                           2019-08-15       остеопатия   \n",
       "2                           2019-07-31       остеопатия   \n",
       "3                           2019-09-24       остеопатия   \n",
       "4                           2020-03-05       остеопатия   \n",
       "..                                 ...              ...   \n",
       "149                         2019-08-17       остеопатия   \n",
       "150                         2020-07-17       остеопатия   \n",
       "151                         2019-06-22       остеопатия   \n",
       "152                         2020-01-22       остеопатия   \n",
       "153                         2020-06-15       остеопатия   \n",
       "\n",
       "                             Наименование услуги  Sum([Всего начислено])  \\\n",
       "0       Остеопатия детям в амбулатории (1 сеанс)                  2400.0   \n",
       "1    Остеопатия взрослым в амбулатории (1 сеанс)                  3200.0   \n",
       "2       Остеопатия детям в амбулатории (1 сеанс)                  2400.0   \n",
       "3    Остеопатия взрослым в амбулатории (1 сеанс)                  3200.0   \n",
       "4       Остеопатия детям в амбулатории (1 сеанс)                  2400.0   \n",
       "..                                           ...                     ...   \n",
       "149  Остеопатия взрослым в амбулатории (1 сеанс)                  3200.0   \n",
       "150  Остеопатия взрослым в амбулатории (1 сеанс)                  3200.0   \n",
       "151     Остеопатия детям в амбулатории (1 сеанс)                  2400.0   \n",
       "152  Остеопатия взрослым в амбулатории (1 сеанс)                  2400.0   \n",
       "153  Остеопатия взрослым в амбулатории (1 сеанс)                  3200.0   \n",
       "\n",
       "     Новое посещение  Первое посещение  \n",
       "0                  1              True  \n",
       "1                  1              True  \n",
       "2                  1              True  \n",
       "3                  1              True  \n",
       "4                  1              True  \n",
       "..               ...               ...  \n",
       "149                1              True  \n",
       "150                1              True  \n",
       "151                1              True  \n",
       "152                1              True  \n",
       "153                1              True  \n",
       "\n",
       "[154 rows x 13 columns]"
      ]
     },
     "execution_count": 29,
     "metadata": {},
     "output_type": "execute_result"
    }
   ],
   "source": [
    "clients"
   ]
  },
  {
   "cell_type": "code",
   "execution_count": 30,
   "metadata": {},
   "outputs": [],
   "source": [
    "cl_group = data.groupby('Номер карты').agg({'Дата приема' : list}).rename(columns={'Дата приема' : 'Даты приемов у Якуценя'})\n",
    "clients = clients.merge(cl_group, how='left', left_on='Номер карты', right_on='Номер карты')"
   ]
  },
  {
   "cell_type": "code",
   "execution_count": 32,
   "metadata": {},
   "outputs": [],
   "source": [
    "clients['Остался'] = clients['Дата последнего посещения Пациента'] > clients['Дата первого посещения Пациента']"
   ]
  },
  {
   "cell_type": "code",
   "execution_count": 34,
   "metadata": {},
   "outputs": [],
   "source": [
    "def yakuz(row):\n",
    "    if row['Дата последнего посещения Пациента'] in row['Даты приемов у Якуценя'] and row['Остался'] == True:\n",
    "        return True\n",
    "    else:\n",
    "        return False\n",
    "\n",
    "clients['Остался у Якуценя'] = clients.apply(yakuz, axis=1)\n",
    "    "
   ]
  },
  {
   "cell_type": "code",
   "execution_count": 36,
   "metadata": {},
   "outputs": [],
   "source": [
    "clients.to_excel('Клиенты.xlsx')"
   ]
  },
  {
   "cell_type": "code",
   "execution_count": 38,
   "metadata": {},
   "outputs": [
    {
     "data": {
      "text/plain": [
       "'59.969601, 30.341982'"
      ]
     },
     "execution_count": 38,
     "metadata": {},
     "output_type": "execute_result"
    }
   ],
   "source": [
    "from decimal import Decimal\n",
    "\n",
    "from yandex_geocoder import Client\n",
    "\n",
    "api_key = 'b996ed8b-dc1b-4dee-8687-bbb4b26dd313'\n",
    "\n",
    "\n",
    "client = Client(api_key)\n",
    "\n",
    "def coord_yandex(s):\n",
    "    try:\n",
    "        return ', '.join([str(i) for i in list(map(float, client.coordinates(s)))[::-1]])\n",
    "    except:\n",
    "        return '' \n",
    "dct = {}\n",
    "    \n",
    "    \n",
    "coord_yandex('СПБ, Большой Сампсониевский проспект дом 45')    "
   ]
  },
  {
   "cell_type": "code",
   "execution_count": 39,
   "metadata": {},
   "outputs": [],
   "source": [
    "from geopy.distance import geodesic\n",
    "\n",
    "# temp_lst = []\n",
    "# for row in coords['Координаты']:\n",
    "#     if geodesic(row.replace('[', '').replace(']', ''), '55.0415, 82.9346').meters < 100000:\n",
    "#         temp_lst.append(row)"
   ]
  },
  {
   "cell_type": "code",
   "execution_count": 40,
   "metadata": {},
   "outputs": [
    {
     "data": {
      "text/plain": [
       "0.0"
      ]
     },
     "execution_count": 40,
     "metadata": {},
     "output_type": "execute_result"
    }
   ],
   "source": [
    "geodesic('59.969601, 30.341982', '59.969601, 30.341982').meters"
   ]
  },
  {
   "cell_type": "code",
   "execution_count": 45,
   "metadata": {},
   "outputs": [],
   "source": [
    "s = '''Б.П. 20\n",
    "Щерб.11\n",
    "РЦ БС 45\n",
    "Гарьк. 15к3\n",
    "Брянцева 13\n",
    "Колл. 4к1\n",
    "Ст.П. 39А\n",
    "Маршака 4\n",
    "Гаврил.11\n",
    "Б.П. 20\n",
    "Сик. 7к2\n",
    "Мор. 3к2\n",
    "Б.С. 45\n",
    "Колом. 28\n",
    "Коменд 51к1\n",
    "'''.splitlines()\n",
    "d = ['Большая Пушкарская ул., д. 20',\n",
    "     'улица Щербакова, д.11',\n",
    "     'Б. Сампсониевский пр., д. 45, лит А',\n",
    "     'ул. Погр. Гарькавого, д. 15, к.3',\n",
    "     'Брянцева 13, к.1',\n",
    "     'ул. Коллонтай, д. 4',\n",
    "     'Старо-Петергофский пр., д.39а',\n",
    "     'Пр. Маршака, 4',\n",
    "     'Ул. В.Гаврилина, 11к.1',\n",
    "     'Большая Пушкарская ул., д. 20',\n",
    "     'ул. Сикейроса, д. 7, корпус 2',\n",
    "     'Моравский переулок, д.3, к.2',\n",
    "     'Б. Сампсониевский пр., д. 45, лит А',\n",
    "     'Коломяжский проспект, д. 28, лит А',\n",
    "     'пр. Комендантский дом 51 корпус 1'\n",
    "    \n",
    "]\n",
    "\n",
    "d = ['СПБ, ' + i for i in d]\n",
    "\n",
    "dct = dict(zip(s, d))\n",
    "\n",
    "dct\n",
    "\n",
    "dct2 = {}\n",
    "\n",
    "for i in dct:\n",
    "    dct2.setdefault(i, coord_yandex(dct[i]))"
   ]
  },
  {
   "cell_type": "code",
   "execution_count": 46,
   "metadata": {},
   "outputs": [
    {
     "data": {
      "text/plain": [
       "{'Б.П. 20': '59.957827, 30.300848',\n",
       " 'Щерб.11': '60.028631, 30.296581',\n",
       " 'РЦ БС 45': '59.969601, 30.341982',\n",
       " 'Гарьк. 15к3': '59.840166, 30.145278',\n",
       " 'Брянцева 13': '60.039768, 30.407505',\n",
       " 'Колл. 4к1': '59.914773, 30.447139',\n",
       " 'Ст.П. 39А': '59.902971, 30.275794',\n",
       " 'Маршака 4': '60.035432, 30.446277',\n",
       " 'Гаврил.11': '60.078666, 30.33714',\n",
       " 'Сик. 7к2': '60.033481, 30.327735',\n",
       " 'Мор. 3к2': '59.836454, 30.4208',\n",
       " 'Б.С. 45': '59.969601, 30.341982',\n",
       " 'Колом. 28': '60.009053, 30.295458',\n",
       " 'Коменд 51к1': '60.031, 30.238577'}"
      ]
     },
     "execution_count": 46,
     "metadata": {},
     "output_type": "execute_result"
    }
   ],
   "source": [
    "dct2"
   ]
  },
  {
   "cell_type": "code",
   "execution_count": 47,
   "metadata": {},
   "outputs": [],
   "source": [
    "adresses = pd.read_excel('Адреса.xlsx')"
   ]
  },
  {
   "cell_type": "code",
   "execution_count": 59,
   "metadata": {},
   "outputs": [],
   "source": [
    "adresses = adresses[adresses['Ф_Улица'] != ' ']"
   ]
  },
  {
   "cell_type": "code",
   "execution_count": 61,
   "metadata": {},
   "outputs": [],
   "source": [
    "def addr(row):\n",
    "    street = row['Ф_Улица']\n",
    "    if 'обл.Ленинградская' not in street:\n",
    "        street = 'СПБ, ' + street\n",
    "    house = row['Ф_Дом']\n",
    "    \n",
    "    return f'{street}, дом {house}'"
   ]
  },
  {
   "cell_type": "code",
   "execution_count": 62,
   "metadata": {},
   "outputs": [
    {
     "name": "stderr",
     "output_type": "stream",
     "text": [
      "C:\\Users\\AmanovRA\\Anaconda3\\lib\\site-packages\\ipykernel_launcher.py:1: SettingWithCopyWarning: \n",
      "A value is trying to be set on a copy of a slice from a DataFrame.\n",
      "Try using .loc[row_indexer,col_indexer] = value instead\n",
      "\n",
      "See the caveats in the documentation: https://pandas.pydata.org/pandas-docs/stable/user_guide/indexing.html#returning-a-view-versus-a-copy\n",
      "  \"\"\"Entry point for launching an IPython kernel.\n"
     ]
    }
   ],
   "source": [
    "adresses['Адрес'] = adresses.apply(addr, axis=1)"
   ]
  },
  {
   "cell_type": "code",
   "execution_count": 65,
   "metadata": {},
   "outputs": [
    {
     "name": "stderr",
     "output_type": "stream",
     "text": [
      "C:\\Users\\AmanovRA\\Anaconda3\\lib\\site-packages\\ipykernel_launcher.py:1: SettingWithCopyWarning: \n",
      "A value is trying to be set on a copy of a slice from a DataFrame.\n",
      "Try using .loc[row_indexer,col_indexer] = value instead\n",
      "\n",
      "See the caveats in the documentation: https://pandas.pydata.org/pandas-docs/stable/user_guide/indexing.html#returning-a-view-versus-a-copy\n",
      "  \"\"\"Entry point for launching an IPython kernel.\n"
     ]
    }
   ],
   "source": [
    "adresses['Координаты МЦ'] = adresses['Филиал'].apply(lambda x: dct2[x])"
   ]
  },
  {
   "cell_type": "code",
   "execution_count": 69,
   "metadata": {},
   "outputs": [],
   "source": [
    "temp_coords = []\n",
    "for i in adresses['Адрес']:\n",
    "    temp_coords.append(coord_yandex(i))"
   ]
  },
  {
   "cell_type": "code",
   "execution_count": 71,
   "metadata": {},
   "outputs": [
    {
     "name": "stderr",
     "output_type": "stream",
     "text": [
      "C:\\Users\\AmanovRA\\Anaconda3\\lib\\site-packages\\ipykernel_launcher.py:1: SettingWithCopyWarning: \n",
      "A value is trying to be set on a copy of a slice from a DataFrame.\n",
      "Try using .loc[row_indexer,col_indexer] = value instead\n",
      "\n",
      "See the caveats in the documentation: https://pandas.pydata.org/pandas-docs/stable/user_guide/indexing.html#returning-a-view-versus-a-copy\n",
      "  \"\"\"Entry point for launching an IPython kernel.\n"
     ]
    }
   ],
   "source": [
    "adresses['Координаты адреса клиента'] = temp_coords"
   ]
  },
  {
   "cell_type": "code",
   "execution_count": 73,
   "metadata": {},
   "outputs": [
    {
     "ename": "ValueError",
     "evalue": "Failed to create Point instance from string: unknown format.",
     "output_type": "error",
     "traceback": [
      "\u001b[1;31m---------------------------------------------------------------------------\u001b[0m",
      "\u001b[1;31mValueError\u001b[0m                                Traceback (most recent call last)",
      "\u001b[1;32m<ipython-input-73-3e6ba540f9eb>\u001b[0m in \u001b[0;36m<module>\u001b[1;34m\u001b[0m\n\u001b[0;32m      2\u001b[0m     \u001b[1;32mreturn\u001b[0m \u001b[0mgeodesic\u001b[0m\u001b[1;33m(\u001b[0m\u001b[0mrow\u001b[0m\u001b[1;33m[\u001b[0m\u001b[1;34m'Координаты МЦ'\u001b[0m\u001b[1;33m]\u001b[0m\u001b[1;33m,\u001b[0m \u001b[0mrow\u001b[0m\u001b[1;33m[\u001b[0m\u001b[1;34m'Координаты адреса клиента'\u001b[0m\u001b[1;33m]\u001b[0m\u001b[1;33m)\u001b[0m\u001b[1;33m.\u001b[0m\u001b[0mmeters\u001b[0m\u001b[1;33m\u001b[0m\u001b[1;33m\u001b[0m\u001b[0m\n\u001b[0;32m      3\u001b[0m \u001b[1;33m\u001b[0m\u001b[0m\n\u001b[1;32m----> 4\u001b[1;33m \u001b[0madresses\u001b[0m\u001b[1;33m[\u001b[0m\u001b[1;34m'Расстояние до МЦ'\u001b[0m\u001b[1;33m]\u001b[0m \u001b[1;33m=\u001b[0m \u001b[0madresses\u001b[0m\u001b[1;33m.\u001b[0m\u001b[0mapply\u001b[0m\u001b[1;33m(\u001b[0m\u001b[0mrasst\u001b[0m\u001b[1;33m,\u001b[0m \u001b[0maxis\u001b[0m\u001b[1;33m=\u001b[0m\u001b[1;36m1\u001b[0m\u001b[1;33m)\u001b[0m\u001b[1;33m\u001b[0m\u001b[1;33m\u001b[0m\u001b[0m\n\u001b[0m",
      "\u001b[1;32m~\\Anaconda3\\lib\\site-packages\\pandas\\core\\frame.py\u001b[0m in \u001b[0;36mapply\u001b[1;34m(self, func, axis, raw, result_type, args, **kwds)\u001b[0m\n\u001b[0;32m   6876\u001b[0m             \u001b[0mkwds\u001b[0m\u001b[1;33m=\u001b[0m\u001b[0mkwds\u001b[0m\u001b[1;33m,\u001b[0m\u001b[1;33m\u001b[0m\u001b[1;33m\u001b[0m\u001b[0m\n\u001b[0;32m   6877\u001b[0m         )\n\u001b[1;32m-> 6878\u001b[1;33m         \u001b[1;32mreturn\u001b[0m \u001b[0mop\u001b[0m\u001b[1;33m.\u001b[0m\u001b[0mget_result\u001b[0m\u001b[1;33m(\u001b[0m\u001b[1;33m)\u001b[0m\u001b[1;33m\u001b[0m\u001b[1;33m\u001b[0m\u001b[0m\n\u001b[0m\u001b[0;32m   6879\u001b[0m \u001b[1;33m\u001b[0m\u001b[0m\n\u001b[0;32m   6880\u001b[0m     \u001b[1;32mdef\u001b[0m \u001b[0mapplymap\u001b[0m\u001b[1;33m(\u001b[0m\u001b[0mself\u001b[0m\u001b[1;33m,\u001b[0m \u001b[0mfunc\u001b[0m\u001b[1;33m)\u001b[0m \u001b[1;33m->\u001b[0m \u001b[1;34m\"DataFrame\"\u001b[0m\u001b[1;33m:\u001b[0m\u001b[1;33m\u001b[0m\u001b[1;33m\u001b[0m\u001b[0m\n",
      "\u001b[1;32m~\\Anaconda3\\lib\\site-packages\\pandas\\core\\apply.py\u001b[0m in \u001b[0;36mget_result\u001b[1;34m(self)\u001b[0m\n\u001b[0;32m    184\u001b[0m             \u001b[1;32mreturn\u001b[0m \u001b[0mself\u001b[0m\u001b[1;33m.\u001b[0m\u001b[0mapply_raw\u001b[0m\u001b[1;33m(\u001b[0m\u001b[1;33m)\u001b[0m\u001b[1;33m\u001b[0m\u001b[1;33m\u001b[0m\u001b[0m\n\u001b[0;32m    185\u001b[0m \u001b[1;33m\u001b[0m\u001b[0m\n\u001b[1;32m--> 186\u001b[1;33m         \u001b[1;32mreturn\u001b[0m \u001b[0mself\u001b[0m\u001b[1;33m.\u001b[0m\u001b[0mapply_standard\u001b[0m\u001b[1;33m(\u001b[0m\u001b[1;33m)\u001b[0m\u001b[1;33m\u001b[0m\u001b[1;33m\u001b[0m\u001b[0m\n\u001b[0m\u001b[0;32m    187\u001b[0m \u001b[1;33m\u001b[0m\u001b[0m\n\u001b[0;32m    188\u001b[0m     \u001b[1;32mdef\u001b[0m \u001b[0mapply_empty_result\u001b[0m\u001b[1;33m(\u001b[0m\u001b[0mself\u001b[0m\u001b[1;33m)\u001b[0m\u001b[1;33m:\u001b[0m\u001b[1;33m\u001b[0m\u001b[1;33m\u001b[0m\u001b[0m\n",
      "\u001b[1;32m~\\Anaconda3\\lib\\site-packages\\pandas\\core\\apply.py\u001b[0m in \u001b[0;36mapply_standard\u001b[1;34m(self)\u001b[0m\n\u001b[0;32m    294\u001b[0m             \u001b[1;32mtry\u001b[0m\u001b[1;33m:\u001b[0m\u001b[1;33m\u001b[0m\u001b[1;33m\u001b[0m\u001b[0m\n\u001b[0;32m    295\u001b[0m                 result = libreduction.compute_reduction(\n\u001b[1;32m--> 296\u001b[1;33m                     \u001b[0mvalues\u001b[0m\u001b[1;33m,\u001b[0m \u001b[0mself\u001b[0m\u001b[1;33m.\u001b[0m\u001b[0mf\u001b[0m\u001b[1;33m,\u001b[0m \u001b[0maxis\u001b[0m\u001b[1;33m=\u001b[0m\u001b[0mself\u001b[0m\u001b[1;33m.\u001b[0m\u001b[0maxis\u001b[0m\u001b[1;33m,\u001b[0m \u001b[0mdummy\u001b[0m\u001b[1;33m=\u001b[0m\u001b[0mdummy\u001b[0m\u001b[1;33m,\u001b[0m \u001b[0mlabels\u001b[0m\u001b[1;33m=\u001b[0m\u001b[0mlabels\u001b[0m\u001b[1;33m\u001b[0m\u001b[1;33m\u001b[0m\u001b[0m\n\u001b[0m\u001b[0;32m    297\u001b[0m                 )\n\u001b[0;32m    298\u001b[0m             \u001b[1;32mexcept\u001b[0m \u001b[0mValueError\u001b[0m \u001b[1;32mas\u001b[0m \u001b[0merr\u001b[0m\u001b[1;33m:\u001b[0m\u001b[1;33m\u001b[0m\u001b[1;33m\u001b[0m\u001b[0m\n",
      "\u001b[1;32mpandas\\_libs\\reduction.pyx\u001b[0m in \u001b[0;36mpandas._libs.reduction.compute_reduction\u001b[1;34m()\u001b[0m\n",
      "\u001b[1;32mpandas\\_libs\\reduction.pyx\u001b[0m in \u001b[0;36mpandas._libs.reduction.Reducer.get_result\u001b[1;34m()\u001b[0m\n",
      "\u001b[1;32m<ipython-input-73-3e6ba540f9eb>\u001b[0m in \u001b[0;36mrasst\u001b[1;34m(row)\u001b[0m\n\u001b[0;32m      1\u001b[0m \u001b[1;32mdef\u001b[0m \u001b[0mrasst\u001b[0m\u001b[1;33m(\u001b[0m\u001b[0mrow\u001b[0m\u001b[1;33m)\u001b[0m\u001b[1;33m:\u001b[0m\u001b[1;33m\u001b[0m\u001b[1;33m\u001b[0m\u001b[0m\n\u001b[1;32m----> 2\u001b[1;33m     \u001b[1;32mreturn\u001b[0m \u001b[0mgeodesic\u001b[0m\u001b[1;33m(\u001b[0m\u001b[0mrow\u001b[0m\u001b[1;33m[\u001b[0m\u001b[1;34m'Координаты МЦ'\u001b[0m\u001b[1;33m]\u001b[0m\u001b[1;33m,\u001b[0m \u001b[0mrow\u001b[0m\u001b[1;33m[\u001b[0m\u001b[1;34m'Координаты адреса клиента'\u001b[0m\u001b[1;33m]\u001b[0m\u001b[1;33m)\u001b[0m\u001b[1;33m.\u001b[0m\u001b[0mmeters\u001b[0m\u001b[1;33m\u001b[0m\u001b[1;33m\u001b[0m\u001b[0m\n\u001b[0m\u001b[0;32m      3\u001b[0m \u001b[1;33m\u001b[0m\u001b[0m\n\u001b[0;32m      4\u001b[0m \u001b[0madresses\u001b[0m\u001b[1;33m[\u001b[0m\u001b[1;34m'Расстояние до МЦ'\u001b[0m\u001b[1;33m]\u001b[0m \u001b[1;33m=\u001b[0m \u001b[0madresses\u001b[0m\u001b[1;33m.\u001b[0m\u001b[0mapply\u001b[0m\u001b[1;33m(\u001b[0m\u001b[0mrasst\u001b[0m\u001b[1;33m,\u001b[0m \u001b[0maxis\u001b[0m\u001b[1;33m=\u001b[0m\u001b[1;36m1\u001b[0m\u001b[1;33m)\u001b[0m\u001b[1;33m\u001b[0m\u001b[1;33m\u001b[0m\u001b[0m\n",
      "\u001b[1;32m~\\Anaconda3\\lib\\site-packages\\geopy\\distance.py\u001b[0m in \u001b[0;36m__init__\u001b[1;34m(self, *args, **kwargs)\u001b[0m\n\u001b[0;32m    387\u001b[0m         \u001b[0mkwargs\u001b[0m\u001b[1;33m.\u001b[0m\u001b[0mpop\u001b[0m\u001b[1;33m(\u001b[0m\u001b[1;34m'iterations'\u001b[0m\u001b[1;33m,\u001b[0m \u001b[1;36m0\u001b[0m\u001b[1;33m)\u001b[0m\u001b[1;33m\u001b[0m\u001b[1;33m\u001b[0m\u001b[0m\n\u001b[0;32m    388\u001b[0m         \u001b[0mmajor\u001b[0m\u001b[1;33m,\u001b[0m \u001b[0mminor\u001b[0m\u001b[1;33m,\u001b[0m \u001b[0mf\u001b[0m \u001b[1;33m=\u001b[0m \u001b[0mself\u001b[0m\u001b[1;33m.\u001b[0m\u001b[0mELLIPSOID\u001b[0m\u001b[1;33m\u001b[0m\u001b[1;33m\u001b[0m\u001b[0m\n\u001b[1;32m--> 389\u001b[1;33m         \u001b[0msuper\u001b[0m\u001b[1;33m(\u001b[0m\u001b[0mgeodesic\u001b[0m\u001b[1;33m,\u001b[0m \u001b[0mself\u001b[0m\u001b[1;33m)\u001b[0m\u001b[1;33m.\u001b[0m\u001b[0m__init__\u001b[0m\u001b[1;33m(\u001b[0m\u001b[1;33m*\u001b[0m\u001b[0margs\u001b[0m\u001b[1;33m,\u001b[0m \u001b[1;33m**\u001b[0m\u001b[0mkwargs\u001b[0m\u001b[1;33m)\u001b[0m\u001b[1;33m\u001b[0m\u001b[1;33m\u001b[0m\u001b[0m\n\u001b[0m\u001b[0;32m    390\u001b[0m \u001b[1;33m\u001b[0m\u001b[0m\n\u001b[0;32m    391\u001b[0m     \u001b[1;32mdef\u001b[0m \u001b[0mset_ellipsoid\u001b[0m\u001b[1;33m(\u001b[0m\u001b[0mself\u001b[0m\u001b[1;33m,\u001b[0m \u001b[0mellipsoid\u001b[0m\u001b[1;33m)\u001b[0m\u001b[1;33m:\u001b[0m\u001b[1;33m\u001b[0m\u001b[1;33m\u001b[0m\u001b[0m\n",
      "\u001b[1;32m~\\Anaconda3\\lib\\site-packages\\geopy\\distance.py\u001b[0m in \u001b[0;36m__init__\u001b[1;34m(self, *args, **kwargs)\u001b[0m\n\u001b[0;32m    162\u001b[0m         \u001b[1;32melif\u001b[0m \u001b[0mlen\u001b[0m\u001b[1;33m(\u001b[0m\u001b[0margs\u001b[0m\u001b[1;33m)\u001b[0m \u001b[1;33m>\u001b[0m \u001b[1;36m1\u001b[0m\u001b[1;33m:\u001b[0m\u001b[1;33m\u001b[0m\u001b[1;33m\u001b[0m\u001b[0m\n\u001b[0;32m    163\u001b[0m             \u001b[1;32mfor\u001b[0m \u001b[0ma\u001b[0m\u001b[1;33m,\u001b[0m \u001b[0mb\u001b[0m \u001b[1;32min\u001b[0m \u001b[0mutil\u001b[0m\u001b[1;33m.\u001b[0m\u001b[0mpairwise\u001b[0m\u001b[1;33m(\u001b[0m\u001b[0margs\u001b[0m\u001b[1;33m)\u001b[0m\u001b[1;33m:\u001b[0m\u001b[1;33m\u001b[0m\u001b[1;33m\u001b[0m\u001b[0m\n\u001b[1;32m--> 164\u001b[1;33m                 \u001b[0mkilometers\u001b[0m \u001b[1;33m+=\u001b[0m \u001b[0mself\u001b[0m\u001b[1;33m.\u001b[0m\u001b[0mmeasure\u001b[0m\u001b[1;33m(\u001b[0m\u001b[0ma\u001b[0m\u001b[1;33m,\u001b[0m \u001b[0mb\u001b[0m\u001b[1;33m)\u001b[0m\u001b[1;33m\u001b[0m\u001b[1;33m\u001b[0m\u001b[0m\n\u001b[0m\u001b[0;32m    165\u001b[0m \u001b[1;33m\u001b[0m\u001b[0m\n\u001b[0;32m    166\u001b[0m         \u001b[0mkilometers\u001b[0m \u001b[1;33m+=\u001b[0m \u001b[0munits\u001b[0m\u001b[1;33m.\u001b[0m\u001b[0mkilometers\u001b[0m\u001b[1;33m(\u001b[0m\u001b[1;33m**\u001b[0m\u001b[0mkwargs\u001b[0m\u001b[1;33m)\u001b[0m\u001b[1;33m\u001b[0m\u001b[1;33m\u001b[0m\u001b[0m\n",
      "\u001b[1;32m~\\Anaconda3\\lib\\site-packages\\geopy\\distance.py\u001b[0m in \u001b[0;36mmeasure\u001b[1;34m(self, a, b)\u001b[0m\n\u001b[0;32m    408\u001b[0m     \u001b[1;31m# Call geographiclib routines for measure and destination\u001b[0m\u001b[1;33m\u001b[0m\u001b[1;33m\u001b[0m\u001b[1;33m\u001b[0m\u001b[0m\n\u001b[0;32m    409\u001b[0m     \u001b[1;32mdef\u001b[0m \u001b[0mmeasure\u001b[0m\u001b[1;33m(\u001b[0m\u001b[0mself\u001b[0m\u001b[1;33m,\u001b[0m \u001b[0ma\u001b[0m\u001b[1;33m,\u001b[0m \u001b[0mb\u001b[0m\u001b[1;33m)\u001b[0m\u001b[1;33m:\u001b[0m\u001b[1;33m\u001b[0m\u001b[1;33m\u001b[0m\u001b[0m\n\u001b[1;32m--> 410\u001b[1;33m         \u001b[0ma\u001b[0m\u001b[1;33m,\u001b[0m \u001b[0mb\u001b[0m \u001b[1;33m=\u001b[0m \u001b[0mPoint\u001b[0m\u001b[1;33m(\u001b[0m\u001b[0ma\u001b[0m\u001b[1;33m)\u001b[0m\u001b[1;33m,\u001b[0m \u001b[0mPoint\u001b[0m\u001b[1;33m(\u001b[0m\u001b[0mb\u001b[0m\u001b[1;33m)\u001b[0m\u001b[1;33m\u001b[0m\u001b[1;33m\u001b[0m\u001b[0m\n\u001b[0m\u001b[0;32m    411\u001b[0m         \u001b[0mlat1\u001b[0m\u001b[1;33m,\u001b[0m \u001b[0mlon1\u001b[0m \u001b[1;33m=\u001b[0m \u001b[0ma\u001b[0m\u001b[1;33m.\u001b[0m\u001b[0mlatitude\u001b[0m\u001b[1;33m,\u001b[0m \u001b[0ma\u001b[0m\u001b[1;33m.\u001b[0m\u001b[0mlongitude\u001b[0m\u001b[1;33m\u001b[0m\u001b[1;33m\u001b[0m\u001b[0m\n\u001b[0;32m    412\u001b[0m         \u001b[0mlat2\u001b[0m\u001b[1;33m,\u001b[0m \u001b[0mlon2\u001b[0m \u001b[1;33m=\u001b[0m \u001b[0mb\u001b[0m\u001b[1;33m.\u001b[0m\u001b[0mlatitude\u001b[0m\u001b[1;33m,\u001b[0m \u001b[0mb\u001b[0m\u001b[1;33m.\u001b[0m\u001b[0mlongitude\u001b[0m\u001b[1;33m\u001b[0m\u001b[1;33m\u001b[0m\u001b[0m\n",
      "\u001b[1;32m~\\Anaconda3\\lib\\site-packages\\geopy\\point.py\u001b[0m in \u001b[0;36m__new__\u001b[1;34m(cls, latitude, longitude, altitude)\u001b[0m\n\u001b[0;32m    154\u001b[0m                 \u001b[1;32mreturn\u001b[0m \u001b[0mcls\u001b[0m\u001b[1;33m.\u001b[0m\u001b[0mfrom_point\u001b[0m\u001b[1;33m(\u001b[0m\u001b[0marg\u001b[0m\u001b[1;33m)\u001b[0m\u001b[1;33m\u001b[0m\u001b[1;33m\u001b[0m\u001b[0m\n\u001b[0;32m    155\u001b[0m             \u001b[1;32melif\u001b[0m \u001b[0misinstance\u001b[0m\u001b[1;33m(\u001b[0m\u001b[0marg\u001b[0m\u001b[1;33m,\u001b[0m \u001b[0mstring_compare\u001b[0m\u001b[1;33m)\u001b[0m\u001b[1;33m:\u001b[0m\u001b[1;33m\u001b[0m\u001b[1;33m\u001b[0m\u001b[0m\n\u001b[1;32m--> 156\u001b[1;33m                 \u001b[1;32mreturn\u001b[0m \u001b[0mcls\u001b[0m\u001b[1;33m.\u001b[0m\u001b[0mfrom_string\u001b[0m\u001b[1;33m(\u001b[0m\u001b[0marg\u001b[0m\u001b[1;33m)\u001b[0m\u001b[1;33m\u001b[0m\u001b[1;33m\u001b[0m\u001b[0m\n\u001b[0m\u001b[0;32m    157\u001b[0m             \u001b[1;32melse\u001b[0m\u001b[1;33m:\u001b[0m\u001b[1;33m\u001b[0m\u001b[1;33m\u001b[0m\u001b[0m\n\u001b[0;32m    158\u001b[0m                 \u001b[1;32mtry\u001b[0m\u001b[1;33m:\u001b[0m\u001b[1;33m\u001b[0m\u001b[1;33m\u001b[0m\u001b[0m\n",
      "\u001b[1;32m~\\Anaconda3\\lib\\site-packages\\geopy\\point.py\u001b[0m in \u001b[0;36mfrom_string\u001b[1;34m(cls, string)\u001b[0m\n\u001b[0;32m    389\u001b[0m         \u001b[1;32melse\u001b[0m\u001b[1;33m:\u001b[0m\u001b[1;33m\u001b[0m\u001b[1;33m\u001b[0m\u001b[0m\n\u001b[0;32m    390\u001b[0m             raise ValueError(\n\u001b[1;32m--> 391\u001b[1;33m                 \u001b[1;34m\"Failed to create Point instance from string: unknown format.\"\u001b[0m\u001b[1;33m\u001b[0m\u001b[1;33m\u001b[0m\u001b[0m\n\u001b[0m\u001b[0;32m    392\u001b[0m             )\n\u001b[0;32m    393\u001b[0m \u001b[1;33m\u001b[0m\u001b[0m\n",
      "\u001b[1;31mValueError\u001b[0m: Failed to create Point instance from string: unknown format."
     ]
    }
   ],
   "source": []
  },
  {
   "cell_type": "code",
   "execution_count": 88,
   "metadata": {},
   "outputs": [
    {
     "data": {
      "text/html": [
       "<div>\n",
       "<style scoped>\n",
       "    .dataframe tbody tr th:only-of-type {\n",
       "        vertical-align: middle;\n",
       "    }\n",
       "\n",
       "    .dataframe tbody tr th {\n",
       "        vertical-align: top;\n",
       "    }\n",
       "\n",
       "    .dataframe thead th {\n",
       "        text-align: right;\n",
       "    }\n",
       "</style>\n",
       "<table border=\"1\" class=\"dataframe\">\n",
       "  <thead>\n",
       "    <tr style=\"text-align: right;\">\n",
       "      <th></th>\n",
       "      <th>Доктор</th>\n",
       "      <th>Номер карты</th>\n",
       "      <th>Пациент</th>\n",
       "      <th>Категория клиента</th>\n",
       "      <th>Год</th>\n",
       "      <th>Дата приема</th>\n",
       "      <th>Дата первого посещения Пациента</th>\n",
       "      <th>Дата последнего посещения Пациента</th>\n",
       "      <th>Категория крупно</th>\n",
       "      <th>Наименование услуги</th>\n",
       "      <th>...</th>\n",
       "      <th>Sum([Количество])</th>\n",
       "      <th>Филиал</th>\n",
       "      <th>Специализация АУ_ОСН</th>\n",
       "      <th>Ф_Полный адрес</th>\n",
       "      <th>Ф_Улица</th>\n",
       "      <th>Ф_Дом</th>\n",
       "      <th>Ф_Корпус</th>\n",
       "      <th>Адрес</th>\n",
       "      <th>Координаты МЦ</th>\n",
       "      <th>Координаты адреса клиента</th>\n",
       "    </tr>\n",
       "  </thead>\n",
       "  <tbody>\n",
       "    <tr>\n",
       "      <th>0</th>\n",
       "      <td>Буевич Максим Вадимович</td>\n",
       "      <td>460</td>\n",
       "      <td>Салаева Валерия Александровна</td>\n",
       "      <td>НАЛ</td>\n",
       "      <td>2019</td>\n",
       "      <td>2019-08-27</td>\n",
       "      <td>2011-04-23</td>\n",
       "      <td>2020-07-27</td>\n",
       "      <td>остеопатия</td>\n",
       "      <td>Остеопатия детям в амбулатории (1 сеанс)</td>\n",
       "      <td>...</td>\n",
       "      <td>1</td>\n",
       "      <td>Б.П. 20</td>\n",
       "      <td>Невролог МВ</td>\n",
       "      <td>г. Санкт-Петербург  пр-кт. Невский</td>\n",
       "      <td>пр-кт Невский</td>\n",
       "      <td>27</td>\n",
       "      <td>-</td>\n",
       "      <td>СПБ, пр-кт Невский, дом 27</td>\n",
       "      <td>59.957827, 30.300848</td>\n",
       "      <td>59.93502, 30.327052</td>\n",
       "    </tr>\n",
       "    <tr>\n",
       "      <th>1</th>\n",
       "      <td>Якуценя Елена Николаевна</td>\n",
       "      <td>3368</td>\n",
       "      <td>Белова Елена Ивановна</td>\n",
       "      <td>НАЛ</td>\n",
       "      <td>2020</td>\n",
       "      <td>2020-06-03</td>\n",
       "      <td>2018-12-05</td>\n",
       "      <td>2020-06-17</td>\n",
       "      <td>остеопатия</td>\n",
       "      <td>Остеопатия взрослым в амбулатории (1 сеанс)</td>\n",
       "      <td>...</td>\n",
       "      <td>1</td>\n",
       "      <td>Щерб.11</td>\n",
       "      <td>Восстановительная медицина</td>\n",
       "      <td>г.Санкт-Петербург, пр-кт.Институтский</td>\n",
       "      <td>пр-кт Институтский</td>\n",
       "      <td>4</td>\n",
       "      <td>2</td>\n",
       "      <td>СПБ, пр-кт Институтский, дом 4</td>\n",
       "      <td>60.028631, 30.296581</td>\n",
       "      <td>59.997514, 30.343698</td>\n",
       "    </tr>\n",
       "    <tr>\n",
       "      <th>2</th>\n",
       "      <td>Якуценя Елена Николаевна</td>\n",
       "      <td>3368</td>\n",
       "      <td>Белова Елена Ивановна</td>\n",
       "      <td>НАЛ</td>\n",
       "      <td>2020</td>\n",
       "      <td>2020-06-17</td>\n",
       "      <td>2018-12-05</td>\n",
       "      <td>2020-06-17</td>\n",
       "      <td>остеопатия</td>\n",
       "      <td>Остеопатия взрослым в амбулатории (1 сеанс)</td>\n",
       "      <td>...</td>\n",
       "      <td>1</td>\n",
       "      <td>Щерб.11</td>\n",
       "      <td>Восстановительная медицина</td>\n",
       "      <td>г.Санкт-Петербург, пр-кт.Институтский</td>\n",
       "      <td>пр-кт Институтский</td>\n",
       "      <td>4</td>\n",
       "      <td>2</td>\n",
       "      <td>СПБ, пр-кт Институтский, дом 4</td>\n",
       "      <td>60.028631, 30.296581</td>\n",
       "      <td>59.997514, 30.343698</td>\n",
       "    </tr>\n",
       "    <tr>\n",
       "      <th>3</th>\n",
       "      <td>Эйвазов Сардар Магомедгади Оглы</td>\n",
       "      <td>3409</td>\n",
       "      <td>Макаров Дмитрий Сергеевич</td>\n",
       "      <td>МЦ АБ</td>\n",
       "      <td>2020</td>\n",
       "      <td>2020-03-18</td>\n",
       "      <td>2010-08-11</td>\n",
       "      <td>2020-06-15</td>\n",
       "      <td>остеопатия</td>\n",
       "      <td>Остеопатия взрослым в амбулатории (1 сеанс)</td>\n",
       "      <td>...</td>\n",
       "      <td>1</td>\n",
       "      <td>РЦ БС 45</td>\n",
       "      <td>Реабилитолог</td>\n",
       "      <td>195112 г.Санкт-Петербург, ул.Республиканская</td>\n",
       "      <td>ул Республиканская</td>\n",
       "      <td>18</td>\n",
       "      <td>1</td>\n",
       "      <td>СПБ, ул Республиканская, дом 18</td>\n",
       "      <td>59.969601, 30.341982</td>\n",
       "      <td>59.934267, 30.412033</td>\n",
       "    </tr>\n",
       "    <tr>\n",
       "      <th>4</th>\n",
       "      <td>Эйвазов Сардар Магомедгади Оглы</td>\n",
       "      <td>3409</td>\n",
       "      <td>Макаров Дмитрий Сергеевич</td>\n",
       "      <td>МЦ АБ</td>\n",
       "      <td>2020</td>\n",
       "      <td>2020-03-26</td>\n",
       "      <td>2010-08-11</td>\n",
       "      <td>2020-06-15</td>\n",
       "      <td>остеопатия</td>\n",
       "      <td>Остеопатия взрослым в амбулатории (1 сеанс)</td>\n",
       "      <td>...</td>\n",
       "      <td>1</td>\n",
       "      <td>РЦ БС 45</td>\n",
       "      <td>Реабилитолог</td>\n",
       "      <td>195112 г.Санкт-Петербург, ул.Республиканская</td>\n",
       "      <td>ул Республиканская</td>\n",
       "      <td>18</td>\n",
       "      <td>1</td>\n",
       "      <td>СПБ, ул Республиканская, дом 18</td>\n",
       "      <td>59.969601, 30.341982</td>\n",
       "      <td>59.934267, 30.412033</td>\n",
       "    </tr>\n",
       "    <tr>\n",
       "      <th>...</th>\n",
       "      <td>...</td>\n",
       "      <td>...</td>\n",
       "      <td>...</td>\n",
       "      <td>...</td>\n",
       "      <td>...</td>\n",
       "      <td>...</td>\n",
       "      <td>...</td>\n",
       "      <td>...</td>\n",
       "      <td>...</td>\n",
       "      <td>...</td>\n",
       "      <td>...</td>\n",
       "      <td>...</td>\n",
       "      <td>...</td>\n",
       "      <td>...</td>\n",
       "      <td>...</td>\n",
       "      <td>...</td>\n",
       "      <td>...</td>\n",
       "      <td>...</td>\n",
       "      <td>...</td>\n",
       "      <td>...</td>\n",
       "      <td>...</td>\n",
       "    </tr>\n",
       "    <tr>\n",
       "      <th>3009</th>\n",
       "      <td>Якуценя Елена Николаевна</td>\n",
       "      <td>990473785</td>\n",
       "      <td>Никонов Михаил Павлович</td>\n",
       "      <td>НАЛ</td>\n",
       "      <td>2019</td>\n",
       "      <td>2019-10-30</td>\n",
       "      <td>2019-10-26</td>\n",
       "      <td>2020-07-29</td>\n",
       "      <td>остеопатия</td>\n",
       "      <td>Остеопатия детям в амбулатории (1 сеанс)</td>\n",
       "      <td>...</td>\n",
       "      <td>1</td>\n",
       "      <td>Щерб.11</td>\n",
       "      <td>Восстановительная медицина</td>\n",
       "      <td>NaN</td>\n",
       "      <td>ул Матроса Железняка</td>\n",
       "      <td>57</td>\n",
       "      <td>NaN</td>\n",
       "      <td>СПБ, ул Матроса Железняка, дом 57</td>\n",
       "      <td>60.028631, 30.296581</td>\n",
       "      <td>60.000285, 30.316245</td>\n",
       "    </tr>\n",
       "    <tr>\n",
       "      <th>3010</th>\n",
       "      <td>Якуценя Елена Николаевна</td>\n",
       "      <td>990473785</td>\n",
       "      <td>Никонов Михаил Павлович</td>\n",
       "      <td>НАЛ</td>\n",
       "      <td>2019</td>\n",
       "      <td>2019-11-20</td>\n",
       "      <td>2019-10-26</td>\n",
       "      <td>2020-07-29</td>\n",
       "      <td>остеопатия</td>\n",
       "      <td>Остеопатия детям в амбулатории (1 сеанс)</td>\n",
       "      <td>...</td>\n",
       "      <td>1</td>\n",
       "      <td>Щерб.11</td>\n",
       "      <td>Восстановительная медицина</td>\n",
       "      <td>NaN</td>\n",
       "      <td>ул Матроса Железняка</td>\n",
       "      <td>57</td>\n",
       "      <td>NaN</td>\n",
       "      <td>СПБ, ул Матроса Железняка, дом 57</td>\n",
       "      <td>60.028631, 30.296581</td>\n",
       "      <td>60.000285, 30.316245</td>\n",
       "    </tr>\n",
       "    <tr>\n",
       "      <th>3011</th>\n",
       "      <td>Гусева Ольга Анатольевна</td>\n",
       "      <td>990474122</td>\n",
       "      <td>Бушуева Елизавета Артёмовна</td>\n",
       "      <td>СК факт</td>\n",
       "      <td>2019</td>\n",
       "      <td>2019-11-07</td>\n",
       "      <td>2019-10-26</td>\n",
       "      <td>2020-05-22</td>\n",
       "      <td>остеопатия</td>\n",
       "      <td>Остеопатия детям в амбулатории (1 сеанс)</td>\n",
       "      <td>...</td>\n",
       "      <td>1</td>\n",
       "      <td>Гаврил.11</td>\n",
       "      <td>Невролог МД</td>\n",
       "      <td>NaN</td>\n",
       "      <td>ул Заречная</td>\n",
       "      <td>10</td>\n",
       "      <td>NaN</td>\n",
       "      <td>СПБ, ул Заречная, дом 10</td>\n",
       "      <td>60.078666, 30.33714</td>\n",
       "      <td>59.776623, 30.147254</td>\n",
       "    </tr>\n",
       "    <tr>\n",
       "      <th>3012</th>\n",
       "      <td>Гусева Ольга Анатольевна</td>\n",
       "      <td>990474122</td>\n",
       "      <td>Бушуева Елизавета Артёмовна</td>\n",
       "      <td>СК факт</td>\n",
       "      <td>2019</td>\n",
       "      <td>2019-11-21</td>\n",
       "      <td>2019-10-26</td>\n",
       "      <td>2020-05-22</td>\n",
       "      <td>остеопатия</td>\n",
       "      <td>Остеопатия детям в амбулатории (1 сеанс)</td>\n",
       "      <td>...</td>\n",
       "      <td>1</td>\n",
       "      <td>Гаврил.11</td>\n",
       "      <td>Невролог МД</td>\n",
       "      <td>NaN</td>\n",
       "      <td>ул Заречная</td>\n",
       "      <td>10</td>\n",
       "      <td>NaN</td>\n",
       "      <td>СПБ, ул Заречная, дом 10</td>\n",
       "      <td>60.078666, 30.33714</td>\n",
       "      <td>59.776623, 30.147254</td>\n",
       "    </tr>\n",
       "    <tr>\n",
       "      <th>3013</th>\n",
       "      <td>Якуценя Елена Николаевна</td>\n",
       "      <td>990503229</td>\n",
       "      <td>Чернышева Татьяна Петровна</td>\n",
       "      <td>СК факт</td>\n",
       "      <td>2020</td>\n",
       "      <td>2020-06-15</td>\n",
       "      <td>2020-06-15</td>\n",
       "      <td>2020-06-15</td>\n",
       "      <td>остеопатия</td>\n",
       "      <td>Остеопатия взрослым в амбулатории (1 сеанс)</td>\n",
       "      <td>...</td>\n",
       "      <td>1</td>\n",
       "      <td>Ст.П. 39А</td>\n",
       "      <td>Восстановительная медицина</td>\n",
       "      <td>NaN</td>\n",
       "      <td>ул Зины Портновой</td>\n",
       "      <td>42</td>\n",
       "      <td>NaN</td>\n",
       "      <td>СПБ, ул Зины Портновой, дом 42</td>\n",
       "      <td>59.902971, 30.275794</td>\n",
       "      <td>59.849157, 30.257972</td>\n",
       "    </tr>\n",
       "  </tbody>\n",
       "</table>\n",
       "<p>2983 rows × 21 columns</p>\n",
       "</div>"
      ],
      "text/plain": [
       "                               Доктор  Номер карты  \\\n",
       "0             Буевич Максим Вадимович          460   \n",
       "1            Якуценя Елена Николаевна         3368   \n",
       "2            Якуценя Елена Николаевна         3368   \n",
       "3     Эйвазов Сардар Магомедгади Оглы         3409   \n",
       "4     Эйвазов Сардар Магомедгади Оглы         3409   \n",
       "...                               ...          ...   \n",
       "3009         Якуценя Елена Николаевна    990473785   \n",
       "3010         Якуценя Елена Николаевна    990473785   \n",
       "3011         Гусева Ольга Анатольевна    990474122   \n",
       "3012         Гусева Ольга Анатольевна    990474122   \n",
       "3013         Якуценя Елена Николаевна    990503229   \n",
       "\n",
       "                            Пациент Категория клиента   Год Дата приема  \\\n",
       "0     Салаева Валерия Александровна               НАЛ  2019  2019-08-27   \n",
       "1             Белова Елена Ивановна               НАЛ  2020  2020-06-03   \n",
       "2             Белова Елена Ивановна               НАЛ  2020  2020-06-17   \n",
       "3         Макаров Дмитрий Сергеевич             МЦ АБ  2020  2020-03-18   \n",
       "4         Макаров Дмитрий Сергеевич             МЦ АБ  2020  2020-03-26   \n",
       "...                             ...               ...   ...         ...   \n",
       "3009        Никонов Михаил Павлович               НАЛ  2019  2019-10-30   \n",
       "3010        Никонов Михаил Павлович               НАЛ  2019  2019-11-20   \n",
       "3011    Бушуева Елизавета Артёмовна           СК факт  2019  2019-11-07   \n",
       "3012    Бушуева Елизавета Артёмовна           СК факт  2019  2019-11-21   \n",
       "3013     Чернышева Татьяна Петровна           СК факт  2020  2020-06-15   \n",
       "\n",
       "     Дата первого посещения Пациента Дата последнего посещения Пациента  \\\n",
       "0                         2011-04-23                         2020-07-27   \n",
       "1                         2018-12-05                         2020-06-17   \n",
       "2                         2018-12-05                         2020-06-17   \n",
       "3                         2010-08-11                         2020-06-15   \n",
       "4                         2010-08-11                         2020-06-15   \n",
       "...                              ...                                ...   \n",
       "3009                      2019-10-26                         2020-07-29   \n",
       "3010                      2019-10-26                         2020-07-29   \n",
       "3011                      2019-10-26                         2020-05-22   \n",
       "3012                      2019-10-26                         2020-05-22   \n",
       "3013                      2020-06-15                         2020-06-15   \n",
       "\n",
       "     Категория крупно                          Наименование услуги  ...  \\\n",
       "0          остеопатия     Остеопатия детям в амбулатории (1 сеанс)  ...   \n",
       "1          остеопатия  Остеопатия взрослым в амбулатории (1 сеанс)  ...   \n",
       "2          остеопатия  Остеопатия взрослым в амбулатории (1 сеанс)  ...   \n",
       "3          остеопатия  Остеопатия взрослым в амбулатории (1 сеанс)  ...   \n",
       "4          остеопатия  Остеопатия взрослым в амбулатории (1 сеанс)  ...   \n",
       "...               ...                                          ...  ...   \n",
       "3009       остеопатия     Остеопатия детям в амбулатории (1 сеанс)  ...   \n",
       "3010       остеопатия     Остеопатия детям в амбулатории (1 сеанс)  ...   \n",
       "3011       остеопатия     Остеопатия детям в амбулатории (1 сеанс)  ...   \n",
       "3012       остеопатия     Остеопатия детям в амбулатории (1 сеанс)  ...   \n",
       "3013       остеопатия  Остеопатия взрослым в амбулатории (1 сеанс)  ...   \n",
       "\n",
       "      Sum([Количество])     Филиал        Специализация АУ_ОСН  \\\n",
       "0                     1    Б.П. 20                 Невролог МВ   \n",
       "1                     1    Щерб.11  Восстановительная медицина   \n",
       "2                     1    Щерб.11  Восстановительная медицина   \n",
       "3                     1   РЦ БС 45                Реабилитолог   \n",
       "4                     1   РЦ БС 45                Реабилитолог   \n",
       "...                 ...        ...                         ...   \n",
       "3009                  1    Щерб.11  Восстановительная медицина   \n",
       "3010                  1    Щерб.11  Восстановительная медицина   \n",
       "3011                  1  Гаврил.11                 Невролог МД   \n",
       "3012                  1  Гаврил.11                 Невролог МД   \n",
       "3013                  1  Ст.П. 39А  Восстановительная медицина   \n",
       "\n",
       "                                    Ф_Полный адрес               Ф_Улица  \\\n",
       "0               г. Санкт-Петербург  пр-кт. Невский         пр-кт Невский   \n",
       "1            г.Санкт-Петербург, пр-кт.Институтский    пр-кт Институтский   \n",
       "2            г.Санкт-Петербург, пр-кт.Институтский    пр-кт Институтский   \n",
       "3     195112 г.Санкт-Петербург, ул.Республиканская    ул Республиканская   \n",
       "4     195112 г.Санкт-Петербург, ул.Республиканская    ул Республиканская   \n",
       "...                                            ...                   ...   \n",
       "3009                                           NaN  ул Матроса Железняка   \n",
       "3010                                           NaN  ул Матроса Железняка   \n",
       "3011                                           NaN           ул Заречная   \n",
       "3012                                           NaN           ул Заречная   \n",
       "3013                                           NaN     ул Зины Портновой   \n",
       "\n",
       "     Ф_Дом Ф_Корпус                              Адрес         Координаты МЦ  \\\n",
       "0       27        -         СПБ, пр-кт Невский, дом 27  59.957827, 30.300848   \n",
       "1        4        2     СПБ, пр-кт Институтский, дом 4  60.028631, 30.296581   \n",
       "2        4        2     СПБ, пр-кт Институтский, дом 4  60.028631, 30.296581   \n",
       "3       18        1    СПБ, ул Республиканская, дом 18  59.969601, 30.341982   \n",
       "4       18        1    СПБ, ул Республиканская, дом 18  59.969601, 30.341982   \n",
       "...    ...      ...                                ...                   ...   \n",
       "3009    57      NaN  СПБ, ул Матроса Железняка, дом 57  60.028631, 30.296581   \n",
       "3010    57      NaN  СПБ, ул Матроса Железняка, дом 57  60.028631, 30.296581   \n",
       "3011    10      NaN           СПБ, ул Заречная, дом 10   60.078666, 30.33714   \n",
       "3012    10      NaN           СПБ, ул Заречная, дом 10   60.078666, 30.33714   \n",
       "3013    42      NaN     СПБ, ул Зины Портновой, дом 42  59.902971, 30.275794   \n",
       "\n",
       "     Координаты адреса клиента  \n",
       "0          59.93502, 30.327052  \n",
       "1         59.997514, 30.343698  \n",
       "2         59.997514, 30.343698  \n",
       "3         59.934267, 30.412033  \n",
       "4         59.934267, 30.412033  \n",
       "...                        ...  \n",
       "3009      60.000285, 30.316245  \n",
       "3010      60.000285, 30.316245  \n",
       "3011      59.776623, 30.147254  \n",
       "3012      59.776623, 30.147254  \n",
       "3013      59.849157, 30.257972  \n",
       "\n",
       "[2983 rows x 21 columns]"
      ]
     },
     "execution_count": 88,
     "metadata": {},
     "output_type": "execute_result"
    }
   ],
   "source": [
    "adresses"
   ]
  },
  {
   "cell_type": "code",
   "execution_count": 91,
   "metadata": {},
   "outputs": [
    {
     "data": {
      "text/plain": [
       "1040"
      ]
     },
     "execution_count": 91,
     "metadata": {},
     "output_type": "execute_result"
    }
   ],
   "source": [
    "s1 = set(adresses['Адрес'].tolist())\n",
    "len(s1)"
   ]
  },
  {
   "cell_type": "code",
   "execution_count": null,
   "metadata": {},
   "outputs": [],
   "source": []
  },
  {
   "cell_type": "code",
   "execution_count": null,
   "metadata": {},
   "outputs": [],
   "source": []
  },
  {
   "cell_type": "code",
   "execution_count": 92,
   "metadata": {},
   "outputs": [],
   "source": [
    "temp_dct = dict(zip(list(s1), ['' for j in range(len(s1))]))"
   ]
  },
  {
   "cell_type": "code",
   "execution_count": 96,
   "metadata": {},
   "outputs": [],
   "source": [
    "import time\n",
    "for key,val in temp_dct.items():\n",
    "    if val == '':\n",
    "        temp_dct[key] = coord_yandex(key)\n",
    "        time.sleep(0.1)"
   ]
  },
  {
   "cell_type": "code",
   "execution_count": 98,
   "metadata": {},
   "outputs": [
    {
     "data": {
      "text/plain": [
       "0"
      ]
     },
     "execution_count": 98,
     "metadata": {},
     "output_type": "execute_result"
    }
   ],
   "source": [
    "len([i for i in temp_dct.values() if i ==''])"
   ]
  },
  {
   "cell_type": "code",
   "execution_count": 100,
   "metadata": {},
   "outputs": [
    {
     "name": "stderr",
     "output_type": "stream",
     "text": [
      "C:\\Users\\AmanovRA\\Anaconda3\\lib\\site-packages\\ipykernel_launcher.py:1: SettingWithCopyWarning: \n",
      "A value is trying to be set on a copy of a slice from a DataFrame.\n",
      "Try using .loc[row_indexer,col_indexer] = value instead\n",
      "\n",
      "See the caveats in the documentation: https://pandas.pydata.org/pandas-docs/stable/user_guide/indexing.html#returning-a-view-versus-a-copy\n",
      "  \"\"\"Entry point for launching an IPython kernel.\n"
     ]
    }
   ],
   "source": [
    "adresses['Координаты адреса клиента'] = adresses['Адрес'].apply(lambda x: temp_dct[x])"
   ]
  },
  {
   "cell_type": "code",
   "execution_count": 104,
   "metadata": {},
   "outputs": [
    {
     "name": "stderr",
     "output_type": "stream",
     "text": [
      "C:\\Users\\AmanovRA\\Anaconda3\\lib\\site-packages\\ipykernel_launcher.py:4: SettingWithCopyWarning: \n",
      "A value is trying to be set on a copy of a slice from a DataFrame.\n",
      "Try using .loc[row_indexer,col_indexer] = value instead\n",
      "\n",
      "See the caveats in the documentation: https://pandas.pydata.org/pandas-docs/stable/user_guide/indexing.html#returning-a-view-versus-a-copy\n",
      "  after removing the cwd from sys.path.\n"
     ]
    }
   ],
   "source": [
    "def rasst(row):\n",
    "    return geodesic(row['Координаты МЦ'], row['Координаты адреса клиента']).meters\n",
    "\n",
    "adresses['Расстояние до МЦ'] = adresses.apply(rasst, axis=1)"
   ]
  },
  {
   "cell_type": "code",
   "execution_count": 106,
   "metadata": {},
   "outputs": [
    {
     "data": {
      "text/plain": [
       "count     2983.000000\n",
       "mean      7157.954381\n",
       "std       6638.318988\n",
       "min          0.000000\n",
       "25%       2306.474438\n",
       "50%       5377.366481\n",
       "75%       9700.044088\n",
       "max      75569.451197\n",
       "Name: Расстояние до МЦ, dtype: float64"
      ]
     },
     "execution_count": 106,
     "metadata": {},
     "output_type": "execute_result"
    }
   ],
   "source": [
    "adresses['Расстояние до МЦ'].describe()"
   ]
  },
  {
   "cell_type": "code",
   "execution_count": 107,
   "metadata": {},
   "outputs": [
    {
     "data": {
      "text/plain": [
       "<matplotlib.axes._subplots.AxesSubplot at 0x24663d71bc8>"
      ]
     },
     "execution_count": 107,
     "metadata": {},
     "output_type": "execute_result"
    },
    {
     "data": {
      "image/png": "[encoded data removed]",
      "text/plain": [
       "<Figure size 432x288 with 1 Axes>"
      ]
     },
     "metadata": {
      "needs_background": "light"
     },
     "output_type": "display_data"
    }
   ],
   "source": [
    "import matplotlib.pyplot as plt\n",
    "%matplotlib inline\n",
    "\n",
    "adresses['Расстояние до МЦ']"
   ]
  },
  {
   "cell_type": "code",
   "execution_count": 108,
   "metadata": {},
   "outputs": [
    {
     "data": {
      "text/plain": [
       "(7157.954380889469, 6919.636903965512, 7396.271857813425)"
      ]
     },
     "execution_count": 108,
     "metadata": {},
     "output_type": "execute_result"
    }
   ],
   "source": [
    "import numpy as np\n",
    "import scipy.stats\n",
    "\n",
    "\n",
    "def mean_confidence_interval(data, confidence=0.95):\n",
    "    a = 1.0 * np.array(data)\n",
    "    n = len(a)\n",
    "    m, se = np.mean(a), scipy.stats.sem(a)\n",
    "    h = se * scipy.stats.t.ppf((1 + confidence) / 2., n-1)\n",
    "    return m, m-h, m+h\n",
    "\n",
    "mean_confidence_interval(adresses['Расстояние до МЦ'])"
   ]
  },
  {
   "cell_type": "code",
   "execution_count": 160,
   "metadata": {},
   "outputs": [],
   "source": [
    "adresses_new = adresses.drop_duplicates(subset=['Номер карты', 'Доктор'])"
   ]
  },
  {
   "cell_type": "code",
   "execution_count": 162,
   "metadata": {},
   "outputs": [],
   "source": [
    "grop_adresses_new = adresses_new.groupby(['Доктор', 'Филиал'], as_index=False).agg({'Расстояние до МЦ' : 'median'})"
   ]
  },
  {
   "cell_type": "code",
   "execution_count": 163,
   "metadata": {},
   "outputs": [
    {
     "data": {
      "text/html": [
       "<div>\n",
       "<style scoped>\n",
       "    .dataframe tbody tr th:only-of-type {\n",
       "        vertical-align: middle;\n",
       "    }\n",
       "\n",
       "    .dataframe tbody tr th {\n",
       "        vertical-align: top;\n",
       "    }\n",
       "\n",
       "    .dataframe thead th {\n",
       "        text-align: right;\n",
       "    }\n",
       "</style>\n",
       "<table border=\"1\" class=\"dataframe\">\n",
       "  <thead>\n",
       "    <tr style=\"text-align: right;\">\n",
       "      <th></th>\n",
       "      <th>Доктор</th>\n",
       "      <th>Филиал</th>\n",
       "      <th>Расстояние до МЦ</th>\n",
       "    </tr>\n",
       "  </thead>\n",
       "  <tbody>\n",
       "    <tr>\n",
       "      <th>0</th>\n",
       "      <td>Буевич Максим Вадимович</td>\n",
       "      <td>Б.П. 20</td>\n",
       "      <td>7282.050453</td>\n",
       "    </tr>\n",
       "    <tr>\n",
       "      <th>1</th>\n",
       "      <td>Буевич Максим Вадимович</td>\n",
       "      <td>Б.С. 45</td>\n",
       "      <td>3187.634480</td>\n",
       "    </tr>\n",
       "    <tr>\n",
       "      <th>2</th>\n",
       "      <td>Буевич Максим Вадимович</td>\n",
       "      <td>Брянцева 13</td>\n",
       "      <td>3815.624049</td>\n",
       "    </tr>\n",
       "    <tr>\n",
       "      <th>3</th>\n",
       "      <td>Гусева Ольга Анатольевна</td>\n",
       "      <td>Гаврил.11</td>\n",
       "      <td>4988.414160</td>\n",
       "    </tr>\n",
       "    <tr>\n",
       "      <th>4</th>\n",
       "      <td>Гусева Ольга Анатольевна</td>\n",
       "      <td>Коменд 51к1</td>\n",
       "      <td>1878.527374</td>\n",
       "    </tr>\n",
       "    <tr>\n",
       "      <th>5</th>\n",
       "      <td>Гусева Ольга Анатольевна</td>\n",
       "      <td>Маршака 4</td>\n",
       "      <td>2512.838754</td>\n",
       "    </tr>\n",
       "    <tr>\n",
       "      <th>6</th>\n",
       "      <td>Гусева Ольга Анатольевна</td>\n",
       "      <td>Сик. 7к2</td>\n",
       "      <td>7489.389420</td>\n",
       "    </tr>\n",
       "    <tr>\n",
       "      <th>7</th>\n",
       "      <td>Стебунов Борис Александрович</td>\n",
       "      <td>РЦ БС 45</td>\n",
       "      <td>6841.456185</td>\n",
       "    </tr>\n",
       "    <tr>\n",
       "      <th>8</th>\n",
       "      <td>Эйвазов Сардар Магомедгади Оглы</td>\n",
       "      <td>РЦ БС 45</td>\n",
       "      <td>8268.438133</td>\n",
       "    </tr>\n",
       "    <tr>\n",
       "      <th>9</th>\n",
       "      <td>Якуценя Елена Николаевна</td>\n",
       "      <td>Гарьк. 15к3</td>\n",
       "      <td>2027.061456</td>\n",
       "    </tr>\n",
       "    <tr>\n",
       "      <th>10</th>\n",
       "      <td>Якуценя Елена Николаевна</td>\n",
       "      <td>Колл. 4к1</td>\n",
       "      <td>4139.377558</td>\n",
       "    </tr>\n",
       "    <tr>\n",
       "      <th>11</th>\n",
       "      <td>Якуценя Елена Николаевна</td>\n",
       "      <td>Мор. 3к2</td>\n",
       "      <td>4873.685499</td>\n",
       "    </tr>\n",
       "    <tr>\n",
       "      <th>12</th>\n",
       "      <td>Якуценя Елена Николаевна</td>\n",
       "      <td>Ст.П. 39А</td>\n",
       "      <td>6307.296297</td>\n",
       "    </tr>\n",
       "    <tr>\n",
       "      <th>13</th>\n",
       "      <td>Якуценя Елена Николаевна</td>\n",
       "      <td>Щерб.11</td>\n",
       "      <td>3675.434372</td>\n",
       "    </tr>\n",
       "  </tbody>\n",
       "</table>\n",
       "</div>"
      ],
      "text/plain": [
       "                             Доктор       Филиал  Расстояние до МЦ\n",
       "0           Буевич Максим Вадимович      Б.П. 20       7282.050453\n",
       "1           Буевич Максим Вадимович      Б.С. 45       3187.634480\n",
       "2           Буевич Максим Вадимович  Брянцева 13       3815.624049\n",
       "3          Гусева Ольга Анатольевна    Гаврил.11       4988.414160\n",
       "4          Гусева Ольга Анатольевна  Коменд 51к1       1878.527374\n",
       "5          Гусева Ольга Анатольевна    Маршака 4       2512.838754\n",
       "6          Гусева Ольга Анатольевна     Сик. 7к2       7489.389420\n",
       "7      Стебунов Борис Александрович     РЦ БС 45       6841.456185\n",
       "8   Эйвазов Сардар Магомедгади Оглы     РЦ БС 45       8268.438133\n",
       "9          Якуценя Елена Николаевна  Гарьк. 15к3       2027.061456\n",
       "10         Якуценя Елена Николаевна    Колл. 4к1       4139.377558\n",
       "11         Якуценя Елена Николаевна     Мор. 3к2       4873.685499\n",
       "12         Якуценя Елена Николаевна    Ст.П. 39А       6307.296297\n",
       "13         Якуценя Елена Николаевна      Щерб.11       3675.434372"
      ]
     },
     "execution_count": 163,
     "metadata": {},
     "output_type": "execute_result"
    }
   ],
   "source": [
    "grop_adresses_new"
   ]
  },
  {
   "cell_type": "code",
   "execution_count": 156,
   "metadata": {},
   "outputs": [
    {
     "data": {
      "text/plain": [
       "<matplotlib.axes._subplots.AxesSubplot at 0x24667243dc8>"
      ]
     },
     "execution_count": 156,
     "metadata": {},
     "output_type": "execute_result"
    },
    {
     "data": {
      "image/png": "[encoded data removed]",
      "text/plain": [
       "<Figure size 432x288 with 1 Axes>"
      ]
     },
     "metadata": {
      "needs_background": "light"
     },
     "output_type": "display_data"
    }
   ],
   "source": [
    "adresses_new['Расстояние до МЦ'].plot()"
   ]
  },
  {
   "cell_type": "code",
   "execution_count": 158,
   "metadata": {},
   "outputs": [
    {
     "data": {
      "image/png": "[encoded data removed]",
      "text/plain": [
       "<Figure size 432x288 with 1 Axes>"
      ]
     },
     "metadata": {
      "needs_background": "light"
     },
     "output_type": "display_data"
    }
   ],
   "source": [
    "for doctor in set(adresses['Доктор']):\n",
    "    temp = adresses[adresses['Доктор'] == 'Буевич Максим Вадимович']\n",
    "    temp['Расстояние до МЦ'].plot()"
   ]
  },
  {
   "cell_type": "code",
   "execution_count": 176,
   "metadata": {},
   "outputs": [],
   "source": [
    "data = data.sort_values('Дата приема')\n",
    "data.drop_duplicates(['Год', 'Номер карты'], inplace=True)\n",
    "data.groupby(['Год','Первое посещение'], as_index=False).agg({'Номер карты' : 'nunique'}).to_excel('Новые к старым.xlsx')"
   ]
  },
  {
   "cell_type": "code",
   "execution_count": 174,
   "metadata": {},
   "outputs": [
    {
     "data": {
      "text/html": [
       "<div>\n",
       "<style scoped>\n",
       "    .dataframe tbody tr th:only-of-type {\n",
       "        vertical-align: middle;\n",
       "    }\n",
       "\n",
       "    .dataframe tbody tr th {\n",
       "        vertical-align: top;\n",
       "    }\n",
       "\n",
       "    .dataframe thead th {\n",
       "        text-align: right;\n",
       "    }\n",
       "</style>\n",
       "<table border=\"1\" class=\"dataframe\">\n",
       "  <thead>\n",
       "    <tr style=\"text-align: right;\">\n",
       "      <th></th>\n",
       "      <th>Номер карты</th>\n",
       "    </tr>\n",
       "    <tr>\n",
       "      <th>Год</th>\n",
       "      <th></th>\n",
       "    </tr>\n",
       "  </thead>\n",
       "  <tbody>\n",
       "    <tr>\n",
       "      <th>2019</th>\n",
       "      <td>429</td>\n",
       "    </tr>\n",
       "    <tr>\n",
       "      <th>2020</th>\n",
       "      <td>201</td>\n",
       "    </tr>\n",
       "  </tbody>\n",
       "</table>\n",
       "</div>"
      ],
      "text/plain": [
       "      Номер карты\n",
       "Год              \n",
       "2019          429\n",
       "2020          201"
      ]
     },
     "execution_count": 174,
     "metadata": {},
     "output_type": "execute_result"
    }
   ],
   "source": [
    "data.groupby(['Год']).agg({'Номер карты' : 'nunique'})"
   ]
  },
  {
   "cell_type": "code",
   "execution_count": null,
   "metadata": {},
   "outputs": [],
   "source": []
  }
 ],
 "metadata": {
  "kernelspec": {
   "display_name": "Python 3",
   "language": "python",
   "name": "python3"
  },
  "language_info": {
   "codemirror_mode": {
    "name": "ipython",
    "version": 3
   },
   "file_extension": ".py",
   "mimetype": "text/x-python",
   "name": "python",
   "nbconvert_exporter": "python",
   "pygments_lexer": "ipython3",
   "version": "3.7.6"
  }
 },
 "nbformat": 4,
 "nbformat_minor": 4
}
