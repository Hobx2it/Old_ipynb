{
 "cells": [
  {
   "cell_type": "markdown",
   "metadata": {},
   "source": [
    "# Задача 1 \n",
    "## Консолидация данных по семьям"
   ]
  },
  {
   "cell_type": "code",
   "execution_count": 44,
   "metadata": {},
   "outputs": [],
   "source": [
    "import pandas as pd\n",
    "import numpy as np\n",
    "import datetime\n",
    "import os"
   ]
  },
  {
   "cell_type": "code",
   "execution_count": 45,
   "metadata": {},
   "outputs": [],
   "source": [
    "raw_data = pd.read_excel('выгрузка анкет.xlsx', dtype=str)  # предварительно убрать все объединенные ячейки (разъединить)\n",
    "questionaries = raw_data.copy() # скопируем для задачи 1\n",
    "\n",
    "\n",
    "\n"
   ]
  },
  {
   "cell_type": "code",
   "execution_count": 46,
   "metadata": {},
   "outputs": [],
   "source": [
    "# оставим только необходимые данные по членам семьи\n",
    "\n",
    "not_necessary_columns = ['Заполняли Вы ранее подобную Анкету в электронном или бумажном виде?',\n",
    "                         'Хотели бы Вы получать дополнительную информацию об услугах и специальных акциях по e-mail?',\n",
    "                         'В нашем центре есть Центр Амбулаторной Хирургии, который проводит операции любой сложности',\n",
    "                         'В нашем центре открылось новое направление «Косметология» и мы работаем с новым современным лазером',\n",
    "                         'В нашем центре есть служба «Медицинское такси XXI век», как для клиентов в поездке по городу, так и специальные автомобили для пациентов с ограниченными возможностями к передвижению',\n",
    "                         'Отметьте, пожалуйста, по шкале от 1 до 10, порекомендовали бы Вы Медицинский центр «XXI век» друзьям и близким? (1 – точно НЕ порекомендовал(а), 10 – точно порекомендовал(а) бы)',\n",
    "                         'Где вы еще лечитесь?', 'Другие медцентры', 'Как вы добираетесь до клиники?', 'Как обычно записываетесь к врачу?',\n",
    "                         'Что могло бы сделать посещение более приятным для вас?', 'Какие услуги вы хотели бы видеть в нашем центре?',\n",
    "                         'Если вы хотите сказать СПАСИБО кому-то из наших сотрудников, то можете сделать это тут', 'Разрешаю публикацию благодарности на интернет-ресурсах Медицинского Центра \"XXI Век\" * ​* При публикации благодарности ваши личные данные будут скрыты.']\n",
    "\n",
    "questionaries = questionaries[[i for i in questionaries.columns if i not in not_necessary_columns]]\n"
   ]
  },
  {
   "cell_type": "code",
   "execution_count": 47,
   "metadata": {},
   "outputs": [],
   "source": [
    "# не будем брать пустые строки\n",
    "\n",
    "questionaries = questionaries[~questionaries.isnull().all(axis=1)]"
   ]
  },
  {
   "cell_type": "code",
   "execution_count": 48,
   "metadata": {},
   "outputs": [],
   "source": [
    "def fill(lst):\n",
    "    '''Пронумеровать все строки на их принадлежность к предыдущей\n",
    "    Сохранить в новый столбец Номер анкеты'''\n",
    "    arr = []\n",
    "    cnt = 1\n",
    "    for i, j in enumerate(lst):\n",
    "        if i == 0:\n",
    "            arr.append(1)\n",
    "            continue\n",
    "        if j is np.NaN:\n",
    "            arr.append(cnt)\n",
    "        else:\n",
    "            cnt += 1\n",
    "            arr.append(cnt)\n",
    "    return arr\n",
    "\n",
    "questionaries['Номер анкеты'] = fill(questionaries['Изменено'].tolist())\n",
    "\n",
    "questionaries = questionaries[['Номер анкеты'] + [i for i in questionaries.columns if i != 'Номер анкеты']] # столбец в начало поставили\n"
   ]
  },
  {
   "cell_type": "code",
   "execution_count": 49,
   "metadata": {},
   "outputs": [],
   "source": [
    "# На первоначальном этапе предлагаю проверять как заполнены столбцы в таблице, как их лучше соединить\n",
    "# это, думаю, для задачи номер 2\n",
    "\n",
    "\n",
    "# temp_data  = questionaries[questionaries['Изменено'].isnull()]\n",
    "\n",
    "# for column in temp_data:\n",
    "#     print(temp_data[column].isnull().value_counts())\n",
    "#     print('\\n\\n')"
   ]
  },
  {
   "cell_type": "code",
   "execution_count": 50,
   "metadata": {},
   "outputs": [],
   "source": [
    "# ниже циклом проходимся построчно по questionaries и создаем новый датафрейм с необходимой информацией\n",
    "\n",
    "final_data = pd.DataFrame({'Номер анкеты': [], 'Изменено': [], 'Глава семьи': [], 'ФИО': [], 'Дата рождения': [], 'Телефон': [], 'E-mail': [], 'Кем приходится': [], 'Обслуживается у нас': [], 'Адрес проживания': []})\n",
    "\n",
    "\n",
    "for i in questionaries.index:\n",
    "    number = questionaries['Номер анкеты'][i]\n",
    "    date = questionaries['Изменено'][i]\n",
    "    head = questionaries['Ваши Ф.И.О. (взрослого члена семьи, который заполняет Анкету)'][i]\n",
    "    fios = [questionaries[j][i] for j in questionaries.columns if 'Ф.И.О.' in j]\n",
    "    birthday = [questionaries[j][i] for j in questionaries.columns if 'Дата рождения' in j]\n",
    "    phones = [questionaries[j][i] for j in questionaries.columns if 'Телефон' in j]\n",
    "    mails = [questionaries[j][i] for j in questionaries.columns if 'E-mail' in j]\n",
    "    status =['Глава семьи'] + [questionaries[j][i] for j in questionaries.columns if 'Кем Вам приходится' in j]\n",
    "    services = [questionaries[j][i] for j in questionaries.columns if 'служив' in j]\n",
    "    adresses = [questionaries[j][i] for j in questionaries.columns if 'Адрес проживания' in j]\n",
    "    len_fios = len(fios)\n",
    "    temp_dct = pd.DataFrame({'Номер анкеты': [number] * len_fios, \n",
    "                'Изменено': [date] * len_fios, \n",
    "                'Глава семьи': [head] * len_fios, \n",
    "                'ФИО': fios, \n",
    "                'Дата рождения': birthday, \n",
    "                'Телефон': phones, \n",
    "                'E-mail': mails, \n",
    "                'Кем приходится': status,\n",
    "                'Обслуживается у нас': services,\n",
    "                'Адрес проживания': adresses})\n",
    "    temp_dct.dropna(subset=['ФИО'], inplace=True)\n",
    "    \n",
    "\n",
    "    \n",
    "    final_data = final_data.append(pd.DataFrame(temp_dct))\n",
    "    \n"
   ]
  },
  {
   "cell_type": "code",
   "execution_count": 51,
   "metadata": {},
   "outputs": [],
   "source": [
    "final_data['ФИО'] = final_data['ФИО'].str.strip().str.lower().str.replace('ё', 'е') # приводим все к единому знаменателю для поиска"
   ]
  },
  {
   "cell_type": "markdown",
   "metadata": {},
   "source": [
    "## Сначала найдем по максимуму пациентов из базы, без оборота"
   ]
  },
  {
   "cell_type": "code",
   "execution_count": 52,
   "metadata": {},
   "outputs": [],
   "source": [
    "pacients = pd.DataFrame()\n",
    "cur_path = os.getcwd()\n",
    "os.chdir(os.path.join(cur_path, 'pacients'))\n",
    "for file in os.listdir('.'):\n",
    "    if not pacients.shape[0]:\n",
    "        pacients = pd.read_excel(file)\n",
    "    else:\n",
    "        pacients = pacients.append(pd.read_excel(file))\n",
    "        \n",
    "pacients = pacients.drop_duplicates(subset=['Номер карты']).reset_index(drop=True)        \n",
    "\n",
    "pacients['Пациент'] = pacients['Пациент'].str.lower().str.replace('ё', 'е') # приводим все к единому знаменателю для поиска"
   ]
  },
  {
   "cell_type": "code",
   "execution_count": 53,
   "metadata": {},
   "outputs": [],
   "source": [
    "def to_strf(x):\n",
    "    if isinstance(x, datetime.datetime):\n",
    "        return x.strftime('%d.%m.%Y')\n",
    "    else:\n",
    "        return x\n",
    "\n",
    "pacients['Дата рождения'] = pacients['Дата рождения'].apply(to_strf)  # приводим все к единому знаменателю для поиска"
   ]
  },
  {
   "cell_type": "code",
   "execution_count": 54,
   "metadata": {},
   "outputs": [],
   "source": [
    "final_data = final_data.merge(pacients, how='left', left_on=['ФИО', 'Дата рождения'], right_on=['Пациент', 'Дата рождения'])  # соединяем данные"
   ]
  },
  {
   "cell_type": "code",
   "execution_count": 55,
   "metadata": {},
   "outputs": [],
   "source": [
    "final_data.drop('Пациент', axis=1, inplace=True)\n",
    "\n",
    "final_data['Номер карты'] = final_data['Номер карты'].fillna('Нет данных')"
   ]
  },
  {
   "cell_type": "code",
   "execution_count": 56,
   "metadata": {},
   "outputs": [],
   "source": [
    "os.chdir(cur_path)\n",
    "final_data.to_excel('Сводные_данные_по_анкетам.xlsx', index=False)"
   ]
  },
  {
   "cell_type": "code",
   "execution_count": 57,
   "metadata": {},
   "outputs": [
    {
     "data": {
      "text/html": [
       "<div>\n",
       "<style scoped>\n",
       "    .dataframe tbody tr th:only-of-type {\n",
       "        vertical-align: middle;\n",
       "    }\n",
       "\n",
       "    .dataframe tbody tr th {\n",
       "        vertical-align: top;\n",
       "    }\n",
       "\n",
       "    .dataframe thead th {\n",
       "        text-align: right;\n",
       "    }\n",
       "</style>\n",
       "<table border=\"1\" class=\"dataframe\">\n",
       "  <thead>\n",
       "    <tr style=\"text-align: right;\">\n",
       "      <th></th>\n",
       "      <th>Пациент</th>\n",
       "      <th>Дата рождения</th>\n",
       "      <th>Номер карты</th>\n",
       "    </tr>\n",
       "  </thead>\n",
       "  <tbody>\n",
       "    <tr>\n",
       "      <th>0</th>\n",
       "      <td></td>\n",
       "      <td>-</td>\n",
       "      <td>990313477</td>\n",
       "    </tr>\n",
       "    <tr>\n",
       "      <th>1</th>\n",
       "      <td></td>\n",
       "      <td>08.12.1968</td>\n",
       "      <td>990375114</td>\n",
       "    </tr>\n",
       "    <tr>\n",
       "      <th>2</th>\n",
       "      <td>калеченкова наталия анатольевна</td>\n",
       "      <td>12.11.1973</td>\n",
       "      <td>990475670</td>\n",
       "    </tr>\n",
       "    <tr>\n",
       "      <th>3</th>\n",
       "      <td>- аноним</td>\n",
       "      <td>18.11.1986</td>\n",
       "      <td>100184866</td>\n",
       "    </tr>\n",
       "    <tr>\n",
       "      <th>4</th>\n",
       "      <td>- екатерина</td>\n",
       "      <td>05.12.1993</td>\n",
       "      <td>120583506</td>\n",
       "    </tr>\n",
       "    <tr>\n",
       "      <th>...</th>\n",
       "      <td>...</td>\n",
       "      <td>...</td>\n",
       "      <td>...</td>\n",
       "    </tr>\n",
       "    <tr>\n",
       "      <th>1321569</th>\n",
       "      <td>слепцова арина евгеньевна</td>\n",
       "      <td>08.05.2003</td>\n",
       "      <td>80271</td>\n",
       "    </tr>\n",
       "    <tr>\n",
       "      <th>1321570</th>\n",
       "      <td>слепцова анна филипповна</td>\n",
       "      <td>01.06.1976</td>\n",
       "      <td>140053941</td>\n",
       "    </tr>\n",
       "    <tr>\n",
       "      <th>1321571</th>\n",
       "      <td>слепцова анна витальевна</td>\n",
       "      <td>16.09.1973</td>\n",
       "      <td>100097463</td>\n",
       "    </tr>\n",
       "    <tr>\n",
       "      <th>1321572</th>\n",
       "      <td>слепцова анна вадимовна</td>\n",
       "      <td>16.04.1988</td>\n",
       "      <td>120551565</td>\n",
       "    </tr>\n",
       "    <tr>\n",
       "      <th>1321573</th>\n",
       "      <td>слепцова анна артемовна</td>\n",
       "      <td>12.01.1994</td>\n",
       "      <td>100130661</td>\n",
       "    </tr>\n",
       "  </tbody>\n",
       "</table>\n",
       "<p>1321574 rows × 3 columns</p>\n",
       "</div>"
      ],
      "text/plain": [
       "                                  Пациент Дата рождения Номер карты\n",
       "0                                                     -   990313477\n",
       "1                                            08.12.1968   990375114\n",
       "2         калеченкова наталия анатольевна    12.11.1973   990475670\n",
       "3                                - аноним    18.11.1986   100184866\n",
       "4                             - екатерина    05.12.1993   120583506\n",
       "...                                   ...           ...         ...\n",
       "1321569         слепцова арина евгеньевна    08.05.2003       80271\n",
       "1321570          слепцова анна филипповна    01.06.1976   140053941\n",
       "1321571          слепцова анна витальевна    16.09.1973   100097463\n",
       "1321572           слепцова анна вадимовна    16.04.1988   120551565\n",
       "1321573           слепцова анна артемовна    12.01.1994   100130661\n",
       "\n",
       "[1321574 rows x 3 columns]"
      ]
     },
     "execution_count": 57,
     "metadata": {},
     "output_type": "execute_result"
    }
   ],
   "source": [
    "pacients['Ном']"
   ]
  },
  {
   "cell_type": "code",
   "execution_count": null,
   "metadata": {},
   "outputs": [],
   "source": []
  }
 ],
 "metadata": {
  "kernelspec": {
   "display_name": "Python 3",
   "language": "python",
   "name": "python3"
  },
  "language_info": {
   "codemirror_mode": {
    "name": "ipython",
    "version": 3
   },
   "file_extension": ".py",
   "mimetype": "text/x-python",
   "name": "python",
   "nbconvert_exporter": "python",
   "pygments_lexer": "ipython3",
   "version": "3.7.6"
  }
 },
 "nbformat": 4,
 "nbformat_minor": 4
}
