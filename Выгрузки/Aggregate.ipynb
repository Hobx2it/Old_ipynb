{
 "cells": [
  {
   "cell_type": "code",
   "execution_count": 30,
   "metadata": {},
   "outputs": [],
   "source": [
    "import pandas as pd\n",
    "import datetime\n",
    "import os\n",
    "import re"
   ]
  },
  {
   "cell_type": "code",
   "execution_count": 31,
   "metadata": {},
   "outputs": [],
   "source": [
    "# Справочник надо предварительно заполнить чтобы подтянуть нужные отделения, врачи и топ - нетоп\n",
    "# Справочник подструктура нужна только для хирургии, травматологии, УЗФД, не делим по ТО. Во всех остальных структурах надо тоже заполнить одной строкой лучше тем же названием\n",
    "# Обязательно надо проверить все ли UF_USER из расписания в справочнике и врачей у которых в UF_USER прочерк (-)\n",
    "# загрузили 4 файла из АУ_ВУ (брал по пол года) + расписание\n",
    "# объединил все в один DataFrame, сделал merge справочника\n",
    "# отдельно загрузил расписание\n",
    "\n",
    "\n",
    "# определяем год\n",
    "CURRENT_YEAR = 2020\n",
    "LAST_YEAR = CURRENT_YEAR - 1\n",
    "\n",
    "pattern = r'^ч\\d{1}\\.xlsx$' # паттерн для частей общего датафрейма без расписания\n",
    "\n",
    "data = pd.DataFrame()\n",
    "\n",
    "for file in os.listdir('.'):\n",
    "    if re.match(pattern, file):\n",
    "        data = data.append(pd.read_excel(file))\n",
    "        \n",
    "handbook = pd.read_excel('Справочник_врачи_отделения_топ.xlsx')\n",
    "\n",
    "data = data.merge(handbook[['UF_USER', 'Структура', 'Врачи - название', 'Топ/Не топ', 'Подструктура']], left_on='UF_USER', right_on='UF_USER', how='left')\n",
    "\n",
    "data = data.rename(columns={'Sum([Стоимость полная])': 'Выработка', 'Номер карты': 'Количество клиентов', 'Ключ посещения': 'Количество посещений'})\n",
    "\n",
    "timetable = pd.read_excel('Расписание.xlsx')\n",
    "\n",
    "timetable = timetable.merge(handbook[['UF_USER', 'Структура', 'Врачи - название', 'Топ/Не топ', 'Подструктура']], left_on='UF_USER', right_on='UF_USER', how='left')"
   ]
  },
  {
   "cell_type": "markdown",
   "metadata": {},
   "source": [
    "### Проверка есть ли в датах приема прочерки (в датах первого посещения, обычно, они есть)"
   ]
  },
  {
   "cell_type": "code",
   "execution_count": 32,
   "metadata": {},
   "outputs": [
    {
     "name": "stdout",
     "output_type": "stream",
     "text": [
      "Empty DataFrame\n",
      "Columns: [Структура 2 уровень, Структура 3 уровень, Структура 4 уровень, UF_USER, Исполнитель, Филиал, Год, Внутренняя категория, Количество клиентов, МДВ, Наименование услуги, Категория крупно, Количество посещений, Дата приема, Возрастная группа, Минимальная дата приема Пациента (без удаленных), Категория клиента ПЭО, Sum([Количество]), Выработка, АУ/ВУ, Структура 2 уровень.1, Структура 2 уровень.2, Структура, Врачи - название, Топ/Не топ, Подструктура]\n",
      "Index: []\n",
      "\n",
      "[0 rows x 26 columns]\n"
     ]
    }
   ],
   "source": [
    "print(data[data['Дата приема'] == '-'])\n"
   ]
  },
  {
   "cell_type": "markdown",
   "metadata": {},
   "source": [
    "### Создадим столбец с пометкой новый или старый исходя из даты приема, даты первого посещения и года"
   ]
  },
  {
   "cell_type": "code",
   "execution_count": 33,
   "metadata": {},
   "outputs": [],
   "source": [
    "def is_new_pacient(row):\n",
    "    if row['Минимальная дата приема Пациента (без удаленных)'] == '-':\n",
    "        return 'Старый'\n",
    "    elif row['Минимальная дата приема Пациента (без удаленных)'].date().year < row['Дата приема'].date().year:\n",
    "        return 'Старый'\n",
    "    else:\n",
    "        return 'Новый'\n",
    "    \n",
    "data['Новый/старый'] = data.apply(is_new_pacient, axis=1)\n",
    "    "
   ]
  },
  {
   "cell_type": "code",
   "execution_count": 34,
   "metadata": {},
   "outputs": [],
   "source": [
    "# создам объект Excel_writer для записи туда сводных\n",
    "\n",
    "writer = pd.ExcelWriter('Сводные.xlsx')"
   ]
  },
  {
   "cell_type": "markdown",
   "metadata": {},
   "source": [
    "## АУ+ВУ"
   ]
  },
  {
   "cell_type": "code",
   "execution_count": 35,
   "metadata": {},
   "outputs": [],
   "source": [
    "temp_df = data.pivot_table(index=['Структура'], columns=['АУ/ВУ', 'Год'], \n",
    "                      values=['Выработка', 'Количество клиентов', 'Количество посещений'], \n",
    "                      aggfunc={'Выработка': sum,\n",
    "                                'Количество клиентов': 'nunique', \n",
    "                               'Количество посещений': 'nunique'})\n",
    "\n",
    "temp_df.columns = temp_df.columns.swaplevel(0, 2)\n",
    "temp_df.columns = temp_df.columns.swaplevel(0, 1)\n",
    "temp_df.sort_index(axis=1, inplace=True, level=[0, 1, 2], ascending=[True, False, True])\n",
    "temp_df.to_excel(writer, sheet_name='АУ+ВУ')"
   ]
  },
  {
   "cell_type": "markdown",
   "metadata": {},
   "source": [
    "## Принадлежности пациентов АУ"
   ]
  },
  {
   "cell_type": "code",
   "execution_count": 36,
   "metadata": {},
   "outputs": [],
   "source": [
    "temp_df = data[(data['АУ/ВУ'] == 'АУ') & (data['Категория клиента ПЭО'].isin(['АБ РЕН', 'МЦ АБ', 'НАЛ', 'СК факт', 'Соц Пакет']))].pivot_table(index=['Структура', 'Подструктура'], columns=['Год', 'Категория клиента ПЭО'], \n",
    "                      values=['Выработка', 'Количество клиентов', 'Количество посещений'], \n",
    "                      aggfunc={'Выработка': sum,\n",
    "                                'Количество клиентов': 'nunique', \n",
    "                               'Количество посещений': 'nunique'})\n",
    "\n",
    "temp_df.columns = temp_df.columns.swaplevel(0, 1)\n",
    "temp_df.sort_index(axis=1, inplace=True, level=[0, 1, 2], ascending=[False, True, True])\n",
    "temp_df.to_excel(writer, sheet_name='Принадлежности пациентов АУ')"
   ]
  },
  {
   "cell_type": "markdown",
   "metadata": {},
   "source": [
    "## Принадлежности пациентов ВУ"
   ]
  },
  {
   "cell_type": "code",
   "execution_count": 37,
   "metadata": {},
   "outputs": [],
   "source": [
    "temp_df = data[(data['АУ/ВУ'] == 'ВУ') & (data['Категория клиента ПЭО'].isin(['АБ РЕН', 'МЦ АБ', 'НАЛ', 'СК факт', 'Соц Пакет']))].pivot_table(index=['Структура', 'Подструктура'], columns=['Год', 'Категория клиента ПЭО'], \n",
    "                      values=['Выработка', 'Количество клиентов', 'Количество посещений'], \n",
    "                      aggfunc={'Выработка': sum,\n",
    "                                'Количество клиентов': 'nunique', \n",
    "                               'Количество посещений': 'nunique'})\n",
    "\n",
    "temp_df.columns = temp_df.columns.swaplevel(0, 1)\n",
    "temp_df.sort_index(axis=1, inplace=True, level=[0, 1, 2], ascending=[False, True, True])\n",
    "temp_df.to_excel(writer, sheet_name='Принадлежности пациентов ВУ')"
   ]
  },
  {
   "cell_type": "markdown",
   "metadata": {},
   "source": [
    "## Диаграмма выработка"
   ]
  },
  {
   "cell_type": "code",
   "execution_count": 38,
   "metadata": {},
   "outputs": [
    {
     "name": "stderr",
     "output_type": "stream",
     "text": [
      "C:\\Users\\AmanovRA\\Anaconda3\\lib\\site-packages\\pandas\\core\\reshape\\merge.py:643: UserWarning: merging between different levels can give an unintended result (1 levels on the left,2 on the right)\n",
      "  warnings.warn(msg, UserWarning)\n"
     ]
    }
   ],
   "source": [
    "# 1я таблица врачи-название\n",
    "\n",
    "temp_df = data[data['Год'] == CURRENT_YEAR].groupby(['Врачи - название']).agg({'Выработка': sum, 'Количество клиентов': 'nunique'})\n",
    "temp_df['Средний чек'] = temp_df['Выработка'] / temp_df['Количество клиентов']\n",
    "temp_df.drop('Количество клиентов', axis=1, inplace=True)\n",
    "\n",
    "grow_base = data.pivot_table(index=['Врачи - название'], columns=['Год'], \n",
    "                      values=['Выработка'], \n",
    "                      aggfunc={'Выработка': sum})\n",
    "\n",
    "grow_base['Прирост'] = (grow_base[('Выработка', CURRENT_YEAR)] / grow_base[('Выработка', LAST_YEAR)]) - 1\n",
    "\n",
    "temp_df = temp_df.merge(grow_base[['Прирост']], how='left', left_index=True, right_index=True)\n",
    "\n",
    "temp_df = temp_df.rename(columns={('Прирост', ''): 'Прирост'})\n",
    "\n",
    "temp_df = temp_df[['Выработка','Прирост', 'Средний чек']]\n",
    "\n",
    "temp_df.to_excel(writer, sheet_name='Диаграмма выработка 1')\n",
    "\n",
    "\n",
    "\n"
   ]
  },
  {
   "cell_type": "code",
   "execution_count": 39,
   "metadata": {},
   "outputs": [
    {
     "name": "stderr",
     "output_type": "stream",
     "text": [
      "C:\\Users\\AmanovRA\\Anaconda3\\lib\\site-packages\\pandas\\core\\reshape\\merge.py:643: UserWarning: merging between different levels can give an unintended result (1 levels on the left,2 on the right)\n",
      "  warnings.warn(msg, UserWarning)\n"
     ]
    }
   ],
   "source": [
    "# 2я таблица подструктура\n",
    "\n",
    "temp_df = data[data['Год'] == CURRENT_YEAR].groupby(['Подструктура']).agg({'Выработка': sum, 'Количество клиентов': 'nunique'})\n",
    "temp_df['Средний чек'] = temp_df['Выработка'] / temp_df['Количество клиентов']\n",
    "temp_df.drop('Количество клиентов', axis=1, inplace=True)\n",
    "\n",
    "grow_base = data.pivot_table(index=['Подструктура'], columns=['Год'], \n",
    "                      values=['Выработка'], \n",
    "                      aggfunc={'Выработка': sum})\n",
    "\n",
    "grow_base['Прирост'] = (grow_base[('Выработка', CURRENT_YEAR)] / grow_base[('Выработка', LAST_YEAR)]) - 1\n",
    "\n",
    "temp_df = temp_df.merge(grow_base[['Прирост']], how='left', left_index=True, right_index=True)\n",
    "\n",
    "temp_df = temp_df.rename(columns={('Прирост', ''): 'Прирост'})\n",
    "\n",
    "temp_df = temp_df[['Выработка','Прирост', 'Средний чек']]\n",
    "\n",
    "temp_df.to_excel(writer, sheet_name='Диаграмма выработка 2')"
   ]
  },
  {
   "cell_type": "markdown",
   "metadata": {},
   "source": [
    "## Категории возрастов АУ"
   ]
  },
  {
   "cell_type": "code",
   "execution_count": 40,
   "metadata": {},
   "outputs": [],
   "source": [
    "# 1я таблица Количество пациентов\n",
    "\n",
    "def sort_ages(x):\n",
    "    pattern = r'[- ]'\n",
    "    \n",
    "    \n",
    "    if all([isinstance(i, (int, float)) for i in x]):\n",
    "        return [i for i in x]\n",
    "    else:\n",
    "        return [int(re.split(pattern, i)[0]) if i != 'oshibka' else 200 for i in x]\n",
    "    \n",
    "\n",
    "temp_df = data[data['АУ/ВУ'] == 'АУ'].pivot_table(index=['Структура', 'Подструктура'], columns=['Год', 'Возрастная группа'], \n",
    "                      values=['Количество клиентов'], \n",
    "                      aggfunc={'Количество клиентов': 'nunique'})\n",
    "\n",
    "temp_df.sort_index(axis=1, inplace=True, level=[1, 2], ascending=[False, True], key = sort_ages)\n",
    "temp_df.to_excel(writer, sheet_name='Категории возрастов АУ 1')"
   ]
  },
  {
   "cell_type": "code",
   "execution_count": 41,
   "metadata": {},
   "outputs": [],
   "source": [
    "# 2я таблица Выработка\n",
    "\n",
    "def sort_ages(x):\n",
    "    pattern = r'[- ]'\n",
    "    \n",
    "    \n",
    "    if all([isinstance(i, (int, float)) for i in x]):\n",
    "        return [i for i in x]\n",
    "    else:\n",
    "        return [int(re.split(pattern, i)[0]) if i != 'oshibka' else 200 for i in x]\n",
    "    \n",
    "\n",
    "temp_df = data[data['АУ/ВУ'] == 'АУ'].pivot_table(index=['Структура', 'Подструктура'], columns=['Год', 'Возрастная группа'], \n",
    "                      values=['Выработка'], \n",
    "                      aggfunc={'Выработка': sum})\n",
    "\n",
    "temp_df.sort_index(axis=1, inplace=True, level=[1, 2], ascending=[False, True], key = sort_ages)\n",
    "temp_df.to_excel(writer, sheet_name='Категории возрастов АУ 2')"
   ]
  },
  {
   "cell_type": "code",
   "execution_count": 42,
   "metadata": {},
   "outputs": [],
   "source": [
    "# 3я таблица Количество посещений\n",
    "\n",
    "def sort_ages(x):\n",
    "    pattern = r'[- ]'\n",
    "    \n",
    "    \n",
    "    if all([isinstance(i, (int, float)) for i in x]):\n",
    "        return [i for i in x]\n",
    "    else:\n",
    "        return [int(re.split(pattern, i)[0]) if i != 'oshibka' else 200 for i in x]\n",
    "    \n",
    "\n",
    "temp_df = data[data['АУ/ВУ'] == 'АУ'].pivot_table(index=['Структура', 'Подструктура'], columns=['Год', 'Возрастная группа'], \n",
    "                      values=['Количество посещений'], \n",
    "                      aggfunc={'Количество посещений': 'nunique'})\n",
    "\n",
    "temp_df.sort_index(axis=1, inplace=True, level=[1, 2], ascending=[False, True], key = sort_ages)\n",
    "temp_df.to_excel(writer, sheet_name='Категории возрастов АУ 3')"
   ]
  },
  {
   "cell_type": "markdown",
   "metadata": {},
   "source": [
    "## Категории возрастов ВУ"
   ]
  },
  {
   "cell_type": "code",
   "execution_count": 43,
   "metadata": {},
   "outputs": [],
   "source": [
    "# 1я таблица Количество пациентов\n",
    "\n",
    "def sort_ages(x):\n",
    "    pattern = r'[- ]'\n",
    "    \n",
    "    \n",
    "    if all([isinstance(i, (int, float)) for i in x]):\n",
    "        return [i for i in x]\n",
    "    else:\n",
    "        return [int(re.split(pattern, i)[0]) if i != 'oshibka' else 200 for i in x]\n",
    "    \n",
    "\n",
    "temp_df = data[data['АУ/ВУ'] == 'ВУ'].pivot_table(index=['Структура', 'Подструктура'], columns=['Год', 'Возрастная группа'], \n",
    "                      values=['Количество клиентов'], \n",
    "                      aggfunc={'Количество клиентов': 'nunique'})\n",
    "\n",
    "temp_df.sort_index(axis=1, inplace=True, level=[1, 2], ascending=[False, True], key = sort_ages)\n",
    "temp_df.to_excel(writer, sheet_name='Категории возрастов ВУ 1')"
   ]
  },
  {
   "cell_type": "code",
   "execution_count": 44,
   "metadata": {},
   "outputs": [],
   "source": [
    "# 2я таблица Выработка\n",
    "\n",
    "def sort_ages(x):\n",
    "    pattern = r'[- ]'\n",
    "    \n",
    "    \n",
    "    if all([isinstance(i, (int, float)) for i in x]):\n",
    "        return [i for i in x]\n",
    "    else:\n",
    "        return [int(re.split(pattern, i)[0]) if i != 'oshibka' else 200 for i in x]\n",
    "    \n",
    "\n",
    "temp_df = data[data['АУ/ВУ'] == 'ВУ'].pivot_table(index=['Структура', 'Подструктура'], columns=['Год', 'Возрастная группа'], \n",
    "                      values=['Выработка'], \n",
    "                      aggfunc={'Выработка': sum})\n",
    "\n",
    "temp_df.sort_index(axis=1, inplace=True, level=[1, 2], ascending=[False, True], key = sort_ages)\n",
    "temp_df.to_excel(writer, sheet_name='Категории возрастов ВУ 2')"
   ]
  },
  {
   "cell_type": "code",
   "execution_count": 45,
   "metadata": {},
   "outputs": [],
   "source": [
    "# 3я таблица Количество посещений\n",
    "\n",
    "def sort_ages(x):\n",
    "    pattern = r'[- ]'\n",
    "    \n",
    "    \n",
    "    if all([isinstance(i, (int, float)) for i in x]):\n",
    "        return [i for i in x]\n",
    "    else:\n",
    "        return [int(re.split(pattern, i)[0]) if i != 'oshibka' else 200 for i in x]\n",
    "    \n",
    "\n",
    "temp_df = data[data['АУ/ВУ'] == 'ВУ'].pivot_table(index=['Структура', 'Подструктура'], columns=['Год', 'Возрастная группа'], \n",
    "                      values=['Количество посещений'], \n",
    "                      aggfunc={'Количество посещений': 'nunique'})\n",
    "\n",
    "temp_df.sort_index(axis=1, inplace=True, level=[1, 2], ascending=[False, True], key = sort_ages)\n",
    "temp_df.to_excel(writer, sheet_name='Категории возрастов ВУ 3')"
   ]
  },
  {
   "cell_type": "markdown",
   "metadata": {},
   "source": [
    "## Новые пациенты"
   ]
  },
  {
   "cell_type": "code",
   "execution_count": 46,
   "metadata": {},
   "outputs": [],
   "source": [
    "# 1я таблица все АУ\n",
    "\n",
    "temp_df = data[data['АУ/ВУ'] == 'АУ'].pivot_table(index=['Структура'], columns=['Год', 'Новый/старый'], \n",
    "                      values=['Выработка', 'Количество клиентов'], \n",
    "                      aggfunc={'Выработка': sum,\n",
    "                                'Количество клиентов': 'nunique'})\n",
    "\n",
    "temp_df.columns = temp_df.columns.swaplevel(0, 2)\n",
    "temp_df.columns = temp_df.columns.swaplevel(0, 1)\n",
    "temp_df.sort_index(axis=1, inplace=True, level=[0, 1, 2], ascending=[False, True, True])\n",
    "temp_df.to_excel(writer, sheet_name='Новые пациенты все АУ')"
   ]
  },
  {
   "cell_type": "code",
   "execution_count": 47,
   "metadata": {},
   "outputs": [],
   "source": [
    "# 2я таблица НАЛ АУ\n",
    "\n",
    "temp_df = data[(data['АУ/ВУ'] == 'АУ') & (data['Категория клиента ПЭО'] == 'НАЛ')].pivot_table(index=['Структура'], columns=['Год', 'Новый/старый'], \n",
    "                      values=['Выработка', 'Количество клиентов'], \n",
    "                      aggfunc={'Выработка': sum,\n",
    "                                'Количество клиентов': 'nunique'})\n",
    "\n",
    "temp_df.columns = temp_df.columns.swaplevel(0, 2)\n",
    "temp_df.columns = temp_df.columns.swaplevel(0, 1)\n",
    "temp_df.sort_index(axis=1, inplace=True, level=[0, 1, 2], ascending=[False, True, True])\n",
    "temp_df.to_excel(writer, sheet_name='Новые пациенты НАЛ АУ')"
   ]
  },
  {
   "cell_type": "code",
   "execution_count": 48,
   "metadata": {},
   "outputs": [],
   "source": [
    "# 3я таблица СК АУ\n",
    "\n",
    "temp_df = data[(data['АУ/ВУ'] == 'АУ') & (data['Категория клиента ПЭО'] == 'СК факт')].pivot_table(index=['Структура'], columns=['Год', 'Новый/старый'], \n",
    "                      values=['Выработка', 'Количество клиентов'], \n",
    "                      aggfunc={'Выработка': sum,\n",
    "                                'Количество клиентов': 'nunique'})\n",
    "\n",
    "temp_df.columns = temp_df.columns.swaplevel(0, 2)\n",
    "temp_df.columns = temp_df.columns.swaplevel(0, 1)\n",
    "temp_df.sort_index(axis=1, inplace=True, level=[0, 1, 2], ascending=[False, True, True])\n",
    "temp_df.to_excel(writer, sheet_name='Новые пациенты СК АУ')"
   ]
  },
  {
   "cell_type": "markdown",
   "metadata": {},
   "source": [
    "## Категории исполнителей"
   ]
  },
  {
   "cell_type": "code",
   "execution_count": 49,
   "metadata": {},
   "outputs": [],
   "source": [
    "temp_df = data.pivot_table(index=['Структура'], columns=['Год', 'Топ/Не топ'], \n",
    "                      values=['Выработка', 'Количество клиентов'], \n",
    "                      aggfunc={'Выработка': sum,\n",
    "                                'Количество клиентов': 'nunique'})\n",
    "\n",
    "temp_df.columns = temp_df.columns.swaplevel(0, 2)\n",
    "temp_df.columns = temp_df.columns.swaplevel(0, 1)\n",
    "temp_df.sort_index(axis=1, inplace=True, level=[0, 1, 2], ascending=[False, False, True])\n",
    "temp_df.to_excel(writer, sheet_name='Категории исполнителей')"
   ]
  },
  {
   "cell_type": "markdown",
   "metadata": {},
   "source": [
    "## Диаграмма расписание"
   ]
  },
  {
   "cell_type": "code",
   "execution_count": 50,
   "metadata": {},
   "outputs": [],
   "source": [
    "# 1я таблица врачи-название\n",
    "\n",
    "temp_df = timetable[timetable['Год'] == CURRENT_YEAR].pivot_table(index=['Врачи - название'], \n",
    "                      values=['Доступно для записи Пациентов', 'всего время пациентов', 'UF_USER'], \n",
    "                      aggfunc={'Доступно для записи Пациентов': sum,\n",
    "                                'всего время пациентов': sum, \n",
    "                               'UF_USER': 'nunique'})\n",
    "\n",
    "temp_df['Заполняемость'] = temp_df['всего время пациентов'] / temp_df['Доступно для записи Пациентов']\n",
    "temp_df['План (тысяч часов)'] = (temp_df['Доступно для записи Пациентов'] * 24 / 1000).astype(int)\n",
    "temp_df = temp_df.rename(columns = {'UF_USER': 'Исполнителей'})\n",
    "temp_df = temp_df[['План (тысяч часов)', 'Заполняемость', 'Исполнителей']]\n",
    "temp_df.to_excel(writer, sheet_name='Диаграмма расписание 1 врачи')"
   ]
  },
  {
   "cell_type": "code",
   "execution_count": 51,
   "metadata": {},
   "outputs": [],
   "source": [
    "# 2я таблица подструктура\n",
    "\n",
    "temp_df = timetable[timetable['Год'] == CURRENT_YEAR].pivot_table(index=['Подструктура'], \n",
    "                      values=['Доступно для записи Пациентов', 'всего время пациентов', 'UF_USER'], \n",
    "                      aggfunc={'Доступно для записи Пациентов': sum,\n",
    "                                'всего время пациентов': sum, \n",
    "                               'UF_USER': 'nunique'})\n",
    "\n",
    "temp_df['Заполняемость'] = temp_df['всего время пациентов'] / temp_df['Доступно для записи Пациентов']\n",
    "temp_df['План (тысяч часов)'] = (temp_df['Доступно для записи Пациентов'] * 24 / 1000).astype(int)\n",
    "temp_df = temp_df.rename(columns = {'UF_USER': 'Исполнителей'})\n",
    "temp_df = temp_df[['План (тысяч часов)', 'Заполняемость', 'Исполнителей']]\n",
    "temp_df.to_excel(writer, sheet_name='Диаграмма расписание 2 под-ура')"
   ]
  },
  {
   "cell_type": "markdown",
   "metadata": {},
   "source": [
    "## Филиалы"
   ]
  },
  {
   "cell_type": "code",
   "execution_count": 52,
   "metadata": {},
   "outputs": [],
   "source": [
    "# 1я таблица выработка по филиалам\n",
    "\n",
    "temp_df = data[data['Филиал'] != 'БДВУ'].pivot_table(index=['Структура'], columns=['Год', 'Филиал'], \n",
    "                      values=['Выработка'], \n",
    "                      aggfunc={'Выработка': sum})\n",
    "\n",
    "temp_df.sort_index(axis=1, inplace=True, level=[1, 2], ascending=[False, True])\n",
    "temp_df.to_excel(writer, sheet_name='Филиалы 1 выработка')"
   ]
  },
  {
   "cell_type": "code",
   "execution_count": 53,
   "metadata": {},
   "outputs": [],
   "source": [
    "# 2я таблица плановые часы по филиалам\n",
    "\n",
    "temp_df = timetable[timetable['Филиал'] != 'ВУ'].pivot_table(index=['Структура'], columns=['Год', 'Филиал'], \n",
    "                      values=['Доступно для записи Пациентов'], \n",
    "                      aggfunc={'Доступно для записи Пациентов': sum})\n",
    "\n",
    "temp_df.sort_index(axis=1, inplace=True, level=[1, 2], ascending=[False, True])\n",
    "temp_df.to_excel(writer, sheet_name='Филиалы 2 плановые часы')"
   ]
  },
  {
   "cell_type": "code",
   "execution_count": 54,
   "metadata": {},
   "outputs": [],
   "source": [
    "# 3я таблица фактические часы по филиалам\n",
    "\n",
    "temp_df = timetable[timetable['Филиал'] != 'ВУ'].pivot_table(index=['Структура'], columns=['Год', 'Филиал'], \n",
    "                      values=['всего время пациентов'], \n",
    "                      aggfunc={'всего время пациентов': sum})\n",
    "\n",
    "temp_df.sort_index(axis=1, inplace=True, level=[1, 2], ascending=[False, True])\n",
    "temp_df.to_excel(writer, sheet_name='Филиалы 3 фактические часы')"
   ]
  },
  {
   "cell_type": "markdown",
   "metadata": {},
   "source": [
    "## Диаграмма филиалы"
   ]
  },
  {
   "cell_type": "code",
   "execution_count": 55,
   "metadata": {},
   "outputs": [],
   "source": [
    "temp_df = data[data['Год'] == CURRENT_YEAR].groupby('Филиал').agg({'Выработка': sum, 'Структура 4 уровень': 'nunique'}).merge(timetable.groupby('Филиал').agg({'Доступно для записи Пациентов': sum,\n",
    "                                                                                                                       'всего время пациентов': sum}), left_index=True, right_index=True)\n",
    "\n",
    "temp_df['Выработка млн. руб.'] = (temp_df['Выработка'] / 1000000).astype(int)\n",
    "temp_df['Заполняемость'] = temp_df['всего время пациентов'] / temp_df['Доступно для записи Пациентов']\n",
    "temp_df['Отделений'] = temp_df['Структура 4 уровень']\n",
    "\n",
    "temp_df = temp_df[['Выработка млн. руб.', 'Заполняемость', 'Отделений']]\n",
    "\n",
    "temp_df.to_excel(writer, sheet_name='Диаграмма филиалы')"
   ]
  },
  {
   "cell_type": "markdown",
   "metadata": {},
   "source": [
    "## Филиалы топы"
   ]
  },
  {
   "cell_type": "code",
   "execution_count": 56,
   "metadata": {},
   "outputs": [],
   "source": [
    "temp_df = timetable.pivot_table(index=['Филиал'], columns=['Год', 'Топ/Не топ'], \n",
    "                      values=['Доступно для записи Пациентов', 'всего время пациентов'], \n",
    "                      aggfunc={'Доступно для записи Пациентов': sum,\n",
    "                                'всего время пациентов': sum})\n",
    "def sort_timetable(x):\n",
    "    \n",
    "    if 'Доступно для записи Пациентов' in x:\n",
    "        return [['Доступно для записи Пациентов', 'всего время пациентов', 'Заполняемость'].index(i) for i in x]\n",
    "    else:\n",
    "        return [i for i in x]\n",
    "\n",
    "\n",
    "for column in temp_df.columns:\n",
    "    if column[0] == 'Доступно для записи Пациентов':\n",
    "        temp_df[('Заполняемость',) + column[1:]] = temp_df[('всего время пациентов',) + column[1:]] / temp_df[column]\n",
    "\n",
    "temp_df.columns = temp_df.columns.swaplevel(0, 2)\n",
    "temp_df.columns = temp_df.columns.swaplevel(0, 1)\n",
    "temp_df.sort_index(axis=1, inplace=True, level=[0, 1, 2], ascending=[False, False, True], key=sort_timetable)\n",
    "temp_df.to_excel(writer, sheet_name='Филиалы топы')\n",
    "\n"
   ]
  },
  {
   "cell_type": "code",
   "execution_count": 57,
   "metadata": {},
   "outputs": [],
   "source": [
    "writer.save()"
   ]
  },
  {
   "cell_type": "code",
   "execution_count": null,
   "metadata": {},
   "outputs": [],
   "source": []
  }
 ],
 "metadata": {
  "kernelspec": {
   "display_name": "Python 3",
   "language": "python",
   "name": "python3"
  },
  "language_info": {
   "codemirror_mode": {
    "name": "ipython",
    "version": 3
   },
   "file_extension": ".py",
   "mimetype": "text/x-python",
   "name": "python",
   "nbconvert_exporter": "python",
   "pygments_lexer": "ipython3",
   "version": "3.7.6"
  }
 },
 "nbformat": 4,
 "nbformat_minor": 4
}
