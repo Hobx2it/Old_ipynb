{
 "cells": [
  {
   "cell_type": "code",
   "execution_count": 60,
   "metadata": {},
   "outputs": [],
   "source": [
    "import pandas as pd\n",
    "import re\n",
    "import numpy as np\n",
    "import datetime"
   ]
  },
  {
   "cell_type": "code",
   "execution_count": 61,
   "metadata": {},
   "outputs": [],
   "source": [
    "moms = pd.read_excel('Женщины.xlsx')\n",
    "childs = pd.read_excel('Дети.xlsx')"
   ]
  },
  {
   "cell_type": "code",
   "execution_count": 62,
   "metadata": {},
   "outputs": [],
   "source": [
    "start_mom_date = datetime.date(1965, 1, 1)\n",
    "finish_mom_date = datetime.date(1997, 12, 31)\n",
    "start_child_date = datetime.date(2010, 1, 1)\n",
    "finish_child_date = datetime.date(2015, 12, 31)\n",
    "moms['Дата рождения'] = moms['Дата рождения'].dt.date\n",
    "childs['Дата рождения'] = childs['Дата рождения'].dt.date\n",
    "moms = moms[moms['Дата рождения'].between(start_mom_date, finish_mom_date, inclusive=True)]\n",
    "childs = childs[childs['Дата рождения'].between(start_child_date, finish_child_date, inclusive=True)]"
   ]
  },
  {
   "cell_type": "code",
   "execution_count": 63,
   "metadata": {},
   "outputs": [
    {
     "data": {
      "text/plain": [
       "(datetime.date(1965, 1, 1), datetime.date(1997, 12, 31))"
      ]
     },
     "execution_count": 63,
     "metadata": {},
     "output_type": "execute_result"
    }
   ],
   "source": [
    "moms['Дата рождения'].min(), moms['Дата рождения'].max()"
   ]
  },
  {
   "cell_type": "code",
   "execution_count": 64,
   "metadata": {},
   "outputs": [
    {
     "data": {
      "text/plain": [
       "(datetime.date(2010, 1, 1), datetime.date(2015, 12, 31))"
      ]
     },
     "execution_count": 64,
     "metadata": {},
     "output_type": "execute_result"
    }
   ],
   "source": [
    "childs['Дата рождения'].min(), childs['Дата рождения'].max()"
   ]
  },
  {
   "cell_type": "code",
   "execution_count": 65,
   "metadata": {},
   "outputs": [],
   "source": [
    "moms.dropna(inplace=True)\n",
    "childs.dropna(inplace=True, subset=['Телефон мобильный'])"
   ]
  },
  {
   "cell_type": "code",
   "execution_count": 66,
   "metadata": {},
   "outputs": [],
   "source": [
    "moms = moms.reset_index(drop=True)\n",
    "childs = childs.reset_index(drop=True)"
   ]
  },
  {
   "cell_type": "code",
   "execution_count": 67,
   "metadata": {},
   "outputs": [],
   "source": [
    "def to_number(s):\n",
    "    return ''.join([i for i in s if i.isdigit()])\n",
    "\n"
   ]
  },
  {
   "cell_type": "code",
   "execution_count": 68,
   "metadata": {},
   "outputs": [],
   "source": [
    "moms['Телефон мобильный'] = moms['Телефон мобильный'].apply(to_number)\n",
    "childs['Телефон мобильный'] = childs['Телефон мобильный'].apply(to_number)"
   ]
  },
  {
   "cell_type": "code",
   "execution_count": 69,
   "metadata": {},
   "outputs": [],
   "source": [
    "moms['пров'] = moms['Телефон мобильный'].apply(lambda x: x[0] if x else x)\n",
    "childs['пров'] = childs['Телефон мобильный'].apply(lambda x: x[0] if x else x)"
   ]
  },
  {
   "cell_type": "code",
   "execution_count": 70,
   "metadata": {},
   "outputs": [],
   "source": [
    "childs = childs.drop('пров', axis=1)"
   ]
  },
  {
   "cell_type": "code",
   "execution_count": 71,
   "metadata": {},
   "outputs": [],
   "source": [
    "moms = moms.drop('пров', axis=1)"
   ]
  },
  {
   "cell_type": "code",
   "execution_count": 72,
   "metadata": {},
   "outputs": [],
   "source": [
    "childs = childs.merge(moms, on='Телефон мобильный')"
   ]
  },
  {
   "cell_type": "code",
   "execution_count": 73,
   "metadata": {},
   "outputs": [],
   "source": [
    "childs = childs[childs['Телефон мобильный'] != '']"
   ]
  },
  {
   "cell_type": "code",
   "execution_count": 74,
   "metadata": {},
   "outputs": [],
   "source": [
    "childs = childs.reset_index(drop=True)"
   ]
  },
  {
   "cell_type": "code",
   "execution_count": 75,
   "metadata": {},
   "outputs": [],
   "source": [
    "childs['Фамилия ребенка'] = childs['Пациент_x'].str.split().str.get(0)\n",
    "childs['Фамилия матери'] = childs['Пациент_y'].str.split().str.get(0)"
   ]
  },
  {
   "cell_type": "code",
   "execution_count": 76,
   "metadata": {},
   "outputs": [
    {
     "data": {
      "text/html": [
       "<div>\n",
       "<style scoped>\n",
       "    .dataframe tbody tr th:only-of-type {\n",
       "        vertical-align: middle;\n",
       "    }\n",
       "\n",
       "    .dataframe tbody tr th {\n",
       "        vertical-align: top;\n",
       "    }\n",
       "\n",
       "    .dataframe thead th {\n",
       "        text-align: right;\n",
       "    }\n",
       "</style>\n",
       "<table border=\"1\" class=\"dataframe\">\n",
       "  <thead>\n",
       "    <tr style=\"text-align: right;\">\n",
       "      <th></th>\n",
       "      <th>Номер карты_x</th>\n",
       "      <th>Пациент_x</th>\n",
       "      <th>Дата рождения_x</th>\n",
       "      <th>Телефон мобильный</th>\n",
       "      <th>Электронный адрес Пациента_x</th>\n",
       "      <th>Пол_x</th>\n",
       "      <th>Номер карты_y</th>\n",
       "      <th>Пациент_y</th>\n",
       "      <th>Дата рождения_y</th>\n",
       "      <th>Электронный адрес Пациента_y</th>\n",
       "      <th>Пол_y</th>\n",
       "      <th>Фамилия ребенка</th>\n",
       "      <th>Фамилия матери</th>\n",
       "    </tr>\n",
       "  </thead>\n",
       "  <tbody>\n",
       "    <tr>\n",
       "      <th>0</th>\n",
       "      <td>157304</td>\n",
       "      <td>Федорова Алена Александровна</td>\n",
       "      <td>2010-01-07</td>\n",
       "      <td>79213558228</td>\n",
       "      <td>-</td>\n",
       "      <td>Женский</td>\n",
       "      <td>63830</td>\n",
       "      <td>Голубева Ольга Рудольфовна</td>\n",
       "      <td>1972-10-11</td>\n",
       "      <td>olgagolubeva-spb@mail.ru</td>\n",
       "      <td>Женский</td>\n",
       "      <td>Федорова</td>\n",
       "      <td>Голубева</td>\n",
       "    </tr>\n",
       "    <tr>\n",
       "      <th>1</th>\n",
       "      <td>100096035</td>\n",
       "      <td>Нильссон Ник</td>\n",
       "      <td>2010-03-30</td>\n",
       "      <td>79213558228</td>\n",
       "      <td>-</td>\n",
       "      <td>Мужской</td>\n",
       "      <td>63830</td>\n",
       "      <td>Голубева Ольга Рудольфовна</td>\n",
       "      <td>1972-10-11</td>\n",
       "      <td>olgagolubeva-spb@mail.ru</td>\n",
       "      <td>Женский</td>\n",
       "      <td>Нильссон</td>\n",
       "      <td>Голубева</td>\n",
       "    </tr>\n",
       "    <tr>\n",
       "      <th>2</th>\n",
       "      <td>157834</td>\n",
       "      <td>Назаров Иван Алексеевич</td>\n",
       "      <td>2010-01-05</td>\n",
       "      <td>79052874971</td>\n",
       "      <td>na80@yandex.ru</td>\n",
       "      <td>Мужской</td>\n",
       "      <td>205079</td>\n",
       "      <td>Назарова Ольга Ивановна</td>\n",
       "      <td>1984-01-22</td>\n",
       "      <td>na80@yandex.ru</td>\n",
       "      <td>Женский</td>\n",
       "      <td>Назаров</td>\n",
       "      <td>Назарова</td>\n",
       "    </tr>\n",
       "    <tr>\n",
       "      <th>3</th>\n",
       "      <td>120186531</td>\n",
       "      <td>Назаров Виктор Алексеевич</td>\n",
       "      <td>2013-07-31</td>\n",
       "      <td>79052874971</td>\n",
       "      <td>na80@yandex.ru</td>\n",
       "      <td>Мужской</td>\n",
       "      <td>205079</td>\n",
       "      <td>Назарова Ольга Ивановна</td>\n",
       "      <td>1984-01-22</td>\n",
       "      <td>na80@yandex.ru</td>\n",
       "      <td>Женский</td>\n",
       "      <td>Назаров</td>\n",
       "      <td>Назарова</td>\n",
       "    </tr>\n",
       "    <tr>\n",
       "      <th>4</th>\n",
       "      <td>158289</td>\n",
       "      <td>Кошкарова Эмилия Эдуардовна</td>\n",
       "      <td>2010-01-15</td>\n",
       "      <td>79111505746</td>\n",
       "      <td>elyacoshka@yandex.ru</td>\n",
       "      <td>Женский</td>\n",
       "      <td>159002</td>\n",
       "      <td>Кошкарова Элеонора Анатольевна</td>\n",
       "      <td>1974-01-25</td>\n",
       "      <td>elyacoshka@yandex.ru</td>\n",
       "      <td>Женский</td>\n",
       "      <td>Кошкарова</td>\n",
       "      <td>Кошкарова</td>\n",
       "    </tr>\n",
       "    <tr>\n",
       "      <th>...</th>\n",
       "      <td>...</td>\n",
       "      <td>...</td>\n",
       "      <td>...</td>\n",
       "      <td>...</td>\n",
       "      <td>...</td>\n",
       "      <td>...</td>\n",
       "      <td>...</td>\n",
       "      <td>...</td>\n",
       "      <td>...</td>\n",
       "      <td>...</td>\n",
       "      <td>...</td>\n",
       "      <td>...</td>\n",
       "      <td>...</td>\n",
       "    </tr>\n",
       "    <tr>\n",
       "      <th>21285</th>\n",
       "      <td>990537575</td>\n",
       "      <td>Румянцева Рада Валентиновна</td>\n",
       "      <td>2015-12-29</td>\n",
       "      <td>79119056003</td>\n",
       "      <td>-</td>\n",
       "      <td>Женский</td>\n",
       "      <td>280008910</td>\n",
       "      <td>Румянцева Наталья Алексеевна</td>\n",
       "      <td>1984-07-31</td>\n",
       "      <td>tata84rum@mail.ru</td>\n",
       "      <td>Женский</td>\n",
       "      <td>Румянцева</td>\n",
       "      <td>Румянцева</td>\n",
       "    </tr>\n",
       "    <tr>\n",
       "      <th>21286</th>\n",
       "      <td>990539932</td>\n",
       "      <td>Большакова Александра Олеговна</td>\n",
       "      <td>2010-11-30</td>\n",
       "      <td>79213031036</td>\n",
       "      <td>oobolshakova@yahoo.com</td>\n",
       "      <td>Женский</td>\n",
       "      <td>990539929</td>\n",
       "      <td>Большакова Ольга Олеговна</td>\n",
       "      <td>1968-04-11</td>\n",
       "      <td>oobolshakova@yahoo.com</td>\n",
       "      <td>Женский</td>\n",
       "      <td>Большакова</td>\n",
       "      <td>Большакова</td>\n",
       "    </tr>\n",
       "    <tr>\n",
       "      <th>21287</th>\n",
       "      <td>990539943</td>\n",
       "      <td>Пухов Александр Игоревич</td>\n",
       "      <td>2010-06-20</td>\n",
       "      <td>79219492806</td>\n",
       "      <td>pimonenko@hotmail.com</td>\n",
       "      <td>Мужской</td>\n",
       "      <td>120372406</td>\n",
       "      <td>Пухова Мария Геннадьевна</td>\n",
       "      <td>1979-01-22</td>\n",
       "      <td>pimonenko@hotmail.com</td>\n",
       "      <td>Женский</td>\n",
       "      <td>Пухов</td>\n",
       "      <td>Пухова</td>\n",
       "    </tr>\n",
       "    <tr>\n",
       "      <th>21288</th>\n",
       "      <td>990540112</td>\n",
       "      <td>Полторабатько Ксения Антоновна</td>\n",
       "      <td>2011-08-12</td>\n",
       "      <td>79112433383</td>\n",
       "      <td>-</td>\n",
       "      <td>Женский</td>\n",
       "      <td>100225398</td>\n",
       "      <td>Полторабатько Ольга Владиславовна</td>\n",
       "      <td>1988-07-13</td>\n",
       "      <td>poltorabatko.olga@mail.ru</td>\n",
       "      <td>Женский</td>\n",
       "      <td>Полторабатько</td>\n",
       "      <td>Полторабатько</td>\n",
       "    </tr>\n",
       "    <tr>\n",
       "      <th>21289</th>\n",
       "      <td>990540113</td>\n",
       "      <td>Полторабатько Полина Антоновна</td>\n",
       "      <td>2013-05-28</td>\n",
       "      <td>79112433383</td>\n",
       "      <td>-</td>\n",
       "      <td>Женский</td>\n",
       "      <td>100225398</td>\n",
       "      <td>Полторабатько Ольга Владиславовна</td>\n",
       "      <td>1988-07-13</td>\n",
       "      <td>poltorabatko.olga@mail.ru</td>\n",
       "      <td>Женский</td>\n",
       "      <td>Полторабатько</td>\n",
       "      <td>Полторабатько</td>\n",
       "    </tr>\n",
       "  </tbody>\n",
       "</table>\n",
       "<p>21290 rows × 13 columns</p>\n",
       "</div>"
      ],
      "text/plain": [
       "      Номер карты_x                       Пациент_x Дата рождения_x  \\\n",
       "0            157304    Федорова Алена Александровна      2010-01-07   \n",
       "1         100096035                    Нильссон Ник      2010-03-30   \n",
       "2            157834         Назаров Иван Алексеевич      2010-01-05   \n",
       "3         120186531       Назаров Виктор Алексеевич      2013-07-31   \n",
       "4            158289     Кошкарова Эмилия Эдуардовна      2010-01-15   \n",
       "...             ...                             ...             ...   \n",
       "21285     990537575     Румянцева Рада Валентиновна      2015-12-29   \n",
       "21286     990539932  Большакова Александра Олеговна      2010-11-30   \n",
       "21287     990539943        Пухов Александр Игоревич      2010-06-20   \n",
       "21288     990540112  Полторабатько Ксения Антоновна      2011-08-12   \n",
       "21289     990540113  Полторабатько Полина Антоновна      2013-05-28   \n",
       "\n",
       "      Телефон мобильный Электронный адрес Пациента_x    Пол_x Номер карты_y  \\\n",
       "0           79213558228                            -  Женский         63830   \n",
       "1           79213558228                            -  Мужской         63830   \n",
       "2           79052874971               na80@yandex.ru  Мужской        205079   \n",
       "3           79052874971               na80@yandex.ru  Мужской        205079   \n",
       "4           79111505746         elyacoshka@yandex.ru  Женский        159002   \n",
       "...                 ...                          ...      ...           ...   \n",
       "21285       79119056003                            -  Женский     280008910   \n",
       "21286       79213031036       oobolshakova@yahoo.com  Женский     990539929   \n",
       "21287       79219492806        pimonenko@hotmail.com  Мужской     120372406   \n",
       "21288       79112433383                            -  Женский     100225398   \n",
       "21289       79112433383                            -  Женский     100225398   \n",
       "\n",
       "                               Пациент_y Дата рождения_y  \\\n",
       "0             Голубева Ольга Рудольфовна      1972-10-11   \n",
       "1             Голубева Ольга Рудольфовна      1972-10-11   \n",
       "2                Назарова Ольга Ивановна      1984-01-22   \n",
       "3                Назарова Ольга Ивановна      1984-01-22   \n",
       "4         Кошкарова Элеонора Анатольевна      1974-01-25   \n",
       "...                                  ...             ...   \n",
       "21285       Румянцева Наталья Алексеевна      1984-07-31   \n",
       "21286          Большакова Ольга Олеговна      1968-04-11   \n",
       "21287           Пухова Мария Геннадьевна      1979-01-22   \n",
       "21288  Полторабатько Ольга Владиславовна      1988-07-13   \n",
       "21289  Полторабатько Ольга Владиславовна      1988-07-13   \n",
       "\n",
       "      Электронный адрес Пациента_y    Пол_y Фамилия ребенка Фамилия матери  \n",
       "0         olgagolubeva-spb@mail.ru  Женский        Федорова       Голубева  \n",
       "1         olgagolubeva-spb@mail.ru  Женский        Нильссон       Голубева  \n",
       "2                   na80@yandex.ru  Женский         Назаров       Назарова  \n",
       "3                   na80@yandex.ru  Женский         Назаров       Назарова  \n",
       "4             elyacoshka@yandex.ru  Женский       Кошкарова      Кошкарова  \n",
       "...                            ...      ...             ...            ...  \n",
       "21285            tata84rum@mail.ru  Женский       Румянцева      Румянцева  \n",
       "21286       oobolshakova@yahoo.com  Женский      Большакова     Большакова  \n",
       "21287        pimonenko@hotmail.com  Женский           Пухов         Пухова  \n",
       "21288    poltorabatko.olga@mail.ru  Женский   Полторабатько  Полторабатько  \n",
       "21289    poltorabatko.olga@mail.ru  Женский   Полторабатько  Полторабатько  \n",
       "\n",
       "[21290 rows x 13 columns]"
      ]
     },
     "execution_count": 76,
     "metadata": {},
     "output_type": "execute_result"
    }
   ],
   "source": [
    "childs"
   ]
  },
  {
   "cell_type": "code",
   "execution_count": 77,
   "metadata": {},
   "outputs": [],
   "source": [
    "import nltk"
   ]
  },
  {
   "cell_type": "code",
   "execution_count": 78,
   "metadata": {},
   "outputs": [
    {
     "data": {
      "text/plain": [
       "1"
      ]
     },
     "execution_count": 78,
     "metadata": {},
     "output_type": "execute_result"
    }
   ],
   "source": [
    "nltk.edit_distance('Назаров', 'Назарова')"
   ]
  },
  {
   "cell_type": "code",
   "execution_count": 79,
   "metadata": {},
   "outputs": [],
   "source": [
    "def distance(row):\n",
    "    \n",
    "    return nltk.edit_distance(row['Фамилия ребенка'], row['Фамилия матери'])\n",
    "\n",
    "childs['Расстояние фамилий'] = childs.apply(distance, axis=1)"
   ]
  },
  {
   "cell_type": "code",
   "execution_count": 86,
   "metadata": {},
   "outputs": [],
   "source": [
    "childs[childs['Расстояние фамилий'] <= 2].to_excel('Матери_дети.xlsx')"
   ]
  },
  {
   "cell_type": "code",
   "execution_count": null,
   "metadata": {},
   "outputs": [],
   "source": []
  }
 ],
 "metadata": {
  "kernelspec": {
   "display_name": "Python 3",
   "language": "python",
   "name": "python3"
  },
  "language_info": {
   "codemirror_mode": {
    "name": "ipython",
    "version": 3
   },
   "file_extension": ".py",
   "mimetype": "text/x-python",
   "name": "python",
   "nbconvert_exporter": "python",
   "pygments_lexer": "ipython3",
   "version": "3.7.6"
  }
 },
 "nbformat": 4,
 "nbformat_minor": 4
}
