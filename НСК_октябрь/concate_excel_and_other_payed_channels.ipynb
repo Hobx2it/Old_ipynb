{
 "cells": [
  {
   "cell_type": "markdown",
   "metadata": {},
   "source": [
    "# Новосибирск"
   ]
  },
  {
   "cell_type": "code",
   "execution_count": 42,
   "metadata": {},
   "outputs": [],
   "source": [
    "import pandas as pd\n",
    "import numpy as np\n",
    "import matplotlib.pyplot as plt\n",
    "import re\n",
    "import os\n",
    "%matplotlib inline"
   ]
  },
  {
   "cell_type": "code",
   "execution_count": 43,
   "metadata": {},
   "outputs": [],
   "source": [
    "def to_string(a):\n",
    "    if isinstance(a, float):\n",
    "        return str(int(a))\n",
    "    elif isinstance(a, int):\n",
    "        return str(a)\n",
    "    else:\n",
    "        return str(a)\n",
    "\n",
    "DF = pd.DataFrame()    \n",
    "   \n",
    "for file in os.listdir('.'):\n",
    "    if 'xlsx' in file and '$' not in file:\n",
    "        name = file[:file.find('.xlsx')]\n",
    "        temp_df = pd.read_excel(file, usecols=['Дата и время', 'Номер абонента'], skiprows=4, dtype=str)\n",
    "        temp_df['Кампания'] = name\n",
    "        DF = DF.append(temp_df)\n",
    "\n",
    "\n",
    "            \n",
    "         \n",
    "DF = DF[~DF['Номер абонента'].isnull()]  \n",
    "DF['Дата и время'] = pd.to_datetime(DF['Дата и время'], format='%Y-%m-%d %H:%M:%S')\n",
    "\n",
    "\n",
    "\n"
   ]
  },
  {
   "cell_type": "code",
   "execution_count": 44,
   "metadata": {},
   "outputs": [],
   "source": [
    "from pprint import pprint\n",
    "s = '''+79830028188 (Терапевт нск);\n",
    "+79830028187 (Терапевт нск);\n",
    "+79231150775 (Терапевт нск);\n",
    "+79059590638 (НСК_Удаление родинок_Новосибирск);\n",
    "+79137099367 (Педиатр нсб);\n",
    "+79133728033 (НСК_Удаление родинок_Новосибирск);\n",
    "+77071906966 (НСК_Удаление родинок_Новосибирск);\n",
    "+79231116229 (НСК_Удаление родинок_Новосибирск);\n",
    "+79529049670 (НСК_Удаление родинок_Новосибирск);\n",
    "+79618753867 (НСК_Удаление родинок_Новосибирск);\n",
    "+79628409228 (НСК_Удаление родинок_Новосибирск);\n",
    "+79163950593 (Врач на дом нсб #2);\n",
    "+79232212893 (НСК_Удаление родинок_Новосибирск);\n",
    "+79231285636 (Педиатр нсб);\n",
    "+79039977668 (Терапевт нск);\n",
    "+79833073205 (Врач на дом нсб #2);\n",
    "+79125929806 (Педиатр нсб);\n",
    "+79131245177 (НСК_Удаление родинок_Новосибирск);\n",
    "+79137232242 (Врач на дом нсб #2);\n",
    "+79537657748 (ЛОР нск);'''\n",
    "\n",
    "s = [i.strip(';').replace('(', '').replace(')', '').split(maxsplit=1) for i in s.split('\\n')]\n",
    "\n",
    "from difflib import get_close_matches\n",
    "\n",
    "lst = DF['Кампания'].to_list()\n",
    "\n",
    "l = [[i[0], get_close_matches(i[1], lst, n=1, cutoff=0.8)[0]] for i in s]\n",
    "\n",
    "x = pd.DataFrame([pd.Series([j[0] for j in l], name='Номер абонента'), pd.Series([j[1] for j in l], name='Кампания')]).T\n",
    "\n",
    "x['Дата и время'] = pd.to_datetime('2020-10-01', format='%Y-%m-%d')\n",
    "\n",
    "DF = DF.append(x) \n",
    "\n",
    "\n"
   ]
  },
  {
   "cell_type": "code",
   "execution_count": 45,
   "metadata": {},
   "outputs": [],
   "source": [
    "DF = DF.sort_values(by='Дата и время', ignore_index=True)\n",
    "\n",
    "DF = DF.drop_duplicates(subset='Номер абонента', ignore_index=True) \n",
    "\n"
   ]
  },
  {
   "cell_type": "code",
   "execution_count": null,
   "metadata": {},
   "outputs": [],
   "source": []
  },
  {
   "cell_type": "code",
   "execution_count": 46,
   "metadata": {},
   "outputs": [],
   "source": [
    "def join_list(lst):\n",
    "    return ', '.join([str(i) for i in lst])\n",
    "\n",
    "\n",
    "\n",
    "au_telefons = pd.read_excel('./Оборот/НСК_оборот.xlsx')\n",
    "\n",
    "dom, mobil, work = au_telefons['Телефон домашний'].tolist(), au_telefons['Телефон мобильный'].tolist(), au_telefons['Телефон рабочий'].tolist()\n",
    "\n",
    "pattern = r'\\(\\d{2}\\)'\n",
    "pattern2 = r'[а-яА-Яa-zA-Z]{1}'\n",
    "\n",
    "for key in (dom, mobil, work):\n",
    "    for i, j in enumerate(key):\n",
    "        if type(j) == str:\n",
    "            key[i] = ''.join([x if x not in ',;!:.\\\\/+' else ' ' for x in j])        \n",
    "            key[i] = key[i].lstrip(' ')\n",
    "            key[i] = key[i].rstrip(' ')\n",
    "            if re.search(pattern2, key[i]):\n",
    "                key[i] = re.sub(pattern2, '', key[i])\n",
    "            key[i] = ''.join([x for x in key[i] if x not in '()-'])  \n",
    "            \n",
    "for key in (dom, mobil, work):\n",
    "    for i, j in enumerate(key):\n",
    "        if type(j) == str:\n",
    "            if len(j) == 7:\n",
    "                key[i] = '7812' + key[i]\n",
    "            elif len(j) == 11 and j[0] == '8':\n",
    "                key[i] = '7' + j[1:]\n",
    "            elif len(j) == 10:\n",
    "                key[i] = '7' + j\n",
    "                \n",
    "def concate_lists(*args) -> list:   # соединим все номера в одну строку чтобы проще было искать\n",
    "    temp_lst = []\n",
    "    for i in range(len(args[0])):\n",
    "        temp_lst.append(' '.join([str(x[i]) for x in args]))\n",
    "    return temp_lst\n",
    "            \n",
    "lst_search = concate_lists(dom, mobil, work)                 \n",
    "\n",
    "lst_with_coincidenc_telefon  = []\n",
    "for index, row in enumerate(lst_search):\n",
    "    lst_with_coincidenc_telefon.append('')\n",
    "    for i in DF['Номер абонента']:\n",
    "        if str(i) in row:\n",
    "            lst_with_coincidenc_telefon[index] = str(i)\n",
    "            break\n",
    "            \n",
    "au_telefons['Совпадение'] = lst_with_coincidenc_telefon            \n",
    "            \n",
    "au_telefons_final = au_telefons[au_telefons['Совпадение'] != '']\n",
    "au_telefons_final = au_telefons_final.merge(DF, left_on='Совпадение', right_on='Номер абонента', how='left')\n",
    "au_telefons_final = au_telefons_final.fillna('')\n",
    "\n",
    "\n",
    "# не забыть проверить чтобы даты приемов были больше или равны дате звонка          \n",
    "\n"
   ]
  },
  {
   "cell_type": "code",
   "execution_count": 47,
   "metadata": {},
   "outputs": [],
   "source": [
    "au_telefons_final['Совпадение дат'] = au_telefons_final['Дата приема'] >= au_telefons_final['Дата и время']\n",
    "\n",
    "au_telefons_final = au_telefons_final[au_telefons_final['Совпадение дат'] == True]\n",
    "\n",
    "au_telefons_final.to_excel('НСК_обработано.xlsx')"
   ]
  },
  {
   "cell_type": "code",
   "execution_count": null,
   "metadata": {},
   "outputs": [],
   "source": []
  }
 ],
 "metadata": {
  "kernelspec": {
   "display_name": "Python 3",
   "language": "python",
   "name": "python3"
  },
  "language_info": {
   "codemirror_mode": {
    "name": "ipython",
    "version": 3
   },
   "file_extension": ".py",
   "mimetype": "text/x-python",
   "name": "python",
   "nbconvert_exporter": "python",
   "pygments_lexer": "ipython3",
   "version": "3.7.6"
  }
 },
 "nbformat": 4,
 "nbformat_minor": 4
}
