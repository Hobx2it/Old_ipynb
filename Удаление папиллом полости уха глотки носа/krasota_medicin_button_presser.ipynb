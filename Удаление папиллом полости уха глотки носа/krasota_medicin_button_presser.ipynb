{
 "cells": [
  {
   "cell_type": "code",
   "execution_count": 1,
   "metadata": {},
   "outputs": [],
   "source": [
    "from selenium import webdriver\n",
    "from selenium.webdriver.common.by import By\n",
    "from selenium.webdriver.support.ui import WebDriverWait\n",
    "from selenium.webdriver.support import expected_conditions as EC\n",
    "import math\n",
    "import time"
   ]
  },
  {
   "cell_type": "code",
   "execution_count": null,
   "metadata": {},
   "outputs": [],
   "source": [
    "link = 'https://spb.krasotaimedicina.ru/treatment/nasal-polyp/neoplasm?filter=Y&free_param=51009971'\n",
    "\n",
    "with webdriver.Chrome(executable_path=r'C:\\Users\\AmanovRA\\Anaconda3\\Work-work\\Lessons\\Selenium\\chromedriver.exe') as browser:\n",
    "    browser.implicitly_wait(5)\n",
    "    browser.get(link)\n",
    "    selector = '//*[contains(text(), \"еще\")]'\n",
    "    arr = browser.find_elements_by_xpath(selector)\n",
    "    while arr:\n",
    "        for element in arr:\n",
    "            element.click()\n",
    "        arr = browser.find_elements_by_xpath(selector)\n",
    "    time.sleep(200)    "
   ]
  },
  {
   "cell_type": "code",
   "execution_count": null,
   "metadata": {},
   "outputs": [],
   "source": []
  }
 ],
 "metadata": {
  "kernelspec": {
   "display_name": "Python 3",
   "language": "python",
   "name": "python3"
  },
  "language_info": {
   "codemirror_mode": {
    "name": "ipython",
    "version": 3
   },
   "file_extension": ".py",
   "mimetype": "text/x-python",
   "name": "python",
   "nbconvert_exporter": "python",
   "pygments_lexer": "ipython3",
   "version": "3.7.6"
  }
 },
 "nbformat": 4,
 "nbformat_minor": 4
}
