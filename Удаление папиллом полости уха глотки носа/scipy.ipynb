{
 "cells": [
  {
   "cell_type": "code",
   "execution_count": 18,
   "metadata": {},
   "outputs": [],
   "source": [
    "from scipy import stats\n",
    "import numpy as np\n",
    "import pandas as pd\n",
    "\n",
    "a = pd.read_clipboard()\n",
    "\n",
    "a = np.log(a)\n",
    "\n",
    "mean, sigma = np.mean(a), np.std(a)\n",
    "\n",
    "x = (stats.norm.interval(0.95, loc=mean, scale=sigma))\n",
    "\n"
   ]
  },
  {
   "cell_type": "code",
   "execution_count": 19,
   "metadata": {},
   "outputs": [
    {
     "data": {
      "text/plain": [
       "array([[<matplotlib.axes._subplots.AxesSubplot object at 0x0000015873273C48>]],\n",
       "      dtype=object)"
      ]
     },
     "execution_count": 19,
     "metadata": {},
     "output_type": "execute_result"
    },
    {
     "data": {
      "image/png": "[encoded data removed]",
      "text/plain": [
       "<Figure size 432x288 with 1 Axes>"
      ]
     },
     "metadata": {
      "needs_background": "light"
     },
     "output_type": "display_data"
    }
   ],
   "source": [
    "a.hist(bins=15)"
   ]
  },
  {
   "cell_type": "code",
   "execution_count": 25,
   "metadata": {},
   "outputs": [],
   "source": [
    "a = np.clip(a, x[0][0], x[1][0])"
   ]
  },
  {
   "cell_type": "code",
   "execution_count": 26,
   "metadata": {},
   "outputs": [],
   "source": [
    "res = np.exp(a)"
   ]
  },
  {
   "cell_type": "code",
   "execution_count": 29,
   "metadata": {},
   "outputs": [
    {
     "data": {
      "text/plain": [
       "Цена    6073.067316\n",
       "dtype: float64"
      ]
     },
     "execution_count": 29,
     "metadata": {},
     "output_type": "execute_result"
    }
   ],
   "source": [
    "res.mean()"
   ]
  },
  {
   "cell_type": "code",
   "execution_count": 30,
   "metadata": {},
   "outputs": [],
   "source": [
    "data = pd.read_clipboard()"
   ]
  },
  {
   "cell_type": "code",
   "execution_count": 31,
   "metadata": {},
   "outputs": [
    {
     "data": {
      "text/html": [
       "<div>\n",
       "<style scoped>\n",
       "    .dataframe tbody tr th:only-of-type {\n",
       "        vertical-align: middle;\n",
       "    }\n",
       "\n",
       "    .dataframe tbody tr th {\n",
       "        vertical-align: top;\n",
       "    }\n",
       "\n",
       "    .dataframe thead th {\n",
       "        text-align: right;\n",
       "    }\n",
       "</style>\n",
       "<table border=\"1\" class=\"dataframe\">\n",
       "  <thead>\n",
       "    <tr style=\"text-align: right;\">\n",
       "      <th></th>\n",
       "      <th>пвап</th>\n",
       "      <th>аыва</th>\n",
       "    </tr>\n",
       "  </thead>\n",
       "  <tbody>\n",
       "    <tr>\n",
       "      <th>0</th>\n",
       "      <td>Многопрофильная детская клиника Основа Дети</td>\n",
       "      <td>NaN</td>\n",
       "    </tr>\n",
       "    <tr>\n",
       "      <th>1</th>\n",
       "      <td>Удаление папилломы небной дужки (миндалины)</td>\n",
       "      <td>650 руб.</td>\n",
       "    </tr>\n",
       "    <tr>\n",
       "      <th>2</th>\n",
       "      <td>Клиника Энергия Здоровья</td>\n",
       "      <td>NaN</td>\n",
       "    </tr>\n",
       "    <tr>\n",
       "      <th>3</th>\n",
       "      <td>Радиоволновая каутеризация лимфатических образ...</td>\n",
       "      <td>12 000 руб.</td>\n",
       "    </tr>\n",
       "    <tr>\n",
       "      <th>4</th>\n",
       "      <td>Радиоволновое удаление папилломы носа, глотки,...</td>\n",
       "      <td>4000 руб.</td>\n",
       "    </tr>\n",
       "    <tr>\n",
       "      <th>...</th>\n",
       "      <td>...</td>\n",
       "      <td>...</td>\n",
       "    </tr>\n",
       "    <tr>\n",
       "      <th>133</th>\n",
       "      <td>Удаление инородного тела глотки или гортани (у...</td>\n",
       "      <td>2500 руб.</td>\n",
       "    </tr>\n",
       "    <tr>\n",
       "      <th>134</th>\n",
       "      <td>Городская Мариинская больница</td>\n",
       "      <td>NaN</td>\n",
       "    </tr>\n",
       "    <tr>\n",
       "      <th>135</th>\n",
       "      <td>Удаление инородного тела глотки или гортани (у...</td>\n",
       "      <td>774 руб.</td>\n",
       "    </tr>\n",
       "    <tr>\n",
       "      <th>136</th>\n",
       "      <td>Удаление инородного тела глотки или гортани (у...</td>\n",
       "      <td>809 руб.</td>\n",
       "    </tr>\n",
       "    <tr>\n",
       "      <th>137</th>\n",
       "      <td>Удаление инородного тела глотки или гортани (у...</td>\n",
       "      <td>2500 руб.</td>\n",
       "    </tr>\n",
       "  </tbody>\n",
       "</table>\n",
       "<p>138 rows × 2 columns</p>\n",
       "</div>"
      ],
      "text/plain": [
       "                                                  пвап         аыва\n",
       "0          Многопрофильная детская клиника Основа Дети          NaN\n",
       "1          Удаление папилломы небной дужки (миндалины)     650 руб.\n",
       "2                             Клиника Энергия Здоровья          NaN\n",
       "3    Радиоволновая каутеризация лимфатических образ...  12 000 руб.\n",
       "4    Радиоволновое удаление папилломы носа, глотки,...    4000 руб.\n",
       "..                                                 ...          ...\n",
       "133  Удаление инородного тела глотки или гортани (у...    2500 руб.\n",
       "134                      Городская Мариинская больница          NaN\n",
       "135  Удаление инородного тела глотки или гортани (у...     774 руб.\n",
       "136  Удаление инородного тела глотки или гортани (у...     809 руб.\n",
       "137  Удаление инородного тела глотки или гортани (у...    2500 руб.\n",
       "\n",
       "[138 rows x 2 columns]"
      ]
     },
     "execution_count": 31,
     "metadata": {},
     "output_type": "execute_result"
    }
   ],
   "source": [
    "data"
   ]
  },
  {
   "cell_type": "code",
   "execution_count": 36,
   "metadata": {},
   "outputs": [],
   "source": [
    "dct = {'Клиника': [],\n",
    "      'Услуга': [],\n",
    "      'Цена': []}\n",
    "\n",
    "for x1, x2 in zip(data['пвап'].tolist(), data['аыва'].tolist()):\n",
    "    if x2 is np.nan:\n",
    "        clinic = x1    \n",
    "    if x2 is not np.nan:\n",
    "        dct['Клиника'].append(clinic)\n",
    "        dct['Услуга'].append(x1)\n",
    "        dct['Цена'].append(x2)"
   ]
  },
  {
   "cell_type": "code",
   "execution_count": 37,
   "metadata": {},
   "outputs": [],
   "source": [
    "data_new = pd.DataFrame(dct)"
   ]
  },
  {
   "cell_type": "code",
   "execution_count": 38,
   "metadata": {},
   "outputs": [
    {
     "data": {
      "text/html": [
       "<div>\n",
       "<style scoped>\n",
       "    .dataframe tbody tr th:only-of-type {\n",
       "        vertical-align: middle;\n",
       "    }\n",
       "\n",
       "    .dataframe tbody tr th {\n",
       "        vertical-align: top;\n",
       "    }\n",
       "\n",
       "    .dataframe thead th {\n",
       "        text-align: right;\n",
       "    }\n",
       "</style>\n",
       "<table border=\"1\" class=\"dataframe\">\n",
       "  <thead>\n",
       "    <tr style=\"text-align: right;\">\n",
       "      <th></th>\n",
       "      <th>Клиника</th>\n",
       "      <th>Услуга</th>\n",
       "      <th>Цена</th>\n",
       "    </tr>\n",
       "  </thead>\n",
       "  <tbody>\n",
       "    <tr>\n",
       "      <th>0</th>\n",
       "      <td>Многопрофильная детская клиника Основа Дети</td>\n",
       "      <td>Удаление папилломы небной дужки (миндалины)</td>\n",
       "      <td>650 руб.</td>\n",
       "    </tr>\n",
       "    <tr>\n",
       "      <th>1</th>\n",
       "      <td>Клиника Энергия Здоровья</td>\n",
       "      <td>Радиоволновая каутеризация лимфатических образ...</td>\n",
       "      <td>12 000 руб.</td>\n",
       "    </tr>\n",
       "    <tr>\n",
       "      <th>2</th>\n",
       "      <td>Клиника Энергия Здоровья</td>\n",
       "      <td>Радиоволновое удаление папилломы носа, глотки,...</td>\n",
       "      <td>4000 руб.</td>\n",
       "    </tr>\n",
       "    <tr>\n",
       "      <th>3</th>\n",
       "      <td>МедиЛайф</td>\n",
       "      <td>Удаление папиллом рта на ножке</td>\n",
       "      <td>1500 руб.</td>\n",
       "    </tr>\n",
       "    <tr>\n",
       "      <th>4</th>\n",
       "      <td>Консультативно-диагностический центр с поликли...</td>\n",
       "      <td>Удаление доброкачественных образований полости...</td>\n",
       "      <td>4000 руб.</td>\n",
       "    </tr>\n",
       "    <tr>\n",
       "      <th>...</th>\n",
       "      <td>...</td>\n",
       "      <td>...</td>\n",
       "      <td>...</td>\n",
       "    </tr>\n",
       "    <tr>\n",
       "      <th>82</th>\n",
       "      <td>Городская многопрофильная больница № 2</td>\n",
       "      <td>Удаление доброкачественного образования гортан...</td>\n",
       "      <td>24 000 руб.</td>\n",
       "    </tr>\n",
       "    <tr>\n",
       "      <th>83</th>\n",
       "      <td>Мариинская больница</td>\n",
       "      <td>Удаление инородного тела глотки или гортани (у...</td>\n",
       "      <td>2500 руб.</td>\n",
       "    </tr>\n",
       "    <tr>\n",
       "      <th>84</th>\n",
       "      <td>Городская Мариинская больница</td>\n",
       "      <td>Удаление инородного тела глотки или гортани (у...</td>\n",
       "      <td>774 руб.</td>\n",
       "    </tr>\n",
       "    <tr>\n",
       "      <th>85</th>\n",
       "      <td>Городская Мариинская больница</td>\n",
       "      <td>Удаление инородного тела глотки или гортани (у...</td>\n",
       "      <td>809 руб.</td>\n",
       "    </tr>\n",
       "    <tr>\n",
       "      <th>86</th>\n",
       "      <td>Городская Мариинская больница</td>\n",
       "      <td>Удаление инородного тела глотки или гортани (у...</td>\n",
       "      <td>2500 руб.</td>\n",
       "    </tr>\n",
       "  </tbody>\n",
       "</table>\n",
       "<p>87 rows × 3 columns</p>\n",
       "</div>"
      ],
      "text/plain": [
       "                                              Клиника  \\\n",
       "0         Многопрофильная детская клиника Основа Дети   \n",
       "1                            Клиника Энергия Здоровья   \n",
       "2                            Клиника Энергия Здоровья   \n",
       "3                                            МедиЛайф   \n",
       "4   Консультативно-диагностический центр с поликли...   \n",
       "..                                                ...   \n",
       "82             Городская многопрофильная больница № 2   \n",
       "83                                Мариинская больница   \n",
       "84                      Городская Мариинская больница   \n",
       "85                      Городская Мариинская больница   \n",
       "86                      Городская Мариинская больница   \n",
       "\n",
       "                                               Услуга         Цена  \n",
       "0         Удаление папилломы небной дужки (миндалины)     650 руб.  \n",
       "1   Радиоволновая каутеризация лимфатических образ...  12 000 руб.  \n",
       "2   Радиоволновое удаление папилломы носа, глотки,...    4000 руб.  \n",
       "3                      Удаление папиллом рта на ножке    1500 руб.  \n",
       "4   Удаление доброкачественных образований полости...    4000 руб.  \n",
       "..                                                ...          ...  \n",
       "82  Удаление доброкачественного образования гортан...  24 000 руб.  \n",
       "83  Удаление инородного тела глотки или гортани (у...    2500 руб.  \n",
       "84  Удаление инородного тела глотки или гортани (у...     774 руб.  \n",
       "85  Удаление инородного тела глотки или гортани (у...     809 руб.  \n",
       "86  Удаление инородного тела глотки или гортани (у...    2500 руб.  \n",
       "\n",
       "[87 rows x 3 columns]"
      ]
     },
     "execution_count": 38,
     "metadata": {},
     "output_type": "execute_result"
    }
   ],
   "source": [
    "data_new"
   ]
  },
  {
   "cell_type": "code",
   "execution_count": 42,
   "metadata": {},
   "outputs": [],
   "source": [
    "data_new['Цена'] = data_new['Цена'].str.replace(' руб.', '')"
   ]
  },
  {
   "cell_type": "code",
   "execution_count": 45,
   "metadata": {},
   "outputs": [],
   "source": [
    "data_new['Цена'] = data_new['Цена'].apply(lambda x: ''.join([i for i in x if i.isdigit()])).astype(int)"
   ]
  },
  {
   "cell_type": "code",
   "execution_count": null,
   "metadata": {},
   "outputs": [],
   "source": []
  },
  {
   "cell_type": "code",
   "execution_count": null,
   "metadata": {},
   "outputs": [],
   "source": []
  },
  {
   "cell_type": "code",
   "execution_count": null,
   "metadata": {},
   "outputs": [],
   "source": []
  },
  {
   "cell_type": "code",
   "execution_count": 46,
   "metadata": {},
   "outputs": [],
   "source": [
    "data_new.to_excel('zoom-price.xlsx')"
   ]
  },
  {
   "cell_type": "code",
   "execution_count": 47,
   "metadata": {},
   "outputs": [],
   "source": [
    "data = pd.read_clipboard()"
   ]
  },
  {
   "cell_type": "code",
   "execution_count": 51,
   "metadata": {},
   "outputs": [
    {
     "data": {
      "text/plain": [
       "array([[<matplotlib.axes._subplots.AxesSubplot object at 0x0000015875E0B608>]],\n",
       "      dtype=object)"
      ]
     },
     "execution_count": 51,
     "metadata": {},
     "output_type": "execute_result"
    },
    {
     "data": {
      "image/png": "[encoded data removed]",
      "text/plain": [
       "<Figure size 432x288 with 1 Axes>"
      ]
     },
     "metadata": {
      "needs_background": "light"
     },
     "output_type": "display_data"
    }
   ],
   "source": [
    "data.hist(bins=20)"
   ]
  },
  {
   "cell_type": "code",
   "execution_count": null,
   "metadata": {},
   "outputs": [],
   "source": []
  }
 ],
 "metadata": {
  "kernelspec": {
   "display_name": "Python 3",
   "language": "python",
   "name": "python3"
  },
  "language_info": {
   "codemirror_mode": {
    "name": "ipython",
    "version": 3
   },
   "file_extension": ".py",
   "mimetype": "text/x-python",
   "name": "python",
   "nbconvert_exporter": "python",
   "pygments_lexer": "ipython3",
   "version": "3.7.6"
  }
 },
 "nbformat": 4,
 "nbformat_minor": 4
}
