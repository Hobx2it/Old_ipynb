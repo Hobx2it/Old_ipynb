{
 "cells": [
  {
   "cell_type": "code",
   "execution_count": 25,
   "metadata": {},
   "outputs": [],
   "source": [
    "import pandas as pd"
   ]
  },
  {
   "cell_type": "code",
   "execution_count": 26,
   "metadata": {},
   "outputs": [],
   "source": [
    "all_tables = pd.read_excel('Копия Именные заявки.xlsx', None, skiprows=2)"
   ]
  },
  {
   "cell_type": "code",
   "execution_count": 27,
   "metadata": {},
   "outputs": [
    {
     "data": {
      "text/plain": [
       "'Все нормально, полные тески не обнаружены'"
      ]
     },
     "execution_count": 27,
     "metadata": {},
     "output_type": "execute_result"
    }
   ],
   "source": [
    "def full_teski(tables):\n",
    "    arr = []\n",
    "    for key in tables.keys():\n",
    "        if len(tables[key]['Врач МЦ'].tolist()) != len(set(tables[key]['Врач МЦ'].tolist())):\n",
    "            arr.append(key)\n",
    "    if arr:\n",
    "        return arr\n",
    "    else:\n",
    "        return 'Все нормально, полные тески не обнаружены'\n",
    "        \n",
    "full_teski(all_tables)"
   ]
  },
  {
   "cell_type": "code",
   "execution_count": 28,
   "metadata": {},
   "outputs": [],
   "source": [
    "def concat_table(tables):\n",
    "    temp_arr = []\n",
    "    for key in tables.keys():\n",
    "        temp_arr += tables[key]['Врач МЦ'].tolist()\n",
    "        \n",
    "    df = pd.DataFrame({'Врач МЦ' : list(set(temp_arr))})\n",
    "    for key in tables.keys():\n",
    "        tables[key].rename(columns={'Именные заявки' : key}, inplace=True)\n",
    "        df = df.merge(tables[key], left_on='Врач МЦ', right_on='Врач МЦ', how='outer')\n",
    "        df = df.fillna(0)\n",
    "        df.loc[:, [i for i in df.columns if i != 'Врач МЦ']] = df.loc[:, [i for i in df.columns if i != 'Врач МЦ']].applymap(int)\n",
    "    df = df.sort_values('Врач МЦ')    \n",
    "    return df    \n",
    "\n",
    "zayavki = concat_table(all_tables)\n"
   ]
  },
  {
   "cell_type": "code",
   "execution_count": 29,
   "metadata": {},
   "outputs": [],
   "source": [
    "otdeleniya = pd.read_excel('720449ea-322f-4eff-8c61-ba3085d9e995.xlsx')\n",
    "otdeleniya = otdeleniya.drop_duplicates(subset=['Исполнитель'])\n",
    "zayavki = zayavki.merge(otdeleniya[['Исполнитель', 'Структура 3 уровень', 'Структура 2 уровень', 'Структура 4 уровень']], how='left', left_on='Врач МЦ', right_on='Исполнитель')"
   ]
  },
  {
   "cell_type": "code",
   "execution_count": 32,
   "metadata": {},
   "outputs": [],
   "source": [
    "zayavki.to_excel('Итог_заявки.xlsx', index=None)"
   ]
  },
  {
   "cell_type": "code",
   "execution_count": null,
   "metadata": {},
   "outputs": [],
   "source": []
  }
 ],
 "metadata": {
  "kernelspec": {
   "display_name": "Python 3",
   "language": "python",
   "name": "python3"
  },
  "language_info": {
   "codemirror_mode": {
    "name": "ipython",
    "version": 3
   },
   "file_extension": ".py",
   "mimetype": "text/x-python",
   "name": "python",
   "nbconvert_exporter": "python",
   "pygments_lexer": "ipython3",
   "version": "3.7.6"
  }
 },
 "nbformat": 4,
 "nbformat_minor": 4
}
