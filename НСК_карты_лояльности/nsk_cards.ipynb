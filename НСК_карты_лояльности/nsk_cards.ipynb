{
 "cells": [
  {
   "cell_type": "code",
   "execution_count": 96,
   "metadata": {},
   "outputs": [],
   "source": [
    "import pandas as pd\n",
    "import datetime\n",
    "from pprint import pprint\n"
   ]
  },
  {
   "cell_type": "code",
   "execution_count": 97,
   "metadata": {},
   "outputs": [],
   "source": [
    "data = pd.read_excel('Выгрузка_пациентов.xlsx')\n",
    "data['Дата приема'] = pd.to_datetime(data['Дата приема']).dt.date\n",
    "data = data.sort_values(by=['Номер карты', 'Дата приема']).reset_index(drop=True)"
   ]
  },
  {
   "cell_type": "code",
   "execution_count": 98,
   "metadata": {},
   "outputs": [],
   "source": [
    "dct = {}\n",
    "for card in set(data['Номер карты']):\n",
    "    dct.setdefault(card, 0)\n",
    "\n",
    "for key in dct.keys():\n",
    "    temp_data = data[data['Номер карты'] == key][['Дата приема', 'СПУ']].reset_index(drop=True)\n",
    "    dct[key] = {temp_data.iat[0,0] : temp_data.iat[0,1]}\n",
    "    for index in temp_data.index[1:]:\n",
    "        if temp_data.iat[index, 1] not in dct[key].values():\n",
    "            dct[key][temp_data.iat[index, 0]] =  temp_data.iat[index, 1]\n",
    "        \n",
    " "
   ]
  },
  {
   "cell_type": "code",
   "execution_count": 99,
   "metadata": {},
   "outputs": [],
   "source": [
    "final_data = data[data['Дата приема'] >= datetime.date(2018, 10, 2)].reset_index(drop=True)"
   ]
  },
  {
   "cell_type": "code",
   "execution_count": 100,
   "metadata": {},
   "outputs": [],
   "source": [
    "pacients = pd.read_excel('Пациенты_для_проверки.xlsx')"
   ]
  },
  {
   "cell_type": "code",
   "execution_count": 101,
   "metadata": {},
   "outputs": [],
   "source": [
    "final_data = final_data.merge(pacients[['Номер карты', 'Новая СПУ', 'Статус']], how='left')"
   ]
  },
  {
   "cell_type": "code",
   "execution_count": 102,
   "metadata": {},
   "outputs": [],
   "source": [
    "final_data['СПУ'] = final_data['СПУ'].apply(lambda x: 'Скидка 5%' if x == 'Скидка 2ГИС' else 'Скидка 25%' if x == 'XXI век Друзья' else x)\n",
    "final_data['Новая СПУ'] = final_data['Новая СПУ'].apply(lambda x: f'Скидка {str(int(x * 100))}%')"
   ]
  },
  {
   "cell_type": "code",
   "execution_count": 104,
   "metadata": {},
   "outputs": [],
   "source": [
    "final_data['Проверка_СПУ'] = final_data['СПУ'] == final_data['Новая СПУ']"
   ]
  },
  {
   "cell_type": "code",
   "execution_count": 107,
   "metadata": {},
   "outputs": [],
   "source": [
    "final_data.to_excel('Пациенты_проверка_СПУ.xlsx', index=False)"
   ]
  },
  {
   "cell_type": "code",
   "execution_count": null,
   "metadata": {},
   "outputs": [],
   "source": []
  }
 ],
 "metadata": {
  "kernelspec": {
   "display_name": "Python 3",
   "language": "python",
   "name": "python3"
  },
  "language_info": {
   "codemirror_mode": {
    "name": "ipython",
    "version": 3
   },
   "file_extension": ".py",
   "mimetype": "text/x-python",
   "name": "python",
   "nbconvert_exporter": "python",
   "pygments_lexer": "ipython3",
   "version": "3.7.6"
  }
 },
 "nbformat": 4,
 "nbformat_minor": 4
}
