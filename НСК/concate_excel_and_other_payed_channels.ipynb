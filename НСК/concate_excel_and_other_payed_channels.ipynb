{
 "cells": [
  {
   "cell_type": "markdown",
   "metadata": {},
   "source": [
    "# Новосибирск"
   ]
  },
  {
   "cell_type": "code",
   "execution_count": 80,
   "metadata": {},
   "outputs": [],
   "source": [
    "import pandas as pd\n",
    "import numpy as np\n",
    "import matplotlib.pyplot as plt\n",
    "import re\n",
    "import os\n",
    "%matplotlib inline"
   ]
  },
  {
   "cell_type": "code",
   "execution_count": 81,
   "metadata": {},
   "outputs": [
    {
     "name": "stderr",
     "output_type": "stream",
     "text": [
      "C:\\Users\\AmanovRA\\Anaconda3\\lib\\site-packages\\ipykernel_launcher.py:17: SettingWithCopyWarning: \n",
      "A value is trying to be set on a copy of a slice from a DataFrame.\n",
      "Try using .loc[row_indexer,col_indexer] = value instead\n",
      "\n",
      "See the caveats in the documentation: https://pandas.pydata.org/pandas-docs/stable/user_guide/indexing.html#returning-a-view-versus-a-copy\n",
      "C:\\Users\\AmanovRA\\Anaconda3\\lib\\site-packages\\ipykernel_launcher.py:18: SettingWithCopyWarning: \n",
      "A value is trying to be set on a copy of a slice from a DataFrame.\n",
      "Try using .loc[row_indexer,col_indexer] = value instead\n",
      "\n",
      "See the caveats in the documentation: https://pandas.pydata.org/pandas-docs/stable/user_guide/indexing.html#returning-a-view-versus-a-copy\n",
      "C:\\Users\\AmanovRA\\Anaconda3\\lib\\site-packages\\ipykernel_launcher.py:19: SettingWithCopyWarning: \n",
      "A value is trying to be set on a copy of a slice from a DataFrame.\n",
      "Try using .loc[row_indexer,col_indexer] = value instead\n",
      "\n",
      "See the caveats in the documentation: https://pandas.pydata.org/pandas-docs/stable/user_guide/indexing.html#returning-a-view-versus-a-copy\n"
     ]
    }
   ],
   "source": [
    "def to_string(a):\n",
    "    if isinstance(a, float):\n",
    "        return str(int(a))\n",
    "    elif isinstance(a, int):\n",
    "        return str(a)\n",
    "    else:\n",
    "        return str(a)\n",
    "\n",
    "DF = pd.DataFrame()    \n",
    "   \n",
    "for file in os.listdir('.'):\n",
    "    if 'xlsx' in file and '$' not in file:\n",
    "        dfs = pd.read_excel(file, sheet_name=None, dtype=str)\n",
    "        for df in dfs:\n",
    "            temp_df = dfs[df]     \n",
    "            temp_df = temp_df[~(temp_df['Дата и время'].isin(['Июль', 'Август', 'Сентябрь']))]\n",
    "            temp_df['Дата и время'] = pd.to_datetime(temp_df['Дата и время'])\n",
    "            temp_df['Файл'] = [file] * temp_df.shape[0]\n",
    "            temp_df['Кампания'] = [df] * temp_df.shape[0]\n",
    "            DF = DF.append(temp_df)\n",
    "            \n",
    "DF = DF.fillna('')            \n",
    "DF = DF[DF['Номер абонента'] != '']            \n",
    "DF = DF.sort_values(by='Дата и время', ignore_index=True)\n",
    "DF = DF.drop_duplicates(subset='Номер абонента', ignore_index=True) \n"
   ]
  },
  {
   "cell_type": "code",
   "execution_count": 82,
   "metadata": {},
   "outputs": [],
   "source": [
    "def join_list(lst):\n",
    "    return ', '.join([str(i) for i in lst])\n",
    "\n",
    "\n",
    "\n",
    "au_telefons = pd.read_excel(r'C:\\Users\\AmanovRA\\Текущее2\\РК_3_квартал\\НСК\\НСК_оборот\\НСК_оборот.xlsx')\n",
    "\n",
    "dom, mobil, work = au_telefons['Телефон домашний'].tolist(), au_telefons['Телефон мобильный'].tolist(), au_telefons['Телефон рабочий'].tolist()\n",
    "\n",
    "pattern = r'\\(\\d{2}\\)'\n",
    "pattern2 = r'[а-яА-Яa-zA-Z]{1}'\n",
    "\n",
    "for key in (dom, mobil, work):\n",
    "    for i, j in enumerate(key):\n",
    "        if type(j) == str:\n",
    "            key[i] = ''.join([x if x not in ',;!:.\\\\/+' else ' ' for x in j])        \n",
    "            key[i] = key[i].lstrip(' ')\n",
    "            key[i] = key[i].rstrip(' ')\n",
    "            if re.search(pattern2, key[i]):\n",
    "                key[i] = re.sub(pattern2, '', key[i])\n",
    "            key[i] = ''.join([x for x in key[i] if x not in '()-'])  \n",
    "            \n",
    "for key in (dom, mobil, work):\n",
    "    for i, j in enumerate(key):\n",
    "        if type(j) == str:\n",
    "            if len(j) == 7:\n",
    "                key[i] = '7812' + key[i]\n",
    "            elif len(j) == 11 and j[0] == '8':\n",
    "                key[i] = '7' + j[1:]\n",
    "            elif len(j) == 10:\n",
    "                key[i] = '7' + j\n",
    "                \n",
    "def concate_lists(*args) -> list:   # соединим все номера в одну строку чтобы проще было искать\n",
    "    temp_lst = []\n",
    "    for i in range(len(args[0])):\n",
    "        temp_lst.append(' '.join([str(x[i]) for x in args]))\n",
    "    return temp_lst\n",
    "            \n",
    "lst_search = concate_lists(dom, mobil, work)                 \n",
    "\n",
    "lst_with_coincidenc_telefon  = []\n",
    "for index, row in enumerate(lst_search):\n",
    "    lst_with_coincidenc_telefon.append('')\n",
    "    for i in DF['Номер абонента']:\n",
    "        if str(i) in row:\n",
    "            lst_with_coincidenc_telefon[index] = str(i)\n",
    "            break\n",
    "            \n",
    "au_telefons['Совпадение'] = lst_with_coincidenc_telefon            \n",
    "            \n",
    "au_telefons_final = au_telefons[au_telefons['Совпадение'] != '']\n",
    "au_telefons_final = au_telefons_final.merge(DF, left_on='Совпадение', right_on='Номер абонента', how='left')\n",
    "au_telefons_final = au_telefons_final.fillna('')\n",
    "\n",
    "\n",
    "# не забыть проверить чтобы даты приемов были больше или равны дате звонка          \n",
    "\n"
   ]
  },
  {
   "cell_type": "code",
   "execution_count": 83,
   "metadata": {},
   "outputs": [],
   "source": [
    "au_telefons_final['Совпадение дат'] = au_telefons_final['Дата приема'] >= au_telefons_final['Дата и время']\n",
    "\n",
    "au_telefons_final = au_telefons_final[au_telefons_final['Совпадение дат'] == True]\n",
    "\n",
    "au_telefons_final.to_excel('НСК_обработано.xlsx')"
   ]
  },
  {
   "cell_type": "code",
   "execution_count": null,
   "metadata": {},
   "outputs": [],
   "source": []
  }
 ],
 "metadata": {
  "kernelspec": {
   "display_name": "Python 3",
   "language": "python",
   "name": "python3"
  },
  "language_info": {
   "codemirror_mode": {
    "name": "ipython",
    "version": 3
   },
   "file_extension": ".py",
   "mimetype": "text/x-python",
   "name": "python",
   "nbconvert_exporter": "python",
   "pygments_lexer": "ipython3",
   "version": "3.7.6"
  }
 },
 "nbformat": 4,
 "nbformat_minor": 4
}
