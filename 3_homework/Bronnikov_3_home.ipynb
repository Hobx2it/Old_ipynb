{
 "cells": [
  {
   "cell_type": "markdown",
   "metadata": {},
   "source": [
    "#### <left>Бронников Максим Андреевич</left>"
   ]
  },
  {
   "cell_type": "markdown",
   "metadata": {},
   "source": [
    "max120199@gmail.com"
   ]
  },
  {
   "cell_type": "markdown",
   "metadata": {},
   "source": [
    "#   <center>Домашняя работа №3</center>\n",
    "\n",
    "## <center> Необходимо построить регрессионную линейную модель по первой части набора данных и сделать прогноз о значении столбца второй части набора </center>"
   ]
  },
  {
   "cell_type": "markdown",
   "metadata": {},
   "source": [
    "### Подключим необходимые библиотеки\n",
    "\n",
    "Для обработки данных нам пригодится визуализация, которую обеспечит библиотека `matplotlib.pyplot`. Библиотека `pandas` позволит нам обработать набор данных и сохранить их в *DataFrame*, а с помощью библиотеки `numpy` реализуем математическую составляющую построения линейной регрессии в матричном виде"
   ]
  },
  {
   "cell_type": "code",
   "execution_count": 1,
   "metadata": {
    "_cell_guid": "b1076dfc-b9ad-4769-8c92-a6c4dae69d19",
    "_uuid": "8f2839f25d086af736a60e9eeb907d3b93b6e0e5"
   },
   "outputs": [],
   "source": [
    "# This Python 3 environment comes with many helpful analytics libraries installed\n",
    "# It is defined by the kaggle/python docker image: https://github.com/kaggle/docker-python\n",
    "# For example, here's several helpful packages to load in \n",
    "\n",
    "import numpy as np # linear algebra\n",
    "import pandas as pd # data processing, CSV file I/O (e.g. pd.read_csv)\n",
    "import matplotlib.pyplot as plt # for grafic\n",
    "\n",
    "# Input data files are available in the \"../input/\" directory.\n",
    "# For example, running this (by clicking run or pressing Shift+Enter) will list all files under the input directory\n",
    "\n",
    "import os\n",
    "        \n",
    "\n",
    "# Any results you write to the current directory are saved as output."
   ]
  },
  {
   "cell_type": "markdown",
   "metadata": {},
   "source": [
    "-----"
   ]
  },
  {
   "cell_type": "markdown",
   "metadata": {},
   "source": [
    "### Импортируем набор данных\n",
    "\n",
    "С помощью функции `reaf_csv` импортируем набор данных для тренировки. С помощью функции `head` получим представление о наборе данных взглянув на первые элементы из набора."
   ]
  },
  {
   "cell_type": "code",
   "execution_count": 2,
   "metadata": {
    "_cell_guid": "79c7e3d0-c299-4dcb-8224-4455121ee9b0",
    "_uuid": "d629ff2d2480ee46fbb7e2d37f6b5fab8052498a"
   },
   "outputs": [
    {
     "name": "stdout",
     "output_type": "stream",
     "text": [
      "Размер таблицы для тренировки: (782, 81)\n"
     ]
    },
    {
     "data": {
      "text/html": [
       "<div>\n",
       "<style scoped>\n",
       "    .dataframe tbody tr th:only-of-type {\n",
       "        vertical-align: middle;\n",
       "    }\n",
       "\n",
       "    .dataframe tbody tr th {\n",
       "        vertical-align: top;\n",
       "    }\n",
       "\n",
       "    .dataframe thead th {\n",
       "        text-align: right;\n",
       "    }\n",
       "</style>\n",
       "<table border=\"1\" class=\"dataframe\">\n",
       "  <thead>\n",
       "    <tr style=\"text-align: right;\">\n",
       "      <th></th>\n",
       "      <th>Id</th>\n",
       "      <th>MSSubClass</th>\n",
       "      <th>MSZoning</th>\n",
       "      <th>LotFrontage</th>\n",
       "      <th>LotArea</th>\n",
       "      <th>Street</th>\n",
       "      <th>Alley</th>\n",
       "      <th>LotShape</th>\n",
       "      <th>LandContour</th>\n",
       "      <th>Utilities</th>\n",
       "      <th>...</th>\n",
       "      <th>PoolArea</th>\n",
       "      <th>PoolQC</th>\n",
       "      <th>Fence</th>\n",
       "      <th>MiscFeature</th>\n",
       "      <th>MiscVal</th>\n",
       "      <th>MoSold</th>\n",
       "      <th>YrSold</th>\n",
       "      <th>SaleType</th>\n",
       "      <th>SaleCondition</th>\n",
       "      <th>SalePrice</th>\n",
       "    </tr>\n",
       "  </thead>\n",
       "  <tbody>\n",
       "    <tr>\n",
       "      <td>0</td>\n",
       "      <td>0</td>\n",
       "      <td>20</td>\n",
       "      <td>RL</td>\n",
       "      <td>60.0</td>\n",
       "      <td>9060</td>\n",
       "      <td>Pave</td>\n",
       "      <td>NaN</td>\n",
       "      <td>Reg</td>\n",
       "      <td>Lvl</td>\n",
       "      <td>AllPub</td>\n",
       "      <td>...</td>\n",
       "      <td>0</td>\n",
       "      <td>NaN</td>\n",
       "      <td>MnPrv</td>\n",
       "      <td>NaN</td>\n",
       "      <td>0</td>\n",
       "      <td>6</td>\n",
       "      <td>2007</td>\n",
       "      <td>WD</td>\n",
       "      <td>Normal</td>\n",
       "      <td>120000</td>\n",
       "    </tr>\n",
       "    <tr>\n",
       "      <td>1</td>\n",
       "      <td>1</td>\n",
       "      <td>20</td>\n",
       "      <td>FV</td>\n",
       "      <td>81.0</td>\n",
       "      <td>11216</td>\n",
       "      <td>Pave</td>\n",
       "      <td>NaN</td>\n",
       "      <td>Reg</td>\n",
       "      <td>Lvl</td>\n",
       "      <td>AllPub</td>\n",
       "      <td>...</td>\n",
       "      <td>0</td>\n",
       "      <td>NaN</td>\n",
       "      <td>NaN</td>\n",
       "      <td>NaN</td>\n",
       "      <td>0</td>\n",
       "      <td>6</td>\n",
       "      <td>2006</td>\n",
       "      <td>New</td>\n",
       "      <td>Partial</td>\n",
       "      <td>232600</td>\n",
       "    </tr>\n",
       "    <tr>\n",
       "      <td>2</td>\n",
       "      <td>2</td>\n",
       "      <td>20</td>\n",
       "      <td>RL</td>\n",
       "      <td>80.0</td>\n",
       "      <td>9600</td>\n",
       "      <td>Pave</td>\n",
       "      <td>NaN</td>\n",
       "      <td>Reg</td>\n",
       "      <td>Lvl</td>\n",
       "      <td>AllPub</td>\n",
       "      <td>...</td>\n",
       "      <td>0</td>\n",
       "      <td>NaN</td>\n",
       "      <td>NaN</td>\n",
       "      <td>NaN</td>\n",
       "      <td>0</td>\n",
       "      <td>9</td>\n",
       "      <td>2007</td>\n",
       "      <td>WD</td>\n",
       "      <td>Normal</td>\n",
       "      <td>175500</td>\n",
       "    </tr>\n",
       "    <tr>\n",
       "      <td>3</td>\n",
       "      <td>3</td>\n",
       "      <td>60</td>\n",
       "      <td>RL</td>\n",
       "      <td>NaN</td>\n",
       "      <td>11214</td>\n",
       "      <td>Pave</td>\n",
       "      <td>NaN</td>\n",
       "      <td>IR1</td>\n",
       "      <td>Lvl</td>\n",
       "      <td>AllPub</td>\n",
       "      <td>...</td>\n",
       "      <td>0</td>\n",
       "      <td>NaN</td>\n",
       "      <td>NaN</td>\n",
       "      <td>NaN</td>\n",
       "      <td>0</td>\n",
       "      <td>7</td>\n",
       "      <td>2006</td>\n",
       "      <td>WD</td>\n",
       "      <td>Normal</td>\n",
       "      <td>199900</td>\n",
       "    </tr>\n",
       "    <tr>\n",
       "      <td>4</td>\n",
       "      <td>4</td>\n",
       "      <td>90</td>\n",
       "      <td>RL</td>\n",
       "      <td>91.0</td>\n",
       "      <td>11643</td>\n",
       "      <td>Pave</td>\n",
       "      <td>NaN</td>\n",
       "      <td>Reg</td>\n",
       "      <td>Lvl</td>\n",
       "      <td>AllPub</td>\n",
       "      <td>...</td>\n",
       "      <td>0</td>\n",
       "      <td>NaN</td>\n",
       "      <td>NaN</td>\n",
       "      <td>NaN</td>\n",
       "      <td>0</td>\n",
       "      <td>8</td>\n",
       "      <td>2009</td>\n",
       "      <td>WD</td>\n",
       "      <td>Normal</td>\n",
       "      <td>200000</td>\n",
       "    </tr>\n",
       "  </tbody>\n",
       "</table>\n",
       "<p>5 rows × 81 columns</p>\n",
       "</div>"
      ],
      "text/plain": [
       "   Id  MSSubClass MSZoning  LotFrontage  LotArea Street Alley LotShape  \\\n",
       "0   0          20       RL         60.0     9060   Pave   NaN      Reg   \n",
       "1   1          20       FV         81.0    11216   Pave   NaN      Reg   \n",
       "2   2          20       RL         80.0     9600   Pave   NaN      Reg   \n",
       "3   3          60       RL          NaN    11214   Pave   NaN      IR1   \n",
       "4   4          90       RL         91.0    11643   Pave   NaN      Reg   \n",
       "\n",
       "  LandContour Utilities  ... PoolArea PoolQC  Fence MiscFeature MiscVal  \\\n",
       "0         Lvl    AllPub  ...        0    NaN  MnPrv         NaN       0   \n",
       "1         Lvl    AllPub  ...        0    NaN    NaN         NaN       0   \n",
       "2         Lvl    AllPub  ...        0    NaN    NaN         NaN       0   \n",
       "3         Lvl    AllPub  ...        0    NaN    NaN         NaN       0   \n",
       "4         Lvl    AllPub  ...        0    NaN    NaN         NaN       0   \n",
       "\n",
       "  MoSold YrSold  SaleType  SaleCondition  SalePrice  \n",
       "0      6   2007        WD         Normal     120000  \n",
       "1      6   2006       New        Partial     232600  \n",
       "2      9   2007        WD         Normal     175500  \n",
       "3      7   2006        WD         Normal     199900  \n",
       "4      8   2009        WD         Normal     200000  \n",
       "\n",
       "[5 rows x 81 columns]"
      ]
     },
     "execution_count": 2,
     "metadata": {},
     "output_type": "execute_result"
    }
   ],
   "source": [
    "train_table = pd.read_csv('input/train.csv')\n",
    "print(\"Размер таблицы для тренировки:\", train_table.shape)\n",
    "train_table.head()"
   ]
  },
  {
   "cell_type": "markdown",
   "metadata": {},
   "source": [
    "-----"
   ]
  },
  {
   "cell_type": "markdown",
   "metadata": {},
   "source": [
    "### Изобразим распределение \n",
    "\n",
    "Используем метод *DataFrame* `plot.scatter`предварительно создав окно отрисовки с помощью `figure` и `subplot` для отображения поточечно распределения значений колонки `SalePrice`, именно её значения нам и необходимо предсказать в тестовой части набора данных."
   ]
  },
  {
   "cell_type": "code",
   "execution_count": 3,
   "metadata": {},
   "outputs": [
    {
     "name": "stdout",
     "output_type": "stream",
     "text": [
      "Посмотрим на общий график значения цены:\n"
     ]
    },
    {
     "data": {
      "image/png": "[encoded data removed]",
      "text/plain": [
       "<Figure size 1152x360 with 1 Axes>"
      ]
     },
     "metadata": {
      "needs_background": "light"
     },
     "output_type": "display_data"
    }
   ],
   "source": [
    "ig = plt.figure(figsize=(16,5))\n",
    "ax1 = plt.subplot(111)\n",
    "\n",
    "print(\"Посмотрим на общий график значения цены:\")\n",
    "train_table.plot.scatter('Id', 'SalePrice', ax = ax1)\n",
    "ax1.grid()"
   ]
  },
  {
   "cell_type": "markdown",
   "metadata": {},
   "source": [
    "-----"
   ]
  },
  {
   "cell_type": "markdown",
   "metadata": {},
   "source": [
    "### Преобразоавние данных в математически преобразуемый вид\n",
    "\n",
    "Преобразуем данные для обучения из *DataFrame* в *numpy.array* для последующей работы с ними при помощи метода `to_numpy`. Тоже самое выполним и для столбца `SalePrice` значения которого и следует предсказать. Приведем преобразованные данные к необходимому размеру при помощи `reshape`. А так же согласно алгоритму нормализуем данные по формуле: \n",
    "\n",
    "<center> $\\Large\\hat{x_i}=\\frac{x-\\overline{x}}{\\sqrt{\\frac{\\sum_{i=1}^k(x_i-\\overline{x})^2}{k}}}$ </center>\n",
    "\n",
    "И добавим еденичный столбец в начало матрицы признаков с помощью функции `insert`"
   ]
  },
  {
   "cell_type": "code",
   "execution_count": 4,
   "metadata": {},
   "outputs": [],
   "source": [
    "Y = train_table['SalePrice'].to_numpy()\n",
    "\n",
    "X = train_table[['MSSubClass', 'LotArea', 'OverallQual', 'OverallCond',\n",
    "'YearBuilt', 'YearRemodAdd', 'BsmtFinSF1', 'BsmtFinSF2', 'BsmtUnfSF',\n",
    "'TotalBsmtSF', '1stFlrSF', '2ndFlrSF', 'LowQualFinSF', 'GrLivArea',\n",
    "'BsmtFullBath', 'BsmtHalfBath', 'FullBath', 'HalfBath', 'BedroomAbvGr',\n",
    "'KitchenAbvGr', 'TotRmsAbvGrd', 'Fireplaces', 'GarageCars',\n",
    "'GarageArea', 'WoodDeckSF', 'OpenPorchSF', 'EnclosedPorch', '3SsnPorch',\n",
    "'ScreenPorch', 'PoolArea', 'MiscVal', 'MoSold', 'YrSold']].to_numpy()\n",
    "\n",
    "Y = Y.reshape(X.shape[0], 1)\n",
    "\n",
    "X = (X - X.mean(axis = 0).reshape(1, X.shape[1])) / X.std(axis = 0).reshape(1, X.shape[1])\n",
    "X[np.isnan(X)] = 0\n",
    "X = np.insert(X, 0, 1, axis = 1)\n",
    "B = np.ones((X.shape[1], 1), dtype = np.float64)"
   ]
  },
  {
   "cell_type": "markdown",
   "metadata": {},
   "source": [
    "-----"
   ]
  },
  {
   "cell_type": "markdown",
   "metadata": {},
   "source": [
    "### Градиентный спуск с L1 и L2 регулязацией\n",
    "\n",
    "Применим метод градиентного спуска для определения значений весов. Значения вычисляются иттерационно по следующей формуле:"
   ]
  },
  {
   "cell_type": "markdown",
   "metadata": {},
   "source": [
    "$\\Large \\begin{array}{rcl} w^{(t+1)} = w^{(t)} -\\eta \\frac{\\partial f}{\\partial w} |_{t} \\end{array}$ "
   ]
  },
  {
   "cell_type": "markdown",
   "metadata": {},
   "source": [
    "Так для регулязации значений применим L1 и L2 регулязацию, которая позволит выявить наиболее значимые признаки, а также уменьшить переобученность соответственно.\n",
    "\n",
    "Регулязацию применим по следующим формулам:"
   ]
  },
  {
   "cell_type": "markdown",
   "metadata": {},
   "source": [
    "### $L^1$ - регуляризация"
   ]
  },
  {
   "cell_type": "markdown",
   "metadata": {},
   "source": [
    "$\\Large \\begin{array}{rcl} w^{(t+1)} = w^{(t)} -\\eta( \\frac{\\partial f}{\\partial w_1} |_{t} - \\lambda sign(w^t))\\end{array}$ "
   ]
  },
  {
   "cell_type": "markdown",
   "metadata": {},
   "source": [
    "### $L^2$ - регуляризация"
   ]
  },
  {
   "cell_type": "markdown",
   "metadata": {},
   "source": [
    "$\\Large \\begin{array}{rcl} w^{(t+1)} = w^{(t)} -\\eta( \\frac{\\partial f}{\\partial w_1} |_{t} - \\lambda w^t)\\end{array}$ "
   ]
  },
  {
   "cell_type": "markdown",
   "metadata": {},
   "source": [
    "Сначала выделим наиболее значимые признаки при помощи L1 регулязации, а после предотвратим их переобученность при помощи L2 метода.\n",
    "\n",
    "Шаг регулязации будем уменьшать на каждой итерации для большей эффективности."
   ]
  },
  {
   "cell_type": "code",
   "execution_count": 5,
   "metadata": {},
   "outputs": [],
   "source": [
    "L = 0.01\n",
    "l = 0.08\n",
    "\n",
    "# L1 regulisation\n",
    "for i in range(650):\n",
    "    Sign = np.zeros(B.shape, dtype = np.float64)\n",
    "    Sign[B < 0] = -1\n",
    "    Sign[B > 0] = 1\n",
    "    dfx = (Y - np.dot(X, B)) * X\n",
    "    dfx = 2 * dfx.sum(axis = 0) / Y.shape[0]\n",
    "    dfx = dfx.reshape(B.shape)\n",
    "    B = B + L * (dfx + l*Sign)\n",
    "    L *= 0.999\n",
    "    \n",
    "    \n",
    "# l2 regulasation:\n",
    "for i in range(350):\n",
    "    dfx = (Y - np.dot(X, B)) * X\n",
    "    dfx = 2 * dfx.sum(axis = 0) / Y.shape[0]\n",
    "    dfx = dfx.reshape(B.shape)\n",
    "    B = B + L * (dfx + l*B)\n",
    "    L *= 0.998\n",
    "    \n",
    "    \n",
    "# e = 0.00001\n",
    "# f1 = ((Y - np.dot(X, B))**2).sum(axis = 0) / Y.shape[0]\n",
    "# B1 = np.zeros(B.shape)\n",
    "# while (((Y - np.dot(X, B))**2).sum(axis = 0) / Y.shape[0]) - (((Y - np.dot(X, B1))**2).sum(axis = 0) / Y.shape[0]) > e:\n",
    "#     Sign = np.zeros(B.shape, dtype = np.float64)\n",
    "#     Sign[B < 0] = -1\n",
    "#     Sign[B > 0] = 1\n",
    "#     dfx = (Y - np.dot(X, B)) * X\n",
    "#     dfx = 2 * dfx.sum(axis = 0) / Y.shape[0]\n",
    "#     dfx = dfx.reshape(B.shape)\n",
    "#     B = B + L * (dfx + l*Sign)\n",
    "#     L *= 0.95\n",
    "    "
   ]
  },
  {
   "cell_type": "markdown",
   "metadata": {},
   "source": [
    "-----"
   ]
  },
  {
   "cell_type": "markdown",
   "metadata": {},
   "source": [
    "### Составление прогноза для второй части набора  в файл csv\n",
    "\n",
    "Используем `read_csv` для чтения параметров неоходимых для составления прогноза по колонке `SalePrice` при помощи построенной модели. Преобразуем необходимые признаки из набора в *numpy.array* методом `to_numpy`. Нормализуем полученные данные тем же методом, что и нормализавали первую часть набора. При нормализации возможно деление на 0, которое дает **nan** значение. Заменим такие значения на 0, определив индексы таких значений функцией `isnan`.\n",
    "\n",
    "Поместим с `insert` еденичный столбец в набор данных согласно алгоритму и получим предсказанные значения столбца при помощи матричного произведения `dot` Поместим предсказанные значения в *DataFrame* передав матрицу *numpy.array* в функцию `DataFrame`. \n",
    "\n",
    "Создадим дополнительный *DataFrame* для составления и форматирования ответа, после чего экспортируем наш прогноз в *csv* файл при помощи метода `to_csv`. \n",
    "\n",
    "Для наглядности изобразим получившееся распределение значений при помощи функции `plot.scatter` предварительно создав окно отрисовки с помощью `figure` и `subplot`."
   ]
  },
  {
   "cell_type": "code",
   "execution_count": 6,
   "metadata": {
    "scrolled": false
   },
   "outputs": [
    {
     "name": "stderr",
     "output_type": "stream",
     "text": [
      "/home/max/anaconda3/lib/python3.7/site-packages/ipykernel_launcher.py:12: RuntimeWarning: invalid value encountered in true_divide\n",
      "  if sys.path[0] == '':\n"
     ]
    },
    {
     "name": "stdout",
     "output_type": "stream",
     "text": [
      "Посмотрим на общий график значения цены:\n"
     ]
    },
    {
     "data": {
      "image/png": "[encoded data removed]",
      "text/plain": [
       "<Figure size 1152x360 with 1 Axes>"
      ]
     },
     "metadata": {
      "needs_background": "light"
     },
     "output_type": "display_data"
    }
   ],
   "source": [
    "test_table = pd.read_csv('input/test.csv')\n",
    "\n",
    "\n",
    "Xtest = test_table[['MSSubClass', 'LotArea', 'OverallQual', 'OverallCond',\n",
    "'YearBuilt', 'YearRemodAdd', 'BsmtFinSF1', 'BsmtFinSF2', 'BsmtUnfSF',\n",
    "'TotalBsmtSF', '1stFlrSF', '2ndFlrSF', 'LowQualFinSF', 'GrLivArea',\n",
    "'BsmtFullBath', 'BsmtHalfBath', 'FullBath', 'HalfBath', 'BedroomAbvGr',\n",
    "'KitchenAbvGr', 'TotRmsAbvGrd', 'Fireplaces', 'GarageCars',\n",
    "'GarageArea', 'WoodDeckSF', 'OpenPorchSF', 'EnclosedPorch', '3SsnPorch',\n",
    "'ScreenPorch', 'PoolArea', 'MiscVal', 'MoSold', 'YrSold']].to_numpy()\n",
    "\n",
    "Xtest = (Xtest - Xtest.mean(axis = 0).reshape(1, Xtest.shape[1])) / Xtest.std(axis = 0).reshape(1, Xtest.shape[1])\n",
    "Xtest[np.isnan(Xtest)] = 0\n",
    "\n",
    "Xtest = np.insert(Xtest, 0, 1, axis = 1)\n",
    "\n",
    "\n",
    "Ytest = pd.DataFrame(np.around(np.dot(Xtest, B)).astype(np.int64))\n",
    "Ytest.columns = ['SalePrice']\n",
    "\n",
    "Ans = pd.DataFrame(test_table.Id)\n",
    "Ans['SalePrice'] = Ytest.SalePrice\n",
    "Ans.to_csv(\"mytest.csv\", sep = ',', columns = ['Id', 'SalePrice'], index = False)\n",
    "\n",
    "fg = plt.figure(figsize=(16,5))\n",
    "ax2 = plt.subplot(111)\n",
    "\n",
    "print(\"Посмотрим на общий график значения цены:\")\n",
    "Ans.plot.scatter('Id', 'SalePrice', ax = ax2)\n",
    "ax2.grid()"
   ]
  },
  {
   "cell_type": "markdown",
   "metadata": {},
   "source": [
    "###### <center>Сделано Бронниковым Максимом</center>\n",
    "###### <center>20.10.2019</center>"
   ]
  }
 ],
 "metadata": {
  "kernelspec": {
   "display_name": "Python 3",
   "language": "python",
   "name": "python3"
  },
  "language_info": {
   "codemirror_mode": {
    "name": "ipython",
    "version": 3
   },
   "file_extension": ".py",
   "mimetype": "text/x-python",
   "name": "python",
   "nbconvert_exporter": "python",
   "pygments_lexer": "ipython3",
   "version": "3.7.4"
  }
 },
 "nbformat": 4,
 "nbformat_minor": 1
}
