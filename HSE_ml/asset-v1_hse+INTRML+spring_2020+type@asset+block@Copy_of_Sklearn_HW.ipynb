{
 "cells": [
  {
   "cell_type": "markdown",
   "metadata": {
    "colab_type": "text",
    "id": "m25xQezbHhYN"
   },
   "source": [
    "Домашнее задание по 2 неделе."
   ]
  },
  {
   "cell_type": "markdown",
   "metadata": {
    "colab_type": "text",
    "id": "a8DTKO4cLWCI"
   },
   "source": [
    "# Задание 1\n"
   ]
  },
  {
   "cell_type": "markdown",
   "metadata": {
    "colab_type": "text",
    "id": "x7MFiTFvO4He"
   },
   "source": [
    "1. Получите выборку с помощью следующего вызова:\n",
    "```\n",
    "make_moons(n_samples=1000, noise=0.5, random_state=10)\n",
    "```\n",
    "2. Разбейте выборку на `train` и `test` с помощью функции `train_test_split`. Через аргументы функции зафиксируйте `random_state=10` и `test_size=0.5`.\n",
    "\n",
    "3. Обучите класс `GridSearchCV` на обучающей выборке. Переберите параметр `n_neighbors` от 1 до 20. Чтобы получить детерменированный результат, передайте в параметр `cv` объект класса `KFold(n_splits=5, random_state=10)`. Этот класс будет отвечать за разбиение выборки во время кросс-валидации.\n",
    "\n",
    "Напишите метрику качества (`accuracy`), которая получается, если применить обученный `GridSearchCV` к тестовой выбоке."
   ]
  },
  {
   "cell_type": "code",
   "execution_count": 4,
   "metadata": {
    "colab": {},
    "colab_type": "code",
    "id": "5RQX1IJtX_NO"
   },
   "outputs": [
    {
     "name": "stderr",
     "output_type": "stream",
     "text": [
      "C:\\Users\\AmanovRA\\Anaconda3\\lib\\site-packages\\sklearn\\model_selection\\_split.py:296: FutureWarning: Setting a random_state has no effect since shuffle is False. This will raise an error in 0.24. You should leave random_state to its default (None), or set shuffle=True.\n",
      "  FutureWarning\n"
     ]
    },
    {
     "data": {
      "text/plain": [
       "0.8"
      ]
     },
     "execution_count": 4,
     "metadata": {},
     "output_type": "execute_result"
    }
   ],
   "source": [
    "import pandas as pd\n",
    "import numpy as np\n",
    "from sklearn.datasets import make_moons\n",
    "from sklearn.model_selection import train_test_split, GridSearchCV, KFold\n",
    "from sklearn.neighbors import KNeighborsClassifier\n",
    "from sklearn.metrics import accuracy_score\n",
    "\n",
    "X, y = make_moons(n_samples=1000, noise=0.5, random_state=10)\n",
    "\n",
    "X_train, X_test, y_train, y_test = train_test_split(X, y, test_size=0.5, random_state=10)\n",
    "\n",
    "params = {'n_neighbors': range(1, 21)}\n",
    "folds = KFold(5,  random_state=10)\n",
    "\n",
    "grid_searcher = GridSearchCV(KNeighborsClassifier(), param_grid=params, cv=folds)\n",
    "\n",
    "grid_searcher.fit(X_train, y_train)\n",
    "\n",
    "accuracy_score(y_test, grid_searcher.predict(X_test))\n"
   ]
  },
  {
   "cell_type": "markdown",
   "metadata": {
    "colab_type": "text",
    "id": "HvXHv7DeY0Vj"
   },
   "source": [
    "# Задание 2\n"
   ]
  },
  {
   "cell_type": "markdown",
   "metadata": {
    "colab_type": "text",
    "id": "z1hXs1liY4PJ"
   },
   "source": [
    "Напишите функцию train_grid_search. Функция принимает выборку на вход. Она должна создать объект GridSearchCV, который переберет соседей от одного до 20. Обучите GridSearchCV. Функция должна возвращать значение ключа mean_test_score у атрибута cv_results_ в классе GridSearchCV. Это поле содержит информацию о значении метрики для каждого параметра.\n",
    "\n",
    "Код ниже строит изображения средней зависимости качества от количества соседей. Выберите картинку, которая у вас получилась.\n"
   ]
  },
  {
   "cell_type": "code",
   "execution_count": 6,
   "metadata": {
    "colab": {},
    "colab_type": "code",
    "id": "7ypMJvW7TWD7"
   },
   "outputs": [
    {
     "ename": "NameError",
     "evalue": "name 'plt' is not defined",
     "output_type": "error",
     "traceback": [
      "\u001b[1;31m---------------------------------------------------------------------------\u001b[0m",
      "\u001b[1;31mNameError\u001b[0m                                 Traceback (most recent call last)",
      "\u001b[1;32m<ipython-input-6-c158c1b35ee0>\u001b[0m in \u001b[0;36m<module>\u001b[1;34m\u001b[0m\n\u001b[0;32m     14\u001b[0m \u001b[1;33m\u001b[0m\u001b[0m\n\u001b[0;32m     15\u001b[0m \u001b[0mmean_test_scores\u001b[0m \u001b[1;33m=\u001b[0m \u001b[0mnp\u001b[0m\u001b[1;33m.\u001b[0m\u001b[0marray\u001b[0m\u001b[1;33m(\u001b[0m\u001b[0mmean_test_scores\u001b[0m\u001b[1;33m)\u001b[0m\u001b[1;33m\u001b[0m\u001b[1;33m\u001b[0m\u001b[0m\n\u001b[1;32m---> 16\u001b[1;33m \u001b[0mplt\u001b[0m\u001b[1;33m.\u001b[0m\u001b[0mplot\u001b[0m\u001b[1;33m(\u001b[0m\u001b[0mnp\u001b[0m\u001b[1;33m.\u001b[0m\u001b[0marange\u001b[0m\u001b[1;33m(\u001b[0m\u001b[1;36m1\u001b[0m\u001b[1;33m,\u001b[0m \u001b[1;36m21\u001b[0m\u001b[1;33m)\u001b[0m\u001b[1;33m,\u001b[0m \u001b[0mnp\u001b[0m\u001b[1;33m.\u001b[0m\u001b[0mmean\u001b[0m\u001b[1;33m(\u001b[0m\u001b[0mmean_test_scores\u001b[0m\u001b[1;33m,\u001b[0m \u001b[0maxis\u001b[0m\u001b[1;33m=\u001b[0m\u001b[1;36m0\u001b[0m\u001b[1;33m)\u001b[0m\u001b[1;33m)\u001b[0m\u001b[1;33m\u001b[0m\u001b[1;33m\u001b[0m\u001b[0m\n\u001b[0m",
      "\u001b[1;31mNameError\u001b[0m: name 'plt' is not defined"
     ]
    }
   ],
   "source": [
    "def train_grid_search(X, y):\n",
    "    params = {'n_neighbors': range(1, 21)}\n",
    "    grid_searcher = GridSearchCV(KNeighborsClassifier(), param_grid=params)\n",
    "    grid_searcher.fit(X, y)\n",
    "    return grid_searcher.cv_results_['mean_test_score']\n",
    "    \n",
    "    \n",
    "\n",
    "mean_test_scores = []\n",
    "for i in range(1000):\n",
    "    X, y = make_moons(n_samples=1000, noise=0.5)\n",
    "    mean_test_score = train_grid_search(X, y)\n",
    "    mean_test_scores.append(mean_test_score)\n",
    "\n",
    "mean_test_scores = np.array(mean_test_scores)\n",
    "plt.plot(np.arange(1, 21), np.mean(mean_test_scores, axis=0))"
   ]
  },
  {
   "cell_type": "code",
   "execution_count": 7,
   "metadata": {},
   "outputs": [
    {
     "data": {
      "text/plain": [
       "[<matplotlib.lines.Line2D at 0x21e0df0fa88>]"
      ]
     },
     "execution_count": 7,
     "metadata": {},
     "output_type": "execute_result"
    },
    {
     "data": {
      "image/png": "[encoded data removed]",
      "text/plain": [
       "<Figure size 432x288 with 1 Axes>"
      ]
     },
     "metadata": {
      "needs_background": "light"
     },
     "output_type": "display_data"
    }
   ],
   "source": [
    "import matplotlib.pyplot as plt\n",
    "\n",
    "%matplotlib inline\n",
    "\n",
    "plt.plot(np.arange(1, 21), np.mean(mean_test_scores, axis=0))"
   ]
  },
  {
   "cell_type": "markdown",
   "metadata": {
    "colab_type": "text",
    "id": "2ByIB4Tp7cF0"
   },
   "source": [
    "# Задание 3"
   ]
  },
  {
   "cell_type": "code",
   "execution_count": 8,
   "metadata": {
    "colab": {
     "base_uri": "https://localhost:8080/",
     "height": 462
    },
    "colab_type": "code",
    "id": "XEnCu6__xpWg",
    "outputId": "877e3b53-06d1-4483-f27c-78ac52798c36"
   },
   "outputs": [
    {
     "name": "stdout",
     "output_type": "stream",
     "text": [
      "Collecting python-mnist\n",
      "  Downloading python_mnist-0.7-py2.py3-none-any.whl (9.6 kB)\n",
      "Installing collected packages: python-mnist\n",
      "Successfully installed python-mnist-0.7\n"
     ]
    },
    {
     "name": "stderr",
     "output_type": "stream",
     "text": [
      "\"wget\" ­Ґ пў«пҐвбп ў­гваҐ­­Ґ© Ё«Ё ў­Ґи­Ґ©\n",
      "Є®¬ ­¤®©, ЁбЇ®«­пҐ¬®© Їа®Ја ¬¬®© Ё«Ё Ї ЄҐв­л¬ д ©«®¬.\n",
      "\"wget\" ­Ґ пў«пҐвбп ў­гваҐ­­Ґ© Ё«Ё ў­Ґи­Ґ©\n",
      "Є®¬ ­¤®©, ЁбЇ®«­пҐ¬®© Їа®Ја ¬¬®© Ё«Ё Ї ЄҐв­л¬ д ©«®¬.\n",
      "\"mv\" ­Ґ пў«пҐвбп ў­гваҐ­­Ґ© Ё«Ё ў­Ґи­Ґ©\n",
      "Є®¬ ­¤®©, ЁбЇ®«­пҐ¬®© Їа®Ја ¬¬®© Ё«Ё Ї ЄҐв­л¬ д ©«®¬.\n",
      "\"mv\" ­Ґ пў«пҐвбп ў­гваҐ­­Ґ© Ё«Ё ў­Ґи­Ґ©\n",
      "Є®¬ ­¤®©, ЁбЇ®«­пҐ¬®© Їа®Ја ¬¬®© Ё«Ё Ї ЄҐв­л¬ д ©«®¬.\n"
     ]
    }
   ],
   "source": [
    "!pip install python-mnist\n",
    "!mkdir dir_with_mnist_data_files\n",
    "!wget http://yann.lecun.com/exdb/mnist/train-images-idx3-ubyte.gz\n",
    "!wget http://yann.lecun.com/exdb/mnist/train-labels-idx1-ubyte.gz\n",
    "!mv train-images-idx3-ubyte.gz dir_with_mnist_data_files\n",
    "!mv train-labels-idx1-ubyte.gz dir_with_mnist_data_files"
   ]
  },
  {
   "cell_type": "code",
   "execution_count": 16,
   "metadata": {
    "colab": {},
    "colab_type": "code",
    "id": "k6GGCvvwxKhJ"
   },
   "outputs": [],
   "source": [
    "from mnist import MNIST\n",
    "from matplotlib import pyplot as plt\n",
    "import numpy as np\n",
    "\n",
    "mndata = MNIST('dir_with_mnist_data_files', gz=True)\n",
    "images, labels = mndata.load_training()\n",
    "images, labels = np.array(images), np.array(labels)"
   ]
  },
  {
   "cell_type": "code",
   "execution_count": 19,
   "metadata": {
    "colab": {
     "base_uri": "https://localhost:8080/",
     "height": 284
    },
    "colab_type": "code",
    "id": "h2fzeJ5nz3K3",
    "outputId": "ad175547-5173-4d5a-aa55-5f1b7c36f529"
   },
   "outputs": [
    {
     "data": {
      "text/plain": [
       "<matplotlib.image.AxesImage at 0x21e172b67c8>"
      ]
     },
     "execution_count": 19,
     "metadata": {},
     "output_type": "execute_result"
    },
    {
     "data": {
      "image/png": "[encoded data removed]",
      "text/plain": [
       "<Figure size 432x288 with 1 Axes>"
      ]
     },
     "metadata": {
      "needs_background": "light"
     },
     "output_type": "display_data"
    }
   ],
   "source": [
    "plt.imshow(images[0].reshape(28, 28))"
   ]
  },
  {
   "cell_type": "markdown",
   "metadata": {
    "colab_type": "text",
    "id": "Xb0sb_IZ4n8s"
   },
   "source": [
    "В этом задании вы будете работать с классическим датасетом MNIST. Код выше загрузит данные в переменные images и labels. Обучите knn с 30 ближайшими соседями. Предварительно разбейте выборку на train и test в соотношении 80/20. Какой accuracy вы получаете на тестовой выборке?"
   ]
  },
  {
   "cell_type": "code",
   "execution_count": 23,
   "metadata": {
    "colab": {},
    "colab_type": "code",
    "id": "y_JcXFz_7D_h"
   },
   "outputs": [
    {
     "data": {
      "text/plain": [
       "0.955"
      ]
     },
     "execution_count": 23,
     "metadata": {},
     "output_type": "execute_result"
    }
   ],
   "source": [
    "X_train, X_test, y_train, y_test = train_test_split(images, labels, test_size=0.2)\n",
    "\n",
    "knn = KNeighborsClassifier(n_neighbors=30)\n",
    "knn.fit(X_train, y_train)\n",
    "\n",
    "accuracy_score(y_test, knn.predict(X_test))"
   ]
  },
  {
   "cell_type": "markdown",
   "metadata": {
    "colab_type": "text",
    "id": "rx7GOKW0mhWj"
   },
   "source": [
    "# Задание 4 (неоцениваемое)\n",
    "\n",
    "Найдите примеры, которые были классифицированы не правильно. Найдите и визуализируйте 5 соседей неправильных предсказаний у любого ошибочного примера. Найти соседей точки можно с помощью метода kneighbors.  Почему они были классифицированы неправильно?"
   ]
  },
  {
   "cell_type": "code",
   "execution_count": 24,
   "metadata": {
    "colab": {},
    "colab_type": "code",
    "id": "Kplv1FnnmgmY"
   },
   "outputs": [],
   "source": [
    "predicted = knn.predict(X_test)"
   ]
  },
  {
   "cell_type": "code",
   "execution_count": 34,
   "metadata": {},
   "outputs": [
    {
     "data": {
      "text/plain": [
       "540"
      ]
     },
     "execution_count": 34,
     "metadata": {},
     "output_type": "execute_result"
    }
   ],
   "source": [
    "np.unique(y_test[~np.equal(y_test, predicted)], return_counts=True)[1].sum()"
   ]
  },
  {
   "cell_type": "code",
   "execution_count": 29,
   "metadata": {},
   "outputs": [
    {
     "data": {
      "text/plain": [
       "(array([0, 1, 2, 3, 4, 5, 6, 7, 8, 9], dtype=uint8),\n",
       " array([1162, 1396, 1089, 1133, 1149, 1043, 1163, 1153, 1014, 1158],\n",
       "       dtype=int64))"
      ]
     },
     "execution_count": 29,
     "metadata": {},
     "output_type": "execute_result"
    }
   ],
   "source": [
    "np.unique(y_test[np.equal(y_test, predicted)], return_counts=True)"
   ]
  },
  {
   "cell_type": "code",
   "execution_count": 40,
   "metadata": {},
   "outputs": [
    {
     "data": {
      "text/plain": [
       "array([    8,    62,    68,    93,   108,   175,   183,   228,   255,\n",
       "         268,   286,   292,   327,   339,   347,   348,   353,   381,\n",
       "         387,   399,   413,   421,   438,   439,   452,   492,   519,\n",
       "         559,   596,   601,   621,   644,   712,   715,   725,   730,\n",
       "         731,   800,   849,   872,   896,   983,   987,   993,  1010,\n",
       "        1025,  1027,  1076,  1082,  1090,  1095,  1112,  1117,  1159,\n",
       "        1163,  1173,  1204,  1259,  1324,  1343,  1413,  1416,  1419,\n",
       "        1440,  1442,  1452,  1519,  1547,  1575,  1583,  1593,  1594,\n",
       "        1595,  1602,  1637,  1638,  1661,  1679,  1693,  1695,  1704,\n",
       "        1757,  1784,  1791,  1824,  1838,  1843,  1870,  1932,  1959,\n",
       "        1977,  1984,  2006,  2106,  2116,  2167,  2192,  2210,  2218,\n",
       "        2220,  2224,  2252,  2298,  2306,  2321,  2326,  2342,  2359,\n",
       "        2392,  2405,  2467,  2514,  2537,  2603,  2694,  2699,  2727,\n",
       "        2766,  2785,  2790,  2791,  2795,  2803,  2808,  2872,  2881,\n",
       "        2891,  2899,  2994,  3011,  3040,  3052,  3104,  3116,  3138,\n",
       "        3190,  3207,  3208,  3209,  3216,  3221,  3222,  3238,  3239,\n",
       "        3242,  3259,  3267,  3289,  3313,  3337,  3355,  3369,  3399,\n",
       "        3411,  3424,  3457,  3484,  3492,  3521,  3527,  3535,  3553,\n",
       "        3582,  3583,  3593,  3613,  3620,  3622,  3634,  3661,  3685,\n",
       "        3704,  3718,  3721,  3729,  3742,  3778,  3783,  3798,  3818,\n",
       "        3823,  3836,  3849,  3883,  3884,  3897,  3937,  3988,  3992,\n",
       "        3994,  4062,  4089,  4101,  4130,  4141,  4194,  4213,  4226,\n",
       "        4238,  4256,  4319,  4356,  4371,  4376,  4438,  4456,  4459,\n",
       "        4460,  4474,  4481,  4487,  4509,  4538,  4543,  4547,  4616,\n",
       "        4645,  4648,  4661,  4735,  4755,  4794,  4857,  4872,  4913,\n",
       "        4944,  4970,  5014,  5028,  5043,  5049,  5066,  5103,  5138,\n",
       "        5177,  5183,  5222,  5250,  5347,  5348,  5353,  5362,  5376,\n",
       "        5383,  5396,  5445,  5463,  5497,  5502,  5516,  5528,  5595,\n",
       "        5626,  5630,  5659,  5665,  5674,  5714,  5731,  5791,  5792,\n",
       "        5822,  5823,  5840,  5940,  5972,  5982,  5986,  6010,  6019,\n",
       "        6024,  6033,  6035,  6079,  6097,  6150,  6153,  6201,  6204,\n",
       "        6240,  6260,  6282,  6286,  6289,  6328,  6381,  6389,  6394,\n",
       "        6396,  6462,  6467,  6474,  6540,  6605,  6637,  6638,  6643,\n",
       "        6646,  6654,  6666,  6702,  6717,  6753,  6766,  6771,  6808,\n",
       "        6828,  6885,  6907,  6914,  6972,  6977,  6979,  7012,  7042,\n",
       "        7044,  7080,  7097,  7155,  7216,  7218,  7225,  7229,  7286,\n",
       "        7317,  7328,  7345,  7346,  7428,  7442,  7446,  7449,  7487,\n",
       "        7517,  7527,  7554,  7562,  7646,  7651,  7688,  7710,  7737,\n",
       "        7741,  7805,  7819,  7823,  7833,  7858,  7888,  7935,  7944,\n",
       "        7951,  7966,  7980,  8041,  8047,  8054,  8055,  8085,  8111,\n",
       "        8165,  8168,  8189,  8208,  8246,  8257,  8268,  8276,  8302,\n",
       "        8304,  8306,  8314,  8315,  8368,  8381,  8391,  8413,  8422,\n",
       "        8423,  8438,  8483,  8487,  8492,  8517,  8534,  8560,  8568,\n",
       "        8571,  8574,  8599,  8641,  8667,  8694,  8700,  8716,  8744,\n",
       "        8753,  8759,  8760,  8795,  8806,  8836,  8858,  8880,  8898,\n",
       "        8910,  8921,  8941,  8959,  8974,  9010,  9055,  9082,  9084,\n",
       "        9109,  9118,  9146,  9180,  9237,  9278,  9288,  9300,  9308,\n",
       "        9322,  9325,  9359,  9378,  9390,  9396,  9397,  9404,  9417,\n",
       "        9434,  9435,  9481,  9491,  9500,  9508,  9523,  9547,  9549,\n",
       "        9575,  9588,  9718,  9731,  9732,  9735,  9759,  9791,  9819,\n",
       "        9876,  9880,  9891,  9893,  9896,  9923,  9930,  9955,  9988,\n",
       "        9996, 10013, 10016, 10026, 10051, 10107, 10137, 10180, 10236,\n",
       "       10250, 10289, 10299, 10309, 10328, 10332, 10353, 10371, 10413,\n",
       "       10422, 10454, 10462, 10470, 10478, 10497, 10503, 10533, 10564,\n",
       "       10587, 10599, 10620, 10658, 10674, 10677, 10702, 10713, 10776,\n",
       "       10856, 10880, 10892, 10926, 10976, 10986, 10997, 11157, 11175,\n",
       "       11176, 11227, 11278, 11293, 11296, 11318, 11368, 11382, 11403,\n",
       "       11414, 11416, 11418, 11429, 11432, 11440, 11510, 11516, 11542,\n",
       "       11592, 11600, 11606, 11613, 11619, 11620, 11632, 11636, 11679,\n",
       "       11704, 11807, 11832, 11853, 11873, 11883, 11901, 11953, 11967],\n",
       "      dtype=int64)"
      ]
     },
     "execution_count": 40,
     "metadata": {},
     "output_type": "execute_result"
    }
   ],
   "source": [
    "np.nonzero(~np.equal(y_test, predicted))[0]"
   ]
  },
  {
   "cell_type": "code",
   "execution_count": 61,
   "metadata": {},
   "outputs": [
    {
     "data": {
      "text/plain": [
       "(array([[1260.32892532, 1307.6811538 , 1319.478306  , 1337.24605066,\n",
       "         1377.81239652, 1381.83573553, 1390.42331684, 1406.89551851,\n",
       "         1407.99644886, 1413.91972898, 1419.70137705, 1427.07112647,\n",
       "         1432.41893313, 1463.84527871, 1475.59343994, 1491.94168787,\n",
       "         1493.61373855, 1495.15617913, 1497.23511848, 1500.38595035,\n",
       "         1506.09063472, 1510.57472506, 1513.56929144, 1522.5820175 ,\n",
       "         1524.75866943, 1524.88032317, 1525.67099992, 1526.49434981,\n",
       "         1529.68330056, 1529.69768255]]),\n",
       " array([[19763, 44495,  1503,  8345, 12871, 21302, 27366, 23834, 35436,\n",
       "         12529, 44651, 13443,  5337, 45696, 14264, 37131, 40587, 21984,\n",
       "          6617, 13774, 33096,   287,  8359, 39530, 37207,  9732,   655,\n",
       "         15993, 20347, 41867]], dtype=int64))"
      ]
     },
     "execution_count": 61,
     "metadata": {},
     "output_type": "execute_result"
    }
   ],
   "source": [
    "knn.kneighbors(X_test[[62]], n_neighbors=30)"
   ]
  },
  {
   "cell_type": "code",
   "execution_count": 62,
   "metadata": {},
   "outputs": [
    {
     "data": {
      "text/plain": [
       "(8, 9)"
      ]
     },
     "execution_count": 62,
     "metadata": {},
     "output_type": "execute_result"
    }
   ],
   "source": [
    "(y_test[62], predicted[62])"
   ]
  },
  {
   "cell_type": "code",
   "execution_count": 69,
   "metadata": {},
   "outputs": [
    {
     "data": {
      "text/plain": [
       "<matplotlib.image.AxesImage at 0x21e17ce2408>"
      ]
     },
     "execution_count": 69,
     "metadata": {},
     "output_type": "execute_result"
    },
    {
     "data": {
      "image/png": "[encoded data removed]",
      "text/plain": [
       "<Figure size 432x288 with 2 Axes>"
      ]
     },
     "metadata": {
      "needs_background": "light"
     },
     "output_type": "display_data"
    }
   ],
   "source": [
    "from skimage.io import imshow\n",
    "\n",
    "imshow(X_train[27366].reshape((28, 28)))"
   ]
  },
  {
   "cell_type": "code",
   "execution_count": null,
   "metadata": {},
   "outputs": [],
   "source": [
    "# очень похожие, субъективно, по написанию цифры"
   ]
  }
 ],
 "metadata": {
  "colab": {
   "collapsed_sections": [],
   "name": "Copy of Sklearn-HW.ipynb",
   "provenance": []
  },
  "kernelspec": {
   "display_name": "Python 3",
   "language": "python",
   "name": "python3"
  },
  "language_info": {
   "codemirror_mode": {
    "name": "ipython",
    "version": 3
   },
   "file_extension": ".py",
   "mimetype": "text/x-python",
   "name": "python",
   "nbconvert_exporter": "python",
   "pygments_lexer": "ipython3",
   "version": "3.7.6"
  }
 },
 "nbformat": 4,
 "nbformat_minor": 1
}
