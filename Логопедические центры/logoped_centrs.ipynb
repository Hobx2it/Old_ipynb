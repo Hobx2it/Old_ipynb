{
 "cells": [
  {
   "cell_type": "code",
   "execution_count": 22,
   "metadata": {},
   "outputs": [],
   "source": [
    "from urllib.request import urlopen\n",
    "import pandas as pd\n",
    "from bs4 import BeautifulSoup\n",
    "import re\n",
    "import requests\n",
    "from fake_headers import Headers\n",
    "\n",
    "sites = pd.read_excel('Sites.xlsx')\n",
    "\n",
    "pr_cy = 'https://a.pr-cy.ru/'\n",
    "dct = {}\n",
    "for url in sites['Сайт']: \n",
    "    try:\n",
    "        header = Headers(headers=True)\n",
    "        headers = header.generate()\n",
    "        dct.setdefault(url, {'soup' : BeautifulSoup(urlopen(pr_cy + url)),\n",
    "                            'frames' : ''})\n",
    "    except:\n",
    "        print(url)\n",
    "    \n",
    "    \n",
    "for url in sites['Сайт']:\n",
    "    try:\n",
    "        dct[url]['frames'] = pd.read_html(pr_cy + url)\n",
    "    except:\n",
    "        continue\n",
    "        \n",
    "def find_domen_age(url):\n",
    "    for div in url.find_all('div', class_='analysis-test__name'):\n",
    "        if div.text == 'Возраст домена':\n",
    "            next_div = div.find_next('div')\n",
    "            return next_div.text\n",
    "        \n",
    "        \n",
    "for key, value in dct.items():\n",
    "    dct[key]['Возраст_домена'] = find_domen_age(value['soup'])\n",
    "    \n",
    "    \n",
    "for key in dct:   \n",
    "    for table in dct[key]['frames']:\n",
    "        if all([i in table.columns for i in ['Данные',  'День', 'Неделя',  'Месяц']]):\n",
    "            dct[key]['Посещения'] = table\n",
    "        if 'Яндекс ключевые слова' in table.columns:\n",
    "            dct[key]['Яндекс ключевые слова'] = table\n",
    "        if 'Google ключевые слова' in table.columns:\n",
    "            dct[key]['Google ключевые слова'] = table \n",
    "            \n",
    "            \n",
    "dct2 = {'Адреса' : [],\n",
    "       'Возраст домена' : [],\n",
    "       'Просмотры за месяц' : [],\n",
    "       'Посетитилей за месяц' : [],\n",
    "       'Яндекс ключевые слова' : [],\n",
    "       'Google ключевые слова' : []}\n",
    "\n",
    "\n",
    "for key in dct:\n",
    "    try:\n",
    "        dct2['Адреса'].append(key)\n",
    "    except:\n",
    "        dct2['Адреса'].append('')\n",
    "    try:        \n",
    "        dct2['Возраст домена'].append(dct[key]['Возраст_домена'])\n",
    "    except:\n",
    "        dct2['Возраст домена'].append('')       \n",
    "    try:        \n",
    "        dct2['Просмотры за месяц'].append(dct[key]['Посещения']['Месяц'][0])\n",
    "    except:\n",
    "        dct2['Просмотры за месяц'].append('')       \n",
    "    try:    \n",
    "        dct2['Посетитилей за месяц'].append(dct[key]['Посещения']['Месяц'][1])\n",
    "    except:\n",
    "        dct2['Посетитилей за месяц'].append('')       \n",
    "    try:    \n",
    "        dct2['Яндекс ключевые слова'].append(dct[key]['Яндекс ключевые слова']['Яндекс ключевые слова'].tolist())\n",
    "    except:\n",
    "        dct2['Яндекс ключевые слова'].append('')       \n",
    "    try:    \n",
    "        dct2['Google ключевые слова'].append(dct[key]['Google ключевые слова']['Google ключевые слова'].tolist())\n",
    "    except:\n",
    "        dct2['Google ключевые слова'].append('')         \n",
    "    \n",
    "    \n",
    "data = pd.DataFrame(dct2)\n",
    "\n",
    "data['Возраст домена'] = data['Возраст домена'].apply(lambda x: ''.join([i for i in str(x) if i.isalnum() or i == ' ']))\n",
    "\n",
    "data['Возраст домена'] = data['Возраст домена'].apply(lambda x: '' if x == 'None' else x)\n",
    "\n",
    "data.to_excel('Статистика по сайтам.xlsx')\n",
    "            "
   ]
  },
  {
   "cell_type": "code",
   "execution_count": 11,
   "metadata": {},
   "outputs": [
    {
     "data": {
      "text/plain": [
       "{}"
      ]
     },
     "execution_count": 11,
     "metadata": {},
     "output_type": "execute_result"
    }
   ],
   "source": [
    "dct"
   ]
  },
  {
   "cell_type": "code",
   "execution_count": null,
   "metadata": {},
   "outputs": [],
   "source": []
  }
 ],
 "metadata": {
  "kernelspec": {
   "display_name": "Python 3",
   "language": "python",
   "name": "python3"
  },
  "language_info": {
   "codemirror_mode": {
    "name": "ipython",
    "version": 3
   },
   "file_extension": ".py",
   "mimetype": "text/x-python",
   "name": "python",
   "nbconvert_exporter": "python",
   "pygments_lexer": "ipython3",
   "version": "3.7.6"
  }
 },
 "nbformat": 4,
 "nbformat_minor": 4
}
