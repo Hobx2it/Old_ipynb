{
 "cells": [
  {
   "cell_type": "code",
   "execution_count": 1,
   "metadata": {},
   "outputs": [
    {
     "ename": "ImportError",
     "evalue": "cannot import name 'PDFDocument' from 'pdfminer.pdfparser' (C:\\Users\\AmanovRA\\Anaconda3\\lib\\site-packages\\pdfminer\\pdfparser.py)",
     "output_type": "error",
     "traceback": [
      "\u001b[1;31m---------------------------------------------------------------------------\u001b[0m",
      "\u001b[1;31mImportError\u001b[0m                               Traceback (most recent call last)",
      "\u001b[1;32m<ipython-input-1-9b729928d492>\u001b[0m in \u001b[0;36m<module>\u001b[1;34m\u001b[0m\n\u001b[1;32m----> 1\u001b[1;33m \u001b[1;32mfrom\u001b[0m \u001b[0mpdfminer\u001b[0m\u001b[1;33m.\u001b[0m\u001b[0mpdfparser\u001b[0m \u001b[1;32mimport\u001b[0m \u001b[0mPDFParser\u001b[0m\u001b[1;33m,\u001b[0m \u001b[0mPDFDocument\u001b[0m\u001b[1;33m\u001b[0m\u001b[1;33m\u001b[0m\u001b[0m\n\u001b[0m\u001b[0;32m      2\u001b[0m \u001b[1;32mfrom\u001b[0m \u001b[0mpdfminer\u001b[0m\u001b[1;33m.\u001b[0m\u001b[0mpdfinterp\u001b[0m \u001b[1;32mimport\u001b[0m \u001b[0mPDFResourceManager\u001b[0m\u001b[1;33m,\u001b[0m \u001b[0mPDFPageInterpreter\u001b[0m\u001b[1;33m\u001b[0m\u001b[1;33m\u001b[0m\u001b[0m\n\u001b[0;32m      3\u001b[0m \u001b[1;32mfrom\u001b[0m \u001b[0mpdfminer\u001b[0m\u001b[1;33m.\u001b[0m\u001b[0mconverter\u001b[0m \u001b[1;32mimport\u001b[0m \u001b[0mPDFPageAggregator\u001b[0m\u001b[1;33m\u001b[0m\u001b[1;33m\u001b[0m\u001b[0m\n\u001b[0;32m      4\u001b[0m \u001b[1;32mfrom\u001b[0m \u001b[0mpdfminer\u001b[0m\u001b[1;33m.\u001b[0m\u001b[0mlayout\u001b[0m \u001b[1;32mimport\u001b[0m \u001b[0mLAParams\u001b[0m\u001b[1;33m,\u001b[0m \u001b[0mLTTextBox\u001b[0m\u001b[1;33m,\u001b[0m \u001b[0mLTTextLine\u001b[0m\u001b[1;33m\u001b[0m\u001b[1;33m\u001b[0m\u001b[0m\n\u001b[0;32m      5\u001b[0m \u001b[1;32mimport\u001b[0m \u001b[0mre\u001b[0m\u001b[1;33m,\u001b[0m \u001b[0mos\u001b[0m\u001b[1;33m,\u001b[0m \u001b[0mshutil\u001b[0m\u001b[1;33m\u001b[0m\u001b[1;33m\u001b[0m\u001b[0m\n",
      "\u001b[1;31mImportError\u001b[0m: cannot import name 'PDFDocument' from 'pdfminer.pdfparser' (C:\\Users\\AmanovRA\\Anaconda3\\lib\\site-packages\\pdfminer\\pdfparser.py)"
     ]
    }
   ],
   "source": [
    "from pdfminer.pdfparser import PDFParser, PDFDocument\n",
    "from pdfminer.pdfinterp import PDFResourceManager, PDFPageInterpreter\n",
    "from pdfminer.converter import PDFPageAggregator\n",
    "from pdfminer.layout import LAParams, LTTextBox, LTTextLine\n",
    "import re, os, shutil\n",
    "from pprint import pprint\n",
    "import pandas as pd\n"
   ]
  },
  {
   "cell_type": "code",
   "execution_count": 2,
   "metadata": {},
   "outputs": [],
   "source": [
    "adress_folder = r'C:\\Users\\hobx2\\Anaconda3\\My\\PDF\\january'  # Папка с актами\n",
    "\n",
    "# сюда запишем все нужные данные с листов pdf\n",
    "data_acts = {\n",
    "    'num_act' : [],\n",
    "    'data_act' : [],\n",
    "    'customer_name' : [],\n",
    "    'customer_inn' : [],\n",
    "    'customer_adress' : [],\n",
    "    'payment_basis' : [],\n",
    "    'servis_name' : [],\n",
    "    'servis_quant' : [],\n",
    "    'servis_price' : [],\n",
    "    'servis_sum' : [],\n",
    "    'patterns' : {\n",
    "        'pattern_num_act' : r'Акт № (.+?) от',\n",
    "        'pattern_data_act' : r'от (\\d{1,2} \\w+ \\d{4} г.)',\n",
    "        'pattern_customer_name' : r'Заказчик: (.+?), ИНН',\n",
    "        'pattern_customer_inn' : r'Заказчик.+?(\\d{10})',\n",
    "        'pattern_customer_adress' : r'Заказчик.+\\d{10}.+(\\d{6}.+?) Основание',\n",
    "        'pattern_payment_basis' : r'Основание: (.+от.+?) №.+?Товары',\n",
    "        'pattern_servis_name' : r'\\(работы, услуги\\) (.+?) Кол-во',\n",
    "        'pattern_servis_quant' : r'(\\d+ шт)',\n",
    "        'pattern_servis_price' : r'шт (\\d+,\\d{2})',\n",
    "        'pattern_servis_sum' : r'Итого:.+?(\\d+,\\d{2})'\n",
    "        \n",
    "    },\n",
    "    'cnt' : []\n",
    "}\n"
   ]
  },
  {
   "cell_type": "code",
   "execution_count": 3,
   "metadata": {},
   "outputs": [],
   "source": [
    "def pdf_to_text(file : 'pdf') -> 'temp.txt':\n",
    "    '''Считает из pdf текст и сохранит в temp.txt'''\n",
    "    fp = open(file, 'rb')\n",
    "    parser = PDFParser(fp)\n",
    "    doc = PDFDocument()\n",
    "    parser.set_document(doc)\n",
    "    doc.set_parser(parser)\n",
    "    doc.initialize('')\n",
    "    rsrcmgr = PDFResourceManager()\n",
    "    laparams = LAParams()\n",
    "    device = PDFPageAggregator(rsrcmgr, laparams=laparams)\n",
    "    interpreter = PDFPageInterpreter(rsrcmgr, device)\n",
    "    # Process each page contained in the document.\n",
    "    fin = open('temp.txt', 'w') # очистка temp.txt\n",
    "    fin.close()\n",
    "    fin = open('temp.txt', 'a', encoding = 'utf8')\n",
    "    temp_text = ''\n",
    "    for page in doc.get_pages():\n",
    "        interpreter.process_page(page)\n",
    "        layout = device.get_result()\n",
    "        for lt_obj in layout:\n",
    "            if isinstance(lt_obj, LTTextBox) or isinstance(lt_obj, LTTextLine):\n",
    "                fin.write(lt_obj.get_text())\n",
    "\n",
    "    fp.close()\n",
    "    fin.close()\n",
    "    data_acts['cnt'].append(file[file.rfind('/') + 1:])\n",
    "     "
   ]
  },
  {
   "cell_type": "code",
   "execution_count": 4,
   "metadata": {},
   "outputs": [],
   "source": [
    "def add_data() -> None:\n",
    "    '''Считает temp.txt и добавит данные в словарь data_acts'''\n",
    "    with open('temp.txt', 'r', encoding = 'utf8') as fin:\n",
    "        temp_text = fin.read().replace('\\n', ' ')\n",
    "    for key, pattern in data_acts['patterns'].items():\n",
    "        data_acts[key[8:]].append(re.search(pattern, temp_text).group(1))\n"
   ]
  },
  {
   "cell_type": "code",
   "execution_count": 5,
   "metadata": {},
   "outputs": [],
   "source": [
    "os.chdir(adress_folder)\n",
    "try:\n",
    "    os.mkdir(adress_folder +'/acts')\n",
    "except OSError:\n",
    "    None\n",
    "cnt = 0\n",
    "for adress, dires, files in os.walk('.'):\n",
    "    for i in files:\n",
    "        if i[:3] == 'Aкт':\n",
    "            cnt += 1\n",
    "            shutil.copy(adress_folder + adress[1:] + '/' + i, adress_folder +'/acts/' + str(cnt) + '.pdf')\n",
    "            pdf_to_text(adress_folder +'/acts/' + str(cnt) + '.pdf')\n",
    "            add_data()\n",
    "\n",
    "pd.DataFrame.from_dict({key : value for key, value in data_acts.items() if key not in ('patterns', 'cnt')}).to_excel(\"output.xlsx\") \n"
   ]
  },
  {
   "cell_type": "code",
   "execution_count": 6,
   "metadata": {},
   "outputs": [],
   "source": [
    "data = pd.DataFrame.from_dict({key : value for key, value in data_acts.items() if key not in ('patterns', 'cnt')})"
   ]
  },
  {
   "cell_type": "code",
   "execution_count": 10,
   "metadata": {},
   "outputs": [],
   "source": [
    "data['servis_price'] = data['servis_price'].apply(lambda x: float(x.replace(',', '.')))"
   ]
  },
  {
   "cell_type": "code",
   "execution_count": 14,
   "metadata": {},
   "outputs": [
    {
     "data": {
      "text/plain": [
       "<matplotlib.axes._subplots.AxesSubplot at 0x246f78d1788>"
      ]
     },
     "execution_count": 14,
     "metadata": {},
     "output_type": "execute_result"
    },
    {
     "data": {
      "image/png": "[encoded data removed]",
      "text/plain": [
       "<Figure size 432x288 with 1 Axes>"
      ]
     },
     "metadata": {
      "needs_background": "light"
     },
     "output_type": "display_data"
    }
   ],
   "source": [
    "import matplotlib.pyplot as plt\n",
    "%matplotlib inline\n",
    "data['servis_price'].hist()"
   ]
  },
  {
   "cell_type": "code",
   "execution_count": null,
   "metadata": {},
   "outputs": [],
   "source": []
  }
 ],
 "metadata": {
  "kernelspec": {
   "display_name": "Python 3",
   "language": "python",
   "name": "python3"
  },
  "language_info": {
   "codemirror_mode": {
    "name": "ipython",
    "version": 3
   },
   "file_extension": ".py",
   "mimetype": "text/x-python",
   "name": "python",
   "nbconvert_exporter": "python",
   "pygments_lexer": "ipython3",
   "version": "3.7.6"
  }
 },
 "nbformat": 4,
 "nbformat_minor": 2
}
