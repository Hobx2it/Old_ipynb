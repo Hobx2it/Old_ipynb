{
 "cells": [
  {
   "cell_type": "code",
   "execution_count": null,
   "metadata": {},
   "outputs": [],
   "source": [
    "# найти родительскую папку, взять имя текущей папки, имя файла, все склеить\n",
    "\n",
    "import os\n",
    "import pathlib\n",
    "from pprint import pprint\n",
    "os.chdir(r'C:\\Users\\AmanovRA\\Текущее\\Платные каналы')\n",
    "import pandas as pd\n",
    "\n",
    "\n",
    "for i, j, k in os.walk('.'):\n",
    "    for x in k:\n",
    "        print(i)\n",
    "        print(os.path.join(pathlib.Path(i).parent.absolute(), os.path.basename(i) ,x))\n"
   ]
  }
 ],
 "metadata": {
  "kernelspec": {
   "display_name": "Python 3",
   "language": "python",
   "name": "python3"
  },
  "language_info": {
   "codemirror_mode": {
    "name": "ipython",
    "version": 3
   },
   "file_extension": ".py",
   "mimetype": "text/x-python",
   "name": "python",
   "nbconvert_exporter": "python",
   "pygments_lexer": "ipython3",
   "version": "3.7.6"
  }
 },
 "nbformat": 4,
 "nbformat_minor": 4
}
