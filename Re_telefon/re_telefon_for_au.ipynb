{
 "cells": [
  {
   "cell_type": "code",
   "execution_count": 1,
   "metadata": {},
   "outputs": [],
   "source": [
    "import pandas as pd\n",
    "import numpy as np\n",
    "import matplotlib.pyplot as plt\n",
    "import re\n",
    "%matplotlib inline"
   ]
  },
  {
   "cell_type": "code",
   "execution_count": 2,
   "metadata": {},
   "outputs": [],
   "source": [
    "au_telefons = pd.read_excel(r'R:\\AmanovRA\\АУ_апрель_июнь_2020.xlsx')"
   ]
  },
  {
   "cell_type": "code",
   "execution_count": 3,
   "metadata": {},
   "outputs": [],
   "source": [
    "dom, mobil, work = au_telefons['Телефон домашний'].tolist(), au_telefons['Телефон мобильный'].tolist(), au_telefons['Телефон рабочий'].tolist()"
   ]
  },
  {
   "cell_type": "code",
   "execution_count": 4,
   "metadata": {},
   "outputs": [],
   "source": [
    "pattern = r'\\(\\d{2}\\)'\n",
    "pattern2 = r'[а-яА-Яa-zA-Z]{1}'\n",
    "\n",
    "for key in (dom, mobil, work):\n",
    "    for i, j in enumerate(key)\n",
    "        if len([x for x in j if x.isdigit()]) == 10:\n",
    "            phones[i] = '7' + ''.join([x for x in j if x.isdigit()])    \n",
    "        if len([x for x in j if x.isdigit()]) == 11:\n",
    "            temp_arr = ''.join([x for x in j if x.isdigit()])\n",
    "            if temp_arr[0] == '8':\n",
    "                phones[i] = '7' + temp_arr[1:]\n",
    "            elif temp_arr[0] == '7':    \n",
    "                phones[i] = temp_arr\n",
    "\n",
    "\n",
    "\n",
    "for key in (dom, mobil, work):\n",
    "    for i, j in enumerate(key):\n",
    "        if type(j) == str:\n",
    "            key[i] = ''.join([x if x not in ',;!:.\\\\/+' else ' ' for x in j])        \n",
    "            key[i] = key[i].lstrip(' ')\n",
    "            key[i] = key[i].rstrip(' ')\n",
    "            if re.search(pattern2, key[i]):\n",
    "                key[i] = re.sub(pattern2, '', key[i])\n",
    "            key[i] = ''.join([x for x in key[i] if x not in '()-'])  "
   ]
  },
  {
   "cell_type": "code",
   "execution_count": 5,
   "metadata": {},
   "outputs": [],
   "source": [
    "for key in (dom, mobil, work):\n",
    "    for i, j in enumerate(key):\n",
    "        if type(j) == str:\n",
    "            if len(j) == 7:\n",
    "                key[i] = '7812' + key[i]\n",
    "            elif len(j) == 11 and j[0] == '8':\n",
    "                key[i] = '7' + j[1:]\n",
    "            elif len(j) == 10:\n",
    "                key[i] = '7' + j"
   ]
  },
  {
   "cell_type": "code",
   "execution_count": 15,
   "metadata": {},
   "outputs": [],
   "source": [
    "def concate_lists(*args) -> list:   # соединим все номера в одну строку чтобы проще было искать\n",
    "    temp_lst = []\n",
    "    for i in range(len(args[0])):\n",
    "        temp_lst.append(' '.join([str(x[i]) for x in args]))\n",
    "    return temp_lst\n",
    "            \n",
    "lst_search = concate_lists(dom, mobil, work)        "
   ]
  },
  {
   "cell_type": "code",
   "execution_count": 22,
   "metadata": {},
   "outputs": [],
   "source": [
    "april, may = pd.read_excel(r'C:\\Users\\AmanovRA\\Текущее\\Лиды_апрель_май\\Лиды_апрель_май_АУ.xlsx', sheet_name='Апрель'), pd.read_excel(r'C:\\Users\\AmanovRA\\Текущее\\Лиды_апрель_май\\Лиды_апрель_май_АУ.xlsx', sheet_name='Май')"
   ]
  },
  {
   "cell_type": "code",
   "execution_count": 26,
   "metadata": {},
   "outputs": [],
   "source": [
    "april['Клиент: телефон'] = april['Клиент: телефон'].apply(str)\n",
    "may['Клиент: телефон'] = may['Клиент: телефон'].apply(str)"
   ]
  },
  {
   "cell_type": "code",
   "execution_count": 44,
   "metadata": {},
   "outputs": [],
   "source": [
    "lst_with_coincidenc_april = []\n",
    "for index, row in enumerate(lst_search):\n",
    "    lst_with_coincidenc_april.append([])\n",
    "    for i in april['Клиент: телефон']:\n",
    "        if str(i) in row:\n",
    "            lst_with_coincidenc_april[index].append(str(i))\n",
    "            \n",
    "            \n",
    "    "
   ]
  },
  {
   "cell_type": "code",
   "execution_count": 45,
   "metadata": {},
   "outputs": [],
   "source": [
    "lst_with_coincidenc_may = []\n",
    "for index, row in enumerate(lst_search):\n",
    "    lst_with_coincidenc_may.append([])\n",
    "    for i in may['Клиент: телефон']:\n",
    "        if str(i) in row:\n",
    "            lst_with_coincidenc_may[index].append(str(i))"
   ]
  },
  {
   "cell_type": "code",
   "execution_count": 46,
   "metadata": {},
   "outputs": [],
   "source": [
    "au_telefons['Апрель'], au_telefons['Май'] = lst_with_coincidenc_april, lst_with_coincidenc_may"
   ]
  },
  {
   "cell_type": "code",
   "execution_count": 47,
   "metadata": {},
   "outputs": [],
   "source": [
    "def join_list(lst):\n",
    "    return ', '.join([str(i) for i in lst])\n",
    "\n",
    "au_telefons['Апрель'], au_telefons['Май'] = au_telefons['Апрель'].apply(join_list), au_telefons['Май'].apply(join_list)"
   ]
  },
  {
   "cell_type": "code",
   "execution_count": 49,
   "metadata": {},
   "outputs": [],
   "source": [
    "au_telefons.to_excel(r'C:\\Users\\AmanovRA\\Текущее\\Лиды_апрель_май\\АУ_по_июнь.xlsx')"
   ]
  },
  {
   "cell_type": "code",
   "execution_count": null,
   "metadata": {},
   "outputs": [],
   "source": []
  },
  {
   "cell_type": "code",
   "execution_count": null,
   "metadata": {},
   "outputs": [],
   "source": []
  }
 ],
 "metadata": {
  "kernelspec": {
   "display_name": "Python 3",
   "language": "python",
   "name": "python3"
  },
  "language_info": {
   "codemirror_mode": {
    "name": "ipython",
    "version": 3
   },
   "file_extension": ".py",
   "mimetype": "text/x-python",
   "name": "python",
   "nbconvert_exporter": "python",
   "pygments_lexer": "ipython3",
   "version": "3.7.6"
  }
 },
 "nbformat": 4,
 "nbformat_minor": 4
}
