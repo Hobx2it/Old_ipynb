{
 "cells": [
  {
   "cell_type": "code",
   "execution_count": 2,
   "metadata": {},
   "outputs": [],
   "source": [
    "from selenium import webdriver\n",
    "from selenium.webdriver.firefox.firefox_binary import FirefoxBinary\n",
    "binary = FirefoxBinary(r'C:\\Users\\AmanovRA\\AppData\\Local\\Mozilla Firefox\\firefox.exe')\n",
    "exec_path = \"geckodriver.exe\"\n",
    "fp = webdriver.FirefoxProfile()\n",
    "fp.set_preference(\"intl.accept_languages\", 'ru')\n",
    "browser = webdriver.Firefox(executable_path=exec_path, firefox_binary=binary, firefox_profile=fp)\n",
    "browser.get(\"https://stepik.org/lesson/25969/step/8\")"
   ]
  },
  {
   "cell_type": "code",
   "execution_count": null,
   "metadata": {},
   "outputs": [],
   "source": []
  }
 ],
 "metadata": {
  "kernelspec": {
   "display_name": "Python 3",
   "language": "python",
   "name": "python3"
  },
  "language_info": {
   "codemirror_mode": {
    "name": "ipython",
    "version": 3
   },
   "file_extension": ".py",
   "mimetype": "text/x-python",
   "name": "python",
   "nbconvert_exporter": "python",
   "pygments_lexer": "ipython3",
   "version": "3.7.6"
  }
 },
 "nbformat": 4,
 "nbformat_minor": 4
}
