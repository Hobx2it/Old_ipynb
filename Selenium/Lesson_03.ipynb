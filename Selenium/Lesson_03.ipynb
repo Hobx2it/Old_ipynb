{
 "cells": [
  {
   "cell_type": "code",
   "execution_count": 7,
   "metadata": {},
   "outputs": [],
   "source": [
    "from selenium import webdriver\n",
    "from selenium.webdriver.common.by import By\n",
    "from selenium.webdriver.support.ui import WebDriverWait\n",
    "from selenium.webdriver.support import expected_conditions as EC\n",
    "import math\n",
    "import time\n",
    "import pytest\n",
    "\n",
    "links = '''https://stepik.org/lesson/236895/step/1\n",
    "https://stepik.org/lesson/236896/step/1\n",
    "https://stepik.org/lesson/236897/step/1\n",
    "https://stepik.org/lesson/236898/step/1\n",
    "https://stepik.org/lesson/236899/step/1\n",
    "https://stepik.org/lesson/236903/step/1\n",
    "https://stepik.org/lesson/236904/step/1\n",
    "https://stepik.org/lesson/236905/step/1'''.split('\\n')\n",
    "\n",
    "def calc_time():\n",
    "    return str(math.log(int(time.time())))\n",
    "\n",
    "@pytest.fixture(scope=\"function\")\n",
    "def browser():\n",
    "    print(\"\\nstart browser for test..\")\n",
    "    browser = webdriver.Chrome()\n",
    "    yield browser\n",
    "    print(\"\\nquit browser..\")\n",
    "    browser.quit()\n",
    "\n",
    "@pytest.mark.parametrize('link', links)\n",
    "def test_guest_should_see_login_link(browser, link):\n",
    "    browser.implicitly_wait(5)\n",
    "    browser.get(link)\n",
    "    browser.find_element_by_css_selector(\".textarea\").send_keys(calc_time())\n",
    "    send_button = browser.find_element_by_css_selector('.submit-submission').click()\n",
    "    attempt_message = WebDriverWait(browser, 15).until(EC.element_to_be_clickable((By.CLASS_NAME, 'attempt__message')))\n",
    "    span = browser.find_element_by_css_selector('.attempt__message > span:first-child').get_attribute(\"class\")\n",
    "    print(span, span.split('_')[-1])\n",
    "    if span.split('_')[-1] == 'correct':\n",
    "        text = browser.find_element_by_css_selector('.attempt__message div pre').text\n",
    "        assert 'Correct' in text, text\n",
    "    \n",
    "    "
   ]
  },
  {
   "cell_type": "code",
   "execution_count": 19,
   "metadata": {},
   "outputs": [
    {
     "data": {
      "text/plain": [
       "'21.197472509144244'"
      ]
     },
     "execution_count": 19,
     "metadata": {},
     "output_type": "execute_result"
    }
   ],
   "source": [
    "import math\n",
    "import time\n",
    "\n",
    "def calc_time():\n",
    "    return str(math.log(int(time.time())))\n",
    "\n",
    "calc_time()"
   ]
  },
  {
   "cell_type": "code",
   "execution_count": null,
   "metadata": {},
   "outputs": [],
   "source": []
  }
 ],
 "metadata": {
  "kernelspec": {
   "display_name": "Python 3",
   "language": "python",
   "name": "python3"
  },
  "language_info": {
   "codemirror_mode": {
    "name": "ipython",
    "version": 3
   },
   "file_extension": ".py",
   "mimetype": "text/x-python",
   "name": "python",
   "nbconvert_exporter": "python",
   "pygments_lexer": "ipython3",
   "version": "3.7.6"
  }
 },
 "nbformat": 4,
 "nbformat_minor": 4
}
