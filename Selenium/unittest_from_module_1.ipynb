{
 "cells": [
  {
   "cell_type": "code",
   "execution_count": 1,
   "metadata": {},
   "outputs": [
    {
     "name": "stderr",
     "output_type": "stream",
     "text": [
      "E\n",
      "======================================================================\n",
      "ERROR: C:\\Users\\AmanovRA\\AppData\\Roaming\\jupyter\\runtime\\kernel-ec2cd97e-03c8-4bd9-8cfb-7037d6f45d0d (unittest.loader._FailedTest)\n",
      "----------------------------------------------------------------------\n",
      "AttributeError: module '__main__' has no attribute 'C:\\Users\\AmanovRA\\AppData\\Roaming\\jupyter\\runtime\\kernel-ec2cd97e-03c8-4bd9-8cfb-7037d6f45d0d'\n",
      "\n",
      "----------------------------------------------------------------------\n",
      "Ran 1 test in 0.002s\n",
      "\n",
      "FAILED (errors=1)\n"
     ]
    },
    {
     "ename": "SystemExit",
     "evalue": "True",
     "output_type": "error",
     "traceback": [
      "An exception has occurred, use %tb to see the full traceback.\n",
      "\u001b[1;31mSystemExit\u001b[0m\u001b[1;31m:\u001b[0m True\n"
     ]
    },
    {
     "name": "stderr",
     "output_type": "stream",
     "text": [
      "C:\\Users\\AmanovRA\\Anaconda3\\lib\\site-packages\\IPython\\core\\interactiveshell.py:3339: UserWarning: To exit: use 'exit', 'quit', or Ctrl-D.\n",
      "  warn(\"To exit: use 'exit', 'quit', or Ctrl-D.\", stacklevel=1)\n"
     ]
    }
   ],
   "source": [
    "from selenium import webdriver\n",
    "import time\n",
    "import unittest\n",
    "\n",
    "class TestRegistration(unittest.TestCase):\n",
    "    \n",
    "\n",
    "    \n",
    "    def test_registration1(self):\n",
    "        browser = webdriver.Chrome()\n",
    "        browser.get('http://suninjuly.github.io/registration1.html')\n",
    "\n",
    "        first_name = browser.find_element_by_css_selector('.form-control.first:required')\n",
    "        last_name = browser.find_element_by_css_selector('.form-control.second:required')\n",
    "        email = browser.find_element_by_css_selector('.form-control.third:required')\n",
    "        for element in (first_name, last_name, email):\n",
    "            element.send_keys('sample')\n",
    "\n",
    "        button = browser.find_element_by_css_selector(\"button.btn\")\n",
    "        button.click()\n",
    "\n",
    "        time.sleep(1)\n",
    "\n",
    "        welcome_text_elt = browser.find_element_by_tag_name(\"h1\")\n",
    "\n",
    "        welcome_text = welcome_text_elt.text\n",
    "        self.assertEqual(\"Congratulations! You have successfully registered!\", welcome_text, \"Not a welcome text\")\n",
    "\n",
    "        # ожидание чтобы визуально оценить результаты прохождения скрипта\n",
    "        time.sleep(10)\n",
    "        # закрываем браузер после всех манипуляций\n",
    "        browser.quit()\n",
    "\n",
    "        \n",
    "    def test_registration2(self):\n",
    "        browser = webdriver.Chrome()\n",
    "        browser.get('http://suninjuly.github.io/registration2.html')\n",
    "\n",
    "        first_name = browser.find_element_by_css_selector('.form-control.first:required')\n",
    "        last_name = browser.find_element_by_css_selector('.form-control.second:required')\n",
    "        email = browser.find_element_by_css_selector('.form-control.third:required')\n",
    "        for element in (first_name, last_name, email):\n",
    "            element.send_keys('sample')\n",
    "\n",
    "        button = browser.find_element_by_css_selector(\"button.btn\")\n",
    "        button.click()\n",
    "\n",
    "        time.sleep(1)\n",
    "\n",
    "        welcome_text_elt = browser.find_element_by_tag_name(\"h1\")\n",
    "\n",
    "        welcome_text = welcome_text_elt.text\n",
    "        self.assertEqual(\"Congratulations! You have successfully registered!\", welcome_text, \"Not a welcome text\")\n",
    "\n",
    "        # ожидание чтобы визуально оценить результаты прохождения скрипта\n",
    "        time.sleep(10)\n",
    "        # закрываем браузер после всех манипуляций\n",
    "        browser.quit()\n",
    "        \n",
    "\n",
    "        \n",
    "if __name__ == \"__main__\":\n",
    "    unittest.main()\n",
    "\n",
    "\n",
    "\n",
    "\n",
    "\n",
    "\n",
    "\n",
    "\n",
    "\n"
   ]
  },
  {
   "cell_type": "code",
   "execution_count": null,
   "metadata": {},
   "outputs": [],
   "source": []
  }
 ],
 "metadata": {
  "kernelspec": {
   "display_name": "Python 3",
   "language": "python",
   "name": "python3"
  },
  "language_info": {
   "codemirror_mode": {
    "name": "ipython",
    "version": 3
   },
   "file_extension": ".py",
   "mimetype": "text/x-python",
   "name": "python",
   "nbconvert_exporter": "python",
   "pygments_lexer": "ipython3",
   "version": "3.7.6"
  }
 },
 "nbformat": 4,
 "nbformat_minor": 4
}
