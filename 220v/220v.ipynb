{
 "cells": [
  {
   "cell_type": "code",
   "execution_count": 1,
   "metadata": {},
   "outputs": [],
   "source": [
    "import os\n",
    "import pandas as pd\n"
   ]
  },
  {
   "cell_type": "code",
   "execution_count": 2,
   "metadata": {},
   "outputs": [],
   "source": [
    "for file in os.listdir('.'):\n",
    "    if 'claim' in file:\n",
    "        data = pd.read_excel(file, skiprows=2, skipfooter=10, na_values=' ', usecols=['Дата создания претензии', \\\n",
    "                                                                        'Дата закрытия претензии',\\\n",
    "                                                                       'Претензионный менеджер'])\n",
    "        break"
   ]
  },
  {
   "cell_type": "code",
   "execution_count": 3,
   "metadata": {},
   "outputs": [],
   "source": [
    "data['Дата создания претензии'], data['Дата закрытия претензии'] = pd.to_datetime(data['Дата создания претензии'], format='%d.%m.%y'), pd.to_datetime(data['Дата закрытия претензии'], format='%d.%m.%y')"
   ]
  },
  {
   "cell_type": "code",
   "execution_count": 4,
   "metadata": {},
   "outputs": [],
   "source": [
    "data = data[data['Дата закрытия претензии'].isin(pd.date_range(start='2020-09-01', end='2020-09-30'))].reset_index(drop=True)"
   ]
  },
  {
   "cell_type": "code",
   "execution_count": 5,
   "metadata": {},
   "outputs": [],
   "source": [
    "data['Дней на закрытие'] = (data['Дата закрытия претензии'] - data['Дата создания претензии']).apply(lambda x: x.days)"
   ]
  },
  {
   "cell_type": "code",
   "execution_count": 6,
   "metadata": {},
   "outputs": [],
   "source": [
    "group_data = data.groupby('Претензионный менеджер', as_index=False).agg({'Дата создания претензии' : 'count', 'Дней на закрытие' : 'mean'}).rename(columns = {'Дата создания претензии' : 'Закрыто обращений в сентябре', 'Дней на закрытие' : 'Среднее время закрытия обращения'})"
   ]
  },
  {
   "cell_type": "code",
   "execution_count": 7,
   "metadata": {},
   "outputs": [],
   "source": [
    "group_data['Sort_index'] = group_data['Претензионный менеджер'].apply(lambda x: int(x.split()[-1]))\n",
    "\n",
    "group_data = group_data.sort_values(by=['Sort_index'])\n"
   ]
  },
  {
   "cell_type": "code",
   "execution_count": 8,
   "metadata": {},
   "outputs": [],
   "source": [
    "group_data.index = group_data['Претензионный менеджер']\n",
    "\n",
    "group_data.drop(['Sort_index', 'Претензионный менеджер'], axis=1, inplace=True)\n",
    "\n",
    "group_data.to_excel('Менеджеры_сентябрь.xlsx')"
   ]
  }
 ],
 "metadata": {
  "kernelspec": {
   "display_name": "Python 3",
   "language": "python",
   "name": "python3"
  },
  "language_info": {
   "codemirror_mode": {
    "name": "ipython",
    "version": 3
   },
   "file_extension": ".py",
   "mimetype": "text/x-python",
   "name": "python",
   "nbconvert_exporter": "python",
   "pygments_lexer": "ipython3",
   "version": "3.7.4"
  }
 },
 "nbformat": 4,
 "nbformat_minor": 2
}
