{
 "cells": [
  {
   "cell_type": "code",
   "execution_count": 49,
   "metadata": {},
   "outputs": [],
   "source": [
    "import statsmodels.stats.api as sms\n",
    "import pandas as pd\n",
    "import matplotlib.pyplot as plt\n",
    "%matplotlib inline\n",
    "\n"
   ]
  },
  {
   "cell_type": "code",
   "execution_count": 50,
   "metadata": {},
   "outputs": [],
   "source": [
    "data = pd.read_excel('Prognoz.xlsx', sheet_name='Лист2', header=0, index_col=0)\n"
   ]
  },
  {
   "cell_type": "code",
   "execution_count": 52,
   "metadata": {},
   "outputs": [
    {
     "data": {
      "text/html": [
       "<div>\n",
       "<style scoped>\n",
       "    .dataframe tbody tr th:only-of-type {\n",
       "        vertical-align: middle;\n",
       "    }\n",
       "\n",
       "    .dataframe tbody tr th {\n",
       "        vertical-align: top;\n",
       "    }\n",
       "\n",
       "    .dataframe thead th {\n",
       "        text-align: right;\n",
       "    }\n",
       "</style>\n",
       "<table border=\"1\" class=\"dataframe\">\n",
       "  <thead>\n",
       "    <tr style=\"text-align: right;\">\n",
       "      <th></th>\n",
       "      <th>Сумма по полю Доступно для записи Пациентов</th>\n",
       "      <th>Сумма по полю Всего_запись</th>\n",
       "    </tr>\n",
       "    <tr>\n",
       "      <th>Названия строк</th>\n",
       "      <th></th>\n",
       "      <th></th>\n",
       "    </tr>\n",
       "  </thead>\n",
       "  <tbody>\n",
       "    <tr>\n",
       "      <th>13</th>\n",
       "      <td>679.965278</td>\n",
       "      <td>413.167558</td>\n",
       "    </tr>\n",
       "    <tr>\n",
       "      <th>14</th>\n",
       "      <td>516.319444</td>\n",
       "      <td>232.427720</td>\n",
       "    </tr>\n",
       "    <tr>\n",
       "      <th>15</th>\n",
       "      <td>448.732639</td>\n",
       "      <td>225.027674</td>\n",
       "    </tr>\n",
       "    <tr>\n",
       "      <th>16</th>\n",
       "      <td>449.534722</td>\n",
       "      <td>233.345995</td>\n",
       "    </tr>\n",
       "    <tr>\n",
       "      <th>17</th>\n",
       "      <td>450.871528</td>\n",
       "      <td>229.635683</td>\n",
       "    </tr>\n",
       "  </tbody>\n",
       "</table>\n",
       "</div>"
      ],
      "text/plain": [
       "                Сумма по полю Доступно для записи Пациентов  \\\n",
       "Названия строк                                                \n",
       "13                                               679.965278   \n",
       "14                                               516.319444   \n",
       "15                                               448.732639   \n",
       "16                                               449.534722   \n",
       "17                                               450.871528   \n",
       "\n",
       "                Сумма по полю Всего_запись  \n",
       "Названия строк                              \n",
       "13                              413.167558  \n",
       "14                              232.427720  \n",
       "15                              225.027674  \n",
       "16                              233.345995  \n",
       "17                              229.635683  "
      ]
     },
     "execution_count": 52,
     "metadata": {},
     "output_type": "execute_result"
    }
   ],
   "source": [
    "data"
   ]
  },
  {
   "cell_type": "code",
   "execution_count": 62,
   "metadata": {},
   "outputs": [
    {
     "data": {
      "text/plain": [
       "(385.18267789773813, 632.986766546706)"
      ]
     },
     "execution_count": 62,
     "metadata": {},
     "output_type": "execute_result"
    }
   ],
   "source": [
    "sms.DescrStatsW(data['Сумма по полю Доступно для записи Пациентов']).tconfint_mean()"
   ]
  },
  {
   "cell_type": "code",
   "execution_count": 54,
   "metadata": {},
   "outputs": [
    {
     "data": {
      "text/plain": [
       "(164.99126399590216, 368.4505878559495)"
      ]
     },
     "execution_count": 54,
     "metadata": {},
     "output_type": "execute_result"
    }
   ],
   "source": [
    "sms.DescrStatsW(data['Сумма по полю Всего_запись']).tconfint_mean()"
   ]
  },
  {
   "cell_type": "code",
   "execution_count": 18,
   "metadata": {},
   "outputs": [],
   "source": [
    "disp_data = pd.read_excel('Prognoz.xlsx', sheet_name='Лист3', header=0, index_col=0)"
   ]
  },
  {
   "cell_type": "code",
   "execution_count": 19,
   "metadata": {},
   "outputs": [
    {
     "data": {
      "text/html": [
       "<div>\n",
       "<style scoped>\n",
       "    .dataframe tbody tr th:only-of-type {\n",
       "        vertical-align: middle;\n",
       "    }\n",
       "\n",
       "    .dataframe tbody tr th {\n",
       "        vertical-align: top;\n",
       "    }\n",
       "\n",
       "    .dataframe thead th {\n",
       "        text-align: right;\n",
       "    }\n",
       "</style>\n",
       "<table border=\"1\" class=\"dataframe\">\n",
       "  <thead>\n",
       "    <tr style=\"text-align: right;\">\n",
       "      <th></th>\n",
       "      <th>Б.С. 45</th>\n",
       "      <th>Богатыр 49к1</th>\n",
       "      <th>Брянцева 13</th>\n",
       "      <th>Гаврил.11</th>\n",
       "      <th>Гарьк. 15к3</th>\n",
       "      <th>Гаст. 22</th>\n",
       "      <th>Жукова 18</th>\n",
       "      <th>КИМа 28</th>\n",
       "      <th>Колл. 4к1</th>\n",
       "      <th>Колл. 6к1</th>\n",
       "      <th>Колом. 28</th>\n",
       "      <th>Коменд 51к1</th>\n",
       "      <th>Ленская 17к1</th>\n",
       "      <th>Мар. 48</th>\n",
       "      <th>Маршака 4</th>\n",
       "      <th>Мор. 3к2</th>\n",
       "      <th>РЦ БС 45</th>\n",
       "      <th>Сик. 7к2</th>\n",
       "      <th>Ст.П. 39А</th>\n",
       "      <th>Щерб.11</th>\n",
       "    </tr>\n",
       "    <tr>\n",
       "      <th>Названия строк</th>\n",
       "      <th></th>\n",
       "      <th></th>\n",
       "      <th></th>\n",
       "      <th></th>\n",
       "      <th></th>\n",
       "      <th></th>\n",
       "      <th></th>\n",
       "      <th></th>\n",
       "      <th></th>\n",
       "      <th></th>\n",
       "      <th></th>\n",
       "      <th></th>\n",
       "      <th></th>\n",
       "      <th></th>\n",
       "      <th></th>\n",
       "      <th></th>\n",
       "      <th></th>\n",
       "      <th></th>\n",
       "      <th></th>\n",
       "      <th></th>\n",
       "    </tr>\n",
       "  </thead>\n",
       "  <tbody>\n",
       "    <tr>\n",
       "      <th>13</th>\n",
       "      <td>0.694909</td>\n",
       "      <td>0.599620</td>\n",
       "      <td>0.679053</td>\n",
       "      <td>0.584450</td>\n",
       "      <td>0.626748</td>\n",
       "      <td>0.613494</td>\n",
       "      <td>0.035842</td>\n",
       "      <td>0.656653</td>\n",
       "      <td>0.683938</td>\n",
       "      <td>0.746874</td>\n",
       "      <td>0.599175</td>\n",
       "      <td>0.479023</td>\n",
       "      <td>0.616973</td>\n",
       "      <td>0.537678</td>\n",
       "      <td>0.565748</td>\n",
       "      <td>0.588368</td>\n",
       "      <td>0.529842</td>\n",
       "      <td>0.600313</td>\n",
       "      <td>0.529362</td>\n",
       "      <td>0.543682</td>\n",
       "    </tr>\n",
       "    <tr>\n",
       "      <th>14</th>\n",
       "      <td>0.557134</td>\n",
       "      <td>0.410917</td>\n",
       "      <td>0.495645</td>\n",
       "      <td>0.436755</td>\n",
       "      <td>0.499486</td>\n",
       "      <td>0.457623</td>\n",
       "      <td>0.000000</td>\n",
       "      <td>0.411930</td>\n",
       "      <td>0.474064</td>\n",
       "      <td>0.715264</td>\n",
       "      <td>0.488427</td>\n",
       "      <td>0.285934</td>\n",
       "      <td>0.454622</td>\n",
       "      <td>0.311323</td>\n",
       "      <td>0.375625</td>\n",
       "      <td>0.475284</td>\n",
       "      <td>0.374245</td>\n",
       "      <td>0.443799</td>\n",
       "      <td>0.342621</td>\n",
       "      <td>0.310669</td>\n",
       "    </tr>\n",
       "    <tr>\n",
       "      <th>15</th>\n",
       "      <td>0.607348</td>\n",
       "      <td>0.458542</td>\n",
       "      <td>0.589278</td>\n",
       "      <td>0.368788</td>\n",
       "      <td>0.538707</td>\n",
       "      <td>0.523118</td>\n",
       "      <td>0.025862</td>\n",
       "      <td>0.473330</td>\n",
       "      <td>0.555290</td>\n",
       "      <td>0.783124</td>\n",
       "      <td>0.526579</td>\n",
       "      <td>0.279193</td>\n",
       "      <td>0.504933</td>\n",
       "      <td>0.382642</td>\n",
       "      <td>0.381710</td>\n",
       "      <td>0.482849</td>\n",
       "      <td>0.381818</td>\n",
       "      <td>0.499156</td>\n",
       "      <td>0.431486</td>\n",
       "      <td>0.323443</td>\n",
       "    </tr>\n",
       "    <tr>\n",
       "      <th>16</th>\n",
       "      <td>0.647629</td>\n",
       "      <td>0.355814</td>\n",
       "      <td>0.600010</td>\n",
       "      <td>0.434693</td>\n",
       "      <td>0.520325</td>\n",
       "      <td>0.519539</td>\n",
       "      <td>0.152941</td>\n",
       "      <td>0.458663</td>\n",
       "      <td>0.624595</td>\n",
       "      <td>0.845705</td>\n",
       "      <td>0.628653</td>\n",
       "      <td>0.296811</td>\n",
       "      <td>0.527431</td>\n",
       "      <td>0.391724</td>\n",
       "      <td>0.365265</td>\n",
       "      <td>0.432312</td>\n",
       "      <td>0.391986</td>\n",
       "      <td>0.524287</td>\n",
       "      <td>0.428733</td>\n",
       "      <td>0.370146</td>\n",
       "    </tr>\n",
       "    <tr>\n",
       "      <th>17</th>\n",
       "      <td>0.622084</td>\n",
       "      <td>0.379432</td>\n",
       "      <td>0.576848</td>\n",
       "      <td>0.422047</td>\n",
       "      <td>0.495580</td>\n",
       "      <td>0.523762</td>\n",
       "      <td>0.684807</td>\n",
       "      <td>0.437530</td>\n",
       "      <td>0.567969</td>\n",
       "      <td>0.808568</td>\n",
       "      <td>0.610591</td>\n",
       "      <td>0.268392</td>\n",
       "      <td>0.521902</td>\n",
       "      <td>0.506670</td>\n",
       "      <td>0.349251</td>\n",
       "      <td>0.395137</td>\n",
       "      <td>0.435340</td>\n",
       "      <td>0.498223</td>\n",
       "      <td>0.390552</td>\n",
       "      <td>0.407387</td>\n",
       "    </tr>\n",
       "  </tbody>\n",
       "</table>\n",
       "</div>"
      ],
      "text/plain": [
       "                 Б.С. 45  Богатыр 49к1  Брянцева 13  Гаврил.11  Гарьк. 15к3  \\\n",
       "Названия строк                                                                \n",
       "13              0.694909      0.599620     0.679053   0.584450     0.626748   \n",
       "14              0.557134      0.410917     0.495645   0.436755     0.499486   \n",
       "15              0.607348      0.458542     0.589278   0.368788     0.538707   \n",
       "16              0.647629      0.355814     0.600010   0.434693     0.520325   \n",
       "17              0.622084      0.379432     0.576848   0.422047     0.495580   \n",
       "\n",
       "                Гаст. 22  Жукова 18   КИМа 28  Колл. 4к1  Колл. 6к1  \\\n",
       "Названия строк                                                        \n",
       "13              0.613494   0.035842  0.656653   0.683938   0.746874   \n",
       "14              0.457623   0.000000  0.411930   0.474064   0.715264   \n",
       "15              0.523118   0.025862  0.473330   0.555290   0.783124   \n",
       "16              0.519539   0.152941  0.458663   0.624595   0.845705   \n",
       "17              0.523762   0.684807  0.437530   0.567969   0.808568   \n",
       "\n",
       "                Колом. 28  Коменд 51к1  Ленская 17к1   Мар. 48  Маршака 4  \\\n",
       "Названия строк                                                              \n",
       "13               0.599175     0.479023      0.616973  0.537678   0.565748   \n",
       "14               0.488427     0.285934      0.454622  0.311323   0.375625   \n",
       "15               0.526579     0.279193      0.504933  0.382642   0.381710   \n",
       "16               0.628653     0.296811      0.527431  0.391724   0.365265   \n",
       "17               0.610591     0.268392      0.521902  0.506670   0.349251   \n",
       "\n",
       "                Мор. 3к2  РЦ БС 45  Сик. 7к2  Ст.П. 39А   Щерб.11  \n",
       "Названия строк                                                     \n",
       "13              0.588368  0.529842  0.600313   0.529362  0.543682  \n",
       "14              0.475284  0.374245  0.443799   0.342621  0.310669  \n",
       "15              0.482849  0.381818  0.499156   0.431486  0.323443  \n",
       "16              0.432312  0.391986  0.524287   0.428733  0.370146  \n",
       "17              0.395137  0.435340  0.498223   0.390552  0.407387  "
      ]
     },
     "execution_count": 19,
     "metadata": {},
     "output_type": "execute_result"
    }
   ],
   "source": [
    "disp_data"
   ]
  },
  {
   "cell_type": "code",
   "execution_count": 46,
   "metadata": {},
   "outputs": [],
   "source": [
    "def avg_arr(arr):\n",
    "    return sum(arr) / len(arr)\n",
    "\n",
    "def len_all(*args):  # общее кол-во элементов в группах\n",
    "    l = 0\n",
    "    for i in args:\n",
    "        l += len(i)\n",
    "    return l \n",
    "\n",
    "def avg_arr_all(*args):        # для вычиления среднего по всем группам\n",
    "    arr = []\n",
    "    for i in args:\n",
    "        arr += i\n",
    "    return avg_arr(arr)    \n",
    "      \n",
    "\n",
    "def SST(*args):            # общая сумма квадратов разностей от общей средней\n",
    "    arr = []               # df для SST = кол-во всех элементов - 1\n",
    "    for i in args:\n",
    "        arr += i\n",
    "    SST = sum([(i - avg_arr(arr)) ** 2 for i in arr])\n",
    "    return SST\n",
    "        \n",
    "def SSW(*args):            # общая сумма квадратов разностей внутри каждой группы\n",
    "    SSW = 0                # df для SSW = кол-во всех элементов - кол-во групп\n",
    "    for i in args:\n",
    "        SSW += sum([(j - avg_arr(i)) ** 2 for j in i])\n",
    "    return SSW        \n",
    "\n",
    "def SSB(*args):            # для вычисления межгрупповой\n",
    "    SSB = 0                # df для SSB = число групп - 1\n",
    "    for i in args:\n",
    "        SSB += len(i) * (avg_arr(i) - avg_arr_all(*args)) ** 2\n",
    "    return SSB\n",
    "\n",
    "def F(*args):\n",
    "    F = SSB(*args) / (len(args) - 1) \n",
    "    X = SSW(*args) / (len_all(*args) - len(args))\n",
    "    return F / X"
   ]
  },
  {
   "cell_type": "code",
   "execution_count": 42,
   "metadata": {},
   "outputs": [
    {
     "data": {
      "text/plain": [
       "2.199953080431317"
      ]
     },
     "execution_count": 42,
     "metadata": {},
     "output_type": "execute_result"
    }
   ],
   "source": [
    "SST(list(disp_data['Б.С. 45']), list(disp_data['Богатыр 49к1']), list(disp_data['Брянцева 13']), list(disp_data['Гаврил.11']),\n",
    "    list(disp_data['Гарьк. 15к3']), list(disp_data['Гаст. 22']), list(disp_data['Жукова 18']), list(disp_data['КИМа 28']),\n",
    "    list(disp_data['Колл. 4к1']), list(disp_data['Колл. 6к1']), list(disp_data['Колом. 28']), list(disp_data['Коменд 51к1']),\n",
    "    list(disp_data['Ленская 17к1']), list(disp_data['Мар. 48']), list(disp_data['Маршака 4']), list(disp_data['Мор. 3к2']),\n",
    "    list(disp_data['РЦ БС 45']), list(disp_data['Сик. 7к2']), list(disp_data['Ст.П. 39А']), list(disp_data['Щерб.11']))"
   ]
  },
  {
   "cell_type": "code",
   "execution_count": 43,
   "metadata": {},
   "outputs": [
    {
     "data": {
      "text/plain": [
       "0.751378827711592"
      ]
     },
     "execution_count": 43,
     "metadata": {},
     "output_type": "execute_result"
    }
   ],
   "source": [
    "SSW(list(disp_data['Б.С. 45']), list(disp_data['Богатыр 49к1']), list(disp_data['Брянцева 13']), list(disp_data['Гаврил.11']),\n",
    "    list(disp_data['Гарьк. 15к3']), list(disp_data['Гаст. 22']), list(disp_data['Жукова 18']), list(disp_data['КИМа 28']),\n",
    "    list(disp_data['Колл. 4к1']), list(disp_data['Колл. 6к1']), list(disp_data['Колом. 28']), list(disp_data['Коменд 51к1']),\n",
    "    list(disp_data['Ленская 17к1']), list(disp_data['Мар. 48']), list(disp_data['Маршака 4']), list(disp_data['Мор. 3к2']),\n",
    "    list(disp_data['РЦ БС 45']), list(disp_data['Сик. 7к2']), list(disp_data['Ст.П. 39А']), list(disp_data['Щерб.11']))"
   ]
  },
  {
   "cell_type": "code",
   "execution_count": 44,
   "metadata": {},
   "outputs": [
    {
     "data": {
      "text/plain": [
       "1.4485742527197252"
      ]
     },
     "execution_count": 44,
     "metadata": {},
     "output_type": "execute_result"
    }
   ],
   "source": [
    "SSB(list(disp_data['Б.С. 45']), list(disp_data['Богатыр 49к1']), list(disp_data['Брянцева 13']), list(disp_data['Гаврил.11']),\n",
    "    list(disp_data['Гарьк. 15к3']), list(disp_data['Гаст. 22']), list(disp_data['Жукова 18']), list(disp_data['КИМа 28']),\n",
    "    list(disp_data['Колл. 4к1']), list(disp_data['Колл. 6к1']), list(disp_data['Колом. 28']), list(disp_data['Коменд 51к1']),\n",
    "    list(disp_data['Ленская 17к1']), list(disp_data['Мар. 48']), list(disp_data['Маршака 4']), list(disp_data['Мор. 3к2']),\n",
    "    list(disp_data['РЦ БС 45']), list(disp_data['Сик. 7к2']), list(disp_data['Ст.П. 39А']), list(disp_data['Щерб.11']))"
   ]
  },
  {
   "cell_type": "code",
   "execution_count": null,
   "metadata": {},
   "outputs": [],
   "source": []
  }
 ],
 "metadata": {
  "kernelspec": {
   "display_name": "Python 3",
   "language": "python",
   "name": "python3"
  },
  "language_info": {
   "codemirror_mode": {
    "name": "ipython",
    "version": 3
   },
   "file_extension": ".py",
   "mimetype": "text/x-python",
   "name": "python",
   "nbconvert_exporter": "python",
   "pygments_lexer": "ipython3",
   "version": "3.7.6"
  }
 },
 "nbformat": 4,
 "nbformat_minor": 4
}
