{
 "cells": [
  {
   "cell_type": "markdown",
   "metadata": {},
   "source": [
    "#### <left>Бронников Максим Андреевич</left>"
   ]
  },
  {
   "cell_type": "markdown",
   "metadata": {},
   "source": [
    "max120199@gmail.com"
   ]
  },
  {
   "cell_type": "markdown",
   "metadata": {},
   "source": [
    "#   <center>Домашняя работа №2</center>"
   ]
  },
  {
   "cell_type": "markdown",
   "metadata": {},
   "source": [
    "**Импортировать csv файл с информацией о ресторанах в DataFrame и вывести первые 10 позиций**\n",
    "\n",
    "Импортируем библиотеку `Pandas` и используем функцию `read_cvs` для импорта *DataFrame* из *csv* файла"
   ]
  },
  {
   "cell_type": "code",
   "execution_count": 8,
   "metadata": {
    "scrolled": true
   },
   "outputs": [
    {
     "data": {
      "text/html": [
       "<div>\n",
       "<style scoped>\n",
       "    .dataframe tbody tr th:only-of-type {\n",
       "        vertical-align: middle;\n",
       "    }\n",
       "\n",
       "    .dataframe tbody tr th {\n",
       "        vertical-align: top;\n",
       "    }\n",
       "\n",
       "    .dataframe thead th {\n",
       "        text-align: right;\n",
       "    }\n",
       "</style>\n",
       "<table border=\"1\" class=\"dataframe\">\n",
       "  <thead>\n",
       "    <tr style=\"text-align: right;\">\n",
       "      <th></th>\n",
       "      <th>vendor_id</th>\n",
       "      <th>chain_id</th>\n",
       "      <th>city_name</th>\n",
       "      <th>specialisation</th>\n",
       "      <th>successful_orders</th>\n",
       "      <th>fail_orders</th>\n",
       "      <th>reorders</th>\n",
       "    </tr>\n",
       "  </thead>\n",
       "  <tbody>\n",
       "    <tr>\n",
       "      <td>0</td>\n",
       "      <td>28957</td>\n",
       "      <td>20633</td>\n",
       "      <td>Архангельск</td>\n",
       "      <td>Супы</td>\n",
       "      <td>0.0</td>\n",
       "      <td>2.0</td>\n",
       "      <td>0.0</td>\n",
       "    </tr>\n",
       "    <tr>\n",
       "      <td>1</td>\n",
       "      <td>37381</td>\n",
       "      <td>27399</td>\n",
       "      <td>Архангельск</td>\n",
       "      <td>Пироги</td>\n",
       "      <td>0.0</td>\n",
       "      <td>0.0</td>\n",
       "      <td>0.0</td>\n",
       "    </tr>\n",
       "    <tr>\n",
       "      <td>2</td>\n",
       "      <td>28703</td>\n",
       "      <td>20431</td>\n",
       "      <td>Архангельск</td>\n",
       "      <td>Суши</td>\n",
       "      <td>111.0</td>\n",
       "      <td>3.0</td>\n",
       "      <td>0.0</td>\n",
       "    </tr>\n",
       "    <tr>\n",
       "      <td>3</td>\n",
       "      <td>37382</td>\n",
       "      <td>27399</td>\n",
       "      <td>Архангельск</td>\n",
       "      <td>Пироги</td>\n",
       "      <td>1.0</td>\n",
       "      <td>0.0</td>\n",
       "      <td>0.0</td>\n",
       "    </tr>\n",
       "    <tr>\n",
       "      <td>4</td>\n",
       "      <td>36877</td>\n",
       "      <td>27151</td>\n",
       "      <td>Архангельск</td>\n",
       "      <td>Бургеры</td>\n",
       "      <td>22.0</td>\n",
       "      <td>2.0</td>\n",
       "      <td>0.0</td>\n",
       "    </tr>\n",
       "    <tr>\n",
       "      <td>5</td>\n",
       "      <td>37650</td>\n",
       "      <td>27579</td>\n",
       "      <td>Архангельск</td>\n",
       "      <td>Суши</td>\n",
       "      <td>3.0</td>\n",
       "      <td>0.0</td>\n",
       "      <td>0.0</td>\n",
       "    </tr>\n",
       "    <tr>\n",
       "      <td>6</td>\n",
       "      <td>37127</td>\n",
       "      <td>27250</td>\n",
       "      <td>Астрахань</td>\n",
       "      <td>Суши</td>\n",
       "      <td>55.0</td>\n",
       "      <td>5.0</td>\n",
       "      <td>6.0</td>\n",
       "    </tr>\n",
       "    <tr>\n",
       "      <td>7</td>\n",
       "      <td>28476</td>\n",
       "      <td>20266</td>\n",
       "      <td>Астрахань</td>\n",
       "      <td>Суши</td>\n",
       "      <td>342.0</td>\n",
       "      <td>13.0</td>\n",
       "      <td>14.0</td>\n",
       "    </tr>\n",
       "    <tr>\n",
       "      <td>8</td>\n",
       "      <td>28478</td>\n",
       "      <td>20266</td>\n",
       "      <td>Астрахань</td>\n",
       "      <td>Суши</td>\n",
       "      <td>194.0</td>\n",
       "      <td>1.0</td>\n",
       "      <td>7.0</td>\n",
       "    </tr>\n",
       "    <tr>\n",
       "      <td>9</td>\n",
       "      <td>34127</td>\n",
       "      <td>25077</td>\n",
       "      <td>Астрахань</td>\n",
       "      <td>Пицца</td>\n",
       "      <td>136.0</td>\n",
       "      <td>4.0</td>\n",
       "      <td>1.0</td>\n",
       "    </tr>\n",
       "  </tbody>\n",
       "</table>\n",
       "</div>"
      ],
      "text/plain": [
       "   vendor_id  chain_id    city_name specialisation  successful_orders  \\\n",
       "0      28957     20633  Архангельск           Супы                0.0   \n",
       "1      37381     27399  Архангельск         Пироги                0.0   \n",
       "2      28703     20431  Архангельск           Суши              111.0   \n",
       "3      37382     27399  Архангельск         Пироги                1.0   \n",
       "4      36877     27151  Архангельск        Бургеры               22.0   \n",
       "5      37650     27579  Архангельск           Суши                3.0   \n",
       "6      37127     27250    Астрахань           Суши               55.0   \n",
       "7      28476     20266    Астрахань           Суши              342.0   \n",
       "8      28478     20266    Астрахань           Суши              194.0   \n",
       "9      34127     25077    Астрахань          Пицца              136.0   \n",
       "\n",
       "   fail_orders  reorders  \n",
       "0          2.0       0.0  \n",
       "1          0.0       0.0  \n",
       "2          3.0       0.0  \n",
       "3          0.0       0.0  \n",
       "4          2.0       0.0  \n",
       "5          0.0       0.0  \n",
       "6          5.0       6.0  \n",
       "7         13.0      14.0  \n",
       "8          1.0       7.0  \n",
       "9          4.0       1.0  "
      ]
     },
     "execution_count": 8,
     "metadata": {},
     "output_type": "execute_result"
    }
   ],
   "source": [
    "import pandas as pd\n",
    "import numpy as np\n",
    "\n",
    "df = pd.read_csv('kr2/restaurants.csv', sep = ',')\n",
    "df.head(10)"
   ]
  },
  {
   "cell_type": "markdown",
   "metadata": {},
   "source": [
    "**Вывести количество столбцов типа float64**\n",
    "\n",
    "Выбираем из *DataFrame* только те столбцы, тип которых *float64* функцией `select_dtypes` и узнаем размер \n",
    "полученного *DataFrame* методом `shape`. Нас интересует вторая позиция кортежа размеров(количество столбцов)."
   ]
  },
  {
   "cell_type": "code",
   "execution_count": 9,
   "metadata": {},
   "outputs": [
    {
     "name": "stdout",
     "output_type": "stream",
     "text": [
      "Количество столбцов со значением float64: 3\n"
     ]
    }
   ],
   "source": [
    "num_of_floats = df.select_dtypes(include = 'float64').shape[1]\n",
    "print(\"Количество столбцов со значением float64:\", num_of_floats)"
   ]
  },
  {
   "cell_type": "markdown",
   "metadata": {},
   "source": [
    "**Вывести количество наблюдений в DataFrame**\n",
    "\n",
    "Первая позиция кортежа из метода `shape`- количество строк в *DataFrame*"
   ]
  },
  {
   "cell_type": "code",
   "execution_count": 10,
   "metadata": {},
   "outputs": [
    {
     "name": "stdout",
     "output_type": "stream",
     "text": [
      "Количество наблюдений в датафрейме: 784\n"
     ]
    }
   ],
   "source": [
    "num_of_observs = df.shape[0]\n",
    "print(\"Количество наблюдений в датафрейме:\", num_of_observs)"
   ]
  },
  {
   "cell_type": "markdown",
   "metadata": {},
   "source": [
    "**Вывести количество колонок в DataFrame**\n",
    "\n",
    "Вторая позиция кортежа метода `shape`- количество столбцов в *DataFrame*"
   ]
  },
  {
   "cell_type": "code",
   "execution_count": 11,
   "metadata": {},
   "outputs": [
    {
     "name": "stdout",
     "output_type": "stream",
     "text": [
      "Количество колонок в датафрейме: 7\n"
     ]
    }
   ],
   "source": [
    "num_of_columns = df.shape[1]\n",
    "print(\"Количество колонок в датафрейме:\", num_of_columns)"
   ]
  },
  {
   "cell_type": "markdown",
   "metadata": {},
   "source": [
    "**Вывести количество уникальных городов в DataFrame**\n",
    "\n",
    "Атрибут `city_name` - объект класса *Series*, который в свою очередь имеет метод `unique`, возвращающий \n",
    "*NumPy Array* с уникальными элементами из *Series*"
   ]
  },
  {
   "cell_type": "code",
   "execution_count": 15,
   "metadata": {},
   "outputs": [
    {
     "name": "stdout",
     "output_type": "stream",
     "text": [
      "Количество уникальных городов в датафрейме: 63\n"
     ]
    }
   ],
   "source": [
    "num_of_cities = df.city_name.unique().shape[0]\n",
    "print(\"Количество уникальных городов в датафрейме:\",num_of_cities)"
   ]
  },
  {
   "cell_type": "markdown",
   "metadata": {},
   "source": [
    "**Вывести количество наблюдений специализации \"Рыба\"**\n",
    "\n",
    "Узнаем количество строк в *DataFrame* полученном по индексам, значения элементов по которым в *Series* атрибута \n",
    "`specialisation` равны значению \"Рыба\""
   ]
  },
  {
   "cell_type": "code",
   "execution_count": 6,
   "metadata": {},
   "outputs": [
    {
     "name": "stdout",
     "output_type": "stream",
     "text": [
      "Количество наблюдений со специализацией \"Рыба\": 30\n"
     ]
    }
   ],
   "source": [
    "num_of_fish = df.specialisation[df.specialisation == 'Рыба'].shape[0]\n",
    "print('Количество наблюдений со специализацией \"Рыба\":', num_of_fish)"
   ]
  },
  {
   "cell_type": "markdown",
   "metadata": {},
   "source": [
    "**Вывести количество успешных заказов в DataFrame**\n",
    "\n",
    "`mean` - метод *Series* возращающий среднее арифметическое по значениям. Нас интересует атрибут `successful_orders`."
   ]
  },
  {
   "cell_type": "code",
   "execution_count": 7,
   "metadata": {},
   "outputs": [
    {
     "name": "stdout",
     "output_type": "stream",
     "text": [
      "Среднее значение успешных заказов: 115\n"
     ]
    }
   ],
   "source": [
    "mean_value = df.successful_orders.mean()\n",
    "print(\"Среднее значение успешных заказов:\", round(mean_value))"
   ]
  },
  {
   "cell_type": "markdown",
   "metadata": {},
   "source": [
    "**Вывести значение наименее часто встречающегося города в DataFrame**\n",
    "\n",
    "Метод `value_counts` составляет отсортированный по убыванию значений новый объект *Series*  в котором индексами будут уникальные значения вызывающего его объекта *Series*, а значения - количество их появления в вызывающем объекте. Нас интересует индекс посленего элемента(наименее часто встречающееся значение), который мы получим методом `index` к значению из метода `tail`"
   ]
  },
  {
   "cell_type": "code",
   "execution_count": 8,
   "metadata": {
    "scrolled": true
   },
   "outputs": [
    {
     "name": "stdout",
     "output_type": "stream",
     "text": [
      "Город с наименьшим количеством ресторанов: Ханты-Мансийск\n"
     ]
    }
   ],
   "source": [
    "city = df.city_name.value_counts().tail(1).index[0]\n",
    "print(\"Город с анаименьшим количеством ресторанов:\", city)"
   ]
  },
  {
   "cell_type": "markdown",
   "metadata": {},
   "source": [
    "**Вывести количество значений в DataFrame с количеством неуспешных заказов более 20**\n",
    "\n",
    "Нас интересуют те позиции в *DataFrame* значения атрибута `fail_orders` корого больше 20. Ответом будет количество таких позиций."
   ]
  },
  {
   "cell_type": "code",
   "execution_count": 9,
   "metadata": {},
   "outputs": [
    {
     "name": "stdout",
     "output_type": "stream",
     "text": [
      "Количество ресторанов с более чем 20 неуспешных заказов: 10\n"
     ]
    }
   ],
   "source": [
    "num_of_morefails = df[df.fail_orders > 20].shape[0]\n",
    "print(\"Количество ресторанов с более чем 20 неуспешных заказов:\", num_of_morefails)"
   ]
  },
  {
   "cell_type": "markdown",
   "metadata": {},
   "source": [
    "**Вывести количество значений в DataFrame с количеством заказов неуспешных более 20 и успешных менее 500**\n",
    "\n",
    "Нас интересуют те позиции *DataFrame* в которых значения атрибута `fail_orders` больше 20 и значения атрибута `successful_orders` меньше 500. Ответом будет количество таких позиций."
   ]
  },
  {
   "cell_type": "code",
   "execution_count": 10,
   "metadata": {},
   "outputs": [
    {
     "name": "stdout",
     "output_type": "stream",
     "text": [
      "Количество ресторанов с более 20 неуспешных и менее 500 успешных заказов: 5\n"
     ]
    }
   ],
   "source": [
    "num_of_logical_end = df[(df.fail_orders > 20) & (df.successful_orders < 500)].shape[0]\n",
    "print(\"Количество ресторанов с более 20 неуспешных и менее 500 успешных заказов:\", num_of_logical_end)"
   ]
  },
  {
   "cell_type": "markdown",
   "metadata": {},
   "source": [
    "**Вывести среднее количество в DataFrame усешных заказов специлизацией \"Выпечка\" с округлением до целого**\n",
    "\n",
    "Найдем среднее значение в *Series* составленной по индексам, значения `specialisation` по которым равны \"Выпечка\" \n",
    "\n",
    "Функция `round`  позволяет округлять вещественные значения до целого"
   ]
  },
  {
   "cell_type": "code",
   "execution_count": 11,
   "metadata": {},
   "outputs": [
    {
     "name": "stdout",
     "output_type": "stream",
     "text": [
      "Среднее количество успешных заказов в рестаранах специализации \"Выпечка\": 13\n"
     ]
    }
   ],
   "source": [
    "mean_of_success_cookies = df.successful_orders[(df.specialisation == 'Выпечка')].mean()\n",
    "print('Среднее количество успешных заказов в рестаранах специализации \"Выпечка\":', round(mean_of_success_cookies))"
   ]
  },
  {
   "cell_type": "markdown",
   "metadata": {},
   "source": [
    "**Вывести специализацию из DataFrame с наибольшей долей неудачных значений**\n",
    "\n",
    "Метод `groupby` позволяет сгруппировать данные из *DataFrame* по значениям столбца(в нашем случае столбца `specialisation`) в объект класса *DataFrameGroupBy* к которому можно применить аггрегирующую функцию и получить объект *DataFrame* c индексами- значениями столбца `specialisation` группируемого *DataFrame*. В данном случае получим сумму по заказам для каждой специализации аггрегатором `sum`.\n",
    "\n",
    "Операции `/`, `+` применяются поэлементно, что позволяет нам расчитать доли для каждой позиции полученного при группировке *DataFrame*`"
   ]
  },
  {
   "cell_type": "code",
   "execution_count": 17,
   "metadata": {},
   "outputs": [
    {
     "name": "stdout",
     "output_type": "stream",
     "text": [
      "Специализация с наибольшим процентом неудачных заказов: Вегетарианское меню\n"
     ]
    }
   ],
   "source": [
    "newdf = df.groupby('specialisation').sum()\n",
    "percent_of_fail = \\\n",
    "    (newdf.fail_orders / (newdf.successful_orders + newdf.fail_orders + newdf.reorders)) \\\n",
    "    .sort_values(ascending=False).head(1).index[0]\n",
    "print(\"Специализация с наибольшим процентом неудачных заказов:\", percent_of_fail)\n"
   ]
  },
  {
   "cell_type": "markdown",
   "metadata": {},
   "source": [
    "**Вывести максимальное количество успешных заказов из DataFrame со специализацией \"Бургеры\"**\n",
    "\n",
    "Саггрегируем группу по специализации функцией `max` получающим максимальные значения по каждой из специализаций.\n",
    "Нас интересует значение успешных заказов по специяализации \"Бургеры\""
   ]
  },
  {
   "cell_type": "code",
   "execution_count": 13,
   "metadata": {},
   "outputs": [
    {
     "name": "stdout",
     "output_type": "stream",
     "text": [
      "Максимальное количество успешных заказов специализации \"Бургеры\": 506.0\n"
     ]
    }
   ],
   "source": [
    "newdf = df.groupby('specialisation').aggregate(max)\n",
    "num_of_burger_success = newdf.successful_orders['Бургеры']\n",
    "print('Максимальное количество успешных заказов специализации \"Бургеры\":', num_of_burger_success)"
   ]
  },
  {
   "cell_type": "markdown",
   "metadata": {},
   "source": [
    "**Вывести среднее значение из DataFrame успешных заказов по специализации \"Суши\" в городе \"Белгород\"**\n",
    "\n",
    "Получим среднее значение методом `mean` по атрибуту `successful_orders` по *DataFrame* из тех позиций в которых атрибуты `city_name` принимает значение \"Белгород\", а `specialisation` \"Суши\"."
   ]
  },
  {
   "cell_type": "code",
   "execution_count": 14,
   "metadata": {},
   "outputs": [
    {
     "name": "stdout",
     "output_type": "stream",
     "text": [
      "Среднее количество успешных заказов специализации \"Суши\" в Белгороде: 328\n"
     ]
    }
   ],
   "source": [
    "mean_of_success_bel_sushi = \\\n",
    "    df.successful_orders[(df.specialisation == 'Суши') & (df.city_name == 'Белгород')].mean()\n",
    "print('Среднее количество успешных заказов специализации \"Суши\" в Белгороде:', round(mean_of_success_bel_sushi))\n"
   ]
  },
  {
   "cell_type": "markdown",
   "metadata": {},
   "source": [
    "**Импортировать значения оценок из csv файла в качестве DataFrame и присоеденить к исходному DataFrame новую колонку 'model_score' в соответствии по колонкам 'vendor_id' и 'id'**\n",
    "\n",
    "Импортируем новый файл в *DataFrame* объект функцией `read_csv` и с помощью функции `merge` сделаем объединение по колонкам `vendor_id` исходного *DataFrame* и `id` присоединяемого. Из полученого объединенного *DataFrame* удалим ненужную колонку `id` добавленную при присоеденении."
   ]
  },
  {
   "cell_type": "code",
   "execution_count": 15,
   "metadata": {},
   "outputs": [
    {
     "data": {
      "text/html": [
       "<div>\n",
       "<style scoped>\n",
       "    .dataframe tbody tr th:only-of-type {\n",
       "        vertical-align: middle;\n",
       "    }\n",
       "\n",
       "    .dataframe tbody tr th {\n",
       "        vertical-align: top;\n",
       "    }\n",
       "\n",
       "    .dataframe thead th {\n",
       "        text-align: right;\n",
       "    }\n",
       "</style>\n",
       "<table border=\"1\" class=\"dataframe\">\n",
       "  <thead>\n",
       "    <tr style=\"text-align: right;\">\n",
       "      <th></th>\n",
       "      <th>vendor_id</th>\n",
       "      <th>chain_id</th>\n",
       "      <th>city_name</th>\n",
       "      <th>specialisation</th>\n",
       "      <th>successful_orders</th>\n",
       "      <th>fail_orders</th>\n",
       "      <th>reorders</th>\n",
       "      <th>model_score</th>\n",
       "    </tr>\n",
       "  </thead>\n",
       "  <tbody>\n",
       "    <tr>\n",
       "      <td>0</td>\n",
       "      <td>28957</td>\n",
       "      <td>20633</td>\n",
       "      <td>Архангельск</td>\n",
       "      <td>Супы</td>\n",
       "      <td>0.0</td>\n",
       "      <td>2.0</td>\n",
       "      <td>0.0</td>\n",
       "      <td>0.421871</td>\n",
       "    </tr>\n",
       "    <tr>\n",
       "      <td>1</td>\n",
       "      <td>37381</td>\n",
       "      <td>27399</td>\n",
       "      <td>Архангельск</td>\n",
       "      <td>Пироги</td>\n",
       "      <td>0.0</td>\n",
       "      <td>0.0</td>\n",
       "      <td>0.0</td>\n",
       "      <td>0.386503</td>\n",
       "    </tr>\n",
       "    <tr>\n",
       "      <td>2</td>\n",
       "      <td>28703</td>\n",
       "      <td>20431</td>\n",
       "      <td>Архангельск</td>\n",
       "      <td>Суши</td>\n",
       "      <td>111.0</td>\n",
       "      <td>3.0</td>\n",
       "      <td>0.0</td>\n",
       "      <td>0.664808</td>\n",
       "    </tr>\n",
       "    <tr>\n",
       "      <td>3</td>\n",
       "      <td>37382</td>\n",
       "      <td>27399</td>\n",
       "      <td>Архангельск</td>\n",
       "      <td>Пироги</td>\n",
       "      <td>1.0</td>\n",
       "      <td>0.0</td>\n",
       "      <td>0.0</td>\n",
       "      <td>0.838883</td>\n",
       "    </tr>\n",
       "    <tr>\n",
       "      <td>4</td>\n",
       "      <td>36877</td>\n",
       "      <td>27151</td>\n",
       "      <td>Архангельск</td>\n",
       "      <td>Бургеры</td>\n",
       "      <td>22.0</td>\n",
       "      <td>2.0</td>\n",
       "      <td>0.0</td>\n",
       "      <td>0.176469</td>\n",
       "    </tr>\n",
       "  </tbody>\n",
       "</table>\n",
       "</div>"
      ],
      "text/plain": [
       "   vendor_id  chain_id    city_name specialisation  successful_orders  \\\n",
       "0      28957     20633  Архангельск           Супы                0.0   \n",
       "1      37381     27399  Архангельск         Пироги                0.0   \n",
       "2      28703     20431  Архангельск           Суши              111.0   \n",
       "3      37382     27399  Архангельск         Пироги                1.0   \n",
       "4      36877     27151  Архангельск        Бургеры               22.0   \n",
       "\n",
       "   fail_orders  reorders  model_score  \n",
       "0          2.0       0.0     0.421871  \n",
       "1          0.0       0.0     0.386503  \n",
       "2          3.0       0.0     0.664808  \n",
       "3          0.0       0.0     0.838883  \n",
       "4          2.0       0.0     0.176469  "
      ]
     },
     "execution_count": 15,
     "metadata": {},
     "output_type": "execute_result"
    }
   ],
   "source": [
    "newdf = pd.read_csv('kr2/restaurant_scores.csv', sep = ',')\n",
    "df = pd.merge(df, newdf, left_on='vendor_id', right_on = 'id').drop('id', axis = 1)\n",
    "df.head(5)"
   ]
  },
  {
   "cell_type": "markdown",
   "metadata": {},
   "source": [
    "**Вывести среднее значение model_score с vendor_id равным 27399**"
   ]
  },
  {
   "cell_type": "code",
   "execution_count": 16,
   "metadata": {},
   "outputs": [
    {
     "name": "stdout",
     "output_type": "stream",
     "text": [
      "Среднее значение model_score при vendor_id 27399: nan\n"
     ]
    }
   ],
   "source": [
    "mean_score = df.model_score[df.vendor_id == 27399].mean()\n",
    "print(\"Среднее значение model_score при vendor_id 27399:\", mean_score)"
   ]
  },
  {
   "cell_type": "markdown",
   "metadata": {},
   "source": [
    "**Построить график по заданным значениям**\n",
    "\n",
    "Импорируем библиотеку `matplotlib.pyplot` для построения графиков. После чего создадим объект класса *Figure* функцией `figure` с параметрами его размера и добавим в него одно окно отрисовки методом `add_subplot`. Метод окна отрисовки `bar` рисует в нем столбчатую диаграмму на основании занесенных данных. Методы `set_title`, `set_ylabel` `set_xlabel` задают заголовок окна, название осей y и x соответственно. Метод `grid` используется для отриовки на графике сеточки для наглядности значений "
   ]
  },
  {
   "cell_type": "code",
   "execution_count": 23,
   "metadata": {
    "scrolled": true
   },
   "outputs": [
    {
     "name": "stdout",
     "output_type": "stream",
     "text": [
      "<class 'matplotlib.figure.Figure'>\n"
     ]
    },
    {
     "data": {
      "image/png": "[encoded data removed]",
      "text/plain": [
       "<Figure size 1080x360 with 1 Axes>"
      ]
     },
     "metadata": {
      "needs_background": "light"
     },
     "output_type": "display_data"
    }
   ],
   "source": [
    "import matplotlib.pyplot as plt\n",
    "x = ['Java', 'Python', 'PHP', 'JavaScript', 'C#', 'C++']\n",
    "popularity = [22.2, 17.6, 8.8, 8, 7.7, 6.7]\n",
    "\n",
    "fig = plt.figure(figsize = (15, 5))\n",
    "ax1 = fig.add_subplot(111)\n",
    "ax1.bar(x, popularity)\n",
    "ax1.set_title('Популярность языков программирования')\n",
    "ax1.set_ylabel('Популярность')\n",
    "ax1.set_xlabel('Язык')\n",
    "ax1.grid()"
   ]
  },
  {
   "cell_type": "markdown",
   "metadata": {},
   "source": [
    "**Построить график по импортированным в DataFrame данным**\n",
    "\n",
    "Импортируем библиотеку `seaborn` упрощающей отображение статистических данных. \n",
    "Создадим объект *Figure* и в нем 2 окна отрисовки графиков методом `add_subplot`. Первому окну зададим заголовок методом `set_title`. А 2-ому название оси x методом `set_xlabel`. Далее с помощью функции `read_exel` импортируем Exel файл в новый *DataFrame*. Метод окна `set_xlim` позволяет задать диапазон значений по оси x на графике.\n",
    "Функция `boxplot`библиотеки отрисовывает в указанном окне квадратный график распределения указанного значения(в нашем случае `orders`) из указанного *DataFrame* указанным цветом(в нашем случае 'colwarm'). \n",
    "Функция `distplot`рисует гистограмму с линией переданного в нее *Series*"
   ]
  },
  {
   "cell_type": "code",
   "execution_count": 18,
   "metadata": {},
   "outputs": [
    {
     "data": {
      "text/plain": [
       "Text(0.5, 0, 'Заказы')"
      ]
     },
     "execution_count": 18,
     "metadata": {},
     "output_type": "execute_result"
    },
    {
     "data": {
      "image/png": "[encoded data removed]",
      "text/plain": [
       "<Figure size 1008x576 with 2 Axes>"
      ]
     },
     "metadata": {
      "needs_background": "light"
     },
     "output_type": "display_data"
    }
   ],
   "source": [
    "import seaborn as sns\n",
    "figur = plt.figure(figsize=(14,8))\n",
    "ax1 = figur.add_subplot(211)\n",
    "ax1.set_title('Распределение заказов в районе мето Партизанская')\n",
    "ax2 = figur.add_subplot(212)\n",
    "partizan = pd.read_excel('kr2/partizan.xlsx')\n",
    "ax1.set_xlim(-30, 99)\n",
    "sns.boxplot(x = 'orders', data = partizan, palette = 'coolwarm', \\\n",
    "           ax = ax1)\n",
    "sns.distplot(partizan.orders, ax = ax2)\n",
    "ax2.set_xlabel('Заказы')\n",
    "#sns_plot = sns.pairplot()"
   ]
  },
  {
   "cell_type": "markdown",
   "metadata": {},
   "source": [
    "###### <center>Сделано Бронниковым Максимом</center>\n",
    "###### <center>13.10.2019</center>"
   ]
  }
 ],
 "metadata": {
  "kernelspec": {
   "display_name": "Python 3",
   "language": "python",
   "name": "python3"
  },
  "language_info": {
   "codemirror_mode": {
    "name": "ipython",
    "version": 3
   },
   "file_extension": ".py",
   "mimetype": "text/x-python",
   "name": "python",
   "nbconvert_exporter": "python",
   "pygments_lexer": "ipython3",
   "version": "3.7.4"
  }
 },
 "nbformat": 4,
 "nbformat_minor": 2
}
