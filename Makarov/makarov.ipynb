{
 "cells": [
  {
   "cell_type": "code",
   "execution_count": 1,
   "metadata": {},
   "outputs": [],
   "source": [
    "import os\n",
    "import pandas as pd\n",
    "import numpy as np\n",
    "import matplotlib.pyplot as plt\n",
    "import datetime\n",
    "\n",
    "%matplotlib inline"
   ]
  },
  {
   "cell_type": "code",
   "execution_count": 4,
   "metadata": {},
   "outputs": [],
   "source": [
    "data1 = pd.read_excel(r'C:\\Users\\AmanovRA\\Anaconda3\\Work-work\\Temp\\Makarov\\Макаров ВГ для КЦ и обзвонов.xlsx')"
   ]
  },
  {
   "cell_type": "code",
   "execution_count": 33,
   "metadata": {},
   "outputs": [],
   "source": [
    "data1['Дата приема'] = pd.to_datetime(data1['Дата приема']).dt.date.apply(str)"
   ]
  },
  {
   "cell_type": "code",
   "execution_count": 36,
   "metadata": {},
   "outputs": [],
   "source": [
    "group_data1 = pd.DataFrame(data1.groupby('Номер карты')['Дата приема'].apply(list))"
   ]
  },
  {
   "cell_type": "code",
   "execution_count": 37,
   "metadata": {},
   "outputs": [
    {
     "data": {
      "text/html": [
       "<div>\n",
       "<style scoped>\n",
       "    .dataframe tbody tr th:only-of-type {\n",
       "        vertical-align: middle;\n",
       "    }\n",
       "\n",
       "    .dataframe tbody tr th {\n",
       "        vertical-align: top;\n",
       "    }\n",
       "\n",
       "    .dataframe thead th {\n",
       "        text-align: right;\n",
       "    }\n",
       "</style>\n",
       "<table border=\"1\" class=\"dataframe\">\n",
       "  <thead>\n",
       "    <tr style=\"text-align: right;\">\n",
       "      <th></th>\n",
       "      <th>Дата приема</th>\n",
       "    </tr>\n",
       "    <tr>\n",
       "      <th>Номер карты</th>\n",
       "      <th></th>\n",
       "    </tr>\n",
       "  </thead>\n",
       "  <tbody>\n",
       "    <tr>\n",
       "      <th>100093536</th>\n",
       "      <td>[2020-05-07]</td>\n",
       "    </tr>\n",
       "    <tr>\n",
       "      <th>100119217</th>\n",
       "      <td>[2020-05-01]</td>\n",
       "    </tr>\n",
       "    <tr>\n",
       "      <th>100180648</th>\n",
       "      <td>[2020-05-01, 2020-05-05, 2020-05-08]</td>\n",
       "    </tr>\n",
       "    <tr>\n",
       "      <th>100180675</th>\n",
       "      <td>[2020-05-01, 2020-05-05]</td>\n",
       "    </tr>\n",
       "    <tr>\n",
       "      <th>100180979</th>\n",
       "      <td>[2020-05-03, 2020-05-07]</td>\n",
       "    </tr>\n",
       "    <tr>\n",
       "      <th>100181713</th>\n",
       "      <td>[2020-05-07]</td>\n",
       "    </tr>\n",
       "    <tr>\n",
       "      <th>100181789</th>\n",
       "      <td>[2020-05-07]</td>\n",
       "    </tr>\n",
       "    <tr>\n",
       "      <th>120026854</th>\n",
       "      <td>[2020-05-03]</td>\n",
       "    </tr>\n",
       "    <tr>\n",
       "      <th>120101030</th>\n",
       "      <td>[2020-05-07]</td>\n",
       "    </tr>\n",
       "    <tr>\n",
       "      <th>120336243</th>\n",
       "      <td>[2020-05-05, 2020-05-06]</td>\n",
       "    </tr>\n",
       "    <tr>\n",
       "      <th>120394233</th>\n",
       "      <td>[2020-05-05, 2020-05-06]</td>\n",
       "    </tr>\n",
       "    <tr>\n",
       "      <th>120487083</th>\n",
       "      <td>[2020-05-01, 2020-05-03]</td>\n",
       "    </tr>\n",
       "    <tr>\n",
       "      <th>120514399</th>\n",
       "      <td>[2020-05-01, 2020-05-05, 2020-05-08]</td>\n",
       "    </tr>\n",
       "    <tr>\n",
       "      <th>120580001</th>\n",
       "      <td>[2020-05-05]</td>\n",
       "    </tr>\n",
       "    <tr>\n",
       "      <th>120580658</th>\n",
       "      <td>[2020-05-05]</td>\n",
       "    </tr>\n",
       "    <tr>\n",
       "      <th>120580666</th>\n",
       "      <td>[2020-05-05]</td>\n",
       "    </tr>\n",
       "    <tr>\n",
       "      <th>990405707</th>\n",
       "      <td>[2020-05-01, 2020-05-03]</td>\n",
       "    </tr>\n",
       "    <tr>\n",
       "      <th>990423471</th>\n",
       "      <td>[2020-05-05, 2020-05-06]</td>\n",
       "    </tr>\n",
       "    <tr>\n",
       "      <th>990477473</th>\n",
       "      <td>[2020-05-01, 2020-05-03, 2020-05-05]</td>\n",
       "    </tr>\n",
       "    <tr>\n",
       "      <th>990489705</th>\n",
       "      <td>[2020-05-07]</td>\n",
       "    </tr>\n",
       "    <tr>\n",
       "      <th>990499763</th>\n",
       "      <td>[2020-05-08]</td>\n",
       "    </tr>\n",
       "  </tbody>\n",
       "</table>\n",
       "</div>"
      ],
      "text/plain": [
       "                                      Дата приема\n",
       "Номер карты                                      \n",
       "100093536                            [2020-05-07]\n",
       "100119217                            [2020-05-01]\n",
       "100180648    [2020-05-01, 2020-05-05, 2020-05-08]\n",
       "100180675                [2020-05-01, 2020-05-05]\n",
       "100180979                [2020-05-03, 2020-05-07]\n",
       "100181713                            [2020-05-07]\n",
       "100181789                            [2020-05-07]\n",
       "120026854                            [2020-05-03]\n",
       "120101030                            [2020-05-07]\n",
       "120336243                [2020-05-05, 2020-05-06]\n",
       "120394233                [2020-05-05, 2020-05-06]\n",
       "120487083                [2020-05-01, 2020-05-03]\n",
       "120514399    [2020-05-01, 2020-05-05, 2020-05-08]\n",
       "120580001                            [2020-05-05]\n",
       "120580658                            [2020-05-05]\n",
       "120580666                            [2020-05-05]\n",
       "990405707                [2020-05-01, 2020-05-03]\n",
       "990423471                [2020-05-05, 2020-05-06]\n",
       "990477473    [2020-05-01, 2020-05-03, 2020-05-05]\n",
       "990489705                            [2020-05-07]\n",
       "990499763                            [2020-05-08]"
      ]
     },
     "execution_count": 37,
     "metadata": {},
     "output_type": "execute_result"
    }
   ],
   "source": [
    "group_data1"
   ]
  },
  {
   "cell_type": "code",
   "execution_count": 19,
   "metadata": {},
   "outputs": [],
   "source": [
    "data2 = pd.read_excel(r'C:\\Users\\AmanovRA\\Anaconda3\\Work-work\\Temp\\Makarov\\Макаров ВГ для КЦ и обзвонов.xlsx', sheet_name=1)"
   ]
  },
  {
   "cell_type": "code",
   "execution_count": 38,
   "metadata": {},
   "outputs": [],
   "source": [
    "data2['Дата приема'] = pd.to_datetime(data2['Дата приема']).dt.date.apply(str)"
   ]
  },
  {
   "cell_type": "code",
   "execution_count": 39,
   "metadata": {},
   "outputs": [],
   "source": [
    "group_data2 = pd.DataFrame(data2.groupby('Номер карты')['Дата приема'].apply(list))"
   ]
  },
  {
   "cell_type": "code",
   "execution_count": 40,
   "metadata": {},
   "outputs": [
    {
     "data": {
      "text/plain": [
       "(58, 1)"
      ]
     },
     "execution_count": 40,
     "metadata": {},
     "output_type": "execute_result"
    }
   ],
   "source": [
    "group_data2.shape"
   ]
  },
  {
   "cell_type": "code",
   "execution_count": 41,
   "metadata": {},
   "outputs": [],
   "source": [
    "group_data1.to_excel('out1.xlsx')\n",
    "group_data2.to_excel('out2.xlsx')"
   ]
  },
  {
   "cell_type": "code",
   "execution_count": 32,
   "metadata": {},
   "outputs": [
    {
     "data": {
      "text/plain": [
       "Номер карты\n",
       "100093536                            [2020-05-07]\n",
       "100119217                            [2020-05-01]\n",
       "100180648    [2020-05-01, 2020-05-05, 2020-05-08]\n",
       "100180675                [2020-05-01, 2020-05-05]\n",
       "100180979                [2020-05-03, 2020-05-07]\n",
       "100181713                            [2020-05-07]\n",
       "100181789                            [2020-05-07]\n",
       "120026854                            [2020-05-03]\n",
       "120101030                            [2020-05-07]\n",
       "120336243                [2020-05-05, 2020-05-06]\n",
       "120394233                [2020-05-05, 2020-05-06]\n",
       "120487083                [2020-05-01, 2020-05-03]\n",
       "120514399    [2020-05-01, 2020-05-05, 2020-05-08]\n",
       "120580001                            [2020-05-05]\n",
       "120580658                            [2020-05-05]\n",
       "120580666                            [2020-05-05]\n",
       "990405707                [2020-05-01, 2020-05-03]\n",
       "990423471                [2020-05-05, 2020-05-06]\n",
       "990477473    [2020-05-01, 2020-05-03, 2020-05-05]\n",
       "990489705                            [2020-05-07]\n",
       "990499763                            [2020-05-08]\n",
       "Name: Дата приема, dtype: object"
      ]
     },
     "execution_count": 32,
     "metadata": {},
     "output_type": "execute_result"
    }
   ],
   "source": [
    "group_data1['Дата приема']"
   ]
  },
  {
   "cell_type": "code",
   "execution_count": null,
   "metadata": {},
   "outputs": [],
   "source": []
  }
 ],
 "metadata": {
  "kernelspec": {
   "display_name": "Python 3",
   "language": "python",
   "name": "python3"
  },
  "language_info": {
   "codemirror_mode": {
    "name": "ipython",
    "version": 3
   },
   "file_extension": ".py",
   "mimetype": "text/x-python",
   "name": "python",
   "nbconvert_exporter": "python",
   "pygments_lexer": "ipython3",
   "version": "3.7.6"
  }
 },
 "nbformat": 4,
 "nbformat_minor": 4
}
