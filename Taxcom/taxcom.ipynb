{
 "cells": [
  {
   "cell_type": "code",
   "execution_count": 2,
   "metadata": {},
   "outputs": [],
   "source": [
    "import requests\n",
    "from dotenv import load_dotenv\n",
    "import os\n",
    "\n",
    "'''\n",
    "integration = 2B5AB8CB-464D-4206-AD91-9AFCAC8CCEC2\n",
    "\n",
    "При взаимодействии с сервисом через API используйте адрес:\n",
    "•api-lk-ofd.taxcom.ru для подключения к промышленному серверу;\n",
    "•api-tlk-ofd.taxcom.ru для подключения к тестовому серверу.\n",
    "'''\n",
    "\n",
    "\n",
    "def get_token(login, password, integration_id):\n",
    "    url = \"https://api-lk-ofd.taxcom.ru/API/v2/CertificateLogin\"\n",
    "    properties = {\"login\": login, \"password\": password}\n",
    "    headers = {\"Integrator-ID\": integration_id, \n",
    "               \"Content-Type\": \"application/json\"}\n",
    "    response = requests.post(url, json=properties, headers=headers)\n",
    "    response.raise_for_status()\n",
    "    return response.json()[\"sessionToken\"]\n",
    "\n",
    "headers = {\"Integrator-ID\": '2B5AB8CB-464D-4206-AD91-9AFCAC8CCEC2', \n",
    "               \"Content-Type\": \"application/json\"}\n",
    "\n",
    "response = requests.post(\"https://api-lk-ofd.taxcom.ru/API/v2/CertificateLogin\", headers=headers)"
   ]
  },
  {
   "cell_type": "code",
   "execution_count": 4,
   "metadata": {},
   "outputs": [
    {
     "data": {
      "text/plain": [
       "{'details': None,\n",
       " 'apiErrorCode': 5101,\n",
       " 'commonDescription': 'Непредвиденное исключение Api V2. Обратитесь к разработчикам.',\n",
       " 'httpErrorCode': 500}"
      ]
     },
     "execution_count": 4,
     "metadata": {},
     "output_type": "execute_result"
    }
   ],
   "source": [
    "response.json()"
   ]
  },
  {
   "cell_type": "code",
   "execution_count": null,
   "metadata": {},
   "outputs": [],
   "source": []
  }
 ],
 "metadata": {
  "kernelspec": {
   "display_name": "Python 3",
   "language": "python",
   "name": "python3"
  },
  "language_info": {
   "codemirror_mode": {
    "name": "ipython",
    "version": 3
   },
   "file_extension": ".py",
   "mimetype": "text/x-python",
   "name": "python",
   "nbconvert_exporter": "python",
   "pygments_lexer": "ipython3",
   "version": "3.7.6"
  }
 },
 "nbformat": 4,
 "nbformat_minor": 4
}
