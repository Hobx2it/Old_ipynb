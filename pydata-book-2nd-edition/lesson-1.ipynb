{
 "cells": [
  {
   "cell_type": "code",
   "execution_count": 5,
   "metadata": {},
   "outputs": [
    {
     "name": "stdout",
     "output_type": "stream",
     "text": [
      "Hello world!\n"
     ]
    }
   ],
   "source": [
    "%run hello.py  # запустили файл.py из оболочки ipython"
   ]
  },
  {
   "cell_type": "code",
   "execution_count": 6,
   "metadata": {},
   "outputs": [
    {
     "data": {
      "text/plain": [
       "{0: -0.4314354336740265,\n",
       " 1: 0.0037260940475618604,\n",
       " 2: 0.5734559696714959,\n",
       " 3: 0.8515769403831155,\n",
       " 4: -0.08440881196412435,\n",
       " 5: 0.8986804612455306,\n",
       " 6: -0.33239815299959025,\n",
       " 7: -0.015469400499262634,\n",
       " 8: -0.031517386367384194,\n",
       " 9: -1.6674741578857304}"
      ]
     },
     "execution_count": 6,
     "metadata": {},
     "output_type": "execute_result"
    }
   ],
   "source": [
    "import numpy as np\n",
    "\n",
    "data = {i : np.random.randn() for i in range(10)}\n",
    "\n",
    "data"
   ]
  },
  {
   "cell_type": "code",
   "execution_count": 7,
   "metadata": {},
   "outputs": [
    {
     "data": {
      "text/plain": [
       "[1, 2, 3, 4, 5]"
      ]
     },
     "execution_count": 7,
     "metadata": {},
     "output_type": "execute_result"
    }
   ],
   "source": [
    "import re\n",
    "from random import choice\n",
    "\n",
    "pattern = r'(list\\d{1,})\\D'\n",
    "\n",
    "arr = []\n",
    "with open('lists.py', 'r', encoding='utf-8') as fin:\n",
    "    for line in fin. readlines():\n",
    "        if 'list' in line:\n",
    "            exec(line)\n",
    "            arr.append(eval(re.search(pattern, line)[1]))\n",
    "            \n",
    "example = choice(arr)       \n",
    "\n",
    "example"
   ]
  },
  {
   "cell_type": "code",
   "execution_count": 3,
   "metadata": {},
   "outputs": [
    {
     "data": {
      "text/plain": [
       "[1, 2, 3]"
      ]
     },
     "execution_count": 3,
     "metadata": {},
     "output_type": "execute_result"
    }
   ],
   "source": [
    "from lists import *\n",
    "from random import choice\n",
    "\n",
    "dct = locals()\n",
    "\n",
    "arr = [dct[i] for i in dct if 'list' in i]\n",
    "\n",
    "example = choice(arr)       \n",
    "\n",
    "example\n"
   ]
  },
  {
   "cell_type": "code",
   "execution_count": 10,
   "metadata": {},
   "outputs": [
    {
     "name": "stdout",
     "output_type": "stream",
     "text": [
      "6\n"
     ]
    },
    {
     "data": {
      "text/plain": [
       "[1, 2, 2, 2, 3, 4, 5, 7]"
      ]
     },
     "execution_count": 10,
     "metadata": {},
     "output_type": "execute_result"
    }
   ],
   "source": [
    "import bisect\n",
    "\n",
    "a = [1, 2, 2, 2, 3, 4, 7]\n",
    "\n",
    "# bisect не проверяет отсортирован ли массив\n",
    "\n",
    "print(bisect.bisect(a, 5)) # говорит на какое место надо поставить число в отсортированном списке\n",
    "\n",
    "bisect.insort(a, 5) # делает то что выше написано\n",
    "\n",
    "a"
   ]
  },
  {
   "cell_type": "code",
   "execution_count": null,
   "metadata": {},
   "outputs": [],
   "source": []
  }
 ],
 "metadata": {
  "kernelspec": {
   "display_name": "Python 3",
   "language": "python",
   "name": "python3"
  },
  "language_info": {
   "codemirror_mode": {
    "name": "ipython",
    "version": 3
   },
   "file_extension": ".py",
   "mimetype": "text/x-python",
   "name": "python",
   "nbconvert_exporter": "python",
   "pygments_lexer": "ipython3",
   "version": "3.7.6"
  }
 },
 "nbformat": 4,
 "nbformat_minor": 4
}
