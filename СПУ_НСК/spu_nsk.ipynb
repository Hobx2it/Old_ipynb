{
 "cells": [
  {
   "cell_type": "code",
   "execution_count": 1,
   "metadata": {},
   "outputs": [],
   "source": [
    "import pandas as pd\n",
    "import datetime"
   ]
  },
  {
   "cell_type": "code",
   "execution_count": 2,
   "metadata": {},
   "outputs": [],
   "source": [
    "data = pd.read_excel('СПУ по пациентам НСК.xlsx')"
   ]
  },
  {
   "cell_type": "code",
   "execution_count": 6,
   "metadata": {},
   "outputs": [],
   "source": [
    "data = data.sort_values('Дата начала СПУ из карточки Пациента').reset_index(drop=True)"
   ]
  },
  {
   "cell_type": "code",
   "execution_count": 7,
   "metadata": {},
   "outputs": [],
   "source": [
    "group_pacients = data.groupby('Пациент', as_index=False).agg({'СПУ из карточки Пациента':list, 'Дата начала СПУ из карточки Пациента':list})"
   ]
  },
  {
   "cell_type": "code",
   "execution_count": 18,
   "metadata": {},
   "outputs": [],
   "source": [
    "group_pacients['Кол-во СПУ'] = group_pacients['СПУ из карточки Пациента'].apply(lambda x: len(set(x)))"
   ]
  },
  {
   "cell_type": "code",
   "execution_count": 19,
   "metadata": {},
   "outputs": [],
   "source": [
    "group_pacients_new = group_pacients[group_pacients['Кол-во СПУ'] > 1]"
   ]
  },
  {
   "cell_type": "code",
   "execution_count": 21,
   "metadata": {},
   "outputs": [],
   "source": [
    "group_pacients_new = group_pacients_new.reset_index(drop=True)"
   ]
  },
  {
   "cell_type": "code",
   "execution_count": 32,
   "metadata": {},
   "outputs": [],
   "source": [
    "temp_dct = {}\n",
    "\n",
    "for i in group_pacients_new.index:\n",
    "    temp_dct.setdefault(group_pacients_new['Пациент'][i], {})\n",
    "    for j in range(len(group_pacients_new['СПУ из карточки Пациента'][i]) - 1):\n",
    "        if group_pacients_new['СПУ из карточки Пациента'][i][j] == group_pacients_new['СПУ из карточки Пациента'][i][j+1]:\n",
    "            continue\n",
    "        else:\n",
    "            temp_dct[group_pacients_new['Пациент'][i]].setdefault(group_pacients_new['СПУ из карточки Пациента'][i][j], group_pacients_new['Дата начала СПУ из карточки Пациента'][i][j].date())\n",
    "    temp_dct[group_pacients_new['Пациент'][i]].setdefault(group_pacients_new['СПУ из карточки Пациента'][i][len(group_pacients_new['СПУ из карточки Пациента'][i]) - 1], group_pacients_new['Дата начала СПУ из карточки Пациента'][i][len(group_pacients_new['СПУ из карточки Пациента'][i]) - 1].date())        "
   ]
  },
  {
   "cell_type": "code",
   "execution_count": 40,
   "metadata": {},
   "outputs": [],
   "source": [
    "df_dict = {'name':[], 'spu':[], 'date':[]}\n",
    "\n",
    "for key, val in temp_dct.items():\n",
    "    for key1, val1 in val.items():\n",
    "        df_dict['name'].append(key)\n",
    "        df_dict['spu'].append(key1)\n",
    "        df_dict['date'].append(val1)\n",
    "    df_dict['name'].append('')\n",
    "    df_dict['spu'].append('')\n",
    "    df_dict['date'].append('')    "
   ]
  },
  {
   "cell_type": "code",
   "execution_count": 41,
   "metadata": {},
   "outputs": [],
   "source": [
    "data_new_group = pd.DataFrame(df_dict)"
   ]
  },
  {
   "cell_type": "code",
   "execution_count": 42,
   "metadata": {},
   "outputs": [
    {
     "data": {
      "text/html": [
       "<div>\n",
       "<style scoped>\n",
       "    .dataframe tbody tr th:only-of-type {\n",
       "        vertical-align: middle;\n",
       "    }\n",
       "\n",
       "    .dataframe tbody tr th {\n",
       "        vertical-align: top;\n",
       "    }\n",
       "\n",
       "    .dataframe thead th {\n",
       "        text-align: right;\n",
       "    }\n",
       "</style>\n",
       "<table border=\"1\" class=\"dataframe\">\n",
       "  <thead>\n",
       "    <tr style=\"text-align: right;\">\n",
       "      <th></th>\n",
       "      <th>name</th>\n",
       "      <th>spu</th>\n",
       "      <th>date</th>\n",
       "    </tr>\n",
       "  </thead>\n",
       "  <tbody>\n",
       "    <tr>\n",
       "      <th>0</th>\n",
       "      <td>Абдулова Вероника Евгеньевна</td>\n",
       "      <td>Скидка 5%</td>\n",
       "      <td>2017-12-03</td>\n",
       "    </tr>\n",
       "    <tr>\n",
       "      <th>1</th>\n",
       "      <td>Абдулова Вероника Евгеньевна</td>\n",
       "      <td>Скидка 15%</td>\n",
       "      <td>2020-01-30</td>\n",
       "    </tr>\n",
       "    <tr>\n",
       "      <th>2</th>\n",
       "      <td></td>\n",
       "      <td></td>\n",
       "      <td></td>\n",
       "    </tr>\n",
       "    <tr>\n",
       "      <th>3</th>\n",
       "      <td>Абрамова Татьяна Викторовна</td>\n",
       "      <td>Скидка 5%</td>\n",
       "      <td>2017-11-15</td>\n",
       "    </tr>\n",
       "    <tr>\n",
       "      <th>4</th>\n",
       "      <td>Абрамова Татьяна Викторовна</td>\n",
       "      <td>Скидка 15%</td>\n",
       "      <td>2018-12-07</td>\n",
       "    </tr>\n",
       "    <tr>\n",
       "      <th>...</th>\n",
       "      <td>...</td>\n",
       "      <td>...</td>\n",
       "      <td>...</td>\n",
       "    </tr>\n",
       "    <tr>\n",
       "      <th>578</th>\n",
       "      <td>Яковлев Кирилл Владимирович</td>\n",
       "      <td>Скидка 15%</td>\n",
       "      <td>2018-12-07</td>\n",
       "    </tr>\n",
       "    <tr>\n",
       "      <th>579</th>\n",
       "      <td></td>\n",
       "      <td></td>\n",
       "      <td></td>\n",
       "    </tr>\n",
       "    <tr>\n",
       "      <th>580</th>\n",
       "      <td>Ястрембская Елена Юрьевна</td>\n",
       "      <td>Скидка 5%</td>\n",
       "      <td>2019-11-21</td>\n",
       "    </tr>\n",
       "    <tr>\n",
       "      <th>581</th>\n",
       "      <td>Ястрембская Елена Юрьевна</td>\n",
       "      <td>Скидка 7%</td>\n",
       "      <td>2020-02-05</td>\n",
       "    </tr>\n",
       "    <tr>\n",
       "      <th>582</th>\n",
       "      <td></td>\n",
       "      <td></td>\n",
       "      <td></td>\n",
       "    </tr>\n",
       "  </tbody>\n",
       "</table>\n",
       "<p>583 rows × 3 columns</p>\n",
       "</div>"
      ],
      "text/plain": [
       "                             name         spu        date\n",
       "0    Абдулова Вероника Евгеньевна   Скидка 5%  2017-12-03\n",
       "1    Абдулова Вероника Евгеньевна  Скидка 15%  2020-01-30\n",
       "2                                                        \n",
       "3     Абрамова Татьяна Викторовна   Скидка 5%  2017-11-15\n",
       "4     Абрамова Татьяна Викторовна  Скидка 15%  2018-12-07\n",
       "..                            ...         ...         ...\n",
       "578   Яковлев Кирилл Владимирович  Скидка 15%  2018-12-07\n",
       "579                                                      \n",
       "580     Ястрембская Елена Юрьевна   Скидка 5%  2019-11-21\n",
       "581     Ястрембская Елена Юрьевна   Скидка 7%  2020-02-05\n",
       "582                                                      \n",
       "\n",
       "[583 rows x 3 columns]"
      ]
     },
     "execution_count": 42,
     "metadata": {},
     "output_type": "execute_result"
    }
   ],
   "source": [
    "data_new_group"
   ]
  },
  {
   "cell_type": "code",
   "execution_count": 44,
   "metadata": {},
   "outputs": [],
   "source": [
    "data_new_group.to_excel('Изменение СПУ.xlsx', index=False)"
   ]
  },
  {
   "cell_type": "code",
   "execution_count": null,
   "metadata": {},
   "outputs": [],
   "source": []
  }
 ],
 "metadata": {
  "kernelspec": {
   "display_name": "Python 3",
   "language": "python",
   "name": "python3"
  },
  "language_info": {
   "codemirror_mode": {
    "name": "ipython",
    "version": 3
   },
   "file_extension": ".py",
   "mimetype": "text/x-python",
   "name": "python",
   "nbconvert_exporter": "python",
   "pygments_lexer": "ipython3",
   "version": "3.7.6"
  }
 },
 "nbformat": 4,
 "nbformat_minor": 4
}
