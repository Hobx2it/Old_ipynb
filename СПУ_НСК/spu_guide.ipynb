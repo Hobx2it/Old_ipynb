{
 "cells": [
  {
   "cell_type": "code",
   "execution_count": 16,
   "metadata": {},
   "outputs": [],
   "source": [
    "import pandas as pd\n",
    "import datetime"
   ]
  },
  {
   "cell_type": "code",
   "execution_count": 17,
   "metadata": {},
   "outputs": [],
   "source": [
    "data = pd.read_excel('Клиент_СПУ.xlsx')"
   ]
  },
  {
   "cell_type": "code",
   "execution_count": 18,
   "metadata": {},
   "outputs": [],
   "source": [
    "def make_date(x):\n",
    "    try:\n",
    "        x = x.date()\n",
    "        return x\n",
    "    except:\n",
    "        return x"
   ]
  },
  {
   "cell_type": "code",
   "execution_count": 19,
   "metadata": {},
   "outputs": [],
   "source": [
    "data['Дата начала СПУ из карточки Пациента'] = data['Дата начала СПУ из карточки Пациента'].apply(make_date)\n",
    "data['Дата окончания СПУ из карточки Пациента'] = data['Дата окончания СПУ из карточки Пациента'].apply(make_date)"
   ]
  },
  {
   "cell_type": "code",
   "execution_count": 20,
   "metadata": {},
   "outputs": [],
   "source": [
    "data = data.sort_values(by=['Номер карты', 'Дата начала СПУ из карточки Пациента'])"
   ]
  },
  {
   "cell_type": "code",
   "execution_count": 21,
   "metadata": {},
   "outputs": [],
   "source": [
    "group_data = data.groupby('Номер карты', as_index=False).agg({'СПУ из карточки Пациента':list, 'Дата начала СПУ из карточки Пациента':list, 'Дата окончания СПУ из карточки Пациента':list}).reset_index(drop=True)"
   ]
  },
  {
   "cell_type": "code",
   "execution_count": 22,
   "metadata": {},
   "outputs": [
    {
     "data": {
      "text/html": [
       "<div>\n",
       "<style scoped>\n",
       "    .dataframe tbody tr th:only-of-type {\n",
       "        vertical-align: middle;\n",
       "    }\n",
       "\n",
       "    .dataframe tbody tr th {\n",
       "        vertical-align: top;\n",
       "    }\n",
       "\n",
       "    .dataframe thead th {\n",
       "        text-align: right;\n",
       "    }\n",
       "</style>\n",
       "<table border=\"1\" class=\"dataframe\">\n",
       "  <thead>\n",
       "    <tr style=\"text-align: right;\">\n",
       "      <th></th>\n",
       "      <th>Номер карты</th>\n",
       "      <th>СПУ из карточки Пациента</th>\n",
       "      <th>Дата начала СПУ из карточки Пациента</th>\n",
       "      <th>Дата окончания СПУ из карточки Пациента</th>\n",
       "    </tr>\n",
       "  </thead>\n",
       "  <tbody>\n",
       "    <tr>\n",
       "      <th>27720</th>\n",
       "      <td>540029723</td>\n",
       "      <td>[Базовая 0-1 стар, Скидка 5%, Скидка 5%, Скидк...</td>\n",
       "      <td>[2017-02-15, 2017-12-02, 2017-12-03, 2020-01-30]</td>\n",
       "      <td>[2017-12-31, 2020-01-29, 2019-12-13, -]</td>\n",
       "    </tr>\n",
       "  </tbody>\n",
       "</table>\n",
       "</div>"
      ],
      "text/plain": [
       "      Номер карты                           СПУ из карточки Пациента  \\\n",
       "27720   540029723  [Базовая 0-1 стар, Скидка 5%, Скидка 5%, Скидк...   \n",
       "\n",
       "                   Дата начала СПУ из карточки Пациента  \\\n",
       "27720  [2017-02-15, 2017-12-02, 2017-12-03, 2020-01-30]   \n",
       "\n",
       "       Дата окончания СПУ из карточки Пациента  \n",
       "27720  [2017-12-31, 2020-01-29, 2019-12-13, -]  "
      ]
     },
     "execution_count": 22,
     "metadata": {},
     "output_type": "execute_result"
    }
   ],
   "source": [
    "group_data[group_data['Номер карты'] == '540029723']"
   ]
  },
  {
   "cell_type": "code",
   "execution_count": 24,
   "metadata": {},
   "outputs": [],
   "source": [
    "guide_dict = {}\n",
    "\n",
    "for i in group_data.index:\n",
    "    guide_dict.setdefault(group_data['Номер карты'][i], {})\n",
    "    for j in range(len(group_data['СПУ из карточки Пациента'][i])):\n",
    "        guide_dict[group_data['Номер карты'][i]].setdefault(group_data['СПУ из карточки Пациента'][i][j], \\\n",
    "                                                           (group_data['Дата начала СПУ из карточки Пациента'][i][j], group_data['Дата окончания СПУ из карточки Пациента'][i][j]))\n",
    "    "
   ]
  },
  {
   "cell_type": "code",
   "execution_count": 26,
   "metadata": {},
   "outputs": [
    {
     "data": {
      "text/plain": [
       "{'Базовая 0-1 стар': (datetime.date(2017, 2, 15), datetime.date(2017, 12, 31)),\n",
       " 'Скидка 5%': (datetime.date(2017, 12, 2), datetime.date(2020, 1, 29)),\n",
       " 'Скидка 15%': (datetime.date(2020, 1, 30), '-')}"
      ]
     },
     "execution_count": 26,
     "metadata": {},
     "output_type": "execute_result"
    }
   ],
   "source": [
    "guide_dict['540029723']"
   ]
  },
  {
   "cell_type": "code",
   "execution_count": 61,
   "metadata": {},
   "outputs": [],
   "source": [
    "data = pd.read_excel('Данные_НСК.xlsx')"
   ]
  },
  {
   "cell_type": "code",
   "execution_count": 64,
   "metadata": {},
   "outputs": [],
   "source": [
    "data['Дата приема'] = data['Дата приема'].apply(make_date)"
   ]
  },
  {
   "cell_type": "code",
   "execution_count": 62,
   "metadata": {},
   "outputs": [
    {
     "data": {
      "text/html": [
       "<div>\n",
       "<style scoped>\n",
       "    .dataframe tbody tr th:only-of-type {\n",
       "        vertical-align: middle;\n",
       "    }\n",
       "\n",
       "    .dataframe tbody tr th {\n",
       "        vertical-align: top;\n",
       "    }\n",
       "\n",
       "    .dataframe thead th {\n",
       "        text-align: right;\n",
       "    }\n",
       "</style>\n",
       "<table border=\"1\" class=\"dataframe\">\n",
       "  <thead>\n",
       "    <tr style=\"text-align: right;\">\n",
       "      <th></th>\n",
       "      <th>Номер карты</th>\n",
       "      <th>Пациент</th>\n",
       "      <th>Пол</th>\n",
       "      <th>Дата рождения</th>\n",
       "      <th>Категория клиента</th>\n",
       "      <th>Год</th>\n",
       "      <th>Месяц</th>\n",
       "      <th>Дата приема</th>\n",
       "      <th>Дата и время посещения</th>\n",
       "      <th>Дата первого посещения</th>\n",
       "      <th>Наименование услуги</th>\n",
       "      <th>Sum([Количество])</th>\n",
       "      <th>Sum([Всего начислено])</th>\n",
       "      <th>Электронный адрес Пациента</th>\n",
       "    </tr>\n",
       "  </thead>\n",
       "  <tbody>\n",
       "    <tr>\n",
       "      <th>0</th>\n",
       "      <td>540025226</td>\n",
       "      <td>Андронов Тимофей Аркадьевич</td>\n",
       "      <td>Мужской</td>\n",
       "      <td>2015-09-14 00:00:00</td>\n",
       "      <td>НАЛ</td>\n",
       "      <td>2017</td>\n",
       "      <td>янв.</td>\n",
       "      <td>2017-01-02</td>\n",
       "      <td>2017-01-02 15:33:13</td>\n",
       "      <td>2016-01-23</td>\n",
       "      <td>УЗИ сердца (эхокардиография) в амбулатории</td>\n",
       "      <td>1</td>\n",
       "      <td>1500.0</td>\n",
       "      <td>-</td>\n",
       "    </tr>\n",
       "    <tr>\n",
       "      <th>1</th>\n",
       "      <td>540031560</td>\n",
       "      <td>Афонина Оксана Юрьевна</td>\n",
       "      <td>Женский</td>\n",
       "      <td>1982-12-20 00:00:00</td>\n",
       "      <td>НАЛ</td>\n",
       "      <td>2017</td>\n",
       "      <td>янв.</td>\n",
       "      <td>2017-01-02</td>\n",
       "      <td>2017-01-02 13:46:42</td>\n",
       "      <td>2017-01-02</td>\n",
       "      <td>Консультация врача - гинеколога, зав.отд., вед...</td>\n",
       "      <td>1</td>\n",
       "      <td>1200.0</td>\n",
       "      <td>-</td>\n",
       "    </tr>\n",
       "    <tr>\n",
       "      <th>2</th>\n",
       "      <td>540031560</td>\n",
       "      <td>Афонина Оксана Юрьевна</td>\n",
       "      <td>Женский</td>\n",
       "      <td>1982-12-20 00:00:00</td>\n",
       "      <td>НАЛ</td>\n",
       "      <td>2017</td>\n",
       "      <td>янв.</td>\n",
       "      <td>2017-01-02</td>\n",
       "      <td>2017-01-02 13:20:31</td>\n",
       "      <td>2017-01-02</td>\n",
       "      <td>Консультация врача - отоларинголога первичная ...</td>\n",
       "      <td>1</td>\n",
       "      <td>900.0</td>\n",
       "      <td>-</td>\n",
       "    </tr>\n",
       "    <tr>\n",
       "      <th>3</th>\n",
       "      <td>540031560</td>\n",
       "      <td>Афонина Оксана Юрьевна</td>\n",
       "      <td>Женский</td>\n",
       "      <td>1982-12-20 00:00:00</td>\n",
       "      <td>НАЛ</td>\n",
       "      <td>2017</td>\n",
       "      <td>янв.</td>\n",
       "      <td>2017-01-02</td>\n",
       "      <td>2017-01-02 16:04:26</td>\n",
       "      <td>2017-01-02</td>\n",
       "      <td>УЗИ органов малого таза комплексное (гинеколог...</td>\n",
       "      <td>1</td>\n",
       "      <td>1400.0</td>\n",
       "      <td>-</td>\n",
       "    </tr>\n",
       "    <tr>\n",
       "      <th>4</th>\n",
       "      <td>540031552</td>\n",
       "      <td>Байгужинов Александр Сергеевич</td>\n",
       "      <td>Мужской</td>\n",
       "      <td>1990-02-28 00:00:00</td>\n",
       "      <td>НАЛ</td>\n",
       "      <td>2017</td>\n",
       "      <td>янв.</td>\n",
       "      <td>2017-01-02</td>\n",
       "      <td>2017-01-02 09:59:45</td>\n",
       "      <td>2017-01-02</td>\n",
       "      <td>Консультация врача - терапевта первичная в амб...</td>\n",
       "      <td>1</td>\n",
       "      <td>900.0</td>\n",
       "      <td>-</td>\n",
       "    </tr>\n",
       "  </tbody>\n",
       "</table>\n",
       "</div>"
      ],
      "text/plain": [
       "  Номер карты                         Пациент      Пол        Дата рождения  \\\n",
       "0   540025226     Андронов Тимофей Аркадьевич  Мужской  2015-09-14 00:00:00   \n",
       "1   540031560          Афонина Оксана Юрьевна  Женский  1982-12-20 00:00:00   \n",
       "2   540031560          Афонина Оксана Юрьевна  Женский  1982-12-20 00:00:00   \n",
       "3   540031560          Афонина Оксана Юрьевна  Женский  1982-12-20 00:00:00   \n",
       "4   540031552  Байгужинов Александр Сергеевич  Мужской  1990-02-28 00:00:00   \n",
       "\n",
       "  Категория клиента   Год Месяц Дата приема Дата и время посещения  \\\n",
       "0               НАЛ  2017  янв.  2017-01-02    2017-01-02 15:33:13   \n",
       "1               НАЛ  2017  янв.  2017-01-02    2017-01-02 13:46:42   \n",
       "2               НАЛ  2017  янв.  2017-01-02    2017-01-02 13:20:31   \n",
       "3               НАЛ  2017  янв.  2017-01-02    2017-01-02 16:04:26   \n",
       "4               НАЛ  2017  янв.  2017-01-02    2017-01-02 09:59:45   \n",
       "\n",
       "  Дата первого посещения                                Наименование услуги  \\\n",
       "0             2016-01-23         УЗИ сердца (эхокардиография) в амбулатории   \n",
       "1             2017-01-02  Консультация врача - гинеколога, зав.отд., вед...   \n",
       "2             2017-01-02  Консультация врача - отоларинголога первичная ...   \n",
       "3             2017-01-02  УЗИ органов малого таза комплексное (гинеколог...   \n",
       "4             2017-01-02  Консультация врача - терапевта первичная в амб...   \n",
       "\n",
       "   Sum([Количество])  Sum([Всего начислено]) Электронный адрес Пациента  \n",
       "0                  1                  1500.0                          -  \n",
       "1                  1                  1200.0                          -  \n",
       "2                  1                   900.0                          -  \n",
       "3                  1                  1400.0                          -  \n",
       "4                  1                   900.0                          -  "
      ]
     },
     "execution_count": 62,
     "metadata": {},
     "output_type": "execute_result"
    }
   ],
   "source": [
    "data.head()"
   ]
  },
  {
   "cell_type": "code",
   "execution_count": 102,
   "metadata": {},
   "outputs": [],
   "source": [
    "temp_arr = []\n",
    "new_temp_arr = []\n",
    "for i in data.index:\n",
    "    temp_arr.append('')\n",
    "    new_temp_arr.append('')\n",
    "    flag = False\n",
    "    temp_date = data['Дата приема'][i]\n",
    "    if len(guide_dict[data['Номер карты'][i]]) == 1 and '-' in guide_dict[data['Номер карты'][i]].keys():\n",
    "        temp_arr[-1] = '-'\n",
    "        new_temp_arr[-1] = '-'\n",
    "        continue\n",
    "    else:\n",
    "        for key, val in guide_dict[data['Номер карты'][i]].items():\n",
    "            if flag:\n",
    "                break\n",
    "            if temp_date >= val[0]:\n",
    "                if val[1] == '-' or temp_date <= val[1]:\n",
    "                    temp_arr[-1] = key\n",
    "                    new_temp_arr[-1] = val\n",
    "                    flag = True\n",
    "    if temp_arr[-1] == '':\n",
    "        temp_arr[-1] = '-'\n",
    "        new_temp_arr[-1] = '-'\n",
    "\n",
    "            "
   ]
  },
  {
   "cell_type": "code",
   "execution_count": 103,
   "metadata": {},
   "outputs": [],
   "source": [
    "data['Действующая СПУ на дату приема'] = temp_arr\n",
    "data['Сроки действия СПУ'] = new_temp_arr"
   ]
  },
  {
   "cell_type": "code",
   "execution_count": 104,
   "metadata": {},
   "outputs": [],
   "source": [
    "data.to_excel('Обработано.xlsx')"
   ]
  },
  {
   "cell_type": "code",
   "execution_count": null,
   "metadata": {},
   "outputs": [],
   "source": []
  },
  {
   "cell_type": "code",
   "execution_count": null,
   "metadata": {},
   "outputs": [],
   "source": []
  },
  {
   "cell_type": "code",
   "execution_count": null,
   "metadata": {},
   "outputs": [],
   "source": []
  },
  {
   "cell_type": "code",
   "execution_count": null,
   "metadata": {},
   "outputs": [],
   "source": []
  },
  {
   "cell_type": "code",
   "execution_count": null,
   "metadata": {},
   "outputs": [],
   "source": []
  }
 ],
 "metadata": {
  "kernelspec": {
   "display_name": "Python 3",
   "language": "python",
   "name": "python3"
  },
  "language_info": {
   "codemirror_mode": {
    "name": "ipython",
    "version": 3
   },
   "file_extension": ".py",
   "mimetype": "text/x-python",
   "name": "python",
   "nbconvert_exporter": "python",
   "pygments_lexer": "ipython3",
   "version": "3.7.6"
  }
 },
 "nbformat": 4,
 "nbformat_minor": 4
}
