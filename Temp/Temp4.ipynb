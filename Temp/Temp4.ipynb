{
 "cells": [
  {
   "cell_type": "code",
   "execution_count": 2,
   "metadata": {},
   "outputs": [
    {
     "data": {
      "text/plain": [
       "1.5"
      ]
     },
     "execution_count": 2,
     "metadata": {},
     "output_type": "execute_result"
    }
   ],
   "source": [
    "import pandas as pd\n",
    "pd.Series([-1,0,4,2,1,2]).median()"
   ]
  },
  {
   "cell_type": "code",
   "execution_count": 6,
   "metadata": {},
   "outputs": [
    {
     "data": {
      "text/html": [
       "<div>\n",
       "<style scoped>\n",
       "    .dataframe tbody tr th:only-of-type {\n",
       "        vertical-align: middle;\n",
       "    }\n",
       "\n",
       "    .dataframe tbody tr th {\n",
       "        vertical-align: top;\n",
       "    }\n",
       "\n",
       "    .dataframe thead th {\n",
       "        text-align: right;\n",
       "    }\n",
       "</style>\n",
       "<table border=\"1\" class=\"dataframe\">\n",
       "  <thead>\n",
       "    <tr style=\"text-align: right;\">\n",
       "      <th></th>\n",
       "      <th>год</th>\n",
       "      <th>возраст</th>\n",
       "    </tr>\n",
       "  </thead>\n",
       "  <tbody>\n",
       "    <tr>\n",
       "      <th>год</th>\n",
       "      <td>1.0</td>\n",
       "      <td>-1.0</td>\n",
       "    </tr>\n",
       "    <tr>\n",
       "      <th>возраст</th>\n",
       "      <td>-1.0</td>\n",
       "      <td>1.0</td>\n",
       "    </tr>\n",
       "  </tbody>\n",
       "</table>\n",
       "</div>"
      ],
      "text/plain": [
       "         год  возраст\n",
       "год      1.0     -1.0\n",
       "возраст -1.0      1.0"
      ]
     },
     "execution_count": 6,
     "metadata": {},
     "output_type": "execute_result"
    }
   ],
   "source": [
    "dct = {'год' : [1985, 1986],\n",
    "'возраст' : [32, 31]}\n",
    "\n",
    "pd.DataFrame(dct).corr()"
   ]
  },
  {
   "cell_type": "code",
   "execution_count": 54,
   "metadata": {},
   "outputs": [],
   "source": [
    "import random\n",
    "import datetime\n",
    "arr = []\n",
    "\n",
    "while len(arr) < 200:\n",
    "    try:\n",
    "        arr.append(datetime.date(random.randint(1940, 2015), random.randint(1,12), random.randint(1, 31)))\n",
    "    except:\n",
    "        continue\n",
    "                   \n"
   ]
  },
  {
   "cell_type": "code",
   "execution_count": 55,
   "metadata": {},
   "outputs": [],
   "source": [
    "df = pd.DataFrame({'Дата рождения' : arr})"
   ]
  },
  {
   "cell_type": "code",
   "execution_count": 56,
   "metadata": {},
   "outputs": [],
   "source": [
    "def age(x, y):\n",
    "    return int((datetime.date(2019, y, 20) - x).days // 365.25)"
   ]
  },
  {
   "cell_type": "code",
   "execution_count": 57,
   "metadata": {},
   "outputs": [],
   "source": [
    "for i in range(1, 13):\n",
    "    temp_name = 'Месяц' + str(i)\n",
    "    df[temp_name] = df['Дата рождения'].apply(lambda x: age(x, i))"
   ]
  },
  {
   "cell_type": "code",
   "execution_count": 58,
   "metadata": {},
   "outputs": [],
   "source": [
    "df['year'] = df['Дата рождения'].apply(lambda x: x.year)"
   ]
  },
  {
   "cell_type": "code",
   "execution_count": 59,
   "metadata": {},
   "outputs": [
    {
     "data": {
      "text/plain": [
       "Месяц1    -0.999937\n",
       "Месяц2    -0.999872\n",
       "Месяц3    -0.999849\n",
       "Месяц4    -0.999793\n",
       "Месяц5    -0.999758\n",
       "Месяц6    -0.999744\n",
       "Месяц7    -0.999744\n",
       "Месяц8    -0.999753\n",
       "Месяц9    -0.999776\n",
       "Месяц10   -0.999815\n",
       "Месяц11   -0.999879\n",
       "Месяц12   -0.999952\n",
       "year       1.000000\n",
       "Name: year, dtype: float64"
      ]
     },
     "execution_count": 59,
     "metadata": {},
     "output_type": "execute_result"
    }
   ],
   "source": [
    "df.corr().year"
   ]
  },
  {
   "cell_type": "code",
   "execution_count": 63,
   "metadata": {},
   "outputs": [
    {
     "data": {
      "text/plain": [
       "year       1.000000\n",
       "Месяц6    -0.999713\n",
       "Месяц7    -0.999720\n",
       "Месяц5    -0.999727\n",
       "Месяц8    -0.999736\n",
       "Месяц4    -0.999748\n",
       "Месяц9    -0.999772\n",
       "Месяц3    -0.999802\n",
       "Месяц10   -0.999818\n",
       "Месяц2    -0.999872\n",
       "Месяц11   -0.999891\n",
       "Месяц1    -0.999956\n",
       "Месяц12   -0.999966\n",
       "Name: year, dtype: float64"
      ]
     },
     "execution_count": 63,
     "metadata": {},
     "output_type": "execute_result"
    }
   ],
   "source": [
    "import random\n",
    "import datetime\n",
    "import pandas as pd\n",
    "dates = []\n",
    "\n",
    "while len(dates) < 300:\n",
    "    try:\n",
    "        dates.append(datetime.date(random.randint(1940, 2015), random.randint(1,12), random.randint(1, 31)))\n",
    "    except:\n",
    "        continue\n",
    "        \n",
    "df = pd.DataFrame({'Дата рождения' : dates})                   \n",
    "            \n",
    "def age(x, y):\n",
    "    return int((datetime.date(2019, y, 20) - x).days // 365.25)\n",
    "\n",
    "for i in range(1, 13):\n",
    "    temp_name = 'Месяц' + str(i)\n",
    "    df[temp_name] = df['Дата рождения'].apply(lambda x: age(x, i))\n",
    "    \n",
    "df['year'] = df['Дата рождения'].apply(lambda x: x.year)    \n",
    "\n",
    "df.corr().year.sort_values(ascending=False)    "
   ]
  },
  {
   "cell_type": "code",
   "execution_count": 2,
   "metadata": {},
   "outputs": [],
   "source": [
    "import string"
   ]
  },
  {
   "cell_type": "code",
   "execution_count": 30,
   "metadata": {},
   "outputs": [
    {
     "data": {
      "text/plain": [
       "'Encrypted: DYHFDHVDU\\nDecrypted back: AVECAESAR'"
      ]
     },
     "execution_count": 30,
     "metadata": {},
     "output_type": "execute_result"
    }
   ],
   "source": [
    "alphabet = string.ascii_uppercase\n",
    "\n",
    "def caesar(text, key, flag=False):\n",
    "    import string\n",
    "    key %= 26\n",
    "    if key < 0:\n",
    "        key = 26 + key\n",
    "    reverse_key = key * -1\n",
    "    if reverse_key < 0:\n",
    "        reverse_key = 26 + reverse_key    \n",
    "    dct = dict(zip(string.ascii_uppercase, range(26)))\n",
    "    dct.update(dict(zip(range(26), string.ascii_uppercase)))\n",
    "    text = list(text.upper())\n",
    "    try:\n",
    "        Encrypted = ''.join([dct[(dct[i] + key)%26] for i in text if i.isalpha()])\n",
    "    except:\n",
    "        return text\n",
    "    if flag:\n",
    "        return Encrypted\n",
    "    Decrypted = caesar(Encrypted, reverse_key, True)\n",
    "    return f'''Encrypted: {Encrypted}\n",
    "Decrypted back: {Decrypted}'''\n",
    "\n",
    "caesar('Ave, Caesar', 3)"
   ]
  },
  {
   "cell_type": "code",
   "execution_count": 22,
   "metadata": {},
   "outputs": [
    {
     "data": {
      "text/plain": [
       "{'A': 0,\n",
       " 'B': 1,\n",
       " 'C': 2,\n",
       " 'D': 3,\n",
       " 'E': 4,\n",
       " 'F': 5,\n",
       " 'G': 6,\n",
       " 'H': 7,\n",
       " 'I': 8,\n",
       " 'J': 9,\n",
       " 'K': 10,\n",
       " 'L': 11,\n",
       " 'M': 12,\n",
       " 'N': 13,\n",
       " 'O': 14,\n",
       " 'P': 15,\n",
       " 'Q': 16,\n",
       " 'R': 17,\n",
       " 'S': 18,\n",
       " 'T': 19,\n",
       " 'U': 20,\n",
       " 'V': 21,\n",
       " 'W': 22,\n",
       " 'X': 23,\n",
       " 'Y': 24,\n",
       " 'Z': 25,\n",
       " 0: 'A',\n",
       " 1: 'B',\n",
       " 2: 'C',\n",
       " 3: 'D',\n",
       " 4: 'E',\n",
       " 5: 'F',\n",
       " 6: 'G',\n",
       " 7: 'H',\n",
       " 8: 'I',\n",
       " 9: 'J',\n",
       " 10: 'K',\n",
       " 11: 'L',\n",
       " 12: 'M',\n",
       " 13: 'N',\n",
       " 14: 'O',\n",
       " 15: 'P',\n",
       " 16: 'Q',\n",
       " 17: 'R',\n",
       " 18: 'S',\n",
       " 19: 'T',\n",
       " 20: 'U',\n",
       " 21: 'V',\n",
       " 22: 'W',\n",
       " 23: 'X',\n",
       " 24: 'Y',\n",
       " 25: 'Z'}"
      ]
     },
     "execution_count": 22,
     "metadata": {},
     "output_type": "execute_result"
    }
   ],
   "source": [
    "dct = dict(zip(string.ascii_uppercase, range(26)))\n",
    "dct.update(dict(zip(range(26), string.ascii_uppercase)))\n",
    "dct"
   ]
  },
  {
   "cell_type": "code",
   "execution_count": 2,
   "metadata": {},
   "outputs": [
    {
     "name": "stdout",
     "output_type": "stream",
     "text": [
      "True\n"
     ]
    }
   ],
   "source": [
    "from selenium import webdriver\n",
    " \n",
    "driver = webdriver.Chrome()\n",
    "driver.get(\"http://www.google.com\")\n",
    " \n",
    "elem = driver.find_element_by_name(\"q\")\n",
    "elem.send_keys(\"МЦ21 век\")\n",
    "elem.submit()\n",
    " \n",
    "print(driver.w3c)"
   ]
  },
  {
   "cell_type": "code",
   "execution_count": 5,
   "metadata": {},
   "outputs": [
    {
     "name": "stdout",
     "output_type": "stream",
     "text": [
      "3 [0]\n",
      "5 [1]\n"
     ]
    }
   ],
   "source": [
    "from sklearn.neighbors import KNeighborsClassifier\n",
    "import pandas as pd\n",
    "\n",
    "X = pd.DataFrame({'X1' : [-1,1,2,-3,3], \n",
    "                'X2' : [0, 2, -2, -1, 2]})\n",
    "\n",
    "y = pd.Series([1, 0, 0, 1, 1])\n",
    "\n",
    "x_test = pd.DataFrame({'X1' : [0], \n",
    "                'X2' : [0]})\n",
    "\n",
    "for i in (3, 5):\n",
    "    kn = KNeighborsClassifier(n_neighbors=i)\n",
    "    kn.fit(X, y)\n",
    "    print(i, kn.predict(x_test))\n"
   ]
  },
  {
   "cell_type": "code",
   "execution_count": 36,
   "metadata": {},
   "outputs": [
    {
     "data": {
      "text/plain": [
       "'БТСФТТЛЙНУЁЛТУПНГЬКЕЁУ'"
      ]
     },
     "execution_count": 36,
     "metadata": {},
     "output_type": "execute_result"
    }
   ],
   "source": [
    "def caesar(text, key, alphabet = 'ABCDEFGHIJKLMNOPQRSTUVWXYZ', flag=True):\n",
    "    key %= len(alphabet)\n",
    "    if key < 0:\n",
    "        key = len(alphabet) + key\n",
    "    reverse_key = key * -1\n",
    "    if reverse_key < 0:\n",
    "        reverse_key = len(alphabet) + reverse_key    \n",
    "    dct = dict(zip(alphabet, range(len(alphabet))))\n",
    "    dct.update(dict(zip(range(len(alphabet)), alphabet)))\n",
    "    text = list(text.upper())\n",
    "    try:\n",
    "        Encrypted = ''.join([dct[(dct[i] + key)%len(alphabet)] for i in text if i.isalnum()])\n",
    "    except:\n",
    "        return text\n",
    "    if flag:\n",
    "        return Encrypted\n",
    "    Decrypted = caesar(Encrypted, reverse_key, True, alphabet=alphabet)\n",
    "    return f'''Encrypted: {Encrypted}\n",
    "Decrypted back: {Decrypted}'''\n",
    "\n",
    "caesar('А с русским текстом выйдет?', 1, alphabet='АБВГДЕЁЖЗИЙКЛМНОПРСТУФХЦЧШЩЪЫЬЭЮЯ', flag=True)"
   ]
  },
  {
   "cell_type": "code",
   "execution_count": 8,
   "metadata": {},
   "outputs": [],
   "source": [
    "def bruteforce(text, alphabet = 'ABCDEFGHIJKLMNOPQRSTUVWXYZ'):\n",
    "    arr = []\n",
    "    for key in range(-1, -len(alphabet), -1):\n",
    "        arr.append(caesar(text, key, alphabet, True))\n",
    "    return '\\n'.join(arr)    "
   ]
  },
  {
   "cell_type": "code",
   "execution_count": 11,
   "metadata": {},
   "outputs": [
    {
     "data": {
      "text/plain": [
       "'РСБЛУЙЛФНРПНБУЁНБУЙЛЁЙРБКУПО\\nПРАКТИКУМПОМАТЕМАТИКЕИПАЙТОН\\nОПЯЙСЗЙТЛОНЛЯСДЛЯСЗЙДЗОЯИСНМ\\nНОЮИРЖИСКНМКЮРГКЮРЖИГЖНЮЗРМЛ\\nМНЭЗПЁЗРЙМЛЙЭПВЙЭПЁЗВЁМЭЖПЛК\\nЛМЬЖОЕЖПИЛКИЬОБИЬОЕЖБЕЛЬЁОКЙ\\nКЛЫЁНДЁОЗКЙЗЫНАЗЫНДЁАДКЫЕНЙИ\\nЙКЪЕМГЕНЖЙИЖЪМЯЖЪМГЕЯГЙЪДМИЗ\\nИЙЩДЛВДМЁИЗЁЩЛЮЁЩЛВДЮВИЩГЛЗЖ\\nЗИШГКБГЛЕЗЖЕШКЭЕШКБГЭБЗШВКЖЁ\\nЖЗЧВЙАВКДЖЁДЧЙЬДЧЙАВЬАЖЧБЙЁЕ\\nЁЖЦБИЯБЙГЁЕГЦИЫГЦИЯБЫЯЁЦАИЕД\\nЕЁХАЗЮАИВЕДВХЗЪВХЗЮАЪЮЕХЯЗДГ\\nДЕФЯЖЭЯЗБДГБФЖЩБФЖЭЯЩЭДФЮЖГВ\\nГДУЮЁЬЮЖАГВАУЁШАУЁЬЮШЬГУЭЁВБ\\nВГТЭЕЫЭЁЯВБЯТЕЧЯТЕЫЭЧЫВТЬЕБА\\nБВСЬДЪЬЕЮБАЮСДЦЮСДЪЬЦЪБСЫДАЯ\\nАБРЫГЩЫДЭАЯЭРГХЭРГЩЫХЩАРЪГЯЮ\\nЯАПЪВШЪГЬЯЮЬПВФЬПВШЪФШЯПЩВЮЭ\\nЮЯОЩБЧЩВЫЮЭЫОБУЫОБЧЩУЧЮОШБЭЬ\\nЭЮНШАЦШБЪЭЬЪНАТЪНАЦШТЦЭНЧАЬЫ\\nЬЭМЧЯХЧАЩЬЫЩМЯСЩМЯХЧСХЬМЦЯЫЪ\\nЫЬЛЦЮФЦЯШЫЪШЛЮРШЛЮФЦРФЫЛХЮЪЩ\\nЪЫКХЭУХЮЧЪЩЧКЭПЧКЭУХПУЪКФЭЩШ\\nЩЪЙФЬТФЭЦЩШЦЙЬОЦЙЬТФОТЩЙУЬШЧ\\nШЩИУЫСУЬХШЧХИЫНХИЫСУНСШИТЫЧЦ\\nЧШЗТЪРТЫФЧЦФЗЪМФЗЪРТМРЧЗСЪЦХ\\nЦЧЖСЩПСЪУЦХУЖЩЛУЖЩПСЛПЦЖРЩХФ\\nХЦЁРШОРЩТХФТЁШКТЁШОРКОХЁПШФУ\\nФХЕПЧНПШСФУСЕЧЙСЕЧНПЙНФЕОЧУТ\\nУФДОЦМОЧРУТРДЦИРДЦМОИМУДНЦТС\\nТУГНХЛНЦПТСПГХЗПГХЛНЗЛТГМХСР'"
      ]
     },
     "execution_count": 11,
     "metadata": {},
     "output_type": "execute_result"
    }
   ],
   "source": [
    "bruteforce('СТВМФКМХОСРОВФЖОВФКМЖКСВЛФРП', 'АБВГДЕЁЖЗИЙКЛМНОПРСТУФХЦЧШЩЪЫЬЭЮЯ')"
   ]
  },
  {
   "cell_type": "code",
   "execution_count": 15,
   "metadata": {},
   "outputs": [
    {
     "data": {
      "text/plain": [
       "'SOMEENCRIPTEDTEXTFORTHISASSIGNMENT'"
      ]
     },
     "execution_count": 15,
     "metadata": {},
     "output_type": "execute_result"
    }
   ],
   "source": [
    "def jarriquez_encryption(text, key, alphabet='ABCDEFGHIJKLMNOPQRSTUVWXYZ', reverse=False):\n",
    "    text = [i.upper() for i in text if i.isalnum()]\n",
    "    key = str(key) * len(text)\n",
    "    arr = []\n",
    "    for i, j in enumerate(text):\n",
    "        if not reverse:\n",
    "            arr.append(caesar(text=j, key=int(key[i]), alphabet=alphabet, flag=True))\n",
    "        else:\n",
    "            arr.append(caesar(text=j, key=-int(key[i]), alphabet=alphabet, flag=True))\n",
    "    return ''.join(arr)\n",
    "\n",
    "jarriquez_encryption('Some encripted text for this assignment', 26101986)\n",
    "\n",
    "jarriquez_encryption('UUNEFWKXKVUEECMDVLPRUQQYCYTIHWUKPZ', 26101986, reverse=True)"
   ]
  },
  {
   "cell_type": "code",
   "execution_count": 26,
   "metadata": {},
   "outputs": [
    {
     "name": "stdout",
     "output_type": "stream",
     "text": [
      "РЕАЛЬНЫЙОТВЕТСТВЕННЫЙЗАПРЕСТУПЛЕНИЕНААЛМАЗНОМПРИИСКЕИЗРОМАНАЖЮЛЯВЕРНАЖАНГАДАНЕБУДЕТНАЗВАНВЭТОЙШИФРОВКЕЯОСТАВЛЮЗДЕСЬИМЯЖОАМДАКОСТАЛИШЬСЕДИНСТВЕННОЙЦЕЛЬЮЧТОБЫВЫМОГЛИРАСШИФРОВАТЬМОПОСЛАНИЕТАКЖЕЯДЕЛАЮЕГОДОСТАТОЧНОБОЛЬШОЙДЛИНЫЧТОБЫДАЖЕПОСЛЕШИФРОВАНИЯМОЖНОБЫЛОВОССТАНОВИТЬИСХОДНЫХАЛФАВИТАВТОРДАННОГОЗАДАНИЯИВАШДРУГЗАДОЙНЫЙАЛЕКСЕЙ 261086 37 122\n"
     ]
    }
   ],
   "source": [
    "ab = sorted(set('''ТЛБЛДУЭППТКЛФЧУВНУПБКЗИХТЛТТЫХНЛОИНУВЖММИНПФНПШОКЧЛЕРНТФНАХЖИДМЯКЛТУБЖИУЕЖЕАХЛГЩЕЕ\n",
    "\n",
    "ЪУВНГАХИЯШПЙАОЦЦПВТЛБФТТИИНДИДНЧЮОНЯОФВТЕАТФУШБЛРЮЮЧЖДРУУШГЕХУРПЧЕУВАЭУОЙБДБНОЛСКЦБ\n",
    "\n",
    "САОЦЦПВИШЮТППЦЧНЖОИНШВРЗЕЗКЗСБЮНЙРКПСЪЖФФШНЦЗРСЭШЦПЖСЙНГЭФФВЫМЖИЛРОЩСЗЮЙФШФДЖО\n",
    "\n",
    "ИЗТРМООЙБНФГОЩЧФЖООКОФВЙСЭФЖУЬХИСЦЖГИЪЖДШПРМЖПУПГЦНВКБНРЕКИБШМЦХЙИАМФЛУЬЙИСЗРТЕС'''))\n",
    "\n",
    "t = 'ТЛБЛДУЭППТКЛФЧУВНУПБКЗИХТЛТТЫХНЛОИНУВЖММИНПФНПШОКЧЛЕРНТФНАХЖИДМЯКЛТУБЖИУЕЖЕАХЛГЩЕЕЪУВНГАХИЯШПЙАОЦЦПВТЛБФТТИИНДИДНЧЮОНЯОФВТЕАТФУШБЛРЮЮЧЖДРУУШГЕХУРПЧЕУВАЭУОЙБДБНОЛСКЦБСАОЦЦПВИШЮТППЦЧНЖОИНШВРЗЕЗКЗСБЮНЙРКПСЪЖФФШНЦЗРСЭШЦПЖСЙНГЭФФВЫМЖИЛРОЩСЗЮЙФШФДЖОИЗТРМООЙБНФГОЩЧФЖООКОФВЙСЭФЖУЬХИСЦЖГИЪЖДШПРМЖПУПГЦНВКБНРЕКИБШМЦХЙИАМФЛУЬЙИСЗРТЕС'\n",
    "\n",
    "''.join([i for i in ab if i.isalnum()])\n",
    "\n",
    "for i in range(8610, 1000000):\n",
    "    x = jarriquez_encryption(t, i, alphabet='АБВГДЕЖЗИЙКЛМНОПРСТУФХЦЧШЩЪЫЬЭЮЯ', reverse=True)\n",
    "    if 'АЛМАЗ' in x and 'ДАКОСТА' in x:\n",
    "        print(x, i, x.find('АЛМАЗ'), x.find('ДАКОСТА'))\n",
    "        break\n",
    " "
   ]
  },
  {
   "cell_type": "code",
   "execution_count": 37,
   "metadata": {},
   "outputs": [
    {
     "ename": "TypeError",
     "evalue": "'str' object does not support item assignment",
     "output_type": "error",
     "traceback": [
      "\u001b[1;31m---------------------------------------------------------------------------\u001b[0m",
      "\u001b[1;31mTypeError\u001b[0m                                 Traceback (most recent call last)",
      "\u001b[1;32m<ipython-input-37-f58914f3d1da>\u001b[0m in \u001b[0;36m<module>\u001b[1;34m\u001b[0m\n\u001b[0;32m      4\u001b[0m     \u001b[1;32mreturn\u001b[0m \u001b[1;34m''\u001b[0m\u001b[1;33m.\u001b[0m\u001b[0mjoin\u001b[0m\u001b[1;33m(\u001b[0m\u001b[1;33m[\u001b[0m\u001b[0mrandom\u001b[0m\u001b[1;33m.\u001b[0m\u001b[0mshuffle\u001b[0m\u001b[1;33m(\u001b[0m\u001b[0malphabet\u001b[0m\u001b[1;33m)\u001b[0m \u001b[1;32mfor\u001b[0m \u001b[0mi\u001b[0m \u001b[1;32min\u001b[0m \u001b[0malphabet\u001b[0m\u001b[1;33m]\u001b[0m\u001b[1;33m)\u001b[0m\u001b[1;33m\u001b[0m\u001b[1;33m\u001b[0m\u001b[0m\n\u001b[0;32m      5\u001b[0m \u001b[1;33m\u001b[0m\u001b[0m\n\u001b[1;32m----> 6\u001b[1;33m \u001b[0mdisc_generator\u001b[0m\u001b[1;33m(\u001b[0m\u001b[1;34m'ABCDEFGHIJKLMNOPQRSTUVWXYZ'\u001b[0m\u001b[1;33m)\u001b[0m\u001b[1;33m\u001b[0m\u001b[1;33m\u001b[0m\u001b[0m\n\u001b[0m\u001b[0;32m      7\u001b[0m \u001b[1;33m\u001b[0m\u001b[0m\n",
      "\u001b[1;32m<ipython-input-37-f58914f3d1da>\u001b[0m in \u001b[0;36mdisc_generator\u001b[1;34m(alphabet)\u001b[0m\n\u001b[0;32m      2\u001b[0m     \u001b[1;32mimport\u001b[0m \u001b[0mrandom\u001b[0m\u001b[1;33m\u001b[0m\u001b[1;33m\u001b[0m\u001b[0m\n\u001b[0;32m      3\u001b[0m     \u001b[0mrandom\u001b[0m\u001b[1;33m.\u001b[0m\u001b[0mseed\u001b[0m\u001b[1;33m(\u001b[0m\u001b[1;36m42\u001b[0m\u001b[1;33m)\u001b[0m\u001b[1;33m\u001b[0m\u001b[1;33m\u001b[0m\u001b[0m\n\u001b[1;32m----> 4\u001b[1;33m     \u001b[1;32mreturn\u001b[0m \u001b[1;34m''\u001b[0m\u001b[1;33m.\u001b[0m\u001b[0mjoin\u001b[0m\u001b[1;33m(\u001b[0m\u001b[1;33m[\u001b[0m\u001b[0mrandom\u001b[0m\u001b[1;33m.\u001b[0m\u001b[0mshuffle\u001b[0m\u001b[1;33m(\u001b[0m\u001b[0malphabet\u001b[0m\u001b[1;33m)\u001b[0m \u001b[1;32mfor\u001b[0m \u001b[0mi\u001b[0m \u001b[1;32min\u001b[0m \u001b[0malphabet\u001b[0m\u001b[1;33m]\u001b[0m\u001b[1;33m)\u001b[0m\u001b[1;33m\u001b[0m\u001b[1;33m\u001b[0m\u001b[0m\n\u001b[0m\u001b[0;32m      5\u001b[0m \u001b[1;33m\u001b[0m\u001b[0m\n\u001b[0;32m      6\u001b[0m \u001b[0mdisc_generator\u001b[0m\u001b[1;33m(\u001b[0m\u001b[1;34m'ABCDEFGHIJKLMNOPQRSTUVWXYZ'\u001b[0m\u001b[1;33m)\u001b[0m\u001b[1;33m\u001b[0m\u001b[1;33m\u001b[0m\u001b[0m\n",
      "\u001b[1;32m<ipython-input-37-f58914f3d1da>\u001b[0m in \u001b[0;36m<listcomp>\u001b[1;34m(.0)\u001b[0m\n\u001b[0;32m      2\u001b[0m     \u001b[1;32mimport\u001b[0m \u001b[0mrandom\u001b[0m\u001b[1;33m\u001b[0m\u001b[1;33m\u001b[0m\u001b[0m\n\u001b[0;32m      3\u001b[0m     \u001b[0mrandom\u001b[0m\u001b[1;33m.\u001b[0m\u001b[0mseed\u001b[0m\u001b[1;33m(\u001b[0m\u001b[1;36m42\u001b[0m\u001b[1;33m)\u001b[0m\u001b[1;33m\u001b[0m\u001b[1;33m\u001b[0m\u001b[0m\n\u001b[1;32m----> 4\u001b[1;33m     \u001b[1;32mreturn\u001b[0m \u001b[1;34m''\u001b[0m\u001b[1;33m.\u001b[0m\u001b[0mjoin\u001b[0m\u001b[1;33m(\u001b[0m\u001b[1;33m[\u001b[0m\u001b[0mrandom\u001b[0m\u001b[1;33m.\u001b[0m\u001b[0mshuffle\u001b[0m\u001b[1;33m(\u001b[0m\u001b[0malphabet\u001b[0m\u001b[1;33m)\u001b[0m \u001b[1;32mfor\u001b[0m \u001b[0mi\u001b[0m \u001b[1;32min\u001b[0m \u001b[0malphabet\u001b[0m\u001b[1;33m]\u001b[0m\u001b[1;33m)\u001b[0m\u001b[1;33m\u001b[0m\u001b[1;33m\u001b[0m\u001b[0m\n\u001b[0m\u001b[0;32m      5\u001b[0m \u001b[1;33m\u001b[0m\u001b[0m\n\u001b[0;32m      6\u001b[0m \u001b[0mdisc_generator\u001b[0m\u001b[1;33m(\u001b[0m\u001b[1;34m'ABCDEFGHIJKLMNOPQRSTUVWXYZ'\u001b[0m\u001b[1;33m)\u001b[0m\u001b[1;33m\u001b[0m\u001b[1;33m\u001b[0m\u001b[0m\n",
      "\u001b[1;32m~\\Anaconda3\\lib\\random.py\u001b[0m in \u001b[0;36mshuffle\u001b[1;34m(self, x, random)\u001b[0m\n\u001b[0;32m    276\u001b[0m                 \u001b[1;31m# pick an element in x[:i+1] with which to exchange x[i]\u001b[0m\u001b[1;33m\u001b[0m\u001b[1;33m\u001b[0m\u001b[1;33m\u001b[0m\u001b[0m\n\u001b[0;32m    277\u001b[0m                 \u001b[0mj\u001b[0m \u001b[1;33m=\u001b[0m \u001b[0mrandbelow\u001b[0m\u001b[1;33m(\u001b[0m\u001b[0mi\u001b[0m\u001b[1;33m+\u001b[0m\u001b[1;36m1\u001b[0m\u001b[1;33m)\u001b[0m\u001b[1;33m\u001b[0m\u001b[1;33m\u001b[0m\u001b[0m\n\u001b[1;32m--> 278\u001b[1;33m                 \u001b[0mx\u001b[0m\u001b[1;33m[\u001b[0m\u001b[0mi\u001b[0m\u001b[1;33m]\u001b[0m\u001b[1;33m,\u001b[0m \u001b[0mx\u001b[0m\u001b[1;33m[\u001b[0m\u001b[0mj\u001b[0m\u001b[1;33m]\u001b[0m \u001b[1;33m=\u001b[0m \u001b[0mx\u001b[0m\u001b[1;33m[\u001b[0m\u001b[0mj\u001b[0m\u001b[1;33m]\u001b[0m\u001b[1;33m,\u001b[0m \u001b[0mx\u001b[0m\u001b[1;33m[\u001b[0m\u001b[0mi\u001b[0m\u001b[1;33m]\u001b[0m\u001b[1;33m\u001b[0m\u001b[1;33m\u001b[0m\u001b[0m\n\u001b[0m\u001b[0;32m    279\u001b[0m         \u001b[1;32melse\u001b[0m\u001b[1;33m:\u001b[0m\u001b[1;33m\u001b[0m\u001b[1;33m\u001b[0m\u001b[0m\n\u001b[0;32m    280\u001b[0m             \u001b[0m_int\u001b[0m \u001b[1;33m=\u001b[0m \u001b[0mint\u001b[0m\u001b[1;33m\u001b[0m\u001b[1;33m\u001b[0m\u001b[0m\n",
      "\u001b[1;31mTypeError\u001b[0m: 'str' object does not support item assignment"
     ]
    }
   ],
   "source": [
    "def disc_generator(alphabet):\n",
    "    import random\n",
    "    random.seed(42)\n",
    "    return ''.join([random.shuffle(alphabet) for i in alphabet])\n",
    "\n",
    "disc_generator('ABCDEFGHIJKLMNOPQRSTUVWXYZ')\n",
    "    "
   ]
  },
  {
   "cell_type": "code",
   "execution_count": 38,
   "metadata": {},
   "outputs": [],
   "source": [
    "import random\n",
    "random.seed(42)\n",
    "x = list('ABCDEFGHIJKLMNOPQRSTUVWXYZ')\n",
    "random.shuffle(x)\n",
    "x\n",
    "\n",
    "def disc_generator(alphabet):\n",
    "    import random  \n",
    "    x = list(alphabet)\n",
    "    random.shuffle(x)\n",
    "    return ''.join(x)\n",
    "\n",
    "\n"
   ]
  },
  {
   "cell_type": "code",
   "execution_count": 39,
   "metadata": {},
   "outputs": [
    {
     "data": {
      "text/plain": [
       "['QMJZTGFKPWLSBOXNCRYEVHIADU',\n",
       " 'CVMHTPQXZJLWORBDUGEYKNFAIS',\n",
       " 'AMPKIXVFQEWODNZYHBCGSLTUJR',\n",
       " 'NMPJZSBAQDILKEGOYHRFXTCUVW',\n",
       " 'JHANFBRXVQYTLDCIEOMPUZKWSG',\n",
       " 'ZHJLSWGXQBKAPYIORMCTNVFUED']"
      ]
     },
     "execution_count": 39,
     "metadata": {},
     "output_type": "execute_result"
    }
   ],
   "source": [
    "random.seed(42)\n",
    "clear_alphabet = 'ABCDEFGHIJKLMNOPQRSTUVWXYZ'\n",
    "n = 6\n",
    "discs = [disc_generator(clear_alphabet) for i in range(n)]\n",
    "discs"
   ]
  },
  {
   "cell_type": "code",
   "execution_count": 59,
   "metadata": {},
   "outputs": [],
   "source": [
    "def gen_number(disks):\n",
    "    for i in range(len(disks[0])):\n",
    "        for j in range(len(disks)):\n",
    "            yield j\n",
    "\n",
    "\n",
    "def jefferson_encryption(text, discs, step, reverse=False):\n",
    "    text = [i.upper() for i in text if i.isalnum()]\n",
    "    arr = []\n",
    "    if reverse:\n",
    "        step = -step\n",
    "    ab = iter([i for i in gen_number(discs)])    \n",
    "    for letter in text:      \n",
    "        arr.append(caesar(text=letter, key=step, alphabet = discs[next(ab)], flag=True))\n",
    "    return ''.join(arr)    \n",
    "    "
   ]
  },
  {
   "cell_type": "code",
   "execution_count": 60,
   "metadata": {},
   "outputs": [
    {
     "data": {
      "text/plain": [
       "'NUXHUEVGQBIJJZNVI'"
      ]
     },
     "execution_count": 60,
     "metadata": {},
     "output_type": "execute_result"
    }
   ],
   "source": [
    "jefferson_encryption('Some encripted text', discs, step=4)"
   ]
  },
  {
   "cell_type": "code",
   "execution_count": 8,
   "metadata": {},
   "outputs": [
    {
     "data": {
      "text/plain": [
       "'8;4‡)*56(1†092:3?¶-.'"
      ]
     },
     "execution_count": 8,
     "metadata": {},
     "output_type": "execute_result"
    }
   ],
   "source": [
    "\n",
    "letters = 'e\tt\th\to\ts\tn\ta\ti\tr\tf\td\tl\tm\tb\ty\tg\tu\tv\tc\tp'.split('\\t')\n",
    "symbols = '8\t;\t4\t‡\t)\t*\t5\t6\t(\t1\t†\t0\t9\t2\t:\t3\t?\t¶\t-\t.'.split('\\t')\n",
    "dct = dict(zip(letters, symbols))\n",
    "\n",
    "def kidds_encryption(text, reverse=False, dct=dct):\n",
    "    text = text.lower()\n",
    "    arr = []\n",
    "    dct2 = dict(zip(dct.values(), dct.keys()))\n",
    "    if not reverse:\n",
    "        return ''.join([dct[letter] for letter in text if letter in dct.keys()])\n",
    "    else:\n",
    "        return ''.join([dct2[letter] for letter in text if letter in dct2.keys()])\n",
    "\n",
    "kidds_encryption('ethosnairfdlmbyguvcp')"
   ]
  },
  {
   "cell_type": "code",
   "execution_count": 9,
   "metadata": {},
   "outputs": [
    {
     "data": {
      "text/plain": [
       "0.23333333333333334"
      ]
     },
     "execution_count": 9,
     "metadata": {},
     "output_type": "execute_result"
    }
   ],
   "source": [
    "3/5 * 1 / 3 * 2 / 3 + 2 / 5 *1 / 2 * 1 / 2"
   ]
  },
  {
   "cell_type": "code",
   "execution_count": 10,
   "metadata": {},
   "outputs": [
    {
     "data": {
      "text/plain": [
       "0.24000000000000005"
      ]
     },
     "execution_count": 10,
     "metadata": {},
     "output_type": "execute_result"
    }
   ],
   "source": [
    "2 / 5 * 3 / 5"
   ]
  },
  {
   "cell_type": "code",
   "execution_count": 11,
   "metadata": {},
   "outputs": [
    {
     "data": {
      "text/plain": [
       "1.0"
      ]
     },
     "execution_count": 11,
     "metadata": {},
     "output_type": "execute_result"
    }
   ],
   "source": [
    "3 / 5 + 2 / 5"
   ]
  },
  {
   "cell_type": "code",
   "execution_count": 2,
   "metadata": {},
   "outputs": [],
   "source": [
    "import pandas as pd\n",
    "from difflib import get_close_matches\n",
    "\n",
    "data = pd.read_excel(r'C:\\Users\\AmanovRA\\Текущее\\Занятие_Войт\\РЦ_стат.xlsx')"
   ]
  },
  {
   "cell_type": "code",
   "execution_count": 8,
   "metadata": {},
   "outputs": [],
   "source": [
    "zav = set(data[data['Наименование услуги'].str.contains('зав.отд.')]['Наименование услуги'].to_list())"
   ]
  },
  {
   "cell_type": "code",
   "execution_count": 14,
   "metadata": {},
   "outputs": [],
   "source": [
    "dct = {}\n",
    "for service in zav:\n",
    "    dct.setdefault(service, get_close_matches(service, data['Наименование услуги'].to_list(),n=10, cutoff=0.9))\n"
   ]
  },
  {
   "cell_type": "code",
   "execution_count": 16,
   "metadata": {},
   "outputs": [
    {
     "data": {
      "text/plain": [
       "{'Консультация врача - невролога, зав.отд., вед.спец-та первичная в амбулатории',\n",
       " 'Консультация врача - невролога, зав.отд., вед.спец-та повторная в амбулатории',\n",
       " 'Консультация врача - травматолога, зав.отд., вед.спец-та повторная в амбулатории'}"
      ]
     },
     "execution_count": 16,
     "metadata": {},
     "output_type": "execute_result"
    }
   ],
   "source": [
    "zav"
   ]
  },
  {
   "cell_type": "code",
   "execution_count": 17,
   "metadata": {},
   "outputs": [
    {
     "data": {
      "text/html": [
       "<div>\n",
       "<style scoped>\n",
       "    .dataframe tbody tr th:only-of-type {\n",
       "        vertical-align: middle;\n",
       "    }\n",
       "\n",
       "    .dataframe tbody tr th {\n",
       "        vertical-align: top;\n",
       "    }\n",
       "\n",
       "    .dataframe thead th {\n",
       "        text-align: right;\n",
       "    }\n",
       "</style>\n",
       "<table border=\"1\" class=\"dataframe\">\n",
       "  <thead>\n",
       "    <tr style=\"text-align: right;\">\n",
       "      <th></th>\n",
       "      <th>Код услуги</th>\n",
       "      <th>Наименование услуги</th>\n",
       "      <th>Категория крупно</th>\n",
       "      <th>Категория очень крупно</th>\n",
       "      <th>Sum([Количество])</th>\n",
       "    </tr>\n",
       "  </thead>\n",
       "  <tbody>\n",
       "    <tr>\n",
       "      <th>41</th>\n",
       "      <td>290.00004</td>\n",
       "      <td>Консультация врача - травматолога, зав.отд., в...</td>\n",
       "      <td>консультации повторные</td>\n",
       "      <td>услуга</td>\n",
       "      <td>1</td>\n",
       "    </tr>\n",
       "  </tbody>\n",
       "</table>\n",
       "</div>"
      ],
      "text/plain": [
       "    Код услуги                                Наименование услуги  \\\n",
       "41   290.00004  Консультация врача - травматолога, зав.отд., в...   \n",
       "\n",
       "          Категория крупно Категория очень крупно  Sum([Количество])  \n",
       "41  консультации повторные                 услуга                  1  "
      ]
     },
     "execution_count": 17,
     "metadata": {},
     "output_type": "execute_result"
    }
   ],
   "source": [
    "data[data['Наименование услуги'] == 'Консультация врача - травматолога, зав.отд., вед.спец-та повторная в амбулатории']"
   ]
  },
  {
   "cell_type": "code",
   "execution_count": 6,
   "metadata": {},
   "outputs": [
    {
     "data": {
      "text/plain": [
       "[1, 1, 1, 2, 2, 3]"
      ]
     },
     "execution_count": 6,
     "metadata": {},
     "output_type": "execute_result"
    }
   ],
   "source": [
    "import numpy as np\n",
    "\n",
    "c = [1, np.NaN, np.NaN, 2, np.NaN, 1]\n",
    "def fill(lst):\n",
    "    arr = []\n",
    "    cnt = 1\n",
    "    for i, j in enumerate(lst):\n",
    "        if i == 0:\n",
    "            arr.append(1)\n",
    "            continue\n",
    "        if np.isnan(j):\n",
    "            arr.append(cnt)\n",
    "        else:\n",
    "            cnt += 1\n",
    "            arr.append(cnt)\n",
    "    return arr        \n",
    "\n",
    "\n",
    "fill(c)"
   ]
  },
  {
   "cell_type": "code",
   "execution_count": 7,
   "metadata": {},
   "outputs": [
    {
     "data": {
      "text/plain": [
       "[1, 1, 1, 2, 2, 3]"
      ]
     },
     "execution_count": 7,
     "metadata": {},
     "output_type": "execute_result"
    }
   ],
   "source": [
    "c = [1, np.NaN, np.NaN, 2, np.NaN, 1]\n",
    "def fill(lst):\n",
    "    arr = []\n",
    "    cnt = 1\n",
    "    for i, j in enumerate(lst):\n",
    "        if i == 0:\n",
    "            arr.append(1)\n",
    "            continue\n",
    "        if np.isnan(j):\n",
    "            arr.append(cnt)\n",
    "        else:\n",
    "            cnt += 1\n",
    "            arr.append(cnt)\n",
    "    return arr        \n",
    "\n",
    "\n",
    "fill(c)"
   ]
  },
  {
   "cell_type": "code",
   "execution_count": null,
   "metadata": {},
   "outputs": [],
   "source": []
  }
 ],
 "metadata": {
  "kernelspec": {
   "display_name": "Python 3",
   "language": "python",
   "name": "python3"
  },
  "language_info": {
   "codemirror_mode": {
    "name": "ipython",
    "version": 3
   },
   "file_extension": ".py",
   "mimetype": "text/x-python",
   "name": "python",
   "nbconvert_exporter": "python",
   "pygments_lexer": "ipython3",
   "version": "3.7.6"
  }
 },
 "nbformat": 4,
 "nbformat_minor": 4
}
