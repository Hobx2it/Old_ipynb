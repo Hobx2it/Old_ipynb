{
 "cells": [
  {
   "cell_type": "code",
   "execution_count": 7,
   "metadata": {},
   "outputs": [],
   "source": [
    "\n",
    "\n",
    "def sort_by_ext(lst):\n",
    "    import re\n",
    "    pattern1 = r'^\\.[^\\.]+'\n",
    "    pattern2 = r'[^\\.]+\\.$'\n",
    "    names = []\n",
    "    extensions = []\n",
    "    for word in lst:\n",
    "        if (re.match(pattern1, word) or re.match(pattern2, word)) and word.count('.') == 1:\n",
    "            names.append(word)\n",
    "        else:\n",
    "            extensions.append(word)\n",
    "    names.sort()\n",
    "    extensions.sort(key=lambda x: x.split('.')[-1])\n",
    "    return names + extensions\n"
   ]
  },
  {
   "cell_type": "code",
   "execution_count": 10,
   "metadata": {},
   "outputs": [
    {
     "data": {
      "text/plain": [
       "True"
      ]
     },
     "execution_count": 10,
     "metadata": {},
     "output_type": "execute_result"
    }
   ],
   "source": [
    "sort_by_ext(['1.cad', '1.bat', '1.aa', '.bat']) == ['.bat', '1.aa', '1.bat', '1.cad']"
   ]
  },
  {
   "cell_type": "code",
   "execution_count": 3,
   "metadata": {},
   "outputs": [
    {
     "data": {
      "text/plain": [
       "3"
      ]
     },
     "execution_count": 3,
     "metadata": {},
     "output_type": "execute_result"
    }
   ],
   "source": [
    "def count_neighbours(grid, row, col):\n",
    "    place = [-1, 0, 1]\n",
    "    cnt = 0\n",
    "    for i in place:\n",
    "        for j in place:\n",
    "            if i == 0 and j == 0:\n",
    "                continue\n",
    "            else:    \n",
    "                try:\n",
    "                    if row + i == -1 or col + j == -1:\n",
    "                        continue\n",
    "                    else:    \n",
    "                        cnt += grid[row + i][col + j]\n",
    "                except:\n",
    "                    continue\n",
    "                        \n",
    "    return cnt  \n",
    "\n",
    "count_neighbours([[1,1,1],[1,1,1],[1,1,1]],0,2)"
   ]
  },
  {
   "cell_type": "code",
   "execution_count": 30,
   "metadata": {},
   "outputs": [
    {
     "data": {
      "text/plain": [
       "1"
      ]
     },
     "execution_count": 30,
     "metadata": {},
     "output_type": "execute_result"
    }
   ],
   "source": [
    "import datetime\n",
    "import calendar\n",
    "from functools import reduce\n",
    "\n",
    "def checkio(year):\n",
    "    cnt = 0\n",
    "    return len(list(filter(lambda n: n.day == 13 and n.isoweekday() == 5, reduce(lambda c, v: c + v, [reduce(lambda a, b: a + b, [list(filter(lambda x: x.year == year, i)) for i in calendar.Calendar(firstweekday=1).monthdatescalendar(year=year, month=j)]) for j in range(1, 13)]))))\n",
    "    \n",
    "checkio(1986)    \n",
    "\n",
    "# calendar.Calendar(firstweekday=1).monthdatescalendar(year=2002, month=10)"
   ]
  },
  {
   "cell_type": "code",
   "execution_count": null,
   "metadata": {},
   "outputs": [],
   "source": [
    "checkio(2015) == 3, \"First - 2015\"\n",
    "checkio(1986) == 1, \"Second - 1986\""
   ]
  },
  {
   "cell_type": "code",
   "execution_count": 13,
   "metadata": {},
   "outputs": [
    {
     "data": {
      "text/plain": [
       "7"
      ]
     },
     "execution_count": 13,
     "metadata": {},
     "output_type": "execute_result"
    }
   ],
   "source": [
    " datetime.date(2002, 10, 6).isoweekday()"
   ]
  },
  {
   "cell_type": "code",
   "execution_count": 47,
   "metadata": {},
   "outputs": [],
   "source": [
    "import os\n",
    "import pandas as pd"
   ]
  },
  {
   "cell_type": "code",
   "execution_count": 50,
   "metadata": {},
   "outputs": [],
   "source": [
    "zapis = pd.DataFrame()\n",
    "nezapis = pd.DataFrame()\n",
    "os.chdir(r'C:\\Users\\AmanovRA\\Текущее\\Лиды_апрель_май\\Записаны')\n",
    "for file in os.listdir('.'):\n",
    "    xl = pd.ExcelFile(file)\n",
    "    for i in xl.sheet_names:\n",
    "        if 'не' not in i.lower():\n",
    "            temp_table = pd.read_excel(file, sheet_name=i, header=None)\n",
    "            temp_table['Файл'] = [file for j in range(temp_table.shape[0])]\n",
    "            zapis = zapis.append(temp_table, ignore_index=True)\n",
    "        else:\n",
    "            temp_table = pd.read_excel(file, sheet_name=i, header=None)\n",
    "            temp_table['Файл'] = [file for j in range(temp_table.shape[0])]\n",
    "            nezapis = nezapis.append(temp_table, ignore_index=True)"
   ]
  },
  {
   "cell_type": "code",
   "execution_count": 51,
   "metadata": {},
   "outputs": [],
   "source": [
    "zapis.to_excel('Zapis.xlsx', sheet_name='Запись')\n",
    "nezapis.to_excel('neZapis.xlsx', sheet_name='Не запись')"
   ]
  },
  {
   "cell_type": "code",
   "execution_count": 21,
   "metadata": {},
   "outputs": [
    {
     "data": {
      "text/plain": [
       "True"
      ]
     },
     "execution_count": 21,
     "metadata": {},
     "output_type": "execute_result"
    }
   ],
   "source": [
    "def vacation(date, days):\n",
    "    import datetime\n",
    "    end_date = datetime.datetime.strptime(date, '%Y-%m-%d') + datetime.timedelta(days)\n",
    "    while end_date.isoweekday() not in range(1, 6):\n",
    "        end_date += datetime.timedelta(1)\n",
    "    return end_date.strftime('%Y-%m-%d')    \n",
    "  \n",
    "    "
   ]
  },
  {
   "cell_type": "code",
   "execution_count": 66,
   "metadata": {},
   "outputs": [],
   "source": [
    "import pandas as pd\n",
    "\n",
    "data = pd.read_excel(r'R:\\AmanovRA\\a714bb5a-2f5c-48b9-9049-e1a228bbff03.xlsx')"
   ]
  },
  {
   "cell_type": "code",
   "execution_count": 67,
   "metadata": {},
   "outputs": [
    {
     "data": {
      "text/html": [
       "<div>\n",
       "<style scoped>\n",
       "    .dataframe tbody tr th:only-of-type {\n",
       "        vertical-align: middle;\n",
       "    }\n",
       "\n",
       "    .dataframe tbody tr th {\n",
       "        vertical-align: top;\n",
       "    }\n",
       "\n",
       "    .dataframe thead th {\n",
       "        text-align: right;\n",
       "    }\n",
       "</style>\n",
       "<table border=\"1\" class=\"dataframe\">\n",
       "  <thead>\n",
       "    <tr style=\"text-align: right;\">\n",
       "      <th></th>\n",
       "      <th>Номер карты</th>\n",
       "      <th>Пациент</th>\n",
       "      <th>Телефон мобильный</th>\n",
       "      <th>Филиал</th>\n",
       "      <th>Дата рождения</th>\n",
       "      <th>Ф_Полный адрес</th>\n",
       "      <th>Р_Район</th>\n",
       "      <th>Р_МО</th>\n",
       "      <th>Дата приема</th>\n",
       "    </tr>\n",
       "  </thead>\n",
       "  <tbody>\n",
       "    <tr>\n",
       "      <th>0</th>\n",
       "      <td>120010433{дублирование карт}</td>\n",
       "      <td>Котова Полина Николаевна</td>\n",
       "      <td>+7(911)764-04-88</td>\n",
       "      <td>Б.С. 45</td>\n",
       "      <td>1996-06-14 00:00:00</td>\n",
       "      <td>-</td>\n",
       "      <td></td>\n",
       "      <td>Пороховые</td>\n",
       "      <td>2017-06-20</td>\n",
       "    </tr>\n",
       "    <tr>\n",
       "      <th>1</th>\n",
       "      <td>120010433{дублирование карт}</td>\n",
       "      <td>Котова Полина Николаевна</td>\n",
       "      <td>+7(911)764-04-88</td>\n",
       "      <td>Кос. 34к1</td>\n",
       "      <td>1996-06-14 00:00:00</td>\n",
       "      <td>-</td>\n",
       "      <td></td>\n",
       "      <td>Пороховые</td>\n",
       "      <td>2017-02-23</td>\n",
       "    </tr>\n",
       "    <tr>\n",
       "      <th>2</th>\n",
       "      <td>120010433{дублирование карт}</td>\n",
       "      <td>Котова Полина Николаевна</td>\n",
       "      <td>+7(911)764-04-88</td>\n",
       "      <td>Кос. 34к1</td>\n",
       "      <td>1996-06-14 00:00:00</td>\n",
       "      <td>-</td>\n",
       "      <td></td>\n",
       "      <td>Пороховые</td>\n",
       "      <td>2017-03-19</td>\n",
       "    </tr>\n",
       "    <tr>\n",
       "      <th>3</th>\n",
       "      <td>120010433{дублирование карт}</td>\n",
       "      <td>Котова Полина Николаевна</td>\n",
       "      <td>+7(911)764-04-88</td>\n",
       "      <td>Кос. 34к1</td>\n",
       "      <td>1996-06-14 00:00:00</td>\n",
       "      <td>-</td>\n",
       "      <td></td>\n",
       "      <td>Пороховые</td>\n",
       "      <td>2017-03-23</td>\n",
       "    </tr>\n",
       "    <tr>\n",
       "      <th>4</th>\n",
       "      <td>120010433{дублирование карт}</td>\n",
       "      <td>Котова Полина Николаевна</td>\n",
       "      <td>+7(911)764-04-88</td>\n",
       "      <td>Кос. 34к1</td>\n",
       "      <td>1996-06-14 00:00:00</td>\n",
       "      <td>-</td>\n",
       "      <td></td>\n",
       "      <td>Пороховые</td>\n",
       "      <td>2017-08-10</td>\n",
       "    </tr>\n",
       "    <tr>\n",
       "      <th>...</th>\n",
       "      <td>...</td>\n",
       "      <td>...</td>\n",
       "      <td>...</td>\n",
       "      <td>...</td>\n",
       "      <td>...</td>\n",
       "      <td>...</td>\n",
       "      <td>...</td>\n",
       "      <td>...</td>\n",
       "      <td>...</td>\n",
       "    </tr>\n",
       "    <tr>\n",
       "      <th>1048560</th>\n",
       "      <td>120171028</td>\n",
       "      <td>Ануфриева Софья Ярославовна</td>\n",
       "      <td>+7(921)323-81-20</td>\n",
       "      <td>Богатыр 49к1</td>\n",
       "      <td>2013-07-12 00:00:00</td>\n",
       "      <td>-</td>\n",
       "      <td></td>\n",
       "      <td>-</td>\n",
       "      <td>2018-08-20</td>\n",
       "    </tr>\n",
       "    <tr>\n",
       "      <th>1048561</th>\n",
       "      <td>120171028</td>\n",
       "      <td>Ануфриева Софья Ярославовна</td>\n",
       "      <td>+7(921)323-81-20</td>\n",
       "      <td>Богатыр 49к1</td>\n",
       "      <td>2013-07-12 00:00:00</td>\n",
       "      <td>-</td>\n",
       "      <td></td>\n",
       "      <td>-</td>\n",
       "      <td>2018-12-21</td>\n",
       "    </tr>\n",
       "    <tr>\n",
       "      <th>1048562</th>\n",
       "      <td>120171028</td>\n",
       "      <td>Ануфриева Софья Ярославовна</td>\n",
       "      <td>+7(921)323-81-20</td>\n",
       "      <td>Колом. 28</td>\n",
       "      <td>2013-07-12 00:00:00</td>\n",
       "      <td>-</td>\n",
       "      <td></td>\n",
       "      <td>-</td>\n",
       "      <td>2017-08-21</td>\n",
       "    </tr>\n",
       "    <tr>\n",
       "      <th>1048563</th>\n",
       "      <td>120171028</td>\n",
       "      <td>Ануфриева Софья Ярославовна</td>\n",
       "      <td>+7(921)323-81-20</td>\n",
       "      <td>Колом. 28</td>\n",
       "      <td>2013-07-12 00:00:00</td>\n",
       "      <td>-</td>\n",
       "      <td></td>\n",
       "      <td>-</td>\n",
       "      <td>2017-08-22</td>\n",
       "    </tr>\n",
       "    <tr>\n",
       "      <th>1048564</th>\n",
       "      <td>120171028</td>\n",
       "      <td>Ануфриева Софья Ярославовна</td>\n",
       "      <td>+7(921)323-81-20</td>\n",
       "      <td>Колом. 28</td>\n",
       "      <td>2013-07-12 00:00:00</td>\n",
       "      <td>-</td>\n",
       "      <td></td>\n",
       "      <td>-</td>\n",
       "      <td>2017-09-06</td>\n",
       "    </tr>\n",
       "  </tbody>\n",
       "</table>\n",
       "<p>1048565 rows × 9 columns</p>\n",
       "</div>"
      ],
      "text/plain": [
       "                          Номер карты                      Пациент  \\\n",
       "0        120010433{дублирование карт}     Котова Полина Николаевна   \n",
       "1        120010433{дублирование карт}     Котова Полина Николаевна   \n",
       "2        120010433{дублирование карт}     Котова Полина Николаевна   \n",
       "3        120010433{дублирование карт}     Котова Полина Николаевна   \n",
       "4        120010433{дублирование карт}     Котова Полина Николаевна   \n",
       "...                               ...                          ...   \n",
       "1048560                     120171028  Ануфриева Софья Ярославовна   \n",
       "1048561                     120171028  Ануфриева Софья Ярославовна   \n",
       "1048562                     120171028  Ануфриева Софья Ярославовна   \n",
       "1048563                     120171028  Ануфриева Софья Ярославовна   \n",
       "1048564                     120171028  Ануфриева Софья Ярославовна   \n",
       "\n",
       "        Телефон мобильный        Филиал        Дата рождения Ф_Полный адрес  \\\n",
       "0        +7(911)764-04-88       Б.С. 45  1996-06-14 00:00:00              -   \n",
       "1        +7(911)764-04-88     Кос. 34к1  1996-06-14 00:00:00              -   \n",
       "2        +7(911)764-04-88     Кос. 34к1  1996-06-14 00:00:00              -   \n",
       "3        +7(911)764-04-88     Кос. 34к1  1996-06-14 00:00:00              -   \n",
       "4        +7(911)764-04-88     Кос. 34к1  1996-06-14 00:00:00              -   \n",
       "...                   ...           ...                  ...            ...   \n",
       "1048560  +7(921)323-81-20  Богатыр 49к1  2013-07-12 00:00:00              -   \n",
       "1048561  +7(921)323-81-20  Богатыр 49к1  2013-07-12 00:00:00              -   \n",
       "1048562  +7(921)323-81-20     Колом. 28  2013-07-12 00:00:00              -   \n",
       "1048563  +7(921)323-81-20     Колом. 28  2013-07-12 00:00:00              -   \n",
       "1048564  +7(921)323-81-20     Колом. 28  2013-07-12 00:00:00              -   \n",
       "\n",
       "        Р_Район       Р_МО Дата приема  \n",
       "0                Пороховые  2017-06-20  \n",
       "1                Пороховые  2017-02-23  \n",
       "2                Пороховые  2017-03-19  \n",
       "3                Пороховые  2017-03-23  \n",
       "4                Пороховые  2017-08-10  \n",
       "...         ...        ...         ...  \n",
       "1048560                  -  2018-08-20  \n",
       "1048561                  -  2018-12-21  \n",
       "1048562                  -  2017-08-21  \n",
       "1048563                  -  2017-08-22  \n",
       "1048564                  -  2017-09-06  \n",
       "\n",
       "[1048565 rows x 9 columns]"
      ]
     },
     "execution_count": 67,
     "metadata": {},
     "output_type": "execute_result"
    }
   ],
   "source": [
    "data"
   ]
  },
  {
   "cell_type": "code",
   "execution_count": 63,
   "metadata": {},
   "outputs": [],
   "source": [
    "import matplotlib.pyplot as plt\n",
    "%matplotlib inline\n",
    "plt.style.use('ggplot')  # Красивые графики\n",
    "plt.rcParams['figure.figsize'] = (15, 10)  # Размер картинок"
   ]
  },
  {
   "cell_type": "code",
   "execution_count": 90,
   "metadata": {},
   "outputs": [],
   "source": [
    "group_mo = data[data['Р_МО'] != '-'].groupby(['Филиал', 'Р_МО'], as_index=False).count().sort_values('Филиал')"
   ]
  },
  {
   "cell_type": "code",
   "execution_count": 108,
   "metadata": {},
   "outputs": [
    {
     "data": {
      "text/html": [
       "<div>\n",
       "<style scoped>\n",
       "    .dataframe tbody tr th:only-of-type {\n",
       "        vertical-align: middle;\n",
       "    }\n",
       "\n",
       "    .dataframe tbody tr th {\n",
       "        vertical-align: top;\n",
       "    }\n",
       "\n",
       "    .dataframe thead th {\n",
       "        text-align: right;\n",
       "    }\n",
       "</style>\n",
       "<table border=\"1\" class=\"dataframe\">\n",
       "  <thead>\n",
       "    <tr style=\"text-align: right;\">\n",
       "      <th></th>\n",
       "      <th>Филиал</th>\n",
       "      <th>Р_МО</th>\n",
       "      <th>Номер карты</th>\n",
       "      <th>Пациент</th>\n",
       "      <th>Телефон мобильный</th>\n",
       "      <th>Дата рождения</th>\n",
       "      <th>Ф_Полный адрес</th>\n",
       "      <th>Р_Район</th>\n",
       "      <th>Дата приема</th>\n",
       "    </tr>\n",
       "  </thead>\n",
       "  <tbody>\n",
       "    <tr>\n",
       "      <th>1750</th>\n",
       "      <td>Жукова 18</td>\n",
       "      <td>Северный</td>\n",
       "      <td>13</td>\n",
       "      <td>13</td>\n",
       "      <td>13</td>\n",
       "      <td>13</td>\n",
       "      <td>13</td>\n",
       "      <td>13</td>\n",
       "      <td>13</td>\n",
       "    </tr>\n",
       "    <tr>\n",
       "      <th>1749</th>\n",
       "      <td>Жукова 18</td>\n",
       "      <td>Светогорск</td>\n",
       "      <td>1</td>\n",
       "      <td>1</td>\n",
       "      <td>1</td>\n",
       "      <td>1</td>\n",
       "      <td>1</td>\n",
       "      <td>1</td>\n",
       "      <td>1</td>\n",
       "    </tr>\n",
       "    <tr>\n",
       "      <th>1748</th>\n",
       "      <td>Жукова 18</td>\n",
       "      <td>Светлановское</td>\n",
       "      <td>32</td>\n",
       "      <td>32</td>\n",
       "      <td>32</td>\n",
       "      <td>32</td>\n",
       "      <td>32</td>\n",
       "      <td>32</td>\n",
       "      <td>32</td>\n",
       "    </tr>\n",
       "    <tr>\n",
       "      <th>1751</th>\n",
       "      <td>Жукова 18</td>\n",
       "      <td>Сенной</td>\n",
       "      <td>2</td>\n",
       "      <td>2</td>\n",
       "      <td>2</td>\n",
       "      <td>2</td>\n",
       "      <td>2</td>\n",
       "      <td>2</td>\n",
       "      <td>2</td>\n",
       "    </tr>\n",
       "    <tr>\n",
       "      <th>1746</th>\n",
       "      <td>Жукова 18</td>\n",
       "      <td>Рыбацкое</td>\n",
       "      <td>5</td>\n",
       "      <td>5</td>\n",
       "      <td>5</td>\n",
       "      <td>5</td>\n",
       "      <td>5</td>\n",
       "      <td>5</td>\n",
       "      <td>5</td>\n",
       "    </tr>\n",
       "    <tr>\n",
       "      <th>...</th>\n",
       "      <td>...</td>\n",
       "      <td>...</td>\n",
       "      <td>...</td>\n",
       "      <td>...</td>\n",
       "      <td>...</td>\n",
       "      <td>...</td>\n",
       "      <td>...</td>\n",
       "      <td>...</td>\n",
       "      <td>...</td>\n",
       "    </tr>\n",
       "    <tr>\n",
       "      <th>1704</th>\n",
       "      <td>Жукова 18</td>\n",
       "      <td>Дворцовый</td>\n",
       "      <td>3</td>\n",
       "      <td>3</td>\n",
       "      <td>3</td>\n",
       "      <td>3</td>\n",
       "      <td>3</td>\n",
       "      <td>3</td>\n",
       "      <td>3</td>\n",
       "    </tr>\n",
       "    <tr>\n",
       "      <th>1705</th>\n",
       "      <td>Жукова 18</td>\n",
       "      <td>Дубровка</td>\n",
       "      <td>1</td>\n",
       "      <td>1</td>\n",
       "      <td>1</td>\n",
       "      <td>1</td>\n",
       "      <td>1</td>\n",
       "      <td>1</td>\n",
       "      <td>1</td>\n",
       "    </tr>\n",
       "    <tr>\n",
       "      <th>1706</th>\n",
       "      <td>Жукова 18</td>\n",
       "      <td>Звездное</td>\n",
       "      <td>11</td>\n",
       "      <td>11</td>\n",
       "      <td>11</td>\n",
       "      <td>11</td>\n",
       "      <td>11</td>\n",
       "      <td>11</td>\n",
       "      <td>11</td>\n",
       "    </tr>\n",
       "    <tr>\n",
       "      <th>1701</th>\n",
       "      <td>Жукова 18</td>\n",
       "      <td>Гатчина</td>\n",
       "      <td>1</td>\n",
       "      <td>1</td>\n",
       "      <td>1</td>\n",
       "      <td>1</td>\n",
       "      <td>1</td>\n",
       "      <td>1</td>\n",
       "      <td>1</td>\n",
       "    </tr>\n",
       "    <tr>\n",
       "      <th>1695</th>\n",
       "      <td>Жукова 18</td>\n",
       "      <td>Владимирский</td>\n",
       "      <td>8</td>\n",
       "      <td>8</td>\n",
       "      <td>8</td>\n",
       "      <td>8</td>\n",
       "      <td>8</td>\n",
       "      <td>8</td>\n",
       "      <td>8</td>\n",
       "    </tr>\n",
       "  </tbody>\n",
       "</table>\n",
       "<p>121 rows × 9 columns</p>\n",
       "</div>"
      ],
      "text/plain": [
       "         Филиал           Р_МО  Номер карты  Пациент  Телефон мобильный  \\\n",
       "1750  Жукова 18       Северный           13       13                 13   \n",
       "1749  Жукова 18     Светогорск            1        1                  1   \n",
       "1748  Жукова 18  Светлановское           32       32                 32   \n",
       "1751  Жукова 18         Сенной            2        2                  2   \n",
       "1746  Жукова 18       Рыбацкое            5        5                  5   \n",
       "...         ...            ...          ...      ...                ...   \n",
       "1704  Жукова 18      Дворцовый            3        3                  3   \n",
       "1705  Жукова 18       Дубровка            1        1                  1   \n",
       "1706  Жукова 18       Звездное           11       11                 11   \n",
       "1701  Жукова 18        Гатчина            1        1                  1   \n",
       "1695  Жукова 18   Владимирский            8        8                  8   \n",
       "\n",
       "      Дата рождения  Ф_Полный адрес  Р_Район  Дата приема  \n",
       "1750             13              13       13           13  \n",
       "1749              1               1        1            1  \n",
       "1748             32              32       32           32  \n",
       "1751              2               2        2            2  \n",
       "1746              5               5        5            5  \n",
       "...             ...             ...      ...          ...  \n",
       "1704              3               3        3            3  \n",
       "1705              1               1        1            1  \n",
       "1706             11              11       11           11  \n",
       "1701              1               1        1            1  \n",
       "1695              8               8        8            8  \n",
       "\n",
       "[121 rows x 9 columns]"
      ]
     },
     "execution_count": 108,
     "metadata": {},
     "output_type": "execute_result"
    }
   ],
   "source": [
    "group_mo[group_mo['Филиал']=='Жукова 18']"
   ]
  },
  {
   "cell_type": "code",
   "execution_count": 138,
   "metadata": {},
   "outputs": [
    {
     "name": "stdout",
     "output_type": "stream",
     "text": [
      "Гаврил.11\n",
      "8.641975\n",
      "Кос. 34к1\n",
      "14.540816\n",
      "Гарьк. 15к3\n",
      "20.545455\n",
      "Колл. 6к1\n",
      "20.979021\n",
      "ЦАХ\n",
      "5.405405\n",
      "Ленская 17к1\n",
      "19.217082\n",
      "Ст.П. 39А\n",
      "26.847458\n",
      "Б.П. 20\n",
      "34.597156\n",
      "Щерб.11\n",
      "17.86802\n",
      "Санте\n",
      "34.375\n",
      "Брянцева 13\n",
      "17.886179\n",
      "Колл. 4к1\n",
      "22.442748\n",
      "Коменд 51к1\n",
      "12.781065\n",
      "Богатыр 49к1\n",
      "21.581921\n",
      "Гаст. 22\n",
      "26.132404\n",
      "Б.С. 45\n",
      "23.583333\n",
      "Маршака 4\n",
      "14.120879\n",
      "Сик. 7к2\n",
      "17.111913\n",
      "Жукова 18\n",
      "9.917355\n",
      "РЦ БС 45\n",
      "73.090909\n",
      "Колом. 28\n",
      "23.580786\n",
      "КИМа 28\n",
      "31.179487\n",
      "Мор. 3к2\n",
      "19.480519\n",
      "Мар. 48\n",
      "52.427184\n"
     ]
    }
   ],
   "source": [
    "b = []\n",
    "for filial in set(group_mo['Филиал']):\n",
    "#     print(group_mo[group_mo['Филиал']==filial].sort_values('Номер карты', ascending=False).loc[:, ['Филиал', 'Р_МО', 'Номер карты']].head(10))\n",
    "#     print('\\n', '\\n')\n",
    "    a = filial, (group_mo[group_mo['Филиал']==filial].sort_values('Номер карты', ascending=False).loc[:, ['Филиал', 'Р_МО', 'Номер карты']].quantile(0.7)/\\\n",
    "         group_mo[group_mo['Филиал']==filial].sort_values('Номер карты', ascending=False).loc[:, ['Филиал', 'Р_МО', 'Номер карты']].shape[0])*100\n",
    "#     print(filial, (group_mo[group_mo['Филиал']==filial].sort_values('Номер карты', ascending=False).loc[:, ['Филиал', 'Р_МО', 'Номер карты']].quantile(0.7)/\\\n",
    "#          group_mo[group_mo['Филиал']==filial].sort_values('Номер карты', ascending=False).loc[:, ['Филиал', 'Р_МО', 'Номер карты']].shape[0])*100)\n",
    "    print(a[0], float(str(a[1]).split()[2]), sep='\\n')\n",
    "    b.append(float(str(a[1]).split()[2]))"
   ]
  },
  {
   "cell_type": "code",
   "execution_count": 126,
   "metadata": {},
   "outputs": [
    {
     "data": {
      "text/plain": [
       "0      507\n",
       "135      1\n",
       "136      1\n",
       "137      2\n",
       "138      2\n",
       "139      9\n",
       "140      7\n",
       "141     12\n",
       "142      7\n",
       "143      4\n",
       "144      1\n",
       "134     21\n",
       "145      1\n",
       "147      5\n",
       "148      4\n",
       "149      2\n",
       "150      3\n",
       "151      5\n",
       "Name: Номер карты, dtype: int64"
      ]
     },
     "execution_count": 126,
     "metadata": {},
     "output_type": "execute_result"
    }
   ],
   "source": [
    "group_mo['Номер карты'].iloc[:18]"
   ]
  },
  {
   "cell_type": "code",
   "execution_count": 113,
   "metadata": {},
   "outputs": [],
   "source": [
    "import os\n",
    "os.chdir(r'C:\\Users\\AmanovRA\\Anaconda3\\Work-work\\Choice_place\\Place_Petroga_analysis\\place_mo')\n",
    "df = pd.DataFrame()\n",
    "for f in os.listdir('.'):\n",
    "    df = df.append(pd.read_excel(f, usecols='B:D'))\n",
    "    "
   ]
  },
  {
   "cell_type": "code",
   "execution_count": 115,
   "metadata": {},
   "outputs": [],
   "source": [
    "df.columns = ['Филиал', ' Р_МО', 'Кол-во обращений']"
   ]
  },
  {
   "cell_type": "code",
   "execution_count": 117,
   "metadata": {},
   "outputs": [],
   "source": [
    "df.to_excel('Вместе.xlsx', index=False) "
   ]
  },
  {
   "cell_type": "code",
   "execution_count": 116,
   "metadata": {},
   "outputs": [],
   "source": [
    "df.to_excel?"
   ]
  },
  {
   "cell_type": "code",
   "execution_count": 142,
   "metadata": {},
   "outputs": [
    {
     "data": {
      "text/plain": [
       "<matplotlib.axes._subplots.AxesSubplot at 0x242f09f5948>"
      ]
     },
     "execution_count": 142,
     "metadata": {},
     "output_type": "execute_result"
    },
    {
     "data": {
      "image/png": "[encoded data removed]",
      "text/plain": [
       "<Figure size 1080x720 with 1 Axes>"
      ]
     },
     "metadata": {},
     "output_type": "display_data"
    }
   ],
   "source": [
    "pd.Series(b).plot(kind='box')"
   ]
  },
  {
   "cell_type": "code",
   "execution_count": 140,
   "metadata": {},
   "outputs": [],
   "source": [
    "import numpy as np\n",
    "from scipy import stats"
   ]
  },
  {
   "cell_type": "code",
   "execution_count": 3,
   "metadata": {},
   "outputs": [
    {
     "name": "stdout",
     "output_type": "stream",
     "text": [
      "Данные для отчета 1 кв ['Нск', 'Спб'] ['АУ_по_июнь.xlsx', 'НСК_по_июнь.xlsx']\n",
      "Нск ['2гис', 'Яндекс РК'] []\n",
      "2гис [] ['Звонки 2гис 01.01-31.03.xlsx']\n",
      "Яндекс РК [] ['Звонки РК 1.xlsx', 'Звонки РК 2.xlsx', 'Звонки РК 3.xlsx']\n",
      "Спб ['email рассылки', 'Insta', 'VK', 'Артроскопия', 'Варикоцеле', 'РК mc21.ru (пикоимпульс)', 'Флебология'] []\n",
      "email рассылки [] ['Заявки 01.01 - 31.03.xlsx', 'Звонки 01.01 - 31.03.xlsx']\n",
      "Insta [] ['Звонки 01.01-31.03.xlsx']\n",
      "VK [] ['Звонки 01.01 - 31.03.xlsx', 'Звявки 01.01-31.03.xlsx']\n",
      "Артроскопия [] ['Звонки Янд 01.01-31.03.xlsx']\n",
      "Варикоцеле [] ['Заявки 01.01-31.03.xlsx', 'Звонки Янд 01.01-31.03.xlsx']\n",
      "РК mc21.ru (пикоимпульс) [] ['Заявки 01.01-31.03.xlsx', 'Звонки Янд + Гугл 01.01-31.03.xlsx']\n",
      "Флебология [] ['Заявки 01.01-31.03.xlsx', 'Звонки Янд + Гугл 01.01-31.03.xlsx']\n"
     ]
    }
   ],
   "source": [
    "import os\n",
    "\n",
    "for i, k, j in os.walk(r'C:\\Users\\AmanovRA\\Текущее\\Платные каналы\\Данные для отчета 1 кв'):\n",
    "    print(os.path.basename(i), k, j)"
   ]
  },
  {
   "cell_type": "code",
   "execution_count": 2,
   "metadata": {},
   "outputs": [
    {
     "ename": "NameError",
     "evalue": "name 'path' is not defined",
     "output_type": "error",
     "traceback": [
      "\u001b[1;31m---------------------------------------------------------------------------\u001b[0m",
      "\u001b[1;31mNameError\u001b[0m                                 Traceback (most recent call last)",
      "\u001b[1;32m<ipython-input-2-4f7ae59160b4>\u001b[0m in \u001b[0;36m<module>\u001b[1;34m\u001b[0m\n\u001b[1;32m----> 1\u001b[1;33m \u001b[0mos\u001b[0m\u001b[1;33m.\u001b[0m\u001b[0mpath\u001b[0m\u001b[1;33m.\u001b[0m\u001b[0mbasename\u001b[0m\u001b[1;33m(\u001b[0m\u001b[0mpath\u001b[0m\u001b[1;33m)\u001b[0m\u001b[1;33m\u001b[0m\u001b[1;33m\u001b[0m\u001b[0m\n\u001b[0m",
      "\u001b[1;31mNameError\u001b[0m: name 'path' is not defined"
     ]
    }
   ],
   "source": [
    "os.path.basename(path)"
   ]
  },
  {
   "cell_type": "code",
   "execution_count": 37,
   "metadata": {},
   "outputs": [
    {
     "name": "stdout",
     "output_type": "stream",
     "text": [
      ".\\Данные для отчета 1 кв\n",
      "C:\\Users\\AmanovRA\\Текущее\\Платные каналы\\Данные для отчета 1 кв\\Payed_channels_nvs.xlsx\n",
      ".\\Данные для отчета 1 кв\n",
      "C:\\Users\\AmanovRA\\Текущее\\Платные каналы\\Данные для отчета 1 кв\\Payed_channels_spb.xlsx\n",
      ".\\Данные для отчета 1 кв\n",
      "C:\\Users\\AmanovRA\\Текущее\\Платные каналы\\Данные для отчета 1 кв\\АУ_по_июнь.xlsx\n",
      ".\\Данные для отчета 1 кв\n",
      "C:\\Users\\AmanovRA\\Текущее\\Платные каналы\\Данные для отчета 1 кв\\НСК_по_июнь.xlsx\n",
      ".\\Данные для отчета 1 кв\\Нск\\2гис\n",
      "C:\\Users\\AmanovRA\\Текущее\\Платные каналы\\Данные для отчета 1 кв\\Нск\\2гис\\Звонки 2гис 01.01-31.03.xlsx\n",
      ".\\Данные для отчета 1 кв\\Нск\\Яндекс РК\n",
      "C:\\Users\\AmanovRA\\Текущее\\Платные каналы\\Данные для отчета 1 кв\\Нск\\Яндекс РК\\Звонки РК 1.xlsx\n",
      ".\\Данные для отчета 1 кв\\Нск\\Яндекс РК\n",
      "C:\\Users\\AmanovRA\\Текущее\\Платные каналы\\Данные для отчета 1 кв\\Нск\\Яндекс РК\\Звонки РК 2.xlsx\n",
      ".\\Данные для отчета 1 кв\\Нск\\Яндекс РК\n",
      "C:\\Users\\AmanovRA\\Текущее\\Платные каналы\\Данные для отчета 1 кв\\Нск\\Яндекс РК\\Звонки РК 3.xlsx\n",
      ".\\Данные для отчета 1 кв\\Спб\\email рассылки\n",
      "C:\\Users\\AmanovRA\\Текущее\\Платные каналы\\Данные для отчета 1 кв\\Спб\\email рассылки\\~$Заявки 01.01 - 31.03.xlsx\n",
      ".\\Данные для отчета 1 кв\\Спб\\email рассылки\n",
      "C:\\Users\\AmanovRA\\Текущее\\Платные каналы\\Данные для отчета 1 кв\\Спб\\email рассылки\\Заявки 01.01 - 31.03.xlsx\n",
      ".\\Данные для отчета 1 кв\\Спб\\email рассылки\n",
      "C:\\Users\\AmanovRA\\Текущее\\Платные каналы\\Данные для отчета 1 кв\\Спб\\email рассылки\\Звонки 01.01 - 31.03.xlsx\n",
      ".\\Данные для отчета 1 кв\\Спб\\Insta\n",
      "C:\\Users\\AmanovRA\\Текущее\\Платные каналы\\Данные для отчета 1 кв\\Спб\\Insta\\Звонки 01.01-31.03.xlsx\n",
      ".\\Данные для отчета 1 кв\\Спб\\VK\n",
      "C:\\Users\\AmanovRA\\Текущее\\Платные каналы\\Данные для отчета 1 кв\\Спб\\VK\\Звонки 01.01 - 31.03.xlsx\n",
      ".\\Данные для отчета 1 кв\\Спб\\VK\n",
      "C:\\Users\\AmanovRA\\Текущее\\Платные каналы\\Данные для отчета 1 кв\\Спб\\VK\\Звявки 01.01-31.03.xlsx\n",
      ".\\Данные для отчета 1 кв\\Спб\\Артроскопия\n",
      "C:\\Users\\AmanovRA\\Текущее\\Платные каналы\\Данные для отчета 1 кв\\Спб\\Артроскопия\\Звонки Янд 01.01-31.03.xlsx\n",
      ".\\Данные для отчета 1 кв\\Спб\\Варикоцеле\n",
      "C:\\Users\\AmanovRA\\Текущее\\Платные каналы\\Данные для отчета 1 кв\\Спб\\Варикоцеле\\Заявки 01.01-31.03.xlsx\n",
      ".\\Данные для отчета 1 кв\\Спб\\Варикоцеле\n",
      "C:\\Users\\AmanovRA\\Текущее\\Платные каналы\\Данные для отчета 1 кв\\Спб\\Варикоцеле\\Звонки Янд 01.01-31.03.xlsx\n",
      ".\\Данные для отчета 1 кв\\Спб\\РК mc21.ru (пикоимпульс)\n",
      "C:\\Users\\AmanovRA\\Текущее\\Платные каналы\\Данные для отчета 1 кв\\Спб\\РК mc21.ru (пикоимпульс)\\Заявки 01.01-31.03.xlsx\n",
      ".\\Данные для отчета 1 кв\\Спб\\РК mc21.ru (пикоимпульс)\n",
      "C:\\Users\\AmanovRA\\Текущее\\Платные каналы\\Данные для отчета 1 кв\\Спб\\РК mc21.ru (пикоимпульс)\\Звонки Янд + Гугл 01.01-31.03.xlsx\n",
      ".\\Данные для отчета 1 кв\\Спб\\Флебология\n",
      "C:\\Users\\AmanovRA\\Текущее\\Платные каналы\\Данные для отчета 1 кв\\Спб\\Флебология\\Заявки 01.01-31.03.xlsx\n",
      ".\\Данные для отчета 1 кв\\Спб\\Флебология\n",
      "C:\\Users\\AmanovRA\\Текущее\\Платные каналы\\Данные для отчета 1 кв\\Спб\\Флебология\\Звонки Янд + Гугл 01.01-31.03.xlsx\n"
     ]
    }
   ],
   "source": [
    "import os\n",
    "import pathlib\n",
    "from pprint import pprint\n",
    "os.chdir(r'C:\\Users\\AmanovRA\\Текущее\\Платные каналы')\n",
    "import pandas as pd\n",
    "\n",
    "\n",
    "for i, j, k in os.walk('.'):\n",
    "    for x in k:\n",
    "        print(i)\n",
    "        print(os.path.join(pathlib.Path(i).parent.absolute(), os.path.basename(i) ,x))\n"
   ]
  },
  {
   "cell_type": "code",
   "execution_count": 41,
   "metadata": {},
   "outputs": [],
   "source": [
    "import pandas as pd\n",
    "import datetime\n",
    "\n",
    "data = pd.read_excel(r'R:\\AmanovRA\\Карты_СПУ.xlsx')"
   ]
  },
  {
   "cell_type": "code",
   "execution_count": 42,
   "metadata": {},
   "outputs": [],
   "source": [
    "\n",
    "data_clear = data[(data['Дата окончания СПУ из карточки Пациента'] > pd.to_datetime(datetime.date(2020, 6, 15))) | (data['Дата окончания СПУ из карточки Пациента'].isnull())]"
   ]
  },
  {
   "cell_type": "code",
   "execution_count": 43,
   "metadata": {},
   "outputs": [],
   "source": [
    "grouped_data_clear = data_clear.groupby('Номер карты', as_index=False).agg({'СПУ из карточки Пациента' : set, 'Дата окончания СПУ из карточки Пациента' : set})"
   ]
  },
  {
   "cell_type": "code",
   "execution_count": 44,
   "metadata": {},
   "outputs": [],
   "source": [
    "def join_set(lst):\n",
    "    return '|'.join([str(i) for i in lst])\n",
    "\n",
    "grouped_data_clear['СПУ из карточки Пациента'] = grouped_data_clear['СПУ из карточки Пациента'].apply(join_set)\n",
    "grouped_data_clear['Дата окончания СПУ из карточки Пациента'] = grouped_data_clear['Дата окончания СПУ из карточки Пациента'].apply(join_set)"
   ]
  },
  {
   "cell_type": "code",
   "execution_count": 45,
   "metadata": {},
   "outputs": [],
   "source": [
    "data_failures = pd.read_excel(r'C:\\Users\\AmanovRA\\Текущее\\Анализ ошибок ПППК на 10.06.2020.xlsx')"
   ]
  },
  {
   "cell_type": "code",
   "execution_count": 46,
   "metadata": {},
   "outputs": [],
   "source": [
    "data_failures = data_failures.merge(grouped_data_clear, how='left')"
   ]
  },
  {
   "cell_type": "code",
   "execution_count": 47,
   "metadata": {},
   "outputs": [],
   "source": [
    "data_failures.to_excel('Анализ_ошибок_СПУ.xlsx')"
   ]
  },
  {
   "cell_type": "code",
   "execution_count": 48,
   "metadata": {},
   "outputs": [
    {
     "name": "stdout",
     "output_type": "stream",
     "text": [
      "0\n",
      "1\n",
      "2\n"
     ]
    },
    {
     "data": {
      "text/plain": [
       "[None, None, None]"
      ]
     },
     "execution_count": 48,
     "metadata": {},
     "output_type": "execute_result"
    }
   ],
   "source": [
    "[print(i) for i in range(3)]"
   ]
  },
  {
   "cell_type": "code",
   "execution_count": 64,
   "metadata": {},
   "outputs": [],
   "source": [
    "text = '''Удаление пигментации на Harmony XL- фракц. термолиз (Лицо) 16800\n",
    "Удаление пигментации на Harmony XL- фракц. термолиз (Область щек) 9000\n",
    "Удаление пигментации на Harmony XL- фракц. термолиз (Крылья носа) 3400\n",
    "Удаление пигментации на Harmony XL- фракц. термолиз (Подбородок) 5600\n",
    "Удаление пигментации на Harmony XL- фракц. термолиз (Пигментное пятно,1 элемент) 1800\n",
    "Удаление пигментации на Harmony XL- фракц. термолиз (Уч. 10х10 см) 5100\n",
    "Удаление пигментации на Harmony XL- фракц. термолиз (Уч. 10х20 см) 7900\n",
    "Лечение сосудистых патологий на Harmony XL - LP 1064 и VP 540 (Лицо) 22500\n",
    "Лечение сосудистых патологий на Harmony XL - LP 1064 и VP 540 (Лицо) комплекс из 3 процедур 60500\n",
    "Лечение сосудистых патологий на Harmony XL - LP 1064 и VP 540 (Лицо) комплекс из 5 процедур 101000\n",
    "Лечение сосудистых патологий на Harmony XL - LP 1064 и VP 540 (Область щек) 9100\n",
    "Лечение сосудистых патологий на Harmony XL - LP 1064 и VP 540 (Область щек) комплекс из 3 процедур 24200\n",
    "Лечение сосудистых патологий на Harmony XL - LP 1064 и VP 540 (Область щек) комплекс из 5 процедур 40400\n",
    "Лечение сосудистых патологий на Harmony XL - LP 1064 и VP 540 (Лоб) 9000\n",
    "Лечение сосудистых патологий на Harmony XL - LP 1064 и VP 540 (Нос) 5600\n",
    "Лечение сосудистых патологий на Harmony XL - LP 1064 и VP 540 (Крылья носа) 4600\n",
    "Лечение сосудистых патологий на Harmony XL - LP 1064 и VP 540 (Подбородок) 5600\n",
    "Лечение сосудистых патологий на Harmony XL - LP 1064 и VP 540 (Шея) 6700\n",
    "Лечение сосудистых патологий на Harmony XL - LP 1064 и VP 540 (Декольте) 11200\n",
    "Лечение сосудистых патологий на Harmony XL - LP 1064 и VP 540 (Декольте) комплекс из 3 процедур 30300\n",
    "Лечение сосудистых патологий на Harmony XL - LP 1064 и VP 540 (Декольте) комплекс из 5 процедур 50400\n",
    "Лечение сосудистых патологий на Harmony XL - LP 1064 и VP 540 (Уч.5х5) 6800\n",
    "Лечение сосудистых патологий на Harmony XL - LP 1064 и VP 540 (Уч.10х10) 11200\n",
    "Лечение воспалительного элемента на Harmony XL — LP 1064 (1 шт.) \n",
    "Лечение сосудистых патологий на Harmony XL - LP 1064 (Лицо) 15300\n",
    "Лечение сосудистых патологий на Harmony XL - LP 1064 (Область щек) 9000\n",
    "Лечение сосудистых патологий на Harmony XL - LP 1064 (Нос) 5600\n",
    "Лечение сосудистых патологий на Harmony XL - LP 1064 (Крылья носа) 4500\n",
    "Лечение сосудистых патологий на Harmony XL - LP 1064 (Подбородок) 5600\n",
    "Лечение Сосудистой «звездочки» на Harmony XL - LP 1064 (1-5 шт.) 2000\n",
    "Лечение Сосудистой «звездочки» на Harmony XL - LP 1064 (6-10 шт.) 1900\n",
    "Лечение Сосудистой «звездочки» на Harmony XL - LP 1064 (11-15 шт.) 1700\n",
    "Лечение Сосудистой «звездочки» на Harmony XL - LP 1064 (16-20 шт.) 1400\n",
    "Лечение Сосудистой «звездочки» на Harmony XL - LP 1064 (21-25 шт.) 1300\n",
    "Лечение Сосудистой «звездочки» на Harmony XL - LP 1064 (более 25 шт.) 1200\n",
    "Лечение Сосудистой «звездочки» на Harmony XL - LP 1064 (Уч. 1х1 см) 5100\n",
    "Лечение Сосудистой «звездочки» на Harmony XL - LP 1064 (Уч. 5х5 см) 6700\n",
    "Лечение Сосудистой «звездочки» на Harmony XL - LP 1064 (Уч. 10х10 см) 11200\n",
    "Лечение сосудистых патологий на Harmony XL - VP 540 (Лицо) 11200\n",
    "Лечение сосудистых патологий на Harmony XL - VP 540 (Область щек) 4500\n",
    "Лечение сосудистых патологий на Harmony XL - VP 540 (Нос) 4500\n",
    "Лечение сосудистых патологий на Harmony XL - VP 540 (Крылья носа) 3500\n",
    "Лечение сосудистых патологий на Harmony XL - VP 540 (Подбородок) 3500\n",
    "Лечение Сосудистой «звездочки» на Harmony XL - VP 540 (1-5 шт.) 900\n",
    "Лечение Сосудистой «звездочки» на Harmony XL - VP 540 (6-10 шт.) 700\n",
    "Лечение Сосудистой «звездочки» на Harmony XL - VP 540 (11-15 шт.) 500\n",
    "Лечение Сосудистой «звездочки» на Harmony XL - VP 540 (более 25 шт.) 130\n",
    "Лечение Сосудистой «звездочки» на Harmony XL - VP 540 (Уч. 1х1 см) 3200\n",
    "Лечение Сосудистой «звездочки» на Harmony XL - VP 540 (Уч. 10х10 см) 9500\n",
    "Удаление пигментации на Harmony XL VP 540 (Лицо) 9100\n",
    "Удаление пигментации на Harmony XL VP 540 (Область щек) 4500\n",
    "Удаление пигментации на Harmony XL VP 540 (Крылья носа) 3400\n",
    "Удаление пигментации на Harmony XL VP 540 (Подбородок) 3400\n",
    "Удаление пигментации на Harmony XL VP 540 (Пигментное пятно, 1 мм) 1200\n",
    "Удаление пигментации на Harmony XL VP 540 (Уч. 10х10 см) 3200\n",
    "Удаление пигментации на Harmony XL VP 540 (Уч. 10х20 см) 5100\n",
    "'''.split('\\n')\n",
    "\n",
    "\n",
    "import re\n",
    "\n",
    "pattern = r' (\\d{3,})$'\n",
    "text1 = []\n",
    "for i,j in enumerate(text):\n",
    "    \n",
    "    text1.append(re.sub(pattern, '', j))\n",
    "\n"
   ]
  },
  {
   "cell_type": "code",
   "execution_count": 66,
   "metadata": {},
   "outputs": [
    {
     "name": "stdout",
     "output_type": "stream",
     "text": [
      "Удаление пигментации на Harmony XL- фракц. термолиз (Лицо)\n",
      "Удаление пигментации на Harmony XL- фракц. термолиз (Область щек)\n",
      "Удаление пигментации на Harmony XL- фракц. термолиз (Крылья носа)\n",
      "Удаление пигментации на Harmony XL- фракц. термолиз (Подбородок)\n",
      "Удаление пигментации на Harmony XL- фракц. термолиз (Пигментное пятно,1 элемент)\n",
      "Удаление пигментации на Harmony XL- фракц. термолиз (Уч. 10х10 см)\n",
      "Удаление пигментации на Harmony XL- фракц. термолиз (Уч. 10х20 см)\n",
      "Лечение сосудистых патологий на Harmony XL - LP 1064 и VP 540 (Лицо)\n",
      "Лечение сосудистых патологий на Harmony XL - LP 1064 и VP 540 (Лицо) комплекс из 3 процедур\n",
      "Лечение сосудистых патологий на Harmony XL - LP 1064 и VP 540 (Лицо) комплекс из 5 процедур\n",
      "Лечение сосудистых патологий на Harmony XL - LP 1064 и VP 540 (Область щек)\n",
      "Лечение сосудистых патологий на Harmony XL - LP 1064 и VP 540 (Область щек) комплекс из 3 процедур\n",
      "Лечение сосудистых патологий на Harmony XL - LP 1064 и VP 540 (Область щек) комплекс из 5 процедур\n",
      "Лечение сосудистых патологий на Harmony XL - LP 1064 и VP 540 (Лоб)\n",
      "Лечение сосудистых патологий на Harmony XL - LP 1064 и VP 540 (Нос)\n",
      "Лечение сосудистых патологий на Harmony XL - LP 1064 и VP 540 (Крылья носа)\n",
      "Лечение сосудистых патологий на Harmony XL - LP 1064 и VP 540 (Подбородок)\n",
      "Лечение сосудистых патологий на Harmony XL - LP 1064 и VP 540 (Шея)\n",
      "Лечение сосудистых патологий на Harmony XL - LP 1064 и VP 540 (Декольте)\n",
      "Лечение сосудистых патологий на Harmony XL - LP 1064 и VP 540 (Декольте) комплекс из 3 процедур\n",
      "Лечение сосудистых патологий на Harmony XL - LP 1064 и VP 540 (Декольте) комплекс из 5 процедур\n",
      "Лечение сосудистых патологий на Harmony XL - LP 1064 и VP 540 (Уч.5х5)\n",
      "Лечение сосудистых патологий на Harmony XL - LP 1064 и VP 540 (Уч.10х10)\n",
      "Лечение воспалительного элемента на Harmony XL — LP 1064 (1 шт.) \n",
      "Лечение сосудистых патологий на Harmony XL - LP 1064 (Лицо)\n",
      "Лечение сосудистых патологий на Harmony XL - LP 1064 (Область щек)\n",
      "Лечение сосудистых патологий на Harmony XL - LP 1064 (Нос)\n",
      "Лечение сосудистых патологий на Harmony XL - LP 1064 (Крылья носа)\n",
      "Лечение сосудистых патологий на Harmony XL - LP 1064 (Подбородок)\n",
      "Лечение Сосудистой «звездочки» на Harmony XL - LP 1064 (1-5 шт.)\n",
      "Лечение Сосудистой «звездочки» на Harmony XL - LP 1064 (6-10 шт.)\n",
      "Лечение Сосудистой «звездочки» на Harmony XL - LP 1064 (11-15 шт.)\n",
      "Лечение Сосудистой «звездочки» на Harmony XL - LP 1064 (16-20 шт.)\n",
      "Лечение Сосудистой «звездочки» на Harmony XL - LP 1064 (21-25 шт.)\n",
      "Лечение Сосудистой «звездочки» на Harmony XL - LP 1064 (более 25 шт.)\n",
      "Лечение Сосудистой «звездочки» на Harmony XL - LP 1064 (Уч. 1х1 см)\n",
      "Лечение Сосудистой «звездочки» на Harmony XL - LP 1064 (Уч. 5х5 см)\n",
      "Лечение Сосудистой «звездочки» на Harmony XL - LP 1064 (Уч. 10х10 см)\n",
      "Лечение сосудистых патологий на Harmony XL - VP 540 (Лицо)\n",
      "Лечение сосудистых патологий на Harmony XL - VP 540 (Область щек)\n",
      "Лечение сосудистых патологий на Harmony XL - VP 540 (Нос)\n",
      "Лечение сосудистых патологий на Harmony XL - VP 540 (Крылья носа)\n",
      "Лечение сосудистых патологий на Harmony XL - VP 540 (Подбородок)\n",
      "Лечение Сосудистой «звездочки» на Harmony XL - VP 540 (1-5 шт.)\n",
      "Лечение Сосудистой «звездочки» на Harmony XL - VP 540 (6-10 шт.)\n",
      "Лечение Сосудистой «звездочки» на Harmony XL - VP 540 (11-15 шт.)\n",
      "Лечение Сосудистой «звездочки» на Harmony XL - VP 540 (более 25 шт.)\n",
      "Лечение Сосудистой «звездочки» на Harmony XL - VP 540 (Уч. 1х1 см)\n",
      "Лечение Сосудистой «звездочки» на Harmony XL - VP 540 (Уч. 10х10 см)\n",
      "Удаление пигментации на Harmony XL VP 540 (Лицо)\n",
      "Удаление пигментации на Harmony XL VP 540 (Область щек)\n",
      "Удаление пигментации на Harmony XL VP 540 (Крылья носа)\n",
      "Удаление пигментации на Harmony XL VP 540 (Подбородок)\n",
      "Удаление пигментации на Harmony XL VP 540 (Пигментное пятно, 1 мм)\n",
      "Удаление пигментации на Harmony XL VP 540 (Уч. 10х10 см)\n",
      "Удаление пигментации на Harmony XL VP 540 (Уч. 10х20 см)\n",
      "\n"
     ]
    }
   ],
   "source": [
    "for i in text1:\n",
    "    print(i)"
   ]
  },
  {
   "cell_type": "code",
   "execution_count": 73,
   "metadata": {},
   "outputs": [
    {
     "data": {
      "text/plain": [
       "[1, 2, 3, 4]"
      ]
     },
     "execution_count": 73,
     "metadata": {},
     "output_type": "execute_result"
    }
   ],
   "source": [
    "def replace_last(items: list):\n",
    "    if len(items) in (0, 1):\n",
    "        return items\n",
    "    else:\n",
    "        items.insert(0, items.pop())\n",
    "        return items\n",
    "    \n",
    "replace_last([2, 3, 4, 1])    "
   ]
  },
  {
   "cell_type": "code",
   "execution_count": 71,
   "metadata": {},
   "outputs": [
    {
     "data": {
      "text/plain": [
       "1"
      ]
     },
     "execution_count": 71,
     "metadata": {},
     "output_type": "execute_result"
    }
   ],
   "source": [
    "items = [2, 3, 4, 1]\n",
    "items.pop()"
   ]
  },
  {
   "cell_type": "code",
   "execution_count": 72,
   "metadata": {},
   "outputs": [
    {
     "data": {
      "text/plain": [
       "[2, 3, 4]"
      ]
     },
     "execution_count": 72,
     "metadata": {},
     "output_type": "execute_result"
    }
   ],
   "source": [
    "items"
   ]
  },
  {
   "cell_type": "code",
   "execution_count": 75,
   "metadata": {},
   "outputs": [
    {
     "data": {
      "text/plain": [
       "0"
      ]
     },
     "execution_count": 75,
     "metadata": {},
     "output_type": "execute_result"
    }
   ],
   "source": [
    "int(False)"
   ]
  },
  {
   "cell_type": "code",
   "execution_count": 108,
   "metadata": {},
   "outputs": [
    {
     "data": {
      "text/plain": [
       "[[5, 4]]"
      ]
     },
     "execution_count": 108,
     "metadata": {},
     "output_type": "execute_result"
    }
   ],
   "source": [
    "import numpy as np\n",
    "\n",
    "def chunking_by(items: list, size: int):\n",
    "    import numpy as np \n",
    "    np_arr = np.array(items[:(len(items) // size) * size]).reshape((len(items) // size), size)\n",
    "    arr = np_arr.tolist()\n",
    "    arr.append(items[(len(items) // size) * size:])\n",
    "    return [i for i in arr if len(i) > 0]\n",
    "\n",
    "arr2 =[5, 4, 7, 3, 4, 5, 4]\n",
    "(chunking_by([5, 4], 7))"
   ]
  },
  {
   "cell_type": "code",
   "execution_count": 115,
   "metadata": {},
   "outputs": [
    {
     "data": {
      "text/plain": [
       "True"
      ]
     },
     "execution_count": 115,
     "metadata": {},
     "output_type": "execute_result"
    }
   ],
   "source": [
    "def except_zero(items: list):\n",
    "    positions = [i for i,j in enumerate(items) if j == 0]\n",
    "    except_zeros = sorted([j for j in items if j != 0])\n",
    "    for i in positions:\n",
    "        except_zeros.insert(i, 0)\n",
    "    return except_zeros\n",
    "\n",
    "except_zero([5, 3, 0, 0, 4, 1, 4, 0, 7]) == [1, 3, 0, 0, 4, 4, 5, 0, 7]"
   ]
  },
  {
   "cell_type": "code",
   "execution_count": 143,
   "metadata": {},
   "outputs": [
    {
     "data": {
      "text/plain": [
       "3"
      ]
     },
     "execution_count": 143,
     "metadata": {},
     "output_type": "execute_result"
    }
   ],
   "source": [
    "def deep(structure, cnt=1):\n",
    "\n",
    "    if type(structure) == int or all([type(j) == int for j in structure]):\n",
    "        return cnt\n",
    "    else:\n",
    "        for i in structure:\n",
    "            if type(i) == tuple or type(i) == list:\n",
    "                cnt += 1\n",
    "                return deep(i, cnt)\n",
    "def how_deep(x):\n",
    "    return max([deep(i) for i in x]) + 1\n",
    "how_deep((1, 2, (3, (4,))))"
   ]
  },
  {
   "cell_type": "code",
   "execution_count": 151,
   "metadata": {},
   "outputs": [
    {
     "data": {
      "text/plain": [
       "1"
      ]
     },
     "execution_count": 151,
     "metadata": {},
     "output_type": "execute_result"
    }
   ],
   "source": [
    "def deep(structure):\n",
    "    cnt = 1\n",
    "    while any([type(i) in (tuple, list) for i in structure]):\n",
    "        cnt += 1\n",
    "        arr = []\n",
    "        for j in structure:\n",
    "            if type(j) != int:\n",
    "                arr += j\n",
    "        structure = arr\n",
    "    return cnt \n",
    "        \n",
    "deep([1, 2, 3])    "
   ]
  },
  {
   "cell_type": "code",
   "execution_count": 153,
   "metadata": {},
   "outputs": [
    {
     "data": {
      "text/plain": [
       "3"
      ]
     },
     "execution_count": 153,
     "metadata": {},
     "output_type": "execute_result"
    }
   ],
   "source": [
    "deep((1, ((),), (3,)))"
   ]
  },
  {
   "cell_type": "code",
   "execution_count": 162,
   "metadata": {},
   "outputs": [
    {
     "name": "stdout",
     "output_type": "stream",
     "text": [
      "[0, 2, 3, 6]\n"
     ]
    },
    {
     "data": {
      "text/plain": [
       "[5, 7, 10, 8, 7, 4, 3, 2, 1]"
      ]
     },
     "execution_count": 162,
     "metadata": {},
     "output_type": "execute_result"
    }
   ],
   "source": [
    "def reverse_ascending(items):\n",
    "    arr = [0]\n",
    "    arr += [i  for i in range(len(items[:-1])) if items[i + 1] < items[i]]\n",
    "    if len(arr) == 1:\n",
    "        return sorted(items, reverse=True)\n",
    "    print(arr)\n",
    "    arr2 = []\n",
    "    for i in range(len(arr)):\n",
    "        if i == len(arr) - 1:\n",
    "            arr2 += sorted(items[i:], reverse = True)\n",
    "        else:\n",
    "            arr2 += sorted(items[i:i+1], reverse = True)\n",
    "    return arr2 \n",
    "            \n",
    "reverse_ascending([5,7,10,4,2,7,8,1,3])          "
   ]
  },
  {
   "cell_type": "code",
   "execution_count": 3,
   "metadata": {},
   "outputs": [
    {
     "data": {
      "text/plain": [
       "True"
      ]
     },
     "execution_count": 3,
     "metadata": {},
     "output_type": "execute_result"
    }
   ],
   "source": [
    "def median_three(lst):\n",
    "    import pandas as pd\n",
    "    if len(lst) <= 2:\n",
    "        return lst\n",
    "    else:\n",
    "        temp_arr = lst[:2]\n",
    "        for i, j in enumerate(lst):\n",
    "            if i >= 2:\n",
    "                temp_arr.append(pd.Series(lst[i-2:i+1]).median())\n",
    "    return temp_arr                \n",
    "        \n",
    "list(median_three([1])) == [1]"
   ]
  },
  {
   "cell_type": "code",
   "execution_count": 21,
   "metadata": {},
   "outputs": [
    {
     "data": {
      "text/plain": [
       "['Tuesday', 'Wednesday']"
      ]
     },
     "execution_count": 21,
     "metadata": {},
     "output_type": "execute_result"
    }
   ],
   "source": [
    "import datetime\n",
    "from collections import Counter\n",
    "\n",
    "def most_frequent_days(year):\n",
    "    d = (datetime.date(year, 12, 31) - datetime.date(year, 1, 1)).days + 1\n",
    "    days = ['Monday', 'Tuesday', 'Wednesday', 'Thursday', 'Friday', 'Saturday', 'Sunday']\n",
    "    days_sort = dict(zip(days, range(7)))\n",
    "    arr = [days[(datetime.date(year, 1, 1) + datetime.timedelta(i)).weekday()] for i in range(d)]\n",
    "    return sorted([key for key in Counter(arr) if Counter(arr)[key] == max(Counter(arr).values())], key=lambda x: days_sort[x])\n",
    "\n",
    "most_frequent_days(1084) #== ['Wednesday', 'Thursday']"
   ]
  },
  {
   "cell_type": "code",
   "execution_count": 25,
   "metadata": {},
   "outputs": [],
   "source": [
    "from difflib import get_close_matches\n",
    "import pandas as pd\n",
    "\n",
    "data1, data2 = pd.read_excel(r'C:\\Users\\AmanovRA\\Текущее\\Аудиотест\\АУ_ЛОР.xlsx', sheet_name='Уник'), pd.read_excel(r'C:\\Users\\AmanovRA\\Текущее\\Аудиотест\\ВУ_ЛОР.xlsx', sheet_name='Уник')\n",
    "\n",
    "\n",
    "# # Yields ['apple', 'ape']\n",
    "# get_close_matches('appel', ['ape', 'apple', 'peach', 'puppy'])"
   ]
  },
  {
   "cell_type": "code",
   "execution_count": 27,
   "metadata": {},
   "outputs": [],
   "source": [
    "data1['Совпадение'] = data1['Наименование услуги'].apply(lambda x: get_close_matches(x, data2['Наименование услуги']))"
   ]
  },
  {
   "cell_type": "code",
   "execution_count": 32,
   "metadata": {},
   "outputs": [],
   "source": [
    "data1.to_excel(r'C:\\Users\\AmanovRA\\Текущее\\Аудиотест\\Совпадение.xlsx')"
   ]
  },
  {
   "cell_type": "code",
   "execution_count": 56,
   "metadata": {},
   "outputs": [
    {
     "data": {
      "text/plain": [
       "14"
      ]
     },
     "execution_count": 56,
     "metadata": {},
     "output_type": "execute_result"
    }
   ],
   "source": [
    "def evenly_spaced_trees(trees) -> int:\n",
    "    if len(trees) <= 2:\n",
    "        return 0\n",
    "    step = trees[-1]\n",
    "    while True:\n",
    "        arr = []\n",
    "        for i in range(trees[0], trees[-1] + 1, step):\n",
    "            arr.append(i)\n",
    "        if trees[-1] == arr[-1] and all([x in arr for x in trees[1:-1]]):\n",
    "            return len(arr) - len(trees)\n",
    "        else:\n",
    "            step -= 1\n",
    "            \n",
    "\n",
    "\n",
    "evenly_spaced_trees([24,42,57,69,78])"
   ]
  },
  {
   "cell_type": "code",
   "execution_count": 20,
   "metadata": {},
   "outputs": [
    {
     "data": {
      "text/plain": [
       "'true'"
      ]
     },
     "execution_count": 20,
     "metadata": {},
     "output_type": "execute_result"
    }
   ],
   "source": [
    "def get_cookie(cookie, name):\n",
    "    return {i.split('=', 1)[0] : i.split('=', 1)[1] for i in cookie.split('; ')}[name]\n",
    "\n",
    "\n",
    "\n",
    "\n",
    "\n",
    "get_cookie('_ga=GA1.2.447610749.1465220820; _gat=1; ffo=true', 'ffo')"
   ]
  },
  {
   "cell_type": "code",
   "execution_count": 33,
   "metadata": {},
   "outputs": [
    {
     "data": {
      "text/plain": [
       "GridSearchCV(cv=3, error_score=nan,\n",
       "             estimator=DecisionTreeClassifier(ccp_alpha=0.0, class_weight=None,\n",
       "                                              criterion='gini', max_depth=None,\n",
       "                                              max_features=None,\n",
       "                                              max_leaf_nodes=None,\n",
       "                                              min_impurity_decrease=0.0,\n",
       "                                              min_impurity_split=None,\n",
       "                                              min_samples_leaf=1,\n",
       "                                              min_samples_split=2,\n",
       "                                              min_weight_fraction_leaf=0.0,\n",
       "                                              presort='deprecated',\n",
       "                                              random_state=None,\n",
       "                                              splitter='best'),\n",
       "             iid='deprecated', n_jobs=None,\n",
       "             param_grid={'max_depth': range(1, 4)}, pre_dispatch='2*n_jobs',\n",
       "             refit=True, return_train_score=False, scoring=None, verbose=0)"
      ]
     },
     "execution_count": 33,
     "metadata": {},
     "output_type": "execute_result"
    }
   ],
   "source": [
    "dct = {'a' : [1, 2, 3, 4, 5, 0, 1, 1,0,0,0,0,0], 'b' : [0, 1, 1, 4, 5, 7, 1, 0,0,0,0,0,0], 'r' : [0, 1, 1, 1, 1, 0, 1, 0,0,0,0,0,0]}\n",
    "import pandas as pd\n",
    "from sklearn.model_selection import GridSearchCV, train_test_split\n",
    "from sklearn.tree import DecisionTreeClassifier\n",
    "param_grid = {'max_depth' : range(1, 4)}\n",
    "clf = GridSearchCV(estimator=DecisionTreeClassifier(), param_grid=param_grid, cv=3)\n",
    "df = pd.DataFrame(dct)\n",
    "X, y = df.loc[:,['a', 'b']], df.loc[:, 'r']\n",
    "\n",
    "X_train, X_test, y_train, y_test = train_test_split(X, y, test_size=0.25)\n",
    "\n",
    "clf.fit(X_train, y_train)\n"
   ]
  },
  {
   "cell_type": "code",
   "execution_count": 34,
   "metadata": {},
   "outputs": [],
   "source": [
    "best_clf = clf.best_estimator_"
   ]
  },
  {
   "cell_type": "code",
   "execution_count": 35,
   "metadata": {},
   "outputs": [
    {
     "data": {
      "text/plain": [
       "array([1, 1, 0, 1], dtype=int64)"
      ]
     },
     "execution_count": 35,
     "metadata": {},
     "output_type": "execute_result"
    }
   ],
   "source": [
    "best_clf.predict(X_test)"
   ]
  },
  {
   "cell_type": "code",
   "execution_count": 36,
   "metadata": {},
   "outputs": [
    {
     "data": {
      "text/html": [
       "<div>\n",
       "<style scoped>\n",
       "    .dataframe tbody tr th:only-of-type {\n",
       "        vertical-align: middle;\n",
       "    }\n",
       "\n",
       "    .dataframe tbody tr th {\n",
       "        vertical-align: top;\n",
       "    }\n",
       "\n",
       "    .dataframe thead th {\n",
       "        text-align: right;\n",
       "    }\n",
       "</style>\n",
       "<table border=\"1\" class=\"dataframe\">\n",
       "  <thead>\n",
       "    <tr style=\"text-align: right;\">\n",
       "      <th></th>\n",
       "      <th>a</th>\n",
       "      <th>b</th>\n",
       "    </tr>\n",
       "  </thead>\n",
       "  <tbody>\n",
       "    <tr>\n",
       "      <th>5</th>\n",
       "      <td>0</td>\n",
       "      <td>7</td>\n",
       "    </tr>\n",
       "    <tr>\n",
       "      <th>1</th>\n",
       "      <td>2</td>\n",
       "      <td>1</td>\n",
       "    </tr>\n",
       "    <tr>\n",
       "      <th>0</th>\n",
       "      <td>1</td>\n",
       "      <td>0</td>\n",
       "    </tr>\n",
       "    <tr>\n",
       "      <th>2</th>\n",
       "      <td>3</td>\n",
       "      <td>1</td>\n",
       "    </tr>\n",
       "  </tbody>\n",
       "</table>\n",
       "</div>"
      ],
      "text/plain": [
       "   a  b\n",
       "5  0  7\n",
       "1  2  1\n",
       "0  1  0\n",
       "2  3  1"
      ]
     },
     "execution_count": 36,
     "metadata": {},
     "output_type": "execute_result"
    }
   ],
   "source": [
    "X_test#, y_test"
   ]
  },
  {
   "cell_type": "code",
   "execution_count": 37,
   "metadata": {},
   "outputs": [
    {
     "data": {
      "text/plain": [
       "5    0\n",
       "1    1\n",
       "0    0\n",
       "2    1\n",
       "Name: r, dtype: int64"
      ]
     },
     "execution_count": 37,
     "metadata": {},
     "output_type": "execute_result"
    }
   ],
   "source": [
    "y_test"
   ]
  },
  {
   "cell_type": "code",
   "execution_count": 43,
   "metadata": {},
   "outputs": [
    {
     "data": {
      "text/plain": [
       "0.75"
      ]
     },
     "execution_count": 43,
     "metadata": {},
     "output_type": "execute_result"
    }
   ],
   "source": [
    "best_clf.score(X_test, y_test)"
   ]
  },
  {
   "cell_type": "code",
   "execution_count": 1,
   "metadata": {},
   "outputs": [],
   "source": [
    "import pandas as pd\n",
    "\n",
    "data = pd.read_excel(r'R:\\AmanovRA\\d35f9353-d6f0-4067-a8d4-bd3ced185017.xlsx')"
   ]
  },
  {
   "cell_type": "code",
   "execution_count": 17,
   "metadata": {},
   "outputs": [],
   "source": [
    "arr = data[data['Наименование услуги'].str.find('Гардасил') > 0]['Номер карты']"
   ]
  },
  {
   "cell_type": "code",
   "execution_count": 20,
   "metadata": {},
   "outputs": [],
   "source": [
    "data[data['Номер карты'].isin(arr)].to_excel('Гардасил+др.xlsx')"
   ]
  },
  {
   "cell_type": "code",
   "execution_count": 21,
   "metadata": {},
   "outputs": [],
   "source": [
    "import math"
   ]
  },
  {
   "cell_type": "code",
   "execution_count": 25,
   "metadata": {},
   "outputs": [
    {
     "data": {
      "text/plain": [
       "3.141592653589793"
      ]
     },
     "execution_count": 25,
     "metadata": {},
     "output_type": "execute_result"
    }
   ],
   "source": [
    "math.pi"
   ]
  },
  {
   "cell_type": "code",
   "execution_count": 66,
   "metadata": {},
   "outputs": [],
   "source": [
    "import pandas as pd\n",
    "import os"
   ]
  },
  {
   "cell_type": "code",
   "execution_count": 75,
   "metadata": {},
   "outputs": [],
   "source": [
    "df = pd.DataFrame()\n",
    "for file in os.listdir(r'C:\\Users\\AmanovRA\\Текущее\\Шаврова_рассылка'):\n",
    "    df = df.append(pd.read_excel(r'C:\\Users\\AmanovRA\\Текущее\\Шаврова_рассылка\\\\' + file), ignore_index=True)"
   ]
  },
  {
   "cell_type": "code",
   "execution_count": 76,
   "metadata": {},
   "outputs": [],
   "source": [
    "df2 = df.copy()"
   ]
  },
  {
   "cell_type": "code",
   "execution_count": 77,
   "metadata": {},
   "outputs": [
    {
     "data": {
      "text/plain": [
       "array(['Ленская 17к1', 'Богатыр 49к1', 'Колом. 28', 'Гарьк. 15к3',\n",
       "       'Б.С. 45', 'Брянцева 13', 'ВУ', 'Сик. 7к2', 'Гаст. 22', 'Щерб.11',\n",
       "       'Ст.П. 39А', 'Б.П. 20', 'Мар. 48', 'Колл. 4к1', 'Кос. 34к1',\n",
       "       'РЦ БС 45', 'КИМа 28', 'Мор. 3к2', 'ЦАХ', 'Маршака 4', 'Гаврил.11',\n",
       "       'Коменд 51к1', 'Жукова 18', 'Колл. 6к1', 'Валдай', 'Коорд служба',\n",
       "       'Шаврова 26'], dtype=object)"
      ]
     },
     "execution_count": 77,
     "metadata": {},
     "output_type": "execute_result"
    }
   ],
   "source": [
    "df['Филиал'].unique()"
   ]
  },
  {
   "cell_type": "code",
   "execution_count": 78,
   "metadata": {},
   "outputs": [],
   "source": [
    "df = df.drop(df[df['Филиал'].isin(['ВУ', 'Валдай', 'Коорд служба'])].index)"
   ]
  },
  {
   "cell_type": "code",
   "execution_count": 79,
   "metadata": {},
   "outputs": [],
   "source": [
    "shavr = set(df[df['Филиал'] == 'Шаврова 26']['Номер карты'])\n",
    "df = df.drop(df[df['Номер карты'].isin(shavr)].index)"
   ]
  },
  {
   "cell_type": "code",
   "execution_count": 80,
   "metadata": {},
   "outputs": [],
   "source": [
    "df = df.drop(df[df['Электронный адрес Пациента'].isnull()].index)"
   ]
  },
  {
   "cell_type": "code",
   "execution_count": 81,
   "metadata": {},
   "outputs": [],
   "source": [
    "df = df.drop(df[df['Электронный адрес Пациента']== '-'].index)"
   ]
  },
  {
   "cell_type": "code",
   "execution_count": 84,
   "metadata": {},
   "outputs": [
    {
     "data": {
      "text/html": [
       "<div>\n",
       "<style scoped>\n",
       "    .dataframe tbody tr th:only-of-type {\n",
       "        vertical-align: middle;\n",
       "    }\n",
       "\n",
       "    .dataframe tbody tr th {\n",
       "        vertical-align: top;\n",
       "    }\n",
       "\n",
       "    .dataframe thead th {\n",
       "        text-align: right;\n",
       "    }\n",
       "</style>\n",
       "<table border=\"1\" class=\"dataframe\">\n",
       "  <thead>\n",
       "    <tr style=\"text-align: right;\">\n",
       "      <th></th>\n",
       "      <th>Номер карты</th>\n",
       "      <th>Филиал</th>\n",
       "    </tr>\n",
       "  </thead>\n",
       "  <tbody>\n",
       "    <tr>\n",
       "      <th>0</th>\n",
       "      <td>55</td>\n",
       "      <td>15</td>\n",
       "    </tr>\n",
       "    <tr>\n",
       "      <th>1</th>\n",
       "      <td>82</td>\n",
       "      <td>5</td>\n",
       "    </tr>\n",
       "    <tr>\n",
       "      <th>2</th>\n",
       "      <td>103</td>\n",
       "      <td>5</td>\n",
       "    </tr>\n",
       "    <tr>\n",
       "      <th>3</th>\n",
       "      <td>137</td>\n",
       "      <td>24</td>\n",
       "    </tr>\n",
       "    <tr>\n",
       "      <th>4</th>\n",
       "      <td>144</td>\n",
       "      <td>8</td>\n",
       "    </tr>\n",
       "    <tr>\n",
       "      <th>...</th>\n",
       "      <td>...</td>\n",
       "      <td>...</td>\n",
       "    </tr>\n",
       "    <tr>\n",
       "      <th>189328</th>\n",
       "      <td>990506940</td>\n",
       "      <td>1</td>\n",
       "    </tr>\n",
       "    <tr>\n",
       "      <th>189329</th>\n",
       "      <td>990506949</td>\n",
       "      <td>1</td>\n",
       "    </tr>\n",
       "    <tr>\n",
       "      <th>189330</th>\n",
       "      <td>990507034</td>\n",
       "      <td>1</td>\n",
       "    </tr>\n",
       "    <tr>\n",
       "      <th>189331</th>\n",
       "      <td>990507057</td>\n",
       "      <td>1</td>\n",
       "    </tr>\n",
       "    <tr>\n",
       "      <th>189332</th>\n",
       "      <td>120048530{дублирование карт}</td>\n",
       "      <td>13</td>\n",
       "    </tr>\n",
       "  </tbody>\n",
       "</table>\n",
       "<p>189333 rows × 2 columns</p>\n",
       "</div>"
      ],
      "text/plain": [
       "                         Номер карты  Филиал\n",
       "0                                 55      15\n",
       "1                                 82       5\n",
       "2                                103       5\n",
       "3                                137      24\n",
       "4                                144       8\n",
       "...                              ...     ...\n",
       "189328                     990506940       1\n",
       "189329                     990506949       1\n",
       "189330                     990507034       1\n",
       "189331                     990507057       1\n",
       "189332  120048530{дублирование карт}      13\n",
       "\n",
       "[189333 rows x 2 columns]"
      ]
     },
     "execution_count": 84,
     "metadata": {},
     "output_type": "execute_result"
    }
   ],
   "source": [
    "group_services = df.groupby('Номер карты', as_index=False).agg({'Филиал' : 'count'})\n",
    "group_services"
   ]
  },
  {
   "cell_type": "code",
   "execution_count": 88,
   "metadata": {},
   "outputs": [],
   "source": [
    "group_services = group_services.rename(columns={'Номер карты' : 'Номер карты', 'Филиал' : 'Кол-во приемов'})"
   ]
  },
  {
   "cell_type": "code",
   "execution_count": 90,
   "metadata": {},
   "outputs": [],
   "source": [
    "group_services = group_services[group_services['Кол-во приемов'] >=2]"
   ]
  },
  {
   "cell_type": "code",
   "execution_count": 92,
   "metadata": {},
   "outputs": [],
   "source": [
    "df = df.merge(group_services, how='left')"
   ]
  },
  {
   "cell_type": "code",
   "execution_count": null,
   "metadata": {},
   "outputs": [],
   "source": []
  },
  {
   "cell_type": "code",
   "execution_count": null,
   "metadata": {},
   "outputs": [],
   "source": []
  },
  {
   "cell_type": "code",
   "execution_count": null,
   "metadata": {},
   "outputs": [],
   "source": []
  },
  {
   "cell_type": "code",
   "execution_count": 95,
   "metadata": {},
   "outputs": [],
   "source": [
    "df = df.drop_duplicates(subset=['Номер карты'])"
   ]
  },
  {
   "cell_type": "code",
   "execution_count": 96,
   "metadata": {},
   "outputs": [],
   "source": [
    "df = df.drop_duplicates(subset=['Электронный адрес Пациента'])"
   ]
  },
  {
   "cell_type": "code",
   "execution_count": 57,
   "metadata": {},
   "outputs": [],
   "source": []
  },
  {
   "cell_type": "code",
   "execution_count": 64,
   "metadata": {},
   "outputs": [],
   "source": []
  },
  {
   "cell_type": "code",
   "execution_count": 98,
   "metadata": {},
   "outputs": [],
   "source": [
    "df = df.drop(df[df['Кол-во приемов'].isnull()].index)"
   ]
  },
  {
   "cell_type": "code",
   "execution_count": 103,
   "metadata": {},
   "outputs": [],
   "source": [
    "df[df['Филиал'] ==  'Коменд 51к1'].to_excel('Коменд_рассылка.xlsx', columns=['Номер карты', 'Пациент', 'Телефон мобильный', 'Филиал', 'Электронный адрес Пациента'])"
   ]
  },
  {
   "cell_type": "code",
   "execution_count": 100,
   "metadata": {},
   "outputs": [
    {
     "data": {
      "text/html": [
       "<div>\n",
       "<style scoped>\n",
       "    .dataframe tbody tr th:only-of-type {\n",
       "        vertical-align: middle;\n",
       "    }\n",
       "\n",
       "    .dataframe tbody tr th {\n",
       "        vertical-align: top;\n",
       "    }\n",
       "\n",
       "    .dataframe thead th {\n",
       "        text-align: right;\n",
       "    }\n",
       "</style>\n",
       "<table border=\"1\" class=\"dataframe\">\n",
       "  <thead>\n",
       "    <tr style=\"text-align: right;\">\n",
       "      <th></th>\n",
       "      <th>Номер карты</th>\n",
       "      <th>Пациент</th>\n",
       "      <th>Телефон мобильный</th>\n",
       "      <th>Филиал</th>\n",
       "      <th>Дата рождения</th>\n",
       "      <th>Ф_Полный адрес</th>\n",
       "      <th>Р_Район</th>\n",
       "      <th>Р_МО</th>\n",
       "      <th>Дата приема</th>\n",
       "      <th>Sum([Всего начислено])</th>\n",
       "      <th>Sum([Количество])</th>\n",
       "      <th>Ф_Дом</th>\n",
       "      <th>Ф_Улица</th>\n",
       "      <th>Электронный адрес Пациента</th>\n",
       "      <th>Кол-во приемов</th>\n",
       "    </tr>\n",
       "  </thead>\n",
       "  <tbody>\n",
       "    <tr>\n",
       "      <th>0</th>\n",
       "      <td>120048530{дублирование карт}</td>\n",
       "      <td>Калугина Регина Анатольевна</td>\n",
       "      <td>+7(921)573-61-01</td>\n",
       "      <td>Богатыр 49к1</td>\n",
       "      <td>1978-03-02 00:00:00</td>\n",
       "      <td>-</td>\n",
       "      <td></td>\n",
       "      <td>N 65</td>\n",
       "      <td>2018-09-19</td>\n",
       "      <td>3602.0</td>\n",
       "      <td>11.0</td>\n",
       "      <td>14</td>\n",
       "      <td>ул Маршала Захарова</td>\n",
       "      <td>k_regina78@mail.ru</td>\n",
       "      <td>13.0</td>\n",
       "    </tr>\n",
       "    <tr>\n",
       "      <th>22</th>\n",
       "      <td>144</td>\n",
       "      <td>Работинский Дмитрий Николаевич</td>\n",
       "      <td>+7(981)743-94-08</td>\n",
       "      <td>Богатыр 49к1</td>\n",
       "      <td>1968-06-07 00:00:00</td>\n",
       "      <td>г.Санкт-Петербург, пр-кт.Приморский</td>\n",
       "      <td></td>\n",
       "      <td>N 66</td>\n",
       "      <td>2018-07-08</td>\n",
       "      <td>1375.0</td>\n",
       "      <td>1.0</td>\n",
       "      <td>59</td>\n",
       "      <td>пр-кт Приморский</td>\n",
       "      <td>dmitry.rabotinsky@npfets.ru</td>\n",
       "      <td>8.0</td>\n",
       "    </tr>\n",
       "    <tr>\n",
       "      <th>1294</th>\n",
       "      <td>4027</td>\n",
       "      <td>Кулагин Иван Андреевич</td>\n",
       "      <td>+7(931)244-77-03</td>\n",
       "      <td>Богатыр 49к1</td>\n",
       "      <td>2003-01-24 00:00:00</td>\n",
       "      <td>г. Санкт-Петербург  ул. Стародеревенская</td>\n",
       "      <td></td>\n",
       "      <td>N 65</td>\n",
       "      <td>2018-05-12</td>\n",
       "      <td>1530.0</td>\n",
       "      <td>1.0</td>\n",
       "      <td>38</td>\n",
       "      <td>ул Камышовая</td>\n",
       "      <td>a.kulagin@mail.ru; elenadruganova@mail.ru</td>\n",
       "      <td>18.0</td>\n",
       "    </tr>\n",
       "    <tr>\n",
       "      <th>1510</th>\n",
       "      <td>5046</td>\n",
       "      <td>Сморыго Филипп Валерьевич</td>\n",
       "      <td>+7(921)787-00-55</td>\n",
       "      <td>Богатыр 49к1</td>\n",
       "      <td>1991-05-08 00:00:00</td>\n",
       "      <td>197375 г.Санкт-Петербург, ул.Вербная</td>\n",
       "      <td>-</td>\n",
       "      <td>-</td>\n",
       "      <td>2018-09-09</td>\n",
       "      <td>3922.5</td>\n",
       "      <td>9.0</td>\n",
       "      <td>17</td>\n",
       "      <td>ул Вербная</td>\n",
       "      <td>smorygo.philipp@gmail.com</td>\n",
       "      <td>11.0</td>\n",
       "    </tr>\n",
       "    <tr>\n",
       "      <th>1694</th>\n",
       "      <td>5958</td>\n",
       "      <td>Иванов Родион Вадимович</td>\n",
       "      <td>+7(921)937-99-77</td>\n",
       "      <td>Богатыр 49к1</td>\n",
       "      <td>2003-05-05 00:00:00</td>\n",
       "      <td>-</td>\n",
       "      <td></td>\n",
       "      <td>N 33</td>\n",
       "      <td>2018-07-29</td>\n",
       "      <td>2855.0</td>\n",
       "      <td>5.0</td>\n",
       "      <td>15</td>\n",
       "      <td>пр-кт Металлистов</td>\n",
       "      <td>ivanowadim@mail.ru; ms.lorusya@mail.ru</td>\n",
       "      <td>31.0</td>\n",
       "    </tr>\n",
       "    <tr>\n",
       "      <th>...</th>\n",
       "      <td>...</td>\n",
       "      <td>...</td>\n",
       "      <td>...</td>\n",
       "      <td>...</td>\n",
       "      <td>...</td>\n",
       "      <td>...</td>\n",
       "      <td>...</td>\n",
       "      <td>...</td>\n",
       "      <td>...</td>\n",
       "      <td>...</td>\n",
       "      <td>...</td>\n",
       "      <td>...</td>\n",
       "      <td>...</td>\n",
       "      <td>...</td>\n",
       "      <td>...</td>\n",
       "    </tr>\n",
       "    <tr>\n",
       "      <th>1699068</th>\n",
       "      <td>990489582</td>\n",
       "      <td>Анайко Александр Гаврилович</td>\n",
       "      <td>+7(967)530-38-38</td>\n",
       "      <td>Богатыр 49к1</td>\n",
       "      <td>1960-05-13 00:00:00</td>\n",
       "      <td>NaN</td>\n",
       "      <td></td>\n",
       "      <td>Комендантский Аэродром</td>\n",
       "      <td>2020-02-01</td>\n",
       "      <td>1275.0</td>\n",
       "      <td>1.0</td>\n",
       "      <td>4</td>\n",
       "      <td>аллея Поликарпова</td>\n",
       "      <td>anaicko@yandex.ru</td>\n",
       "      <td>5.0</td>\n",
       "    </tr>\n",
       "    <tr>\n",
       "      <th>1699144</th>\n",
       "      <td>990489986</td>\n",
       "      <td>Галимова Алина Мансуровна</td>\n",
       "      <td>+7(981)777-79-13</td>\n",
       "      <td>Богатыр 49к1</td>\n",
       "      <td>1995-01-13 00:00:00</td>\n",
       "      <td>NaN</td>\n",
       "      <td></td>\n",
       "      <td>N 70</td>\n",
       "      <td>2020-03-30</td>\n",
       "      <td>1920.0</td>\n",
       "      <td>1.0</td>\n",
       "      <td>64</td>\n",
       "      <td>пр-кт Комендантский</td>\n",
       "      <td>alinamansurovna13@gmail.com</td>\n",
       "      <td>3.0</td>\n",
       "    </tr>\n",
       "    <tr>\n",
       "      <th>1699299</th>\n",
       "      <td>990492800</td>\n",
       "      <td>Костенко Сергей Георгиевич</td>\n",
       "      <td>+7(921)388-95-22</td>\n",
       "      <td>Богатыр 49к1</td>\n",
       "      <td>1985-12-01 00:00:00</td>\n",
       "      <td>NaN</td>\n",
       "      <td></td>\n",
       "      <td>N 65</td>\n",
       "      <td>2020-05-06</td>\n",
       "      <td>822.0</td>\n",
       "      <td>3.0</td>\n",
       "      <td>39</td>\n",
       "      <td>пр-кт Богатырский</td>\n",
       "      <td>sdh1985@mail.ru</td>\n",
       "      <td>2.0</td>\n",
       "    </tr>\n",
       "    <tr>\n",
       "      <th>1699560</th>\n",
       "      <td>990496326</td>\n",
       "      <td>Янбулат Ксения Александровна</td>\n",
       "      <td>+7(981)701-82-55</td>\n",
       "      <td>Богатыр 49к1</td>\n",
       "      <td>1989-08-11 00:00:00</td>\n",
       "      <td>NaN</td>\n",
       "      <td></td>\n",
       "      <td>N 65</td>\n",
       "      <td>2020-04-09</td>\n",
       "      <td>1275.0</td>\n",
       "      <td>1.0</td>\n",
       "      <td>11</td>\n",
       "      <td>ул Туристская</td>\n",
       "      <td>yaka.spb2013@gmail.com</td>\n",
       "      <td>3.0</td>\n",
       "    </tr>\n",
       "    <tr>\n",
       "      <th>1699762</th>\n",
       "      <td>990501634</td>\n",
       "      <td>Оскин Мирон Алексеевич</td>\n",
       "      <td>+7(911)688-14-49</td>\n",
       "      <td>Богатыр 49к1</td>\n",
       "      <td>2020-03-12 00:00:00</td>\n",
       "      <td>-</td>\n",
       "      <td></td>\n",
       "      <td>Гавань</td>\n",
       "      <td>2020-06-09</td>\n",
       "      <td>3462.5</td>\n",
       "      <td>3.0</td>\n",
       "      <td>1</td>\n",
       "      <td>ул Беринга</td>\n",
       "      <td>annabotygina@gmail.com</td>\n",
       "      <td>5.0</td>\n",
       "    </tr>\n",
       "  </tbody>\n",
       "</table>\n",
       "<p>3940 rows × 15 columns</p>\n",
       "</div>"
      ],
      "text/plain": [
       "                          Номер карты                         Пациент  \\\n",
       "0        120048530{дублирование карт}     Калугина Регина Анатольевна   \n",
       "22                                144  Работинский Дмитрий Николаевич   \n",
       "1294                             4027          Кулагин Иван Андреевич   \n",
       "1510                             5046       Сморыго Филипп Валерьевич   \n",
       "1694                             5958         Иванов Родион Вадимович   \n",
       "...                               ...                             ...   \n",
       "1699068                     990489582     Анайко Александр Гаврилович   \n",
       "1699144                     990489986       Галимова Алина Мансуровна   \n",
       "1699299                     990492800      Костенко Сергей Георгиевич   \n",
       "1699560                     990496326    Янбулат Ксения Александровна   \n",
       "1699762                     990501634          Оскин Мирон Алексеевич   \n",
       "\n",
       "        Телефон мобильный        Филиал        Дата рождения  \\\n",
       "0        +7(921)573-61-01  Богатыр 49к1  1978-03-02 00:00:00   \n",
       "22       +7(981)743-94-08  Богатыр 49к1  1968-06-07 00:00:00   \n",
       "1294     +7(931)244-77-03  Богатыр 49к1  2003-01-24 00:00:00   \n",
       "1510     +7(921)787-00-55  Богатыр 49к1  1991-05-08 00:00:00   \n",
       "1694     +7(921)937-99-77  Богатыр 49к1  2003-05-05 00:00:00   \n",
       "...                   ...           ...                  ...   \n",
       "1699068  +7(967)530-38-38  Богатыр 49к1  1960-05-13 00:00:00   \n",
       "1699144  +7(981)777-79-13  Богатыр 49к1  1995-01-13 00:00:00   \n",
       "1699299  +7(921)388-95-22  Богатыр 49к1  1985-12-01 00:00:00   \n",
       "1699560  +7(981)701-82-55  Богатыр 49к1  1989-08-11 00:00:00   \n",
       "1699762  +7(911)688-14-49  Богатыр 49к1  2020-03-12 00:00:00   \n",
       "\n",
       "                                   Ф_Полный адрес Р_Район  \\\n",
       "0                                               -           \n",
       "22            г.Санкт-Петербург, пр-кт.Приморский           \n",
       "1294     г. Санкт-Петербург  ул. Стародеревенская           \n",
       "1510         197375 г.Санкт-Петербург, ул.Вербная       -   \n",
       "1694                                            -           \n",
       "...                                           ...     ...   \n",
       "1699068                                       NaN           \n",
       "1699144                                       NaN           \n",
       "1699299                                       NaN           \n",
       "1699560                                       NaN           \n",
       "1699762                                         -           \n",
       "\n",
       "                           Р_МО Дата приема  Sum([Всего начислено])  \\\n",
       "0                          N 65  2018-09-19                  3602.0   \n",
       "22                         N 66  2018-07-08                  1375.0   \n",
       "1294                       N 65  2018-05-12                  1530.0   \n",
       "1510                          -  2018-09-09                  3922.5   \n",
       "1694                       N 33  2018-07-29                  2855.0   \n",
       "...                         ...         ...                     ...   \n",
       "1699068  Комендантский Аэродром  2020-02-01                  1275.0   \n",
       "1699144                    N 70  2020-03-30                  1920.0   \n",
       "1699299                    N 65  2020-05-06                   822.0   \n",
       "1699560                    N 65  2020-04-09                  1275.0   \n",
       "1699762                  Гавань  2020-06-09                  3462.5   \n",
       "\n",
       "         Sum([Количество]) Ф_Дом              Ф_Улица  \\\n",
       "0                     11.0    14  ул Маршала Захарова   \n",
       "22                     1.0    59     пр-кт Приморский   \n",
       "1294                   1.0    38         ул Камышовая   \n",
       "1510                   9.0    17           ул Вербная   \n",
       "1694                   5.0    15    пр-кт Металлистов   \n",
       "...                    ...   ...                  ...   \n",
       "1699068                1.0     4    аллея Поликарпова   \n",
       "1699144                1.0    64  пр-кт Комендантский   \n",
       "1699299                3.0    39    пр-кт Богатырский   \n",
       "1699560                1.0    11        ул Туристская   \n",
       "1699762                3.0     1           ул Беринга   \n",
       "\n",
       "                        Электронный адрес Пациента  Кол-во приемов  \n",
       "0                               k_regina78@mail.ru            13.0  \n",
       "22                     dmitry.rabotinsky@npfets.ru             8.0  \n",
       "1294     a.kulagin@mail.ru; elenadruganova@mail.ru            18.0  \n",
       "1510                     smorygo.philipp@gmail.com            11.0  \n",
       "1694        ivanowadim@mail.ru; ms.lorusya@mail.ru            31.0  \n",
       "...                                            ...             ...  \n",
       "1699068                          anaicko@yandex.ru             5.0  \n",
       "1699144                alinamansurovna13@gmail.com             3.0  \n",
       "1699299                            sdh1985@mail.ru             2.0  \n",
       "1699560                     yaka.spb2013@gmail.com             3.0  \n",
       "1699762                     annabotygina@gmail.com             5.0  \n",
       "\n",
       "[3940 rows x 15 columns]"
      ]
     },
     "execution_count": 100,
     "metadata": {},
     "output_type": "execute_result"
    }
   ],
   "source": [
    "df[df['Филиал'] == 'Богатыр 49к1']"
   ]
  },
  {
   "cell_type": "code",
   "execution_count": 102,
   "metadata": {},
   "outputs": [
    {
     "data": {
      "text/html": [
       "<div>\n",
       "<style scoped>\n",
       "    .dataframe tbody tr th:only-of-type {\n",
       "        vertical-align: middle;\n",
       "    }\n",
       "\n",
       "    .dataframe tbody tr th {\n",
       "        vertical-align: top;\n",
       "    }\n",
       "\n",
       "    .dataframe thead th {\n",
       "        text-align: right;\n",
       "    }\n",
       "</style>\n",
       "<table border=\"1\" class=\"dataframe\">\n",
       "  <thead>\n",
       "    <tr style=\"text-align: right;\">\n",
       "      <th></th>\n",
       "      <th>Номер карты</th>\n",
       "      <th>Пациент</th>\n",
       "      <th>Телефон мобильный</th>\n",
       "      <th>Филиал</th>\n",
       "      <th>Дата рождения</th>\n",
       "      <th>Ф_Полный адрес</th>\n",
       "      <th>Р_Район</th>\n",
       "      <th>Р_МО</th>\n",
       "      <th>Дата приема</th>\n",
       "      <th>Sum([Всего начислено])</th>\n",
       "      <th>Sum([Количество])</th>\n",
       "      <th>Ф_Дом</th>\n",
       "      <th>Ф_Улица</th>\n",
       "      <th>Электронный адрес Пациента</th>\n",
       "      <th>Кол-во приемов</th>\n",
       "    </tr>\n",
       "  </thead>\n",
       "  <tbody>\n",
       "    <tr>\n",
       "      <th>0</th>\n",
       "      <td>120048530{дублирование карт}</td>\n",
       "      <td>Калугина Регина Анатольевна</td>\n",
       "      <td>+7(921)573-61-01</td>\n",
       "      <td>Богатыр 49к1</td>\n",
       "      <td>1978-03-02 00:00:00</td>\n",
       "      <td>-</td>\n",
       "      <td></td>\n",
       "      <td>N 65</td>\n",
       "      <td>2018-09-19</td>\n",
       "      <td>3602.0</td>\n",
       "      <td>11.0</td>\n",
       "      <td>14</td>\n",
       "      <td>ул Маршала Захарова</td>\n",
       "      <td>k_regina78@mail.ru</td>\n",
       "      <td>13.0</td>\n",
       "    </tr>\n",
       "    <tr>\n",
       "      <th>9</th>\n",
       "      <td>55</td>\n",
       "      <td>Пальшина Александра Евгеньевна</td>\n",
       "      <td>+7(921)934-09-17</td>\n",
       "      <td>Колом. 28</td>\n",
       "      <td>1971-06-06 00:00:00</td>\n",
       "      <td>г.Санкт-Петербург, пр-кт.Ветеранов</td>\n",
       "      <td></td>\n",
       "      <td>N 70</td>\n",
       "      <td>2018-05-14</td>\n",
       "      <td>3500.0</td>\n",
       "      <td>1.0</td>\n",
       "      <td>115</td>\n",
       "      <td>пр-кт Ветеранов</td>\n",
       "      <td>alexandra7108@mail.ru</td>\n",
       "      <td>15.0</td>\n",
       "    </tr>\n",
       "    <tr>\n",
       "      <th>14</th>\n",
       "      <td>137</td>\n",
       "      <td>Карева Татьяна Сергеевна</td>\n",
       "      <td>+7(921)911-03-16</td>\n",
       "      <td>Б.С. 45</td>\n",
       "      <td>1988-04-15 00:00:00</td>\n",
       "      <td>г.Санкт-Петербург, ул.Главная</td>\n",
       "      <td>-</td>\n",
       "      <td>-</td>\n",
       "      <td>2018-01-05</td>\n",
       "      <td>2942.5</td>\n",
       "      <td>3.0</td>\n",
       "      <td>31</td>\n",
       "      <td>ул Главная</td>\n",
       "      <td>its.kareva@gmail.com</td>\n",
       "      <td>24.0</td>\n",
       "    </tr>\n",
       "    <tr>\n",
       "      <th>22</th>\n",
       "      <td>144</td>\n",
       "      <td>Работинский Дмитрий Николаевич</td>\n",
       "      <td>+7(981)743-94-08</td>\n",
       "      <td>Богатыр 49к1</td>\n",
       "      <td>1968-06-07 00:00:00</td>\n",
       "      <td>г.Санкт-Петербург, пр-кт.Приморский</td>\n",
       "      <td></td>\n",
       "      <td>N 66</td>\n",
       "      <td>2018-07-08</td>\n",
       "      <td>1375.0</td>\n",
       "      <td>1.0</td>\n",
       "      <td>59</td>\n",
       "      <td>пр-кт Приморский</td>\n",
       "      <td>dmitry.rabotinsky@npfets.ru</td>\n",
       "      <td>8.0</td>\n",
       "    </tr>\n",
       "    <tr>\n",
       "      <th>27</th>\n",
       "      <td>178</td>\n",
       "      <td>Дмитриева Евгения Анатольевна</td>\n",
       "      <td>+7(921)951-45-82</td>\n",
       "      <td>Б.С. 45</td>\n",
       "      <td>1964-06-21 00:00:00</td>\n",
       "      <td>г.Санкт-Петербург, пр-кт.Гражданский</td>\n",
       "      <td></td>\n",
       "      <td>-</td>\n",
       "      <td>2018-07-03</td>\n",
       "      <td>4916.0</td>\n",
       "      <td>8.0</td>\n",
       "      <td>83</td>\n",
       "      <td>пр-кт Гражданский</td>\n",
       "      <td>gradmama@mail.ru</td>\n",
       "      <td>4.0</td>\n",
       "    </tr>\n",
       "    <tr>\n",
       "      <th>...</th>\n",
       "      <td>...</td>\n",
       "      <td>...</td>\n",
       "      <td>...</td>\n",
       "      <td>...</td>\n",
       "      <td>...</td>\n",
       "      <td>...</td>\n",
       "      <td>...</td>\n",
       "      <td>...</td>\n",
       "      <td>...</td>\n",
       "      <td>...</td>\n",
       "      <td>...</td>\n",
       "      <td>...</td>\n",
       "      <td>...</td>\n",
       "      <td>...</td>\n",
       "      <td>...</td>\n",
       "    </tr>\n",
       "    <tr>\n",
       "      <th>1699935</th>\n",
       "      <td>990504976</td>\n",
       "      <td>Колобкова Ника Владимировна</td>\n",
       "      <td>+7(911)218-78-35</td>\n",
       "      <td>Гаст. 22</td>\n",
       "      <td>2020-05-02 00:00:00</td>\n",
       "      <td>NaN</td>\n",
       "      <td></td>\n",
       "      <td>Дачное</td>\n",
       "      <td>2020-06-09</td>\n",
       "      <td>1800.0</td>\n",
       "      <td>1.0</td>\n",
       "      <td>3</td>\n",
       "      <td>пр-кт Ветеранов</td>\n",
       "      <td>yulia3103@bk.ru</td>\n",
       "      <td>5.0</td>\n",
       "    </tr>\n",
       "    <tr>\n",
       "      <th>1699946</th>\n",
       "      <td>990505225</td>\n",
       "      <td>Новиков Иван Вячеславович</td>\n",
       "      <td>+7(952)352-27-52</td>\n",
       "      <td>Гарьк. 15к3</td>\n",
       "      <td>1994-01-25 00:00:00</td>\n",
       "      <td>NaN</td>\n",
       "      <td></td>\n",
       "      <td>N 38</td>\n",
       "      <td>2020-06-06</td>\n",
       "      <td>1360.0</td>\n",
       "      <td>1.0</td>\n",
       "      <td>7</td>\n",
       "      <td>ул Катерников</td>\n",
       "      <td>ivan.npk@mail.ru</td>\n",
       "      <td>4.0</td>\n",
       "    </tr>\n",
       "    <tr>\n",
       "      <th>1699950</th>\n",
       "      <td>990505255</td>\n",
       "      <td>Шадский Александр Игоревич</td>\n",
       "      <td>+7(981)688-38-41</td>\n",
       "      <td>Колл. 4к1</td>\n",
       "      <td>1990-10-14 00:00:00</td>\n",
       "      <td>NaN</td>\n",
       "      <td>р-н Всеволожский</td>\n",
       "      <td>д Кудрово</td>\n",
       "      <td>2020-05-31</td>\n",
       "      <td>1360.0</td>\n",
       "      <td>1.0</td>\n",
       "      <td>1</td>\n",
       "      <td>ул Областная</td>\n",
       "      <td>homosapiens-90@mail.ru</td>\n",
       "      <td>7.0</td>\n",
       "    </tr>\n",
       "    <tr>\n",
       "      <th>1699967</th>\n",
       "      <td>990505992</td>\n",
       "      <td>Чихрадзе Лука Георгиевич</td>\n",
       "      <td>+7(950)007-12-73</td>\n",
       "      <td>Гаст. 22</td>\n",
       "      <td>2017-07-06 00:00:00</td>\n",
       "      <td>NaN</td>\n",
       "      <td></td>\n",
       "      <td>Московская Застава</td>\n",
       "      <td>2020-06-12</td>\n",
       "      <td>2175.0</td>\n",
       "      <td>1.0</td>\n",
       "      <td>11/17</td>\n",
       "      <td>ул Коли Томчака</td>\n",
       "      <td>tenoshvilianna@gmail.com</td>\n",
       "      <td>2.0</td>\n",
       "    </tr>\n",
       "    <tr>\n",
       "      <th>1699970</th>\n",
       "      <td>990506084</td>\n",
       "      <td>Шведова Елизавета Андреевна</td>\n",
       "      <td>+7(906)262-96-86</td>\n",
       "      <td>Сик. 7к2</td>\n",
       "      <td>1991-11-29 00:00:00</td>\n",
       "      <td>NaN</td>\n",
       "      <td></td>\n",
       "      <td>Светлановское</td>\n",
       "      <td>2020-06-15</td>\n",
       "      <td>1520.0</td>\n",
       "      <td>1.0</td>\n",
       "      <td>18</td>\n",
       "      <td>ул Лиственная</td>\n",
       "      <td>Lizausova@list.ru</td>\n",
       "      <td>2.0</td>\n",
       "    </tr>\n",
       "  </tbody>\n",
       "</table>\n",
       "<p>108277 rows × 15 columns</p>\n",
       "</div>"
      ],
      "text/plain": [
       "                          Номер карты                         Пациент  \\\n",
       "0        120048530{дублирование карт}     Калугина Регина Анатольевна   \n",
       "9                                  55  Пальшина Александра Евгеньевна   \n",
       "14                                137        Карева Татьяна Сергеевна   \n",
       "22                                144  Работинский Дмитрий Николаевич   \n",
       "27                                178   Дмитриева Евгения Анатольевна   \n",
       "...                               ...                             ...   \n",
       "1699935                     990504976     Колобкова Ника Владимировна   \n",
       "1699946                     990505225       Новиков Иван Вячеславович   \n",
       "1699950                     990505255      Шадский Александр Игоревич   \n",
       "1699967                     990505992        Чихрадзе Лука Георгиевич   \n",
       "1699970                     990506084     Шведова Елизавета Андреевна   \n",
       "\n",
       "        Телефон мобильный        Филиал        Дата рождения  \\\n",
       "0        +7(921)573-61-01  Богатыр 49к1  1978-03-02 00:00:00   \n",
       "9        +7(921)934-09-17     Колом. 28  1971-06-06 00:00:00   \n",
       "14       +7(921)911-03-16       Б.С. 45  1988-04-15 00:00:00   \n",
       "22       +7(981)743-94-08  Богатыр 49к1  1968-06-07 00:00:00   \n",
       "27       +7(921)951-45-82       Б.С. 45  1964-06-21 00:00:00   \n",
       "...                   ...           ...                  ...   \n",
       "1699935  +7(911)218-78-35      Гаст. 22  2020-05-02 00:00:00   \n",
       "1699946  +7(952)352-27-52   Гарьк. 15к3  1994-01-25 00:00:00   \n",
       "1699950  +7(981)688-38-41     Колл. 4к1  1990-10-14 00:00:00   \n",
       "1699967  +7(950)007-12-73      Гаст. 22  2017-07-06 00:00:00   \n",
       "1699970  +7(906)262-96-86      Сик. 7к2  1991-11-29 00:00:00   \n",
       "\n",
       "                               Ф_Полный адрес           Р_Район  \\\n",
       "0                                           -                     \n",
       "9          г.Санкт-Петербург, пр-кт.Ветеранов                     \n",
       "14              г.Санкт-Петербург, ул.Главная                 -   \n",
       "22        г.Санкт-Петербург, пр-кт.Приморский                     \n",
       "27       г.Санкт-Петербург, пр-кт.Гражданский                     \n",
       "...                                       ...               ...   \n",
       "1699935                                   NaN                     \n",
       "1699946                                   NaN                     \n",
       "1699950                                   NaN  р-н Всеволожский   \n",
       "1699967                                   NaN                     \n",
       "1699970                                   NaN                     \n",
       "\n",
       "                       Р_МО Дата приема  Sum([Всего начислено])  \\\n",
       "0                      N 65  2018-09-19                  3602.0   \n",
       "9                      N 70  2018-05-14                  3500.0   \n",
       "14                        -  2018-01-05                  2942.5   \n",
       "22                     N 66  2018-07-08                  1375.0   \n",
       "27                        -  2018-07-03                  4916.0   \n",
       "...                     ...         ...                     ...   \n",
       "1699935              Дачное  2020-06-09                  1800.0   \n",
       "1699946                N 38  2020-06-06                  1360.0   \n",
       "1699950           д Кудрово  2020-05-31                  1360.0   \n",
       "1699967  Московская Застава  2020-06-12                  2175.0   \n",
       "1699970       Светлановское  2020-06-15                  1520.0   \n",
       "\n",
       "         Sum([Количество])  Ф_Дом              Ф_Улица  \\\n",
       "0                     11.0     14  ул Маршала Захарова   \n",
       "9                      1.0    115      пр-кт Ветеранов   \n",
       "14                     3.0     31           ул Главная   \n",
       "22                     1.0     59     пр-кт Приморский   \n",
       "27                     8.0     83    пр-кт Гражданский   \n",
       "...                    ...    ...                  ...   \n",
       "1699935                1.0      3      пр-кт Ветеранов   \n",
       "1699946                1.0      7        ул Катерников   \n",
       "1699950                1.0      1         ул Областная   \n",
       "1699967                1.0  11/17      ул Коли Томчака   \n",
       "1699970                1.0     18        ул Лиственная   \n",
       "\n",
       "          Электронный адрес Пациента  Кол-во приемов  \n",
       "0                 k_regina78@mail.ru            13.0  \n",
       "9              alexandra7108@mail.ru            15.0  \n",
       "14              its.kareva@gmail.com            24.0  \n",
       "22       dmitry.rabotinsky@npfets.ru             8.0  \n",
       "27                  gradmama@mail.ru             4.0  \n",
       "...                              ...             ...  \n",
       "1699935              yulia3103@bk.ru             5.0  \n",
       "1699946             ivan.npk@mail.ru             4.0  \n",
       "1699950       homosapiens-90@mail.ru             7.0  \n",
       "1699967     tenoshvilianna@gmail.com             2.0  \n",
       "1699970            Lizausova@list.ru             2.0  \n",
       "\n",
       "[108277 rows x 15 columns]"
      ]
     },
     "execution_count": 102,
     "metadata": {},
     "output_type": "execute_result"
    }
   ],
   "source": [
    "df"
   ]
  },
  {
   "cell_type": "code",
   "execution_count": 21,
   "metadata": {
    "scrolled": true
   },
   "outputs": [],
   "source": [
    "import pandas as pd\n",
    "import os\n",
    "\n",
    "#os.chdir(os.path.join(r'R:\\AmanovRA', r'Книга2.xlsx'))\n",
    "\n",
    "data = pd.read_excel(r'C:\\Users\\AmanovRA\\Anaconda3\\Work-work\\Temp\\2.xlsx', sheet_name='Лист1')"
   ]
  },
  {
   "cell_type": "code",
   "execution_count": 23,
   "metadata": {},
   "outputs": [],
   "source": [
    "zabor = data.groupby('Вид забора').agg({'Сумма' : list})"
   ]
  },
  {
   "cell_type": "code",
   "execution_count": 29,
   "metadata": {},
   "outputs": [
    {
     "data": {
      "text/plain": [
       "<matplotlib.axes._subplots.AxesSubplot at 0x14c71b422c8>"
      ]
     },
     "execution_count": 29,
     "metadata": {},
     "output_type": "execute_result"
    },
    {
     "data": {
      "image/png": "[encoded data removed]",
      "text/plain": [
       "<Figure size 432x288 with 1 Axes>"
      ]
     },
     "metadata": {
      "needs_background": "light"
     },
     "output_type": "display_data"
    }
   ],
   "source": [
    "zabor.loc[['Амбулаторно'], :]['Сумма'].hist()"
   ]
  },
  {
   "cell_type": "code",
   "execution_count": 24,
   "metadata": {},
   "outputs": [],
   "source": [
    "import pandas as pd\n",
    "\n",
    "data = pd.read_excel(r'C:\\Users\\AmanovRA\\Текущее\\Лоры.xlsx')"
   ]
  },
  {
   "cell_type": "code",
   "execution_count": 30,
   "metadata": {},
   "outputs": [],
   "source": [
    "data['Часы_приема'] = data['Интервал приема Исполнителя'].apply(lambda x: x.split(' - ')).apply(lambda x: set(range(*(int(x[0][:2]), int(x[1][:2])+1))))\n"
   ]
  },
  {
   "cell_type": "code",
   "execution_count": 37,
   "metadata": {},
   "outputs": [
    {
     "name": "stdout",
     "output_type": "stream",
     "text": [
      "31 120\n",
      "120 31\n"
     ]
    }
   ],
   "source": [
    "lst = []\n",
    "for row in data.index:\n",
    "    cnt = 0\n",
    "    for second_row in data.index:\n",
    "        if row != second_row:\n",
    "            if data.loc[row]['Дата приема'] == data.loc[second_row]['Дата приема'] and data.loc[row]['Филиал'] == data.loc[second_row]['Филиал']:\n",
    "                if data.loc[row]['Часы_приема'] & data.loc[second_row]['Часы_приема']:\n",
    "                    print(row, second_row)"
   ]
  },
  {
   "cell_type": "code",
   "execution_count": 42,
   "metadata": {},
   "outputs": [
    {
     "data": {
      "text/html": [
       "<div>\n",
       "<style scoped>\n",
       "    .dataframe tbody tr th:only-of-type {\n",
       "        vertical-align: middle;\n",
       "    }\n",
       "\n",
       "    .dataframe tbody tr th {\n",
       "        vertical-align: top;\n",
       "    }\n",
       "\n",
       "    .dataframe thead th {\n",
       "        text-align: right;\n",
       "    }\n",
       "</style>\n",
       "<table border=\"1\" class=\"dataframe\">\n",
       "  <thead>\n",
       "    <tr style=\"text-align: right;\">\n",
       "      <th></th>\n",
       "      <th>Год</th>\n",
       "      <th>Месяц</th>\n",
       "      <th>Филиал</th>\n",
       "      <th>Отделение из профиля Исполнителя</th>\n",
       "      <th>Исполнитель</th>\n",
       "      <th>День недели</th>\n",
       "      <th>Интервал приема Исполнителя</th>\n",
       "      <th>Дата приема</th>\n",
       "      <th>Часы_приема</th>\n",
       "    </tr>\n",
       "  </thead>\n",
       "  <tbody>\n",
       "    <tr>\n",
       "      <th>31</th>\n",
       "      <td>2017</td>\n",
       "      <td>сент.</td>\n",
       "      <td>Некрасова</td>\n",
       "      <td>Отоларингологическое отделение (сектор амбулат...</td>\n",
       "      <td>Коротких Ирина Анатольевна</td>\n",
       "      <td>ср</td>\n",
       "      <td>13:00:00 - 14:00:00</td>\n",
       "      <td>2017-09-27</td>\n",
       "      <td>{13, 14}</td>\n",
       "    </tr>\n",
       "    <tr>\n",
       "      <th>120</th>\n",
       "      <td>2017</td>\n",
       "      <td>сент.</td>\n",
       "      <td>Некрасова</td>\n",
       "      <td>Отоларингологическое отделение (сектор амбулат...</td>\n",
       "      <td>Томилов Денис Александрович</td>\n",
       "      <td>ср</td>\n",
       "      <td>08:00:00 - 13:00:00</td>\n",
       "      <td>2017-09-27</td>\n",
       "      <td>{8, 9, 10, 11, 12, 13}</td>\n",
       "    </tr>\n",
       "  </tbody>\n",
       "</table>\n",
       "</div>"
      ],
      "text/plain": [
       "      Год  Месяц     Филиал  \\\n",
       "31   2017  сент.  Некрасова   \n",
       "120  2017  сент.  Некрасова   \n",
       "\n",
       "                      Отделение из профиля Исполнителя  \\\n",
       "31   Отоларингологическое отделение (сектор амбулат...   \n",
       "120  Отоларингологическое отделение (сектор амбулат...   \n",
       "\n",
       "                     Исполнитель День недели Интервал приема Исполнителя  \\\n",
       "31    Коротких Ирина Анатольевна          ср         13:00:00 - 14:00:00   \n",
       "120  Томилов Денис Александрович          ср         08:00:00 - 13:00:00   \n",
       "\n",
       "    Дата приема             Часы_приема  \n",
       "31   2017-09-27                {13, 14}  \n",
       "120  2017-09-27  {8, 9, 10, 11, 12, 13}  "
      ]
     },
     "execution_count": 42,
     "metadata": {},
     "output_type": "execute_result"
    }
   ],
   "source": [
    "data.loc[[31, 120], [j for j in data.columns if not 'Sum' in j]]"
   ]
  },
  {
   "cell_type": "code",
   "execution_count": 39,
   "metadata": {},
   "outputs": [
    {
     "data": {
      "text/plain": [
       "Год                                                                              2017\n",
       "Месяц                                                                           сент.\n",
       "Филиал                                                                      Некрасова\n",
       "Отделение из профиля Исполнителя    Отоларингологическое отделение (сектор амбулат...\n",
       "Исполнитель                                               Томилов Денис Александрович\n",
       "Sum([Время УТРО Исполнитель])                                                04:00:00\n",
       "Sum([Время ДЕНЬ Исполнитель])                                                01:00:00\n",
       "Sum([Время ВЕЧЕР Исполнитель])                                               00:00:00\n",
       "Sum([Время УТРО Пациент])                                                    01:00:00\n",
       "Sum([Время ДЕНЬ Пациент])                                                    00:00:00\n",
       "Sum([Время ВЕЧЕР Пациент])                                                   00:00:00\n",
       "День недели                                                                        ср\n",
       "Интервал приема Исполнителя                                       08:00:00 - 13:00:00\n",
       "Дата приема                                                       2017-09-27 00:00:00\n",
       "Часы_приема                                                    {8, 9, 10, 11, 12, 13}\n",
       "Name: 120, dtype: object"
      ]
     },
     "execution_count": 39,
     "metadata": {},
     "output_type": "execute_result"
    }
   ],
   "source": [
    "data.loc[120]"
   ]
  },
  {
   "cell_type": "code",
   "execution_count": 3,
   "metadata": {},
   "outputs": [
    {
     "name": "stdout",
     "output_type": "stream",
     "text": [
      "14 < 15 < 16\n"
     ]
    }
   ],
   "source": [
    "a = range(14, 17)\n",
    "print(' < '.join([str(i) for i in a]))"
   ]
  },
  {
   "cell_type": "code",
   "execution_count": 5,
   "metadata": {},
   "outputs": [],
   "source": [
    "from datetime import time\n",
    "\n",
    "time?"
   ]
  },
  {
   "cell_type": "code",
   "execution_count": 1,
   "metadata": {},
   "outputs": [],
   "source": [
    "import pandas as pd\n",
    "\n",
    "data = pd.read_excel(r'C:\\Users\\AmanovRA\\Downloads\\Список доплатных услуг без SCHID.xlsx')"
   ]
  },
  {
   "cell_type": "code",
   "execution_count": 19,
   "metadata": {},
   "outputs": [
    {
     "data": {
      "text/plain": [
       "{'с': 1, 'о': 2, 'к': 1, 'л': 1}"
      ]
     },
     "execution_count": 19,
     "metadata": {},
     "output_type": "execute_result"
    }
   ],
   "source": [
    "from collections import Counter\n",
    "\n",
    "c = Counter('сокол')"
   ]
  },
  {
   "cell_type": "code",
   "execution_count": 27,
   "metadata": {},
   "outputs": [
    {
     "name": "stdout",
     "output_type": "stream",
     "text": [
      "True\n"
     ]
    }
   ],
   "source": [
    "import re\n",
    "\n",
    "pattern = r'\\d{3,}'\n",
    "\n",
    "a = '2454563fff'\n",
    "\n",
    "print(bool(re.search(pattern, a)))"
   ]
  },
  {
   "cell_type": "code",
   "execution_count": 2,
   "metadata": {},
   "outputs": [
    {
     "ename": "AttributeError",
     "evalue": "'numpy.ndarray' object has no attribute 'count'",
     "output_type": "error",
     "traceback": [
      "\u001b[1;31m---------------------------------------------------------------------------\u001b[0m",
      "\u001b[1;31mAttributeError\u001b[0m                            Traceback (most recent call last)",
      "\u001b[1;32m<ipython-input-2-56136e27335e>\u001b[0m in \u001b[0;36m<module>\u001b[1;34m\u001b[0m\n\u001b[0;32m      1\u001b[0m \u001b[1;32mimport\u001b[0m \u001b[0mnumpy\u001b[0m \u001b[1;32mas\u001b[0m \u001b[0mnp\u001b[0m\u001b[1;33m\u001b[0m\u001b[1;33m\u001b[0m\u001b[0m\n\u001b[0;32m      2\u001b[0m \u001b[1;33m\u001b[0m\u001b[0m\n\u001b[1;32m----> 3\u001b[1;33m \u001b[0mnp\u001b[0m\u001b[1;33m.\u001b[0m\u001b[0marray\u001b[0m\u001b[1;33m(\u001b[0m\u001b[1;33m[\u001b[0m\u001b[1;33m[\u001b[0m\u001b[1;36m1\u001b[0m\u001b[1;33m,\u001b[0m\u001b[1;36m2\u001b[0m\u001b[1;33m]\u001b[0m\u001b[1;33m,\u001b[0m \u001b[1;33m[\u001b[0m\u001b[1;36m3\u001b[0m\u001b[1;33m,\u001b[0m\u001b[1;36m4\u001b[0m\u001b[1;33m]\u001b[0m\u001b[1;33m]\u001b[0m\u001b[1;33m)\u001b[0m\u001b[1;33m.\u001b[0m\u001b[0mcount\u001b[0m\u001b[1;33m(\u001b[0m\u001b[1;36m4\u001b[0m\u001b[1;33m)\u001b[0m\u001b[1;33m\u001b[0m\u001b[1;33m\u001b[0m\u001b[0m\n\u001b[0m",
      "\u001b[1;31mAttributeError\u001b[0m: 'numpy.ndarray' object has no attribute 'count'"
     ]
    }
   ],
   "source": [
    "import numpy as np\n",
    "\n",
    "np.array([[1,2], [3,4]])"
   ]
  },
  {
   "cell_type": "code",
   "execution_count": 3,
   "metadata": {},
   "outputs": [
    {
     "data": {
      "text/plain": [
       "'ab'"
      ]
     },
     "execution_count": 3,
     "metadata": {},
     "output_type": "execute_result"
    }
   ],
   "source": [
    "s = 'a'\n",
    "s += 'b'\n",
    "\n",
    "s"
   ]
  },
  {
   "cell_type": "code",
   "execution_count": 4,
   "metadata": {},
   "outputs": [
    {
     "data": {
      "text/plain": [
       "'abc'"
      ]
     },
     "execution_count": 4,
     "metadata": {},
     "output_type": "execute_result"
    }
   ],
   "source": [
    "s+='c'\n",
    "\n",
    "s"
   ]
  },
  {
   "cell_type": "code",
   "execution_count": 22,
   "metadata": {},
   "outputs": [
    {
     "name": "stdout",
     "output_type": "stream",
     "text": [
      "hi\n",
      "Hello world\n",
      "bye\n"
     ]
    }
   ],
   "source": [
    "from functools import wraps\n",
    "\n",
    "def decor(func):\n",
    "    @wraps(func)\n",
    "    def inner():\n",
    "        print('hi')\n",
    "        func()\n",
    "        print('bye')\n",
    "        \n",
    "    return inner\n",
    "\n",
    "@decor\n",
    "def hello():\n",
    "\n",
    "    print('Hello world')\n",
    "    \n",
    "hello.__name__\n",
    "\n",
    "hello()"
   ]
  },
  {
   "cell_type": "code",
   "execution_count": 8,
   "metadata": {},
   "outputs": [
    {
     "name": "stdout",
     "output_type": "stream",
     "text": [
      "Help on class LeaveOneOut in module sklearn.model_selection._split:\n",
      "\n",
      "class LeaveOneOut(BaseCrossValidator)\n",
      " |  Leave-One-Out cross-validator\n",
      " |  \n",
      " |  Provides train/test indices to split data in train/test sets. Each\n",
      " |  sample is used once as a test set (singleton) while the remaining\n",
      " |  samples form the training set.\n",
      " |  \n",
      " |  Note: ``LeaveOneOut()`` is equivalent to ``KFold(n_splits=n)`` and\n",
      " |  ``LeavePOut(p=1)`` where ``n`` is the number of samples.\n",
      " |  \n",
      " |  Due to the high number of test sets (which is the same as the\n",
      " |  number of samples) this cross-validation method can be very costly.\n",
      " |  For large datasets one should favor :class:`KFold`, :class:`ShuffleSplit`\n",
      " |  or :class:`StratifiedKFold`.\n",
      " |  \n",
      " |  Read more in the :ref:`User Guide <cross_validation>`.\n",
      " |  \n",
      " |  Examples\n",
      " |  --------\n",
      " |  >>> import numpy as np\n",
      " |  >>> from sklearn.model_selection import LeaveOneOut\n",
      " |  >>> X = np.array([[1, 2], [3, 4]])\n",
      " |  >>> y = np.array([1, 2])\n",
      " |  >>> loo = LeaveOneOut()\n",
      " |  >>> loo.get_n_splits(X)\n",
      " |  2\n",
      " |  >>> print(loo)\n",
      " |  LeaveOneOut()\n",
      " |  >>> for train_index, test_index in loo.split(X):\n",
      " |  ...     print(\"TRAIN:\", train_index, \"TEST:\", test_index)\n",
      " |  ...     X_train, X_test = X[train_index], X[test_index]\n",
      " |  ...     y_train, y_test = y[train_index], y[test_index]\n",
      " |  ...     print(X_train, X_test, y_train, y_test)\n",
      " |  TRAIN: [1] TEST: [0]\n",
      " |  [[3 4]] [[1 2]] [2] [1]\n",
      " |  TRAIN: [0] TEST: [1]\n",
      " |  [[1 2]] [[3 4]] [1] [2]\n",
      " |  \n",
      " |  See also\n",
      " |  --------\n",
      " |  LeaveOneGroupOut\n",
      " |      For splitting the data according to explicit, domain-specific\n",
      " |      stratification of the dataset.\n",
      " |  \n",
      " |  GroupKFold: K-fold iterator variant with non-overlapping groups.\n",
      " |  \n",
      " |  Method resolution order:\n",
      " |      LeaveOneOut\n",
      " |      BaseCrossValidator\n",
      " |      builtins.object\n",
      " |  \n",
      " |  Methods defined here:\n",
      " |  \n",
      " |  get_n_splits(self, X, y=None, groups=None)\n",
      " |      Returns the number of splitting iterations in the cross-validator\n",
      " |      \n",
      " |      Parameters\n",
      " |      ----------\n",
      " |      X : array-like, shape (n_samples, n_features)\n",
      " |          Training data, where n_samples is the number of samples\n",
      " |          and n_features is the number of features.\n",
      " |      \n",
      " |      y : object\n",
      " |          Always ignored, exists for compatibility.\n",
      " |      \n",
      " |      groups : object\n",
      " |          Always ignored, exists for compatibility.\n",
      " |      \n",
      " |      Returns\n",
      " |      -------\n",
      " |      n_splits : int\n",
      " |          Returns the number of splitting iterations in the cross-validator.\n",
      " |  \n",
      " |  ----------------------------------------------------------------------\n",
      " |  Data and other attributes defined here:\n",
      " |  \n",
      " |  __abstractmethods__ = frozenset()\n",
      " |  \n",
      " |  ----------------------------------------------------------------------\n",
      " |  Methods inherited from BaseCrossValidator:\n",
      " |  \n",
      " |  __repr__(self)\n",
      " |      Return repr(self).\n",
      " |  \n",
      " |  split(self, X, y=None, groups=None)\n",
      " |      Generate indices to split data into training and test set.\n",
      " |      \n",
      " |      Parameters\n",
      " |      ----------\n",
      " |      X : array-like, shape (n_samples, n_features)\n",
      " |          Training data, where n_samples is the number of samples\n",
      " |          and n_features is the number of features.\n",
      " |      \n",
      " |      y : array-like, of length n_samples\n",
      " |          The target variable for supervised learning problems.\n",
      " |      \n",
      " |      groups : array-like, with shape (n_samples,), optional\n",
      " |          Group labels for the samples used while splitting the dataset into\n",
      " |          train/test set.\n",
      " |      \n",
      " |      Yields\n",
      " |      ------\n",
      " |      train : ndarray\n",
      " |          The training set indices for that split.\n",
      " |      \n",
      " |      test : ndarray\n",
      " |          The testing set indices for that split.\n",
      " |  \n",
      " |  ----------------------------------------------------------------------\n",
      " |  Data descriptors inherited from BaseCrossValidator:\n",
      " |  \n",
      " |  __dict__\n",
      " |      dictionary for instance variables (if defined)\n",
      " |  \n",
      " |  __weakref__\n",
      " |      list of weak references to the object (if defined)\n",
      "\n"
     ]
    }
   ],
   "source": [
    "from sklearn.model_selection import LeaveOneOut\n",
    "\n",
    "help(LeaveOneOut)"
   ]
  },
  {
   "cell_type": "code",
   "execution_count": 10,
   "metadata": {},
   "outputs": [
    {
     "name": "stderr",
     "output_type": "stream",
     "text": [
      "C:\\Users\\AmanovRA\\Anaconda3\\lib\\importlib\\_bootstrap.py:219: RuntimeWarning: numpy.ufunc size changed, may indicate binary incompatibility. Expected 192 from C header, got 216 from PyObject\n",
      "  return f(*args, **kwds)\n"
     ]
    },
    {
     "data": {
      "text/plain": [
       "['59.969601', '30.341982']"
      ]
     },
     "execution_count": 10,
     "metadata": {},
     "output_type": "execute_result"
    }
   ],
   "source": [
    "import requests\n",
    "from urllib.request import urlopen, urlretrieve\n",
    "from bs4 import BeautifulSoup\n",
    "import json\n",
    "import openpyxl\n",
    "import pandas as pd\n",
    "\n",
    "api_key = 'b996ed8b-dc1b-4dee-8687-bbb4b26dd313'\n",
    "\n",
    "url = 'https://geocode-maps.yandex.ru/1.x?geocode='\n",
    "\n",
    "           \n",
    "mc21 = ['СПБ Большой Сампсониевский пр. д. 45 лит А']\n",
    "\n",
    "\n",
    "def addr(b):\n",
    "    a = b.replace(' ', '')\n",
    "    a = str(a.encode('utf8'))\n",
    "    i = a[2]\n",
    "    a2 = ''.join(a.split(i))\n",
    "    a3 = a2.replace('x', '%')\n",
    "    resp = urlopen(url + a3.upper() + '&apikey=' + api_key + '&format=json')\n",
    "    rows = resp.read().decode('utf8') # считываем содержимое\n",
    "    lst = json.loads(rows)\n",
    "    coords = lst['response']['GeoObjectCollection']['featureMember'][0]['GeoObject']['Point']['pos'].split()\n",
    "    return [coords[1], coords[0]]\n",
    "\n",
    "addr(mc21[0])"
   ]
  },
  {
   "cell_type": "code",
   "execution_count": 11,
   "metadata": {},
   "outputs": [
    {
     "name": "stdout",
     "output_type": "stream",
     "text": [
      "Угадайте число, от 1 до 1005\n",
      "Слишком мало, попробуйте еще раз\n",
      "Вводите число50\n",
      "Слишком мало, попробуйте еще раз\n",
      "Вводите число75\n",
      "Слишком много, попробуйте еще раз\n",
      "Вводите число62\n",
      "Слишком мало, попробуйте еще раз\n",
      "Вводите число68\n",
      "Вы угадали, поздравляем!, с 5 попытки\n"
     ]
    }
   ],
   "source": [
    "import random\n",
    "\n",
    "number = random.randint(1, 100)\n",
    "\n",
    "flag = True\n",
    "\n",
    "cnt = 1\n",
    "\n",
    "while flag:\n",
    "    if cnt == 1:\n",
    "        n = int(input('Угадайте число, от 1 до 100'))\n",
    "    else:\n",
    "        n = int(input('Вводите число'))\n",
    "    \n",
    "    if n > number:\n",
    "        print('Слишком много, попробуйте еще раз')\n",
    "        cnt += 1\n",
    "    elif n < number:\n",
    "        print('Слишком мало, попробуйте еще раз')\n",
    "        cnt += 1\n",
    "    else:\n",
    "        print(f'Вы угадали, поздравляем!, с {cnt} попытки')\n",
    "        flag = False"
   ]
  },
  {
   "cell_type": "code",
   "execution_count": 17,
   "metadata": {},
   "outputs": [
    {
     "name": "stdout",
     "output_type": "stream",
     "text": [
      "Введите необходимое кол-во паролей1\n",
      "Введите необходимую длину пароля145\n",
      "Включать ли цифры 0123456789?1\n",
      "Включать ли прописные буквы ABCDEFGHIJKLMNOPQRSTUVWXYZ?1\n",
      "Включать ли строчные буквы abcdefghijklmnopqrstuvwxyz?yes\n",
      "Включать ли символы !#$%&*+-=?@^_?no\n",
      "Исключать ли неоднозначные символы il1Lo0O?no\n",
      "w37Ck4F0ijgAwA235QvV69849lPMtIK1Q88YyXQM7O962eoXnZZtaokBWkt6yo0031GkCA4h07067yc4eGDQH1eU6XKK2rz0N22kCRf6K0X44C1QJ8E4P52DsQ33R2zyR1s5sE48saU40carl\n"
     ]
    }
   ],
   "source": [
    "'''Генератор безопасных паролей'''\n",
    "\n",
    "import random\n",
    "\n",
    "\n",
    "\n",
    "n = int(input('Введите необходимое кол-во паролей'))\n",
    "\n",
    "password_arr = [[] for i in range(n)]\n",
    "\n",
    "len_pass = int(input('Введите необходимую длину пароля'))\n",
    "\n",
    "def modify_answer(s):\n",
    "    if s.lower() in ('нет', 'не', 'no', 'n', 'н', 'false', '0'):\n",
    "        return False\n",
    "    return True\n",
    "    \n",
    "\n",
    "search_dct = {'0123456789' : modify_answer(input('Включать ли цифры 0123456789?')),\n",
    "              'ABCDEFGHIJKLMNOPQRSTUVWXYZ' : modify_answer(input('Включать ли прописные буквы ABCDEFGHIJKLMNOPQRSTUVWXYZ?')),\n",
    "              'abcdefghijklmnopqrstuvwxyz' : modify_answer(input('Включать ли строчные буквы abcdefghijklmnopqrstuvwxyz?')),\n",
    "              '!#$%&*+-=?@^_?' : modify_answer(input('Включать ли символы !#$%&*+-=?@^_?')),\n",
    "              'il1Lo0O' : modify_answer(input('Исключать ли неоднозначные символы il1Lo0O?'))}\n",
    "\n",
    "search_arr = [list(key) for key in search_dct if search_dct[key] and key != 'il1Lo0O']\n",
    "\n",
    "for i, j in enumerate(password_arr):\n",
    "    for x in range(len_pass):\n",
    "        symbol = ''\n",
    "        while symbol == '':\n",
    "            symbol = random.choice(random.choice(search_arr))\n",
    "            if search_dct['il1Lo0O']:\n",
    "                if symbol in 'il1Lo0O':\n",
    "                    symbol = ''\n",
    "                    continue\n",
    "            password_arr[i].append(symbol)\n",
    "            \n",
    "            \n",
    "for i in password_arr:\n",
    "    print(*i, sep='')\n"
   ]
  },
  {
   "cell_type": "code",
   "execution_count": 35,
   "metadata": {},
   "outputs": [
    {
     "data": {
      "text/plain": [
       "'лхкрпч, фьш мпъэпь, ьпщхш пцэ чк ымпьп!'"
      ]
     },
     "execution_count": 35,
     "metadata": {},
     "output_type": "execute_result"
    }
   ],
   "source": [
    "\n",
    "\n",
    "\n",
    "def shifr(s, k, l='en'):\n",
    "    arr = []\n",
    "    s = s.lower()\n",
    "    eng_lower_alphabet = 'abcdefghijklmnopqrstuvwxyz'\n",
    "    rus_lower_alphabet = \"абвгдежзийклмнопрстуфхцчшщъыьэюя\"\n",
    "    if l == 'en':\n",
    "        for i in s:\n",
    "            if i in eng_lower_alphabet:\n",
    "                letter = eng_lower_alphabet[(eng_lower_alphabet.find(i) + k) % 25]\n",
    "                arr.append(letter)\n",
    "            else:\n",
    "                arr.append(i)\n",
    "        \n",
    "    else:\n",
    "        for i in s:\n",
    "            if i in rus_lower_alphabet:\n",
    "                letter = rus_lower_alphabet[(rus_lower_alphabet.find(i) + k) % 31]\n",
    "                arr.append(letter)\n",
    "            else:\n",
    "                arr.append(i)\n",
    "    return ''.join(arr)\n",
    "\n",
    "\n",
    "shifr(\"Блажен, кто верует, тепло ему на свете!\", 10, 'rus')\n",
    "        \n",
    "\n",
    "    \n",
    "    \n",
    "   \n",
    "    "
   ]
  },
  {
   "cell_type": "code",
   "execution_count": 1,
   "metadata": {},
   "outputs": [
    {
     "data": {
      "text/plain": [
       "True"
      ]
     },
     "execution_count": 1,
     "metadata": {},
     "output_type": "execute_result"
    }
   ],
   "source": [
    "n = 'Следующее число - 642654, кажется процесс зациклился...'\n",
    "m = 'Следующее число - 642654, кажется процесс зациклился...'\n",
    "\n",
    "n == m"
   ]
  },
  {
   "cell_type": "code",
   "execution_count": 68,
   "metadata": {},
   "outputs": [],
   "source": [
    "def convert(num, to_base=10, from_base=10):\n",
    "    num = int(str(num), base=from_base)\n",
    "    arr = []\n",
    "    dct = dict(zip(range(10, 36), __import__('string').ascii_uppercase))\n",
    "    while num >= to_base:\n",
    "        num, ost = divmod(num, to_base)\n",
    "        arr.append(ost)\n",
    "    arr.append(num)\n",
    "    return ''.join([str(dct[i]) if i in dct else str(i) for i in arr[::-1]])\n",
    "    "
   ]
  },
  {
   "cell_type": "code",
   "execution_count": 69,
   "metadata": {},
   "outputs": [
    {
     "data": {
      "text/plain": [
       "'36F'"
      ]
     },
     "execution_count": 69,
     "metadata": {},
     "output_type": "execute_result"
    }
   ],
   "source": [
    "convert(879, from_base=10, to_base=16)"
   ]
  },
  {
   "cell_type": "code",
   "execution_count": 47,
   "metadata": {},
   "outputs": [
    {
     "data": {
      "text/plain": [
       "1001000"
      ]
     },
     "execution_count": 47,
     "metadata": {},
     "output_type": "execute_result"
    }
   ],
   "source": [
    "int('1001000', base=10)"
   ]
  },
  {
   "cell_type": "code",
   "execution_count": 48,
   "metadata": {},
   "outputs": [
    {
     "data": {
      "text/plain": [
       "'0b1101101111'"
      ]
     },
     "execution_count": 48,
     "metadata": {},
     "output_type": "execute_result"
    }
   ],
   "source": [
    "bin(879)"
   ]
  },
  {
   "cell_type": "code",
   "execution_count": 49,
   "metadata": {},
   "outputs": [
    {
     "data": {
      "text/plain": [
       "26"
      ]
     },
     "execution_count": 49,
     "metadata": {},
     "output_type": "execute_result"
    }
   ],
   "source": [
    "len('ABCDEFGHIJKLMNOPQRSTUVWXYZ')"
   ]
  },
  {
   "cell_type": "code",
   "execution_count": 64,
   "metadata": {},
   "outputs": [
    {
     "data": {
      "text/plain": [
       "'0x36f'"
      ]
     },
     "execution_count": 64,
     "metadata": {},
     "output_type": "execute_result"
    }
   ],
   "source": [
    "hex(879)"
   ]
  },
  {
   "cell_type": "code",
   "execution_count": 6,
   "metadata": {},
   "outputs": [],
   "source": [
    "from bs4 import BeautifulSoup\n",
    "from urllib.request import urlopen, urlretrieve\n",
    "\n",
    "resp = urlopen('http://detskie-raskraski.ru/raskraski-obuchayushchie/raskraski-labirinty') # скачиваем файл\n",
    "html = resp.read().decode('utf8') # считываем содержимое\n",
    "soup = BeautifulSoup(html, 'html.parser') # делаем суп\n",
    "\n",
    "for link in soup.find_all('a'):\n",
    "    if link.get('href')[-3:] == 'jpg':\n",
    "        urlretrieve(link.get('href'), 'Lab2\\\\' + link.get('href')[-6:])\n"
   ]
  },
  {
   "cell_type": "code",
   "execution_count": 10,
   "metadata": {},
   "outputs": [],
   "source": [
    "import win32api\n",
    "import win32print\n",
    "from glob import glob\n"
   ]
  },
  {
   "cell_type": "code",
   "execution_count": 21,
   "metadata": {},
   "outputs": [
    {
     "data": {
      "text/plain": [
       "42"
      ]
     },
     "execution_count": 21,
     "metadata": {},
     "output_type": "execute_result"
    }
   ],
   "source": [
    "name = win32print.GetDefaultPrinter() # verify that it matches with the name of your printer\n",
    "printdefaults = {\"DesiredAccess\": win32print.PRINTER_ALL_ACCESS} # Doesn't work with PRINTER_ACCESS_USE\n",
    "# handle = win32print.OpenPrinter(name, printdefaults)\n",
    "# level = 2\n",
    "# attributes = win32print.GetPrinter(handle, level)\n",
    "# #attributes['pDevMode'].Duplex = 1  #no flip\n",
    "# #attributes['pDevMode'].Duplex = 2  #flip up\n",
    "# #attributes['pDevMode'].Duplex = 3   #flip over\n",
    "# win32print.SetPrinter(handle, level, attributes, 0)\n",
    "#win32print.GetPrinter(handle, level)['pDevMode'].Duplex\n",
    "win32api.ShellExecute(0,'print',r'C:\\Users\\AmanovRA\\Anaconda3\\Work-work\\Temp\\L\\10.jpg','.','/manualstoprint',0)\n",
    "\n",
    "\n",
    "\n",
    "\n",
    "\n",
    "# # A List containing the system printers\n",
    "# all_printers = [printer[2] for printer in win32print.EnumPrinters(2)]\n",
    "# # Ask the user to select a printer\n",
    "# printer_num = int(input(\"Choose a printer:\\n\"+\"\\n\".join([f\"{n} {p}\" for n, p in enumerate(all_printers)])+\"\\n\"))\n",
    "# # set the default printer\n",
    "# name = win32print.GetDefaultPrinter()\n",
    "# win32print.SetDefaultPrinter(name)\n",
    "# pdf_dir = r\"C:\\Users\\AmanovRA\\Anaconda3\\Work-work\\Temp\\L\"\n",
    "# for f in glob(pdf_dir, recursive=True):\n",
    "#     win32api.ShellExecute(0, \"print\", f, None,  \".\",  0)\n",
    "\n"
   ]
  },
  {
   "cell_type": "code",
   "execution_count": 24,
   "metadata": {},
   "outputs": [
    {
     "name": "stdout",
     "output_type": "stream",
     "text": [
      "\\\\MC-PRN-03\\Kyo-Mans\n",
      "COLOR\n"
     ]
    }
   ],
   "source": [
    "import win32api\n",
    "import win32print\n",
    "import traceback\n",
    "\n",
    "from tkinter.filedialog import askopenfilename\n",
    "from tkinter import *\n",
    "from tkinter import font # * doesn't import font or messagebox\n",
    "from tkinter import messagebox\n",
    "\n",
    "root = Tk()\n",
    "root.title(\"Python Printer\")\n",
    "root.geometry(\"410x310\")\n",
    "root.resizable(False, False)\n",
    "root.tk.call('encoding', 'system', 'utf-8')\n",
    "\n",
    "def font_size(fs):\n",
    "    return font.Font(family='Helvetica', size=fs, weight='bold')\n",
    "\n",
    "# Add a grid\n",
    "mainframe = Frame(root)\n",
    "#mainframe.grid(column=0,row=0, sticky=(N,W,E,S) )\n",
    "mainframe.grid(column=0,row=0, sticky=(N) )\n",
    "mainframe.columnconfigure(0, weight = 1)\n",
    "mainframe.rowconfigure(0, weight = 1)\n",
    "mainframe.pack(pady = 10, padx = 0)\n",
    "\n",
    "# Create a _printer variable\n",
    "_printer = StringVar(root)\n",
    "# Create a _color variable\n",
    "_color = StringVar(root)\n",
    "_filename = \"\"\n",
    "\n",
    "# on change dropdown value\n",
    "def sel_printer(*args):\n",
    "    print( _printer.get() )\n",
    "# link function to change dropdown\n",
    "_printer.trace('w', sel_printer)\n",
    "\n",
    "def sel_color(*args):\n",
    "    print( _color.get() )\n",
    "# link function to change dropdown\n",
    "_color.trace('w', sel_color)\n",
    "\n",
    "def UploadAction(event=None):\n",
    "    global _filename\n",
    "    _filename = filedialog.askopenfilename()\n",
    "    #print('Selected:', _filename)\n",
    "\n",
    "def PrintAction(event=None):\n",
    "\n",
    "    PRINTER_DEFAULTS = {\"DesiredAccess\":win32print.PRINTER_ALL_ACCESS} \n",
    "    pHandle = win32print.OpenPrinter(_printer.get(), PRINTER_DEFAULTS)\n",
    "    properties = win32print.GetPrinter(pHandle, 2)\n",
    "    properties['pDevMode'].Color = 1 if str(_color.get()) == \"Color\" else 2\n",
    "    properties['pDevMode'].Copies = 1\n",
    "    win32print.SetPrinter(pHandle, 2, properties, 0)\n",
    "\n",
    "    if not _filename:\n",
    "        messagebox.showerror(\"Error\", \"No File Selected\")\n",
    "        return\n",
    "    elif not _printer.get():\n",
    "        messagebox.showerror(\"Error\", \"No Printer Selected\")\n",
    "        return\n",
    "\n",
    "    try:\n",
    "        #win32print.SetDefaultPrinter(_printer.get())\n",
    "        win32api.ShellExecute(0, \"print\", _filename, None,  \".\",  0)\n",
    "        win32print.ClosePrinter(pHandle)\n",
    "    except:\n",
    "        pass\n",
    "        messagebox.showerror(\"Error\", \"There was an error printing the file :(\")\n",
    "\n",
    "choices = [printer[2] for printer in win32print.EnumPrinters(2)]\n",
    "_printer.set(win32print.GetDefaultPrinter()) # set the default option\n",
    "\n",
    "popupMenu = OptionMenu(mainframe, _printer, *choices)\n",
    "popupMenu['font'] = font_size(12)\n",
    "Label(mainframe, text=\"SELECT PRINTER\").grid(row = 1, column = 1)\n",
    "popupMenu.grid(row = 2, column =1)\n",
    "\n",
    "# Dictionary with options\n",
    "choices = [\"COLOR\", \"MONOCHROME\"]\n",
    "_color.set(\"COLOR\") # set the default option\n",
    "\n",
    "popupMenu2 = OptionMenu(mainframe, _color, *choices)\n",
    "popupMenu2['font'] = font_size(12)\n",
    "Label(mainframe, text=\"COLOR MODE\").grid(row = 3, column = 1)\n",
    "popupMenu2.grid(row = 4, column =1)\n",
    "\n",
    "Label(mainframe, text=\"SELECT FILE\").grid(row = 5, column = 1)\n",
    "button = Button(mainframe, text=u\"\\uD83D\\uDCC1\" ' BROWSE', command=UploadAction)\n",
    "button['font'] = font_size(12)\n",
    "button.grid(row = 6, column =1)\n",
    "\n",
    "\n",
    "_copies = IntVar()\n",
    "_copies.set(1)\n",
    "\n",
    "def copies_increase(event=None):\n",
    "    _copies.set(_copies.get() + 1)\n",
    "\n",
    "def copies_decrease(event=None):\n",
    "    _copies.set(_copies.get() - 1)\n",
    "    if _copies.get() < 1 :\n",
    "        _copies.set(1)\n",
    "\n",
    "Label(mainframe, textvariable=_copies).grid(columnspan=2)\n",
    "button_frame = Frame(mainframe)\n",
    "button_frame.grid(columnspan=2)\n",
    "\n",
    "\n",
    "dec_button = Button(button_frame, text=u\"\\u2212\", command=copies_decrease, fg=\"dark green\", bg = \"white\", height=1, width=3 )\n",
    "dec_button['font'] = font_size(10)\n",
    "\n",
    "inc_button = Button(button_frame, text=u\"\\uFF0B\", command=copies_increase, fg=\"dark green\", bg = \"white\", height=1, width=3 )\n",
    "inc_button['font'] = font_size(10)\n",
    "\n",
    "button_frame.columnconfigure(0, weight=1)\n",
    "button_frame.columnconfigure(1, weight=1)\n",
    "\n",
    "dec_button.grid(row=0, column=0, sticky=W+E)\n",
    "inc_button.grid(row=0, column=1, sticky=W+E)\n",
    "\n",
    "Label(mainframe).grid(row = 10, column = 1)\n",
    "p_button = Button(mainframe, text=u'\\uD83D\\uDDB6' + \" PRINT\", command=PrintAction, fg=\"dark green\", bg = \"white\")\n",
    "p_button['font'] = font_size(18)\n",
    "p_button.grid(row = 11, column =1)\n",
    "\n",
    "root.mainloop()"
   ]
  },
  {
   "cell_type": "code",
   "execution_count": 30,
   "metadata": {},
   "outputs": [],
   "source": [
    "import requests\n",
    "from urllib.request import urlopen, urlretrieve\n",
    "from bs4 import BeautifulSoup\n",
    "import json\n",
    "import openpyxl\n",
    "import pandas as pd\n",
    "\n",
    "api_key = 'b996ed8b-dc1b-4dee-8687-bbb4b26dd313'\n",
    "\n",
    "url = 'https://geocode-maps.yandex.ru/1.x?geocode='\n",
    "\n",
    "\n",
    "def addr(b):\n",
    "    a = b.replace(' ', '')\n",
    "    a = str(a.encode('utf8'))\n",
    "    i = a[2]\n",
    "    a2 = ''.join(a.split(i))\n",
    "    a3 = a2.replace('x', '%')\n",
    "    resp = urlopen(url + a3.upper() + '&apikey=' + api_key + '&format=json')\n",
    "    rows = resp.read().decode('utf8') # считываем содержимое\n",
    "    lst = json.loads(rows)\n",
    "    coords = lst['response']['GeoObjectCollection']['featureMember'][0]['GeoObject']['Point']['pos'].split()\n",
    "    return [coords[1], coords[0]]\n",
    "\n",
    "data = pd.read_excel(r'C:\\Users\\AmanovRA\\Текущее\\Логопедические центры\\Сайты_центров.xlsx')\n"
   ]
  },
  {
   "cell_type": "code",
   "execution_count": 33,
   "metadata": {},
   "outputs": [],
   "source": [
    "data['Список адресов'] = data['Адреса филиалов'].apply(lambda x: x.split(';'))"
   ]
  },
  {
   "cell_type": "code",
   "execution_count": 40,
   "metadata": {},
   "outputs": [],
   "source": [
    "dct = {'names' : [],\n",
    "      'adresses' : [],\n",
    "      'coords' : []}\n",
    "\n",
    "for index, name in enumerate(data['Наименование центра']):\n",
    "    for adress in data['Список адресов'][index]:\n",
    "        dct['names'].append(name)\n",
    "        dct['adresses'].append(adress)\n",
    "        try:\n",
    "            dct['coords'].append(' '.join(addr(adress)))\n",
    "        except:\n",
    "            dct['coords'].append('')\n",
    "    "
   ]
  },
  {
   "cell_type": "code",
   "execution_count": 47,
   "metadata": {},
   "outputs": [],
   "source": [
    "data1 = pd.DataFrame(dct)\n",
    "data1.coords[4] = '0 0'\n",
    "data1['coords1'], data1['coords2'] = data1['coords'].apply(lambda x: x.split()[0]), data1['coords'].apply(lambda x: x.split()[1])"
   ]
  },
  {
   "cell_type": "code",
   "execution_count": 49,
   "metadata": {},
   "outputs": [],
   "source": [
    "data1.to_excel(r'C:\\Users\\AmanovRA\\Текущее\\Логопедические центры\\coords_logoped.xlsx', index=False)"
   ]
  },
  {
   "cell_type": "code",
   "execution_count": null,
   "metadata": {},
   "outputs": [],
   "source": []
  }
 ],
 "metadata": {
  "kernelspec": {
   "display_name": "Python 3",
   "language": "python",
   "name": "python3"
  },
  "language_info": {
   "codemirror_mode": {
    "name": "ipython",
    "version": 3
   },
   "file_extension": ".py",
   "mimetype": "text/x-python",
   "name": "python",
   "nbconvert_exporter": "python",
   "pygments_lexer": "ipython3",
   "version": "3.7.6"
  }
 },
 "nbformat": 4,
 "nbformat_minor": 4
}
