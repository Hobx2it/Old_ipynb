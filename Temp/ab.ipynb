{
 "cells": [
  {
   "cell_type": "code",
   "execution_count": 2,
   "metadata": {},
   "outputs": [],
   "source": [
    "import pandas as pd\n",
    "\n",
    "\n",
    "\n",
    "au_telefons = pd.read_excel('АУ_октябрь_ноябрь.xlsx')\n",
    "au_telefons = au_telefons.fillna('')\n",
    "# dom, mobil, work = au_telefons['Телефон домашний'].tolist(), au_telefons['Телефон мобильный'].tolist(), au_telefons['Телефон рабочий'].tolist()\n",
    "# pattern = r'\\(\\d{2}\\)'\n",
    "# pattern2 = r'[а-яА-Яa-zA-Z]{1}'\n",
    "\n",
    "# for key in (dom, mobil, work):\n",
    "#     for i, j in enumerate(key):\n",
    "#         if len([x for x in j if x.isdigit()]) == 10:\n",
    "#             key[i] = '7' + ''.join([x for x in j if x.isdigit()])    \n",
    "#         if len([x for x in j if x.isdigit()]) == 11:\n",
    "#             temp_arr = ''.join([x for x in j if x.isdigit()])\n",
    "#             if temp_arr[0] == '8':\n",
    "#                 key[i] = '7' + temp_arr[1:]\n",
    "#             elif temp_arr[0] == '7':    \n",
    "#                 key[i] = temp_arr\n",
    "\n",
    "\n",
    "\n",
    "\n",
    "# for key in (dom, mobil, work):\n",
    "#     for i, j in enumerate(key):\n",
    "#         if type(j) == str:\n",
    "#             key[i] = ''.join([x if x not in ',;!:.\\\\/+' else ' ' for x in j])        \n",
    "#             key[i] = key[i].lstrip(' ')\n",
    "#             key[i] = key[i].rstrip(' ')\n",
    "#             if re.search(pattern2, key[i]):\n",
    "#                 key[i] = re.sub(pattern2, '', key[i])\n",
    "#             key[i] = ''.join([x for x in key[i] if x not in '()-'])  \n",
    "            \n",
    "# for key in (dom, mobil, work):\n",
    "#     for i, j in enumerate(key):\n",
    "#         if type(j) == str:\n",
    "#             if len(j) == 7:\n",
    "#                 key[i] = '7812' + key[i]\n",
    "#             elif len(j) == 11 and j[0] == '8':\n",
    "#                 key[i] = '7' + j[1:]\n",
    "#             elif len(j) == 10:\n",
    "#                 key[i] = '7' + j\n",
    "                \n",
    "# def concate_lists(*args) -> list:   # соединим все номера в одну строку чтобы проще было искать\n",
    "#     temp_lst = []\n",
    "#     for i in range(len(args[0])):\n",
    "#         temp_lst.append(' '.join([str(x[i]) for x in args]))\n",
    "#     return temp_lst\n",
    "            \n",
    "# lst_search = concate_lists(dom, mobil, work)  \n",
    "\n",
    "# pd.Series(lst_search).to_excel('Номера_телефонов.xlsx')\n",
    "\n",
    "au_telefons.to_excel('ввв.xlsx')"
   ]
  },
  {
   "cell_type": "code",
   "execution_count": null,
   "metadata": {},
   "outputs": [],
   "source": []
  }
 ],
 "metadata": {
  "kernelspec": {
   "display_name": "Python 3",
   "language": "python",
   "name": "python3"
  },
  "language_info": {
   "codemirror_mode": {
    "name": "ipython",
    "version": 3
   },
   "file_extension": ".py",
   "mimetype": "text/x-python",
   "name": "python",
   "nbconvert_exporter": "python",
   "pygments_lexer": "ipython3",
   "version": "3.7.6"
  }
 },
 "nbformat": 4,
 "nbformat_minor": 4
}
