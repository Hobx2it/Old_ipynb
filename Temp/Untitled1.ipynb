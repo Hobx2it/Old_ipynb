{
 "cells": [
  {
   "cell_type": "code",
   "execution_count": 195,
   "metadata": {},
   "outputs": [],
   "source": [
    "import pandas as pd\n",
    "import os\n",
    "import numpy as np"
   ]
  },
  {
   "cell_type": "code",
   "execution_count": 196,
   "metadata": {},
   "outputs": [],
   "source": [
    "os.chdir('R:\\AmanovRA')"
   ]
  },
  {
   "cell_type": "code",
   "execution_count": 197,
   "metadata": {},
   "outputs": [],
   "source": [
    "data = pd.read_excel('Врачи.xlsx')"
   ]
  },
  {
   "cell_type": "code",
   "execution_count": 198,
   "metadata": {},
   "outputs": [],
   "source": [
    "data = data.replace(r'^-$', np.NaN, regex=True)"
   ]
  },
  {
   "cell_type": "code",
   "execution_count": 199,
   "metadata": {},
   "outputs": [],
   "source": [
    "data = data.dropna()"
   ]
  },
  {
   "cell_type": "code",
   "execution_count": 200,
   "metadata": {},
   "outputs": [],
   "source": [
    "data = data[~data['Структура 3 уровень'].isin(['Обособленное подразделение Валдай', 'Операционный блок', 'Линия экспертизы застрахованного и прикрепленного контингента',\n",
    "       'Общепроизводственные задачи', 'ЦВОП Бадаева',\n",
    "       'Администраторы амбулаторной сети', 'Страховой стол',\n",
    "       'Управление Разработки ПО и Бизнес-процессов'])]\n",
    "\n",
    "data = data.rename(columns = {'Count(distinct[Номер карты])': 'Кол-во пациентов'})\n",
    "\n",
    "data['Структура 3 уровень'] = data['Структура 3 уровень'].map({\n",
    "    'Отделение амбулаторных медицинских сестёр': 'Сестры',\n",
    "       'Отделение медицинских сестёр на линии': 'Сестры',\n",
    "       'Отделение медицинских сестёр сестринского ухода': 'Сестры',\n",
    "       'Отделение Рентгенологии': 'Рентген', \n",
    "       'Терапевтическое отделение Север': 'Терапевты',\n",
    "       'Дерматологическое отделение': 'Дерматологи',\n",
    "       'Оториноларингологическое направление': 'ЛОР',\n",
    "       'Эндоскопическое отделение': 'Эндоскопическое', \n",
    "       'Терапевтическое отделение Юг': 'Терапевты',\n",
    "       'Хирургическое направление': 'Хирурги', \n",
    "        'Сектор врачей': 'Стоматология',\n",
    "       'Терапевтическое отделение Восток': 'Терапевты',\n",
    "       'Терапевтическое отделение Северо-Запад': 'Терапевты',\n",
    "       'Урологическое отделение': 'Урологи', \n",
    "        'Офтальмологическое направление': 'Офтальмологи',\n",
    "       'Направление \"Ультразвуковой и функциональной диагностики\"': 'УЗИ',\n",
    "       'Гинекологическое направление': 'УЗИ',\n",
    "       'Направление \"Амбулаторные педиатрические услуги\"': 'Педиатры',\n",
    "       'Направление \"Травматология\"': 'Травматологи',\n",
    "       'Неврологическое отделение взрослое': 'Неврологи',\n",
    "       'Психотерапевтическое отделение': 'Психотерапевты',\n",
    "       'Направление  \"Амбулаторная реабилитация\"': 'Реабилитация',\n",
    "       'Направление \"Выездные педиатрические услуги\"': 'Педиатры',\n",
    "       'Неврологическое отделение детское': 'Неврологи',\n",
    "       'Анестезиологическое отделение': 'Анестезиологи', \n",
    "       'Аллергологическое отделение': 'Аллергологи',\n",
    "       'Эндокринологическое отделение': 'Эндокринологи',\n",
    "       'Кардиологическое отделение детское': 'Кардиологи',\n",
    "       'Отделение ассистентов терапевтов': 'Сестры',\n",
    "       'Отделение восстановительной медицины': 'Реабилитация', \n",
    "        'Отделение массажа и ФТЛ': 'Сестры',\n",
    "       'Направление  \"Выездная реабилитация\"': 'Реабилитация'\n",
    "    \n",
    "})"
   ]
  },
  {
   "cell_type": "markdown",
   "metadata": {},
   "source": [
    "# Плохой баланс классов, сейчас оставлю с >= 4 процентов"
   ]
  },
  {
   "cell_type": "code",
   "execution_count": 201,
   "metadata": {},
   "outputs": [
    {
     "data": {
      "text/plain": [
       "['Травматологи',\n",
       " 'Офтальмологи',\n",
       " 'Стоматология',\n",
       " 'Урологи',\n",
       " 'Дерматологи',\n",
       " 'Эндоскопическое',\n",
       " 'Эндокринологи',\n",
       " 'Кардиологи',\n",
       " 'Рентген',\n",
       " 'Аллергологи',\n",
       " 'Психотерапевты',\n",
       " 'Анестезиологи']"
      ]
     },
     "execution_count": 201,
     "metadata": {},
     "output_type": "execute_result"
    }
   ],
   "source": [
    "bad_balance = list(map(str.strip, '''Травматологи       \n",
    "Офтальмологи       \n",
    "Стоматология       \n",
    "Урологи            \n",
    "Дерматологи        \n",
    "Эндоскопическое    \n",
    "Эндокринологи      \n",
    "Кардиологи         \n",
    "Рентген          \n",
    "Аллергологи        \n",
    "Психотерапевты     \n",
    "Анестезиологи '''.split('\\n')))\n",
    "\n",
    "bad_balance"
   ]
  },
  {
   "cell_type": "code",
   "execution_count": 202,
   "metadata": {},
   "outputs": [],
   "source": [
    "data = data[~data['Структура 3 уровень'].isin(bad_balance)]"
   ]
  },
  {
   "cell_type": "code",
   "execution_count": 203,
   "metadata": {},
   "outputs": [],
   "source": [
    "data_new = data.pivot_table(index='Исполнитель', columns='Месяц', values=['Выработка', 'Кол-во услуг', 'Кол-во пациентов'],\n",
    "                           aggfunc={'Выработка': sum, 'Кол-во услуг': sum, 'Кол-во пациентов': sum})"
   ]
  },
  {
   "cell_type": "code",
   "execution_count": 204,
   "metadata": {},
   "outputs": [],
   "source": [
    "data_new.columns = list(map(' '.join, data_new.columns))"
   ]
  },
  {
   "cell_type": "code",
   "execution_count": 205,
   "metadata": {},
   "outputs": [],
   "source": [
    "data_new = data_new.merge(data[['Исполнитель', 'Структура 3 уровень']], left_index=True, right_on='Исполнитель')"
   ]
  },
  {
   "cell_type": "code",
   "execution_count": 206,
   "metadata": {},
   "outputs": [],
   "source": [
    "data_new = data_new.drop_duplicates(subset='Исполнитель')"
   ]
  },
  {
   "cell_type": "code",
   "execution_count": 207,
   "metadata": {},
   "outputs": [],
   "source": [
    "data_new = data_new.fillna(0).reset_index(drop=True)"
   ]
  },
  {
   "cell_type": "code",
   "execution_count": 208,
   "metadata": {},
   "outputs": [],
   "source": [
    "X, y = data_new[[column for column in data_new.columns if column not in ('Исполнитель', 'Структура 3 уровень') ]], data_new['Структура 3 уровень']"
   ]
  },
  {
   "cell_type": "code",
   "execution_count": 209,
   "metadata": {},
   "outputs": [],
   "source": [
    "from sklearn.model_selection import train_test_split"
   ]
  },
  {
   "cell_type": "code",
   "execution_count": 210,
   "metadata": {},
   "outputs": [],
   "source": [
    "X_train, X_test, y_train, y_test = train_test_split(X, y, test_size=0.2)"
   ]
  },
  {
   "cell_type": "code",
   "execution_count": 211,
   "metadata": {},
   "outputs": [],
   "source": [
    "from sklearn.preprocessing import StandardScaler"
   ]
  },
  {
   "cell_type": "code",
   "execution_count": 212,
   "metadata": {},
   "outputs": [],
   "source": [
    "scaler = StandardScaler().fit(X_train)"
   ]
  },
  {
   "cell_type": "code",
   "execution_count": 213,
   "metadata": {},
   "outputs": [],
   "source": [
    "X_train_new, X_test_new = scaler.transform(X_train), scaler.transform(X_test)"
   ]
  },
  {
   "cell_type": "code",
   "execution_count": 214,
   "metadata": {},
   "outputs": [
    {
     "data": {
      "text/plain": [
       "GridSearchCV(cv=3, error_score=nan,\n",
       "             estimator=KNeighborsClassifier(algorithm='auto', leaf_size=30,\n",
       "                                            metric='minkowski',\n",
       "                                            metric_params=None, n_jobs=None,\n",
       "                                            n_neighbors=5, p=2,\n",
       "                                            weights='uniform'),\n",
       "             iid='deprecated', n_jobs=None,\n",
       "             param_grid={'n_neighbors': [2, 3, 4, 5, 6, 7, 8, 9, 10, 11, 12, 13,\n",
       "                                         14]},\n",
       "             pre_dispatch='2*n_jobs', refit=True, return_train_score=False,\n",
       "             scoring=None, verbose=0)"
      ]
     },
     "execution_count": 214,
     "metadata": {},
     "output_type": "execute_result"
    }
   ],
   "source": [
    "from sklearn.neighbors import KNeighborsClassifier\n",
    "from sklearn.model_selection import GridSearchCV\n",
    "\n",
    "params = {'n_neighbors': list(range(2, 15))}\n",
    "\n",
    "gcv = GridSearchCV(estimator=KNeighborsClassifier(), cv=3, param_grid=params)\n",
    "\n",
    "gcv.fit(X_train_new, y_train)"
   ]
  },
  {
   "cell_type": "code",
   "execution_count": 215,
   "metadata": {},
   "outputs": [
    {
     "data": {
      "text/plain": [
       "0.6728187919463087"
      ]
     },
     "execution_count": 215,
     "metadata": {},
     "output_type": "execute_result"
    }
   ],
   "source": [
    "from sklearn.metrics import accuracy_score\n",
    "\n",
    "accuracy_score(y_train, gcv.predict(X_train_new))"
   ]
  },
  {
   "cell_type": "code",
   "execution_count": 216,
   "metadata": {},
   "outputs": [
    {
     "data": {
      "text/plain": [
       "0.6333333333333333"
      ]
     },
     "execution_count": 216,
     "metadata": {},
     "output_type": "execute_result"
    }
   ],
   "source": [
    "accuracy_score(y_test, gcv.predict(X_test_new))"
   ]
  },
  {
   "cell_type": "code",
   "execution_count": 217,
   "metadata": {},
   "outputs": [
    {
     "name": "stderr",
     "output_type": "stream",
     "text": [
      "C:\\Users\\AmanovRA\\Anaconda3\\lib\\site-packages\\sklearn\\linear_model\\_logistic.py:940: ConvergenceWarning: lbfgs failed to converge (status=1):\n",
      "STOP: TOTAL NO. of ITERATIONS REACHED LIMIT.\n",
      "\n",
      "Increase the number of iterations (max_iter) or scale the data as shown in:\n",
      "    https://scikit-learn.org/stable/modules/preprocessing.html\n",
      "Please also refer to the documentation for alternative solver options:\n",
      "    https://scikit-learn.org/stable/modules/linear_model.html#logistic-regression\n",
      "  extra_warning_msg=_LOGISTIC_SOLVER_CONVERGENCE_MSG)\n"
     ]
    },
    {
     "data": {
      "text/plain": [
       "LogisticRegression(C=1.0, class_weight=None, dual=False, fit_intercept=True,\n",
       "                   intercept_scaling=1, l1_ratio=None, max_iter=100,\n",
       "                   multi_class='auto', n_jobs=None, penalty='l2',\n",
       "                   random_state=None, solver='lbfgs', tol=0.0001, verbose=0,\n",
       "                   warm_start=False)"
      ]
     },
     "execution_count": 217,
     "metadata": {},
     "output_type": "execute_result"
    }
   ],
   "source": [
    "from sklearn.linear_model import LogisticRegression\n",
    "\n",
    "lr = LogisticRegression()\n",
    "\n",
    "lr.fit(X_train_new, y_train)"
   ]
  },
  {
   "cell_type": "code",
   "execution_count": 218,
   "metadata": {},
   "outputs": [
    {
     "data": {
      "text/plain": [
       "0.7114093959731543"
      ]
     },
     "execution_count": 218,
     "metadata": {},
     "output_type": "execute_result"
    }
   ],
   "source": [
    "accuracy_score(y_train, lr.predict(X_train_new))"
   ]
  },
  {
   "cell_type": "code",
   "execution_count": 219,
   "metadata": {},
   "outputs": [
    {
     "data": {
      "text/plain": [
       "0.64"
      ]
     },
     "execution_count": 219,
     "metadata": {},
     "output_type": "execute_result"
    }
   ],
   "source": [
    "accuracy_score(y_test, lr.predict(X_test_new))"
   ]
  },
  {
   "cell_type": "code",
   "execution_count": 220,
   "metadata": {},
   "outputs": [
    {
     "data": {
      "text/plain": [
       "8"
      ]
     },
     "execution_count": 220,
     "metadata": {},
     "output_type": "execute_result"
    }
   ],
   "source": [
    "y_train.nunique()"
   ]
  },
  {
   "cell_type": "code",
   "execution_count": 221,
   "metadata": {},
   "outputs": [],
   "source": [
    "from sklearn.metrics import precision_score, recall_score\n",
    "\n"
   ]
  },
  {
   "cell_type": "code",
   "execution_count": 222,
   "metadata": {},
   "outputs": [
    {
     "data": {
      "text/plain": [
       "(0.6728187919463087, 0.6333333333333333, 0.7114093959731543, 0.64)"
      ]
     },
     "execution_count": 222,
     "metadata": {},
     "output_type": "execute_result"
    }
   ],
   "source": [
    "precision_score(y_train, gcv.predict(X_train_new), average='micro'), precision_score(y_test, gcv.predict(X_test_new), average='micro'), precision_score(y_train, lr.predict(X_train_new), average='micro'),precision_score(y_test, lr.predict(X_test_new), average='micro')"
   ]
  },
  {
   "cell_type": "code",
   "execution_count": 223,
   "metadata": {},
   "outputs": [
    {
     "data": {
      "text/plain": [
       "(0.6728187919463087, 0.6333333333333333, 0.7114093959731543, 0.64)"
      ]
     },
     "execution_count": 223,
     "metadata": {},
     "output_type": "execute_result"
    }
   ],
   "source": [
    "recall_score(y_train, gcv.predict(X_train_new), average='micro'), recall_score(y_test, gcv.predict(X_test_new), average='micro'), recall_score(y_train, lr.predict(X_train_new), average='micro'),recall_score(y_test, lr.predict(X_test_new), average='micro')"
   ]
  },
  {
   "cell_type": "code",
   "execution_count": 227,
   "metadata": {},
   "outputs": [],
   "source": [
    "df = pd.DataFrame({'predicted': lr.predict(X_test_new), 'true_y': y_test})"
   ]
  },
  {
   "cell_type": "code",
   "execution_count": 231,
   "metadata": {},
   "outputs": [
    {
     "data": {
      "text/plain": [
       "(96, 2)"
      ]
     },
     "execution_count": 231,
     "metadata": {},
     "output_type": "execute_result"
    }
   ],
   "source": [
    "df[df['predicted'] == df['true_y']].shape"
   ]
  },
  {
   "cell_type": "code",
   "execution_count": null,
   "metadata": {},
   "outputs": [],
   "source": []
  }
 ],
 "metadata": {
  "kernelspec": {
   "display_name": "Python 3",
   "language": "python",
   "name": "python3"
  },
  "language_info": {
   "codemirror_mode": {
    "name": "ipython",
    "version": 3
   },
   "file_extension": ".py",
   "mimetype": "text/x-python",
   "name": "python",
   "nbconvert_exporter": "python",
   "pygments_lexer": "ipython3",
   "version": "3.7.6"
  }
 },
 "nbformat": 4,
 "nbformat_minor": 4
}
